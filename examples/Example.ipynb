{
 "cells": [
  {
   "cell_type": "code",
   "execution_count": 1,
   "metadata": {},
   "outputs": [
    {
     "data": {
      "application/vnd.jupyter.widget-view+json": {
       "model_id": "c8bbcdfbb19345918adda7ba56ac1e25",
       "version_major": 2,
       "version_minor": 0
      },
      "text/plain": []
     },
     "metadata": {},
     "output_type": "display_data"
    },
    {
     "name": "stderr",
     "output_type": "stream",
     "text": [
      "/localhome/cschiebroek/.conda/envs/mdfp_carl/lib/python3.11/site-packages/parmed/structure.py:1775: UnitStrippedWarning: The unit of the quantity is stripped when downcasting to ndarray.\n",
      "  coords = np.array(value, dtype=np.float64, copy=False, subok=True)\n"
     ]
    },
    {
     "data": {
      "text/plain": [
       "<Structure 1497 atoms; 496 residues; 1002 bonds; PBC (orthogonal); parameterized>"
      ]
     },
     "execution_count": 1,
     "metadata": {},
     "output_type": "execute_result"
    }
   ],
   "source": [
    "import Parameteriser\n",
    "from Simulator import SolutionSimulator\n",
    "\n",
    "rdk_pmd = Parameteriser.SolutionParameteriser.via_rdkit(\"c1ccccc1\")\n",
    "rdk_pmd\n"
   ]
  },
  {
   "cell_type": "code",
   "execution_count": 2,
   "metadata": {},
   "outputs": [
    {
     "name": "stderr",
     "output_type": "stream",
     "text": [
      "[17:10:50] Molecule does not have explicit Hs. Consider calling AddHs()\n",
      "/localhome/cschiebroek/.conda/envs/mdfp_carl/lib/python3.11/site-packages/parmed/structure.py:1775: UnitStrippedWarning: The unit of the quantity is stripped when downcasting to ndarray.\n",
      "  coords = np.array(value, dtype=np.float64, copy=False, subok=True)\n"
     ]
    },
    {
     "data": {
      "text/plain": [
       "<Structure 1500 atoms; 497 residues; 1004 bonds; PBC (orthogonal); parameterized>"
      ]
     },
     "execution_count": 2,
     "metadata": {},
     "output_type": "execute_result"
    }
   ],
   "source": [
    "import Parameteriser\n",
    "from Simulator import SolutionSimulator\n",
    "from rdkit import Chem\n",
    "mol = Chem.MolFromSmiles(\"c1ccccc1\")\n",
    "from rdkit.Chem import rdDistGeom\n",
    "rdDistGeom.EmbedMolecule(mol)\n",
    "rdk_pmd = Parameteriser.SolutionParameteriser.via_rdkit(mol = mol)\n",
    "rdk_pmd"
   ]
  },
  {
   "cell_type": "code",
   "execution_count": 1,
   "metadata": {},
   "outputs": [
    {
     "data": {
      "application/vnd.jupyter.widget-view+json": {
       "model_id": "eb8ed43faf4f4e5fb4eedd51f30cfd73",
       "version_major": 2,
       "version_minor": 0
      },
      "text/plain": []
     },
     "metadata": {},
     "output_type": "display_data"
    },
    {
     "name": "stderr",
     "output_type": "stream",
     "text": [
      "/localhome/cschiebroek/.conda/envs/mdfp_carl/lib/python3.11/site-packages/parmed/structure.py:1775: UnitStrippedWarning: The unit of the quantity is stripped when downcasting to ndarray.\n",
      "  coords = np.array(value, dtype=np.float64, copy=False, subok=True)\n"
     ]
    },
    {
     "data": {
      "text/plain": [
       "<Structure 1494 atoms; 495 residues; 1000 bonds; PBC (orthogonal); parameterized>"
      ]
     },
     "execution_count": 1,
     "metadata": {},
     "output_type": "execute_result"
    }
   ],
   "source": [
    "import Parameteriser_constrained\n",
    "from Simulator import SolutionSimulator\n",
    "\n",
    "rdk_pmd_constrained = Parameteriser_constrained.SolutionParameteriser.via_rdkit(\"c1ccccc1\")\n",
    "rdk_pmd_constrained\n"
   ]
  },
  {
   "cell_type": "code",
   "execution_count": 3,
   "metadata": {},
   "outputs": [
    {
     "ename": "AttributeError",
     "evalue": "'NoneType' object has no attribute 'req'",
     "output_type": "error",
     "traceback": [
      "\u001b[0;31m---------------------------------------------------------------------------\u001b[0m",
      "\u001b[0;31mAttributeError\u001b[0m                            Traceback (most recent call last)",
      "Cell \u001b[0;32mIn[3], line 2\u001b[0m\n\u001b[1;32m      1\u001b[0m \u001b[39mfrom\u001b[39;00m \u001b[39mSimulator\u001b[39;00m \u001b[39mimport\u001b[39;00m SolutionSimulator\n\u001b[0;32m----> 2\u001b[0m SolutionSimulator\u001b[39m.\u001b[39;49mvia_openmm(rdk_pmd_constrained, file_name \u001b[39m=\u001b[39;49m \u001b[39m\"\u001b[39;49m\u001b[39mbenzene_constrained\u001b[39;49m\u001b[39m\"\u001b[39;49m, file_path \u001b[39m=\u001b[39;49m \u001b[39m\"\u001b[39;49m\u001b[39m./\u001b[39;49m\u001b[39m\"\u001b[39;49m, \n\u001b[1;32m      3\u001b[0m                              platform \u001b[39m=\u001b[39;49m \u001b[39m\"\u001b[39;49m\u001b[39mCUDA\u001b[39;49m\u001b[39m\"\u001b[39;49m, num_steps \u001b[39m=\u001b[39;49m \u001b[39m5000\u001b[39;49m \u001b[39m*\u001b[39;49m \u001b[39m500\u001b[39;49m)\n",
      "File \u001b[0;32m/localhome/cschiebroek/MDFPs/mdfptools-1/examples/Simulator.py:69\u001b[0m, in \u001b[0;36mBaseSimulator.via_openmm\u001b[0;34m(cls, parmed_obj, file_name, file_path, platform, num_steps, write_out_freq, report_equilibration, report_production, constrain_all_bonds, **kwargs)\u001b[0m\n\u001b[1;32m     66\u001b[0m constrain_what_bond \u001b[39m=\u001b[39m app\u001b[39m.\u001b[39mAllBonds \u001b[39mif\u001b[39;00m constrain_all_bonds \u001b[39melse\u001b[39;00m app\u001b[39m.\u001b[39mHBonds\n\u001b[1;32m     67\u001b[0m \u001b[39m# print(constrain_what_bond)\u001b[39;00m\n\u001b[1;32m     68\u001b[0m \u001b[39m##################3\u001b[39;00m\n\u001b[0;32m---> 69\u001b[0m system \u001b[39m=\u001b[39m pmd\u001b[39m.\u001b[39;49mcreateSystem(nonbondedMethod\u001b[39m=\u001b[39;49mapp\u001b[39m.\u001b[39;49mPME, nonbondedCutoff\u001b[39m=\u001b[39;49m\u001b[39m1\u001b[39;49m\u001b[39m*\u001b[39;49munit\u001b[39m.\u001b[39;49mnanometer, constraints\u001b[39m=\u001b[39;49mapp\u001b[39m.\u001b[39;49mHBonds, rigidWater\u001b[39m=\u001b[39;49m\u001b[39mFalse\u001b[39;49;00m)\n\u001b[1;32m     70\u001b[0m \u001b[39m# tmp_dir = tempfile.mkdtemp(dir = file_path) #FIXME just change this to debug dir in dubug mode\u001b[39;00m\n\u001b[1;32m     71\u001b[0m \u001b[39m# pmd.save(\"{}/tmp.inpcrd\".format(tmp_dir), overwrite = True)\u001b[39;00m\n\u001b[1;32m     72\u001b[0m \u001b[39m# inpcrd = app.AmberInpcrdFile(\"{}/tmp.inpcrd\".format(tmp_dir))\u001b[39;00m\n\u001b[0;32m   (...)\u001b[0m\n\u001b[1;32m     75\u001b[0m \u001b[39m# system = prmtop.createSystem(nonbondedMethod=app.PME, nonbondedCutoff=1*unit.nanometer, constraints=constrain_what_bond)\u001b[39;00m\n\u001b[1;32m     76\u001b[0m \u001b[39m#####################3\u001b[39;00m\n\u001b[1;32m     78\u001b[0m thermostat \u001b[39m=\u001b[39m AndersenThermostat(\u001b[39mcls\u001b[39m\u001b[39m.\u001b[39mtemperature, \u001b[39m1\u001b[39m\u001b[39m/\u001b[39munit\u001b[39m.\u001b[39mpicosecond)\n",
      "File \u001b[0;32m/localhome/cschiebroek/.conda/envs/mdfp_carl/lib/python3.11/site-packages/parmed/utils/decorators.py:18\u001b[0m, in \u001b[0;36mneeds_openmm.<locals>.new_fcn\u001b[0;34m(*args, **kwargs)\u001b[0m\n\u001b[1;32m     16\u001b[0m \u001b[39mif\u001b[39;00m \u001b[39mnot\u001b[39;00m HAS_OPENMM:\n\u001b[1;32m     17\u001b[0m     \u001b[39mraise\u001b[39;00m \u001b[39mImportError\u001b[39;00m(\u001b[39m'\u001b[39m\u001b[39mCould not find or import OpenMM version 7.0+\u001b[39m\u001b[39m'\u001b[39m)\n\u001b[0;32m---> 18\u001b[0m \u001b[39mreturn\u001b[39;00m fcn(\u001b[39m*\u001b[39;49margs, \u001b[39m*\u001b[39;49m\u001b[39m*\u001b[39;49mkwargs)\n",
      "File \u001b[0;32m/localhome/cschiebroek/.conda/envs/mdfp_carl/lib/python3.11/site-packages/parmed/structure.py:2102\u001b[0m, in \u001b[0;36mStructure.createSystem\u001b[0;34m(self, nonbondedMethod, nonbondedCutoff, switchDistance, constraints, rigidWater, implicitSolvent, implicitSolventKappa, implicitSolventSaltConc, temperature, soluteDielectric, solventDielectric, useSASA, removeCMMotion, hydrogenMass, ewaldErrorTolerance, flexibleConstraints, splitDihedrals, drudeMass, **kwargs)\u001b[0m\n\u001b[1;32m   2100\u001b[0m \u001b[39mfor\u001b[39;00m mass \u001b[39min\u001b[39;00m masses:\n\u001b[1;32m   2101\u001b[0m     system\u001b[39m.\u001b[39maddParticle(mass)\n\u001b[0;32m-> 2102\u001b[0m \u001b[39mself\u001b[39;49m\u001b[39m.\u001b[39;49momm_add_constraints(system, constraints, rigidWater)\n\u001b[1;32m   2103\u001b[0m \u001b[39m# Prune empty terms if we have changed\u001b[39;00m\n\u001b[1;32m   2104\u001b[0m \u001b[39mif\u001b[39;00m \u001b[39mself\u001b[39m\u001b[39m.\u001b[39mis_changed():\n",
      "File \u001b[0;32m/localhome/cschiebroek/.conda/envs/mdfp_carl/lib/python3.11/site-packages/parmed/utils/decorators.py:18\u001b[0m, in \u001b[0;36mneeds_openmm.<locals>.new_fcn\u001b[0;34m(*args, **kwargs)\u001b[0m\n\u001b[1;32m     16\u001b[0m \u001b[39mif\u001b[39;00m \u001b[39mnot\u001b[39;00m HAS_OPENMM:\n\u001b[1;32m     17\u001b[0m     \u001b[39mraise\u001b[39;00m \u001b[39mImportError\u001b[39;00m(\u001b[39m'\u001b[39m\u001b[39mCould not find or import OpenMM version 7.0+\u001b[39m\u001b[39m'\u001b[39m)\n\u001b[0;32m---> 18\u001b[0m \u001b[39mreturn\u001b[39;00m fcn(\u001b[39m*\u001b[39;49margs, \u001b[39m*\u001b[39;49m\u001b[39m*\u001b[39;49mkwargs)\n",
      "File \u001b[0;32m/localhome/cschiebroek/.conda/envs/mdfp_carl/lib/python3.11/site-packages/parmed/structure.py:2225\u001b[0m, in \u001b[0;36mStructure.omm_add_constraints\u001b[0;34m(self, system, constraints, rigidWater)\u001b[0m\n\u001b[1;32m   2222\u001b[0m \u001b[39mfor\u001b[39;00m bond \u001b[39min\u001b[39;00m \u001b[39mself\u001b[39m\u001b[39m.\u001b[39mbonds:\n\u001b[1;32m   2223\u001b[0m     \u001b[39mif\u001b[39;00m \u001b[39mfrozenset\u001b[39m((bond\u001b[39m.\u001b[39matom1\u001b[39m.\u001b[39midx, bond\u001b[39m.\u001b[39matom2\u001b[39m.\u001b[39midx)) \u001b[39min\u001b[39;00m constraint_bond_set:\n\u001b[1;32m   2224\u001b[0m         system\u001b[39m.\u001b[39maddConstraint(\n\u001b[0;32m-> 2225\u001b[0m             bond\u001b[39m.\u001b[39matom1\u001b[39m.\u001b[39midx, bond\u001b[39m.\u001b[39matom2\u001b[39m.\u001b[39midx, bond\u001b[39m.\u001b[39;49mtype\u001b[39m.\u001b[39;49mreq \u001b[39m*\u001b[39m length_conv)\n\u001b[1;32m   2227\u001b[0m \u001b[39mif\u001b[39;00m constraints \u001b[39mis\u001b[39;00m app\u001b[39m.\u001b[39mHAngles:\n\u001b[1;32m   2228\u001b[0m     \u001b[39mfor\u001b[39;00m angle \u001b[39min\u001b[39;00m \u001b[39mself\u001b[39m\u001b[39m.\u001b[39mangles:\n",
      "\u001b[0;31mAttributeError\u001b[0m: 'NoneType' object has no attribute 'req'"
     ]
    }
   ],
   "source": [
    "from Simulator import SolutionSimulator\n",
    "SolutionSimulator.via_openmm(rdk_pmd_constrained, file_name = \"benzene_constrained\", file_path = \"./\", \n",
    "                             platform = \"CUDA\", num_steps = 5000 * 500)"
   ]
  },
  {
   "cell_type": "code",
   "execution_count": 9,
   "metadata": {},
   "outputs": [
    {
     "data": {
      "text/plain": [
       "'/localhome/cschiebroek/MDFPs/mdfptools-1/examples/benzene.h5'"
      ]
     },
     "execution_count": 9,
     "metadata": {},
     "output_type": "execute_result"
    }
   ],
   "source": [
    "SolutionSimulator.via_openmm(rdk_pmd, file_name = \"benzene\", file_path = \"./\", \n",
    "                             platform = \"CUDA\", num_steps = 5000 * 500)"
   ]
  },
  {
   "cell_type": "code",
   "execution_count": 10,
   "metadata": {},
   "outputs": [
    {
     "name": "stderr",
     "output_type": "stream",
     "text": [
      "/localhome/cschiebroek/.conda/envs/mdfp_carl/lib/python3.11/site-packages/mdtraj/core/trajectory.py:439: UserWarning: top= kwargs ignored since this file parser does not support it\n",
      "  warnings.warn('top= kwargs ignored since this file parser does not support it')\n"
     ]
    }
   ],
   "source": [
    "#First load in the simulated trajectory\n",
    "import mdtraj as md\n",
    "traj = md.load(\"./benzene.h5\")"
   ]
  },
  {
   "cell_type": "code",
   "execution_count": 15,
   "metadata": {},
   "outputs": [],
   "source": [
    "from Composer import SolutionComposer\n",
    "mdfp = SolutionComposer.run(traj, rdk_pmd,smiles=\"c1ccccc1\")"
   ]
  },
  {
   "cell_type": "markdown",
   "metadata": {},
   "source": [
    "The returned object from a Composer is a `MDFP` object. As can be seen from above, it contains more information.\n",
    "To use it for the subsequent machine learning tasks, call the `get_mdfp()` method to get the feature vectors (i.e. just the values not the keys)"
   ]
  },
  {
   "cell_type": "code",
   "execution_count": 27,
   "metadata": {},
   "outputs": [
    {
     "name": "stdout",
     "output_type": "stream",
     "text": [
      "[6, 0, 0, 0, 0, 0, 0, 0, 0, 0, 8.449853464132135, 0.08582111145660468, 8.441295681995182, 22.377345228101785, 0.554998685766172, 22.257757119441322, -16.95474881151296, 9.940047292255558, -16.481335399377038, -15.582322274073302, 5.718904951407143, -16.232199446655756, 30.827198692233917, 0.5674452115357036, 30.698609726670785, -32.53707108558626, 9.473301252108618, -32.46123091060353, 0.15048547845062343, 7.22533132975676e-05, 0.1505005645108472, 2.4337163, 0.008083881, 2.4337869]\n"
     ]
    }
   ],
   "source": [
    "print(mdfp.get_mdfp())"
   ]
  },
  {
   "cell_type": "code",
   "execution_count": 29,
   "metadata": {},
   "outputs": [
    {
     "ename": "AttributeError",
     "evalue": "'NoneType' object has no attribute 'used'",
     "output_type": "error",
     "traceback": [
      "\u001b[0;31m---------------------------------------------------------------------------\u001b[0m",
      "\u001b[0;31mAttributeError\u001b[0m                            Traceback (most recent call last)",
      "Cell \u001b[0;32mIn[29], line 18\u001b[0m\n\u001b[1;32m     16\u001b[0m openmm_system \u001b[39m=\u001b[39m forcefield\u001b[39m.\u001b[39mcreate_openmm_system(topology, charge_from_molecules\u001b[39m=\u001b[39m[molecule])\n\u001b[1;32m     17\u001b[0m structure \u001b[39m=\u001b[39m  parmed\u001b[39m.\u001b[39mopenmm\u001b[39m.\u001b[39mtopsystem\u001b[39m.\u001b[39mload_topology(topology\u001b[39m.\u001b[39mto_openmm(), openmm_system, [[\u001b[39m1\u001b[39m,\u001b[39m0\u001b[39m,\u001b[39m0\u001b[39m],[\u001b[39m0\u001b[39m,\u001b[39m1\u001b[39m,\u001b[39m0\u001b[39m],[\u001b[39m0\u001b[39m,\u001b[39m0\u001b[39m,\u001b[39m1\u001b[39m]])\n\u001b[0;32m---> 18\u001b[0m structure\u001b[39m.\u001b[39;49msave(\u001b[39m\"\u001b[39;49m\u001b[39mtip3p_updated_carl.prmtop\u001b[39;49m\u001b[39m\"\u001b[39;49m)\n",
      "File \u001b[0;32m/localhome/cschiebroek/.conda/envs/mdfp_carl/lib/python3.11/site-packages/parmed/structure.py:1566\u001b[0m, in \u001b[0;36mStructure.save\u001b[0;34m(self, fname, format, overwrite, **kwargs)\u001b[0m\n\u001b[1;32m   1564\u001b[0m \u001b[39melse\u001b[39;00m:\n\u001b[1;32m   1565\u001b[0m     \u001b[39mtry\u001b[39;00m:\n\u001b[0;32m-> 1566\u001b[0m         s \u001b[39m=\u001b[39m amber\u001b[39m.\u001b[39;49mAmberParm\u001b[39m.\u001b[39;49mfrom_structure(\u001b[39mself\u001b[39;49m)\n\u001b[1;32m   1567\u001b[0m     \u001b[39mexcept\u001b[39;00m \u001b[39mTypeError\u001b[39;00m \u001b[39mas\u001b[39;00m e:\n\u001b[1;32m   1568\u001b[0m         \u001b[39mif\u001b[39;00m \u001b[39m'\u001b[39m\u001b[39mCannot translate exceptions\u001b[39m\u001b[39m'\u001b[39m \u001b[39min\u001b[39;00m \u001b[39mstr\u001b[39m(e):\n",
      "File \u001b[0;32m/localhome/cschiebroek/.conda/envs/mdfp_carl/lib/python3.11/site-packages/parmed/amber/_amberparm.py:331\u001b[0m, in \u001b[0;36mAmberParm.from_structure\u001b[0;34m(cls, struct, copy)\u001b[0m\n\u001b[1;32m    326\u001b[0m \u001b[39m# pmemd likes to skip torsions with periodicities of 0, which may be\u001b[39;00m\n\u001b[1;32m    327\u001b[0m \u001b[39m# present as a way to hack entries into the 1-4 pairlist. See\u001b[39;00m\n\u001b[1;32m    328\u001b[0m \u001b[39m# https://github.com/ParmEd/ParmEd/pull/145 for discussion. The solution\u001b[39;00m\n\u001b[1;32m    329\u001b[0m \u001b[39m# here is to simply set that periodicity to 1.\u001b[39;00m\n\u001b[1;32m    330\u001b[0m inst\u001b[39m.\u001b[39m_cleanup_dihedrals_with_periodicity_zero()\n\u001b[0;32m--> 331\u001b[0m inst\u001b[39m.\u001b[39;49mremake_parm()\n\u001b[1;32m    332\u001b[0m inst\u001b[39m.\u001b[39m_set_nonbonded_tables(nbfixes)\n\u001b[1;32m    333\u001b[0m n_copy \u001b[39m=\u001b[39m inst\u001b[39m.\u001b[39mpointers\u001b[39m.\u001b[39mget(\u001b[39m'\u001b[39m\u001b[39mNCOPY\u001b[39m\u001b[39m'\u001b[39m, \u001b[39m1\u001b[39m)\n",
      "File \u001b[0;32m/localhome/cschiebroek/.conda/envs/mdfp_carl/lib/python3.11/site-packages/parmed/amber/_amberparm.py:655\u001b[0m, in \u001b[0;36mAmberParm.remake_parm\u001b[0;34m(self)\u001b[0m\n\u001b[1;32m    653\u001b[0m \u001b[39mself\u001b[39m\u001b[39m.\u001b[39m_xfer_atom_info()\n\u001b[1;32m    654\u001b[0m \u001b[39mself\u001b[39m\u001b[39m.\u001b[39m_xfer_residue_info()\n\u001b[0;32m--> 655\u001b[0m \u001b[39mself\u001b[39;49m\u001b[39m.\u001b[39;49m_xfer_bond_info()\n\u001b[1;32m    656\u001b[0m \u001b[39mself\u001b[39m\u001b[39m.\u001b[39m_xfer_angle_info()\n\u001b[1;32m    657\u001b[0m \u001b[39mself\u001b[39m\u001b[39m.\u001b[39m_xfer_dihedral_info()\n",
      "File \u001b[0;32m/localhome/cschiebroek/.conda/envs/mdfp_carl/lib/python3.11/site-packages/parmed/amber/_amberparm.py:1560\u001b[0m, in \u001b[0;36mAmberParm._xfer_bond_info\u001b[0;34m(self)\u001b[0m\n\u001b[1;32m   1558\u001b[0m     bond_type\u001b[39m.\u001b[39mused \u001b[39m=\u001b[39m \u001b[39mFalse\u001b[39;00m\n\u001b[1;32m   1559\u001b[0m \u001b[39mfor\u001b[39;00m bond \u001b[39min\u001b[39;00m \u001b[39mself\u001b[39m\u001b[39m.\u001b[39mbonds:\n\u001b[0;32m-> 1560\u001b[0m     bond\u001b[39m.\u001b[39;49mtype\u001b[39m.\u001b[39;49mused \u001b[39m=\u001b[39m \u001b[39mTrue\u001b[39;00m\n\u001b[1;32m   1561\u001b[0m \u001b[39mself\u001b[39m\u001b[39m.\u001b[39mbond_types\u001b[39m.\u001b[39mprune_unused()\n\u001b[1;32m   1562\u001b[0m data[\u001b[39m'\u001b[39m\u001b[39mBOND_FORCE_CONSTANT\u001b[39m\u001b[39m'\u001b[39m] \u001b[39m=\u001b[39m [\u001b[39mtype\u001b[39m\u001b[39m.\u001b[39mk \u001b[39mfor\u001b[39;00m \u001b[39mtype\u001b[39m \u001b[39min\u001b[39;00m \u001b[39mself\u001b[39m\u001b[39m.\u001b[39mbond_types]\n",
      "\u001b[0;31mAttributeError\u001b[0m: 'NoneType' object has no attribute 'used'"
     ]
    }
   ],
   "source": [
    "from openff.toolkit.utils import get_data_file_path\n",
    "from openff.toolkit.topology import Molecule, Topology\n",
    "from openff.toolkit.typing.engines.smirnoff import ForceField\n",
    "import numpy as np\n",
    "from simtk import unit\n",
    "from openff.toolkit.typing.engines.smirnoff.parameters import LibraryChargeHandler\n",
    "import parmed\n",
    "\n",
    "sdf_filepath = get_data_file_path('systems/monomers/water.sdf')\n",
    "molecule = Molecule(sdf_filepath)\n",
    "molecule.partial_charges = np.asarray([-0.7850000262260437,0.39250001311302185,0.39250001311302185]) * unit.elementary_charge\n",
    "library_charge_type = LibraryChargeHandler.LibraryChargeType.from_molecule(molecule)\n",
    "forcefield = ForceField(\"openff_unconstrained-2.1.0.offxml\")\n",
    "forcefield[\"LibraryCharges\"].add_parameter(parameter=library_charge_type)\n",
    "topology = molecule.to_topology()\n",
    "openmm_system = forcefield.create_openmm_system(topology, charge_from_molecules=[molecule])\n",
    "structure =  parmed.openmm.topsystem.load_topology(topology.to_openmm(), openmm_system, [[1,0,0],[0,1,0],[0,0,1]])\n",
    "structure.save(\"tip3p_updated_carl.prmtop\")"
   ]
  },
  {
   "cell_type": "code",
   "execution_count": 35,
   "metadata": {},
   "outputs": [
    {
     "name": "stderr",
     "output_type": "stream",
     "text": [
      "/localhome/cschiebroek/.conda/envs/mdfp_carl/lib/python3.11/site-packages/parmed/structure.py:1775: UnitStrippedWarning: The unit of the quantity is stripped when downcasting to ndarray.\n",
      "  coords = np.array(value, dtype=np.float64, copy=False, subok=True)\n"
     ]
    }
   ],
   "source": [
    "smiles = 'c1ccccc1'\n",
    "rdk_pmd = Parameteriser.SolutionParameteriser.via_rdkit(smiles)\n",
    "rdk_pmd.\n",
    "# ch = forcefield.get_parameter_handler('Constraints')\n",
    "# ch.add_parameter({'smirks': '[#1:1]-[*:2]'})\n",
    "# print(ch)"
   ]
  },
  {
   "cell_type": "code",
   "execution_count": 22,
   "metadata": {},
   "outputs": [
    {
     "name": "stdout",
     "output_type": "stream",
     "text": [
      "[(5, '?'), (7, 'R'), (10, 'R'), (12, 'S')]\n",
      "1\n"
     ]
    },
    {
     "data": {
      "image/png": "[encoded data removed]",
      "text/plain": [
       "<rdkit.Chem.rdchem.Mol at 0x7faabf399e00>"
      ]
     },
     "execution_count": 22,
     "metadata": {},
     "output_type": "execute_result"
    }
   ],
   "source": [
    "from rdkit import Chem\n",
    "from rdkit.Chem import Draw\n",
    "from rdkit.Chem.Draw import IPythonConsole\n",
    "from rdkit.Chem import rdMolDescriptors\n",
    "IPythonConsole.drawOptions.addAtomIndices=True\n",
    "IPythonConsole.drawOptions.addHydrogens=True\n",
    "IPythonConsole.molSize = (800,400)\n",
    "#also show the hydrogens\n",
    "\n",
    "mol = Chem.MolFromSmiles('[CH3]-[CH2]-[CH2]-[CH2]-[CH2]-[CH2]-[CH2]-[CH2]-[CH2]-[CH2]-[CH2]-[CH2]-[CH2]-[CH2]-[CH2]-[CH2]-[CH2]-[C](=[O])-[O]-[CH2]-[CH](-[OH])-[C@H]1-[O]-[CH2]-[C@@H](-[OH])-[C@@H]-1-[OH]')\n",
    "mol = Chem.MolFromSmiles('[CH2]-[C](=[O])-[O]-[CH2]-[CH](-[OH])-[C@H]1-[O]-[CH2]-[C@@H](-[OH])-[C@@H]-1-[OH]')\n",
    "\n",
    "print(Chem.FindMolChiralCenters(mol,force=True,includeUnassigned=True))\n",
    "print(rdMolDescriptors.CalcNumUnspecifiedAtomStereoCenters(mol))\n",
    "\n",
    "Chem.AddHs(mol)"
   ]
  },
  {
   "cell_type": "code",
   "execution_count": 28,
   "metadata": {},
   "outputs": [
    {
     "name": "stdout",
     "output_type": "stream",
     "text": [
      "Smiles:  CCCCCCCCCCCCCCCCCC(=O)OC[C@H](O)[C@H]1OC[C@@H](O)[C@@H]1O\n",
      "Chiral centers:  [(21, 'S'), (23, 'R'), (26, 'R'), (28, 'S')]\n",
      "Undenifed Chiral centers:  0\n",
      "Conformer generation successful\n",
      "\n",
      "Smiles:  CCCCCCCCCCCCCCCCCC(=O)OC[C@@H](O)[C@H]1OC[C@@H](O)[C@@H]1O\n",
      "Chiral centers:  [(21, 'R'), (23, 'R'), (26, 'R'), (28, 'S')]\n",
      "Undenifed Chiral centers:  0\n",
      "Conformer generation successful\n",
      "\n"
     ]
    }
   ],
   "source": [
    "from rdkit.Chem import EnumerateStereoisomers\n",
    "from rdkit.Chem import rdMolDescriptors\n",
    "from rdkit.Chem import rdDistGeom\n",
    "ps = rdDistGeom.ETKDGv3()\n",
    "ps.randomSeed = 0xf00d\n",
    "mol = Chem.MolFromSmiles('[CH3]-[CH2]-[CH2]-[CH2]-[CH2]-[CH2]-[CH2]-[CH2]-[CH2]-[CH2]-[CH2]-[CH2]-[CH2]-[CH2]-[CH2]-[CH2]-[CH2]-[C](=[O])-[O]-[CH2]-[CH](-[OH])-[C@H]1-[O]-[CH2]-[C@@H](-[OH])-[C@@H]-1-[OH]')\n",
    "for m in (EnumerateStereoisomers.EnumerateStereoisomers(mol)):\n",
    "    print('Smiles: ', Chem.MolToSmiles(m,isomericSmiles=True))\n",
    "    print('Chiral centers: ' , Chem.FindMolChiralCenters(m,force=True,includeUnassigned=True))\n",
    "    print('Undenifed Chiral centers: ', rdMolDescriptors.CalcNumUnspecifiedAtomStereoCenters(m))\n",
    "    mh = Chem.AddHs(m)\n",
    "    if rdDistGeom.EmbedMolecule(mh,ps) == 0:\n",
    "        print('Conformer generation successful')\n",
    "    else:\n",
    "        print('Conformer generation failed')\n",
    "    print('')\n",
    "    \n"
   ]
  },
  {
   "cell_type": "code",
   "execution_count": 14,
   "metadata": {},
   "outputs": [
    {
     "name": "stdout",
     "output_type": "stream",
     "text": [
      "2023.03.3\n",
      "0\n",
      "0\n"
     ]
    }
   ],
   "source": [
    "from rdkit import Chem\n",
    "from rdkit.Chem import EnumerateStereoisomers\n",
    "\n",
    "from rdkit.Chem import rdDistGeom\n",
    "from rdkit.Chem import rdDepictor\n",
    "rdDepictor.SetPreferCoordGen(True)\n",
    "from rdkit.Chem.Draw import IPythonConsole\n",
    "IPythonConsole.ipython_3d = True\n",
    "import rdkit\n",
    "print(rdkit.__version__)\n",
    "mol = Chem.MolFromSmiles('[CH3]-[CH2]-[CH2]-[CH2]-[CH2]-[CH2]-[CH2]-[CH2]-[CH2]-[CH2]-[CH2]-[CH2]-[CH2]-[CH2]-[CH2]-[CH2]-[CH2]-[C](=[O])-[O]-[CH2]-[CH](-[OH])-[C@H]1-[O]-[CH2]-[C@@H](-[OH])-[C@@H]-1-[OH]')\n",
    "mols_3d = []\n",
    "for m in (EnumerateStereoisomers.EnumerateStereoisomers(mol)):\n",
    "    mh = Chem.AddHs(m)\n",
    "    ps = rdDistGeom.ETKDGv3()\n",
    "    ps.randomSeed = 0xf00d\n",
    "    print(rdDistGeom.EmbedMolecule(mh,ps))\n",
    "    mols_3d.append(mh)\n"
   ]
  },
  {
   "cell_type": "code",
   "execution_count": 20,
   "metadata": {},
   "outputs": [
    {
     "name": "stderr",
     "output_type": "stream",
     "text": [
      "[14:56:58] SMILES Parse Error: syntax error while parsing: [CH3]-[CH2]-[CH2]-[CH2]-[CH2]-[CH2]-[CH2]-[CH2]-[CH2]-[CH2]-[CH2]-[CH2]-[CH2]-[CH2]-[CH2]-[CH2]-[CH2]-[C](=[O])-[O]-[CH2]-[CH](-[@OH])-[C@H]1-[O]-[CH2]-[C@@H](-[OH])-[C@@H]-1-[OH]\n",
      "[14:56:58] SMILES Parse Error: Failed parsing SMILES '[CH3]-[CH2]-[CH2]-[CH2]-[CH2]-[CH2]-[CH2]-[CH2]-[CH2]-[CH2]-[CH2]-[CH2]-[CH2]-[CH2]-[CH2]-[CH2]-[CH2]-[C](=[O])-[O]-[CH2]-[CH](-[@OH])-[C@H]1-[O]-[CH2]-[C@@H](-[OH])-[C@@H]-1-[OH]' for input: '[CH3]-[CH2]-[CH2]-[CH2]-[CH2]-[CH2]-[CH2]-[CH2]-[CH2]-[CH2]-[CH2]-[CH2]-[CH2]-[CH2]-[CH2]-[CH2]-[CH2]-[C](=[O])-[O]-[CH2]-[CH](-[@OH])-[C@H]1-[O]-[CH2]-[C@@H](-[OH])-[C@@H]-1-[OH]'\n"
     ]
    }
   ],
   "source": [
    "mol = Chem.MolFromSmiles('[CH3]-[CH2]-[CH2]-[CH2]-[CH2]-[CH2]-[CH2]-[CH2]-[CH2]-[CH2]-[CH2]-[CH2]-[CH2]-[CH2]-[CH2]-[CH2]-[CH2]-[C](=[O])-[O]-[CH2]-[CH](-[@OH])-[C@H]1-[O]-[CH2]-[C@@H](-[OH])-[C@@H]-1-[OH]')\n"
   ]
  },
  {
   "cell_type": "code",
   "execution_count": 19,
   "metadata": {},
   "outputs": [
    {
     "data": {
      "image/png": "[encoded data removed]",
      "text/plain": [
       "<rdkit.Chem.rdchem.Mol at 0x7f98de877b50>"
      ]
     },
     "execution_count": 19,
     "metadata": {},
     "output_type": "execute_result"
    }
   ],
   "source": [
    "IPythonConsole.ipython_3d = False\n",
    "len(mols_3d)\n",
    "m1 = mols_3d[0]\n",
    "m2 = mols_3d[1]\n",
    "m2"
   ]
  },
  {
   "cell_type": "code",
   "execution_count": 18,
   "metadata": {},
   "outputs": [
    {
     "data": {
      "image/png": "[encoded data removed]",
      "text/plain": [
       "<IPython.core.display.Image object>"
      ]
     },
     "execution_count": 18,
     "metadata": {},
     "output_type": "execute_result"
    }
   ],
   "source": [
    "Draw.MolsToGridImage([m for m in (EnumerateStereoisomers.EnumerateStereoisomers(mol))],molsPerRow=1,subImgSize=(800,200))"
   ]
  },
  {
   "cell_type": "code",
   "execution_count": 32,
   "metadata": {},
   "outputs": [
    {
     "name": "stdout",
     "output_type": "stream",
     "text": [
      "None\n",
      "1\n",
      "None\n",
      "1\n",
      "[(5, '?'), (7, 'R'), (10, 'R'), (12, 'S')]\n"
     ]
    },
    {
     "data": {
      "image/png": "[encoded data removed]",
      "text/plain": [
       "<rdkit.Chem.rdchem.Mol at 0x7faabf39a260>"
      ]
     },
     "execution_count": 32,
     "metadata": {},
     "output_type": "execute_result"
    }
   ],
   "source": [
    "print(rdmolops.AssignStereochemistry(mol,force = True,flagPossibleStereoCenters = True,cleanIt = True))\n",
    "print(rdMolDescriptors.CalcNumUnspecifiedAtomStereoCenters(mol))\n",
    "mol\n",
    "rdmolops.SanitizeMol(mol)\n",
    "print(rdmolops.AssignStereochemistry(mol,force = True,flagPossibleStereoCenters = True,cleanIt = True))\n",
    "print(rdMolDescriptors.CalcNumUnspecifiedAtomStereoCenters(mol))\n",
    "print(Chem.FindMolChiralCenters(mol,force=True,includeUnassigned=True))\n",
    "\n",
    "mol"
   ]
  },
  {
   "cell_type": "code",
   "execution_count": 9,
   "metadata": {},
   "outputs": [
    {
     "name": "stdout",
     "output_type": "stream",
     "text": [
      "None\n",
      "[(21, '?'), (23, 'R'), (26, 'R'), (28, 'S')]\n"
     ]
    }
   ],
   "source": [
    "from rdkit.Chem import rdmolops\n",
    "\n",
    "print(rdmolops.AssignStereochemistry(mol,force = True,flagPossibleStereoCenters = True))\n",
    "print(Chem.FindMolChiralCenters(mol,force=True,includeUnassigned=True))"
   ]
  },
  {
   "cell_type": "code",
   "execution_count": 16,
   "metadata": {},
   "outputs": [
    {
     "data": {
      "text/plain": [
       "4"
      ]
     },
     "execution_count": 16,
     "metadata": {},
     "output_type": "execute_result"
    }
   ],
   "source": [
    "from rdkit.Chem.rdMolDescriptors import CalcNumAtomStereoCenters\n",
    "CalcNumAtomStereoCenters(mol)"
   ]
  },
  {
   "cell_type": "code",
   "execution_count": 15,
   "metadata": {},
   "outputs": [
    {
     "ename": "UndefinedStereochemistryError",
     "evalue": "Unable to make OFFMol from RDMol: RDMol has unspecified stereochemistry. Undefined chiral centers are:\n - Atom C (index 21)\n",
     "output_type": "error",
     "traceback": [
      "\u001b[0;31m---------------------------------------------------------------------------\u001b[0m",
      "\u001b[0;31mUndefinedStereochemistryError\u001b[0m             Traceback (most recent call last)",
      "\u001b[1;32m/localhome/cschiebroek/MDFPs/mdfptools-1/examples/Example.ipynb Cell 13\u001b[0m line \u001b[0;36m2\n\u001b[1;32m      <a href='vscode-notebook-cell:/localhome/cschiebroek/MDFPs/mdfptools-1/examples/Example.ipynb#X15sZmlsZQ%3D%3D?line=0'>1</a>\u001b[0m \u001b[39mfrom\u001b[39;00m \u001b[39mopenff\u001b[39;00m\u001b[39m.\u001b[39;00m\u001b[39mtoolkit\u001b[39;00m\u001b[39m.\u001b[39;00m\u001b[39mtopology\u001b[39;00m \u001b[39mimport\u001b[39;00m Molecule\n\u001b[0;32m----> <a href='vscode-notebook-cell:/localhome/cschiebroek/MDFPs/mdfptools-1/examples/Example.ipynb#X15sZmlsZQ%3D%3D?line=1'>2</a>\u001b[0m molecule \u001b[39m=\u001b[39m Molecule\u001b[39m.\u001b[39;49mfrom_rdkit(mol, allow_undefined_stereo\u001b[39m=\u001b[39;49m\u001b[39mFalse\u001b[39;49;00m)\n",
      "File \u001b[0;32m/localhome/cschiebroek/.conda/envs/mdfp_carl/lib/python3.11/site-packages/openff/toolkit/utils/base_wrapper.py:55\u001b[0m, in \u001b[0;36mToolkitWrapper.requires_toolkit.<locals>.decorator.<locals>.wrapped_function\u001b[0;34m(*args, **kwargs)\u001b[0m\n\u001b[1;32m     51\u001b[0m     msg \u001b[39m=\u001b[39m \u001b[39m\"\u001b[39m\u001b[39mThis function requires the \u001b[39m\u001b[39m{}\u001b[39;00m\u001b[39m toolkit\u001b[39m\u001b[39m\"\u001b[39m\u001b[39m.\u001b[39mformat(\n\u001b[1;32m     52\u001b[0m         \u001b[39mcls\u001b[39m\u001b[39m.\u001b[39m_toolkit_name\n\u001b[1;32m     53\u001b[0m     )\n\u001b[1;32m     54\u001b[0m     \u001b[39mraise\u001b[39;00m ToolkitUnavailableException(msg)\n\u001b[0;32m---> 55\u001b[0m value \u001b[39m=\u001b[39m func(\u001b[39m*\u001b[39;49margs, \u001b[39m*\u001b[39;49m\u001b[39m*\u001b[39;49mkwargs)\n\u001b[1;32m     56\u001b[0m \u001b[39mreturn\u001b[39;00m value\n",
      "File \u001b[0;32m/localhome/cschiebroek/.conda/envs/mdfp_carl/lib/python3.11/site-packages/openff/toolkit/topology/molecule.py:4281\u001b[0m, in \u001b[0;36mFrozenMolecule.from_rdkit\u001b[0;34m(cls, rdmol, allow_undefined_stereo, hydrogens_are_explicit)\u001b[0m\n\u001b[1;32m   4250\u001b[0m \u001b[39m\u001b[39m\u001b[39m\"\"\"\u001b[39;00m\n\u001b[1;32m   4251\u001b[0m \u001b[39mCreate a Molecule from an RDKit molecule.\u001b[39;00m\n\u001b[1;32m   4252\u001b[0m \n\u001b[0;32m   (...)\u001b[0m\n\u001b[1;32m   4278\u001b[0m \n\u001b[1;32m   4279\u001b[0m \u001b[39m\"\"\"\u001b[39;00m\n\u001b[1;32m   4280\u001b[0m toolkit \u001b[39m=\u001b[39m RDKitToolkitWrapper()\n\u001b[0;32m-> 4281\u001b[0m molecule \u001b[39m=\u001b[39m toolkit\u001b[39m.\u001b[39;49mfrom_rdkit(\n\u001b[1;32m   4282\u001b[0m     rdmol,\n\u001b[1;32m   4283\u001b[0m     allow_undefined_stereo\u001b[39m=\u001b[39;49mallow_undefined_stereo,\n\u001b[1;32m   4284\u001b[0m     hydrogens_are_explicit\u001b[39m=\u001b[39;49mhydrogens_are_explicit,\n\u001b[1;32m   4285\u001b[0m     _cls\u001b[39m=\u001b[39;49m\u001b[39mcls\u001b[39;49m,\n\u001b[1;32m   4286\u001b[0m )\n\u001b[1;32m   4287\u001b[0m \u001b[39mreturn\u001b[39;00m molecule\n",
      "File \u001b[0;32m/localhome/cschiebroek/.conda/envs/mdfp_carl/lib/python3.11/site-packages/openff/toolkit/utils/rdkit_wrapper.py:2257\u001b[0m, in \u001b[0;36mRDKitToolkitWrapper.from_rdkit\u001b[0;34m(self, rdmol, allow_undefined_stereo, hydrogens_are_explicit, _cls)\u001b[0m\n\u001b[1;32m   2254\u001b[0m Chem\u001b[39m.\u001b[39mAssignStereochemistry(rdmol, cleanIt\u001b[39m=\u001b[39m\u001b[39mFalse\u001b[39;00m)\n\u001b[1;32m   2256\u001b[0m \u001b[39m# Check for undefined stereochemistry.\u001b[39;00m\n\u001b[0;32m-> 2257\u001b[0m \u001b[39mself\u001b[39;49m\u001b[39m.\u001b[39;49m_detect_undefined_stereo(\n\u001b[1;32m   2258\u001b[0m     rdmol,\n\u001b[1;32m   2259\u001b[0m     raise_warning\u001b[39m=\u001b[39;49mallow_undefined_stereo,\n\u001b[1;32m   2260\u001b[0m     err_msg_prefix\u001b[39m=\u001b[39;49m\u001b[39m\"\u001b[39;49m\u001b[39mUnable to make OFFMol from RDMol: \u001b[39;49m\u001b[39m\"\u001b[39;49m,\n\u001b[1;32m   2261\u001b[0m )\n\u001b[1;32m   2263\u001b[0m \u001b[39m# Create a new OpenFF Molecule\u001b[39;00m\n\u001b[1;32m   2264\u001b[0m offmol \u001b[39m=\u001b[39m _cls()\n",
      "File \u001b[0;32m/localhome/cschiebroek/.conda/envs/mdfp_carl/lib/python3.11/site-packages/openff/toolkit/utils/rdkit_wrapper.py:3216\u001b[0m, in \u001b[0;36mRDKitToolkitWrapper._detect_undefined_stereo\u001b[0;34m(cls, rdmol, err_msg_prefix, raise_warning)\u001b[0m\n\u001b[1;32m   3214\u001b[0m \u001b[39melse\u001b[39;00m:\n\u001b[1;32m   3215\u001b[0m     msg \u001b[39m=\u001b[39m err_msg_prefix \u001b[39m+\u001b[39m msg\n\u001b[0;32m-> 3216\u001b[0m     \u001b[39mraise\u001b[39;00m UndefinedStereochemistryError(msg)\n",
      "\u001b[0;31mUndefinedStereochemistryError\u001b[0m: Unable to make OFFMol from RDMol: RDMol has unspecified stereochemistry. Undefined chiral centers are:\n - Atom C (index 21)\n"
     ]
    }
   ],
   "source": [
    "from openff.toolkit.topology import Molecule\n",
    "molecule = Molecule.from_rdkit(mol, allow_undefined_stereo=False)"
   ]
  },
  {
   "cell_type": "code",
   "execution_count": 41,
   "metadata": {},
   "outputs": [
    {
     "name": "stderr",
     "output_type": "stream",
     "text": [
      "/tmp/ipykernel_27393/924499966.py:2: ParserWarning: Falling back to the 'python' engine because the 'c' engine does not support regex separators (separators > 1 char and different from '\\s+' are interpreted as regex); you can avoid this warning by specifying engine='python'.\n",
      "  df = pd.read_csv('../cleaned_vp_298.tsv', sep = \"\\s\")\n"
     ]
    },
    {
     "name": "stdout",
     "output_type": "stream",
     "text": [
      "432\n",
      "CRC;PUBCHEM;OCHEM;REACH 1\n",
      "PUBCHEM;REACH 2\n",
      "OCHEM 255\n",
      "CRC;OCHEM 6\n",
      "OCHEM;REACH 11\n",
      "PUBCHEM;OCHEM;REACH 1\n",
      "CRC;OCHEM;REACH 0\n",
      "REACH 145\n",
      "PUBCHEM 3\n",
      "CRC 5\n",
      "CRC;PUBCHEM;OCHEM 0\n",
      "PUBCHEM;OCHEM 3\n"
     ]
    }
   ],
   "source": [
    "import pandas as pd\n",
    "df = pd.read_csv('../cleaned_vp_298.tsv', sep = \"\\s\")\n",
    "df.head()\n",
    "smiles = df['SMILES'].tolist()\n",
    "missing_stereo_counter = 0\n",
    "sources = list(set(df['Source'].tolist()))\n",
    "#create empty dict from sources\n",
    "source_dict = {}\n",
    "for source in sources:\n",
    "    source_dict[source] = 0\n",
    "for smile in smiles:\n",
    "    mol = Chem.MolFromSmiles(smile)\n",
    "    if mol is None:\n",
    "        print(smile)\n",
    "        continue\n",
    "    if rdMolDescriptors.CalcNumUnspecifiedAtomStereoCenters(mol) > 0:\n",
    "        missing_stereo_counter += 1\n",
    "    #add +1 to source\n",
    "        source_dict[df.loc[df['SMILES'] == smile]['Source'].iloc[0]] += 1\n",
    "print(missing_stereo_counter)\n",
    "\n",
    "#print source dict\n",
    "for source in source_dict:\n",
    "    print(source, source_dict[source])"
   ]
  },
  {
   "cell_type": "code",
   "execution_count": 33,
   "metadata": {},
   "outputs": [
    {
     "data": {
      "text/html": [
       "<div>\n",
       "<style scoped>\n",
       "    .dataframe tbody tr th:only-of-type {\n",
       "        vertical-align: middle;\n",
       "    }\n",
       "\n",
       "    .dataframe tbody tr th {\n",
       "        vertical-align: top;\n",
       "    }\n",
       "\n",
       "    .dataframe thead th {\n",
       "        text-align: right;\n",
       "    }\n",
       "</style>\n",
       "<table border=\"1\" class=\"dataframe\">\n",
       "  <thead>\n",
       "    <tr style=\"text-align: right;\">\n",
       "      <th></th>\n",
       "      <th>hash_code</th>\n",
       "      <th>SMILES</th>\n",
       "      <th>Temperature</th>\n",
       "      <th>Vapour</th>\n",
       "      <th>Pressure</th>\n",
       "      <th>(log10</th>\n",
       "      <th>kPa)</th>\n",
       "      <th>Source</th>\n",
       "    </tr>\n",
       "  </thead>\n",
       "  <tbody>\n",
       "    <tr>\n",
       "      <th>0</th>\n",
       "      <td>000c0dc393452e54c19cae2c6501b956</td>\n",
       "      <td>[CH3]-[CH2]-[CH2]-[CH2]-[CH2]-[CH2]-[CH2]-[CH2...</td>\n",
       "      <td>298.15</td>\n",
       "      <td>-14.744727</td>\n",
       "      <td>REACH</td>\n",
       "      <td>NaN</td>\n",
       "      <td>NaN</td>\n",
       "      <td>NaN</td>\n",
       "    </tr>\n",
       "    <tr>\n",
       "      <th>1</th>\n",
       "      <td>000fc88939f1aea674885bb0d93a2e8d</td>\n",
       "      <td>[CH3]-[O]-[c]1:[cH]:[cH]:[c](-[NH2]):[cH]:[cH]:1</td>\n",
       "      <td>293.15</td>\n",
       "      <td>-2.397977</td>\n",
       "      <td>OCHEM</td>\n",
       "      <td>NaN</td>\n",
       "      <td>NaN</td>\n",
       "      <td>NaN</td>\n",
       "    </tr>\n",
       "    <tr>\n",
       "      <th>2</th>\n",
       "      <td>0026cd05c00286506e4c0051abcde83f</td>\n",
       "      <td>[CH3]-[CH]=[CH]-[CH2]-[CH2]-[CH2]-[CH2]-[CH2]-...</td>\n",
       "      <td>298.15</td>\n",
       "      <td>-0.301067</td>\n",
       "      <td>PUBCHEM</td>\n",
       "      <td>NaN</td>\n",
       "      <td>NaN</td>\n",
       "      <td>NaN</td>\n",
       "    </tr>\n",
       "    <tr>\n",
       "      <th>3</th>\n",
       "      <td>0029fb907f0382cb8ba7913301e791ec</td>\n",
       "      <td>[O]=[C](-[OH])-[c]1:[cH]:[cH]:[c]2:[cH]:[cH]:[...</td>\n",
       "      <td>298.15</td>\n",
       "      <td>-6.053323</td>\n",
       "      <td>OCHEM</td>\n",
       "      <td>NaN</td>\n",
       "      <td>NaN</td>\n",
       "      <td>NaN</td>\n",
       "    </tr>\n",
       "    <tr>\n",
       "      <th>4</th>\n",
       "      <td>0050ebd8f62aa0dd9dd972b02e277f5b</td>\n",
       "      <td>[Cl]-[CH2]-[O]-[CH2]-[Cl]</td>\n",
       "      <td>298.15</td>\n",
       "      <td>0.591625</td>\n",
       "      <td>OCHEM</td>\n",
       "      <td>NaN</td>\n",
       "      <td>NaN</td>\n",
       "      <td>NaN</td>\n",
       "    </tr>\n",
       "  </tbody>\n",
       "</table>\n",
       "</div>"
      ],
      "text/plain": [
       "                          hash_code  \\\n",
       "0  000c0dc393452e54c19cae2c6501b956   \n",
       "1  000fc88939f1aea674885bb0d93a2e8d   \n",
       "2  0026cd05c00286506e4c0051abcde83f   \n",
       "3  0029fb907f0382cb8ba7913301e791ec   \n",
       "4  0050ebd8f62aa0dd9dd972b02e277f5b   \n",
       "\n",
       "                                              SMILES  Temperature     Vapour  \\\n",
       "0  [CH3]-[CH2]-[CH2]-[CH2]-[CH2]-[CH2]-[CH2]-[CH2...       298.15 -14.744727   \n",
       "1   [CH3]-[O]-[c]1:[cH]:[cH]:[c](-[NH2]):[cH]:[cH]:1       293.15  -2.397977   \n",
       "2  [CH3]-[CH]=[CH]-[CH2]-[CH2]-[CH2]-[CH2]-[CH2]-...       298.15  -0.301067   \n",
       "3  [O]=[C](-[OH])-[c]1:[cH]:[cH]:[c]2:[cH]:[cH]:[...       298.15  -6.053323   \n",
       "4                          [Cl]-[CH2]-[O]-[CH2]-[Cl]       298.15   0.591625   \n",
       "\n",
       "  Pressure  (log10  kPa)  Source  \n",
       "0    REACH     NaN   NaN     NaN  \n",
       "1    OCHEM     NaN   NaN     NaN  \n",
       "2  PUBCHEM     NaN   NaN     NaN  \n",
       "3    OCHEM     NaN   NaN     NaN  \n",
       "4    OCHEM     NaN   NaN     NaN  "
      ]
     },
     "execution_count": 33,
     "metadata": {},
     "output_type": "execute_result"
    }
   ],
   "source": [
    "df.head()"
   ]
  },
  {
   "cell_type": "code",
   "execution_count": 46,
   "metadata": {},
   "outputs": [
    {
     "name": "stdout",
     "output_type": "stream",
     "text": [
      "3956\n"
     ]
    },
    {
     "data": {
      "text/html": [
       "<div>\n",
       "<style scoped>\n",
       "    .dataframe tbody tr th:only-of-type {\n",
       "        vertical-align: middle;\n",
       "    }\n",
       "\n",
       "    .dataframe tbody tr th {\n",
       "        vertical-align: top;\n",
       "    }\n",
       "\n",
       "    .dataframe thead th {\n",
       "        text-align: right;\n",
       "    }\n",
       "</style>\n",
       "<table border=\"1\" class=\"dataframe\">\n",
       "  <thead>\n",
       "    <tr style=\"text-align: right;\">\n",
       "      <th></th>\n",
       "      <th>Unnamed: 0</th>\n",
       "      <th>canonical_smiles</th>\n",
       "      <th>old_hash_code</th>\n",
       "      <th>hash_code</th>\n",
       "      <th>notes</th>\n",
       "      <th>kek_canonical_smiles</th>\n",
       "      <th>dG_chloroform</th>\n",
       "      <th>source_chloroform</th>\n",
       "      <th>dG_cyclohexane</th>\n",
       "      <th>source_cyclohex</th>\n",
       "      <th>...</th>\n",
       "      <th>source_fs</th>\n",
       "      <th>logK_fat</th>\n",
       "      <th>dG_fat</th>\n",
       "      <th>source_fat</th>\n",
       "      <th>logK_hexadecane</th>\n",
       "      <th>dG_hexadecane_converted</th>\n",
       "      <th>source_hexadec_conv</th>\n",
       "      <th>logP_octanol_water</th>\n",
       "      <th>source_logP_ow</th>\n",
       "      <th>chemical_name</th>\n",
       "    </tr>\n",
       "  </thead>\n",
       "  <tbody>\n",
       "    <tr>\n",
       "      <th>0</th>\n",
       "      <td>0</td>\n",
       "      <td>[CH3]-[CH2]-[CH2]-[CH2]-[CH2]-[CH2]-[CH2]-[CH3]</td>\n",
       "      <td>ca2dd43f910e90a5f43d7ac3bae7af48</td>\n",
       "      <td>ca2dd43f910e90a5f43d7ac3bae7af48</td>\n",
       "      <td>NaN</td>\n",
       "      <td>[CH3]-[CH2]-[CH2]-[CH2]-[CH2]-[CH2]-[CH2]-[CH3]</td>\n",
       "      <td>-21.96600</td>\n",
       "      <td>minnesota</td>\n",
       "      <td>-23.55592</td>\n",
       "      <td>minnesota</td>\n",
       "      <td>...</td>\n",
       "      <td>freeSolv</td>\n",
       "      <td>2.99</td>\n",
       "      <td>-17.73</td>\n",
       "      <td>Helmholtz_Goss</td>\n",
       "      <td>3.677</td>\n",
       "      <td>-20.97778</td>\n",
       "      <td>Helmholtz_Goss</td>\n",
       "      <td>5.18</td>\n",
       "      <td>ncidb</td>\n",
       "      <td>{'Octane', 'n-Octane', ' octane'}</td>\n",
       "    </tr>\n",
       "    <tr>\n",
       "      <th>1</th>\n",
       "      <td>1</td>\n",
       "      <td>[CH2]1-[CH2]-[CH2]-[CH2]-[CH2]-[CH2]-1</td>\n",
       "      <td>b07da563fbe1f7e095b706ab32633834</td>\n",
       "      <td>b07da563fbe1f7e095b706ab32633834</td>\n",
       "      <td>NaN</td>\n",
       "      <td>[CH2]1-[CH2]-[CH2]-[CH2]-[CH2]-[CH2]-1</td>\n",
       "      <td>-18.61880</td>\n",
       "      <td>minnesota</td>\n",
       "      <td>-18.53512</td>\n",
       "      <td>minnesota</td>\n",
       "      <td>...</td>\n",
       "      <td>freeSolv</td>\n",
       "      <td>2.51</td>\n",
       "      <td>-14.90</td>\n",
       "      <td>Helmholtz_Goss</td>\n",
       "      <td>2.964</td>\n",
       "      <td>-16.91002</td>\n",
       "      <td>Helmholtz_Goss</td>\n",
       "      <td>3.44</td>\n",
       "      <td>ncidb</td>\n",
       "      <td>{' cyclohexane', 'Cyclohexane'}</td>\n",
       "    </tr>\n",
       "    <tr>\n",
       "      <th>2</th>\n",
       "      <td>2</td>\n",
       "      <td>[cH]1:[cH]:[cH]:[cH]:[cH]:[cH]:1</td>\n",
       "      <td>f9b8d855deb985e47e844a9e7519b7f7</td>\n",
       "      <td>60c5fa2eb3046aca250f27ede97fbe7a</td>\n",
       "      <td>NaN</td>\n",
       "      <td>[CH]1:[CH]:[CH]:[CH]:[CH]:[CH]:1</td>\n",
       "      <td>-19.41376</td>\n",
       "      <td>minnesota</td>\n",
       "      <td>-17.53096</td>\n",
       "      <td>minnesota</td>\n",
       "      <td>...</td>\n",
       "      <td>freeSolv</td>\n",
       "      <td>2.69</td>\n",
       "      <td>-15.94</td>\n",
       "      <td>Helmholtz_Goss</td>\n",
       "      <td>2.786</td>\n",
       "      <td>-15.89451</td>\n",
       "      <td>Helmholtz_Goss</td>\n",
       "      <td>2.13</td>\n",
       "      <td>ncidb</td>\n",
       "      <td>{' benzene', 'Benzene'}</td>\n",
       "    </tr>\n",
       "    <tr>\n",
       "      <th>3</th>\n",
       "      <td>3</td>\n",
       "      <td>[CH3]-[c]1:[cH]:[cH]:[cH]:[cH]:[cH]:1</td>\n",
       "      <td>4bbf4165fcea4559a18a87af9e599093</td>\n",
       "      <td>eeda4e5e21155097c7c42d1c9451dc3f</td>\n",
       "      <td>NaN</td>\n",
       "      <td>[CH3]-[C]1:[CH]:[CH]:[CH]:[CH]:[CH]:1</td>\n",
       "      <td>-22.92832</td>\n",
       "      <td>minnesota</td>\n",
       "      <td>-20.50160</td>\n",
       "      <td>minnesota</td>\n",
       "      <td>...</td>\n",
       "      <td>freeSolv</td>\n",
       "      <td>3.09</td>\n",
       "      <td>-18.33</td>\n",
       "      <td>Helmholtz_Goss</td>\n",
       "      <td>3.325</td>\n",
       "      <td>-18.96958</td>\n",
       "      <td>Helmholtz_Goss</td>\n",
       "      <td>2.73</td>\n",
       "      <td>ncidb</td>\n",
       "      <td>{'Toluene', ' toluene'}</td>\n",
       "    </tr>\n",
       "    <tr>\n",
       "      <th>4</th>\n",
       "      <td>4</td>\n",
       "      <td>[CH3]-[CH2]-[c]1:[cH]:[cH]:[cH]:[cH]:[cH]:1</td>\n",
       "      <td>7b59ab62af1b8d2ebebd0b105681e46b</td>\n",
       "      <td>3afe1a650d42e0da0d4ebab1678da313</td>\n",
       "      <td>NaN</td>\n",
       "      <td>[CH3]-[CH2]-[C]1:[CH]:[CH]:[CH]:[CH]:[CH]:1</td>\n",
       "      <td>-24.43456</td>\n",
       "      <td>minnesota</td>\n",
       "      <td>-20.79448</td>\n",
       "      <td>minnesota</td>\n",
       "      <td>...</td>\n",
       "      <td>freeSolv</td>\n",
       "      <td>3.48</td>\n",
       "      <td>-20.63</td>\n",
       "      <td>Helmholtz_Goss</td>\n",
       "      <td>3.778</td>\n",
       "      <td>-21.55400</td>\n",
       "      <td>Helmholtz_Goss</td>\n",
       "      <td>3.15</td>\n",
       "      <td>ncidb</td>\n",
       "      <td>{' ethylbenzene', 'Ethylbenzene'}</td>\n",
       "    </tr>\n",
       "  </tbody>\n",
       "</table>\n",
       "<p>5 rows × 25 columns</p>\n",
       "</div>"
      ],
      "text/plain": [
       "   Unnamed: 0                                 canonical_smiles  \\\n",
       "0           0  [CH3]-[CH2]-[CH2]-[CH2]-[CH2]-[CH2]-[CH2]-[CH3]   \n",
       "1           1           [CH2]1-[CH2]-[CH2]-[CH2]-[CH2]-[CH2]-1   \n",
       "2           2                 [cH]1:[cH]:[cH]:[cH]:[cH]:[cH]:1   \n",
       "3           3            [CH3]-[c]1:[cH]:[cH]:[cH]:[cH]:[cH]:1   \n",
       "4           4      [CH3]-[CH2]-[c]1:[cH]:[cH]:[cH]:[cH]:[cH]:1   \n",
       "\n",
       "                      old_hash_code                         hash_code  notes  \\\n",
       "0  ca2dd43f910e90a5f43d7ac3bae7af48  ca2dd43f910e90a5f43d7ac3bae7af48    NaN   \n",
       "1  b07da563fbe1f7e095b706ab32633834  b07da563fbe1f7e095b706ab32633834    NaN   \n",
       "2  f9b8d855deb985e47e844a9e7519b7f7  60c5fa2eb3046aca250f27ede97fbe7a    NaN   \n",
       "3  4bbf4165fcea4559a18a87af9e599093  eeda4e5e21155097c7c42d1c9451dc3f    NaN   \n",
       "4  7b59ab62af1b8d2ebebd0b105681e46b  3afe1a650d42e0da0d4ebab1678da313    NaN   \n",
       "\n",
       "                              kek_canonical_smiles  dG_chloroform  \\\n",
       "0  [CH3]-[CH2]-[CH2]-[CH2]-[CH2]-[CH2]-[CH2]-[CH3]      -21.96600   \n",
       "1           [CH2]1-[CH2]-[CH2]-[CH2]-[CH2]-[CH2]-1      -18.61880   \n",
       "2                 [CH]1:[CH]:[CH]:[CH]:[CH]:[CH]:1      -19.41376   \n",
       "3            [CH3]-[C]1:[CH]:[CH]:[CH]:[CH]:[CH]:1      -22.92832   \n",
       "4      [CH3]-[CH2]-[C]1:[CH]:[CH]:[CH]:[CH]:[CH]:1      -24.43456   \n",
       "\n",
       "  source_chloroform  dG_cyclohexane source_cyclohex  ...  source_fs logK_fat  \\\n",
       "0         minnesota       -23.55592       minnesota  ...   freeSolv     2.99   \n",
       "1         minnesota       -18.53512       minnesota  ...   freeSolv     2.51   \n",
       "2         minnesota       -17.53096       minnesota  ...   freeSolv     2.69   \n",
       "3         minnesota       -20.50160       minnesota  ...   freeSolv     3.09   \n",
       "4         minnesota       -20.79448       minnesota  ...   freeSolv     3.48   \n",
       "\n",
       "   dG_fat      source_fat  logK_hexadecane dG_hexadecane_converted  \\\n",
       "0  -17.73  Helmholtz_Goss            3.677               -20.97778   \n",
       "1  -14.90  Helmholtz_Goss            2.964               -16.91002   \n",
       "2  -15.94  Helmholtz_Goss            2.786               -15.89451   \n",
       "3  -18.33  Helmholtz_Goss            3.325               -18.96958   \n",
       "4  -20.63  Helmholtz_Goss            3.778               -21.55400   \n",
       "\n",
       "   source_hexadec_conv  logP_octanol_water source_logP_ow  \\\n",
       "0       Helmholtz_Goss                5.18          ncidb   \n",
       "1       Helmholtz_Goss                3.44          ncidb   \n",
       "2       Helmholtz_Goss                2.13          ncidb   \n",
       "3       Helmholtz_Goss                2.73          ncidb   \n",
       "4       Helmholtz_Goss                3.15          ncidb   \n",
       "\n",
       "                       chemical_name  \n",
       "0  {'Octane', 'n-Octane', ' octane'}  \n",
       "1    {' cyclohexane', 'Cyclohexane'}  \n",
       "2            {' benzene', 'Benzene'}  \n",
       "3            {'Toluene', ' toluene'}  \n",
       "4  {' ethylbenzene', 'Ethylbenzene'}  \n",
       "\n",
       "[5 rows x 25 columns]"
      ]
     },
     "execution_count": 46,
     "metadata": {},
     "output_type": "execute_result"
    }
   ],
   "source": [
    "df_sampl6 = pd.read_csv(\"/localhome/cschiebroek/ShuZe/SAMPL6_logP/data/for_euler/out_exp.tsv\", sep = '\\t')\n",
    "df_sampl6 = df_sampl6.drop_duplicates(\"hash_code\") \n",
    "print(len(df_sampl6))\n",
    "df_sampl6.head()"
   ]
  },
  {
   "cell_type": "code",
   "execution_count": 47,
   "metadata": {},
   "outputs": [
    {
     "name": "stdout",
     "output_type": "stream",
     "text": [
      "1128\n"
     ]
    }
   ],
   "source": [
    "hash_vp = df['hash_code'].tolist()\n",
    "hash_sampl6 = df_sampl6['hash_code'].tolist()\n",
    "#check overlap\n",
    "shared_hash = list(set(hash_vp).intersection(hash_sampl6))\n",
    "print(len(shared_hash))"
   ]
  },
  {
   "cell_type": "code",
   "execution_count": null,
   "metadata": {},
   "outputs": [],
   "source": []
  },
  {
   "cell_type": "code",
   "execution_count": 60,
   "metadata": {},
   "outputs": [
    {
     "name": "stdout",
     "output_type": "stream",
     "text": [
      "Unnamed: 0\n",
      "canonical_smiles\n",
      "old_hash_code\n",
      "hash_code\n",
      "notes\n",
      "kek_canonical_smiles\n",
      "dG_chloroform\n",
      "source_chloroform\n",
      "dG_cyclohexane\n",
      "source_cyclohex\n",
      "dG_octanol\n",
      "source_octanol\n",
      "dG_hexadecane\n",
      "source_hexadec\n",
      "dG_water\n",
      "source_fs\n",
      "logK_fat\n",
      "dG_fat\n",
      "source_fat\n",
      "logK_hexadecane\n",
      "dG_hexadecane_converted\n",
      "source_hexadec_conv\n",
      "logP_octanol_water\n",
      "source_logP_ow\n",
      "chemical_name\n",
      "   Unnamed: 0                                 canonical_smiles  \\\n",
      "0           0  [CH3]-[CH2]-[CH2]-[CH2]-[CH2]-[CH2]-[CH2]-[CH3]   \n",
      "\n",
      "                      old_hash_code                         hash_code  notes  \\\n",
      "0  ca2dd43f910e90a5f43d7ac3bae7af48  ca2dd43f910e90a5f43d7ac3bae7af48    NaN   \n",
      "\n",
      "                              kek_canonical_smiles  dG_chloroform  \\\n",
      "0  [CH3]-[CH2]-[CH2]-[CH2]-[CH2]-[CH2]-[CH2]-[CH3]        -21.966   \n",
      "\n",
      "  source_chloroform  dG_cyclohexane source_cyclohex  ...  source_fs logK_fat  \\\n",
      "0         minnesota       -23.55592       minnesota  ...   freeSolv     2.99   \n",
      "\n",
      "   dG_fat      source_fat  logK_hexadecane dG_hexadecane_converted  \\\n",
      "0  -17.73  Helmholtz_Goss            3.677               -20.97778   \n",
      "\n",
      "   source_hexadec_conv  logP_octanol_water source_logP_ow  \\\n",
      "0       Helmholtz_Goss                5.18          ncidb   \n",
      "\n",
      "                       chemical_name  \n",
      "0  {'Octane', 'n-Octane', ' octane'}  \n",
      "\n",
      "[1 rows x 25 columns]\n"
     ]
    }
   ],
   "source": [
    "df_sampl6.head()\n",
    "#print columns\n",
    "for col in df_sampl6.columns:\n",
    "    print(col)\n",
    "print(df_sampl6.head(1))"
   ]
  },
  {
   "cell_type": "code",
   "execution_count": 58,
   "metadata": {},
   "outputs": [
    {
     "name": "stdout",
     "output_type": "stream",
     "text": [
      "[CH3]-[O]-[C](=[O])-[CH2]-[c]1:[cH]:[cH]:[cH]:[cH]:[cH]:1\n",
      "[CH3]-[O]-[C](=[O])-[CH2]-[c]1:[cH]:[cH]:[cH]:[cH]:[cH]:1\n",
      "3098\n",
      "3956\n",
      "1128\n",
      "Missing stereo in overlapping mols:  93\n"
     ]
    }
   ],
   "source": [
    "#show example overlap: first hash, get smiles\n",
    "print(df_sampl6.loc[df_sampl6['hash_code'] == shared_hash[0]]['canonical_smiles'].iloc[0])\n",
    "print(df.loc[df['hash_code'] == shared_hash[0]]['SMILES'].iloc[0])\n",
    "#sanity check: check for all hashes if smiles are the same\n",
    "for hash in shared_hash:\n",
    "    if df_sampl6.loc[df_sampl6['hash_code'] == hash]['canonical_smiles'].iloc[0] != df.loc[df['hash_code'] == hash]['SMILES'].iloc[0]:\n",
    "        print(\"Error\")\n",
    "        break\n",
    "\n",
    "#cool! seems to work. So print out lenght of both datasets and overlap\n",
    "print(len(df))\n",
    "print(len(df_sampl6))\n",
    "print(len(shared_hash))\n",
    "\n",
    "#for smiles in df with shared hash, check if missing stereo\n",
    "missing_stereo_counter = 0\n",
    "for hash in shared_hash:\n",
    "    smile = df.loc[df['hash_code'] == hash]['SMILES'].iloc[0]\n",
    "    mol = Chem.MolFromSmiles(smile)\n",
    "    if mol is None:\n",
    "        print(smile)\n",
    "        continue\n",
    "    if rdMolDescriptors.CalcNumUnspecifiedAtomStereoCenters(mol) > 0:\n",
    "        missing_stereo_counter += 1\n",
    "print('Missing stereo in overlapping mols: ', missing_stereo_counter)\n"
   ]
  },
  {
   "cell_type": "code",
   "execution_count": 42,
   "metadata": {},
   "outputs": [
    {
     "data": {
      "text/plain": [
       "3098"
      ]
     },
     "execution_count": 42,
     "metadata": {},
     "output_type": "execute_result"
    }
   ],
   "source": [
    "len(df)"
   ]
  }
 ],
 "metadata": {
  "kernelspec": {
   "display_name": "Python 3",
   "language": "python",
   "name": "python3"
  },
  "language_info": {
   "codemirror_mode": {
    "name": "ipython",
    "version": 3
   },
   "file_extension": ".py",
   "mimetype": "text/x-python",
   "name": "python",
   "nbconvert_exporter": "python",
   "pygments_lexer": "ipython3",
   "version": "3.11.5"
  }
 },
 "nbformat": 4,
 "nbformat_minor": 4
}
