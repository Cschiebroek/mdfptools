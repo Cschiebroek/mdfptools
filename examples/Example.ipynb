{
 "cells": [
  {
   "cell_type": "markdown",
   "metadata": {},
   "source": [
    "# Parameterisation\n",
    "To parameterise a small molecule for simulation, import to right `Parameteriser`. Here we showcase using the `SolutionParameteriser`, which when given a SMILES string of the molecule to be simulated, it gives back a parameterised system with one copy of this molecule solvated in water. We use benzene as example here. \n"
   ]
  },
  {
   "cell_type": "code",
   "execution_count": 1,
   "metadata": {},
   "outputs": [],
   "source": [
    "benzene_smiles = \"c1ccccc1\""
   ]
  },
  {
   "cell_type": "markdown",
   "metadata": {},
   "source": [
    "Depending on the toolkit at hand, parameterisation can either be done using `via_rdkit()`, which uses open-sourced RDKit or `via_openeye()`, which is commercial. \n",
    "\n",
    "The parameterised system is stored as a Parmed object.\n"
   ]
  },
  {
   "cell_type": "code",
   "execution_count": 2,
   "metadata": {},
   "outputs": [
    {
     "data": {
      "text/plain": [
       "<Structure 2622 atoms; 871 residues; 1752 bonds; PBC (orthogonal); parametrized>"
      ]
     },
     "execution_count": 2,
     "metadata": {},
     "output_type": "execute_result"
    }
   ],
   "source": [
    "from mdfptools import Parameteriser\n",
    "#RDKit parameterisation\n",
    "rdk_pmd = Parameteriser.SolutionParameteriser.via_rdkit(benzene_smiles)\n",
    "rdk_pmd"
   ]
  },
  {
   "cell_type": "code",
   "execution_count": 3,
   "metadata": {},
   "outputs": [
    {
     "data": {
      "text/plain": [
       "<Structure 2652 atoms; 881 residues; 1772 bonds; PBC (orthogonal); parametrized>"
      ]
     },
     "execution_count": 3,
     "metadata": {},
     "output_type": "execute_result"
    }
   ],
   "source": [
    "#OpenEye alternative\n",
    "oe_pmd = Parameteriser.SolutionParameteriser.via_openeye(benzene_smiles)\n",
    "oe_pmd"
   ]
  },
  {
   "cell_type": "markdown",
   "metadata": {},
   "source": [
    "When using RDKit, by default the partial charge assignment to the small molecule is done via antechamber to yield AM1-BCC charges. \n",
    "\n",
    "We also developed a machine-learned alternative partial charge assignment scheme called [mlddec](github.com/rinikierlab/mlddec). Once this package is installed, one can charge the system using:"
   ]
  },
  {
   "cell_type": "code",
   "execution_count": 4,
   "metadata": {},
   "outputs": [
    {
     "name": "stderr",
     "output_type": "stream",
     "text": [
      "\r",
      "  0%|          | 0/10 [00:00<?, ?it/s]"
     ]
    },
    {
     "name": "stdout",
     "output_type": "stream",
     "text": [
      "Loading models...\n"
     ]
    },
    {
     "name": "stderr",
     "output_type": "stream",
     "text": [
      "/home/shuwang/miniconda3/lib/python3.7/site-packages/sklearn/base.py:306: UserWarning: Trying to unpickle estimator DecisionTreeRegressor from version 0.21.1 when using version 0.21.3. This might lead to breaking code or invalid results. Use at your own risk.\n",
      "  UserWarning)\n",
      "100%|██████████| 10/10 [02:53<00:00, 17.30s/it]\n"
     ]
    },
    {
     "data": {
      "text/plain": [
       "<Structure 2631 atoms; 874 residues; 1758 bonds; PBC (orthogonal); parametrized>"
      ]
     },
     "execution_count": 4,
     "metadata": {},
     "output_type": "execute_result"
    }
   ],
   "source": [
    "Parameteriser.SolutionParameteriser.load_ddec_models()\n",
    "Parameteriser.SolutionParameteriser.via_rdkit(benzene_smiles)"
   ]
  },
  {
   "cell_type": "markdown",
   "metadata": {},
   "source": [
    "After one is finished with using `Parameteriser` to prepare all the systems one wishes to subsequently simulate, the ddec models should be unloaded as they occupy quite some memory."
   ]
  },
  {
   "cell_type": "code",
   "execution_count": 5,
   "metadata": {},
   "outputs": [],
   "source": [
    "Parameteriser.SolutionParameteriser.unload_ddec_models()"
   ]
  },
  {
   "cell_type": "markdown",
   "metadata": {},
   "source": [
    "The parameterised systems as parmed objects can be stored to disk and reloaded into memory using pickle:"
   ]
  },
  {
   "cell_type": "code",
   "execution_count": 6,
   "metadata": {},
   "outputs": [
    {
     "data": {
      "text/plain": [
       "<Structure 2622 atoms; 871 residues; 1752 bonds; PBC (orthogonal); parametrized>"
      ]
     },
     "execution_count": 6,
     "metadata": {},
     "output_type": "execute_result"
    }
   ],
   "source": [
    "import pickle\n",
    "#store to disk\n",
    "pickle.dump(rdk_pmd, open(\"./benzene.pickle\", \"wb\"))\n",
    "\n",
    "# Load the pickled object back to memory:\n",
    "pickle.load(open(\"./benzene.pickle\", \"rb\"))"
   ]
  },
  {
   "cell_type": "markdown",
   "metadata": {},
   "source": [
    "# Visualisation (Optional)\n",
    "You can have a look at the parameterised parmed system inside Jupyter notebook (Jupyter lab does not seem to work) using [nglview](https://github.com/arose/nglview). "
   ]
  },
  {
   "cell_type": "code",
   "execution_count": 7,
   "metadata": {},
   "outputs": [
    {
     "data": {
      "application/vnd.jupyter.widget-view+json": {
       "model_id": "edb9f261f59f40ae85052faad1cbfbd0",
       "version_major": 2,
       "version_minor": 0
      },
      "text/plain": [
       "_ColormakerRegistry()"
      ]
     },
     "metadata": {},
     "output_type": "display_data"
    },
    {
     "data": {
      "application/vnd.jupyter.widget-view+json": {
       "model_id": "9a3cc4e29dac4d1a8162d98e6d0690ec",
       "version_major": 2,
       "version_minor": 0
      },
      "text/plain": [
       "NGLWidget()"
      ]
     },
     "metadata": {},
     "output_type": "display_data"
    }
   ],
   "source": [
    "import nglview as nv\n",
    "view = nv.show_parmed(rdk_pmd)\n",
    "view.add_licorice()\n",
    "view"
   ]
  },
  {
   "cell_type": "markdown",
   "metadata": {},
   "source": [
    "# Simulation\n",
    "To simulate, just import the right simulator and call the `via_openmm()` class method, which as the name implies runs MD using OpenMM under the hood. \n",
    "\n",
    "We plan to include another python handle in GROMACS which will enable `via_gromacs()` in the future.\n",
    "\n",
    "The default simulation length is 5 ns, with trajectory frame stored every 10 ps (so 1 frame is stored after every 5000 steps, totally 500 frames). The simulation will take some time to run."
   ]
  },
  {
   "cell_type": "code",
   "execution_count": 8,
   "metadata": {},
   "outputs": [
    {
     "data": {
      "text/plain": [
       "'/home/shuwang/Documents/Modelling/MDFP/Codes/mdfptools/examples/benzene.h5'"
      ]
     },
     "execution_count": 8,
     "metadata": {},
     "output_type": "execute_result"
    }
   ],
   "source": [
    "from mdfptools.Simulator import SolutionSimulator\n",
    "SolutionSimulator.via_openmm(rdk_pmd, file_name = \"benzene\", file_path = \"./\", \n",
    "                             platform = \"CUDA\", num_steps = 5000 * 500)"
   ]
  },
  {
   "cell_type": "markdown",
   "metadata": {},
   "source": [
    "# Obtain Molecular Dynamics Fingerprint (MDFP)\n",
    "Once the simulation has finished, one can extract the relevant properties using the right `Composer` (`SolutionComposer` here). "
   ]
  },
  {
   "cell_type": "code",
   "execution_count": 9,
   "metadata": {},
   "outputs": [],
   "source": [
    "#First load in the simulated trajectory\n",
    "import mdtraj as md\n",
    "traj = md.load(\"./benzene.h5\")"
   ]
  },
  {
   "cell_type": "code",
   "execution_count": 13,
   "metadata": {},
   "outputs": [
    {
     "name": "stdout",
     "output_type": "stream",
     "text": [
      "{'2d_counts': [6, 0, 0, 0, 0, 0, 0, 0, 0, 0], 'water_intra_crf': [8.447469879840682, 0.07754269775241597, 8.448101852311458], 'water_intra_lj': [14.698494638650427, 0.35388130931658185, 14.62080608686442], 'water_total_crf': [-20.59946506906263, 8.513642293598433, -18.724968586184893], 'water_total_lj': [-20.978276995376827, 4.06594223290863, -22.954899317973993], 'water_intra_ene': [23.14596451849111, 0.3528157869181612, 23.10431903412804], 'water_total_ene': [-41.57774206443945, 6.698043493291234, -39.76306852550783], 'water_rgyr': [1.4897907974950872, 0.0031876909007386768, 1.4891081418027634], 'water_sasa': [2.433884, 0.007920546, 2.4333215]}\n"
     ]
    }
   ],
   "source": [
    "from mdfptools.Composer import SolutionComposer\n",
    "mdfp = SolutionComposer.run(traj, rdk_pmd)\n",
    "print(mdfp)"
   ]
  },
  {
   "cell_type": "markdown",
   "metadata": {},
   "source": [
    "The returned object from a Composer is a `MDFP` object. As can be seen from above, it contains more information.\n",
    "To use it for the subsequent machine learning tasks, call the `get_mdfp()` method to get the feature vectors (i.e. just the values not the keys)"
   ]
  },
  {
   "cell_type": "code",
   "execution_count": 11,
   "metadata": {},
   "outputs": [
    {
     "data": {
      "text/plain": [
       "[6,\n",
       " 0,\n",
       " 0,\n",
       " 0,\n",
       " 0,\n",
       " 0,\n",
       " 0,\n",
       " 0,\n",
       " 0,\n",
       " 0,\n",
       " 8.447469879840682,\n",
       " 0.07754269775241597,\n",
       " 8.448101852311458,\n",
       " 14.698494638650427,\n",
       " 0.35388130931658185,\n",
       " 14.62080608686442,\n",
       " -20.59946506906263,\n",
       " 8.513642293598433,\n",
       " -18.724968586184893,\n",
       " -20.978276995376827,\n",
       " 4.06594223290863,\n",
       " -22.954899317973993,\n",
       " 23.14596451849111,\n",
       " 0.3528157869181612,\n",
       " 23.10431903412804,\n",
       " -41.57774206443945,\n",
       " 6.698043493291234,\n",
       " -39.76306852550783,\n",
       " 1.4897907974950872,\n",
       " 0.0031876909007386768,\n",
       " 1.4891081418027634,\n",
       " 2.433884,\n",
       " 0.007920546,\n",
       " 2.4333215]"
      ]
     },
     "execution_count": 11,
     "metadata": {},
     "output_type": "execute_result"
    }
   ],
   "source": [
    "mdfp.get_mdfp()"
   ]
  }
 ],
 "metadata": {
  "kernelspec": {
   "display_name": "Python 3",
   "language": "python",
   "name": "python3"
  },
  "language_info": {
   "codemirror_mode": {
    "name": "ipython",
    "version": 3
   },
   "file_extension": ".py",
   "mimetype": "text/x-python",
   "name": "python",
   "nbconvert_exporter": "python",
   "pygments_lexer": "ipython3",
   "version": "3.7.4"
  }
 },
 "nbformat": 4,
 "nbformat_minor": 4
}
