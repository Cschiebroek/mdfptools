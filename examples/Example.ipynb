{
 "cells": [
  {
   "cell_type": "markdown",
   "metadata": {},
   "source": [
    "# Parameterisation\n",
    "To parameterise a small molecule for simulation, import to right `Parameteriser`. Here we showcase using the `SolutionParameteriser`, which when given a SMILES string of the molecule to be simulated, it gives back a parameterised system with one copy of this molecule solvated in water. We use benzene as example here. \n"
   ]
  },
  {
   "cell_type": "code",
   "execution_count": 1,
   "metadata": {},
   "outputs": [],
   "source": [
    "benzene_smiles = \"c1ccccc1\""
   ]
  },
  {
   "cell_type": "markdown",
   "metadata": {},
   "source": [
    "Depending on the toolkit at hand, parameterisation can either be done using `via_rdkit()`, which uses open-sourced RDKit or `via_openeye()`, which is commercial. \n",
    "\n",
    "The parameterised system is stored as a Parmed object.\n"
   ]
  },
  {
   "cell_type": "code",
   "execution_count": 5,
   "metadata": {},
   "outputs": [
    {
     "name": "stderr",
     "output_type": "stream",
     "text": [
      "0.1 SMIRNOFF spec file does not contain 'potential' attribute for 'Bonds' tag. The SMIRNOFF spec converter is assuming it has a value of 'harmonic'\n",
      "0.1 SMIRNOFF spec file does not contain 'potential' attribute for 'Angles' tag. The SMIRNOFF spec converter is assuming it has a value of 'harmonic'\n",
      "0.1 SMIRNOFF spec file does not contain 'potential' attribute for 'ProperTorsions' tag. The SMIRNOFF spec converter is assuming it has a value of 'charmm'\n",
      "0.1 SMIRNOFF spec file does not contain 'potential' attribute for 'vdW' tag. The SMIRNOFF spec converter is assuming it has a value of 'Lennard-Jones-12-6'\n",
      "0.1 SMIRNOFF spec did not allow the 'Electrostatics' tag. Adding it in 0.2 spec conversion, and assuming the following values:\n",
      "\tmethod: PME\n",
      "\tscale12: 0.0\n",
      "\tscale13: 0.0\n",
      "\tscale15: 1.0\n",
      "\tcutoff: 9.0\n",
      "\tcutoff_unit: angstrom\n",
      "0.1 SMIRNOFF spec file does not contain 'method' attribute for 'NonBondedMethod/vdW'' tag. The SMIRNOFF spec converter is assuming it has a value of 'cutoff'\n",
      "0.1 SMIRNOFF spec file does not contain 'combining_rules' attribute for 'NonBondedMethod/vdW'' tag. The SMIRNOFF spec converter is assuming it has a value of 'Lorentz-Berthelot'\n",
      "0.1 SMIRNOFF spec file does not contain 'scale12' attribute for 'NonBondedMethod/vdW'' tag. The SMIRNOFF spec converter is assuming it has a value of '0.0'\n",
      "0.1 SMIRNOFF spec file does not contain 'scale13' attribute for 'NonBondedMethod/vdW'' tag. The SMIRNOFF spec converter is assuming it has a value of '0.0'\n",
      "0.1 SMIRNOFF spec file does not contain 'scale15' attribute for 'NonBondedMethod/vdW'' tag. The SMIRNOFF spec converter is assuming it has a value of '1'\n",
      "0.1 SMIRNOFF spec file does not contain 'switch_width' attribute for 'NonBondedMethod/vdW'' tag. The SMIRNOFF spec converter is assuming it has a value of '1.0'\n",
      "0.1 SMIRNOFF spec file does not contain 'switch_width_unit' attribute for 'NonBondedMethod/vdW'' tag. The SMIRNOFF spec converter is assuming it has a value of 'angstrom'\n",
      "0.1 SMIRNOFF spec file does not contain 'cutoff' attribute for 'NonBondedMethod/vdW'' tag. The SMIRNOFF spec converter is assuming it has a value of '9.0'\n",
      "0.1 SMIRNOFF spec file does not contain 'cutoff_unit' attribute for 'NonBondedMethod/vdW'' tag. The SMIRNOFF spec converter is assuming it has a value of 'angstrom'\n"
     ]
    },
    {
     "data": {
      "text/plain": [
       "<Structure 1494 atoms; 495 residues; 1000 bonds; PBC (orthogonal); parameterized>"
      ]
     },
     "execution_count": 5,
     "metadata": {},
     "output_type": "execute_result"
    }
   ],
   "source": [
    "import Parameteriser\n",
    "benzene_smiles = \"c1ccccc1\"\n",
    "#RDKit parameterisation\n",
    "rdk_pmd = Parameteriser.SolutionParameteriser.via_rdkit(benzene_smiles)\n",
    "rdk_pmd"
   ]
  },
  {
   "cell_type": "code",
   "execution_count": 6,
   "metadata": {},
   "outputs": [
    {
     "ename": "ModuleNotFoundError",
     "evalue": "No module named 'openeye'",
     "output_type": "error",
     "traceback": [
      "\u001b[0;31m---------------------------------------------------------------------------\u001b[0m",
      "\u001b[0;31mModuleNotFoundError\u001b[0m                       Traceback (most recent call last)",
      "Cell \u001b[0;32mIn[6], line 2\u001b[0m\n\u001b[1;32m      1\u001b[0m \u001b[39m#OpenEye alternative\u001b[39;00m\n\u001b[0;32m----> 2\u001b[0m oe_pmd \u001b[39m=\u001b[39m Parameteriser\u001b[39m.\u001b[39;49mSolutionParameteriser\u001b[39m.\u001b[39;49mvia_openeye(benzene_smiles)\n\u001b[1;32m      3\u001b[0m oe_pmd\n",
      "File \u001b[0;32m/localhome/cschiebroek/MDFPs/mdfptools/examples/Parameteriser.py:491\u001b[0m, in \u001b[0;36mSolutionParameteriser.run\u001b[0;34m(cls, smiles, solvent_smiles, allow_undefined_stereo, num_solvent, density, default_padding, box_scaleup_factor, backend, **kwargs)\u001b[0m\n\u001b[1;32m    488\u001b[0m     \u001b[39mraise\u001b[39;00m \u001b[39mValueError\u001b[39;00m(\u001b[39m\"\u001b[39m\u001b[39mbackend should be either \u001b[39m\u001b[39m'\u001b[39m\u001b[39mopeneye\u001b[39m\u001b[39m'\u001b[39m\u001b[39m or \u001b[39m\u001b[39m'\u001b[39m\u001b[39mrdkit\u001b[39m\u001b[39m'\u001b[39m\u001b[39m\"\u001b[39m)  \u001b[39m# XXX allow more options\u001b[39;00m\n\u001b[1;32m    490\u001b[0m \u001b[39mif\u001b[39;00m backend \u001b[39m==\u001b[39m \u001b[39m\"\u001b[39m\u001b[39mopeneye\u001b[39m\u001b[39m\"\u001b[39m:\n\u001b[0;32m--> 491\u001b[0m     mol \u001b[39m=\u001b[39m \u001b[39mcls\u001b[39;49m\u001b[39m.\u001b[39;49m_openeye_setter(smiles, \u001b[39m*\u001b[39;49m\u001b[39m*\u001b[39;49mkwargs)\n\u001b[1;32m    492\u001b[0m     \u001b[39m# mol = cls._openeye_charger(mol)\u001b[39;00m\n\u001b[1;32m    493\u001b[0m     \u001b[39mcls\u001b[39m\u001b[39m.\u001b[39mpdb_filename, \u001b[39mcls\u001b[39m\u001b[39m.\u001b[39mligand_pmd \u001b[39m=\u001b[39m \u001b[39mcls\u001b[39m\u001b[39m.\u001b[39m_openeye_parameteriser(mol, \u001b[39m*\u001b[39m\u001b[39m*\u001b[39mkwargs)\n",
      "File \u001b[0;32m/localhome/cschiebroek/MDFPs/mdfptools/examples/Parameteriser.py:232\u001b[0m, in \u001b[0;36mBaseParameteriser._openeye_setter\u001b[0;34m(cls, smiles, **kwargs)\u001b[0m\n\u001b[1;32m    218\u001b[0m \u001b[39m@classmethod\u001b[39m\n\u001b[1;32m    219\u001b[0m \u001b[39mdef\u001b[39;00m \u001b[39m_openeye_setter\u001b[39m(\u001b[39mcls\u001b[39m, smiles, \u001b[39m*\u001b[39m\u001b[39m*\u001b[39mkwargs):\n\u001b[1;32m    220\u001b[0m \u001b[39m    \u001b[39m\u001b[39m\"\"\"\u001b[39;00m\n\u001b[1;32m    221\u001b[0m \u001b[39m    Prepares an openeye molecule with 3D coordinates.\u001b[39;00m\n\u001b[1;32m    222\u001b[0m \n\u001b[0;32m   (...)\u001b[0m\n\u001b[1;32m    230\u001b[0m \u001b[39m    mol : oechem.OEMol\u001b[39;00m\n\u001b[1;32m    231\u001b[0m \u001b[39m    \"\"\"\u001b[39;00m\n\u001b[0;32m--> 232\u001b[0m     \u001b[39mfrom\u001b[39;00m \u001b[39mopeneye\u001b[39;00m \u001b[39mimport\u001b[39;00m oechem  \u001b[39m# OpenEye Python toolkits\u001b[39;00m\n\u001b[1;32m    233\u001b[0m     \u001b[39mfrom\u001b[39;00m \u001b[39mopeneye\u001b[39;00m \u001b[39mimport\u001b[39;00m oeomega  \u001b[39m# Omega toolkit\u001b[39;00m\n\u001b[1;32m    234\u001b[0m     \u001b[39m# from openeye import oequacpac #Charge toolkit\u001b[39;00m\n\u001b[1;32m    235\u001b[0m \n\u001b[1;32m    236\u001b[0m     \u001b[39m# cls.smiles = smiles\u001b[39;00m\n",
      "\u001b[0;31mModuleNotFoundError\u001b[0m: No module named 'openeye'"
     ]
    }
   ],
   "source": [
    "#OpenEye alternative\n",
    "oe_pmd = Parameteriser.SolutionParameteriser.via_openeye(benzene_smiles)\n",
    "oe_pmd"
   ]
  },
  {
   "cell_type": "markdown",
   "metadata": {},
   "source": [
    "When using RDKit, by default the partial charge assignment to the small molecule is done via antechamber to yield AM1-BCC charges. \n",
    "\n",
    "We also developed a machine-learned alternative partial charge assignment scheme called [mlddec](github.com/rinikierlab/mlddec). Once this package is installed, one can charge the system using:"
   ]
  },
  {
   "cell_type": "code",
   "execution_count": 7,
   "metadata": {},
   "outputs": [
    {
     "name": "stdout",
     "output_type": "stream",
     "text": [
      "Loading models...\n"
     ]
    },
    {
     "name": "stderr",
     "output_type": "stream",
     "text": [
      "  0%|          | 0/10 [00:00<?, ?it/s]"
     ]
    },
    {
     "ename": "ModuleNotFoundError",
     "evalue": "No module named 'sklearn'",
     "output_type": "error",
     "traceback": [
      "\u001b[0;31m---------------------------------------------------------------------------\u001b[0m",
      "\u001b[0;31mModuleNotFoundError\u001b[0m                       Traceback (most recent call last)",
      "Cell \u001b[0;32mIn[7], line 1\u001b[0m\n\u001b[0;32m----> 1\u001b[0m Parameteriser\u001b[39m.\u001b[39;49mSolutionParameteriser\u001b[39m.\u001b[39;49mload_ddec_models()\n\u001b[1;32m      2\u001b[0m Parameteriser\u001b[39m.\u001b[39mSolutionParameteriser\u001b[39m.\u001b[39mvia_rdkit(benzene_smiles)\n",
      "File \u001b[0;32m/localhome/cschiebroek/MDFPs/mdfptools/examples/Parameteriser.py:198\u001b[0m, in \u001b[0;36mBaseParameteriser.load_ddec_models\u001b[0;34m(cls, epsilon, **kwargs)\u001b[0m\n\u001b[1;32m    195\u001b[0m \u001b[39mexcept\u001b[39;00m \u001b[39mImportError\u001b[39;00m:\n\u001b[1;32m    196\u001b[0m     \u001b[39mraise\u001b[39;00m \u001b[39mImportError\u001b[39;00m(\u001b[39m'\u001b[39m\u001b[39mmlddec not properly installed\u001b[39m\u001b[39m'\u001b[39m)\n\u001b[0;32m--> 198\u001b[0m \u001b[39mcls\u001b[39m\u001b[39m.\u001b[39mrf \u001b[39m=\u001b[39m mlddec\u001b[39m.\u001b[39;49mload_models(epsilon)\n\u001b[1;32m    199\u001b[0m \u001b[39m# cls.charge_engine = cls._ddec_charger\u001b[39;00m\n\u001b[1;32m    200\u001b[0m \u001b[39mcls\u001b[39m\u001b[39m.\u001b[39m_ddec_charger \u001b[39m=\u001b[39m mlddec\u001b[39m.\u001b[39mget_charges\n",
      "File \u001b[0;32m/localhome/cschiebroek/.conda/envs/mdfptools_installation/lib/python3.11/site-packages/mlddec-0.1-py3.11.egg/mlddec/utils.py:93\u001b[0m, in \u001b[0;36mload_models\u001b[0;34m(epsilon)\u001b[0m\n\u001b[1;32m     91\u001b[0m \u001b[39mtry\u001b[39;00m:\n\u001b[1;32m     92\u001b[0m     \u001b[39mif\u001b[39;00m progress_bar:\n\u001b[0;32m---> 93\u001b[0m         rf \u001b[39m=\u001b[39m {\n\u001b[1;32m     94\u001b[0m             element: [\n\u001b[1;32m     95\u001b[0m                 joblib\u001b[39m.\u001b[39;49mload(\n\u001b[1;32m     96\u001b[0m                     _get_data_filename(\u001b[39m\"\u001b[39;49m\u001b[39mepsilon_\u001b[39;49m\u001b[39m{}\u001b[39;49;00m\u001b[39m/\u001b[39;49m\u001b[39m{}\u001b[39;49;00m\u001b[39m_\u001b[39;49m\u001b[39m{}\u001b[39;49;00m\u001b[39m.model\u001b[39;49m\u001b[39m\"\u001b[39;49m\u001b[39m.\u001b[39;49mformat(\n\u001b[1;32m     97\u001b[0m                         epsilon, elementdict[element], i)))\n\u001b[1;32m     98\u001b[0m                 \u001b[39mfor\u001b[39;49;00m i \u001b[39min\u001b[39;49;00m \u001b[39mrange\u001b[39;49m(\u001b[39m100\u001b[39;49m)\n\u001b[1;32m     99\u001b[0m             ]\n\u001b[1;32m    100\u001b[0m             \u001b[39mfor\u001b[39;49;00m element \u001b[39min\u001b[39;49;00m tqdm\u001b[39m.\u001b[39;49mtqdm(element_list)\n\u001b[1;32m    101\u001b[0m         }\n\u001b[1;32m    103\u001b[0m     \u001b[39melse\u001b[39;00m:\n\u001b[1;32m    104\u001b[0m         rf \u001b[39m=\u001b[39m {\n\u001b[1;32m    105\u001b[0m             element: [\n\u001b[1;32m    106\u001b[0m                 joblib\u001b[39m.\u001b[39mload(\n\u001b[0;32m   (...)\u001b[0m\n\u001b[1;32m    111\u001b[0m             \u001b[39mfor\u001b[39;00m element \u001b[39min\u001b[39;00m element_list\n\u001b[1;32m    112\u001b[0m         }\n",
      "File \u001b[0;32m/localhome/cschiebroek/.conda/envs/mdfptools_installation/lib/python3.11/site-packages/mlddec-0.1-py3.11.egg/mlddec/utils.py:94\u001b[0m, in \u001b[0;36m<dictcomp>\u001b[0;34m(.0)\u001b[0m\n\u001b[1;32m     91\u001b[0m \u001b[39mtry\u001b[39;00m:\n\u001b[1;32m     92\u001b[0m     \u001b[39mif\u001b[39;00m progress_bar:\n\u001b[1;32m     93\u001b[0m         rf \u001b[39m=\u001b[39m {\n\u001b[0;32m---> 94\u001b[0m             element: [\n\u001b[1;32m     95\u001b[0m                 joblib\u001b[39m.\u001b[39;49mload(\n\u001b[1;32m     96\u001b[0m                     _get_data_filename(\u001b[39m\"\u001b[39;49m\u001b[39mepsilon_\u001b[39;49m\u001b[39m{}\u001b[39;49;00m\u001b[39m/\u001b[39;49m\u001b[39m{}\u001b[39;49;00m\u001b[39m_\u001b[39;49m\u001b[39m{}\u001b[39;49;00m\u001b[39m.model\u001b[39;49m\u001b[39m\"\u001b[39;49m\u001b[39m.\u001b[39;49mformat(\n\u001b[1;32m     97\u001b[0m                         epsilon, elementdict[element], i)))\n\u001b[1;32m     98\u001b[0m                 \u001b[39mfor\u001b[39;49;00m i \u001b[39min\u001b[39;49;00m \u001b[39mrange\u001b[39;49m(\u001b[39m100\u001b[39;49m)\n\u001b[1;32m     99\u001b[0m             ]\n\u001b[1;32m    100\u001b[0m             \u001b[39mfor\u001b[39;00m element \u001b[39min\u001b[39;00m tqdm\u001b[39m.\u001b[39mtqdm(element_list)\n\u001b[1;32m    101\u001b[0m         }\n\u001b[1;32m    103\u001b[0m     \u001b[39melse\u001b[39;00m:\n\u001b[1;32m    104\u001b[0m         rf \u001b[39m=\u001b[39m {\n\u001b[1;32m    105\u001b[0m             element: [\n\u001b[1;32m    106\u001b[0m                 joblib\u001b[39m.\u001b[39mload(\n\u001b[0;32m   (...)\u001b[0m\n\u001b[1;32m    111\u001b[0m             \u001b[39mfor\u001b[39;00m element \u001b[39min\u001b[39;00m element_list\n\u001b[1;32m    112\u001b[0m         }\n",
      "File \u001b[0;32m/localhome/cschiebroek/.conda/envs/mdfptools_installation/lib/python3.11/site-packages/mlddec-0.1-py3.11.egg/mlddec/utils.py:95\u001b[0m, in \u001b[0;36m<listcomp>\u001b[0;34m(.0)\u001b[0m\n\u001b[1;32m     91\u001b[0m \u001b[39mtry\u001b[39;00m:\n\u001b[1;32m     92\u001b[0m     \u001b[39mif\u001b[39;00m progress_bar:\n\u001b[1;32m     93\u001b[0m         rf \u001b[39m=\u001b[39m {\n\u001b[1;32m     94\u001b[0m             element: [\n\u001b[0;32m---> 95\u001b[0m                 joblib\u001b[39m.\u001b[39;49mload(\n\u001b[1;32m     96\u001b[0m                     _get_data_filename(\u001b[39m\"\u001b[39;49m\u001b[39mepsilon_\u001b[39;49m\u001b[39m{}\u001b[39;49;00m\u001b[39m/\u001b[39;49m\u001b[39m{}\u001b[39;49;00m\u001b[39m_\u001b[39;49m\u001b[39m{}\u001b[39;49;00m\u001b[39m.model\u001b[39;49m\u001b[39m\"\u001b[39;49m\u001b[39m.\u001b[39;49mformat(\n\u001b[1;32m     97\u001b[0m                         epsilon, elementdict[element], i)))\n\u001b[1;32m     98\u001b[0m                 \u001b[39mfor\u001b[39;00m i \u001b[39min\u001b[39;00m \u001b[39mrange\u001b[39m(\u001b[39m100\u001b[39m)\n\u001b[1;32m     99\u001b[0m             ]\n\u001b[1;32m    100\u001b[0m             \u001b[39mfor\u001b[39;00m element \u001b[39min\u001b[39;00m tqdm\u001b[39m.\u001b[39mtqdm(element_list)\n\u001b[1;32m    101\u001b[0m         }\n\u001b[1;32m    103\u001b[0m     \u001b[39melse\u001b[39;00m:\n\u001b[1;32m    104\u001b[0m         rf \u001b[39m=\u001b[39m {\n\u001b[1;32m    105\u001b[0m             element: [\n\u001b[1;32m    106\u001b[0m                 joblib\u001b[39m.\u001b[39mload(\n\u001b[0;32m   (...)\u001b[0m\n\u001b[1;32m    111\u001b[0m             \u001b[39mfor\u001b[39;00m element \u001b[39min\u001b[39;00m element_list\n\u001b[1;32m    112\u001b[0m         }\n",
      "File \u001b[0;32m/localhome/cschiebroek/.conda/envs/mdfptools_installation/lib/python3.11/site-packages/joblib/numpy_pickle.py:658\u001b[0m, in \u001b[0;36mload\u001b[0;34m(filename, mmap_mode)\u001b[0m\n\u001b[1;32m    652\u001b[0m             \u001b[39mif\u001b[39;00m \u001b[39misinstance\u001b[39m(fobj, \u001b[39mstr\u001b[39m):\n\u001b[1;32m    653\u001b[0m                 \u001b[39m# if the returned file object is a string, this means we\u001b[39;00m\n\u001b[1;32m    654\u001b[0m                 \u001b[39m# try to load a pickle file generated with an version of\u001b[39;00m\n\u001b[1;32m    655\u001b[0m                 \u001b[39m# Joblib so we load it with joblib compatibility function.\u001b[39;00m\n\u001b[1;32m    656\u001b[0m                 \u001b[39mreturn\u001b[39;00m load_compatibility(fobj)\n\u001b[0;32m--> 658\u001b[0m             obj \u001b[39m=\u001b[39m _unpickle(fobj, filename, mmap_mode)\n\u001b[1;32m    659\u001b[0m \u001b[39mreturn\u001b[39;00m obj\n",
      "File \u001b[0;32m/localhome/cschiebroek/.conda/envs/mdfptools_installation/lib/python3.11/site-packages/joblib/numpy_pickle.py:577\u001b[0m, in \u001b[0;36m_unpickle\u001b[0;34m(fobj, filename, mmap_mode)\u001b[0m\n\u001b[1;32m    575\u001b[0m obj \u001b[39m=\u001b[39m \u001b[39mNone\u001b[39;00m\n\u001b[1;32m    576\u001b[0m \u001b[39mtry\u001b[39;00m:\n\u001b[0;32m--> 577\u001b[0m     obj \u001b[39m=\u001b[39m unpickler\u001b[39m.\u001b[39;49mload()\n\u001b[1;32m    578\u001b[0m     \u001b[39mif\u001b[39;00m unpickler\u001b[39m.\u001b[39mcompat_mode:\n\u001b[1;32m    579\u001b[0m         warnings\u001b[39m.\u001b[39mwarn(\u001b[39m\"\u001b[39m\u001b[39mThe file \u001b[39m\u001b[39m'\u001b[39m\u001b[39m%s\u001b[39;00m\u001b[39m'\u001b[39m\u001b[39m has been generated with a \u001b[39m\u001b[39m\"\u001b[39m\n\u001b[1;32m    580\u001b[0m                       \u001b[39m\"\u001b[39m\u001b[39mjoblib version less than 0.10. \u001b[39m\u001b[39m\"\u001b[39m\n\u001b[1;32m    581\u001b[0m                       \u001b[39m\"\u001b[39m\u001b[39mPlease regenerate this pickle file.\u001b[39m\u001b[39m\"\u001b[39m\n\u001b[1;32m    582\u001b[0m                       \u001b[39m%\u001b[39m filename,\n\u001b[1;32m    583\u001b[0m                       \u001b[39mDeprecationWarning\u001b[39;00m, stacklevel\u001b[39m=\u001b[39m\u001b[39m3\u001b[39m)\n",
      "File \u001b[0;32m/localhome/cschiebroek/.conda/envs/mdfptools_installation/lib/python3.11/pickle.py:1213\u001b[0m, in \u001b[0;36m_Unpickler.load\u001b[0;34m(self)\u001b[0m\n\u001b[1;32m   1211\u001b[0m             \u001b[39mraise\u001b[39;00m \u001b[39mEOFError\u001b[39;00m\n\u001b[1;32m   1212\u001b[0m         \u001b[39massert\u001b[39;00m \u001b[39misinstance\u001b[39m(key, bytes_types)\n\u001b[0;32m-> 1213\u001b[0m         dispatch[key[\u001b[39m0\u001b[39;49m]](\u001b[39mself\u001b[39;49m)\n\u001b[1;32m   1214\u001b[0m \u001b[39mexcept\u001b[39;00m _Stop \u001b[39mas\u001b[39;00m stopinst:\n\u001b[1;32m   1215\u001b[0m     \u001b[39mreturn\u001b[39;00m stopinst\u001b[39m.\u001b[39mvalue\n",
      "File \u001b[0;32m/localhome/cschiebroek/.conda/envs/mdfptools_installation/lib/python3.11/pickle.py:1529\u001b[0m, in \u001b[0;36m_Unpickler.load_global\u001b[0;34m(self)\u001b[0m\n\u001b[1;32m   1527\u001b[0m module \u001b[39m=\u001b[39m \u001b[39mself\u001b[39m\u001b[39m.\u001b[39mreadline()[:\u001b[39m-\u001b[39m\u001b[39m1\u001b[39m]\u001b[39m.\u001b[39mdecode(\u001b[39m\"\u001b[39m\u001b[39mutf-8\u001b[39m\u001b[39m\"\u001b[39m)\n\u001b[1;32m   1528\u001b[0m name \u001b[39m=\u001b[39m \u001b[39mself\u001b[39m\u001b[39m.\u001b[39mreadline()[:\u001b[39m-\u001b[39m\u001b[39m1\u001b[39m]\u001b[39m.\u001b[39mdecode(\u001b[39m\"\u001b[39m\u001b[39mutf-8\u001b[39m\u001b[39m\"\u001b[39m)\n\u001b[0;32m-> 1529\u001b[0m klass \u001b[39m=\u001b[39m \u001b[39mself\u001b[39;49m\u001b[39m.\u001b[39;49mfind_class(module, name)\n\u001b[1;32m   1530\u001b[0m \u001b[39mself\u001b[39m\u001b[39m.\u001b[39mappend(klass)\n",
      "File \u001b[0;32m/localhome/cschiebroek/.conda/envs/mdfptools_installation/lib/python3.11/pickle.py:1580\u001b[0m, in \u001b[0;36m_Unpickler.find_class\u001b[0;34m(self, module, name)\u001b[0m\n\u001b[1;32m   1578\u001b[0m     \u001b[39melif\u001b[39;00m module \u001b[39min\u001b[39;00m _compat_pickle\u001b[39m.\u001b[39mIMPORT_MAPPING:\n\u001b[1;32m   1579\u001b[0m         module \u001b[39m=\u001b[39m _compat_pickle\u001b[39m.\u001b[39mIMPORT_MAPPING[module]\n\u001b[0;32m-> 1580\u001b[0m \u001b[39m__import__\u001b[39;49m(module, level\u001b[39m=\u001b[39;49m\u001b[39m0\u001b[39;49m)\n\u001b[1;32m   1581\u001b[0m \u001b[39mif\u001b[39;00m \u001b[39mself\u001b[39m\u001b[39m.\u001b[39mproto \u001b[39m>\u001b[39m\u001b[39m=\u001b[39m \u001b[39m4\u001b[39m:\n\u001b[1;32m   1582\u001b[0m     \u001b[39mreturn\u001b[39;00m _getattribute(sys\u001b[39m.\u001b[39mmodules[module], name)[\u001b[39m0\u001b[39m]\n",
      "\u001b[0;31mModuleNotFoundError\u001b[0m: No module named 'sklearn'"
     ]
    }
   ],
   "source": [
    "Parameteriser.SolutionParameteriser.load_ddec_models()\n",
    "Parameteriser.SolutionParameteriser.via_rdkit(benzene_smiles)"
   ]
  },
  {
   "cell_type": "markdown",
   "metadata": {},
   "source": [
    "After one is finished with using `Parameteriser` to prepare all the systems one wishes to subsequently simulate, the ddec models should be unloaded as they occupy quite some memory."
   ]
  },
  {
   "cell_type": "code",
   "execution_count": null,
   "metadata": {},
   "outputs": [],
   "source": [
    "Parameteriser.SolutionParameteriser.unload_ddec_models()"
   ]
  },
  {
   "cell_type": "markdown",
   "metadata": {},
   "source": [
    "The parameterised systems as parmed objects can be stored to disk and reloaded into memory using pickle:"
   ]
  },
  {
   "cell_type": "code",
   "execution_count": 8,
   "metadata": {},
   "outputs": [
    {
     "data": {
      "text/plain": [
       "<Structure 1494 atoms; 495 residues; 1000 bonds; PBC (orthogonal); parameterized>"
      ]
     },
     "execution_count": 8,
     "metadata": {},
     "output_type": "execute_result"
    }
   ],
   "source": [
    "import pickle\n",
    "#store to disk\n",
    "pickle.dump(rdk_pmd, open(\"./benzene.pickle\", \"wb\"))\n",
    "\n",
    "# Load the pickled object back to memory:\n",
    "pickle.load(open(\"./benzene.pickle\", \"rb\"))"
   ]
  },
  {
   "cell_type": "markdown",
   "metadata": {},
   "source": [
    "# Visualisation (Optional)\n",
    "You can have a look at the parameterised parmed system inside Jupyter notebook (Jupyter lab does not seem to work) using [nglview](https://github.com/arose/nglview). "
   ]
  },
  {
   "cell_type": "code",
   "execution_count": 10,
   "metadata": {},
   "outputs": [
    {
     "data": {
      "application/vnd.jupyter.widget-view+json": {
       "model_id": "e1ca41fdeb434cf6a0dc370274d36116",
       "version_major": 2,
       "version_minor": 0
      },
      "text/plain": [
       "NGLWidget()"
      ]
     },
     "metadata": {},
     "output_type": "display_data"
    }
   ],
   "source": [
    "import nglview as nv\n",
    "view = nv.show_parmed(rdk_pmd)\n",
    "view.add_licorice()\n",
    "view"
   ]
  },
  {
   "cell_type": "markdown",
   "metadata": {},
   "source": [
    "# Simulation\n",
    "To simulate, just import the right simulator and call the `via_openmm()` class method, which as the name implies runs MD using OpenMM under the hood. \n",
    "\n",
    "We plan to include another python handle in GROMACS which will enable `via_gromacs()` in the future.\n",
    "\n",
    "The default simulation length is 5 ns, with trajectory frame stored every 10 ps (so 1 frame is stored after every 5000 steps, totally 500 frames). The simulation will take some time to run."
   ]
  },
  {
   "cell_type": "code",
   "execution_count": 12,
   "metadata": {},
   "outputs": [
    {
     "data": {
      "text/plain": [
       "'/localhome/cschiebroek/MDFPs/mdfptools/examples/benzene.h5'"
      ]
     },
     "execution_count": 12,
     "metadata": {},
     "output_type": "execute_result"
    }
   ],
   "source": [
    "from Simulator import SolutionSimulator\n",
    "SolutionSimulator.via_openmm(rdk_pmd, file_name = \"benzene\", file_path = \"./\", \n",
    "                             platform = \"CUDA\", num_steps = 5000 * 500)"
   ]
  },
  {
   "cell_type": "markdown",
   "metadata": {},
   "source": [
    "# Obtain Molecular Dynamics Fingerprint (MDFP)\n",
    "Once the simulation has finished, one can extract the relevant properties using the right `Composer` (`SolutionComposer` here). "
   ]
  },
  {
   "cell_type": "code",
   "execution_count": 13,
   "metadata": {},
   "outputs": [
    {
     "name": "stderr",
     "output_type": "stream",
     "text": [
      "/localhome/cschiebroek/.conda/envs/mdfptools_installation/lib/python3.11/site-packages/mdtraj/core/trajectory.py:439: UserWarning: top= kwargs ignored since this file parser does not support it\n",
      "  warnings.warn('top= kwargs ignored since this file parser does not support it')\n"
     ]
    }
   ],
   "source": [
    "#First load in the simulated trajectory\n",
    "import mdtraj as md\n",
    "traj = md.load(\"./benzene.h5\")"
   ]
  },
  {
   "cell_type": "code",
   "execution_count": 18,
   "metadata": {},
   "outputs": [],
   "source": [
    "from Composer import SolutionComposer\n",
    "mdfp = SolutionComposer.run(traj, rdk_pmd)"
   ]
  },
  {
   "cell_type": "markdown",
   "metadata": {},
   "source": [
    "The returned object from a Composer is a `MDFP` object. As can be seen from above, it contains more information.\n",
    "To use it for the subsequent machine learning tasks, call the `get_mdfp()` method to get the feature vectors (i.e. just the values not the keys)"
   ]
  },
  {
   "cell_type": "code",
   "execution_count": 19,
   "metadata": {},
   "outputs": [
    {
     "data": {
      "text/plain": [
       "[6,\n",
       " 0,\n",
       " 0,\n",
       " 0,\n",
       " 0,\n",
       " 0,\n",
       " 0,\n",
       " 0,\n",
       " 0,\n",
       " 0,\n",
       " 8.450071288488036,\n",
       " 0.06826284991108202,\n",
       " 8.445589841856616,\n",
       " 14.612581508541222,\n",
       " 0.36506963120552305,\n",
       " 14.556281747113932,\n",
       " -17.937042693121423,\n",
       " 9.534483380689064,\n",
       " -18.129155664813904,\n",
       " -20.717649206787815,\n",
       " 5.1167609700951715,\n",
       " -21.409579146549156,\n",
       " 23.06265279702926,\n",
       " 0.3725312154571262,\n",
       " 23.003904696659248,\n",
       " -38.654691899909245,\n",
       " 9.578588988605237,\n",
       " -38.818633907118866,\n",
       " 0.15101096959520477,\n",
       " 7.867008473163575e-05,\n",
       " 0.15102645991149116,\n",
       " 2.435979,\n",
       " 0.008113981,\n",
       " 2.435612]"
      ]
     },
     "execution_count": 19,
     "metadata": {},
     "output_type": "execute_result"
    }
   ],
   "source": [
    "mdfp.get_mdfp()"
   ]
  }
 ],
 "metadata": {
  "kernelspec": {
   "display_name": "Python 3",
   "language": "python",
   "name": "python3"
  },
  "language_info": {
   "codemirror_mode": {
    "name": "ipython",
    "version": 3
   },
   "file_extension": ".py",
   "mimetype": "text/x-python",
   "name": "python",
   "nbconvert_exporter": "python",
   "pygments_lexer": "ipython3",
   "version": "3.11.5"
  }
 },
 "nbformat": 4,
 "nbformat_minor": 4
}
