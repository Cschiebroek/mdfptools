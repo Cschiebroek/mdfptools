{
 "cells": [
  {
   "cell_type": "code",
   "execution_count": 8,
   "metadata": {},
   "outputs": [
    {
     "name": "stderr",
     "output_type": "stream",
     "text": [
      "/localhome/cschiebroek/.conda/envs/mdfp_carl/lib/python3.11/site-packages/parmed/structure.py:1775: UnitStrippedWarning: The unit of the quantity is stripped when downcasting to ndarray.\n",
      "  coords = np.array(value, dtype=np.float64, copy=False, subok=True)\n"
     ]
    },
    {
     "data": {
      "text/plain": [
       "<Structure 1500 atoms; 497 residues; 1004 bonds; PBC (orthogonal); parameterized>"
      ]
     },
     "execution_count": 8,
     "metadata": {},
     "output_type": "execute_result"
    }
   ],
   "source": [
    "import Parameteriser\n",
    "from Simulator import SolutionSimulator\n",
    "\n",
    "rdk_pmd = Parameteriser.SolutionParameteriser.via_rdkit(\"c1ccccc1\")\n",
    "rdk_pmd\n"
   ]
  },
  {
   "cell_type": "code",
   "execution_count": 1,
   "metadata": {},
   "outputs": [
    {
     "data": {
      "application/vnd.jupyter.widget-view+json": {
       "model_id": "eb8ed43faf4f4e5fb4eedd51f30cfd73",
       "version_major": 2,
       "version_minor": 0
      },
      "text/plain": []
     },
     "metadata": {},
     "output_type": "display_data"
    },
    {
     "name": "stderr",
     "output_type": "stream",
     "text": [
      "/localhome/cschiebroek/.conda/envs/mdfp_carl/lib/python3.11/site-packages/parmed/structure.py:1775: UnitStrippedWarning: The unit of the quantity is stripped when downcasting to ndarray.\n",
      "  coords = np.array(value, dtype=np.float64, copy=False, subok=True)\n"
     ]
    },
    {
     "data": {
      "text/plain": [
       "<Structure 1494 atoms; 495 residues; 1000 bonds; PBC (orthogonal); parameterized>"
      ]
     },
     "execution_count": 1,
     "metadata": {},
     "output_type": "execute_result"
    }
   ],
   "source": [
    "import Parameteriser_constrained\n",
    "from Simulator import SolutionSimulator\n",
    "\n",
    "rdk_pmd_constrained = Parameteriser_constrained.SolutionParameteriser.via_rdkit(\"c1ccccc1\")\n",
    "rdk_pmd_constrained\n"
   ]
  },
  {
   "cell_type": "code",
   "execution_count": 3,
   "metadata": {},
   "outputs": [
    {
     "ename": "AttributeError",
     "evalue": "'NoneType' object has no attribute 'req'",
     "output_type": "error",
     "traceback": [
      "\u001b[0;31m---------------------------------------------------------------------------\u001b[0m",
      "\u001b[0;31mAttributeError\u001b[0m                            Traceback (most recent call last)",
      "Cell \u001b[0;32mIn[3], line 2\u001b[0m\n\u001b[1;32m      1\u001b[0m \u001b[39mfrom\u001b[39;00m \u001b[39mSimulator\u001b[39;00m \u001b[39mimport\u001b[39;00m SolutionSimulator\n\u001b[0;32m----> 2\u001b[0m SolutionSimulator\u001b[39m.\u001b[39;49mvia_openmm(rdk_pmd_constrained, file_name \u001b[39m=\u001b[39;49m \u001b[39m\"\u001b[39;49m\u001b[39mbenzene_constrained\u001b[39;49m\u001b[39m\"\u001b[39;49m, file_path \u001b[39m=\u001b[39;49m \u001b[39m\"\u001b[39;49m\u001b[39m./\u001b[39;49m\u001b[39m\"\u001b[39;49m, \n\u001b[1;32m      3\u001b[0m                              platform \u001b[39m=\u001b[39;49m \u001b[39m\"\u001b[39;49m\u001b[39mCUDA\u001b[39;49m\u001b[39m\"\u001b[39;49m, num_steps \u001b[39m=\u001b[39;49m \u001b[39m5000\u001b[39;49m \u001b[39m*\u001b[39;49m \u001b[39m500\u001b[39;49m)\n",
      "File \u001b[0;32m/localhome/cschiebroek/MDFPs/mdfptools-1/examples/Simulator.py:69\u001b[0m, in \u001b[0;36mBaseSimulator.via_openmm\u001b[0;34m(cls, parmed_obj, file_name, file_path, platform, num_steps, write_out_freq, report_equilibration, report_production, constrain_all_bonds, **kwargs)\u001b[0m\n\u001b[1;32m     66\u001b[0m constrain_what_bond \u001b[39m=\u001b[39m app\u001b[39m.\u001b[39mAllBonds \u001b[39mif\u001b[39;00m constrain_all_bonds \u001b[39melse\u001b[39;00m app\u001b[39m.\u001b[39mHBonds\n\u001b[1;32m     67\u001b[0m \u001b[39m# print(constrain_what_bond)\u001b[39;00m\n\u001b[1;32m     68\u001b[0m \u001b[39m##################3\u001b[39;00m\n\u001b[0;32m---> 69\u001b[0m system \u001b[39m=\u001b[39m pmd\u001b[39m.\u001b[39;49mcreateSystem(nonbondedMethod\u001b[39m=\u001b[39;49mapp\u001b[39m.\u001b[39;49mPME, nonbondedCutoff\u001b[39m=\u001b[39;49m\u001b[39m1\u001b[39;49m\u001b[39m*\u001b[39;49munit\u001b[39m.\u001b[39;49mnanometer, constraints\u001b[39m=\u001b[39;49mapp\u001b[39m.\u001b[39;49mHBonds, rigidWater\u001b[39m=\u001b[39;49m\u001b[39mFalse\u001b[39;49;00m)\n\u001b[1;32m     70\u001b[0m \u001b[39m# tmp_dir = tempfile.mkdtemp(dir = file_path) #FIXME just change this to debug dir in dubug mode\u001b[39;00m\n\u001b[1;32m     71\u001b[0m \u001b[39m# pmd.save(\"{}/tmp.inpcrd\".format(tmp_dir), overwrite = True)\u001b[39;00m\n\u001b[1;32m     72\u001b[0m \u001b[39m# inpcrd = app.AmberInpcrdFile(\"{}/tmp.inpcrd\".format(tmp_dir))\u001b[39;00m\n\u001b[0;32m   (...)\u001b[0m\n\u001b[1;32m     75\u001b[0m \u001b[39m# system = prmtop.createSystem(nonbondedMethod=app.PME, nonbondedCutoff=1*unit.nanometer, constraints=constrain_what_bond)\u001b[39;00m\n\u001b[1;32m     76\u001b[0m \u001b[39m#####################3\u001b[39;00m\n\u001b[1;32m     78\u001b[0m thermostat \u001b[39m=\u001b[39m AndersenThermostat(\u001b[39mcls\u001b[39m\u001b[39m.\u001b[39mtemperature, \u001b[39m1\u001b[39m\u001b[39m/\u001b[39munit\u001b[39m.\u001b[39mpicosecond)\n",
      "File \u001b[0;32m/localhome/cschiebroek/.conda/envs/mdfp_carl/lib/python3.11/site-packages/parmed/utils/decorators.py:18\u001b[0m, in \u001b[0;36mneeds_openmm.<locals>.new_fcn\u001b[0;34m(*args, **kwargs)\u001b[0m\n\u001b[1;32m     16\u001b[0m \u001b[39mif\u001b[39;00m \u001b[39mnot\u001b[39;00m HAS_OPENMM:\n\u001b[1;32m     17\u001b[0m     \u001b[39mraise\u001b[39;00m \u001b[39mImportError\u001b[39;00m(\u001b[39m'\u001b[39m\u001b[39mCould not find or import OpenMM version 7.0+\u001b[39m\u001b[39m'\u001b[39m)\n\u001b[0;32m---> 18\u001b[0m \u001b[39mreturn\u001b[39;00m fcn(\u001b[39m*\u001b[39;49margs, \u001b[39m*\u001b[39;49m\u001b[39m*\u001b[39;49mkwargs)\n",
      "File \u001b[0;32m/localhome/cschiebroek/.conda/envs/mdfp_carl/lib/python3.11/site-packages/parmed/structure.py:2102\u001b[0m, in \u001b[0;36mStructure.createSystem\u001b[0;34m(self, nonbondedMethod, nonbondedCutoff, switchDistance, constraints, rigidWater, implicitSolvent, implicitSolventKappa, implicitSolventSaltConc, temperature, soluteDielectric, solventDielectric, useSASA, removeCMMotion, hydrogenMass, ewaldErrorTolerance, flexibleConstraints, splitDihedrals, drudeMass, **kwargs)\u001b[0m\n\u001b[1;32m   2100\u001b[0m \u001b[39mfor\u001b[39;00m mass \u001b[39min\u001b[39;00m masses:\n\u001b[1;32m   2101\u001b[0m     system\u001b[39m.\u001b[39maddParticle(mass)\n\u001b[0;32m-> 2102\u001b[0m \u001b[39mself\u001b[39;49m\u001b[39m.\u001b[39;49momm_add_constraints(system, constraints, rigidWater)\n\u001b[1;32m   2103\u001b[0m \u001b[39m# Prune empty terms if we have changed\u001b[39;00m\n\u001b[1;32m   2104\u001b[0m \u001b[39mif\u001b[39;00m \u001b[39mself\u001b[39m\u001b[39m.\u001b[39mis_changed():\n",
      "File \u001b[0;32m/localhome/cschiebroek/.conda/envs/mdfp_carl/lib/python3.11/site-packages/parmed/utils/decorators.py:18\u001b[0m, in \u001b[0;36mneeds_openmm.<locals>.new_fcn\u001b[0;34m(*args, **kwargs)\u001b[0m\n\u001b[1;32m     16\u001b[0m \u001b[39mif\u001b[39;00m \u001b[39mnot\u001b[39;00m HAS_OPENMM:\n\u001b[1;32m     17\u001b[0m     \u001b[39mraise\u001b[39;00m \u001b[39mImportError\u001b[39;00m(\u001b[39m'\u001b[39m\u001b[39mCould not find or import OpenMM version 7.0+\u001b[39m\u001b[39m'\u001b[39m)\n\u001b[0;32m---> 18\u001b[0m \u001b[39mreturn\u001b[39;00m fcn(\u001b[39m*\u001b[39;49margs, \u001b[39m*\u001b[39;49m\u001b[39m*\u001b[39;49mkwargs)\n",
      "File \u001b[0;32m/localhome/cschiebroek/.conda/envs/mdfp_carl/lib/python3.11/site-packages/parmed/structure.py:2225\u001b[0m, in \u001b[0;36mStructure.omm_add_constraints\u001b[0;34m(self, system, constraints, rigidWater)\u001b[0m\n\u001b[1;32m   2222\u001b[0m \u001b[39mfor\u001b[39;00m bond \u001b[39min\u001b[39;00m \u001b[39mself\u001b[39m\u001b[39m.\u001b[39mbonds:\n\u001b[1;32m   2223\u001b[0m     \u001b[39mif\u001b[39;00m \u001b[39mfrozenset\u001b[39m((bond\u001b[39m.\u001b[39matom1\u001b[39m.\u001b[39midx, bond\u001b[39m.\u001b[39matom2\u001b[39m.\u001b[39midx)) \u001b[39min\u001b[39;00m constraint_bond_set:\n\u001b[1;32m   2224\u001b[0m         system\u001b[39m.\u001b[39maddConstraint(\n\u001b[0;32m-> 2225\u001b[0m             bond\u001b[39m.\u001b[39matom1\u001b[39m.\u001b[39midx, bond\u001b[39m.\u001b[39matom2\u001b[39m.\u001b[39midx, bond\u001b[39m.\u001b[39;49mtype\u001b[39m.\u001b[39;49mreq \u001b[39m*\u001b[39m length_conv)\n\u001b[1;32m   2227\u001b[0m \u001b[39mif\u001b[39;00m constraints \u001b[39mis\u001b[39;00m app\u001b[39m.\u001b[39mHAngles:\n\u001b[1;32m   2228\u001b[0m     \u001b[39mfor\u001b[39;00m angle \u001b[39min\u001b[39;00m \u001b[39mself\u001b[39m\u001b[39m.\u001b[39mangles:\n",
      "\u001b[0;31mAttributeError\u001b[0m: 'NoneType' object has no attribute 'req'"
     ]
    }
   ],
   "source": [
    "from Simulator import SolutionSimulator\n",
    "SolutionSimulator.via_openmm(rdk_pmd_constrained, file_name = \"benzene_constrained\", file_path = \"./\", \n",
    "                             platform = \"CUDA\", num_steps = 5000 * 500)"
   ]
  },
  {
   "cell_type": "code",
   "execution_count": 9,
   "metadata": {},
   "outputs": [
    {
     "data": {
      "text/plain": [
       "'/localhome/cschiebroek/MDFPs/mdfptools-1/examples/benzene.h5'"
      ]
     },
     "execution_count": 9,
     "metadata": {},
     "output_type": "execute_result"
    }
   ],
   "source": [
    "SolutionSimulator.via_openmm(rdk_pmd, file_name = \"benzene\", file_path = \"./\", \n",
    "                             platform = \"CUDA\", num_steps = 5000 * 500)"
   ]
  },
  {
   "cell_type": "code",
   "execution_count": 10,
   "metadata": {},
   "outputs": [
    {
     "name": "stderr",
     "output_type": "stream",
     "text": [
      "/localhome/cschiebroek/.conda/envs/mdfp_carl/lib/python3.11/site-packages/mdtraj/core/trajectory.py:439: UserWarning: top= kwargs ignored since this file parser does not support it\n",
      "  warnings.warn('top= kwargs ignored since this file parser does not support it')\n"
     ]
    }
   ],
   "source": [
    "#First load in the simulated trajectory\n",
    "import mdtraj as md\n",
    "traj = md.load(\"./benzene.h5\")"
   ]
  },
  {
   "cell_type": "code",
   "execution_count": 15,
   "metadata": {},
   "outputs": [],
   "source": [
    "from Composer import SolutionComposer\n",
    "mdfp = SolutionComposer.run(traj, rdk_pmd,smiles=\"c1ccccc1\")"
   ]
  },
  {
   "cell_type": "markdown",
   "metadata": {},
   "source": [
    "The returned object from a Composer is a `MDFP` object. As can be seen from above, it contains more information.\n",
    "To use it for the subsequent machine learning tasks, call the `get_mdfp()` method to get the feature vectors (i.e. just the values not the keys)"
   ]
  },
  {
   "cell_type": "code",
   "execution_count": 27,
   "metadata": {},
   "outputs": [
    {
     "name": "stdout",
     "output_type": "stream",
     "text": [
      "[6, 0, 0, 0, 0, 0, 0, 0, 0, 0, 8.449853464132135, 0.08582111145660468, 8.441295681995182, 22.377345228101785, 0.554998685766172, 22.257757119441322, -16.95474881151296, 9.940047292255558, -16.481335399377038, -15.582322274073302, 5.718904951407143, -16.232199446655756, 30.827198692233917, 0.5674452115357036, 30.698609726670785, -32.53707108558626, 9.473301252108618, -32.46123091060353, 0.15048547845062343, 7.22533132975676e-05, 0.1505005645108472, 2.4337163, 0.008083881, 2.4337869]\n"
     ]
    }
   ],
   "source": [
    "print(mdfp.get_mdfp())"
   ]
  },
  {
   "cell_type": "code",
   "execution_count": 29,
   "metadata": {},
   "outputs": [
    {
     "ename": "AttributeError",
     "evalue": "'NoneType' object has no attribute 'used'",
     "output_type": "error",
     "traceback": [
      "\u001b[0;31m---------------------------------------------------------------------------\u001b[0m",
      "\u001b[0;31mAttributeError\u001b[0m                            Traceback (most recent call last)",
      "Cell \u001b[0;32mIn[29], line 18\u001b[0m\n\u001b[1;32m     16\u001b[0m openmm_system \u001b[39m=\u001b[39m forcefield\u001b[39m.\u001b[39mcreate_openmm_system(topology, charge_from_molecules\u001b[39m=\u001b[39m[molecule])\n\u001b[1;32m     17\u001b[0m structure \u001b[39m=\u001b[39m  parmed\u001b[39m.\u001b[39mopenmm\u001b[39m.\u001b[39mtopsystem\u001b[39m.\u001b[39mload_topology(topology\u001b[39m.\u001b[39mto_openmm(), openmm_system, [[\u001b[39m1\u001b[39m,\u001b[39m0\u001b[39m,\u001b[39m0\u001b[39m],[\u001b[39m0\u001b[39m,\u001b[39m1\u001b[39m,\u001b[39m0\u001b[39m],[\u001b[39m0\u001b[39m,\u001b[39m0\u001b[39m,\u001b[39m1\u001b[39m]])\n\u001b[0;32m---> 18\u001b[0m structure\u001b[39m.\u001b[39;49msave(\u001b[39m\"\u001b[39;49m\u001b[39mtip3p_updated_carl.prmtop\u001b[39;49m\u001b[39m\"\u001b[39;49m)\n",
      "File \u001b[0;32m/localhome/cschiebroek/.conda/envs/mdfp_carl/lib/python3.11/site-packages/parmed/structure.py:1566\u001b[0m, in \u001b[0;36mStructure.save\u001b[0;34m(self, fname, format, overwrite, **kwargs)\u001b[0m\n\u001b[1;32m   1564\u001b[0m \u001b[39melse\u001b[39;00m:\n\u001b[1;32m   1565\u001b[0m     \u001b[39mtry\u001b[39;00m:\n\u001b[0;32m-> 1566\u001b[0m         s \u001b[39m=\u001b[39m amber\u001b[39m.\u001b[39;49mAmberParm\u001b[39m.\u001b[39;49mfrom_structure(\u001b[39mself\u001b[39;49m)\n\u001b[1;32m   1567\u001b[0m     \u001b[39mexcept\u001b[39;00m \u001b[39mTypeError\u001b[39;00m \u001b[39mas\u001b[39;00m e:\n\u001b[1;32m   1568\u001b[0m         \u001b[39mif\u001b[39;00m \u001b[39m'\u001b[39m\u001b[39mCannot translate exceptions\u001b[39m\u001b[39m'\u001b[39m \u001b[39min\u001b[39;00m \u001b[39mstr\u001b[39m(e):\n",
      "File \u001b[0;32m/localhome/cschiebroek/.conda/envs/mdfp_carl/lib/python3.11/site-packages/parmed/amber/_amberparm.py:331\u001b[0m, in \u001b[0;36mAmberParm.from_structure\u001b[0;34m(cls, struct, copy)\u001b[0m\n\u001b[1;32m    326\u001b[0m \u001b[39m# pmemd likes to skip torsions with periodicities of 0, which may be\u001b[39;00m\n\u001b[1;32m    327\u001b[0m \u001b[39m# present as a way to hack entries into the 1-4 pairlist. See\u001b[39;00m\n\u001b[1;32m    328\u001b[0m \u001b[39m# https://github.com/ParmEd/ParmEd/pull/145 for discussion. The solution\u001b[39;00m\n\u001b[1;32m    329\u001b[0m \u001b[39m# here is to simply set that periodicity to 1.\u001b[39;00m\n\u001b[1;32m    330\u001b[0m inst\u001b[39m.\u001b[39m_cleanup_dihedrals_with_periodicity_zero()\n\u001b[0;32m--> 331\u001b[0m inst\u001b[39m.\u001b[39;49mremake_parm()\n\u001b[1;32m    332\u001b[0m inst\u001b[39m.\u001b[39m_set_nonbonded_tables(nbfixes)\n\u001b[1;32m    333\u001b[0m n_copy \u001b[39m=\u001b[39m inst\u001b[39m.\u001b[39mpointers\u001b[39m.\u001b[39mget(\u001b[39m'\u001b[39m\u001b[39mNCOPY\u001b[39m\u001b[39m'\u001b[39m, \u001b[39m1\u001b[39m)\n",
      "File \u001b[0;32m/localhome/cschiebroek/.conda/envs/mdfp_carl/lib/python3.11/site-packages/parmed/amber/_amberparm.py:655\u001b[0m, in \u001b[0;36mAmberParm.remake_parm\u001b[0;34m(self)\u001b[0m\n\u001b[1;32m    653\u001b[0m \u001b[39mself\u001b[39m\u001b[39m.\u001b[39m_xfer_atom_info()\n\u001b[1;32m    654\u001b[0m \u001b[39mself\u001b[39m\u001b[39m.\u001b[39m_xfer_residue_info()\n\u001b[0;32m--> 655\u001b[0m \u001b[39mself\u001b[39;49m\u001b[39m.\u001b[39;49m_xfer_bond_info()\n\u001b[1;32m    656\u001b[0m \u001b[39mself\u001b[39m\u001b[39m.\u001b[39m_xfer_angle_info()\n\u001b[1;32m    657\u001b[0m \u001b[39mself\u001b[39m\u001b[39m.\u001b[39m_xfer_dihedral_info()\n",
      "File \u001b[0;32m/localhome/cschiebroek/.conda/envs/mdfp_carl/lib/python3.11/site-packages/parmed/amber/_amberparm.py:1560\u001b[0m, in \u001b[0;36mAmberParm._xfer_bond_info\u001b[0;34m(self)\u001b[0m\n\u001b[1;32m   1558\u001b[0m     bond_type\u001b[39m.\u001b[39mused \u001b[39m=\u001b[39m \u001b[39mFalse\u001b[39;00m\n\u001b[1;32m   1559\u001b[0m \u001b[39mfor\u001b[39;00m bond \u001b[39min\u001b[39;00m \u001b[39mself\u001b[39m\u001b[39m.\u001b[39mbonds:\n\u001b[0;32m-> 1560\u001b[0m     bond\u001b[39m.\u001b[39;49mtype\u001b[39m.\u001b[39;49mused \u001b[39m=\u001b[39m \u001b[39mTrue\u001b[39;00m\n\u001b[1;32m   1561\u001b[0m \u001b[39mself\u001b[39m\u001b[39m.\u001b[39mbond_types\u001b[39m.\u001b[39mprune_unused()\n\u001b[1;32m   1562\u001b[0m data[\u001b[39m'\u001b[39m\u001b[39mBOND_FORCE_CONSTANT\u001b[39m\u001b[39m'\u001b[39m] \u001b[39m=\u001b[39m [\u001b[39mtype\u001b[39m\u001b[39m.\u001b[39mk \u001b[39mfor\u001b[39;00m \u001b[39mtype\u001b[39m \u001b[39min\u001b[39;00m \u001b[39mself\u001b[39m\u001b[39m.\u001b[39mbond_types]\n",
      "\u001b[0;31mAttributeError\u001b[0m: 'NoneType' object has no attribute 'used'"
     ]
    }
   ],
   "source": [
    "from openff.toolkit.utils import get_data_file_path\n",
    "from openff.toolkit.topology import Molecule, Topology\n",
    "from openff.toolkit.typing.engines.smirnoff import ForceField\n",
    "import numpy as np\n",
    "from simtk import unit\n",
    "from openff.toolkit.typing.engines.smirnoff.parameters import LibraryChargeHandler\n",
    "import parmed\n",
    "\n",
    "sdf_filepath = get_data_file_path('systems/monomers/water.sdf')\n",
    "molecule = Molecule(sdf_filepath)\n",
    "molecule.partial_charges = np.asarray([-0.7850000262260437,0.39250001311302185,0.39250001311302185]) * unit.elementary_charge\n",
    "library_charge_type = LibraryChargeHandler.LibraryChargeType.from_molecule(molecule)\n",
    "forcefield = ForceField(\"openff_unconstrained-2.1.0.offxml\")\n",
    "forcefield[\"LibraryCharges\"].add_parameter(parameter=library_charge_type)\n",
    "topology = molecule.to_topology()\n",
    "openmm_system = forcefield.create_openmm_system(topology, charge_from_molecules=[molecule])\n",
    "structure =  parmed.openmm.topsystem.load_topology(topology.to_openmm(), openmm_system, [[1,0,0],[0,1,0],[0,0,1]])\n",
    "structure.save(\"tip3p_updated_carl.prmtop\")"
   ]
  },
  {
   "cell_type": "code",
   "execution_count": 35,
   "metadata": {},
   "outputs": [
    {
     "name": "stderr",
     "output_type": "stream",
     "text": [
      "/localhome/cschiebroek/.conda/envs/mdfp_carl/lib/python3.11/site-packages/parmed/structure.py:1775: UnitStrippedWarning: The unit of the quantity is stripped when downcasting to ndarray.\n",
      "  coords = np.array(value, dtype=np.float64, copy=False, subok=True)\n"
     ]
    }
   ],
   "source": [
    "smiles = 'c1ccccc1'\n",
    "rdk_pmd = Parameteriser.SolutionParameteriser.via_rdkit(smiles)\n",
    "rdk_pmd.\n",
    "# ch = forcefield.get_parameter_handler('Constraints')\n",
    "# ch.add_parameter({'smirks': '[#1:1]-[*:2]'})\n",
    "# print(ch)"
   ]
  }
 ],
 "metadata": {
  "kernelspec": {
   "display_name": "Python 3",
   "language": "python",
   "name": "python3"
  },
  "language_info": {
   "codemirror_mode": {
    "name": "ipython",
    "version": 3
   },
   "file_extension": ".py",
   "mimetype": "text/x-python",
   "name": "python",
   "nbconvert_exporter": "python",
   "pygments_lexer": "ipython3",
   "version": "3.11.5"
  }
 },
 "nbformat": 4,
 "nbformat_minor": 4
}
