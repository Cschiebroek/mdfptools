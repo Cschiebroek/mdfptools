{
 "cells": [
  {
   "cell_type": "code",
   "execution_count": 3,
   "metadata": {},
   "outputs": [],
   "source": [
    "import glob\n",
    "import pickle\n",
    "import gzip"
   ]
  },
  {
   "cell_type": "markdown",
   "metadata": {},
   "source": [
    "used for 11093a30-b6d0-4e3f-a22b-8dcad60d6a11_100"
   ]
  },
  {
   "cell_type": "code",
   "execution_count": 8,
   "metadata": {},
   "outputs": [
    {
     "name": "stdout",
     "output_type": "stream",
     "text": [
      "3019 3019 3019\n"
     ]
    }
   ],
   "source": [
    "molregnos,mols,errors = [],[],[]\n",
    "for file in glob.glob('./confgen/*.pkl.gz'):\n",
    "    with gzip.open(file,'rb') as inf:\n",
    "        ind =pickle.load(inf)\n",
    "        for mol in ind:\n",
    "            molregnos.append(mol[0])\n",
    "            mols.append(mol[1])\n",
    "            errors.append(mol[2])\n",
    "print(len(molregnos),len(mols),len(errors))"
   ]
  },
  {
   "cell_type": "code",
   "execution_count": 34,
   "metadata": {},
   "outputs": [],
   "source": [
    "from rdkit import Chem\n",
    "from rdkit.Chem import AllChem\n",
    "from rdkit.SimDivFilters import rdSimDivPickers\n",
    "\n",
    "picker = rdSimDivPickers.MaxMinPicker()\n",
    "\n",
    "def pick_conformers(mol,picks):\n",
    "    def custom_rmsd_distance(i, j):\n",
    "        return AllChem.GetBestRMS(mol,mol,i,j)\n",
    "    selected_indices = list(picker.LazyPick(custom_rmsd_distance, mol.GetNumConformers(), picks, seed=1966))\n",
    "    mol_X_confs = Chem.Mol(mol)\n",
    "    mol_X_confs.RemoveAllConformers()\n",
    "    for i in selected_indices:\n",
    "        mol_X_confs.AddConformer(mol.GetConformer(i))\n",
    "    return mol_X_confs"
   ]
  },
  {
   "cell_type": "code",
   "execution_count": 44,
   "metadata": {},
   "outputs": [
    {
     "name": "stderr",
     "output_type": "stream",
     "text": [
      "3019it [34:47,  1.45it/s] \n"
     ]
    }
   ],
   "source": [
    "#okay lets start the first five molecules\n",
    "from tqdm import tqdm\n",
    "selected_confs_mol_list = []\n",
    "outfn = './11093a30-b6d0-4e3f-a22b-8dcad60d6a11_5_100.pkl.gz'\n",
    "for mol,molregno in tqdm(zip(mols,molregnos)):\n",
    "    mol = Chem.RemoveHs(mol)    \n",
    "    if mol.GetNumConformers() > 5:\n",
    "        picked_mol = pick_conformers(mol,5)\n",
    "        selected_confs_mol_list.append(picked_mol)\n",
    "    else:\n",
    "        selected_confs_mol_list.append(mol)\n",
    "with gzip.open(outfn,'wb+') as outf:\n",
    "    pickle.dump(selected_confs_mol_list,outf)"
   ]
  },
  {
   "cell_type": "code",
   "execution_count": 45,
   "metadata": {},
   "outputs": [],
   "source": [
    "outfn = './11093a30-b6d0-4e3f-a22b-8dcad60d6a11_mrn_5_100.pkl.gz'\n",
    "selected_confs_mol_mrn_tupple_list = []\n",
    "for mol,molregno in zip(selected_confs_mol_list,molregnos):\n",
    "    selected_confs_mol_mrn_tupple_list.append((mol,molregno))\n",
    "with gzip.open(outfn,'wb+') as outf:\n",
    "    pickle.dump(selected_confs_mol_mrn_tupple_list,outf)\n",
    "    "
   ]
  },
  {
   "cell_type": "code",
   "execution_count": 49,
   "metadata": {},
   "outputs": [
    {
     "name": "stdout",
     "output_type": "stream",
     "text": [
      "3\n",
      "[0, 1, 2]\n",
      "5\n",
      "[14, 5, 8, 1, 2]\n",
      "2\n",
      "[0, 1]\n",
      "5\n",
      "[57, 56, 24, 5, 68]\n",
      "5\n",
      "[18, 17, 29, 10, 28]\n"
     ]
    }
   ],
   "source": [
    "#do some check; load the file\n",
    "with gzip.open('./11093a30-b6d0-4e3f-a22b-8dcad60d6a11_mrn_5_100.pkl.gz','rb') as inf:\n",
    "    loaded_list = pickle.load(inf)\n",
    "    mols = [mol[0] for mol in loaded_list]\n",
    "for mol in mols[:5]:\n",
    "    print(mol.GetNumConformers())\n",
    "    print([conf.GetId() for conf in mol.GetConformers()])\n",
    "    \n"
   ]
  },
  {
   "cell_type": "code",
   "execution_count": 51,
   "metadata": {},
   "outputs": [
    {
     "name": "stderr",
     "output_type": "stream",
     "text": [
      "100%|██████████| 3019/3019 [00:00<00:00, 3840.46it/s]\n"
     ]
    }
   ],
   "source": [
    "#now we need to save these molecules in a sdf file\n",
    "from tqdm import tqdm\n",
    "with Chem.SDWriter('11093a30-b6d0-4e3f-a22b-8dcad60d6a11_5_100.sdf') as w:\n",
    "    for mol in tqdm(mols):\n",
    "        cids = [conf.GetId() for conf in mol.GetConformers()]\n",
    "        for cid in cids:\n",
    "            w.write(mol,confId=cid)\n"
   ]
  },
  {
   "cell_type": "code",
   "execution_count": 52,
   "metadata": {},
   "outputs": [
    {
     "name": "stdout",
     "output_type": "stream",
     "text": [
      "11389\n"
     ]
    }
   ],
   "source": [
    "mols_five_conf_sup = Chem.SDMolSupplier('11093a30-b6d0-4e3f-a22b-8dcad60d6a11_5_100.sdf',removeHs=False)\n",
    "mols_five_conf = [mol for mol in mols_five_conf_sup]\n",
    "print(len(mols_five_conf))"
   ]
  },
  {
   "cell_type": "code",
   "execution_count": 47,
   "metadata": {},
   "outputs": [],
   "source": [
    "#lets see what happens if we query for this mol\n",
    "import lwreg\n",
    "from lwreg import standardization_lib\n",
    "from lwreg import utils\n",
    "import psycopg2\n",
    "import pandas as pd\n",
    "import psycopg2\n",
    "hostname = 'scotland'\n",
    "dbname = 'cs_mdfps'\n",
    "username = 'cschiebroek'\n",
    "config = lwreg.utils.defaultConfig()\n",
    "# set the name of the database we'll work with:\n",
    "config['dbtype'] = 'postgresql'\n",
    "config['dbname'] = 'cs_mdfps'\n",
    "config['host'] = 'scotland'\n",
    "config['user'] = 'cschiebroek'\n",
    "config['password'] = '' # password is saved in our .pgpass\n",
    "# we don't want to standardize the molecules:\n",
    "config['standardization'] = standardization_lib.RemoveHs()\n",
    "# we want to store conformers\n",
    "config['registerConformers'] = True"
   ]
  },
  {
   "cell_type": "code",
   "execution_count": 53,
   "metadata": {},
   "outputs": [
    {
     "name": "stderr",
     "output_type": "stream",
     "text": [
      "100%|██████████| 11389/11389 [09:55<00:00, 19.13it/s]"
     ]
    },
    {
     "name": "stdout",
     "output_type": "stream",
     "text": [
      "11388 1\n"
     ]
    },
    {
     "name": "stderr",
     "output_type": "stream",
     "text": [
      "\n"
     ]
    }
   ],
   "source": [
    "#now we can register them\n",
    "tupp_list =[]\n",
    "alread_registered = []\n",
    "for mol in tqdm(mols_five_conf_sup):\n",
    "    try:\n",
    "        tupp =lwreg.register(config=config, mol=mol,)\n",
    "        tupp_list.append(tupp)\n",
    "    except:\n",
    "        alread_registered.append(mol)\n",
    "print(len(tupp_list),len(alread_registered))\n"
   ]
  },
  {
   "cell_type": "code",
   "execution_count": 54,
   "metadata": {},
   "outputs": [],
   "source": [
    "#then register the conf gen metadata\n",
    "import json\n",
    "import psycopg2\n",
    "cn = psycopg2.connect(host='scotland',dbname='cs_mdfps',user='cschiebroek')\n",
    "cur = cn.cursor()\n",
    "confgen_uuid = '11093a30-b6d0-4e3f-a22b-8dcad60d6a11'\n",
    "params = {\"randomSeed\":0xa700f,\"verbose\":False,\"numThreads\":4,\"trackFailures\":True,\"useRandomCoords\":True,\"pruneRmsThresh\":0.1,\"numConfs\":100}\n",
    "params_json = json.dumps(params)\n",
    "cur.execute('insert into cs_mdfps_schema.confid_metadata values (%s,%s)',(str(confgen_uuid),str(params_json)))\n",
    "cn.commit()\n",
    "\n"
   ]
  },
  {
   "cell_type": "code",
   "execution_count": 55,
   "metadata": {},
   "outputs": [],
   "source": [
    "#and the seperate confs\n",
    "new_confids = [t[1] for t in tupp_list]\n",
    "#now register all confids in confid_data with confgen_uuid\n",
    "for confid in new_confids:\n",
    "    cur.execute('insert into cs_mdfps_schema.confid_data values (%s,%s)',(str(confid),str(confgen_uuid)))\n",
    "cn.commit()\n"
   ]
  },
  {
   "cell_type": "code",
   "execution_count": 60,
   "metadata": {},
   "outputs": [
    {
     "name": "stdout",
     "output_type": "stream",
     "text": [
      "11388\n",
      "(5781, 3096, '-0.272,-0.689,1.068;-0.497,1.73,1.272;-0.535,-1.855,1.76;-1.196,0.482,1.08;-1.842,1.374,-1.162;-2.047,0.483,-0.138;-2.971,-0.368,-0.201;0.34,-2.926,1.732;0.9,-0.633,0.347;1.514,-2.865,1.007;1.78,-1.711,0.319', '\\n     RDKit          3D\\n\\n  0  0  0  0  0  0  0  0  0  0999 V3000\\nM  V30 BEGIN CTAB\\nM  V30 COUNTS 11 11 0 0 0\\nM  V30 BEGIN ATOM\\nM  V30 1 N -0.497300 1.730100 1.272300 0 CHG=1 VAL=4\\nM  V30 2 C -1.195800 0.481600 1.080100 0 CFG=1\\nM  V30 3 C -2.047400 0.482700 -0.138000 0\\nM  V30 4 O -2.971100 -0.367700 -0.200900 0\\nM  V30 5 O -1.842500 1.374100 -1.162400 0 CHG=-1 VAL=1\\nM  V30 6 C -0.271600 -0.688900 1.068500 0\\nM  V30 7 C -0.535000 -1.855200 1.760100 0\\nM  V30 8 C 0.340500 -2.926400 1.731900 0\\nM  V30 9 C 1.513500 -2.865400 1.007300 0\\nM  V30 10 C 1.779900 -1.711100 0.319400 0\\nM  V30 11 C 0.900400 -0.633100 0.346800 0\\nM  V30 END ATOM\\nM  V30 BEGIN BOND\\nM  V30 1 1 2 1 CFG=3\\nM  V30 2 1 2 3\\nM  V30 3 2 3 4\\nM  V30 4 1 3 5\\nM  V30 5 1 2 6\\nM  V30 6 2 6 7\\nM  V30 7 1 7 8\\nM  V30 8 2 8 9\\nM  V30 9 1 9 10\\nM  V30 10 2 10 11\\nM  V30 11 1 11 6\\nM  V30 END BOND\\nM  V30 END CTAB\\nM  END\\n')\n"
     ]
    }
   ],
   "source": [
    "#then we need to make the files\n",
    "#Get the molblocks for these new confids\n",
    "cn = psycopg2.connect(host='scotland',dbname='cs_mdfps',user='cschiebroek')\n",
    "cur = cn.cursor()\n",
    "cur.execute('select * from conformers where conf_id in %s',(tuple(new_confids),))\n",
    "result = cur.fetchall()\n",
    "print(len(result))\n",
    "print(result[0])\n",
    "confdis = [r[0] for r in result]\n",
    "molblocks = [r[3] for r in result]\n",
    "for mb,confid in zip(molblocks,confdis):\n",
    "    print(mb,file=open(f'mol_11093a30-b6d0-4e3f-a22b-8dcad60d6a11/{confid}.mol','w+'))"
   ]
  },
  {
   "cell_type": "code",
   "execution_count": null,
   "metadata": {},
   "outputs": [],
   "source": [
    "#set up the approriate data in databse for the md experiment; \n",
    "#actually, everything remains the same? but we could still make a new md_experiment uuid?"
   ]
  },
  {
   "cell_type": "code",
   "execution_count": null,
   "metadata": {},
   "outputs": [],
   "source": [
    "#finally, we can start the simulations"
   ]
  }
 ],
 "metadata": {
  "kernelspec": {
   "display_name": "py311_lwreg",
   "language": "python",
   "name": "python3"
  },
  "language_info": {
   "codemirror_mode": {
    "name": "ipython",
    "version": 3
   },
   "file_extension": ".py",
   "mimetype": "text/x-python",
   "name": "python",
   "nbconvert_exporter": "python",
   "pygments_lexer": "ipython3",
   "version": "3.11.5"
  }
 },
 "nbformat": 4,
 "nbformat_minor": 2
}
