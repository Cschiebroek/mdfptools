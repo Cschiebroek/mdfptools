{
 "cells": [
  {
   "cell_type": "code",
   "execution_count": null,
   "metadata": {},
   "outputs": [],
   "source": []
  },
  {
   "cell_type": "markdown",
   "metadata": {},
   "source": [
    "md_experiment_uuids:\n",
    "1. fc57851e-b654-4338-bcdd-faa28ec66253\n",
    "2. 7a5837f2-e4ad-4e17-a2c3-6e5e956f938b\n",
    "note that there are two uuis, one for the initial batch and one to fix some errors that resulted in crashes in the simulation. But in principal, these two are the same. "
   ]
  },
  {
   "cell_type": "markdown",
   "metadata": {},
   "source": [
    "- mdfp_experiment_uuid: fc57851e-b654-4338-bcdd-faa28ec66253\n",
    "- confgen_uuid: 11093a30-b6d0-4e3f-a22b-8dcad60d6a11\n"
   ]
  }
 ],
 "metadata": {
  "language_info": {
   "name": "python"
  }
 },
 "nbformat": 4,
 "nbformat_minor": 2
}
