{
 "cells": [
  {
   "cell_type": "code",
   "execution_count": 1,
   "metadata": {},
   "outputs": [
    {
     "name": "stdout",
     "output_type": "stream",
     "text": [
      "2023.03.3\n"
     ]
    }
   ],
   "source": [
    "from rdkit import Chem\n",
    "from rdkit.Chem import Draw\n",
    "from rdkit.Chem.Draw import IPythonConsole\n",
    "from rdkit.Chem import rdDepictor\n",
    "rdDepictor.SetPreferCoordGen(True)\n",
    "import os\n",
    "import json\n",
    "import uuid\n",
    "\n",
    "import rdkit\n",
    "print(rdkit.__version__)\n",
    "import lwreg\n",
    "from lwreg import standardization_lib\n",
    "from lwreg import utils\n",
    "import psycopg2\n",
    "import pandas as pd\n",
    "import psycopg2\n",
    "hostname = 'scotland'\n",
    "dbname = 'cs_mdfps'\n",
    "username = 'cschiebroek'\n",
    "import warnings\n",
    "\n",
    "# Suppress the FutureWarning\n",
    "warnings.filterwarnings(\"ignore\", category=FutureWarning)\n",
    "\n"
   ]
  },
  {
   "cell_type": "code",
   "execution_count": 3,
   "metadata": {},
   "outputs": [
    {
     "name": "stderr",
     "output_type": "stream",
     "text": [
      "[14:12:02] Warning: molecule is tagged as 3D, but all Z coords are zero\n"
     ]
    }
   ],
   "source": [
    "cn = psycopg2.connect(host=hostname, dbname=dbname, user=username)\n",
    "cur = cn.cursor()\n",
    "\n",
    "# Define the SQL query to perform the joins with schema qualification\n",
    "sql_query = '''\n",
    "SELECT cs_mdfps_schema.confid_data.conf_id AS confid,\n",
    "       public.conformers.molblock,\n",
    "       cs_mdfps_schema.experimental_data.vp,\n",
    "       cs_mdfps_schema.mdfp_experiment_data.mdfp\n",
    "FROM cs_mdfps_schema.confid_data\n",
    "INNER JOIN public.conformers\n",
    "ON cs_mdfps_schema.confid_data.conf_id = public.conformers.conf_id\n",
    "INNER JOIN cs_mdfps_schema.experimental_data\n",
    "ON public.conformers.molregno = cs_mdfps_schema.experimental_data.molregno\n",
    "INNER JOIN cs_mdfps_schema.mdfp_experiment_data\n",
    "ON cs_mdfps_schema.confid_data.conf_id = cs_mdfps_schema.mdfp_experiment_data.conf_id\n",
    "WHERE cs_mdfps_schema.confid_data.confgen_uuid = '906589dd-76fa-4d7b-aa9f-1ee90abe3835';\n",
    "'''\n",
    "# Execute the SQL query\n",
    "cur.execute(sql_query)\n",
    "results = cur.fetchall()\n",
    "mdfps = [json.loads(r[3]['mdfp']) for r in results]\n",
    "vps = [r[2] for r in results]\n",
    "molblokcs = [r[1] for r in results]\n",
    "mols = [Chem.MolFromMolBlock(m) for m in molblokcs]\n"
   ]
  },
  {
   "cell_type": "code",
   "execution_count": 5,
   "metadata": {},
   "outputs": [],
   "source": [
    "from rdkit.Chem.Descriptors import CalcMolDescriptors\n",
    "MolDescriptors_vectors_ = [list(CalcMolDescriptors(m).values()) for m in mols]"
   ]
  },
  {
   "cell_type": "code",
   "execution_count": 21,
   "metadata": {},
   "outputs": [],
   "source": [
    "#make df with each descriptor as a column and one column for the vp\n",
    "vps = [r[2] for r in results]\n",
    "confids = [r[0] for r in results]\n",
    "df_descriptors = pd.DataFrame(MolDescriptors_vectors_, columns = list(CalcMolDescriptors(mols[0]).keys()))\n",
    "df_descriptors['vp'] = vps\n",
    "df_descriptors['confid'] = confids  \n",
    "top_features = ['MaxAbsEStateIndex', 'MinAbsEStateIndex', 'qed', 'BCUT2D_CHGHI', 'MinPartialCharge', 'MaxPartialCharge', 'MinEStateIndex', 'FpDensityMorgan1', 'BCUT2D_MRLOW', 'BCUT2D_MWLOW', 'BalabanJ', 'BCUT2D_MWHI', 'BCUT2D_LOGPHI', 'Kappa3', 'BCUT2D_LOGPLOW', 'MolWt', 'BCUT2D_CHGLO', 'PEOE_VSA6', 'FpDensityMorgan3', 'FpDensityMorgan2', 'PEOE_VSA7', 'VSA_EState3', 'PEOE_VSA8', 'BertzCT', 'MinAbsPartialCharge', 'BCUT2D_MRHI', 'VSA_EState8', 'AvgIpc', 'EState_VSA3', 'TPSA', 'VSA_EState7', 'EState_VSA6', 'VSA_EState4', 'VSA_EState5', 'Chi3v', 'PEOE_VSA9', 'EState_VSA5', 'MolLogP', 'Kappa2', 'Chi2n', 'SMR_VSA5', 'MaxAbsPartialCharge']\n",
    "df_descriptors['mdfp'] = mdfps\n",
    "#disect the mdfps\n",
    "mdfp_keys_full = ['NumHeavyAtoms', 'NumRotatableBonds', 'NumN', 'NumO', 'NumF', 'NumP', 'NumS', 'NumCl', 'NumBr', 'NumI', 'water_intra_crf_mean', 'water_intra_crf_std', 'water_intra_crf_median', 'water_intra_lj_mean', 'water_intra_lj_std', 'water_intra_lj_median', 'water_total_crf_mean', 'water_total_crf_std', 'water_total_crf_median', 'water_total_lj_mean', 'water_total_lj_std', 'water_total_lj_median', 'water_intra_ene_mean', 'water_intra_ene_std', 'water_intra_ene_median', 'water_total_ene_mean', 'water_total_ene_std', 'water_total_ene_median', 'water_rgyr_mean', 'water_rgyr_std', 'water_rgyr_median', 'water_sasa_mean', 'water_sasa_std', 'water_sasa_median'] \n",
    "mdfps = df_descriptors['mdfp'].tolist()\n",
    "\n",
    "for i,key in enumerate(mdfp_keys_full):\n",
    "    df_descriptors[key] = [mdfps[j][i] for j in range(len(mdfps))]"
   ]
  },
  {
   "cell_type": "code",
   "execution_count": 22,
   "metadata": {},
   "outputs": [
    {
     "name": "stderr",
     "output_type": "stream",
     "text": [
      "5it [00:00,  5.26it/s]\n"
     ]
    }
   ],
   "source": [
    "import tqdm\n",
    "import xgboost as xgb\n",
    "from sklearn.model_selection import KFold\n",
    "import numpy as np\n",
    "output = ([], [],[])\n",
    "kf = KFold(n_splits=5)\n",
    "params = {\n",
    "    # Parameters that we are going to tune.\n",
    "    'max_depth':3,\n",
    "    'min_child_weight': 6,\n",
    "    'eta':.3,\n",
    "    'subsample': 1,\n",
    "    'colsample_bytree': 1,\n",
    "    # Other parameters\n",
    "    \"objective\" : 'reg:squarederror',\n",
    "}\n",
    "X = df_descriptors[top_features]\n",
    "y = df_descriptors['vp']\n",
    "confids = df_descriptors['confid']\n",
    "for train, test in tqdm.tqdm(kf.split(X)):\n",
    "    train_x = np.array(X)[train]\n",
    "    train_y = np.array(y)[train]\n",
    "    test_x = np.array(X)[test]\n",
    "    test_y = np.array(y)[test]\n",
    "    dtrain = xgb.DMatrix(train_x, label=train_y)\n",
    "    dtest = xgb.DMatrix(test_x, label=test_y)\n",
    "    confids_test = np.array(confids)[test]\n",
    "\n",
    "    \n",
    "    model = xgb.train(\n",
    "        params,\n",
    "        dtrain,\n",
    "        num_boost_round=999,\n",
    "        evals=[(dtest, \"Test\")],\n",
    "        early_stopping_rounds=10,\n",
    "        verbose_eval=False\n",
    "    )\n",
    "\n",
    "    pp = model.predict(dtest)\n",
    "\n",
    "    output[0].append(test_y)\n",
    "    output[1].append(pp)\n",
    "    output[2].append(confids_test)"
   ]
  },
  {
   "cell_type": "code",
   "execution_count": 37,
   "metadata": {},
   "outputs": [],
   "source": [
    "#make df\n",
    "from functools import reduce\n",
    "real = reduce(lambda x,y: np.concatenate((x,y)), output[0])\n",
    "pred = reduce(lambda x,y: np.concatenate((x,y)), output[1])\n",
    "confids = reduce(lambda x,y: np.concatenate((x,y)), output[2])\n",
    "df_predictions = pd.DataFrame({'real':real, 'pred':pred, 'confid':confids})\n",
    "#merge with df_descriptors\n",
    "df_predictions = df_predictions.merge(df_descriptors, on='confid')\n",
    "df_predictions['abs_error'] = np.abs(df_predictions['real'] - df_predictions['pred'])\n",
    "df_predictions.to_csv('002_delta_learning.csv')"
   ]
  },
  {
   "cell_type": "code",
   "execution_count": 32,
   "metadata": {},
   "outputs": [
    {
     "name": "stdout",
     "output_type": "stream",
     "text": [
      "CV with max_depth=2, min_child_weight=5\n",
      "\tMAE 0.8556613252431762 for 14 rounds\n",
      "CV with max_depth=2, min_child_weight=6\n",
      "\tMAE 0.8887256772781068 for 2 rounds\n",
      "CV with max_depth=2, min_child_weight=7\n",
      "\tMAE 0.8881949477828692 for 2 rounds\n",
      "CV with max_depth=2, min_child_weight=8\n",
      "\tMAE 0.8881949477828692 for 2 rounds\n",
      "CV with max_depth=2, min_child_weight=9\n",
      "\tMAE 0.8877672470564686 for 2 rounds\n",
      "CV with max_depth=3, min_child_weight=5\n",
      "\tMAE 0.8811346678276635 for 2 rounds\n",
      "CV with max_depth=3, min_child_weight=6\n",
      "\tMAE 0.8826976325218837 for 2 rounds\n",
      "CV with max_depth=3, min_child_weight=7\n",
      "\tMAE 0.8818339659692311 for 2 rounds\n",
      "CV with max_depth=3, min_child_weight=8\n",
      "\tMAE 0.8818986256560111 for 2 rounds\n",
      "CV with max_depth=3, min_child_weight=9\n",
      "\tMAE 0.881080841889345 for 2 rounds\n",
      "CV with max_depth=4, min_child_weight=5\n",
      "\tMAE 0.8812139413914022 for 2 rounds\n",
      "CV with max_depth=4, min_child_weight=6\n",
      "\tMAE 0.8683194704087593 for 3 rounds\n",
      "CV with max_depth=4, min_child_weight=7\n",
      "\tMAE 0.8785094444092477 for 2 rounds\n",
      "CV with max_depth=4, min_child_weight=8\n",
      "\tMAE 0.849130891349198 for 5 rounds\n",
      "CV with max_depth=4, min_child_weight=9\n",
      "\tMAE 0.8503961360833454 for 6 rounds\n",
      "CV with max_depth=5, min_child_weight=5\n",
      "\tMAE 0.8823475657023568 for 2 rounds\n",
      "CV with max_depth=5, min_child_weight=6\n",
      "\tMAE 0.8708248657299661 for 3 rounds\n",
      "CV with max_depth=5, min_child_weight=7\n",
      "\tMAE 0.8840085366510803 for 2 rounds\n",
      "CV with max_depth=5, min_child_weight=8\n",
      "\tMAE 0.8523687370356192 for 5 rounds\n",
      "CV with max_depth=5, min_child_weight=9\n",
      "\tMAE 0.876152284542362 for 2 rounds\n",
      "CV with max_depth=6, min_child_weight=5\n",
      "\tMAE 0.8801674343619755 for 2 rounds\n",
      "CV with max_depth=6, min_child_weight=6\n",
      "\tMAE 0.8622052951574922 for 4 rounds\n",
      "CV with max_depth=6, min_child_weight=7\n",
      "\tMAE 0.8687044259644452 for 3 rounds\n",
      "CV with max_depth=6, min_child_weight=8\n",
      "\tMAE 0.8742547383609292 for 2 rounds\n",
      "CV with max_depth=6, min_child_weight=9\n",
      "\tMAE 0.8562071796391593 for 3 rounds\n",
      "Best params: 4, 8, MAE: 0.849130891349198\n"
     ]
    }
   ],
   "source": [
    "\n",
    "import xgboost as xgb\n",
    "X = df_predictions[mdfp_keys_full]\n",
    "y = df_predictions['abs_error']\n",
    "dtrain = xgb.DMatrix(X, label=y)\n",
    "\n",
    "params = {\n",
    "    # Parameters that we are going to tune.\n",
    "    'max_depth':6,\n",
    "    'min_child_weight': 1,\n",
    "    'eta':.3,\n",
    "    'subsample': 1,\n",
    "    'colsample_bytree': 1,\n",
    "    # Other parameters\n",
    "    \"objective\" : 'reg:squarederror',\n",
    "}\n",
    "\n",
    "gridsearch_params = [\n",
    "    (max_depth, min_child_weight)\n",
    "    for max_depth in range(2,7)\n",
    "    for min_child_weight in range(5,10)\n",
    "]\n",
    "\n",
    "min_mae = float(\"Inf\")\n",
    "best_params = None\n",
    "for max_depth, min_child_weight in gridsearch_params:\n",
    "    print(\"CV with max_depth={}, min_child_weight={}\".format(\n",
    "                             max_depth,\n",
    "                             min_child_weight))\n",
    "    # Update our parameters\n",
    "    params['max_depth'] = max_depth\n",
    "    params['min_child_weight'] = min_child_weight\n",
    "    # Run CV\n",
    "    cv_results = xgb.cv(\n",
    "        params,\n",
    "        dtrain,\n",
    "        num_boost_round=999,\n",
    "        seed=42,\n",
    "        nfold=5,\n",
    "        metrics={'mae', \"rmse\"},\n",
    "        early_stopping_rounds=10,\n",
    "        verbose_eval=False\n",
    "    )\n",
    "    # Update best MAE\n",
    "    mean_mae = cv_results['test-rmse-mean'].min()\n",
    "    boost_rounds = cv_results['test-rmse-mean'].argmin()\n",
    "    print(\"\\tMAE {} for {} rounds\".format(mean_mae, boost_rounds))\n",
    "    if mean_mae < min_mae:\n",
    "        min_mae = mean_mae\n",
    "        best_params = (max_depth,min_child_weight)\n",
    "print(\"Best params: {}, {}, MAE: {}\".format(best_params[0], best_params[1], min_mae))"
   ]
  },
  {
   "cell_type": "code",
   "execution_count": 33,
   "metadata": {},
   "outputs": [
    {
     "name": "stderr",
     "output_type": "stream",
     "text": [
      "5it [00:00, 18.82it/s]\n"
     ]
    }
   ],
   "source": [
    "#lets see if we can take the absolute error and predict the vp using MDFPs\n",
    "\n",
    "import tqdm\n",
    "import xgboost as xgb\n",
    "from sklearn.model_selection import KFold\n",
    "import numpy as np\n",
    "output = ([], [],[])\n",
    "kf = KFold(n_splits=5)\n",
    "params = {\n",
    "    # Parameters that we are going to tune.\n",
    "    'max_depth':4,\n",
    "    'min_child_weight': 8,\n",
    "    'eta':.5,\n",
    "    'subsample': 1,\n",
    "    'colsample_bytree': 1,\n",
    "    # Other parameters\n",
    "    \"objective\" : 'reg:squarederror',\n",
    "}\n",
    "X = df_predictions[mdfp_keys_full]\n",
    "y = df_predictions['abs_error']\n",
    "confids = df_predictions['confid']\n",
    "for train, test in tqdm.tqdm(kf.split(X)):\n",
    "    train_x = np.array(X)[train]\n",
    "    train_y = np.array(y)[train]\n",
    "    test_x = np.array(X)[test]\n",
    "    test_y = np.array(y)[test]\n",
    "    dtrain = xgb.DMatrix(train_x, label=train_y)\n",
    "    dtest = xgb.DMatrix(test_x, label=test_y)\n",
    "    confids_test = np.array(confids)[test]\n",
    "\n",
    "    \n",
    "    model = xgb.train(\n",
    "        params,\n",
    "        dtrain,\n",
    "        num_boost_round=999,\n",
    "        evals=[(dtest, \"Test\")],\n",
    "        early_stopping_rounds=10,\n",
    "        verbose_eval=False\n",
    "    )\n",
    "\n",
    "    pp = model.predict(dtest)\n",
    "\n",
    "    output[0].append(test_y)\n",
    "    output[1].append(pp)\n",
    "    output[2].append(confids_test)"
   ]
  },
  {
   "cell_type": "code",
   "execution_count": 34,
   "metadata": {},
   "outputs": [],
   "source": [
    "#get results\n",
    "from functools import reduce\n",
    "real = reduce(lambda x,y: np.concatenate((x,y)), output[0])\n",
    "pred = reduce(lambda x,y: np.concatenate((x,y)), output[1])\n",
    "confids = reduce(lambda x,y: np.concatenate((x,y)), output[2])"
   ]
  },
  {
   "cell_type": "code",
   "execution_count": 35,
   "metadata": {},
   "outputs": [
    {
     "name": "stdout",
     "output_type": "stream",
     "text": [
      "rmse:  0.8906479489468588\n",
      "r2:  0.16515239935907888\n",
      "mae:  0.5606223291088083\n"
     ]
    },
    {
     "data": {
      "image/png": "[encoded data removed]",
      "text/plain": [
       "<Figure size 640x480 with 1 Axes>"
      ]
     },
     "metadata": {},
     "output_type": "display_data"
    }
   ],
   "source": [
    "#pred real vs pred\n",
    "import matplotlib.pyplot as plt\n",
    "plt.scatter(real, pred)\n",
    "#print rmse, r2 and mae\n",
    "from sklearn.metrics import mean_squared_error, r2_score, mean_absolute_error\n",
    "print('rmse: ', np.sqrt(mean_squared_error(real, pred)))\n",
    "print('r2: ', r2_score(real, pred))\n",
    "print('mae: ', mean_absolute_error(real, pred))\n",
    "plt.xlabel('real')\n",
    "plt.ylabel('pred')\n",
    "plt.show()\n"
   ]
  }
 ],
 "metadata": {
  "kernelspec": {
   "display_name": "mdfp_carl",
   "language": "python",
   "name": "python3"
  },
  "language_info": {
   "codemirror_mode": {
    "name": "ipython",
    "version": 3
   },
   "file_extension": ".py",
   "mimetype": "text/x-python",
   "name": "python",
   "nbconvert_exporter": "python",
   "pygments_lexer": "ipython3",
   "version": "3.11.5"
  }
 },
 "nbformat": 4,
 "nbformat_minor": 2
}
