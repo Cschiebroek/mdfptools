{
 "cells": [
  {
   "cell_type": "code",
   "execution_count": null,
   "metadata": {},
   "outputs": [],
   "source": []
  },
  {
   "cell_type": "code",
   "execution_count": 1,
   "metadata": {},
   "outputs": [
    {
     "ename": "ModuleNotFoundError",
     "evalue": "No module named 'carl'",
     "output_type": "error",
     "traceback": [
      "\u001b[0;31m---------------------------------------------------------------------------\u001b[0m",
      "\u001b[0;31mModuleNotFoundError\u001b[0m                       Traceback (most recent call last)",
      "Cell \u001b[0;32mIn[1], line 1\u001b[0m\n\u001b[0;32m----> 1\u001b[0m \u001b[38;5;28;01mimport\u001b[39;00m \u001b[38;5;21;01mParameteriser\u001b[39;00m\n\u001b[1;32m      2\u001b[0m \u001b[38;5;28;01mfrom\u001b[39;00m \u001b[38;5;21;01mSimulator\u001b[39;00m \u001b[38;5;28;01mimport\u001b[39;00m SolutionSimulator\n\u001b[1;32m      3\u001b[0m \u001b[38;5;28;01mfrom\u001b[39;00m \u001b[38;5;21;01mComposer\u001b[39;00m \u001b[38;5;28;01mimport\u001b[39;00m SolutionComposer\n",
      "File \u001b[0;32m/localhome/cschiebroek/MDFP_VP/mdfptools/carl/Parameteriser.py:23\u001b[0m\n\u001b[1;32m     19\u001b[0m \u001b[38;5;28;01mimport\u001b[39;00m \u001b[38;5;21;01mos\u001b[39;00m\n\u001b[1;32m     20\u001b[0m \u001b[38;5;28;01mimport\u001b[39;00m \u001b[38;5;21;01mnumpy\u001b[39;00m \u001b[38;5;28;01mas\u001b[39;00m \u001b[38;5;21;01mnp\u001b[39;00m\n\u001b[0;32m---> 23\u001b[0m \u001b[38;5;28;01mfrom\u001b[39;00m \u001b[38;5;21;01mcarl\u001b[39;00m\u001b[38;5;21;01m.\u001b[39;00m\u001b[38;5;21;01mutils\u001b[39;00m \u001b[38;5;28;01mimport\u001b[39;00m approximate_volume_by_density\n\u001b[1;32m     25\u001b[0m \u001b[38;5;28;01mfrom\u001b[39;00m \u001b[38;5;21;01mrdkit\u001b[39;00m \u001b[38;5;28;01mimport\u001b[39;00m Chem\n\u001b[1;32m     26\u001b[0m \u001b[38;5;28;01mfrom\u001b[39;00m \u001b[38;5;21;01mrdkit\u001b[39;00m\u001b[38;5;21;01m.\u001b[39;00m\u001b[38;5;21;01mChem\u001b[39;00m \u001b[38;5;28;01mimport\u001b[39;00m rdDistGeom\n",
      "\u001b[0;31mModuleNotFoundError\u001b[0m: No module named 'carl'"
     ]
    }
   ],
   "source": [
    "import Parameteriser\n",
    "from Simulator import SolutionSimulator\n",
    "from Composer import SolutionComposer\n",
    "from rdkit import Chem  "
   ]
  },
  {
   "cell_type": "code",
   "execution_count": null,
   "metadata": {},
   "outputs": [],
   "source": [
    "mol = Chem.MolFromSmiles('CCO')\n",
    "rdk_pmd = Parameteriser.SolutionParameteriser.via_rdkit(mol = mol)\n",
    "\n",
    "traj_path = f\"trajectories/{Md_Experiment_uuid}\"\n",
    "SolutionSimulator.via_openmm(rdk_pmd, file_name = confid, file_path = traj_path,\n",
    "                             platform = \"CUDA\", num_steps = 5000 * 500)\n",
    "print('Simulation finished, composing mdfp...')\n",
    "traj = md.load(f\"trajectories/{Md_Experiment_uuid}/{confid}.h5\")\n",
    "smiles = Chem.MolToSmiles(mol)\n",
    "mdfp = SolutionComposer.run(traj, rdk_pmd,smiles=smiles)\n",
    "mdfp = mdfp.get_mdfp()\n",
    "mdfp_dict = {'mdfp':str(mdfp)}\n",
    "print('Mdfp composed, saving to database...')\n",
    "Mdfp_Experiment_uuid = Md_Experiment_uuid\n",
    "mdfp_conf_uuid = uuid.uuid4()\n",
    "\n",
    "print('Connecting to database...')\n",
    "hostname = 'lebanon'\n",
    "dbname = 'cs_mdfps'\n",
    "username = 'cschiebroek'\n",
    "cn = psycopg2.connect(host=hostname, dbname=dbname, user=username)\n",
    "cur = cn.cursor()\n",
    "#retrieve conformer from database by confid\n",
    "cur.execute(\"insert into cs_mdfps_schema.mdfp_experiment_data values (%s, %s, %s,%s,%s)\",(str(confid), str(Mdfp_Experiment_uuid), json.dumps(mdfp_dict),str(mdfp_conf_uuid),Md_Experiment_uuid))\n",
    "print(mdfp)\n",
    "cn.commit()\n",
    "print('Data saved, closing connection...')\n",
    "cn.close()\n",
    "print('Connection closed, exiting...')\n"
   ]
  }
 ],
 "metadata": {
  "kernelspec": {
   "display_name": "mdfp_carl",
   "language": "python",
   "name": "python3"
  },
  "language_info": {
   "codemirror_mode": {
    "name": "ipython",
    "version": 3
   },
   "file_extension": ".py",
   "mimetype": "text/x-python",
   "name": "python",
   "nbconvert_exporter": "python",
   "pygments_lexer": "ipython3",
   "version": "3.11.5"
  }
 },
 "nbformat": 4,
 "nbformat_minor": 2
}
