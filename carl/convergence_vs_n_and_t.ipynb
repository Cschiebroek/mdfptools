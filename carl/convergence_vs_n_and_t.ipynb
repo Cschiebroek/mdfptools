{
 "cells": [
  {
   "cell_type": "markdown",
   "metadata": {},
   "source": [
    "Some stuff on scaling;\n",
    "The simulation itself, using PME, should scale with O(n log(n)), while the decomposition scales with O(n^2) per frame, or O(n^2 m) . However, if we want to make our MDFP from a fixed amount of datapoints X, we can obtain this from m*n, where m is the number of frames and n the number of particle, giving a scaling of O(Xn).Let check when we reach convergence for 100 and 1000 molecules, respectively"
   ]
  },
  {
   "cell_type": "code",
   "execution_count": 2,
   "metadata": {},
   "outputs": [],
   "source": [
    "from Composer import LiquidComposer\n",
    "import mdtraj as md\n",
    "import openmm\n",
    "from openmm.app.pdbfile import PDBFile\n",
    "import parmed\n",
    "from Simulator import SolutionSimulator"
   ]
  },
  {
   "cell_type": "code",
   "execution_count": 3,
   "metadata": {},
   "outputs": [
    {
     "name": "stdout",
     "output_type": "stream",
     "text": [
      "Density fluctuation is 0.34\n",
      "which is higher than cut-off 0.1, re-equilibrating\n",
      "Density fluctuation is 0.1\n",
      "which is higher than cut-off 0.1, re-equilibrating\n",
      "Density fluctuation is 0.07\n",
      "CPU times: user 10min 29s, sys: 804 ms, total: 10min 30s\n",
      "Wall time: 10min 31s\n"
     ]
    },
    {
     "data": {
      "text/plain": [
       "'/localhome/cschiebroek/MDFP_VP/mdfptools/carl/test_benzene_full_equil_n100_5ns.h5'"
      ]
     },
     "execution_count": 3,
     "metadata": {},
     "output_type": "execute_result"
    }
   ],
   "source": [
    "#repeat for the others\n",
    "schema_id = 'adb70b0f9c8b43a9a9373ada67a25377'\n",
    "pdb_file = f'/localhome/cschiebroek/MDFP_VP/mdfptools/carl/{schema_id}_build_coordinates/output.pdb'\n",
    "parameterized_system = f'/localhome/cschiebroek/MDFP_VP/mdfptools/carl/{schema_id}_assign_parameters/system.xml'\n",
    "omm_top = PDBFile(pdb_file).topology\n",
    "omm_sys = openmm.XmlSerializer.deserialize(open(parameterized_system).read())\n",
    "parmed_obj = parmed.openmm.load_topology(omm_top, omm_sys, xyz=pdb_file)\n",
    "%time SolutionSimulator.via_openmm(parmed_obj, file_name = 'test_benzene_full_equil_n100_5ns', file_path = './',platform = \"CUDA\", num_steps = 5000 * 500)"
   ]
  },
  {
   "cell_type": "code",
   "execution_count": 4,
   "metadata": {},
   "outputs": [
    {
     "name": "stdout",
     "output_type": "stream",
     "text": [
      "Density fluctuation is 0.24\n",
      "which is higher than cut-off 0.1, re-equilibrating\n",
      "Density fluctuation is 0.02\n",
      "CPU times: user 41min 55s, sys: 1.46 s, total: 41min 57s\n",
      "Wall time: 41min 55s\n"
     ]
    },
    {
     "data": {
      "text/plain": [
       "'/localhome/cschiebroek/MDFP_VP/mdfptools/carl/test_benzene_full_equil_n1000_5ns.h5'"
      ]
     },
     "execution_count": 4,
     "metadata": {},
     "output_type": "execute_result"
    }
   ],
   "source": [
    "#repeat for the others\n",
    "schema_id = '0071386446c342529f1bb7c14316c4e7'\n",
    "pdb_file = f'/localhome/cschiebroek/MDFP_VP/mdfptools/carl/{schema_id}_build_coordinates/output.pdb'\n",
    "parameterized_system = f'/localhome/cschiebroek/MDFP_VP/mdfptools/carl/{schema_id}_assign_parameters/system.xml'\n",
    "omm_top = PDBFile(pdb_file).topology\n",
    "omm_sys = openmm.XmlSerializer.deserialize(open(parameterized_system).read())\n",
    "parmed_obj = parmed.openmm.load_topology(omm_top, omm_sys, xyz=pdb_file)\n",
    "%time SolutionSimulator.via_openmm(parmed_obj, file_name = 'test_benzene_full_equil_n1000_5ns', file_path = './',platform = \"CUDA\", num_steps = 5000 * 500)"
   ]
  },
  {
   "cell_type": "code",
   "execution_count": null,
   "metadata": {},
   "outputs": [],
   "source": []
  }
 ],
 "metadata": {
  "kernelspec": {
   "display_name": "mdfp_carl",
   "language": "python",
   "name": "python3"
  },
  "language_info": {
   "codemirror_mode": {
    "name": "ipython",
    "version": 3
   },
   "file_extension": ".py",
   "mimetype": "text/x-python",
   "name": "python",
   "nbconvert_exporter": "python",
   "pygments_lexer": "ipython3",
   "version": "3.11.5"
  }
 },
 "nbformat": 4,
 "nbformat_minor": 2
}
