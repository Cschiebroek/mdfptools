{
 "cells": [
  {
   "cell_type": "markdown",
   "metadata": {},
   "source": [
    "Some stuff on scaling;\n",
    "The simulation itself, using PME, should scale with O(n log(n)), while the decomposition scales with O(n^2) per frame, or O(n^2 m) . However, if we want to make our MDFP from a fixed amount of datapoints X, we can obtain this from m*n, where m is the number of frames and n the number of particle, giving a scaling of O(Xn).Let check when we reach convergence for 100 and 1000 molecules, respectively"
   ]
  },
  {
   "cell_type": "code",
   "execution_count": 1,
   "metadata": {},
   "outputs": [],
   "source": [
    "from Composer import LiquidComposer\n",
    "import mdtraj as md\n",
    "import openmm\n",
    "from openmm.app.pdbfile import PDBFile\n",
    "import parmed\n",
    "from Simulator import SolutionSimulator"
   ]
  },
  {
   "cell_type": "code",
   "execution_count": 3,
   "metadata": {},
   "outputs": [
    {
     "name": "stdout",
     "output_type": "stream",
     "text": [
      "Density fluctuation is 0.34\n",
      "which is higher than cut-off 0.1, re-equilibrating\n",
      "Density fluctuation is 0.1\n",
      "which is higher than cut-off 0.1, re-equilibrating\n",
      "Density fluctuation is 0.07\n",
      "CPU times: user 10min 29s, sys: 804 ms, total: 10min 30s\n",
      "Wall time: 10min 31s\n"
     ]
    },
    {
     "data": {
      "text/plain": [
       "'/localhome/cschiebroek/MDFP_VP/mdfptools/carl/test_benzene_full_equil_n100_5ns.h5'"
      ]
     },
     "execution_count": 3,
     "metadata": {},
     "output_type": "execute_result"
    }
   ],
   "source": [
    "#repeat for the others\n",
    "schema_id = 'adb70b0f9c8b43a9a9373ada67a25377'\n",
    "pdb_file = f'/localhome/cschiebroek/MDFP_VP/mdfptools/carl/{schema_id}_build_coordinates/output.pdb'\n",
    "parameterized_system = f'/localhome/cschiebroek/MDFP_VP/mdfptools/carl/{schema_id}_assign_parameters/system.xml'\n",
    "omm_top = PDBFile(pdb_file).topology\n",
    "omm_sys = openmm.XmlSerializer.deserialize(open(parameterized_system).read())\n",
    "parmed_obj = parmed.openmm.load_topology(omm_top, omm_sys, xyz=pdb_file)\n",
    "%time SolutionSimulator.via_openmm(parmed_obj, file_name = 'test_benzene_full_equil_n100_5ns', file_path = './',platform = \"CUDA\", num_steps = 5000 * 500)"
   ]
  },
  {
   "cell_type": "code",
   "execution_count": 3,
   "metadata": {},
   "outputs": [
    {
     "name": "stdout",
     "output_type": "stream",
     "text": [
      "Density fluctuation is 0.34\n",
      "which is higher than cut-off 0.1, re-equilibrating\n",
      "Density fluctuation is 0.07\n",
      "CPU times: user 3h 5min 46s, sys: 6.56 s, total: 3h 5min 53s\n",
      "Wall time: 3h 5min 50s\n"
     ]
    },
    {
     "data": {
      "text/plain": [
       "'/localhome/cschiebroek/MDFP_VP/mdfptools/carl/test_benzene_full_equil_n100_100ns.h5'"
      ]
     },
     "execution_count": 3,
     "metadata": {},
     "output_type": "execute_result"
    }
   ],
   "source": [
    "#for convergence check\n",
    "schema_id = 'adb70b0f9c8b43a9a9373ada67a25377'\n",
    "pdb_file = f'/localhome/cschiebroek/MDFP_VP/mdfptools/carl/liquid_phase_experiment_daata/{schema_id}_build_coordinates/output.pdb'\n",
    "parameterized_system = f'/localhome/cschiebroek/MDFP_VP/mdfptools/carl/liquid_phase_experiment_daata/{schema_id}_assign_parameters/system.xml'\n",
    "omm_top = PDBFile(pdb_file).topology\n",
    "omm_sys = openmm.XmlSerializer.deserialize(open(parameterized_system).read())\n",
    "parmed_obj = parmed.openmm.load_topology(omm_top, omm_sys, xyz=pdb_file)\n",
    "%time SolutionSimulator.via_openmm(parmed_obj, file_name = 'test_benzene_full_equil_n100_100ns', file_path = './',platform = \"CUDA\", num_steps = 5000 * 500 * 20)\n"
   ]
  },
  {
   "cell_type": "code",
   "execution_count": 4,
   "metadata": {},
   "outputs": [
    {
     "name": "stdout",
     "output_type": "stream",
     "text": [
      "Density fluctuation is 0.24\n",
      "which is higher than cut-off 0.1, re-equilibrating\n",
      "Density fluctuation is 0.02\n",
      "CPU times: user 41min 55s, sys: 1.46 s, total: 41min 57s\n",
      "Wall time: 41min 55s\n"
     ]
    },
    {
     "data": {
      "text/plain": [
       "'/localhome/cschiebroek/MDFP_VP/mdfptools/carl/test_benzene_full_equil_n1000_5ns.h5'"
      ]
     },
     "execution_count": 4,
     "metadata": {},
     "output_type": "execute_result"
    }
   ],
   "source": [
    "#repeat for the others\n",
    "schema_id = '0071386446c342529f1bb7c14316c4e7'\n",
    "pdb_file = f'/localhome/cschiebroek/MDFP_VP/mdfptools/carl/{schema_id}_build_coordinates/output.pdb'\n",
    "parameterized_system = f'/localhome/cschiebroek/MDFP_VP/mdfptools/carl/{schema_id}_assign_parameters/system.xml'\n",
    "omm_top = PDBFile(pdb_file).topology\n",
    "omm_sys = openmm.XmlSerializer.deserialize(open(parameterized_system).read())\n",
    "parmed_obj = parmed.openmm.load_topology(omm_top, omm_sys, xyz=pdb_file)\n",
    "%time SolutionSimulator.via_openmm(parmed_obj, file_name = 'test_benzene_full_equil_n1000_5ns', file_path = './',platform = \"CUDA\", num_steps = 5000 * 500)"
   ]
  },
  {
   "cell_type": "code",
   "execution_count": 2,
   "metadata": {},
   "outputs": [
    {
     "name": "stderr",
     "output_type": "stream",
     "text": [
      "/localhome/cschiebroek/.conda/envs/mdfp_carl/lib/python3.11/site-packages/mdtraj/core/trajectory.py:439: UserWarning: top= kwargs ignored since this file parser does not support it\n",
      "  warnings.warn('top= kwargs ignored since this file parser does not support it')\n"
     ]
    }
   ],
   "source": [
    "from Composer import SolutionComposer\n",
    "import mdtraj as md\n",
    "import parmed\n",
    "from Composer import LiquidComposer\n",
    "import mdtraj as md\n",
    "import openmm\n",
    "from openmm.app.pdbfile import PDBFile\n",
    "import parmed\n",
    "from Simulator import SolutionSimulator\n",
    "\n",
    "\n",
    "traj = md.load('test_benzene_full_equil_n100_100ns.h5')\n",
    "schema_id = 'adb70b0f9c8b43a9a9373ada67a25377'\n",
    "pdb_file = f'/localhome/cschiebroek/MDFP_VP/mdfptools/carl/liquid_phase_experiment_daata/{schema_id}_build_coordinates/output.pdb'\n",
    "parameterized_system = f'/localhome/cschiebroek/MDFP_VP/mdfptools/carl/liquid_phase_experiment_daata/{schema_id}_assign_parameters/system.xml'\n",
    "omm_top = PDBFile(pdb_file).topology\n",
    "omm_sys = openmm.XmlSerializer.deserialize(open(parameterized_system).read())\n",
    "rdk_pmd = parmed.openmm.load_topology(omm_top, omm_sys, xyz=pdb_file)\n",
    "smiles = 'c1ccccc1'\n",
    "mdfp = SolutionComposer.run(traj, rdk_pmd,smiles=smiles)"
   ]
  },
  {
   "cell_type": "code",
   "execution_count": 4,
   "metadata": {},
   "outputs": [
    {
     "data": {
      "text/plain": [
       "{'2d_counts': [6, 0, 0, 0, 0, 0, 0, 0, 0, 0],\n",
       " 'water_intra_crf': [620.8805398823063, 20.32546180164536, 620.7563827311462],\n",
       " 'water_intra_lj': [261.69960398889884, 34.81773932782347, 261.31558517175085],\n",
       " 'water_total_crf': [620.8805398823063, 20.32546180164536, 620.7563827311462],\n",
       " 'water_total_lj': [261.69960398889884, 34.81773932782347, 261.31558517175085],\n",
       " 'water_intra_ene': [882.5801438712051, 41.14717607273106, 882.7971067060919],\n",
       " 'water_total_ene': [882.5801438712051, 41.14717607273106, 882.7971067060919],\n",
       " 'water_rgyr': [1.2225370748865834, 0.005029480218198778, 1.222500467439047],\n",
       " 'water_sasa': [0.5568466, 0.4601879, 0.5140486]}"
      ]
     },
     "execution_count": 4,
     "metadata": {},
     "output_type": "execute_result"
    }
   ],
   "source": [
    "mdfp.mdfp"
   ]
  },
  {
   "cell_type": "code",
   "execution_count": 6,
   "metadata": {},
   "outputs": [
    {
     "data": {
      "text/plain": [
       "{'2d_counts': [6, 0, 0, 0, 0, 0, 0, 0, 0, 0],\n",
       " 'water_intra_crf': [635.0920068529404, 20.0681538067759, 635.1927149214607],\n",
       " 'water_intra_lj': [312.7862069238647, 32.858825710340646, 311.55619478430503],\n",
       " 'water_total_crf': [635.0920068529404, 20.0681538067759, 635.1927149214607],\n",
       " 'water_total_lj': [312.7862069238647, 32.858825710340646, 311.55619478430503],\n",
       " 'water_intra_ene': [947.878213776805, 39.680055843862085, 947.9558900322655],\n",
       " 'water_total_ene': [947.878213776805, 39.680055843862085, 947.9558900322655],\n",
       " 'water_rgyr': [1.2352665551527648, 0.00563381562690064, 1.2352755417208225],\n",
       " 'water_sasa': [0.57106215, 0.46374443, 0.53367686]}"
      ]
     },
     "execution_count": 6,
     "metadata": {},
     "output_type": "execute_result"
    }
   ],
   "source": [
    "traj_5ns = md.load('liquid_phase_experiment_daata/test_benzene_full_equil_n100_5ns.h5')\n",
    "mdfp_5ns = SolutionComposer.run(traj_5ns, rdk_pmd,smiles=smiles)\n",
    "mdfp_5ns.mdfp"
   ]
  }
 ],
 "metadata": {
  "kernelspec": {
   "display_name": "mdfp_carl",
   "language": "python",
   "name": "python3"
  },
  "language_info": {
   "codemirror_mode": {
    "name": "ipython",
    "version": 3
   },
   "file_extension": ".py",
   "mimetype": "text/x-python",
   "name": "python",
   "nbconvert_exporter": "python",
   "pygments_lexer": "ipython3",
   "version": "3.11.5"
  }
 },
 "nbformat": 4,
 "nbformat_minor": 2
}
