{
 "cells": [
  {
   "cell_type": "code",
   "execution_count": null,
   "metadata": {},
   "outputs": [],
   "source": []
  },
  {
   "cell_type": "code",
   "execution_count": 4,
   "metadata": {},
   "outputs": [],
   "source": [
    "from simtk import unit\n",
    "from openmm import app\n",
    "\n",
    "from openmm import *\n",
    "from openmm.app import *\n",
    "from mdtraj.reporters import HDF5Reporter\n",
    "from utils import *\n",
    "\n",
    "import os\n",
    "\n",
    "class BaseSimulator():\n",
    "    \"\"\"\n",
    "    .. warning :: The base class should not be used directly\n",
    "\n",
    "    Parameters\n",
    "    ------------\n",
    "    temperature : simtk.unit\n",
    "        default 298.15 K\n",
    "    pressure : simtk.unit\n",
    "        default 1.013 bar\n",
    "    time_step : simtk.unit\n",
    "        default 2 fs\n",
    "\n",
    "\n",
    "    .. todo::\n",
    "        - setter and getter for phy constants\n",
    "    \"\"\"\n",
    "\n",
    "    temperature = 298.15 * unit.kelvin\n",
    "    pressure = 1.013 * unit.bar\n",
    "    time_step = 0.002 * unit.picoseconds\n",
    "    equil_steps = 50000  #100 ps\n",
    "\n",
    "    @classmethod\n",
    "    def via_openmm(cls, parmed_obj, file_name, file_path = \"./\", platform = \"CUDA\", num_steps = 5000 * 500, write_out_freq = 5000, report_equilibration = True, report_production = False,\n",
    "    constrain_all_bonds = True, **kwargs):\n",
    "        \"\"\"\n",
    "        Runs simulation using OpenMM.\n",
    "\n",
    "        Parameters\n",
    "        ------------\n",
    "        parmed_obj : parmed.structure\n",
    "            Parmed object of the fully parameterised simulated system.\n",
    "        file_name : str\n",
    "            No file type postfix is necessary\n",
    "        file_path : str\n",
    "            Default to current directory\n",
    "        platform : str\n",
    "            The computing architecture to do the calculation, default to CUDA, CPU, OpenCL is also possible.\n",
    "        num_steps : int\n",
    "            Number of production simulation to run, default 2,500,000 steps, i.e. 5 ns.\n",
    "        write_out_freq : int\n",
    "            Write out every nth frame of simulated trajectory, default to every 5000 frame write out one, i.e. 10 ps per frame.\n",
    "\n",
    "        Returns\n",
    "        --------\n",
    "        path : str\n",
    "            The absolute path where the trajectory is written to.\n",
    "        \"\"\"\n",
    "        platform = Platform.getPlatformByName(platform)\n",
    "        pmd = parmed_obj\n",
    "        path = '{}/{}.h5'.format(file_path, file_name)\n",
    "\n",
    "        constrain_what_bond = app.AllBonds if constrain_all_bonds else app.HBonds\n",
    "        system = pmd.createSystem(nonbondedMethod=app.PME, nonbondedCutoff=1*unit.nanometer, constraints=constrain_what_bond, rigidWater=False)\n",
    "\n",
    "\n",
    "        thermostat = AndersenThermostat(cls.temperature, 1/unit.picosecond)\n",
    "        system.addForce(thermostat)\n",
    "        barostat = MonteCarloBarostat(cls.pressure , cls.temperature)\n",
    "        system.addForce(barostat)\n",
    "        integrator = VerletIntegrator(cls.time_step)\n",
    "\n",
    "        simulation = Simulation(pmd.topology, system, integrator, platform)\n",
    "        simulation.context.setPeriodicBoxVectors(*pmd.box_vectors)\n",
    "        simulation.context.setPositions(pmd.positions)\n",
    "        simulation.minimizeEnergy()\n",
    "        print(\"Minimisation done\")\n",
    "        # Eq\n",
    "        try:\n",
    "            cls.equil_steps = kwargs[\"equil_steps\"]\n",
    "        except KeyError:\n",
    "            cls.equil_steps = 50000  # Default value\n",
    "\n",
    "        iteration_count = 0\n",
    "        while True:\n",
    "            simulation.reporters.append(StateDataReporter(\"{}/equilibration_{}.dat\".format(file_path, file_name), cls.equil_steps//5000, step=True, volume=True, temperature=True, density=True))\n",
    "            simulation.step(cls.equil_steps)\n",
    "\n",
    "            # Read the equilibration file\n",
    "            equilibration_file = \"{}/equilibration_{}.dat\".format(file_path, file_name)\n",
    "            df_equilib = pd.read_csv(equilibration_file, delimiter=\",\")\n",
    "            densities = df_equilib['Density (g/mL)']\n",
    "\n",
    "            density_fluctuation = densities.max() - densities.min()\n",
    "            print(f'Density fluctuation is {round(density_fluctuation,2)}')\n",
    "\n",
    "            if density_fluctuation <= 0.1:\n",
    "                print(\"Density fluctuation is below 0.1, proceeding to production\")\n",
    "                break\n",
    "            elif iteration_count >= 5:\n",
    "                raise ValueError(\"Density fluctuation is still high after 5 iterations, exiting\") \n",
    "            else:\n",
    "                print(\"which is higher than cut-off 0.1, re-equilibrating\")\n",
    "                os.remove(equilibration_file)\n",
    "                iteration_count += 1\n",
    "        \n",
    "        state = simulation.context.getState(getPositions = True, getVelocities = True)\n",
    "        pmd.positions, pmd.velocities, pmd.box_vectors = state.getPositions(),state.getVelocities(), state.getPeriodicBoxVectors()\n",
    "\n",
    "        #Production\n",
    "        del system\n",
    "        del simulation\n",
    "\n",
    "        system = pmd.createSystem(nonbondedMethod=app.PME, nonbondedCutoff=1*unit.nanometer, constraints=constrain_what_bond)\n",
    "\n",
    "        thermostat = AndersenThermostat(cls.temperature, 1/unit.picosecond)\n",
    "        system.addForce(thermostat)\n",
    "\n",
    "        integrator = VerletIntegrator(cls.time_step)\n",
    "        simulation = Simulation(pmd.topology, system, integrator, platform)\n",
    "        simulation.context.setPeriodicBoxVectors(*pmd.box_vectors)\n",
    "        simulation.context.setPositions(pmd.positions)\n",
    "        if report_production:\n",
    "            simulation.reporters.append(StateDataReporter(\"{}/production_{}.dat\".format(file_path, file_name), num_steps//50000, step=True, potentialEnergy = True, temperature = True))\n",
    "        simulation.reporters.append(HDF5Reporter(path, write_out_freq))\n",
    "        simulation.step(num_steps)\n",
    "\n",
    "        return os.path.abspath(path)\n",
    "    \n",
    "\n",
    "\n",
    "\n",
    "class SolutionSimulator(BaseSimulator):\n",
    "    \"\"\"\n",
    "    Perform solution simulation, namely one copy of solute in water box. Currently identical to BaseSimulator\n",
    "\n",
    "    Parameters\n",
    "    -----------\n",
    "    equil_steps : int\n",
    "        number of steps during equilibraion, default 50,000 steps, i.e. 100 ps\n",
    "    \"\"\"\n",
    "    equil_steps = 50000  #100 ps\n",
    "\n",
    "class LiquidSimulator(BaseSimulator):\n",
    "    \"\"\"\n",
    "    Perform liquid simulation, namely multiple copy of the same molecule.\n",
    "\n",
    "    Parameters\n",
    "    -----------\n",
    "    equil_steps : int\n",
    "        number of steps during equilibraion, default 500,000 steps, i.e. 1 ns\n",
    "    \"\"\"\n",
    "    equil_steps = 500000  #1 ns\n"
   ]
  },
  {
   "cell_type": "code",
   "execution_count": 5,
   "metadata": {},
   "outputs": [],
   "source": [
    "# Load the PDB file and XML system into ParmEd\n",
    "import openmm\n",
    "from openmm.app.pdbfile import PDBFile\n",
    "import parmed\n",
    "pdb_file = f'/localhome/cschiebroek/MDFP_VP/mdfptools/carl/4f0c0007e8d044f9b3e95f744a4a674e_build_coordinates/output.pdb'\n",
    "parameterized_system = f'/localhome/cschiebroek/MDFP_VP/mdfptools/carl/4f0c0007e8d044f9b3e95f744a4a674e_assign_parameters/system.xml'\n",
    "omm_top = PDBFile(pdb_file).topology\n",
    "omm_sys = openmm.XmlSerializer.deserialize(open(parameterized_system).read())\n",
    "parmed_obj = parmed.openmm.load_topology(omm_top, omm_sys, xyz=pdb_file)\n"
   ]
  },
  {
   "cell_type": "code",
   "execution_count": 6,
   "metadata": {},
   "outputs": [
    {
     "name": "stdout",
     "output_type": "stream",
     "text": [
      "Minimisation done\n",
      "Density fluctuation is 0.24\n",
      "which is higher than cut-off 0.1, re-equilibrating\n",
      "Density fluctuation is 0.02\n",
      "Density fluctuation is below 0.1, proceeding to production\n"
     ]
    },
    {
     "data": {
      "text/plain": [
       "'/localhome/cschiebroek/MDFP_VP/mdfptools/carl/test_benzene.h5'"
      ]
     },
     "execution_count": 6,
     "metadata": {},
     "output_type": "execute_result"
    }
   ],
   "source": [
    "SolutionSimulator.via_openmm(parmed_obj, file_name = 'test_benzene', file_path = './',\n",
    "                             platform = \"CUDA\", num_steps = 50 * 500)"
   ]
  },
  {
   "cell_type": "code",
   "execution_count": null,
   "metadata": {},
   "outputs": [],
   "source": []
  },
  {
   "cell_type": "code",
   "execution_count": 40,
   "metadata": {},
   "outputs": [
    {
     "name": "stdout",
     "output_type": "stream",
     "text": [
      "Minimisation done\n",
      "Density fluctuation is 0.08\n",
      "Density fluctuation is below 0.1, proceeding to production\n"
     ]
    },
    {
     "data": {
      "text/plain": [
       "'/localhome/cschiebroek/MDFP_VP/mdfptools/carl/test_pentane_full_equil.h5'"
      ]
     },
     "execution_count": 40,
     "metadata": {},
     "output_type": "execute_result"
    }
   ],
   "source": [
    "#example with low experimental density (pentane, 0.61 g/mL)\n",
    "schema_id = '899401215785451f8733675e24b98a18'\n",
    "pdb_file = f'/localhome/cschiebroek/MDFP_VP/mdfptools/carl/{schema_id}_build_coordinates/output.pdb'\n",
    "parameterized_system = f'/localhome/cschiebroek/MDFP_VP/mdfptools/carl/{schema_id}_assign_parameters/system.xml'\n",
    "omm_top = PDBFile(pdb_file).topology\n",
    "omm_sys = openmm.XmlSerializer.deserialize(open(parameterized_system).read())\n",
    "parmed_obj = parmed.openmm.load_topology(omm_top, omm_sys, xyz=pdb_file)\n",
    "SolutionSimulator.via_openmm(parmed_obj, file_name = 'test_pentane_full_equil', file_path = './',\n",
    "                             platform = \"CUDA\", num_steps = 5 * 5)"
   ]
  },
  {
   "cell_type": "code",
   "execution_count": 8,
   "metadata": {},
   "outputs": [
    {
     "name": "stdout",
     "output_type": "stream",
     "text": [
      "Minimisation done\n",
      "Density fluctuation is 2.34\n",
      "which is higher than cut-off 0.1, re-equilibrating\n",
      "Density fluctuation is 0.06\n",
      "Density fluctuation is below 0.1, proceeding to production\n"
     ]
    },
    {
     "data": {
      "text/plain": [
       "'/localhome/cschiebroek/MDFP_VP/mdfptools/carl/test_1122tetrabromoethane.h5'"
      ]
     },
     "execution_count": 8,
     "metadata": {},
     "output_type": "execute_result"
    }
   ],
   "source": [
    "#example with high experimental density (pentane, 0.61 g/mL)\n",
    "schema_id = 'e1baf18c2527499f8ce274620e805a09'\n",
    "pdb_file = f'/localhome/cschiebroek/MDFP_VP/mdfptools/carl/{schema_id}_build_coordinates/output.pdb'\n",
    "parameterized_system = f'/localhome/cschiebroek/MDFP_VP/mdfptools/carl/{schema_id}_assign_parameters/system.xml'\n",
    "omm_top = PDBFile(pdb_file).topology\n",
    "omm_sys = openmm.XmlSerializer.deserialize(open(parameterized_system).read())\n",
    "parmed_obj = parmed.openmm.load_topology(omm_top, omm_sys, xyz=pdb_file)\n",
    "SolutionSimulator.via_openmm(parmed_obj, file_name = 'test_1122tetrabromoethane', file_path = './',\n",
    "                             platform = \"CUDA\", num_steps = 50 * 500)"
   ]
  },
  {
   "cell_type": "code",
   "execution_count": null,
   "metadata": {},
   "outputs": [],
   "source": [
    "#example with huge molecule\n",
    "schema_id = 'e1baf18c2527499f8ce274620e805a09'\n",
    "pdb_file = f'/localhome/cschiebroek/MDFP_VP/mdfptools/carl/{schema_id}_build_coordinates/output.pdb'\n",
    "parameterized_system = f'/localhome/cschiebroek/MDFP_VP/mdfptools/carl/{schema_id}_assign_parameters/system.xml'\n",
    "omm_top = PDBFile(pdb_file).topology\n",
    "omm_sys = openmm.XmlSerializer.deserialize(open(parameterized_system).read())\n",
    "parmed_obj = parmed.openmm.load_topology(omm_top, omm_sys, xyz=pdb_file)\n",
    "SolutionSimulator.via_openmm(parmed_obj, file_name = 'test_long_boy', file_path = './',\n",
    "                             platform = \"CUDA\", num_steps = 50 * 500)"
   ]
  },
  {
   "cell_type": "code",
   "execution_count": 41,
   "metadata": {},
   "outputs": [
    {
     "name": "stdout",
     "output_type": "stream",
     "text": [
      "Minimisation done\n",
      "Density fluctuation is 0.96\n",
      "which is higher than cut-off 0.1, re-equilibrating\n",
      "Density fluctuation is 0.06\n",
      "Density fluctuation is below 0.1, proceeding to production\n"
     ]
    },
    {
     "data": {
      "text/plain": [
       "'/localhome/cschiebroek/MDFP_VP/mdfptools/carl/test_chloroform_full_equil.h5'"
      ]
     },
     "execution_count": 41,
     "metadata": {},
     "output_type": "execute_result"
    }
   ],
   "source": [
    "#example with chloroform\n",
    "schema_id = '4a6a781c2b774a15ad79d7fc00fb2ebf'\n",
    "pdb_file = f'/localhome/cschiebroek/MDFP_VP/mdfptools/carl/{schema_id}_build_coordinates/output.pdb'\n",
    "parameterized_system = f'/localhome/cschiebroek/MDFP_VP/mdfptools/carl/{schema_id}_assign_parameters/system.xml'\n",
    "omm_top = PDBFile(pdb_file).topology\n",
    "omm_sys = openmm.XmlSerializer.deserialize(open(parameterized_system).read())\n",
    "parmed_obj = parmed.openmm.load_topology(omm_top, omm_sys, xyz=pdb_file)\n",
    "SolutionSimulator.via_openmm(parmed_obj, file_name = 'test_chloroform_full_equil', file_path = './',\n",
    "                             platform = \"CUDA\", num_steps = 5 * 5)"
   ]
  },
  {
   "cell_type": "code",
   "execution_count": null,
   "metadata": {},
   "outputs": [],
   "source": []
  },
  {
   "cell_type": "code",
   "execution_count": null,
   "metadata": {},
   "outputs": [],
   "source": []
  },
  {
   "cell_type": "code",
   "execution_count": 39,
   "metadata": {},
   "outputs": [],
   "source": [
    "from simtk import unit\n",
    "from openmm import app\n",
    "\n",
    "from openmm import *\n",
    "from openmm.app import *\n",
    "from mdtraj.reporters import HDF5Reporter\n",
    "from utils import *\n",
    "\n",
    "import os\n",
    "\n",
    "class BaseSimulator():\n",
    "    \"\"\"\n",
    "    .. warning :: The base class should not be used directly\n",
    "\n",
    "    Parameters\n",
    "    ------------\n",
    "    temperature : simtk.unit\n",
    "        default 298.15 K\n",
    "    pressure : simtk.unit\n",
    "        default 1.013 bar\n",
    "    time_step : simtk.unit\n",
    "        default 2 fs\n",
    "\n",
    "\n",
    "    .. todo::\n",
    "        - setter and getter for phy constants\n",
    "    \"\"\"\n",
    "\n",
    "    temperature = 298.15 * unit.kelvin\n",
    "    pressure = 1.013 * unit.bar\n",
    "    time_step = 0.002 * unit.picoseconds\n",
    "    equil_steps = 50000  #100 ps\n",
    "\n",
    "    @classmethod\n",
    "    def via_openmm(cls, parmed_obj, file_name, file_path = \"./\", platform = \"CUDA\", num_steps = 5000 * 500, write_out_freq = 5000, report_equilibration = True, report_production = False,\n",
    "    constrain_all_bonds = True, **kwargs):\n",
    "        \"\"\"\n",
    "        Runs simulation using OpenMM.\n",
    "\n",
    "        Parameters\n",
    "        ------------\n",
    "        parmed_obj : parmed.structure\n",
    "            Parmed object of the fully parameterised simulated system.\n",
    "        file_name : str\n",
    "            No file type postfix is necessary\n",
    "        file_path : str\n",
    "            Default to current directory\n",
    "        platform : str\n",
    "            The computing architecture to do the calculation, default to CUDA, CPU, OpenCL is also possible.\n",
    "        num_steps : int\n",
    "            Number of production simulation to run, default 2,500,000 steps, i.e. 5 ns.\n",
    "        write_out_freq : int\n",
    "            Write out every nth frame of simulated trajectory, default to every 5000 frame write out one, i.e. 10 ps per frame.\n",
    "\n",
    "        Returns\n",
    "        --------\n",
    "        path : str\n",
    "            The absolute path where the trajectory is written to.\n",
    "        \"\"\"\n",
    "        platform = Platform.getPlatformByName(platform)\n",
    "        pmd = parmed_obj\n",
    "        path = '{}/{}.h5'.format(file_path, file_name)\n",
    "\n",
    "        constrain_what_bond = app.AllBonds if constrain_all_bonds else app.HBonds\n",
    "        system = pmd.createSystem(nonbondedMethod=app.PME, nonbondedCutoff=1*unit.nanometer, constraints=constrain_what_bond, rigidWater=False)\n",
    "\n",
    "\n",
    "        thermostat = AndersenThermostat(cls.temperature, 1/unit.picosecond)\n",
    "        system.addForce(thermostat)\n",
    "        barostat = MonteCarloBarostat(cls.pressure , cls.temperature)\n",
    "        system.addForce(barostat)\n",
    "        integrator = VerletIntegrator(cls.time_step)\n",
    "\n",
    "        simulation = Simulation(pmd.topology, system, integrator, platform)\n",
    "        simulation.context.setPeriodicBoxVectors(*pmd.box_vectors)\n",
    "        simulation.context.setPositions(pmd.positions)\n",
    "        simulation.minimizeEnergy()\n",
    "        print(\"Minimisation done\")\n",
    "        # Eq\n",
    "        try:\n",
    "            cls.equil_steps = kwargs[\"equil_steps\"]\n",
    "        except KeyError:\n",
    "            cls.equil_steps = 50000  # Default value\n",
    "\n",
    "        iteration_count = 0\n",
    "        while True:\n",
    "            simulation.reporters.append(StateDataReporter(\"{}/equilibration_{}.dat\".format(file_path, file_name), cls.equil_steps//5000, step=True, volume=True, temperature=True, density=True))\n",
    "            simulation.step(cls.equil_steps)\n",
    "\n",
    "            # Read the equilibration file\n",
    "            equilibration_file = \"{}/equilibration_{}.dat\".format(file_path, file_name)\n",
    "            df_equilib = pd.read_csv(equilibration_file, delimiter=\",\")\n",
    "            densities = df_equilib['Density (g/mL)']\n",
    "\n",
    "            density_fluctuation = densities.max() - densities.min()\n",
    "            print(f'Density fluctuation is {round(density_fluctuation,2)}')\n",
    "\n",
    "            if density_fluctuation <= 0.1:\n",
    "                print(\"Density fluctuation is below 0.1, proceeding to production\")\n",
    "                os.rename(equilibration_file, f\"{equilibration_file}_{iteration_count}\")\n",
    "                break\n",
    "            elif iteration_count >= 5:\n",
    "                raise ValueError(\"Density fluctuation is still high after 5 iterations, exiting\") \n",
    "            else:\n",
    "                print(\"which is higher than cut-off 0.1, re-equilibrating\")\n",
    "                os.rename(equilibration_file, f\"{equilibration_file}_{iteration_count}\")\n",
    "                iteration_count += 1\n",
    "\n",
    "\n",
    "        state = simulation.context.getState(getPositions = True, getVelocities = True)\n",
    "        pmd.positions, pmd.velocities, pmd.box_vectors = state.getPositions(),state.getVelocities(), state.getPeriodicBoxVectors()\n",
    "\n",
    "        #Production\n",
    "        del system\n",
    "        del simulation\n",
    "\n",
    "        system = pmd.createSystem(nonbondedMethod=app.PME, nonbondedCutoff=1*unit.nanometer, constraints=constrain_what_bond)\n",
    "\n",
    "        thermostat = AndersenThermostat(cls.temperature, 1/unit.picosecond)\n",
    "        system.addForce(thermostat)\n",
    "\n",
    "        integrator = VerletIntegrator(cls.time_step)\n",
    "        simulation = Simulation(pmd.topology, system, integrator, platform)\n",
    "        simulation.context.setPeriodicBoxVectors(*pmd.box_vectors)\n",
    "        simulation.context.setPositions(pmd.positions)\n",
    "        if report_production:\n",
    "            simulation.reporters.append(StateDataReporter(\"{}/production_{}.dat\".format(file_path, file_name), num_steps//50000, step=True, potentialEnergy = True, temperature = True))\n",
    "        simulation.reporters.append(HDF5Reporter(path, write_out_freq))\n",
    "        simulation.step(num_steps)\n",
    "\n",
    "        return os.path.abspath(path)\n",
    "    \n",
    "\n",
    "\n",
    "\n",
    "class SolutionSimulator(BaseSimulator):\n",
    "    \"\"\"\n",
    "    Perform solution simulation, namely one copy of solute in water box. Currently identical to BaseSimulator\n",
    "\n",
    "    Parameters\n",
    "    -----------\n",
    "    equil_steps : int\n",
    "        number of steps during equilibraion, default 50,000 steps, i.e. 100 ps\n",
    "    \"\"\"\n",
    "    equil_steps = 50000  #100 ps\n",
    "\n",
    "class LiquidSimulator(BaseSimulator):\n",
    "    \"\"\"\n",
    "    Perform liquid simulation, namely multiple copy of the same molecule.\n",
    "\n",
    "    Parameters\n",
    "    -----------\n",
    "    equil_steps : int\n",
    "        number of steps during equilibraion, default 500,000 steps, i.e. 1 ns\n",
    "    \"\"\"\n",
    "    equil_steps = 500000  #1 ns\n"
   ]
  },
  {
   "cell_type": "code",
   "execution_count": 35,
   "metadata": {},
   "outputs": [
    {
     "name": "stdout",
     "output_type": "stream",
     "text": [
      "Minimisation done\n",
      "Density fluctuation is 2.35\n",
      "which is higher than cut-off 0.1, re-equilibrating\n",
      "Density fluctuation is 0.06\n",
      "Density fluctuation is below 0.1, proceeding to production\n"
     ]
    },
    {
     "name": "stderr",
     "output_type": "stream",
     "text": [
      "cat: './/equilibration_test_1122tetrabromoethane_full_equil_*.dat': No such file or directory\n"
     ]
    },
    {
     "ename": "KeyboardInterrupt",
     "evalue": "",
     "output_type": "error",
     "traceback": [
      "\u001b[0;31m---------------------------------------------------------------------------\u001b[0m",
      "\u001b[0;31mKeyboardInterrupt\u001b[0m                         Traceback (most recent call last)",
      "\u001b[0;32m/tmp/ipykernel_1223409/2897260886.py\u001b[0m in \u001b[0;36m?\u001b[0;34m()\u001b[0m\n\u001b[1;32m      4\u001b[0m \u001b[0mparameterized_system\u001b[0m \u001b[0;34m=\u001b[0m \u001b[0;34mf'/localhome/cschiebroek/MDFP_VP/mdfptools/carl/{schema_id}_assign_parameters/system.xml'\u001b[0m\u001b[0;34m\u001b[0m\u001b[0;34m\u001b[0m\u001b[0m\n\u001b[1;32m      5\u001b[0m \u001b[0momm_top\u001b[0m \u001b[0;34m=\u001b[0m \u001b[0mPDBFile\u001b[0m\u001b[0;34m(\u001b[0m\u001b[0mpdb_file\u001b[0m\u001b[0;34m)\u001b[0m\u001b[0;34m.\u001b[0m\u001b[0mtopology\u001b[0m\u001b[0;34m\u001b[0m\u001b[0;34m\u001b[0m\u001b[0m\n\u001b[1;32m      6\u001b[0m \u001b[0momm_sys\u001b[0m \u001b[0;34m=\u001b[0m \u001b[0mopenmm\u001b[0m\u001b[0;34m.\u001b[0m\u001b[0mXmlSerializer\u001b[0m\u001b[0;34m.\u001b[0m\u001b[0mdeserialize\u001b[0m\u001b[0;34m(\u001b[0m\u001b[0mopen\u001b[0m\u001b[0;34m(\u001b[0m\u001b[0mparameterized_system\u001b[0m\u001b[0;34m)\u001b[0m\u001b[0;34m.\u001b[0m\u001b[0mread\u001b[0m\u001b[0;34m(\u001b[0m\u001b[0;34m)\u001b[0m\u001b[0;34m)\u001b[0m\u001b[0;34m\u001b[0m\u001b[0;34m\u001b[0m\u001b[0m\n\u001b[1;32m      7\u001b[0m \u001b[0mparmed_obj\u001b[0m \u001b[0;34m=\u001b[0m \u001b[0mparmed\u001b[0m\u001b[0;34m.\u001b[0m\u001b[0mopenmm\u001b[0m\u001b[0;34m.\u001b[0m\u001b[0mload_topology\u001b[0m\u001b[0;34m(\u001b[0m\u001b[0momm_top\u001b[0m\u001b[0;34m,\u001b[0m \u001b[0momm_sys\u001b[0m\u001b[0;34m,\u001b[0m \u001b[0mxyz\u001b[0m\u001b[0;34m=\u001b[0m\u001b[0mpdb_file\u001b[0m\u001b[0;34m)\u001b[0m\u001b[0;34m\u001b[0m\u001b[0;34m\u001b[0m\u001b[0m\n\u001b[0;32m----> 8\u001b[0;31m SolutionSimulator.via_openmm(parmed_obj, file_name = 'test_1122tetrabromoethane_full_equil', file_path = './',\n\u001b[0m\u001b[1;32m      9\u001b[0m                              platform = \"CUDA\", num_steps = 50 * 500)\n",
      "\u001b[0;32m/tmp/ipykernel_1223409/567645523.py\u001b[0m in \u001b[0;36m?\u001b[0;34m(cls, parmed_obj, file_name, file_path, platform, num_steps, write_out_freq, report_equilibration, report_production, constrain_all_bonds, **kwargs)\u001b[0m\n\u001b[1;32m    129\u001b[0m         \u001b[0msimulation\u001b[0m\u001b[0;34m.\u001b[0m\u001b[0mcontext\u001b[0m\u001b[0;34m.\u001b[0m\u001b[0msetPositions\u001b[0m\u001b[0;34m(\u001b[0m\u001b[0mpmd\u001b[0m\u001b[0;34m.\u001b[0m\u001b[0mpositions\u001b[0m\u001b[0;34m)\u001b[0m\u001b[0;34m\u001b[0m\u001b[0;34m\u001b[0m\u001b[0m\n\u001b[1;32m    130\u001b[0m         \u001b[0;32mif\u001b[0m \u001b[0mreport_production\u001b[0m\u001b[0;34m:\u001b[0m\u001b[0;34m\u001b[0m\u001b[0;34m\u001b[0m\u001b[0m\n\u001b[1;32m    131\u001b[0m             \u001b[0msimulation\u001b[0m\u001b[0;34m.\u001b[0m\u001b[0mreporters\u001b[0m\u001b[0;34m.\u001b[0m\u001b[0mappend\u001b[0m\u001b[0;34m(\u001b[0m\u001b[0mStateDataReporter\u001b[0m\u001b[0;34m(\u001b[0m\u001b[0;34m\"{}/production_{}.dat\"\u001b[0m\u001b[0;34m.\u001b[0m\u001b[0mformat\u001b[0m\u001b[0;34m(\u001b[0m\u001b[0mfile_path\u001b[0m\u001b[0;34m,\u001b[0m \u001b[0mfile_name\u001b[0m\u001b[0;34m)\u001b[0m\u001b[0;34m,\u001b[0m \u001b[0mnum_steps\u001b[0m\u001b[0;34m//\u001b[0m\u001b[0;36m50000\u001b[0m\u001b[0;34m,\u001b[0m \u001b[0mstep\u001b[0m\u001b[0;34m=\u001b[0m\u001b[0;32mTrue\u001b[0m\u001b[0;34m,\u001b[0m \u001b[0mpotentialEnergy\u001b[0m \u001b[0;34m=\u001b[0m \u001b[0;32mTrue\u001b[0m\u001b[0;34m,\u001b[0m \u001b[0mtemperature\u001b[0m \u001b[0;34m=\u001b[0m \u001b[0;32mTrue\u001b[0m\u001b[0;34m)\u001b[0m\u001b[0;34m)\u001b[0m\u001b[0;34m\u001b[0m\u001b[0;34m\u001b[0m\u001b[0m\n\u001b[1;32m    132\u001b[0m         \u001b[0msimulation\u001b[0m\u001b[0;34m.\u001b[0m\u001b[0mreporters\u001b[0m\u001b[0;34m.\u001b[0m\u001b[0mappend\u001b[0m\u001b[0;34m(\u001b[0m\u001b[0mHDF5Reporter\u001b[0m\u001b[0;34m(\u001b[0m\u001b[0mpath\u001b[0m\u001b[0;34m,\u001b[0m \u001b[0mwrite_out_freq\u001b[0m\u001b[0;34m)\u001b[0m\u001b[0;34m)\u001b[0m\u001b[0;34m\u001b[0m\u001b[0;34m\u001b[0m\u001b[0m\n\u001b[0;32m--> 133\u001b[0;31m         \u001b[0msimulation\u001b[0m\u001b[0;34m.\u001b[0m\u001b[0mstep\u001b[0m\u001b[0;34m(\u001b[0m\u001b[0mnum_steps\u001b[0m\u001b[0;34m)\u001b[0m\u001b[0;34m\u001b[0m\u001b[0;34m\u001b[0m\u001b[0m\n\u001b[0m\u001b[1;32m    134\u001b[0m \u001b[0;34m\u001b[0m\u001b[0m\n\u001b[1;32m    135\u001b[0m         \u001b[0;32mreturn\u001b[0m \u001b[0mos\u001b[0m\u001b[0;34m.\u001b[0m\u001b[0mpath\u001b[0m\u001b[0;34m.\u001b[0m\u001b[0mabspath\u001b[0m\u001b[0;34m(\u001b[0m\u001b[0mpath\u001b[0m\u001b[0;34m)\u001b[0m\u001b[0;34m\u001b[0m\u001b[0;34m\u001b[0m\u001b[0m\n",
      "\u001b[0;32m/localhome/cschiebroek/.conda/envs/mdfp_carl/lib/python3.11/site-packages/openmm/app/simulation.py\u001b[0m in \u001b[0;36m?\u001b[0;34m(self, steps)\u001b[0m\n\u001b[1;32m    139\u001b[0m     \u001b[0;32mdef\u001b[0m \u001b[0mstep\u001b[0m\u001b[0;34m(\u001b[0m\u001b[0mself\u001b[0m\u001b[0;34m,\u001b[0m \u001b[0msteps\u001b[0m\u001b[0;34m)\u001b[0m\u001b[0;34m:\u001b[0m\u001b[0;34m\u001b[0m\u001b[0;34m\u001b[0m\u001b[0m\n\u001b[1;32m    140\u001b[0m         \u001b[0;34m\"\"\"Advance the simulation by integrating a specified number of time steps.\"\"\"\u001b[0m\u001b[0;34m\u001b[0m\u001b[0;34m\u001b[0m\u001b[0m\n\u001b[0;32m--> 141\u001b[0;31m         \u001b[0mself\u001b[0m\u001b[0;34m.\u001b[0m\u001b[0m_simulate\u001b[0m\u001b[0;34m(\u001b[0m\u001b[0mendStep\u001b[0m\u001b[0;34m=\u001b[0m\u001b[0mself\u001b[0m\u001b[0;34m.\u001b[0m\u001b[0mcurrentStep\u001b[0m\u001b[0;34m+\u001b[0m\u001b[0msteps\u001b[0m\u001b[0;34m)\u001b[0m\u001b[0;34m\u001b[0m\u001b[0;34m\u001b[0m\u001b[0m\n\u001b[0m",
      "\u001b[0;32m/localhome/cschiebroek/.conda/envs/mdfp_carl/lib/python3.11/site-packages/openmm/app/simulation.py\u001b[0m in \u001b[0;36m?\u001b[0;34m(self, endStep, endTime)\u001b[0m\n\u001b[1;32m    202\u001b[0m                     \u001b[0mnextSteps\u001b[0m \u001b[0;34m=\u001b[0m \u001b[0mnextReport\u001b[0m\u001b[0;34m[\u001b[0m\u001b[0mi\u001b[0m\u001b[0;34m]\u001b[0m\u001b[0;34m[\u001b[0m\u001b[0;36m0\u001b[0m\u001b[0;34m]\u001b[0m\u001b[0;34m\u001b[0m\u001b[0;34m\u001b[0m\u001b[0m\n\u001b[1;32m    203\u001b[0m                     \u001b[0manyReport\u001b[0m \u001b[0;34m=\u001b[0m \u001b[0;32mTrue\u001b[0m\u001b[0;34m\u001b[0m\u001b[0;34m\u001b[0m\u001b[0m\n\u001b[1;32m    204\u001b[0m             \u001b[0mstepsToGo\u001b[0m \u001b[0;34m=\u001b[0m \u001b[0mnextSteps\u001b[0m\u001b[0;34m\u001b[0m\u001b[0;34m\u001b[0m\u001b[0m\n\u001b[1;32m    205\u001b[0m             \u001b[0;32mwhile\u001b[0m \u001b[0mstepsToGo\u001b[0m \u001b[0;34m>\u001b[0m \u001b[0;36m10\u001b[0m\u001b[0;34m:\u001b[0m\u001b[0;34m\u001b[0m\u001b[0;34m\u001b[0m\u001b[0m\n\u001b[0;32m--> 206\u001b[0;31m                 \u001b[0mself\u001b[0m\u001b[0;34m.\u001b[0m\u001b[0mintegrator\u001b[0m\u001b[0;34m.\u001b[0m\u001b[0mstep\u001b[0m\u001b[0;34m(\u001b[0m\u001b[0;36m10\u001b[0m\u001b[0;34m)\u001b[0m \u001b[0;31m# Only take 10 steps at a time, to give Python more chances to respond to a control-c.\u001b[0m\u001b[0;34m\u001b[0m\u001b[0;34m\u001b[0m\u001b[0m\n\u001b[0m\u001b[1;32m    207\u001b[0m                 \u001b[0mstepsToGo\u001b[0m \u001b[0;34m-=\u001b[0m \u001b[0;36m10\u001b[0m\u001b[0;34m\u001b[0m\u001b[0;34m\u001b[0m\u001b[0m\n\u001b[1;32m    208\u001b[0m                 \u001b[0;32mif\u001b[0m \u001b[0mendTime\u001b[0m \u001b[0;32mis\u001b[0m \u001b[0;32mnot\u001b[0m \u001b[0;32mNone\u001b[0m \u001b[0;32mand\u001b[0m \u001b[0mdatetime\u001b[0m\u001b[0;34m.\u001b[0m\u001b[0mnow\u001b[0m\u001b[0;34m(\u001b[0m\u001b[0;34m)\u001b[0m \u001b[0;34m>=\u001b[0m \u001b[0mendTime\u001b[0m\u001b[0;34m:\u001b[0m\u001b[0;34m\u001b[0m\u001b[0;34m\u001b[0m\u001b[0m\n\u001b[1;32m    209\u001b[0m                     \u001b[0;32mreturn\u001b[0m\u001b[0;34m\u001b[0m\u001b[0;34m\u001b[0m\u001b[0m\n",
      "\u001b[0;32m/localhome/cschiebroek/.conda/envs/mdfp_carl/lib/python3.11/site-packages/openmm/openmm.py\u001b[0m in \u001b[0;36m?\u001b[0;34m(self, steps)\u001b[0m\n\u001b[1;32m  10064\u001b[0m         \u001b[0;34m-\u001b[0m\u001b[0;34m-\u001b[0m\u001b[0;34m-\u001b[0m\u001b[0;34m-\u001b[0m\u001b[0;34m-\u001b[0m\u001b[0;34m-\u001b[0m\u001b[0;34m-\u001b[0m\u001b[0;34m-\u001b[0m\u001b[0;34m-\u001b[0m\u001b[0;34m-\u001b[0m\u001b[0;34m\u001b[0m\u001b[0;34m\u001b[0m\u001b[0m\n\u001b[1;32m  10065\u001b[0m         \u001b[0msteps\u001b[0m \u001b[0;34m:\u001b[0m \u001b[0mint\u001b[0m\u001b[0;34m\u001b[0m\u001b[0;34m\u001b[0m\u001b[0m\n\u001b[1;32m  10066\u001b[0m             \u001b[0mthe\u001b[0m \u001b[0mnumber\u001b[0m \u001b[0mof\u001b[0m \u001b[0mtime\u001b[0m \u001b[0msteps\u001b[0m \u001b[0mto\u001b[0m \u001b[0mtake\u001b[0m\u001b[0;34m\u001b[0m\u001b[0;34m\u001b[0m\u001b[0m\n\u001b[1;32m  10067\u001b[0m         \"\"\"\n\u001b[0;32m> 10068\u001b[0;31m         \u001b[0;32mreturn\u001b[0m \u001b[0m_openmm\u001b[0m\u001b[0;34m.\u001b[0m\u001b[0mVerletIntegrator_step\u001b[0m\u001b[0;34m(\u001b[0m\u001b[0mself\u001b[0m\u001b[0;34m,\u001b[0m \u001b[0msteps\u001b[0m\u001b[0;34m)\u001b[0m\u001b[0;34m\u001b[0m\u001b[0;34m\u001b[0m\u001b[0m\n\u001b[0m",
      "\u001b[0;31mKeyboardInterrupt\u001b[0m: "
     ]
    }
   ],
   "source": [
    "#example with high experimental density (pentane, 0.61 g/mL)\n",
    "schema_id = 'e1baf18c2527499f8ce274620e805a09'\n",
    "pdb_file = f'/localhome/cschiebroek/MDFP_VP/mdfptools/carl/{schema_id}_build_coordinates/output.pdb'\n",
    "parameterized_system = f'/localhome/cschiebroek/MDFP_VP/mdfptools/carl/{schema_id}_assign_parameters/system.xml'\n",
    "omm_top = PDBFile(pdb_file).topology\n",
    "omm_sys = openmm.XmlSerializer.deserialize(open(parameterized_system).read())\n",
    "parmed_obj = parmed.openmm.load_topology(omm_top, omm_sys, xyz=pdb_file)\n",
    "SolutionSimulator.via_openmm(parmed_obj, file_name = 'test_1122tetrabromoethane_full_equil', file_path = './',\n",
    "                             platform = \"CUDA\", num_steps = 50 * 500)"
   ]
  },
  {
   "cell_type": "code",
   "execution_count": 64,
   "metadata": {},
   "outputs": [
    {
     "name": "stdout",
     "output_type": "stream",
     "text": [
      "Minimisation done\n",
      "Density fluctuation is 0.24\n",
      "which is higher than cut-off 0.1, re-equilibrating\n",
      "Density fluctuation is 0.02\n",
      "Density fluctuation is below 0.1, proceeding to production\n",
      "CPU times: user 2min 31s, sys: 303 ms, total: 2min 32s\n",
      "Wall time: 2min 26s\n"
     ]
    },
    {
     "data": {
      "text/plain": [
       "'/localhome/cschiebroek/MDFP_VP/mdfptools/carl/benzene_full_equil_n1000.h5'"
      ]
     },
     "execution_count": 64,
     "metadata": {},
     "output_type": "execute_result"
    }
   ],
   "source": [
    "#repeat for the others\n",
    "schema_id = '0071386446c342529f1bb7c14316c4e7'\n",
    "pdb_file = f'/localhome/cschiebroek/MDFP_VP/mdfptools/carl/{schema_id}_build_coordinates/output.pdb'\n",
    "parameterized_system = f'/localhome/cschiebroek/MDFP_VP/mdfptools/carl/{schema_id}_assign_parameters/system.xml'\n",
    "omm_top = PDBFile(pdb_file).topology\n",
    "omm_sys = openmm.XmlSerializer.deserialize(open(parameterized_system).read())\n",
    "parmed_obj = parmed.openmm.load_topology(omm_top, omm_sys, xyz=pdb_file)\n",
    "%time SolutionSimulator.via_openmm(parmed_obj, file_name = 'benzene_full_equil_n1000', file_path = './',platform = \"CUDA\", num_steps = 50 * 500)"
   ]
  },
  {
   "cell_type": "code",
   "execution_count": 59,
   "metadata": {},
   "outputs": [
    {
     "name": "stdout",
     "output_type": "stream",
     "text": [
      "test\n",
      "CPU times: user 33 µs, sys: 0 ns, total: 33 µs\n",
      "Wall time: 31.9 µs\n"
     ]
    }
   ],
   "source": [
    "%time print('test')"
   ]
  },
  {
   "cell_type": "code",
   "execution_count": 60,
   "metadata": {},
   "outputs": [
    {
     "name": "stdout",
     "output_type": "stream",
     "text": [
      "Minimisation done\n",
      "Density fluctuation is 0.34\n",
      "which is higher than cut-off 0.1, re-equilibrating\n",
      "Density fluctuation is 0.07\n",
      "Density fluctuation is below 0.1, proceeding to production\n",
      "CPU times: user 37.8 s, sys: 299 ms, total: 38.1 s\n",
      "Wall time: 38.6 s\n"
     ]
    },
    {
     "data": {
      "text/plain": [
       "'/localhome/cschiebroek/MDFP_VP/mdfptools/carl/benzene_full_equil_n100.h5'"
      ]
     },
     "execution_count": 60,
     "metadata": {},
     "output_type": "execute_result"
    }
   ],
   "source": [
    "#repeat for the others\n",
    "schema_id = 'adb70b0f9c8b43a9a9373ada67a25377'\n",
    "pdb_file = f'/localhome/cschiebroek/MDFP_VP/mdfptools/carl/{schema_id}_build_coordinates/output.pdb'\n",
    "parameterized_system = f'/localhome/cschiebroek/MDFP_VP/mdfptools/carl/{schema_id}_assign_parameters/system.xml'\n",
    "omm_top = PDBFile(pdb_file).topology\n",
    "omm_sys = openmm.XmlSerializer.deserialize(open(parameterized_system).read())\n",
    "parmed_obj = parmed.openmm.load_topology(omm_top, omm_sys, xyz=pdb_file)\n",
    "%time SolutionSimulator.via_openmm(parmed_obj, file_name = 'test_benzene_full_equil_n100', file_path = './',platform = \"CUDA\", num_steps = 50 * 500)"
   ]
  },
  {
   "cell_type": "code",
   "execution_count": 65,
   "metadata": {},
   "outputs": [
    {
     "name": "stdout",
     "output_type": "stream",
     "text": [
      "Minimisation done\n",
      "Density fluctuation is 0.29\n",
      "which is higher than cut-off 0.1, re-equilibrating\n",
      "Density fluctuation is 0.04\n",
      "Density fluctuation is below 0.1, proceeding to production\n",
      "CPU times: user 57.2 s, sys: 279 ms, total: 57.4 s\n",
      "Wall time: 57.4 s\n"
     ]
    },
    {
     "data": {
      "text/plain": [
       "'/localhome/cschiebroek/MDFP_VP/mdfptools/carl/test_benzene_full_equil_n256.h5'"
      ]
     },
     "execution_count": 65,
     "metadata": {},
     "output_type": "execute_result"
    }
   ],
   "source": [
    "#repeat for the others\n",
    "schema_id = 'f09a080a01674150b8116e28bfe506dc'\n",
    "pdb_file = f'/localhome/cschiebroek/MDFP_VP/mdfptools/carl/{schema_id}_build_coordinates/output.pdb'\n",
    "parameterized_system = f'/localhome/cschiebroek/MDFP_VP/mdfptools/carl/{schema_id}_assign_parameters/system.xml'\n",
    "omm_top = PDBFile(pdb_file).topology\n",
    "omm_sys = openmm.XmlSerializer.deserialize(open(parameterized_system).read())\n",
    "parmed_obj = parmed.openmm.load_topology(omm_top, omm_sys, xyz=pdb_file)\n",
    "%time SolutionSimulator.via_openmm(parmed_obj, file_name = 'test_benzene_full_equil_n256', file_path = './',platform = \"CUDA\", num_steps = 50 * 500)"
   ]
  },
  {
   "cell_type": "code",
   "execution_count": 51,
   "metadata": {},
   "outputs": [
    {
     "data": {
      "text/plain": [
       "Text(0.5, 1.0, 'Total time vs number of molecules')"
      ]
     },
     "execution_count": 51,
     "metadata": {},
     "output_type": "execute_result"
    },
    {
     "data": {
      "image/png": "[encoded data removed]",
      "text/plain": [
       "<Figure size 640x480 with 1 Axes>"
      ]
     },
     "metadata": {},
     "output_type": "display_data"
    }
   ],
   "source": [
    "#plot: total time vs n\n",
    "timings = [33,49,0+60+51]\n",
    "ns = [100,256,1000]\n",
    "\n",
    "import matplotlib.pyplot as plt\n",
    "plt.plot(ns,timings, marker='o', linestyle='-')\n",
    "plt.xlabel('Number of molecules')\n",
    "plt.ylabel('Total time (s)')\n",
    "plt.title('Total time vs number of molecules')"
   ]
  },
  {
   "cell_type": "code",
   "execution_count": null,
   "metadata": {},
   "outputs": [],
   "source": []
  },
  {
   "cell_type": "code",
   "execution_count": 70,
   "metadata": {},
   "outputs": [
    {
     "data": {
      "text/plain": [
       "(2500000, 25000)"
      ]
     },
     "execution_count": 70,
     "metadata": {},
     "output_type": "execute_result"
    }
   ],
   "source": [
    "5000 * 500, 50 * 500"
   ]
  }
 ],
 "metadata": {
  "kernelspec": {
   "display_name": "mdfp_carl",
   "language": "python",
   "name": "python3"
  },
  "language_info": {
   "codemirror_mode": {
    "name": "ipython",
    "version": 3
   },
   "file_extension": ".py",
   "mimetype": "text/x-python",
   "name": "python",
   "nbconvert_exporter": "python",
   "pygments_lexer": "ipython3",
   "version": "3.11.5"
  }
 },
 "nbformat": 4,
 "nbformat_minor": 2
}
