{
 "cells": [
  {
   "cell_type": "code",
   "execution_count": null,
   "metadata": {},
   "outputs": [],
   "source": []
  },
  {
   "cell_type": "code",
   "execution_count": 1,
   "metadata": {},
   "outputs": [],
   "source": [
    "import openmm\n",
    "from openmm.app.pdbfile import PDBFile\n",
    "import parmed"
   ]
  },
  {
   "cell_type": "code",
   "execution_count": 3,
   "metadata": {},
   "outputs": [],
   "source": [
    "schema_id = 'e1baf18c2527499f8ce274620e805a09'\n",
    "pdb_file = f'/localhome/cschiebroek/MDFP_VP/mdfptools/carl/{schema_id}_build_coordinates/output.pdb'\n",
    "parameterized_system = f'/localhome/cschiebroek/MDFP_VP/mdfptools/carl/{schema_id}_assign_parameters/system.xml'\n",
    "omm_top = PDBFile(pdb_file).topology\n",
    "omm_sys = openmm.XmlSerializer.deserialize(open(parameterized_system).read())\n",
    "parmed_obj = parmed.openmm.load_topology(omm_top, omm_sys, xyz=pdb_file)\n",
    "#save as pdb\n",
    "parmed_obj.save('pentane_packmol.pdb')"
   ]
  },
  {
   "cell_type": "code",
   "execution_count": 4,
   "metadata": {},
   "outputs": [
    {
     "name": "stdout",
     "output_type": "stream",
     "text": [
      "Molobject created, parameterising...\n"
     ]
    },
    {
     "data": {
      "application/vnd.jupyter.widget-view+json": {
       "model_id": "f5287881c6a14827bfa26b61fd4168ae",
       "version_major": 2,
       "version_minor": 0
      },
      "text/plain": []
     },
     "metadata": {},
     "output_type": "display_data"
    },
    {
     "name": "stderr",
     "output_type": "stream",
     "text": [
      "/localhome/cschiebroek/.conda/envs/mdfp_carl/lib/python3.11/site-packages/parmed/structure.py:1775: UnitStrippedWarning: The unit of the quantity is stripped when downcasting to ndarray.\n",
      "  coords = np.array(value, dtype=np.float64, copy=False, subok=True)\n"
     ]
    }
   ],
   "source": [
    "import Parameteriser\n",
    "from rdkit import Chem\n",
    "from rdkit.Chem import rdDistGeom\n",
    "mol = Chem.AddHs(Chem.MolFromSmiles('CCCCC'))\n",
    "rdDistGeom.EmbedMolecule(mol)\n",
    "print('Molobject created, parameterising...')\n",
    "rdk_pmd = Parameteriser.SolutionParameteriser.via_rdkit(mol = mol)\n",
    "rdk_pmd.save('pentane_old_packing.pdb')"
   ]
  },
  {
   "cell_type": "code",
   "execution_count": 5,
   "metadata": {},
   "outputs": [
    {
     "data": {
      "text/plain": [
       "25000"
      ]
     },
     "execution_count": 5,
     "metadata": {},
     "output_type": "execute_result"
    }
   ],
   "source": [
    "50 * 500"
   ]
  },
  {
   "cell_type": "code",
   "execution_count": null,
   "metadata": {},
   "outputs": [],
   "source": []
  }
 ],
 "metadata": {
  "kernelspec": {
   "display_name": "mdfp_carl",
   "language": "python",
   "name": "python3"
  },
  "language_info": {
   "codemirror_mode": {
    "name": "ipython",
    "version": 3
   },
   "file_extension": ".py",
   "mimetype": "text/x-python",
   "name": "python",
   "nbconvert_exporter": "python",
   "pygments_lexer": "ipython3",
   "version": "3.11.5"
  }
 },
 "nbformat": 4,
 "nbformat_minor": 2
}
