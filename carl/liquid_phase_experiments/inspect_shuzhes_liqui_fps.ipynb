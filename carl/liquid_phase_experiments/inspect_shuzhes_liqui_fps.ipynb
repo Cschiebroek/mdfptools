{
 "cells": [
  {
   "cell_type": "code",
   "execution_count": null,
   "metadata": {},
   "outputs": [],
   "source": []
  },
  {
   "cell_type": "code",
   "execution_count": 1,
   "metadata": {},
   "outputs": [
    {
     "name": "stderr",
     "output_type": "stream",
     "text": [
      "Warning: importing 'simtk.openmm' is deprecated.  Import 'openmm' instead.\n",
      "Warning: Unable to load toolkit 'OpenEye Toolkit'. The Open Force Field Toolkit does not require the OpenEye Toolkits, and can use RDKit/AmberTools instead. However, if you have a valid license for the OpenEye Toolkits, consider installing them for faster performance and additional file format support: https://docs.eyesopen.com/toolkits/python/quickstart-python/linuxosx.html OpenEye offers free Toolkit licenses for academics: https://www.eyesopen.com/academic-licensing\n"
     ]
    }
   ],
   "source": [
    "import pickle \n",
    "import mdfptools"
   ]
  },
  {
   "cell_type": "code",
   "execution_count": 3,
   "metadata": {},
   "outputs": [
    {
     "data": {
      "text/plain": [
       "[19,\n",
       " 0,\n",
       " 0,\n",
       " 2,\n",
       " 0,\n",
       " 0,\n",
       " 0,\n",
       " 5,\n",
       " 0,\n",
       " 0,\n",
       " 36.70788611468943,\n",
       " 0.7336157444187074,\n",
       " 36.718724636194935,\n",
       " 51.27179002795949,\n",
       " 2.495667023207163,\n",
       " 50.90473639057159,\n",
       " 32.64568212081064,\n",
       " 3.3753766648441093,\n",
       " 33.1224964998559,\n",
       " -150.12883781080254,\n",
       " 15.371259290016564,\n",
       " -150.89884911780987,\n",
       " 87.97967614264891,\n",
       " 2.449003632185095,\n",
       " 87.584761411327,\n",
       " -117.48315568999189,\n",
       " 14.311941075733596,\n",
       " -118.78133232849851,\n",
       " 1.6962664289998217,\n",
       " 0.006243409028775729,\n",
       " 1.6958663707369581,\n",
       " 4.7256117,\n",
       " 0.016093684,\n",
       " 4.7252774,\n",
       " 0.7771600970807717,\n",
       " 0.28026973497873886,\n",
       " 0.7258486551990402]"
      ]
     },
     "execution_count": 3,
     "metadata": {},
     "output_type": "execute_result"
    }
   ],
   "source": [
    "#open /localhome/cschiebroek/ShuZe/vp/fingerprint/liquid_0a0d8dc20340cebf023ef45cb4428d80.pickle\n",
    "with open('/localhome/cschiebroek/ShuZe/vp/fingerprint/liquid_0a0d8dc20340cebf023ef45cb4428d80.pickle', 'rb') as f:\n",
    "    mdfp_liquid = pickle.load(f)\n",
    "mdfp_liquid.get_mdfp()"
   ]
  },
  {
   "cell_type": "code",
   "execution_count": 5,
   "metadata": {},
   "outputs": [
    {
     "data": {
      "text/plain": [
       "[0,\n",
       " 0,\n",
       " 0,\n",
       " 0,\n",
       " 0,\n",
       " 0,\n",
       " 0,\n",
       " 0,\n",
       " 0,\n",
       " 0,\n",
       " 36.96503131309157,\n",
       " 0.7110435300526742,\n",
       " 36.98743711096675,\n",
       " 51.402602087869944,\n",
       " 2.486337578305875,\n",
       " 51.139337248394,\n",
       " 19.89111005842741,\n",
       " 7.067124615838295,\n",
       " 20.156746525775496,\n",
       " -50.930698056049415,\n",
       " 8.272354412955501,\n",
       " -51.59695598290844,\n",
       " 88.36763340096151,\n",
       " 2.392057266631106,\n",
       " 88.1469955841248,\n",
       " -31.039587997621997,\n",
       " 10.626907522366954,\n",
       " -31.614862436078546,\n",
       " 1.6559401880869264,\n",
       " 0.004589332517789492,\n",
       " 1.6556194113053446,\n",
       " 4.7246084,\n",
       " 0.014682092,\n",
       " 4.7236595]"
      ]
     },
     "execution_count": 5,
     "metadata": {},
     "output_type": "execute_result"
    }
   ],
   "source": [
    "with open('/localhome/cschiebroek/ShuZe/vp/fingerprint/water_0a0d8dc20340cebf023ef45cb4428d80.pickle', 'rb') as f:\n",
    "    mdfp_sol = pickle.load(f)\n",
    "mdfp_sol.get_mdfp()"
   ]
  },
  {
   "cell_type": "code",
   "execution_count": 7,
   "metadata": {},
   "outputs": [
    {
     "data": {
      "text/plain": [
       "{'2d_counts': [0, 0, 0, 0, 0, 0, 0, 0, 0, 0],\n",
       " 'water_intra_crf': [36.96503131309157, 0.7110435300526742, 36.98743711096675],\n",
       " 'water_intra_lj': [51.402602087869944, 2.486337578305875, 51.139337248394],\n",
       " 'water_total_crf': [19.89111005842741, 7.067124615838295, 20.156746525775496],\n",
       " 'water_total_lj': [-50.930698056049415,\n",
       "  8.272354412955501,\n",
       "  -51.59695598290844],\n",
       " 'water_intra_ene': [88.36763340096151, 2.392057266631106, 88.1469955841248],\n",
       " 'water_total_ene': [-31.039587997621997,\n",
       "  10.626907522366954,\n",
       "  -31.614862436078546],\n",
       " 'water_rgyr': [1.6559401880869264, 0.004589332517789492, 1.6556194113053446],\n",
       " 'water_sasa': [4.7246084, 0.014682092, 4.7236595]}"
      ]
     },
     "execution_count": 7,
     "metadata": {},
     "output_type": "execute_result"
    }
   ],
   "source": [
    "mdfp_sol.mdfp"
   ]
  },
  {
   "cell_type": "code",
   "execution_count": 8,
   "metadata": {},
   "outputs": [
    {
     "data": {
      "text/plain": [
       "{'2d_counts': [19, 0, 0, 2, 0, 0, 0, 5, 0, 0],\n",
       " 'liquid_intra_crf': [36.70788611468943,\n",
       "  0.7336157444187074,\n",
       "  36.718724636194935],\n",
       " 'liquid_intra_lj': [51.27179002795949, 2.495667023207163, 50.90473639057159],\n",
       " 'liquid_total_crf': [32.64568212081064, 3.3753766648441093, 33.1224964998559],\n",
       " 'liquid_total_lj': [-150.12883781080254,\n",
       "  15.371259290016564,\n",
       "  -150.89884911780987],\n",
       " 'liquid_intra_ene': [87.97967614264891, 2.449003632185095, 87.584761411327],\n",
       " 'liquid_total_ene': [-117.48315568999189,\n",
       "  14.311941075733596,\n",
       "  -118.78133232849851],\n",
       " 'liquid_rgyr': [1.6962664289998217, 0.006243409028775729, 1.6958663707369581],\n",
       " 'liquid_sasa': [4.7256117, 0.016093684, 4.7252774],\n",
       " 'liquid_dipole_magnitude': [0.7771600970807717,\n",
       "  0.28026973497873886,\n",
       "  0.7258486551990402]}"
      ]
     },
     "execution_count": 8,
     "metadata": {},
     "output_type": "execute_result"
    }
   ],
   "source": [
    "mdfp_liquid.mdfp"
   ]
  }
 ],
 "metadata": {
  "kernelspec": {
   "display_name": "mdfptools_installation",
   "language": "python",
   "name": "python3"
  },
  "language_info": {
   "codemirror_mode": {
    "name": "ipython",
    "version": 3
   },
   "file_extension": ".py",
   "mimetype": "text/x-python",
   "name": "python",
   "nbconvert_exporter": "python",
   "pygments_lexer": "ipython3",
   "version": "3.11.5"
  }
 },
 "nbformat": 4,
 "nbformat_minor": 2
}
