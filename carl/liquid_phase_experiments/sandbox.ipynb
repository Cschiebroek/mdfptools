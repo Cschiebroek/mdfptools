{
 "cells": [
  {
   "cell_type": "code",
   "execution_count": null,
   "metadata": {},
   "outputs": [],
   "source": []
  },
  {
   "cell_type": "code",
   "execution_count": 3,
   "metadata": {},
   "outputs": [
    {
     "ename": "ModuleNotFoundError",
     "evalue": "No module named 'carl'",
     "output_type": "error",
     "traceback": [
      "\u001b[0;31m---------------------------------------------------------------------------\u001b[0m",
      "\u001b[0;31mModuleNotFoundError\u001b[0m                       Traceback (most recent call last)",
      "Cell \u001b[0;32mIn[3], line 2\u001b[0m\n\u001b[1;32m      1\u001b[0m \u001b[38;5;66;03m#mdfptools\u001b[39;00m\n\u001b[0;32m----> 2\u001b[0m \u001b[38;5;28;01mfrom\u001b[39;00m \u001b[38;5;21;01mcarl\u001b[39;00m\u001b[38;5;21;01m.\u001b[39;00m\u001b[38;5;21;01mliquid_phase_experiments\u001b[39;00m\u001b[38;5;21;01m.\u001b[39;00m\u001b[38;5;21;01mParameteriser\u001b[39;00m \u001b[38;5;28;01mimport\u001b[39;00m LiquidParameteriser\n\u001b[1;32m      3\u001b[0m \u001b[38;5;28;01mfrom\u001b[39;00m \u001b[38;5;21;01mSimulator\u001b[39;00m \u001b[38;5;28;01mimport\u001b[39;00m LiquidSimulator\n\u001b[1;32m      4\u001b[0m \u001b[38;5;28;01mfrom\u001b[39;00m \u001b[38;5;21;01mComposer\u001b[39;00m \u001b[38;5;28;01mimport\u001b[39;00m LiquidComposer\n",
      "\u001b[0;31mModuleNotFoundError\u001b[0m: No module named 'carl'"
     ]
    }
   ],
   "source": [
    "#mdfptools\n",
    "from Parameteriser import LiquidParameteriser\n",
    "from Simulator import LiquidSimulator\n",
    "from Composer import LiquidComposer\n",
    "\n",
    "#rdkit\n",
    "from rdkit import Chem\n",
    "from rdkit.Chem import rdmolops\n",
    "from rdkit.Chem.rdmolfiles import MolFromMolFile\n",
    "\n",
    "#database\n",
    "import psycopg2\n",
    "import uuid\n",
    "import json\n",
    "\n",
    "#other\n",
    "import mdtraj as md\n",
    "import pickle\n",
    "import sys"
   ]
  },
  {
   "cell_type": "code",
   "execution_count": null,
   "metadata": {},
   "outputs": [],
   "source": [
    "print('Mdfp composed, saving to database...')\n",
    "Mdfp_Experiment_uuid = Md_Experiment_uuid\n",
    "mdfp_conf_uuid = uuid.uuid4()\n",
    "\n",
    "print('Connecting to database...')\n",
    "hostname = 'scotland'\n",
    "dbname = 'cs_mdfps'\n",
    "username = 'cschiebroek'\n",
    "cn = psycopg2.connect(host=hostname, dbname=dbname, user=username)\n",
    "cur = cn.cursor()\n",
    "#retrieve conformer from database by confid\n",
    "cur.execute(\"insert into cs_mdfps_schema.mdfp_experiment_data values (%s, %s, %s,%s,%s)\",(str(confid), str(Mdfp_Experiment_uuid), json.dumps(mdfp_dict),str(mdfp_conf_uuid),Md_Experiment_uuid))\n",
    "print(mdfp)\n",
    "cn.commit()\n",
    "print('Data saved, closing connection...')\n",
    "cn.close()\n",
    "print('Connection closed, exiting...')\n"
   ]
  }
 ],
 "metadata": {
  "kernelspec": {
   "display_name": "openff-evaluator",
   "language": "python",
   "name": "python3"
  },
  "language_info": {
   "codemirror_mode": {
    "name": "ipython",
    "version": 3
   },
   "file_extension": ".py",
   "mimetype": "text/x-python",
   "name": "python",
   "nbconvert_exporter": "python",
   "pygments_lexer": "ipython3",
   "version": "3.11.9"
  }
 },
 "nbformat": 4,
 "nbformat_minor": 2
}
