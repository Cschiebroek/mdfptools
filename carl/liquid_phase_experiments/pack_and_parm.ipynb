{
 "cells": [
  {
   "cell_type": "code",
   "execution_count": null,
   "metadata": {},
   "outputs": [],
   "source": []
  },
  {
   "cell_type": "code",
   "execution_count": null,
   "metadata": {},
   "outputs": [],
   "source": []
  },
  {
   "cell_type": "code",
   "execution_count": 1,
   "metadata": {},
   "outputs": [
    {
     "name": "stderr",
     "output_type": "stream",
     "text": [
      "Warning on use of the timeseries module: If the inherent timescales of the system are long compared to those being analyzed, this statistical inefficiency may be an underestimate.  The estimate presumes the use of many statistically independent samples.  Tests should be performed to assess whether this condition is satisfied.   Be cautious in the interpretation of the data.\n",
      "\n",
      "****** PyMBAR will use 64-bit JAX! *******\n",
      "* JAX is currently set to 32-bit bitsize *\n",
      "* which is its default.                  *\n",
      "*                                        *\n",
      "* PyMBAR requires 64-bit mode and WILL   *\n",
      "* enable JAX's 64-bit mode when called.  *\n",
      "*                                        *\n",
      "* This MAY cause problems with other     *\n",
      "* Uses of JAX in the same code.          *\n",
      "******************************************\n",
      "\n"
     ]
    },
    {
     "data": {
      "application/vnd.jupyter.widget-view+json": {
       "model_id": "746d3907d90b42988af0c6a6d323679a",
       "version_major": 2,
       "version_minor": 0
      },
      "text/plain": []
     },
     "metadata": {},
     "output_type": "display_data"
    }
   ],
   "source": [
    "\n",
    "from openff.toolkit.topology import Molecule\n",
    "import parmed\n",
    "from openff.evaluator import unit\n",
    "from openff.evaluator.substances import Substance, Component, MoleFraction\n",
    "from openff.evaluator.workflow.schemas import WorkflowSchema\n",
    "\n",
    "from openff.evaluator.protocols.coordinates import BuildCoordinatesPackmol\n",
    "from openff.evaluator.protocols.forcefield import BuildSmirnoffSystem\n",
    "from openff.evaluator.workflow.utils import ProtocolPath\n",
    "\n",
    "from openff.evaluator.thermodynamics import ThermodynamicState\n",
    "\n",
    "from openff.evaluator.workflow import Workflow\n",
    "\n"
   ]
  },
  {
   "cell_type": "code",
   "execution_count": 2,
   "metadata": {},
   "outputs": [],
   "source": [
    "\n",
    "def parameterize_system(smiles, force_field_path=\"openff_unconstrained-2.1.0.offxml\", mass_density=0.95 * unit.grams / unit.milliliters,n_mols=1000):\n",
    "    # Define the substance\n",
    "    substance = Substance()\n",
    "    substance.add_component(Component(smiles=smiles), MoleFraction(1.0))\n",
    "\n",
    "    # Create the workflow schema\n",
    "    schema = WorkflowSchema()\n",
    "\n",
    "    # Step 1: Build coordinates\n",
    "    build_coordinates = BuildCoordinatesPackmol(\"build_coordinates\")\n",
    "    build_coordinates.max_molecules = n_mols\n",
    "    build_coordinates.mass_density = mass_density\n",
    "    build_coordinates.substance = substance\n",
    "    schema.protocol_schemas.append(build_coordinates.schema)\n",
    "\n",
    "    # Step 2: Assign parameters\n",
    "    assign_parameters = BuildSmirnoffSystem(\"assign_parameters\")\n",
    "    assign_parameters.force_field_path = force_field_path\n",
    "    assign_parameters.coordinate_file_path = ProtocolPath(\"coordinate_file_path\", build_coordinates.id)\n",
    "    assign_parameters.substance = substance\n",
    "    schema.protocol_schemas.append(assign_parameters.schema)\n",
    "\n",
    "    # Metadata\n",
    "    metadata = {\n",
    "        \"substance\": substance,\n",
    "        \"thermodynamic_state\": ThermodynamicState(\n",
    "            temperature=298.15 * unit.kelvin,\n",
    "            pressure=1.0 * unit.atmosphere\n",
    "        ),\n",
    "        \"force_field_path\": force_field_path\n",
    "    }\n",
    "\n",
    "    # Create and execute the workflow\n",
    "    workflow = Workflow.from_schema(schema, metadata=metadata)\n",
    "    workflow.execute()\n",
    "\n",
    "    return workflow\n"
   ]
  },
  {
   "cell_type": "code",
   "execution_count": 18,
   "metadata": {},
   "outputs": [],
   "source": [
    "import mdtraj as md\n",
    "import openmm\n",
    "from openmm.app.pdbfile import PDBFile\n",
    "import parmed\n",
    "def parameterize_system(smiles, force_field_path=\"openff_unconstrained-2.1.0.offxml\", mass_density=0.95 * unit.grams / unit.milliliters,n_mols=1000):\n",
    "    # Define the substance\n",
    "    substance = Substance()\n",
    "    substance.add_component(Component(smiles=smiles), MoleFraction(1.0))\n",
    "\n",
    "    # Create the workflow schema\n",
    "    schema = WorkflowSchema()\n",
    "\n",
    "    # Step 1: Build coordinates\n",
    "    build_coordinates = BuildCoordinatesPackmol(\"build_coordinates\")\n",
    "    build_coordinates.max_molecules = n_mols\n",
    "    build_coordinates.mass_density = mass_density\n",
    "    build_coordinates.substance = substance\n",
    "    schema.protocol_schemas.append(build_coordinates.schema)\n",
    "\n",
    "    # Step 2: Assign parameters\n",
    "    assign_parameters = BuildSmirnoffSystem(\"assign_parameters\")\n",
    "    assign_parameters.force_field_path = force_field_path\n",
    "    assign_parameters.coordinate_file_path = ProtocolPath(\"coordinate_file_path\", build_coordinates.id)\n",
    "    assign_parameters.substance = substance\n",
    "    schema.protocol_schemas.append(assign_parameters.schema)\n",
    "\n",
    "    # Metadata\n",
    "    metadata = {\n",
    "        \"substance\": substance,\n",
    "        \"thermodynamic_state\": ThermodynamicState(\n",
    "            temperature=298.15 * unit.kelvin,\n",
    "            pressure=1.0 * unit.atmosphere\n",
    "        ),\n",
    "        \"force_field_path\": force_field_path\n",
    "    }\n",
    "\n",
    "    # Create and execute the workflow\n",
    "    workflow = Workflow.from_schema(schema, metadata=metadata)\n",
    "    workflow.execute()\n",
    "\n",
    "    pdb_file = f'{workflow.schema.id}_build_coordinates/output.pdb'\n",
    "    parameterized_system = f'{workflow.schema.id}_assign_parameters/system.xml'\n",
    "    omm_top = PDBFile(pdb_file).topology\n",
    "    parmed_obj = parmed.openmm.load_topology(omm_top, parameterized_system)\n",
    "\n",
    "    return parmed_obj"
   ]
  },
  {
   "cell_type": "code",
   "execution_count": 20,
   "metadata": {},
   "outputs": [
    {
     "data": {
      "text/plain": [
       "<openff.toolkit.typing.engines.smirnoff.forcefield.ForceField at 0x767bbf837b50>"
      ]
     },
     "execution_count": 20,
     "metadata": {},
     "output_type": "execute_result"
    }
   ],
   "source": [
    "from openff.toolkit.typing.engines.smirnoff import ForceField\n",
    "ff = ForceField(\"openff_unconstrained-2.1.0.offxml\")\n",
    "#get path to the force field file\n"
   ]
  },
  {
   "cell_type": "code",
   "execution_count": 4,
   "metadata": {},
   "outputs": [],
   "source": [
    "# Example usage\n",
    "smiles = \"c1ccccc1\"  # Benzene SMILES\n",
    "workflow = parameterize_system(smiles)\n",
    "# pdb_file = f'/localhome/cschiebroek/MDFP_VP/mdfptools/carl/{workflow.schema.id}_build_coordinates/output.pdb'\n",
    "# parameterized_system = f'/localhome/cschiebroek/MDFP_VP/mdfptools/carl/{workflow.schema.id}_assign_parameters/system.xml'\n",
    "# from openmm.app.pdbfile import PDBFile\n",
    "# omm_top = PDBFile(pdb_file).topology\n",
    "# parmed_obj = parmed.openmm.load_topology(omm_top, parameterized_system)\n",
    "# print(workflow.schema.id)"
   ]
  },
  {
   "cell_type": "code",
   "execution_count": 1,
   "metadata": {},
   "outputs": [
    {
     "name": "stderr",
     "output_type": "stream",
     "text": [
      "Warning on use of the timeseries module: If the inherent timescales of the system are long compared to those being analyzed, this statistical inefficiency may be an underestimate.  The estimate presumes the use of many statistically independent samples.  Tests should be performed to assess whether this condition is satisfied.   Be cautious in the interpretation of the data.\n",
      "\n",
      "****** PyMBAR will use 64-bit JAX! *******\n",
      "* JAX is currently set to 32-bit bitsize *\n",
      "* which is its default.                  *\n",
      "*                                        *\n",
      "* PyMBAR requires 64-bit mode and WILL   *\n",
      "* enable JAX's 64-bit mode when called.  *\n",
      "*                                        *\n",
      "* This MAY cause problems with other     *\n",
      "* Uses of JAX in the same code.          *\n",
      "******************************************\n",
      "\n"
     ]
    },
    {
     "data": {
      "application/vnd.jupyter.widget-view+json": {
       "model_id": "d3a63855ff974e41bd612ad6a5d362b2",
       "version_major": 2,
       "version_minor": 0
      },
      "text/plain": []
     },
     "metadata": {},
     "output_type": "display_data"
    }
   ],
   "source": [
    "import Parameteriser  \n",
    "smiles = \"c1ccccc1\"  # Benzene SMILES\n",
    "rdk_pmd = Parameteriser.LiquidParameteriser.via_rdkit(smiles=smiles)"
   ]
  },
  {
   "cell_type": "code",
   "execution_count": null,
   "metadata": {},
   "outputs": [],
   "source": []
  },
  {
   "cell_type": "code",
   "execution_count": 2,
   "metadata": {},
   "outputs": [
    {
     "data": {
      "text/plain": [
       "<Structure 1200 atoms; 100 residues; 1200 bonds; PBC (orthogonal); parameterized>"
      ]
     },
     "execution_count": 2,
     "metadata": {},
     "output_type": "execute_result"
    }
   ],
   "source": [
    "rdk_pmd"
   ]
  },
  {
   "cell_type": "code",
   "execution_count": 3,
   "metadata": {},
   "outputs": [
    {
     "data": {
      "text/plain": [
       "'0.1.0-beta.4+226.gca084df.dirty'"
      ]
     },
     "execution_count": 3,
     "metadata": {},
     "output_type": "execute_result"
    }
   ],
   "source": [
    "#print penff.evaluator version\n",
    "import openff.evaluator\n",
    "openff.evaluator.__version__"
   ]
  },
  {
   "cell_type": "code",
   "execution_count": 4,
   "metadata": {},
   "outputs": [
    {
     "data": {
      "text/plain": [
       "'0.16.1'"
      ]
     },
     "execution_count": 4,
     "metadata": {},
     "output_type": "execute_result"
    }
   ],
   "source": [
    "#and openff.toolkit version\n",
    "import openff.toolkit\n",
    "openff.toolkit.__version__"
   ]
  },
  {
   "cell_type": "code",
   "execution_count": 4,
   "metadata": {},
   "outputs": [
    {
     "name": "stderr",
     "output_type": "stream",
     "text": [
      "/localhome/cschiebroek/.conda/envs/openff-evaluator/lib/python3.11/site-packages/parmed/structure.py:1799: UnitStrippedWarning: The unit of the quantity is stripped when downcasting to ndarray.\n",
      "  coords = np.array(value, dtype=np.float64, copy=False, subok=True)\n"
     ]
    }
   ],
   "source": [
    "rdk_pmd = Parameteriser.SolutionParameteriser.via_rdkit(smiles=smiles)\n"
   ]
  },
  {
   "cell_type": "code",
   "execution_count": 19,
   "metadata": {},
   "outputs": [
    {
     "data": {
      "text/plain": [
       "<Structure 12000 atoms; 1000 residues; 12000 bonds; PBC (orthogonal); parameterized>"
      ]
     },
     "execution_count": 19,
     "metadata": {},
     "output_type": "execute_result"
    }
   ],
   "source": [
    "smiles = \"c1ccccc1\"  # Benzene SMILES\n",
    "prm_obj = parameterize_system(smiles)\n",
    "prm_obj"
   ]
  },
  {
   "cell_type": "code",
   "execution_count": 11,
   "metadata": {},
   "outputs": [
    {
     "data": {
      "text/plain": [
       "['id', 'type', 'inputs']"
      ]
     },
     "execution_count": 11,
     "metadata": {},
     "output_type": "execute_result"
    }
   ],
   "source": [
    "workflow.schema.protocol_schemas[0].get_attributes()"
   ]
  },
  {
   "cell_type": "code",
   "execution_count": 14,
   "metadata": {},
   "outputs": [
    {
     "ename": "TypeError",
     "evalue": "list indices must be integers or slices, not str",
     "output_type": "error",
     "traceback": [
      "\u001b[0;31m---------------------------------------------------------------------------\u001b[0m",
      "\u001b[0;31mTypeError\u001b[0m                                 Traceback (most recent call last)",
      "Cell \u001b[0;32mIn[14], line 3\u001b[0m\n\u001b[1;32m      1\u001b[0m workflow\u001b[38;5;241m.\u001b[39mschema\u001b[38;5;241m.\u001b[39mprotocol_schemas[\u001b[38;5;241m0\u001b[39m]\u001b[38;5;241m.\u001b[39mid\n\u001b[1;32m      2\u001b[0m \u001b[38;5;66;03m#get path to pdb file\u001b[39;00m\n\u001b[0;32m----> 3\u001b[0m path_to_pdb \u001b[38;5;241m=\u001b[39m \u001b[43mworkflow\u001b[49m\u001b[38;5;241;43m.\u001b[39;49m\u001b[43mschema\u001b[49m\u001b[38;5;241;43m.\u001b[39;49m\u001b[43mprotocol_schemas\u001b[49m\u001b[43m[\u001b[49m\u001b[38;5;241;43m0\u001b[39;49m\u001b[43m]\u001b[49m\u001b[38;5;241;43m.\u001b[39;49m\u001b[43mget_attributes\u001b[49m\u001b[43m(\u001b[49m\u001b[43m)\u001b[49m\u001b[43m[\u001b[49m\u001b[38;5;124;43m'\u001b[39;49m\u001b[38;5;124;43moutput_coordinate_file_path\u001b[39;49m\u001b[38;5;124;43m'\u001b[39;49m\u001b[43m]\u001b[49m\n",
      "\u001b[0;31mTypeError\u001b[0m: list indices must be integers or slices, not str"
     ]
    }
   ],
   "source": [
    "workflow.schema.protocol_schemas[0].id\n",
    "#get path to pdb file\n",
    "path_to_pdb = f'{workflow.schema.id}_build_coordinates/output.pdb'\n",
    "path_to_prmd_system = f'{workflow.schema.id}_assign_parameters/system.xml'"
   ]
  },
  {
   "cell_type": "code",
   "execution_count": null,
   "metadata": {},
   "outputs": [],
   "source": [
    "#get path to pdb file\n",
    "workflow.schema"
   ]
  },
  {
   "cell_type": "code",
   "execution_count": 32,
   "metadata": {},
   "outputs": [
    {
     "name": "stdout",
     "output_type": "stream",
     "text": [
      "adb70b0f9c8b43a9a9373ada67a25377\n"
     ]
    }
   ],
   "source": [
    "# Example usage\n",
    "smiles = \"c1ccccc1\"  # Benzene SMILES\n",
    "workflow = parameterize_system(smiles,n_mols=100)\n",
    "pdb_file = f'/localhome/cschiebroek/MDFP_VP/mdfptools/carl/{workflow.schema.id}_build_coordinates/output.pdb'\n",
    "parameterized_system = f'/localhome/cschiebroek/MDFP_VP/mdfptools/carl/{workflow.schema.id}_assign_parameters/system.xml'\n",
    "from openmm.app.pdbfile import PDBFile\n",
    "omm_top = PDBFile(pdb_file).topology\n",
    "parmed_obj = parmed.openmm.load_topology(omm_top, parameterized_system)\n",
    "print(workflow.schema.id)"
   ]
  },
  {
   "cell_type": "code",
   "execution_count": 33,
   "metadata": {},
   "outputs": [
    {
     "name": "stdout",
     "output_type": "stream",
     "text": [
      "f09a080a01674150b8116e28bfe506dc\n"
     ]
    }
   ],
   "source": [
    "# Example usage\n",
    "smiles = \"c1ccccc1\"  # Benzene SMILES\n",
    "workflow = parameterize_system(smiles,n_mols=256)\n",
    "pdb_file = f'/localhome/cschiebroek/MDFP_VP/mdfptools/carl/{workflow.schema.id}_build_coordinates/output.pdb'\n",
    "parameterized_system = f'/localhome/cschiebroek/MDFP_VP/mdfptools/carl/{workflow.schema.id}_assign_parameters/system.xml'\n",
    "from openmm.app.pdbfile import PDBFile\n",
    "omm_top = PDBFile(pdb_file).topology\n",
    "parmed_obj = parmed.openmm.load_topology(omm_top, parameterized_system)\n",
    "print(workflow.schema.id)"
   ]
  },
  {
   "cell_type": "code",
   "execution_count": 12,
   "metadata": {},
   "outputs": [],
   "source": [
    "import pandas as pd\n",
    "df = pd.read_csv('/localhome/cschiebroek/MDFP_VP/mdfptools/carl/filtered_frame_densities_ThermoMLData.csv')"
   ]
  },
  {
   "cell_type": "code",
   "execution_count": 17,
   "metadata": {},
   "outputs": [],
   "source": [
    "#filter df_organic, with only organic molecules (At least one carbon atom)\n",
    "df_organic = df[df['Component 1'].str.contains('C')]\n",
    "df_organic = df[df['Component 1'].str.contains('C')]"
   ]
  },
  {
   "cell_type": "code",
   "execution_count": 20,
   "metadata": {},
   "outputs": [
    {
     "data": {
      "text/html": [
       "<div>\n",
       "<style scoped>\n",
       "    .dataframe tbody tr th:only-of-type {\n",
       "        vertical-align: middle;\n",
       "    }\n",
       "\n",
       "    .dataframe tbody tr th {\n",
       "        vertical-align: top;\n",
       "    }\n",
       "\n",
       "    .dataframe thead th {\n",
       "        text-align: right;\n",
       "    }\n",
       "</style>\n",
       "<table border=\"1\" class=\"dataframe\">\n",
       "  <thead>\n",
       "    <tr style=\"text-align: right;\">\n",
       "      <th></th>\n",
       "      <th>Unnamed: 0</th>\n",
       "      <th>Id</th>\n",
       "      <th>Temperature (K)</th>\n",
       "      <th>Pressure (kPa)</th>\n",
       "      <th>Phase</th>\n",
       "      <th>N Components</th>\n",
       "      <th>Component 1</th>\n",
       "      <th>Role 1</th>\n",
       "      <th>Mole Fraction 1</th>\n",
       "      <th>Density Value (g / ml)</th>\n",
       "      <th>Density Uncertainty (g / ml)</th>\n",
       "      <th>Source</th>\n",
       "    </tr>\n",
       "  </thead>\n",
       "  <tbody>\n",
       "    <tr>\n",
       "      <th>53666</th>\n",
       "      <td>453721</td>\n",
       "      <td>0ea18c37dc8340b289b96d43e59c0fba</td>\n",
       "      <td>308.15</td>\n",
       "      <td>101.325</td>\n",
       "      <td>Liquid</td>\n",
       "      <td>1</td>\n",
       "      <td>CCCCC</td>\n",
       "      <td>Solvent</td>\n",
       "      <td>1.0</td>\n",
       "      <td>0.61101</td>\n",
       "      <td>0.000385</td>\n",
       "      <td>10.1016/j.jct.2005.05.020</td>\n",
       "    </tr>\n",
       "  </tbody>\n",
       "</table>\n",
       "</div>"
      ],
      "text/plain": [
       "       Unnamed: 0                                Id  Temperature (K)  \\\n",
       "53666      453721  0ea18c37dc8340b289b96d43e59c0fba           308.15   \n",
       "\n",
       "       Pressure (kPa)   Phase  N Components Component 1   Role 1  \\\n",
       "53666         101.325  Liquid             1       CCCCC  Solvent   \n",
       "\n",
       "       Mole Fraction 1  Density Value (g / ml)  Density Uncertainty (g / ml)  \\\n",
       "53666              1.0                 0.61101                      0.000385   \n",
       "\n",
       "                          Source  \n",
       "53666  10.1016/j.jct.2005.05.020  "
      ]
     },
     "execution_count": 20,
     "metadata": {},
     "output_type": "execute_result"
    }
   ],
   "source": [
    "#lets look at two extremes, to see if values converge. Very low:\n",
    "df_organic.sort_values('Density Value (g / ml)').head(1)"
   ]
  },
  {
   "cell_type": "code",
   "execution_count": 22,
   "metadata": {},
   "outputs": [
    {
     "data": {
      "text/html": [
       "<div>\n",
       "<style scoped>\n",
       "    .dataframe tbody tr th:only-of-type {\n",
       "        vertical-align: middle;\n",
       "    }\n",
       "\n",
       "    .dataframe tbody tr th {\n",
       "        vertical-align: top;\n",
       "    }\n",
       "\n",
       "    .dataframe thead th {\n",
       "        text-align: right;\n",
       "    }\n",
       "</style>\n",
       "<table border=\"1\" class=\"dataframe\">\n",
       "  <thead>\n",
       "    <tr style=\"text-align: right;\">\n",
       "      <th></th>\n",
       "      <th>Unnamed: 0</th>\n",
       "      <th>Id</th>\n",
       "      <th>Temperature (K)</th>\n",
       "      <th>Pressure (kPa)</th>\n",
       "      <th>Phase</th>\n",
       "      <th>N Components</th>\n",
       "      <th>Component 1</th>\n",
       "      <th>Role 1</th>\n",
       "      <th>Mole Fraction 1</th>\n",
       "      <th>Density Value (g / ml)</th>\n",
       "      <th>Density Uncertainty (g / ml)</th>\n",
       "      <th>Source</th>\n",
       "    </tr>\n",
       "  </thead>\n",
       "  <tbody>\n",
       "    <tr>\n",
       "      <th>44419</th>\n",
       "      <td>369346</td>\n",
       "      <td>3f010e87a0084c0fb67a672f7f65e609</td>\n",
       "      <td>298.15</td>\n",
       "      <td>101.325</td>\n",
       "      <td>Liquid</td>\n",
       "      <td>1</td>\n",
       "      <td>[Hg]</td>\n",
       "      <td>Solvent</td>\n",
       "      <td>1.0</td>\n",
       "      <td>13.5300</td>\n",
       "      <td>0.015000</td>\n",
       "      <td>10.1016/j.jct.2018.12.016</td>\n",
       "    </tr>\n",
       "    <tr>\n",
       "      <th>64946</th>\n",
       "      <td>549179</td>\n",
       "      <td>921ee6d5505449628f28d314fb9ff7c3</td>\n",
       "      <td>293.15</td>\n",
       "      <td>101.000</td>\n",
       "      <td>Liquid</td>\n",
       "      <td>1</td>\n",
       "      <td>BrC(Br)C(Br)Br</td>\n",
       "      <td>Solvent</td>\n",
       "      <td>1.0</td>\n",
       "      <td>2.9632</td>\n",
       "      <td>0.001765</td>\n",
       "      <td>10.1016/j.jct.2005.03.027</td>\n",
       "    </tr>\n",
       "  </tbody>\n",
       "</table>\n",
       "</div>"
      ],
      "text/plain": [
       "       Unnamed: 0                                Id  Temperature (K)  \\\n",
       "44419      369346  3f010e87a0084c0fb67a672f7f65e609           298.15   \n",
       "64946      549179  921ee6d5505449628f28d314fb9ff7c3           293.15   \n",
       "\n",
       "       Pressure (kPa)   Phase  N Components     Component 1   Role 1  \\\n",
       "44419         101.325  Liquid             1            [Hg]  Solvent   \n",
       "64946         101.000  Liquid             1  BrC(Br)C(Br)Br  Solvent   \n",
       "\n",
       "       Mole Fraction 1  Density Value (g / ml)  Density Uncertainty (g / ml)  \\\n",
       "44419              1.0                 13.5300                      0.015000   \n",
       "64946              1.0                  2.9632                      0.001765   \n",
       "\n",
       "                          Source  \n",
       "44419  10.1016/j.jct.2018.12.016  \n",
       "64946  10.1016/j.jct.2005.03.027  "
      ]
     },
     "execution_count": 22,
     "metadata": {},
     "output_type": "execute_result"
    }
   ],
   "source": [
    "df.sort_values('Density Value (g / ml)',ascending=False).head(2)"
   ]
  },
  {
   "cell_type": "code",
   "execution_count": null,
   "metadata": {},
   "outputs": [],
   "source": []
  },
  {
   "cell_type": "code",
   "execution_count": 26,
   "metadata": {},
   "outputs": [
    {
     "name": "stdout",
     "output_type": "stream",
     "text": [
      "CCCCC 899401215785451f8733675e24b98a18\n",
      "BrC(Br)C(Br)Br e1baf18c2527499f8ce274620e805a09\n"
     ]
    }
   ],
   "source": [
    "for smiles in  ['CCCCC','BrC(Br)C(Br)Br']:\n",
    "    workflow = parameterize_system(smiles)\n",
    "    print(smiles,workflow.schema.id)"
   ]
  },
  {
   "cell_type": "code",
   "execution_count": 27,
   "metadata": {},
   "outputs": [
    {
     "ename": "KeyboardInterrupt",
     "evalue": "",
     "output_type": "error",
     "traceback": [
      "\u001b[0;31m---------------------------------------------------------------------------\u001b[0m",
      "\u001b[0;31mKeyboardInterrupt\u001b[0m                         Traceback (most recent call last)",
      "Cell \u001b[0;32mIn[27], line 1\u001b[0m\n\u001b[0;32m----> 1\u001b[0m workflow \u001b[38;5;241m=\u001b[39m \u001b[43mparameterize_system\u001b[49m\u001b[43m(\u001b[49m\u001b[38;5;124;43m'\u001b[39;49m\u001b[38;5;124;43mCCCCCCCCCCCCCCCCCCCCCCCCCCCCCCCCCCCCCCCCCCCCCCCC\u001b[39;49m\u001b[38;5;124;43m'\u001b[39;49m\u001b[43m)\u001b[49m\n\u001b[1;32m      2\u001b[0m \u001b[38;5;28mprint\u001b[39m(smiles,workflow\u001b[38;5;241m.\u001b[39mschema\u001b[38;5;241m.\u001b[39mid)\n",
      "Cell \u001b[0;32mIn[25], line 35\u001b[0m, in \u001b[0;36mparameterize_system\u001b[0;34m(smiles, force_field_path, mass_density)\u001b[0m\n\u001b[1;32m     33\u001b[0m \u001b[38;5;66;03m# Create and execute the workflow\u001b[39;00m\n\u001b[1;32m     34\u001b[0m workflow \u001b[38;5;241m=\u001b[39m Workflow\u001b[38;5;241m.\u001b[39mfrom_schema(schema, metadata\u001b[38;5;241m=\u001b[39mmetadata)\n\u001b[0;32m---> 35\u001b[0m \u001b[43mworkflow\u001b[49m\u001b[38;5;241;43m.\u001b[39;49m\u001b[43mexecute\u001b[49m\u001b[43m(\u001b[49m\u001b[43m)\u001b[49m\n\u001b[1;32m     37\u001b[0m \u001b[38;5;28;01mreturn\u001b[39;00m workflow\n",
      "File \u001b[0;32m/localhome/cschiebroek/MDFP_VP/mdfptools/carl/openff-evaluator/openff/evaluator/workflow/workflow.py:784\u001b[0m, in \u001b[0;36mWorkflow.execute\u001b[0;34m(self, root_directory, calculation_backend, compute_resources)\u001b[0m\n\u001b[1;32m    781\u001b[0m     compute_resources \u001b[38;5;241m=\u001b[39m ComputeResources(number_of_threads\u001b[38;5;241m=\u001b[39m\u001b[38;5;241m1\u001b[39m)\n\u001b[1;32m    783\u001b[0m workflow_graph \u001b[38;5;241m=\u001b[39m \u001b[38;5;28mself\u001b[39m\u001b[38;5;241m.\u001b[39mto_graph()\n\u001b[0;32m--> 784\u001b[0m \u001b[38;5;28;01mreturn\u001b[39;00m \u001b[43mworkflow_graph\u001b[49m\u001b[38;5;241;43m.\u001b[39;49m\u001b[43mexecute\u001b[49m\u001b[43m(\u001b[49m\n\u001b[1;32m    785\u001b[0m \u001b[43m    \u001b[49m\u001b[43mroot_directory\u001b[49m\u001b[43m,\u001b[49m\u001b[43m \u001b[49m\u001b[43mcalculation_backend\u001b[49m\u001b[43m,\u001b[49m\u001b[43m \u001b[49m\u001b[43mcompute_resources\u001b[49m\n\u001b[1;32m    786\u001b[0m \u001b[43m\u001b[49m\u001b[43m)\u001b[49m[\u001b[38;5;241m0\u001b[39m]\n",
      "File \u001b[0;32m/localhome/cschiebroek/MDFP_VP/mdfptools/carl/openff-evaluator/openff/evaluator/workflow/workflow.py:942\u001b[0m, in \u001b[0;36mWorkflowGraph.execute\u001b[0;34m(self, root_directory, calculation_backend, compute_resources)\u001b[0m\n\u001b[1;32m    939\u001b[0m \u001b[38;5;28;01mif\u001b[39;00m calculation_backend \u001b[38;5;129;01mis\u001b[39;00m \u001b[38;5;28;01mNone\u001b[39;00m \u001b[38;5;129;01mand\u001b[39;00m compute_resources \u001b[38;5;129;01mis\u001b[39;00m \u001b[38;5;28;01mNone\u001b[39;00m:\n\u001b[1;32m    940\u001b[0m     compute_resources \u001b[38;5;241m=\u001b[39m ComputeResources(number_of_threads\u001b[38;5;241m=\u001b[39m\u001b[38;5;241m1\u001b[39m)\n\u001b[0;32m--> 942\u001b[0m protocol_outputs \u001b[38;5;241m=\u001b[39m \u001b[38;5;28;43mself\u001b[39;49m\u001b[38;5;241;43m.\u001b[39;49m\u001b[43m_protocol_graph\u001b[49m\u001b[38;5;241;43m.\u001b[39;49m\u001b[43mexecute\u001b[49m\u001b[43m(\u001b[49m\n\u001b[1;32m    943\u001b[0m \u001b[43m    \u001b[49m\u001b[43mroot_directory\u001b[49m\u001b[43m,\u001b[49m\u001b[43m \u001b[49m\u001b[43mcalculation_backend\u001b[49m\u001b[43m,\u001b[49m\u001b[43m \u001b[49m\u001b[43mcompute_resources\u001b[49m\n\u001b[1;32m    944\u001b[0m \u001b[43m\u001b[49m\u001b[43m)\u001b[49m\n\u001b[1;32m    946\u001b[0m value_futures \u001b[38;5;241m=\u001b[39m []\n\u001b[1;32m    948\u001b[0m \u001b[38;5;28;01mfor\u001b[39;00m workflow_id \u001b[38;5;129;01min\u001b[39;00m \u001b[38;5;28mself\u001b[39m\u001b[38;5;241m.\u001b[39m_workflows_to_execute:\n",
      "File \u001b[0;32m/localhome/cschiebroek/MDFP_VP/mdfptools/carl/openff-evaluator/openff/evaluator/workflow/protocols.py:1047\u001b[0m, in \u001b[0;36mProtocolGraph.execute\u001b[0;34m(self, root_directory, calculation_backend, compute_resources, enable_checkpointing, safe_exceptions)\u001b[0m\n\u001b[1;32m   1037\u001b[0m         protocol_outputs[protocol_id] \u001b[38;5;241m=\u001b[39m calculation_backend\u001b[38;5;241m.\u001b[39msubmit_task(\n\u001b[1;32m   1038\u001b[0m             ProtocolGraph\u001b[38;5;241m.\u001b[39m_execute_protocol,\n\u001b[1;32m   1039\u001b[0m             directory,\n\u001b[0;32m   (...)\u001b[0m\n\u001b[1;32m   1043\u001b[0m             safe_exceptions\u001b[38;5;241m=\u001b[39msafe_exceptions,\n\u001b[1;32m   1044\u001b[0m         )\n\u001b[1;32m   1046\u001b[0m     \u001b[38;5;28;01melse\u001b[39;00m:\n\u001b[0;32m-> 1047\u001b[0m         protocol_outputs[protocol_id] \u001b[38;5;241m=\u001b[39m \u001b[43mProtocolGraph\u001b[49m\u001b[38;5;241;43m.\u001b[39;49m\u001b[43m_execute_protocol\u001b[49m\u001b[43m(\u001b[49m\n\u001b[1;32m   1048\u001b[0m \u001b[43m            \u001b[49m\u001b[43mdirectory\u001b[49m\u001b[43m,\u001b[49m\n\u001b[1;32m   1049\u001b[0m \u001b[43m            \u001b[49m\u001b[43mprotocol\u001b[49m\u001b[43m,\u001b[49m\n\u001b[1;32m   1050\u001b[0m \u001b[43m            \u001b[49m\u001b[43menable_checkpointing\u001b[49m\u001b[43m,\u001b[49m\n\u001b[1;32m   1051\u001b[0m \u001b[43m            \u001b[49m\u001b[38;5;241;43m*\u001b[39;49m\u001b[43mparent_outputs\u001b[49m\u001b[43m,\u001b[49m\n\u001b[1;32m   1052\u001b[0m \u001b[43m            \u001b[49m\u001b[43mavailable_resources\u001b[49m\u001b[38;5;241;43m=\u001b[39;49m\u001b[43mcompute_resources\u001b[49m\u001b[43m,\u001b[49m\n\u001b[1;32m   1053\u001b[0m \u001b[43m            \u001b[49m\u001b[43msafe_exceptions\u001b[49m\u001b[38;5;241;43m=\u001b[39;49m\u001b[43msafe_exceptions\u001b[49m\u001b[43m,\u001b[49m\n\u001b[1;32m   1054\u001b[0m \u001b[43m        \u001b[49m\u001b[43m)\u001b[49m\n\u001b[1;32m   1056\u001b[0m \u001b[38;5;28;01mreturn\u001b[39;00m protocol_outputs\n",
      "File \u001b[0;32m/localhome/cschiebroek/MDFP_VP/mdfptools/carl/openff-evaluator/openff/evaluator/workflow/protocols.py:1194\u001b[0m, in \u001b[0;36mProtocolGraph._execute_protocol\u001b[0;34m(directory, protocol, enable_checkpointing, available_resources, safe_exceptions, *previous_output_paths, **_)\u001b[0m\n\u001b[1;32m   1191\u001b[0m logger\u001b[38;5;241m.\u001b[39minfo(\u001b[38;5;124mf\u001b[39m\u001b[38;5;124m\"\u001b[39m\u001b[38;5;124mExecuting \u001b[39m\u001b[38;5;132;01m{\u001b[39;00mprotocol\u001b[38;5;241m.\u001b[39mid\u001b[38;5;132;01m}\u001b[39;00m\u001b[38;5;124m\"\u001b[39m)\n\u001b[1;32m   1193\u001b[0m start_time \u001b[38;5;241m=\u001b[39m time\u001b[38;5;241m.\u001b[39mperf_counter()\n\u001b[0;32m-> 1194\u001b[0m \u001b[43mprotocol\u001b[49m\u001b[38;5;241;43m.\u001b[39;49m\u001b[43mexecute\u001b[49m\u001b[43m(\u001b[49m\u001b[43mdirectory\u001b[49m\u001b[43m,\u001b[49m\u001b[43m \u001b[49m\u001b[43mavailable_resources\u001b[49m\u001b[43m)\u001b[49m\n\u001b[1;32m   1196\u001b[0m output \u001b[38;5;241m=\u001b[39m {key\u001b[38;5;241m.\u001b[39mfull_path: value \u001b[38;5;28;01mfor\u001b[39;00m key, value \u001b[38;5;129;01min\u001b[39;00m protocol\u001b[38;5;241m.\u001b[39moutputs\u001b[38;5;241m.\u001b[39mitems()}\n\u001b[1;32m   1197\u001b[0m output \u001b[38;5;241m=\u001b[39m json\u001b[38;5;241m.\u001b[39mdumps(output, \u001b[38;5;28mcls\u001b[39m\u001b[38;5;241m=\u001b[39mTypedJSONEncoder)\n",
      "File \u001b[0;32m/localhome/cschiebroek/MDFP_VP/mdfptools/carl/openff-evaluator/openff/evaluator/workflow/protocols.py:681\u001b[0m, in \u001b[0;36mProtocol.execute\u001b[0;34m(self, directory, available_resources)\u001b[0m\n\u001b[1;32m    678\u001b[0m     available_resources \u001b[38;5;241m=\u001b[39m ComputeResources(number_of_threads\u001b[38;5;241m=\u001b[39m\u001b[38;5;241m1\u001b[39m)\n\u001b[1;32m    680\u001b[0m \u001b[38;5;28mself\u001b[39m\u001b[38;5;241m.\u001b[39mvalidate(InputAttribute)\n\u001b[0;32m--> 681\u001b[0m \u001b[38;5;28;43mself\u001b[39;49m\u001b[38;5;241;43m.\u001b[39;49m\u001b[43m_execute\u001b[49m\u001b[43m(\u001b[49m\u001b[43mdirectory\u001b[49m\u001b[43m,\u001b[49m\u001b[43m \u001b[49m\u001b[43mavailable_resources\u001b[49m\u001b[43m)\u001b[49m\n",
      "File \u001b[0;32m/localhome/cschiebroek/MDFP_VP/mdfptools/carl/openff-evaluator/openff/evaluator/protocols/coordinates.py:257\u001b[0m, in \u001b[0;36mBuildCoordinatesPackmol._execute\u001b[0;34m(self, directory, available_resources)\u001b[0m\n\u001b[1;32m    254\u001b[0m packmol_directory \u001b[38;5;241m=\u001b[39m path\u001b[38;5;241m.\u001b[39mjoin(directory, \u001b[38;5;124m\"\u001b[39m\u001b[38;5;124mpackmol_files\u001b[39m\u001b[38;5;124m\"\u001b[39m)\n\u001b[1;32m    256\u001b[0m \u001b[38;5;66;03m# Create packed box\u001b[39;00m\n\u001b[0;32m--> 257\u001b[0m trajectory, residue_names \u001b[38;5;241m=\u001b[39m \u001b[43mpackmol\u001b[49m\u001b[38;5;241;43m.\u001b[39;49m\u001b[43mpack_box\u001b[49m\u001b[43m(\u001b[49m\n\u001b[1;32m    258\u001b[0m \u001b[43m    \u001b[49m\u001b[43mmolecules\u001b[49m\u001b[38;5;241;43m=\u001b[39;49m\u001b[43mmolecules\u001b[49m\u001b[43m,\u001b[49m\n\u001b[1;32m    259\u001b[0m \u001b[43m    \u001b[49m\u001b[43mnumber_of_copies\u001b[49m\u001b[38;5;241;43m=\u001b[39;49m\u001b[43mnumber_of_molecules\u001b[49m\u001b[43m,\u001b[49m\n\u001b[1;32m    260\u001b[0m \u001b[43m    \u001b[49m\u001b[43mmass_density\u001b[49m\u001b[38;5;241;43m=\u001b[39;49m\u001b[38;5;28;43mself\u001b[39;49m\u001b[38;5;241;43m.\u001b[39;49m\u001b[43mmass_density\u001b[49m\u001b[43m,\u001b[49m\n\u001b[1;32m    261\u001b[0m \u001b[43m    \u001b[49m\u001b[43mtolerance\u001b[49m\u001b[38;5;241;43m=\u001b[39;49m\u001b[38;5;28;43mself\u001b[39;49m\u001b[38;5;241;43m.\u001b[39;49m\u001b[43mtolerance\u001b[49m\u001b[43m,\u001b[49m\n\u001b[1;32m    262\u001b[0m \u001b[43m    \u001b[49m\u001b[43mbox_aspect_ratio\u001b[49m\u001b[38;5;241;43m=\u001b[39;49m\u001b[38;5;28;43mself\u001b[39;49m\u001b[38;5;241;43m.\u001b[39;49m\u001b[43mbox_aspect_ratio\u001b[49m\u001b[43m,\u001b[49m\n\u001b[1;32m    263\u001b[0m \u001b[43m    \u001b[49m\u001b[43mverbose\u001b[49m\u001b[38;5;241;43m=\u001b[39;49m\u001b[38;5;28;43mself\u001b[39;49m\u001b[38;5;241;43m.\u001b[39;49m\u001b[43mverbose_packmol\u001b[49m\u001b[43m,\u001b[49m\n\u001b[1;32m    264\u001b[0m \u001b[43m    \u001b[49m\u001b[43mworking_directory\u001b[49m\u001b[38;5;241;43m=\u001b[39;49m\u001b[43mpackmol_directory\u001b[49m\u001b[43m,\u001b[49m\n\u001b[1;32m    265\u001b[0m \u001b[43m    \u001b[49m\u001b[43mretain_working_files\u001b[49m\u001b[38;5;241;43m=\u001b[39;49m\u001b[38;5;28;43mself\u001b[39;49m\u001b[38;5;241;43m.\u001b[39;49m\u001b[43mretain_packmol_files\u001b[49m\u001b[43m,\u001b[49m\n\u001b[1;32m    266\u001b[0m \u001b[43m\u001b[49m\u001b[43m)\u001b[49m\n\u001b[1;32m    268\u001b[0m \u001b[38;5;28mself\u001b[39m\u001b[38;5;241m.\u001b[39massigned_residue_names \u001b[38;5;241m=\u001b[39m \u001b[38;5;28mdict\u001b[39m()\n\u001b[1;32m    270\u001b[0m \u001b[38;5;28;01mfor\u001b[39;00m component, residue_name \u001b[38;5;129;01min\u001b[39;00m \u001b[38;5;28mzip\u001b[39m(\u001b[38;5;28mself\u001b[39m\u001b[38;5;241m.\u001b[39msubstance, residue_names):\n",
      "File \u001b[0;32m/localhome/cschiebroek/MDFP_VP/mdfptools/carl/openff-evaluator/openff/evaluator/utils/packmol.py:708\u001b[0m, in \u001b[0;36mpack_box\u001b[0;34m(molecules, number_of_copies, structure_to_solvate, center_solute, tolerance, box_size, mass_density, box_aspect_ratio, verbose, working_directory, retain_working_files)\u001b[0m\n\u001b[1;32m    706\u001b[0m \u001b[38;5;28;01mwith\u001b[39;00m \u001b[38;5;28mopen\u001b[39m(input_file_path) \u001b[38;5;28;01mas\u001b[39;00m file_handle:\n\u001b[1;32m    707\u001b[0m     \u001b[38;5;28;01mtry\u001b[39;00m:\n\u001b[0;32m--> 708\u001b[0m         result \u001b[38;5;241m=\u001b[39m \u001b[43msubprocess\u001b[49m\u001b[38;5;241;43m.\u001b[39;49m\u001b[43mcheck_output\u001b[49m\u001b[43m(\u001b[49m\n\u001b[1;32m    709\u001b[0m \u001b[43m            \u001b[49m\u001b[43mpackmol_path\u001b[49m\u001b[43m,\u001b[49m\u001b[43m \u001b[49m\u001b[43mstdin\u001b[49m\u001b[38;5;241;43m=\u001b[39;49m\u001b[43mfile_handle\u001b[49m\u001b[43m,\u001b[49m\u001b[43m \u001b[49m\u001b[43mstderr\u001b[49m\u001b[38;5;241;43m=\u001b[39;49m\u001b[43msubprocess\u001b[49m\u001b[38;5;241;43m.\u001b[39;49m\u001b[43mSTDOUT\u001b[49m\n\u001b[1;32m    710\u001b[0m \u001b[43m        \u001b[49m\u001b[43m)\u001b[49m\u001b[38;5;241m.\u001b[39mdecode(\u001b[38;5;124m\"\u001b[39m\u001b[38;5;124mutf-8\u001b[39m\u001b[38;5;124m\"\u001b[39m)\n\u001b[1;32m    711\u001b[0m     \u001b[38;5;28;01mexcept\u001b[39;00m subprocess\u001b[38;5;241m.\u001b[39mCalledProcessError \u001b[38;5;28;01mas\u001b[39;00m error:\n\u001b[1;32m    712\u001b[0m         \u001b[38;5;28;01mraise\u001b[39;00m PackmolRuntimeException \u001b[38;5;28;01mfrom\u001b[39;00m \u001b[38;5;21;01merror\u001b[39;00m\n",
      "File \u001b[0;32m/localhome/cschiebroek/.conda/envs/openff-evaluator/lib/python3.11/subprocess.py:466\u001b[0m, in \u001b[0;36mcheck_output\u001b[0;34m(timeout, *popenargs, **kwargs)\u001b[0m\n\u001b[1;32m    463\u001b[0m         empty \u001b[38;5;241m=\u001b[39m \u001b[38;5;124mb\u001b[39m\u001b[38;5;124m'\u001b[39m\u001b[38;5;124m'\u001b[39m\n\u001b[1;32m    464\u001b[0m     kwargs[\u001b[38;5;124m'\u001b[39m\u001b[38;5;124minput\u001b[39m\u001b[38;5;124m'\u001b[39m] \u001b[38;5;241m=\u001b[39m empty\n\u001b[0;32m--> 466\u001b[0m \u001b[38;5;28;01mreturn\u001b[39;00m \u001b[43mrun\u001b[49m\u001b[43m(\u001b[49m\u001b[38;5;241;43m*\u001b[39;49m\u001b[43mpopenargs\u001b[49m\u001b[43m,\u001b[49m\u001b[43m \u001b[49m\u001b[43mstdout\u001b[49m\u001b[38;5;241;43m=\u001b[39;49m\u001b[43mPIPE\u001b[49m\u001b[43m,\u001b[49m\u001b[43m \u001b[49m\u001b[43mtimeout\u001b[49m\u001b[38;5;241;43m=\u001b[39;49m\u001b[43mtimeout\u001b[49m\u001b[43m,\u001b[49m\u001b[43m \u001b[49m\u001b[43mcheck\u001b[49m\u001b[38;5;241;43m=\u001b[39;49m\u001b[38;5;28;43;01mTrue\u001b[39;49;00m\u001b[43m,\u001b[49m\n\u001b[1;32m    467\u001b[0m \u001b[43m           \u001b[49m\u001b[38;5;241;43m*\u001b[39;49m\u001b[38;5;241;43m*\u001b[39;49m\u001b[43mkwargs\u001b[49m\u001b[43m)\u001b[49m\u001b[38;5;241m.\u001b[39mstdout\n",
      "File \u001b[0;32m/localhome/cschiebroek/.conda/envs/openff-evaluator/lib/python3.11/subprocess.py:550\u001b[0m, in \u001b[0;36mrun\u001b[0;34m(input, capture_output, timeout, check, *popenargs, **kwargs)\u001b[0m\n\u001b[1;32m    548\u001b[0m \u001b[38;5;28;01mwith\u001b[39;00m Popen(\u001b[38;5;241m*\u001b[39mpopenargs, \u001b[38;5;241m*\u001b[39m\u001b[38;5;241m*\u001b[39mkwargs) \u001b[38;5;28;01mas\u001b[39;00m process:\n\u001b[1;32m    549\u001b[0m     \u001b[38;5;28;01mtry\u001b[39;00m:\n\u001b[0;32m--> 550\u001b[0m         stdout, stderr \u001b[38;5;241m=\u001b[39m \u001b[43mprocess\u001b[49m\u001b[38;5;241;43m.\u001b[39;49m\u001b[43mcommunicate\u001b[49m\u001b[43m(\u001b[49m\u001b[38;5;28;43minput\u001b[39;49m\u001b[43m,\u001b[49m\u001b[43m \u001b[49m\u001b[43mtimeout\u001b[49m\u001b[38;5;241;43m=\u001b[39;49m\u001b[43mtimeout\u001b[49m\u001b[43m)\u001b[49m\n\u001b[1;32m    551\u001b[0m     \u001b[38;5;28;01mexcept\u001b[39;00m TimeoutExpired \u001b[38;5;28;01mas\u001b[39;00m exc:\n\u001b[1;32m    552\u001b[0m         process\u001b[38;5;241m.\u001b[39mkill()\n",
      "File \u001b[0;32m/localhome/cschiebroek/.conda/envs/openff-evaluator/lib/python3.11/subprocess.py:1196\u001b[0m, in \u001b[0;36mPopen.communicate\u001b[0;34m(self, input, timeout)\u001b[0m\n\u001b[1;32m   1194\u001b[0m     \u001b[38;5;28mself\u001b[39m\u001b[38;5;241m.\u001b[39m_stdin_write(\u001b[38;5;28minput\u001b[39m)\n\u001b[1;32m   1195\u001b[0m \u001b[38;5;28;01melif\u001b[39;00m \u001b[38;5;28mself\u001b[39m\u001b[38;5;241m.\u001b[39mstdout:\n\u001b[0;32m-> 1196\u001b[0m     stdout \u001b[38;5;241m=\u001b[39m \u001b[38;5;28mself\u001b[39m\u001b[38;5;241m.\u001b[39mstdout\u001b[38;5;241m.\u001b[39mread()\n\u001b[1;32m   1197\u001b[0m     \u001b[38;5;28mself\u001b[39m\u001b[38;5;241m.\u001b[39mstdout\u001b[38;5;241m.\u001b[39mclose()\n\u001b[1;32m   1198\u001b[0m \u001b[38;5;28;01melif\u001b[39;00m \u001b[38;5;28mself\u001b[39m\u001b[38;5;241m.\u001b[39mstderr:\n",
      "\u001b[0;31mKeyboardInterrupt\u001b[0m: "
     ]
    }
   ],
   "source": [
    "workflow = parameterize_system('CCCCCCCCCCCCCCCCCCCCCCCCCCCCCCCCCCCCCCCCCCCCCCCC')\n",
    "print(smiles,workflow.schema.id)"
   ]
  }
 ],
 "metadata": {
  "kernelspec": {
   "display_name": "mdfp_carl",
   "language": "python",
   "name": "python3"
  },
  "language_info": {
   "codemirror_mode": {
    "name": "ipython",
    "version": 3
   },
   "file_extension": ".py",
   "mimetype": "text/x-python",
   "name": "python",
   "nbconvert_exporter": "python",
   "pygments_lexer": "ipython3",
   "version": "3.11.9"
  }
 },
 "nbformat": 4,
 "nbformat_minor": 2
}
