{
 "cells": [
  {
   "cell_type": "markdown",
   "metadata": {},
   "source": [
    "Seems to be a bug in the code bu Shuzhe"
   ]
  },
  {
   "cell_type": "code",
   "execution_count": null,
   "metadata": {},
   "outputs": [],
   "source": [
    "# bonded_pairs ={(b.atom1.idx, b.atom2.idx) if b.atom1.idx < b.atom2.idx else (b.atom1.idx, b.atom2.idx) for b in parmed_obj.bonds}"
   ]
  },
  {
   "cell_type": "code",
   "execution_count": 2,
   "metadata": {},
   "outputs": [],
   "source": [
    "import mdtraj as md\n",
    "import openmm\n",
    "from openmm.app.pdbfile import PDBFile\n",
    "import parmed\n",
    "#apply\n",
    "def load_prmed(schema_id):\n",
    "    pdb_file = f'/localhome/cschiebroek/MDFP_VP/mdfptools/carl/liquid_phase_experiment_daata/{schema_id}_build_coordinates/output.pdb'\n",
    "    parameterized_system = f'/localhome/cschiebroek/MDFP_VP/mdfptools/carl/liquid_phase_experiment_daata/{schema_id}_assign_parameters/system.xml'\n",
    "    omm_top = PDBFile(pdb_file).topology\n",
    "    omm_sys = openmm.XmlSerializer.deserialize(open(parameterized_system).read())\n",
    "    rdk_pmd = parmed.openmm.load_topology(omm_top, omm_sys, xyz=pdb_file)\n",
    "    return rdk_pmd\n",
    "path = 'liquid_phase_experiment_daata/test_benzene_full_equil_n100.h5'\n",
    "key = 'adb70b0f9c8b43a9a9373ada67a25377'\n",
    "prm_obj = load_prmed(key)"
   ]
  },
  {
   "cell_type": "code",
   "execution_count": 4,
   "metadata": {},
   "outputs": [
    {
     "data": {
      "text/plain": [
       "<Topology; 1 chains, 100 residues, 1200 atoms, 1200 bonds>"
      ]
     },
     "execution_count": 4,
     "metadata": {},
     "output_type": "execute_result"
    }
   ],
   "source": [
    "prm_obj.topology"
   ]
  },
  {
   "cell_type": "code",
   "execution_count": 7,
   "metadata": {},
   "outputs": [],
   "source": [
    "bonded_pairs ={(b.atom1.idx, b.atom2.idx) if b.atom1.idx < b.atom2.idx else (b.atom1.idx, b.atom2.idx) for b in prm_obj.bonds}\n",
    "#assert thtat this is sorted\n",
    "assert all(a < b for a, b in bonded_pairs)"
   ]
  },
  {
   "cell_type": "code",
   "execution_count": null,
   "metadata": {},
   "outputs": [],
   "source": [
    "#open 3830.pickle in one line\n",
    "import pickle\n",
    "with open('3830.pickle', 'rb') as f:\n",
    "    data = pickle.load(f)"
   ]
  },
  {
   "cell_type": "code",
   "execution_count": null,
   "metadata": {},
   "outputs": [],
   "source": [
    "#write script using glob to iterate over all .pickle files in the directory, load, and extract the bonded_pairs\n",
    "import glob\n",
    "import pickle\n",
    "\n",
    "for filename in glob.glob('*.pickle'):\n",
    "    with open(filename,'rb') as f:\n",
    "        data = pickle.load(f)\n",
    "        bonded_pairs ={(b.atom1.idx, b.atom2.idx) if b.atom1.idx < b.atom2.idx else (b.atom1.idx, b.atom2.idx) for b in prm_obj.bonds}\n",
    "        try:\n",
    "            assert all(a < b for a, b in bonded_pairs)\n",
    "        except AssertionError:\n",
    "            print(f'Error in {filename}')\n",
    "            continue"
   ]
  }
 ],
 "metadata": {
  "kernelspec": {
   "display_name": "mdfp_carl",
   "language": "python",
   "name": "python3"
  },
  "language_info": {
   "codemirror_mode": {
    "name": "ipython",
    "version": 3
   },
   "file_extension": ".py",
   "mimetype": "text/x-python",
   "name": "python",
   "nbconvert_exporter": "python",
   "pygments_lexer": "ipython3",
   "version": "3.11.5"
  }
 },
 "nbformat": 4,
 "nbformat_minor": 2
}
