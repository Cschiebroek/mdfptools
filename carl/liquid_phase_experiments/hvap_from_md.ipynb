{
 "cells": [
  {
   "cell_type": "code",
   "execution_count": null,
   "metadata": {},
   "outputs": [],
   "source": []
  },
  {
   "cell_type": "code",
   "execution_count": null,
   "metadata": {},
   "outputs": [],
   "source": []
  },
  {
   "cell_type": "code",
   "execution_count": null,
   "metadata": {},
   "outputs": [],
   "source": [
    "R = 8.314\n",
    "T = 298.15\n",
    "\n",
    "def p1(E_inter_liquid):\n",
    "    \"\"\"\n",
    "    E_inter_liquid: float, the interaction energy between the liquid and the solid\n",
    "    return: float, the energy of the solid-liquid interface\n",
    "    \"\"\"\n",
    "    delta_hvap = E_inter_liquid + R * T\n",
    "    return delta_hvap\n",
    "\n",
    "def "
   ]
  },
  {
   "cell_type": "code",
   "execution_count": 33,
   "metadata": {},
   "outputs": [
    {
     "data": {
      "text/plain": [
       "(array([1.000e+00, 0.000e+00, 0.000e+00, 0.000e+00, 0.000e+00, 0.000e+00,\n",
       "        0.000e+00, 0.000e+00, 0.000e+00, 0.000e+00, 0.000e+00, 0.000e+00,\n",
       "        0.000e+00, 0.000e+00, 0.000e+00, 0.000e+00, 0.000e+00, 0.000e+00,\n",
       "        0.000e+00, 0.000e+00, 0.000e+00, 0.000e+00, 0.000e+00, 0.000e+00,\n",
       "        0.000e+00, 0.000e+00, 0.000e+00, 0.000e+00, 0.000e+00, 0.000e+00,\n",
       "        0.000e+00, 0.000e+00, 0.000e+00, 1.000e+00, 0.000e+00, 0.000e+00,\n",
       "        0.000e+00, 0.000e+00, 0.000e+00, 0.000e+00, 3.000e+00, 2.000e+00,\n",
       "        5.000e+00, 7.000e+00, 1.500e+01, 2.000e+01, 3.300e+01, 3.500e+01,\n",
       "        7.200e+01, 1.170e+02, 1.520e+02, 1.990e+02, 2.910e+02, 4.010e+02,\n",
       "        5.430e+02, 6.320e+02, 8.750e+02, 1.000e+03, 1.223e+03, 1.420e+03,\n",
       "        1.635e+03, 1.928e+03, 2.208e+03, 2.304e+03, 2.501e+03, 2.662e+03,\n",
       "        2.700e+03, 2.804e+03, 2.665e+03, 2.699e+03, 2.552e+03, 2.324e+03,\n",
       "        2.169e+03, 1.909e+03, 1.734e+03, 1.545e+03, 1.282e+03, 1.169e+03,\n",
       "        9.210e+02, 7.030e+02, 6.290e+02, 5.030e+02, 3.960e+02, 2.620e+02,\n",
       "        1.950e+02, 1.620e+02, 1.240e+02, 8.000e+01, 6.400e+01, 4.800e+01,\n",
       "        2.700e+01, 1.300e+01, 1.300e+01, 1.200e+01, 5.000e+00, 3.000e+00,\n",
       "        1.000e+00, 0.000e+00, 0.000e+00, 2.000e+00]),\n",
       " array([1320.40085806, 1332.70699087, 1345.01312369, 1357.3192565 ,\n",
       "        1369.62538931, 1381.93152212, 1394.23765494, 1406.54378775,\n",
       "        1418.84992056, 1431.15605337, 1443.46218619, 1455.768319  ,\n",
       "        1468.07445181, 1480.38058462, 1492.68671744, 1504.99285025,\n",
       "        1517.29898306, 1529.60511587, 1541.91124869, 1554.2173815 ,\n",
       "        1566.52351431, 1578.82964712, 1591.13577994, 1603.44191275,\n",
       "        1615.74804556, 1628.05417837, 1640.36031119, 1652.666444  ,\n",
       "        1664.97257681, 1677.27870962, 1689.58484244, 1701.89097525,\n",
       "        1714.19710806, 1726.50324087, 1738.80937369, 1751.1155065 ,\n",
       "        1763.42163931, 1775.72777212, 1788.03390494, 1800.34003775,\n",
       "        1812.64617056, 1824.95230337, 1837.25843619, 1849.564569  ,\n",
       "        1861.87070181, 1874.17683462, 1886.48296744, 1898.78910025,\n",
       "        1911.09523306, 1923.40136587, 1935.70749869, 1948.0136315 ,\n",
       "        1960.31976431, 1972.62589712, 1984.93202994, 1997.23816275,\n",
       "        2009.54429556, 2021.85042837, 2034.15656119, 2046.462694  ,\n",
       "        2058.76882681, 2071.07495962, 2083.38109244, 2095.68722525,\n",
       "        2107.99335806, 2120.29949087, 2132.60562369, 2144.9117565 ,\n",
       "        2157.21788931, 2169.52402212, 2181.83015494, 2194.13628775,\n",
       "        2206.44242056, 2218.74855337, 2231.05468619, 2243.360819  ,\n",
       "        2255.66695181, 2267.97308462, 2280.27921744, 2292.58535025,\n",
       "        2304.89148306, 2317.19761587, 2329.50374869, 2341.8098815 ,\n",
       "        2354.11601431, 2366.42214712, 2378.72827994, 2391.03441275,\n",
       "        2403.34054556, 2415.64667837, 2427.95281119, 2440.258944  ,\n",
       "        2452.56507681, 2464.87120962, 2477.17734244, 2489.48347525,\n",
       "        2501.78960806, 2514.09574087, 2526.40187369, 2538.7080065 ,\n",
       "        2551.01413931]),\n",
       " <BarContainer object of 100 artists>)"
      ]
     },
     "execution_count": 33,
     "metadata": {},
     "output_type": "execute_result"
    },
    {
     "data": {
      "image/png": "[encoded data removed]",
      "text/plain": [
       "<Figure size 640x480 with 1 Axes>"
      ]
     },
     "metadata": {},
     "output_type": "display_data"
    }
   ],
   "source": [
    "import pandas as pd\n",
    "df = pd.read_csv('/localhome/cschiebroek/MDFP_VP/mdfptools/carl/production_test_benzene_full_equil_n100_100ns.dat')\n",
    "df\n",
    "#hist of Potential Energy\n",
    "import matplotlib.pyplot as plt\n",
    "plt.hist(df['Potential Energy (kJ/mole)'], bins=100)"
   ]
  },
  {
   "cell_type": "code",
   "execution_count": 34,
   "metadata": {},
   "outputs": [
    {
     "data": {
      "text/plain": [
       "2155.041554114781"
      ]
     },
     "execution_count": 34,
     "metadata": {},
     "output_type": "execute_result"
    }
   ],
   "source": [
    "#also get average\n",
    "df['Potential Energy (kJ/mole)'].mean()"
   ]
  },
  {
   "cell_type": "code",
   "execution_count": 23,
   "metadata": {},
   "outputs": [
    {
     "name": "stdout",
     "output_type": "stream",
     "text": [
      "42.61939220659893\n"
     ]
    }
   ],
   "source": [
    "from openff.toolkit.topology import Molecule, Topology\n",
    "from openff.units import unit\n",
    "from openff.toolkit.typing.engines.smirnoff import ForceField\n",
    "from openff.interchange import Interchange\n",
    "from openff.interchange.drivers import get_openmm_energies\n",
    "SMILES = \"c1ccccc1\"\n",
    "molecule = Molecule.from_smiles(SMILES)\n",
    "molecule.generate_conformers(n_conformers=20, rms_cutoff=0.1 * unit.angstrom),\n",
    "topology = molecule.to_topology()\n",
    "sage = ForceField(\"openff_unconstrained-2.1.0.offxml\")\n",
    "interchange = Interchange.from_smirnoff(force_field=sage, topology=topology)\n",
    "interchange.box = unit.Quantity([4, 4, 4], unit.nanometer)\n",
    "for conformer in molecule.conformers:\n",
    "    interchange.positions = conformer\n",
    "    openmm_energies = get_openmm_energies(interchange).total_energy.m_as(kj_mol)\n",
    "    print(openmm_energies)\n",
    "energies_gass = get_openmm_energies(interchange,combine_nonbonded_forces=False,detailed=True)\n"
   ]
  },
  {
   "cell_type": "code",
   "execution_count": 14,
   "metadata": {},
   "outputs": [
    {
     "name": "stdout",
     "output_type": "stream",
     "text": [
      "3308.3512020769117\n"
     ]
    }
   ],
   "source": [
    "#same for liquid box to compare\n",
    "import mdtraj as md\n",
    "import openmm\n",
    "from openmm.app.pdbfile import PDBFile\n",
    "import parmed\n",
    "def load_prmed(schema_id):\n",
    "    pdb_file = f'/localhome/cschiebroek/MDFP_VP/mdfptools/carl/liquid_phase_experiment_daata/{schema_id}_build_coordinates/output.pdb'\n",
    "    parameterized_system = f'/localhome/cschiebroek/MDFP_VP/mdfptools/carl/liquid_phase_experiment_daata/{schema_id}_assign_parameters/system.xml'\n",
    "    omm_top = PDBFile(pdb_file).topology\n",
    "    omm_sys = openmm.XmlSerializer.deserialize(open(parameterized_system).read())\n",
    "    rdk_pmd = parmed.openmm.load_topology(omm_top, omm_sys, xyz=pdb_file)\n",
    "    return rdk_pmd\n",
    "path = 'liquid_phase_experiment_daata/test_benzene_full_equil_n100.h5'\n",
    "key = 'adb70b0f9c8b43a9a9373ada67a25377'\n",
    "prm_obj = load_prmed(key)\n",
    "topology_openff = Topology.from_openmm(prm_obj.topology, unique_molecules=[Molecule.from_smiles(SMILES)])\n",
    "#get first frame of simulation\n",
    "traj = md.load('liquid_phase_experiment_daata/test_benzene_full_equil_n100.h5')\n",
    "top = traj.topology\n",
    "first_frame = traj[-1]\n",
    "first_frame.save_pdb('first_frame.pdb')\n",
    "interchange = Interchange.from_smirnoff(force_field=sage, topology=topology_openff)\n",
    "interchange.positions = first_frame.xyz[0] * unit.nanometer\n",
    "openmm_energies = get_openmm_energies(interchange).total_energy.m_as(kj_mol)\n",
    "print(openmm_energies)"
   ]
  },
  {
   "cell_type": "code",
   "execution_count": 18,
   "metadata": {},
   "outputs": [],
   "source": [
    "energies_all = get_openmm_energies(interchange,combine_nonbonded_forces=False,detailed=True)"
   ]
  },
  {
   "cell_type": "code",
   "execution_count": 22,
   "metadata": {},
   "outputs": [
    {
     "data": {
      "text/plain": [
       "{'vdW': -2241.7370836461014 <Unit('kilojoule / mole')>,\n",
       " 'Electrostatics': 853.8858121904559 <Unit('kilojoule / mole')>,\n",
       " 'vdW 1-4': 2328.9436301472565 <Unit('kilojoule / mole')>,\n",
       " 'Electrostatics 1-4': -67.0879405520681 <Unit('kilojoule / mole')>,\n",
       " 'Torsion': 1185.5840354257539 <Unit('kilojoule / mole')>,\n",
       " 'Angle': 1248.7628039868653 <Unit('kilojoule / mole')>,\n",
       " 'Bond': 6.740876063001434e-07 <Unit('kilojoule / mole')>}"
      ]
     },
     "execution_count": 22,
     "metadata": {},
     "output_type": "execute_result"
    }
   ],
   "source": [
    "energies_all.dict()['energies']"
   ]
  },
  {
   "cell_type": "code",
   "execution_count": 26,
   "metadata": {},
   "outputs": [
    {
     "name": "stdout",
     "output_type": "stream",
     "text": [
      "vdW -22.417370836461014 kilojoule / mole\n",
      "Electrostatics 8.538858121904559 kilojoule / mole\n",
      "vdW 1-4 23.289436301472566 kilojoule / mole\n",
      "Electrostatics 1-4 -0.670879405520681 kilojoule / mole\n",
      "Torsion 11.85584035425754 kilojoule / mole\n",
      "Angle 12.487628039868653 kilojoule / mole\n",
      "Bond 6.740876063001435e-09 kilojoule / mole\n"
     ]
    }
   ],
   "source": [
    "#divide all values by 100\n",
    "for key in energies_all.dict()['energies']:\n",
    "    print(key, energies_all.dict()['energies'][key]/100)"
   ]
  },
  {
   "cell_type": "code",
   "execution_count": 25,
   "metadata": {},
   "outputs": [
    {
     "data": {
      "text/plain": [
       "{'vdW': -0.7677894882091111 <Unit('kilojoule / mole')>,\n",
       " 'Electrostatics': 10.656487362670859 <Unit('kilojoule / mole')>,\n",
       " 'vdW 1-4': 26.39378872098 <Unit('kilojoule / mole')>,\n",
       " 'Electrostatics 1-4': -0.6892651618640189 <Unit('kilojoule / mole')>,\n",
       " 'Torsion': 8.660144455719932e-08 <Unit('kilojoule / mole')>,\n",
       " 'Angle': 3.1828939077378613 <Unit('kilojoule / mole')>,\n",
       " 'Bond': 3.8432767888476467 <Unit('kilojoule / mole')>}"
      ]
     },
     "execution_count": 25,
     "metadata": {},
     "output_type": "execute_result"
    }
   ],
   "source": [
    "energies_gass.dict()['energies']"
   ]
  },
  {
   "cell_type": "code",
   "execution_count": 35,
   "metadata": {},
   "outputs": [
    {
     "data": {
      "text/plain": [
       "23.54779576545112"
      ]
     },
     "execution_count": 35,
     "metadata": {},
     "output_type": "execute_result"
    }
   ],
   "source": [
    "42.61939220659893 - 2155.041554114781/100 + (0.001* 8.314 * 298.15)"
   ]
  },
  {
   "cell_type": "code",
   "execution_count": 15,
   "metadata": {},
   "outputs": [
    {
     "data": {
      "text/plain": [
       "33.08351202076912"
      ]
     },
     "execution_count": 15,
     "metadata": {},
     "output_type": "execute_result"
    }
   ],
   "source": [
    "openmm_energies/100"
   ]
  },
  {
   "cell_type": "code",
   "execution_count": 4,
   "metadata": {},
   "outputs": [
    {
     "data": {
      "text/plain": [
       "<rdkit.Chem.rdchem.Mol at 0x76ffd496f0d0>"
      ]
     },
     "execution_count": 4,
     "metadata": {},
     "output_type": "execute_result"
    }
   ],
   "source": [
    "from rdkit import Chem\n",
    "from rdkit.Chem import rdDistGeom\n",
    "benzene = Chem.AddHs(Chem.MolFromSmiles('c1ccccc1'))\n",
    "rdDistGeom.EmbedMolecule(benzene)\n",
    "benzene"
   ]
  },
  {
   "cell_type": "code",
   "execution_count": null,
   "metadata": {},
   "outputs": [],
   "source": []
  },
  {
   "cell_type": "code",
   "execution_count": null,
   "metadata": {},
   "outputs": [],
   "source": [
    "#get first frame of simulation\n",
    "traj = md.load('liquid_phase_experiment_daata/test_benzene_full_equil_n100.h5')\n",
    "top = traj.topology\n",
    "interchange = Interchange.from_smirnoff(force_field=sage, topology=topology_openff)\n",
    "interchange.positions = first_frame.xyz[0] * unit.nanometer\n",
    "openmm_energies = get_openmm_energies(interchange).total_energy.m_as(kj_mol)\n",
    "print(openmm_energies)"
   ]
  },
  {
   "cell_type": "code",
   "execution_count": 5,
   "metadata": {},
   "outputs": [],
   "source": [
    "import mdtraj as md\n",
    "import openmm\n",
    "from openff.toolkit.topology import Molecule, Topology\n",
    "from openff.units import unit\n",
    "from openff.toolkit.typing.engines.smirnoff import ForceField\n",
    "from openff.interchange import Interchange\n",
    "from openff.interchange.drivers import get_openmm_energies\n",
    "\n",
    "import mdtraj as md\n",
    "import openmm\n",
    "from openmm.app.pdbfile import PDBFile\n",
    "import parmed"
   ]
  },
  {
   "cell_type": "code",
   "execution_count": 15,
   "metadata": {},
   "outputs": [
    {
     "name": "stderr",
     "output_type": "stream",
     "text": [
      "/localhome/cschiebroek/.conda/envs/mdfp_carl/lib/python3.11/site-packages/mdtraj/core/trajectory.py:439: UserWarning: top= kwargs ignored since this file parser does not support it\n",
      "  warnings.warn('top= kwargs ignored since this file parser does not support it')\n"
     ]
    },
    {
     "name": "stdout",
     "output_type": "stream",
     "text": [
      "3387.9219483329084\n"
     ]
    }
   ],
   "source": [
    "traj = md.load('liquid_phase_experiment_daata/test_benzene_full_equil_n100_5ns.h5')\n",
    "ff = ForceField(\"openff_unconstrained-2.1.0.offxml\")\n",
    "def load_prmed(schema_id):\n",
    "    pdb_file = f'/localhome/cschiebroek/MDFP_VP/mdfptools/carl/liquid_phase_experiment_daata/{schema_id}_build_coordinates/output.pdb'\n",
    "    parameterized_system = f'/localhome/cschiebroek/MDFP_VP/mdfptools/carl/liquid_phase_experiment_daata/{schema_id}_assign_parameters/system.xml'\n",
    "    omm_top = PDBFile(pdb_file).topology\n",
    "    omm_sys = openmm.XmlSerializer.deserialize(open(parameterized_system).read())\n",
    "    rdk_pmd = parmed.openmm.load_topology(omm_top, omm_sys, xyz=pdb_file)\n",
    "    return rdk_pmd\n",
    "key = 'adb70b0f9c8b43a9a9373ada67a25377'\n",
    "SMILES = \"c1ccccc1\"\n",
    "prm_obj = load_prmed(key)\n",
    "topology_openff = Topology.from_openmm(prm_obj.topology, unique_molecules=[Molecule.from_smiles(SMILES)])\n",
    "interchange = Interchange.from_smirnoff(force_field=ff, topology=topology_openff)\n",
    "frame = traj[0]\n",
    "interchange.positions = frame.xyz[0] * unit.nanometer\n",
    "openmm_energies = get_openmm_energies(interchange).total_energy.m_as(unit.kilojoule_per_mole)\n",
    "print(openmm_energies)"
   ]
  },
  {
   "cell_type": "code",
   "execution_count": 30,
   "metadata": {},
   "outputs": [
    {
     "data": {
      "text/plain": [
       "EnergyReport(energies={'vdW': <Quantity(-2139.77697, 'kilojoule / mole')>, 'Electrostatics': <Quantity(877.580471, 'kilojoule / mole')>, 'vdW 1-4': <Quantity(2324.68338, 'kilojoule / mole')>, 'Electrostatics 1-4': <Quantity(-66.5476117, 'kilojoule / mole')>, 'Torsion': <Quantity(1183.90606, 'kilojoule / mole')>, 'Angle': <Quantity(1208.07667, 'kilojoule / mole')>, 'Bond': <Quantity(7.49082762e-07, 'kilojoule / mole')>})"
      ]
     },
     "execution_count": 30,
     "metadata": {},
     "output_type": "execute_result"
    }
   ],
   "source": [
    "energies_all = get_openmm_energies(interchange,combine_nonbonded_forces=False,detailed=True)\n",
    "energies_all"
   ]
  },
  {
   "cell_type": "code",
   "execution_count": 34,
   "metadata": {},
   "outputs": [
    {
     "data": {
      "text/plain": [
       "-2139.776970792278"
      ]
     },
     "execution_count": 34,
     "metadata": {},
     "output_type": "execute_result"
    }
   ],
   "source": [
    "energies_all.energies['vdW'].m_as(unit.kilojoule_per_mole)"
   ]
  },
  {
   "cell_type": "code",
   "execution_count": 38,
   "metadata": {},
   "outputs": [
    {
     "name": "stderr",
     "output_type": "stream",
     "text": [
      "100%|██████████| 500/500 [09:44<00:00,  1.17s/it]\n"
     ]
    }
   ],
   "source": [
    "vdws,electrostatics,vdw14,electrostatics14 = [],[],[],[]\n",
    "from tqdm import tqdm\n",
    "for frame in tqdm(traj):\n",
    "    interchange.positions = frame.xyz[0] * unit.nanometer\n",
    "    openmm_energies = get_openmm_energies(interchange,combine_nonbonded_forces=False,detailed=True)\n",
    "    vdws.append(openmm_energies.energies['vdW'].m_as(unit.kilojoule_per_mole))\n",
    "    electrostatics.append(openmm_energies.energies['Electrostatics'].m_as(unit.kilojoule_per_mole))\n",
    "    vdw14.append(openmm_energies.energies['vdW 1-4'].m_as(unit.kilojoule_per_mole))\n",
    "    electrostatics14.append(openmm_energies.energies['Electrostatics 1-4'].m_as(unit.kilojoule_per_mole))"
   ]
  },
  {
   "cell_type": "code",
   "execution_count": 41,
   "metadata": {},
   "outputs": [
    {
     "data": {
      "image/png": "[encoded data removed]",
      "text/plain": [
       "<Figure size 640x480 with 1 Axes>"
      ]
     },
     "metadata": {},
     "output_type": "display_data"
    },
    {
     "data": {
      "image/png": "[encoded data removed]",
      "text/plain": [
       "<Figure size 640x480 with 1 Axes>"
      ]
     },
     "metadata": {},
     "output_type": "display_data"
    },
    {
     "data": {
      "image/png": "[encoded data removed]",
      "text/plain": [
       "<Figure size 640x480 with 1 Axes>"
      ]
     },
     "metadata": {},
     "output_type": "display_data"
    },
    {
     "data": {
      "image/png": "[encoded data removed]",
      "text/plain": [
       "<Figure size 640x480 with 1 Axes>"
      ]
     },
     "metadata": {},
     "output_type": "display_data"
    }
   ],
   "source": [
    "#histograms of the energies\n",
    "import matplotlib.pyplot as plt\n",
    "plt.hist(vdws, bins=10)\n",
    "plt.title('vdW')\n",
    "plt.show()\n",
    "plt.hist(electrostatics, bins=10)\n",
    "plt.title('Electrostatics')\n",
    "plt.show()\n",
    "plt.hist(vdw14, bins=10)\n",
    "plt.title('vdW 1-4')\n",
    "plt.show()\n",
    "plt.hist(electrostatics14, bins=10)\n",
    "plt.title('Electrostatics 1-4')\n",
    "plt.show()"
   ]
  },
  {
   "cell_type": "code",
   "execution_count": 75,
   "metadata": {},
   "outputs": [
    {
     "data": {
      "image/png": "[encoded data removed]",
      "text/plain": [
       "<Figure size 640x480 with 1 Axes>"
      ]
     },
     "metadata": {},
     "output_type": "display_data"
    },
    {
     "data": {
      "image/png": "[encoded data removed]",
      "text/plain": [
       "<Figure size 640x480 with 1 Axes>"
      ]
     },
     "metadata": {},
     "output_type": "display_data"
    },
    {
     "data": {
      "image/png": "[encoded data removed]",
      "text/plain": [
       "<Figure size 640x480 with 1 Axes>"
      ]
     },
     "metadata": {},
     "output_type": "display_data"
    },
    {
     "data": {
      "image/png": "[encoded data removed]",
      "text/plain": [
       "<Figure size 640x480 with 1 Axes>"
      ]
     },
     "metadata": {},
     "output_type": "display_data"
    }
   ],
   "source": [
    "import pickle #open energies_100_benzene_5ns.pkl\n",
    "with open('energies_100_benzene_5ns.pkl', 'rb') as f:\n",
    "    energie_list = pickle.load(f)\n",
    "for term in ['liquid_intra_crf','liquid_intra_lj','liquid_total_crf','liquid_total_lj']:    \n",
    "    energies_all_liquid_intra_crf = [ene[term] for ene in energie_list]\n",
    "    energies_all_liquid_intra_crf_array = np.array(energies_all_liquid_intra_crf)\n",
    "    energies_all_liquid_intra_crf_array_sum = np.sum(energies_all_liquid_intra_crf_array, axis=1)\n",
    "    plt.hist(energies_all_liquid_intra_crf_array_sum, bins=10)\n",
    "    plt.title(term)\n",
    "    plt.show()"
   ]
  },
  {
   "cell_type": "code",
   "execution_count": 45,
   "metadata": {},
   "outputs": [
    {
     "data": {
      "text/plain": [
       "(100, 6)"
      ]
     },
     "execution_count": 45,
     "metadata": {},
     "output_type": "execute_result"
    }
   ],
   "source": [
    "len(energie_list),len(energie_list[0])"
   ]
  },
  {
   "cell_type": "code",
   "execution_count": 47,
   "metadata": {},
   "outputs": [
    {
     "data": {
      "text/plain": [
       "500"
      ]
     },
     "execution_count": 47,
     "metadata": {},
     "output_type": "execute_result"
    }
   ],
   "source": [
    "len(energie_list[0]['liquid_intra_crf'])"
   ]
  },
  {
   "cell_type": "code",
   "execution_count": 64,
   "metadata": {},
   "outputs": [
    {
     "name": "stdout",
     "output_type": "stream",
     "text": [
      "8.45002839800355\n"
     ]
    }
   ],
   "source": [
    "energies_all_liquid_intra_crf = [ene['liquid_intra_crf'] for ene in energie_list]\n",
    "energies_all_liquid_intra_crf_flat = [item for sublist in energies_all_liquid_intra_crf for item in sublist]\n",
    "len(energies_all_liquid_intra_crf_flat)\n",
    "print(np.mean(energies_all_liquid_intra_crf_flat))\n"
   ]
  },
  {
   "cell_type": "code",
   "execution_count": 62,
   "metadata": {},
   "outputs": [
    {
     "name": "stdout",
     "output_type": "stream",
     "text": [
      "22.417681727943002\n"
     ]
    }
   ],
   "source": [
    "import numpy as np\n",
    "energies_all_liquid_intra_crf = [ene['liquid_intra_lj'] for ene in energie_list]\n",
    "energies_all_liquid_intra_crf_flat = [item for sublist in energies_all_liquid_intra_crf for item in sublist]\n",
    "print(np.mean(energies_all_liquid_intra_crf_flat))\n",
    "\n"
   ]
  },
  {
   "cell_type": "code",
   "execution_count": 72,
   "metadata": {},
   "outputs": [
    {
     "data": {
      "text/plain": [
       "(500,)"
      ]
     },
     "execution_count": 72,
     "metadata": {},
     "output_type": "execute_result"
    }
   ],
   "source": [
    "energies_all_liquid_intra_crf_array = np.array(energies_all_liquid_intra_crf)\n",
    "#summ over all molecules\n",
    "energies_all_liquid_intra_crf_array.sum(axis=0).shape"
   ]
  },
  {
   "cell_type": "code",
   "execution_count": 74,
   "metadata": {},
   "outputs": [
    {
     "data": {
      "text/plain": [
       "(array([  3.,  15.,  39.,  87., 135., 103.,  73.,  32.,  10.,   3.]),\n",
       " array([-1816.85747902, -1775.59497892, -1734.33247883, -1693.06997873,\n",
       "        -1651.80747864, -1610.54497855, -1569.28247845, -1528.01997836,\n",
       "        -1486.75747827, -1445.49497817, -1404.23247808]),\n",
       " <BarContainer object of 10 artists>)"
      ]
     },
     "execution_count": 74,
     "metadata": {},
     "output_type": "execute_result"
    },
    {
     "data": {
      "image/png": "[encoded data removed]",
      "text/plain": [
       "<Figure size 640x480 with 1 Axes>"
      ]
     },
     "metadata": {},
     "output_type": "display_data"
    }
   ],
   "source": [
    "energies_all_liquid_intra_crf_array.sum(axis=0).tolist()\n",
    "#plot\n",
    "plt.hist(energies_all_liquid_intra_crf_array.sum(axis=0), bins=10)"
   ]
  },
  {
   "cell_type": "code",
   "execution_count": 27,
   "metadata": {},
   "outputs": [
    {
     "data": {
      "text/plain": [
       "dict_keys(['liquid_intra_crf', 'liquid_intra_lj', 'liquid_total_crf', 'liquid_total_lj', 'liquid_intra_ene', 'liquid_total_ene'])"
      ]
     },
     "execution_count": 27,
     "metadata": {},
     "output_type": "execute_result"
    }
   ],
   "source": [
    "energie_list[0].keys()"
   ]
  },
  {
   "cell_type": "code",
   "execution_count": null,
   "metadata": {},
   "outputs": [],
   "source": []
  },
  {
   "cell_type": "code",
   "execution_count": null,
   "metadata": {},
   "outputs": [],
   "source": []
  },
  {
   "cell_type": "code",
   "execution_count": 76,
   "metadata": {},
   "outputs": [
    {
     "name": "stderr",
     "output_type": "stream",
     "text": [
      "/localhome/cschiebroek/.conda/envs/mdfp_carl/lib/python3.11/site-packages/mdtraj/core/trajectory.py:439: UserWarning: top= kwargs ignored since this file parser does not support it\n",
      "  warnings.warn('top= kwargs ignored since this file parser does not support it')\n"
     ]
    },
    {
     "data": {
      "text/plain": [
       "{'2d_counts': [6, 0, 0, 0, 0, 0, 0, 0, 0, 0],\n",
       " 'water_intra_crf': [635.0920068529404, 20.0681538067759, 635.1927149214607],\n",
       " 'water_intra_lj': [312.7862069238647, 32.858825710340646, 311.55619478430503],\n",
       " 'water_total_crf': [635.0920068529404, 20.0681538067759, 635.1927149214607],\n",
       " 'water_total_lj': [312.7862069238647, 32.858825710340646, 311.55619478430503],\n",
       " 'water_intra_ene': [947.878213776805, 39.680055843862085, 947.9558900322655],\n",
       " 'water_total_ene': [947.878213776805, 39.680055843862085, 947.9558900322655],\n",
       " 'water_rgyr': [1.2352665551527648, 0.00563381562690064, 1.2352755417208225],\n",
       " 'water_sasa': [0.57106215, 0.46374443, 0.53367686]}"
      ]
     },
     "execution_count": 76,
     "metadata": {},
     "output_type": "execute_result"
    }
   ],
   "source": [
    "from Composer import SolutionComposer\n",
    "import mdtraj as md\n",
    "import parmed\n",
    "from Composer import LiquidComposer\n",
    "import mdtraj as md\n",
    "import openmm\n",
    "from openmm.app.pdbfile import PDBFile\n",
    "import parmed\n",
    "from Simulator import SolutionSimulator\n",
    "\n",
    "\n",
    "schema_id = 'adb70b0f9c8b43a9a9373ada67a25377'\n",
    "pdb_file = f'/localhome/cschiebroek/MDFP_VP/mdfptools/carl/liquid_phase_experiment_daata/{schema_id}_build_coordinates/output.pdb'\n",
    "parameterized_system = f'/localhome/cschiebroek/MDFP_VP/mdfptools/carl/liquid_phase_experiment_daata/{schema_id}_assign_parameters/system.xml'\n",
    "omm_top = PDBFile(pdb_file).topology\n",
    "omm_sys = openmm.XmlSerializer.deserialize(open(parameterized_system).read())\n",
    "rdk_pmd = parmed.openmm.load_topology(omm_top, omm_sys, xyz=pdb_file)\n",
    "smiles = 'c1ccccc1'\n",
    "traj_5ns = md.load('liquid_phase_experiment_daata/test_benzene_full_equil_n100_5ns.h5')\n",
    "mdfp_5ns = SolutionComposer.run(traj, rdk_pmd,smiles=smiles)\n",
    "mdfp_5ns.mdfp"
   ]
  }
 ],
 "metadata": {
  "kernelspec": {
   "display_name": "mdfp_carl",
   "language": "python",
   "name": "python3"
  },
  "language_info": {
   "codemirror_mode": {
    "name": "ipython",
    "version": 3
   },
   "file_extension": ".py",
   "mimetype": "text/x-python",
   "name": "python",
   "nbconvert_exporter": "python",
   "pygments_lexer": "ipython3",
   "version": "3.11.5"
  }
 },
 "nbformat": 4,
 "nbformat_minor": 2
}
