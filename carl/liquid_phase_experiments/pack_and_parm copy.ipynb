{
 "cells": [
  {
   "cell_type": "code",
   "execution_count": null,
   "metadata": {},
   "outputs": [],
   "source": []
  },
  {
   "cell_type": "code",
   "execution_count": null,
   "metadata": {},
   "outputs": [],
   "source": []
  },
  {
   "cell_type": "code",
   "execution_count": 1,
   "metadata": {},
   "outputs": [
    {
     "name": "stderr",
     "output_type": "stream",
     "text": [
      "Warning on use of the timeseries module: If the inherent timescales of the system are long compared to those being analyzed, this statistical inefficiency may be an underestimate.  The estimate presumes the use of many statistically independent samples.  Tests should be performed to assess whether this condition is satisfied.   Be cautious in the interpretation of the data.\n",
      "\n",
      "****** PyMBAR will use 64-bit JAX! *******\n",
      "* JAX is currently set to 32-bit bitsize *\n",
      "* which is its default.                  *\n",
      "*                                        *\n",
      "* PyMBAR requires 64-bit mode and WILL   *\n",
      "* enable JAX's 64-bit mode when called.  *\n",
      "*                                        *\n",
      "* This MAY cause problems with other     *\n",
      "* Uses of JAX in the same code.          *\n",
      "******************************************\n",
      "\n"
     ]
    },
    {
     "data": {
      "application/vnd.jupyter.widget-view+json": {
       "model_id": "bc673438c5b8487c8df91a07515d0cdf",
       "version_major": 2,
       "version_minor": 0
      },
      "text/plain": []
     },
     "metadata": {},
     "output_type": "display_data"
    }
   ],
   "source": [
    "\n",
    "from openff.toolkit.topology import Molecule\n",
    "import parmed\n",
    "from openff.evaluator import unit\n",
    "from openff.evaluator.substances import Substance, Component, MoleFraction\n",
    "from openff.evaluator.workflow.schemas import WorkflowSchema\n",
    "\n",
    "from openff.evaluator.protocols.coordinates import BuildCoordinatesPackmol\n",
    "from openff.evaluator.protocols.forcefield import BuildSmirnoffSystem\n",
    "from openff.evaluator.workflow.utils import ProtocolPath\n",
    "\n",
    "from openff.evaluator.thermodynamics import ThermodynamicState\n",
    "\n",
    "from openff.evaluator.workflow import Workflow\n",
    "\n"
   ]
  },
  {
   "cell_type": "code",
   "execution_count": 2,
   "metadata": {},
   "outputs": [],
   "source": [
    "\n",
    "def parameterize_system(smiles, force_field_path=\"openff_unconstrained-2.1.0.offxml\", mass_density=0.95 * unit.grams / unit.milliliters):\n",
    "    # Define the substance\n",
    "    substance = Substance()\n",
    "    substance.add_component(Component(smiles=smiles), MoleFraction(1.0))\n",
    "\n",
    "    # Create the workflow schema\n",
    "    schema = WorkflowSchema()\n",
    "\n",
    "    # Step 1: Build coordinates\n",
    "    build_coordinates = BuildCoordinatesPackmol(\"build_coordinates\")\n",
    "    build_coordinates.max_molecules = 1000\n",
    "    build_coordinates.mass_density = mass_density\n",
    "    build_coordinates.substance = substance\n",
    "    schema.protocol_schemas.append(build_coordinates.schema)\n",
    "\n",
    "    # Step 2: Assign parameters\n",
    "    assign_parameters = BuildSmirnoffSystem(\"assign_parameters\")\n",
    "    assign_parameters.force_field_path = force_field_path\n",
    "    assign_parameters.coordinate_file_path = ProtocolPath(\"coordinate_file_path\", build_coordinates.id)\n",
    "    assign_parameters.substance = substance\n",
    "    schema.protocol_schemas.append(assign_parameters.schema)\n",
    "\n",
    "    # Metadata\n",
    "    metadata = {\n",
    "        \"substance\": substance,\n",
    "        \"thermodynamic_state\": ThermodynamicState(\n",
    "            temperature=298.15 * unit.kelvin,\n",
    "            pressure=1.0 * unit.atmosphere\n",
    "        ),\n",
    "        \"force_field_path\": force_field_path\n",
    "    }\n",
    "\n",
    "    # Create and execute the workflow\n",
    "    workflow = Workflow.from_schema(schema, metadata=metadata)\n",
    "    workflow.execute()\n",
    "\n",
    "    return workflow\n"
   ]
  },
  {
   "cell_type": "code",
   "execution_count": 3,
   "metadata": {},
   "outputs": [
    {
     "name": "stdout",
     "output_type": "stream",
     "text": [
      "ClC(Cl)Cl 4a6a781c2b774a15ad79d7fc00fb2ebf\n"
     ]
    }
   ],
   "source": [
    "smiles = 'ClC(Cl)Cl'\n",
    "workflow = parameterize_system(smiles)\n",
    "print(smiles,workflow.schema.id)"
   ]
  }
 ],
 "metadata": {
  "kernelspec": {
   "display_name": "mdfp_carl",
   "language": "python",
   "name": "python3"
  },
  "language_info": {
   "codemirror_mode": {
    "name": "ipython",
    "version": 3
   },
   "file_extension": ".py",
   "mimetype": "text/x-python",
   "name": "python",
   "nbconvert_exporter": "python",
   "pygments_lexer": "ipython3",
   "version": "3.11.9"
  }
 },
 "nbformat": 4,
 "nbformat_minor": 2
}
