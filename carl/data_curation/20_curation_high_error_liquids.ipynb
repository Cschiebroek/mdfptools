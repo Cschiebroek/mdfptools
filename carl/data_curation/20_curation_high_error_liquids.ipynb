{
 "cells": [
  {
   "cell_type": "code",
   "execution_count": null,
   "metadata": {},
   "outputs": [],
   "source": []
  },
  {
   "cell_type": "code",
   "execution_count": 7,
   "metadata": {},
   "outputs": [],
   "source": [
    "import pandas as pd\n",
    "import numpy as np"
   ]
  },
  {
   "cell_type": "code",
   "execution_count": 8,
   "metadata": {},
   "outputs": [],
   "source": [
    "df_error_liquids = pd.read_csv('df_error_liquids.csv')"
   ]
  },
  {
   "cell_type": "code",
   "execution_count": 9,
   "metadata": {},
   "outputs": [],
   "source": [
    "def log_vp_pa_to_log_vp_mmhg(x):\n",
    "    pa = 10**x\n",
    "    mmhg = pa * 0.00750062\n",
    "    return np.log10(mmhg)\n",
    "def log_vp_mmhg_to_log_vp_pa(x):\n",
    "    mmhg_vp = 10**x\n",
    "    pa_vap = mmhg_vp * 133.322\n",
    "    return np.log10(pa_vap)"
   ]
  },
  {
   "cell_type": "code",
   "execution_count": 10,
   "metadata": {},
   "outputs": [
    {
     "data": {
      "text/html": [
       "<div>\n",
       "<style scoped>\n",
       "    .dataframe tbody tr th:only-of-type {\n",
       "        vertical-align: middle;\n",
       "    }\n",
       "\n",
       "    .dataframe tbody tr th {\n",
       "        vertical-align: top;\n",
       "    }\n",
       "\n",
       "    .dataframe thead th {\n",
       "        text-align: right;\n",
       "    }\n",
       "</style>\n",
       "<table border=\"1\" class=\"dataframe\">\n",
       "  <thead>\n",
       "    <tr style=\"text-align: right;\">\n",
       "      <th></th>\n",
       "      <th>molregno</th>\n",
       "      <th>PhysChem</th>\n",
       "      <th>MDFP+</th>\n",
       "      <th>MDFP+PhysChem</th>\n",
       "      <th>2DCounts</th>\n",
       "      <th>VP</th>\n",
       "      <th>PhysChem_error</th>\n",
       "      <th>MDFP+_error</th>\n",
       "      <th>MDFP+PhysChem_error</th>\n",
       "      <th>2DCounts_error</th>\n",
       "      <th>smiles</th>\n",
       "      <th>VP_log10_mmHg</th>\n",
       "    </tr>\n",
       "  </thead>\n",
       "  <tbody>\n",
       "    <tr>\n",
       "      <th>0</th>\n",
       "      <td>723</td>\n",
       "      <td>-1.604864</td>\n",
       "      <td>-1.720803</td>\n",
       "      <td>-1.743477</td>\n",
       "      <td>-2.416073</td>\n",
       "      <td>0.912402</td>\n",
       "      <td>2.517266</td>\n",
       "      <td>2.633205</td>\n",
       "      <td>2.655878</td>\n",
       "      <td>3.328475</td>\n",
       "      <td>O=P(OCCCl)(OCCCl)OCCCl</td>\n",
       "      <td>-1.212501</td>\n",
       "    </tr>\n",
       "    <tr>\n",
       "      <th>1</th>\n",
       "      <td>2563</td>\n",
       "      <td>0.472648</td>\n",
       "      <td>-2.001686</td>\n",
       "      <td>1.930594</td>\n",
       "      <td>-1.208827</td>\n",
       "      <td>3.050202</td>\n",
       "      <td>2.577554</td>\n",
       "      <td>5.051888</td>\n",
       "      <td>1.119608</td>\n",
       "      <td>4.259029</td>\n",
       "      <td>O=[N+]([O-])C([N+](=O)[O-])([N+](=O)[O-])[N+](...</td>\n",
       "      <td>0.925299</td>\n",
       "    </tr>\n",
       "    <tr>\n",
       "      <th>2</th>\n",
       "      <td>2778</td>\n",
       "      <td>-0.159919</td>\n",
       "      <td>-1.004652</td>\n",
       "      <td>-0.445753</td>\n",
       "      <td>-1.218124</td>\n",
       "      <td>1.052502</td>\n",
       "      <td>1.212421</td>\n",
       "      <td>2.057154</td>\n",
       "      <td>1.498254</td>\n",
       "      <td>2.270625</td>\n",
       "      <td>CCOC(=O)c1ccccc1O</td>\n",
       "      <td>-1.072401</td>\n",
       "    </tr>\n",
       "    <tr>\n",
       "      <th>3</th>\n",
       "      <td>2850</td>\n",
       "      <td>0.479737</td>\n",
       "      <td>0.421612</td>\n",
       "      <td>0.073969</td>\n",
       "      <td>0.682488</td>\n",
       "      <td>1.898002</td>\n",
       "      <td>1.418265</td>\n",
       "      <td>1.476390</td>\n",
       "      <td>1.824033</td>\n",
       "      <td>1.215514</td>\n",
       "      <td>O=Cc1ccccc1O</td>\n",
       "      <td>-0.226901</td>\n",
       "    </tr>\n",
       "    <tr>\n",
       "      <th>4</th>\n",
       "      <td>2875</td>\n",
       "      <td>-5.948981</td>\n",
       "      <td>0.227228</td>\n",
       "      <td>-8.226305</td>\n",
       "      <td>-0.657237</td>\n",
       "      <td>1.866521</td>\n",
       "      <td>7.815502</td>\n",
       "      <td>1.639294</td>\n",
       "      <td>10.092826</td>\n",
       "      <td>2.523759</td>\n",
       "      <td>FC(F)(F)C(F)(F)C(F)(F)C(F)(F)N(C(F)(F)C(F)(F)C...</td>\n",
       "      <td>-0.258382</td>\n",
       "    </tr>\n",
       "    <tr>\n",
       "      <th>5</th>\n",
       "      <td>3122</td>\n",
       "      <td>0.094465</td>\n",
       "      <td>0.532267</td>\n",
       "      <td>0.233106</td>\n",
       "      <td>0.381868</td>\n",
       "      <td>1.680002</td>\n",
       "      <td>1.585538</td>\n",
       "      <td>1.147736</td>\n",
       "      <td>1.446896</td>\n",
       "      <td>1.298134</td>\n",
       "      <td>Cc1cccc([N+](=O)[O-])c1C</td>\n",
       "      <td>-0.444901</td>\n",
       "    </tr>\n",
       "    <tr>\n",
       "      <th>6</th>\n",
       "      <td>3222</td>\n",
       "      <td>2.113338</td>\n",
       "      <td>2.279860</td>\n",
       "      <td>2.564292</td>\n",
       "      <td>4.680817</td>\n",
       "      <td>0.910202</td>\n",
       "      <td>1.203136</td>\n",
       "      <td>1.369658</td>\n",
       "      <td>1.654091</td>\n",
       "      <td>3.770615</td>\n",
       "      <td>NC=O</td>\n",
       "      <td>-1.214701</td>\n",
       "    </tr>\n",
       "    <tr>\n",
       "      <th>7</th>\n",
       "      <td>4134</td>\n",
       "      <td>-2.416055</td>\n",
       "      <td>-4.724137</td>\n",
       "      <td>-3.168877</td>\n",
       "      <td>-2.335942</td>\n",
       "      <td>-1.260098</td>\n",
       "      <td>1.155957</td>\n",
       "      <td>3.464039</td>\n",
       "      <td>1.908779</td>\n",
       "      <td>1.075844</td>\n",
       "      <td>NCCNCCNCCN</td>\n",
       "      <td>-3.385001</td>\n",
       "    </tr>\n",
       "    <tr>\n",
       "      <th>8</th>\n",
       "      <td>16745</td>\n",
       "      <td>-0.649176</td>\n",
       "      <td>-1.165610</td>\n",
       "      <td>-1.315578</td>\n",
       "      <td>-3.725809</td>\n",
       "      <td>0.540901</td>\n",
       "      <td>1.190077</td>\n",
       "      <td>1.706511</td>\n",
       "      <td>1.856479</td>\n",
       "      <td>4.266710</td>\n",
       "      <td>CCCCOCCOCCOCCCC</td>\n",
       "      <td>-1.584002</td>\n",
       "    </tr>\n",
       "  </tbody>\n",
       "</table>\n",
       "</div>"
      ],
      "text/plain": [
       "   molregno  PhysChem     MDFP+  MDFP+PhysChem  2DCounts        VP  \\\n",
       "0       723 -1.604864 -1.720803      -1.743477 -2.416073  0.912402   \n",
       "1      2563  0.472648 -2.001686       1.930594 -1.208827  3.050202   \n",
       "2      2778 -0.159919 -1.004652      -0.445753 -1.218124  1.052502   \n",
       "3      2850  0.479737  0.421612       0.073969  0.682488  1.898002   \n",
       "4      2875 -5.948981  0.227228      -8.226305 -0.657237  1.866521   \n",
       "5      3122  0.094465  0.532267       0.233106  0.381868  1.680002   \n",
       "6      3222  2.113338  2.279860       2.564292  4.680817  0.910202   \n",
       "7      4134 -2.416055 -4.724137      -3.168877 -2.335942 -1.260098   \n",
       "8     16745 -0.649176 -1.165610      -1.315578 -3.725809  0.540901   \n",
       "\n",
       "   PhysChem_error  MDFP+_error  MDFP+PhysChem_error  2DCounts_error  \\\n",
       "0        2.517266     2.633205             2.655878        3.328475   \n",
       "1        2.577554     5.051888             1.119608        4.259029   \n",
       "2        1.212421     2.057154             1.498254        2.270625   \n",
       "3        1.418265     1.476390             1.824033        1.215514   \n",
       "4        7.815502     1.639294            10.092826        2.523759   \n",
       "5        1.585538     1.147736             1.446896        1.298134   \n",
       "6        1.203136     1.369658             1.654091        3.770615   \n",
       "7        1.155957     3.464039             1.908779        1.075844   \n",
       "8        1.190077     1.706511             1.856479        4.266710   \n",
       "\n",
       "                                              smiles  VP_log10_mmHg  \n",
       "0                             O=P(OCCCl)(OCCCl)OCCCl      -1.212501  \n",
       "1  O=[N+]([O-])C([N+](=O)[O-])([N+](=O)[O-])[N+](...       0.925299  \n",
       "2                                  CCOC(=O)c1ccccc1O      -1.072401  \n",
       "3                                       O=Cc1ccccc1O      -0.226901  \n",
       "4  FC(F)(F)C(F)(F)C(F)(F)C(F)(F)N(C(F)(F)C(F)(F)C...      -0.258382  \n",
       "5                           Cc1cccc([N+](=O)[O-])c1C      -0.444901  \n",
       "6                                               NC=O      -1.214701  \n",
       "7                                         NCCNCCNCCN      -3.385001  \n",
       "8                                    CCCCOCCOCCOCCCC      -1.584002  "
      ]
     },
     "execution_count": 10,
     "metadata": {},
     "output_type": "execute_result"
    }
   ],
   "source": [
    "#add to error df\n",
    "df_error_liquids['VP_log10_mmHg'] = df_error_liquids['VP'].apply(log_vp_pa_to_log_vp_mmhg)\n",
    "df_error_liquids"
   ]
  },
  {
   "cell_type": "code",
   "execution_count": 11,
   "metadata": {},
   "outputs": [
    {
     "data": {
      "image/png": "[encoded data removed]",
      "text/plain": [
       "<IPython.core.display.Image object>"
      ]
     },
     "execution_count": 11,
     "metadata": {},
     "output_type": "execute_result"
    }
   ],
   "source": [
    "#draw\n",
    "from rdkit import Chem\n",
    "from rdkit.Chem import Draw\n",
    "from rdkit.Chem import AllChem\n",
    "\n",
    "mols = [Chem.MolFromSmiles(smi) for smi in df_error_liquids['smiles']]\n",
    "img = Draw.MolsToGridImage(mols, molsPerRow=5, subImgSize=(300,300))\n",
    "img"
   ]
  },
  {
   "cell_type": "code",
   "execution_count": 12,
   "metadata": {},
   "outputs": [
    {
     "name": "stdout",
     "output_type": "stream",
     "text": [
      "O=P(OCCCl)(OCCCl)OCCCl\n",
      "O=[N+]([O-])C([N+](=O)[O-])([N+](=O)[O-])[N+](=O)[O-]\n",
      "CCOC(=O)c1ccccc1O\n",
      "O=Cc1ccccc1O\n",
      "FC(F)(F)C(F)(F)C(F)(F)C(F)(F)N(C(F)(F)C(F)(F)C(F)(F)C(F)(F)F)C(F)(F)C(F)(F)C(F)(F)C(F)(F)F\n",
      "Cc1cccc([N+](=O)[O-])c1C\n",
      "NC=O\n",
      "NCCNCCNCCN\n",
      "CCCCOCCOCCOCCCC\n"
     ]
    }
   ],
   "source": [
    "#get canonical smiles for these\n",
    "df_error_liquids['canonical_smiles'] = [Chem.MolToSmiles(Chem.MolFromSmiles(smi)) for smi in df_error_liquids['smiles']]\n",
    "#print them out\n",
    "for i, row in df_error_liquids.iterrows():\n",
    "    print(row['canonical_smiles'])"
   ]
  },
  {
   "cell_type": "markdown",
   "metadata": {},
   "source": [
    "First one: Tris(2-chloroethyl) phosphate, from DOBRY,A & KELLER,R (1957)\n",
    "https://pubs.acs.org/doi/epdf/10.1021/j150556a052\n",
    "There found as: 14 Tris-(/3-chloroethyl) phosphate\n",
    "With A = 1917 and c = 5.22, giving"
   ]
  },
  {
   "cell_type": "code",
   "execution_count": 13,
   "metadata": {},
   "outputs": [
    {
     "name": "stdout",
     "output_type": "stream",
     "text": [
      "literature val logmmhg  1.0671140939597317\n",
      "literature val logPa  3.192015913968092\n"
     ]
    }
   ],
   "source": [
    "#log P (in mm.'of Hg) = -A/T (°K.) + C\n",
    "logmmhg = -1917/298 + 7.5\n",
    "print('literature val logmmhg ', logmmhg) #not in agreement with OPERA value\n",
    "print('literature val logPa ', log_vp_mmhg_to_log_vp_pa(logmmhg))\n",
    "#but pred models is all negative "
   ]
  },
  {
   "cell_type": "markdown",
   "metadata": {},
   "source": [
    "Other paper: https://pubs.rsc.org/en/content/articlehtml/2020/em/d0em00222d\n",
    "gives 6.67 Pa (0.8 log10Pa), which is close to recorded value\n",
    "However, yet another reports closer to the predictions: https://pubs.acs.org/doi/full/10.1021/je401026a, with -1.6/-1.32"
   ]
  },
  {
   "cell_type": "markdown",
   "metadata": {},
   "source": [
    "Second one: Tetranitromethane, from BOUBLIK,T ET AL. (1984)\n",
    "This one actually got its own paper: G. Edwards, The Vapor Pressure of Tetranitromethane, Trans. Faraday Soc. 1952, 48, 513. (https://pubs.rsc.org/en/content/articlepdf/1952/tf/tf9524800513)\n",
    "Not much to say I guess "
   ]
  },
  {
   "cell_type": "code",
   "execution_count": 19,
   "metadata": {},
   "outputs": [
    {
     "name": "stdout",
     "output_type": "stream",
     "text": [
      "lop 1.2087848083721013\n",
      "vp_log10_mmhg 1.0823489932885915\n",
      "vp_log10_pa 3.20725186907652\n"
     ]
    }
   ],
   "source": [
    "loglop = 7.23 - 2130/298#incmh\n",
    "#convert to cmhg\n",
    "lop = 10**loglop\n",
    "print('lop', lop)\n",
    "vp_pa = 1611.58\n",
    "vp_log10_pa = np.log10(vp_pa)\n",
    "#and in mmhg, just * 10 the lop\n",
    "vp_log10_mmhg = np.log10(lop * 10)\n",
    "print('vp_log10_mmhg', vp_log10_mmhg)\n",
    "print('vp_log10_pa', vp_log10_pa) #in in agreement with OPERA value"
   ]
  },
  {
   "cell_type": "markdown",
   "metadata": {},
   "source": [
    "Thirs one: Ethyl salicylate (PERRY,RH & GREEN,D (1984)). \n",
    "Seems to be more like -2/-3 (log10 mmHg) https://pubs.acs.org/doi/pdf/10.1021/i360057a009, rather then -1 as in OPERA\n",
    "But different SDS range in 0.0035 and 0.005, leaning more towards -1 in log scale too.\n"
   ]
  },
  {
   "cell_type": "markdown",
   "metadata": {},
   "source": [
    "Four: Salicylaldehyde (DAUBERT,TE & DANNER,RP (1989))\n",
    "88.7 mmHg at 20C according to handbook from Daubert, which would mean almost 2 log10 mmHg, while in SDF -0.22 is recorded. \n",
    "However, all models actually underestimate so this is not the problem"
   ]
  },
  {
   "cell_type": "markdown",
   "metadata": {},
   "source": [
    "Five: Perfluorotributylamine (RIDDICK,JA ET AL. (1986)|?)\n",
    "73 Pa according to more recent paper https://link.springer.com/article/10.1007/s11027-015-9684-6 (1.8 in log). In agreement"
   ]
  },
  {
   "cell_type": "markdown",
   "metadata": {},
   "source": [
    "Six: 3-Nitro-o-xylol can't really find much info. Similar compounds in Thermochemistry of substituted benzenes:\n",
    "quantification of ortho-, para-, meta-, and\n",
    "buttress interactions in alkyl-substituted\n",
    "nitrobenzenes\n",
    "Closest has 18.05 Pa"
   ]
  },
  {
   "cell_type": "markdown",
   "metadata": {},
   "source": [
    "Seven: formamide (DAUBERT,TE & DANNER,RP (1989))\n",
    "122.5 mmHg at 20 according to new Daubert --> +2 rather then -1, 3 log units off. \n",
    "But other sources, such as https://kpfu.ru/staff_files/F352406286/2011_Thermochemical.Properties.of.Formamide.Revisited.New.Experiment.and.Quantum.Mechanical.Calculations.pdf, again closer to what we have now"
   ]
  },
  {
   "cell_type": "markdown",
   "metadata": {},
   "source": [
    "Eight: Triethylenetetramine (YAWS,CL (1994))\n",
    "downloaded: file:///home/cschiebroek/Downloads/book.pdf"
   ]
  },
  {
   "cell_type": "code",
   "execution_count": 34,
   "metadata": {},
   "outputs": [
    {
     "data": {
      "text/plain": [
       "-3.332142980543674"
      ]
     },
     "execution_count": 34,
     "metadata": {},
     "output_type": "execute_result"
    }
   ],
   "source": [
    "#log10 P = A - B/(T + C)\n",
    "log10mmhg = 8.10006 - 2319.7769 / (25+177.916) \n",
    "log10mmhg #in agreement"
   ]
  },
  {
   "cell_type": "markdown",
   "metadata": {},
   "source": [
    "Nine: diethylene glycol dibutyl ether. available in same source:"
   ]
  },
  {
   "cell_type": "code",
   "execution_count": 35,
   "metadata": {},
   "outputs": [
    {
     "data": {
      "text/plain": [
       "-1.6932648058712978"
      ]
     },
     "execution_count": 35,
     "metadata": {},
     "output_type": "execute_result"
    }
   ],
   "source": [
    "log10mmhg = 8.24334 - 2691.5977/ (25+245.877)\n",
    "log10mmhg #in agreement\n"
   ]
  },
  {
   "cell_type": "markdown",
   "metadata": {},
   "source": [
    "In summary: most things seem to be in agreement with other sources, but not always. And in this case, hard to say which one to believe. In these cases also often no description of the actual experiment.\n"
   ]
  }
 ],
 "metadata": {
  "kernelspec": {
   "display_name": "mdfp_carl",
   "language": "python",
   "name": "python3"
  },
  "language_info": {
   "codemirror_mode": {
    "name": "ipython",
    "version": 3
   },
   "file_extension": ".py",
   "mimetype": "text/x-python",
   "name": "python",
   "nbconvert_exporter": "python",
   "pygments_lexer": "ipython3",
   "version": "3.11.5"
  }
 },
 "nbformat": 4,
 "nbformat_minor": 2
}
