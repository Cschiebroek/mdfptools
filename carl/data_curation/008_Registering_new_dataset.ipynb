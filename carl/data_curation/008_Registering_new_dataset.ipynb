{
 "cells": [
  {
   "cell_type": "markdown",
   "metadata": {},
   "source": [
    "In this script we will register the new dataset, consisting of the combined data from OPERA (https://github.com/kmansouri/OPERA, Mansouri, K., Grulke, C.M., Judson, R.S. et al. OPERA models for predicting physicochemical properties and environmental fate endpoints. J Cheminform 10, 10 (2018). https://doi.org/10.1186/s13321-018-0263-1) and Naef & Acree (Naef R, Acree WE Jr. Calculation of the Vapour Pressure of Organic Molecules by Means of a Group-Additivity Method and Their Resultant Gibbs Free Energy and Entropy of Vaporization at 298.15 K. Molecules. 2021 Feb 17;26(4):1045. doi: 10.3390/molecules26041045 PMID: 33671251; PMCID: PMC7922249.)"
   ]
  },
  {
   "cell_type": "markdown",
   "metadata": {},
   "source": [
    "The tricky part is that we already have registered some molecules and their conformers for previous experiments, using a dataset compiled by Shuzhe Wang. "
   ]
  },
  {
   "cell_type": "markdown",
   "metadata": {},
   "source": [
    "Experiments with using different starting conformers for the simulations from which MDFPs are extracted showed that the increased benefit is not worth the extra cost, so for now we will only focus on one conformer per molecule."
   ]
  },
  {
   "cell_type": "markdown",
   "metadata": {},
   "source": [
    "As our lightweight regisration (lwreg) was set up in an older version, canonicalizing conformers was not yet possible, and therefore we need to be carefull not to add 'new' conformers of already registered molecules. Therefore, we can first check which molecules we already have in the database."
   ]
  },
  {
   "cell_type": "code",
   "execution_count": 1,
   "metadata": {},
   "outputs": [],
   "source": [
    "import lwreg\n",
    "from lwreg import standardization_lib\n",
    "from lwreg import utils\n",
    "#using our standard settings for our databse cs_mdfps\n",
    "config = lwreg.utils.defaultConfig()\n",
    "config['dbtype'] = 'postgresql'\n",
    "config['dbname'] = 'cs_mdfps'\n",
    "config['host'] = 'lebanon'\n",
    "config['user'] = 'cschiebroek'\n",
    "config['password'] = '' \n",
    "config['standardization'] = standardization_lib.RemoveHs()\n",
    "config['registerConformers'] = True"
   ]
  },
  {
   "cell_type": "code",
   "execution_count": 4,
   "metadata": {},
   "outputs": [
    {
     "data": {
      "text/plain": [
       "source\n",
       "OPERA         2353\n",
       "Naef_Acree    1069\n",
       "Name: count, dtype: int64"
      ]
     },
     "execution_count": 4,
     "metadata": {},
     "output_type": "execute_result"
    }
   ],
   "source": [
    "import pandas as pd\n",
    "df_opera_naef_acree = pd.read_csv('OPERA_plus_Naef_Acree_incl_overlap_descriptors.csv')\n",
    "#lets remove duplicates, keeping from OPERA\n",
    "df_opera_naef_acree = df_opera_naef_acree.sort_values(by=['source'])\n",
    "df_opera_naef_acree = df_opera_naef_acree.drop_duplicates(subset=['inchikey'],keep='last')\n",
    "df_opera_naef_acree['source'].value_counts()"
   ]
  },
  {
   "cell_type": "code",
   "execution_count": 6,
   "metadata": {},
   "outputs": [],
   "source": [
    "smiles = df_opera_naef_acree['standardized_smiles'].tolist()"
   ]
  },
  {
   "cell_type": "code",
   "execution_count": 15,
   "metadata": {},
   "outputs": [],
   "source": [
    "smiles_to_register, registered_smiles = [],[]\n",
    "molregnos_already_registered = []\n",
    "for smi in smiles:\n",
    "    query = lwreg.query(config = config, smiles=smi)\n",
    "    if len(query) == 0:\n",
    "        smiles_to_register.append(smi)\n",
    "    else:\n",
    "        molregnos_already_registered.extend(query)\n",
    "        registered_smiles.append(smi)\n"
   ]
  },
  {
   "cell_type": "code",
   "execution_count": 16,
   "metadata": {},
   "outputs": [
    {
     "name": "stdout",
     "output_type": "stream",
     "text": [
      "1520 1902 1902\n"
     ]
    }
   ],
   "source": [
    "print(len(smiles_to_register),len(registered_smiles),len(molregnos_already_registered))"
   ]
  },
  {
   "cell_type": "markdown",
   "metadata": {},
   "source": [
    "Generating conformers for these molecules, using the exact same set-up as last time: confgen_uuid: 906589dd-76fa-4d7b-aa9f-1ee90abe3835, {\"randomSeed\": 61453, \"enforceChirality\": true, \"MMFF_minimization\": false}\n"
   ]
  },
  {
   "cell_type": "code",
   "execution_count": 24,
   "metadata": {},
   "outputs": [],
   "source": [
    "rdkit_version_906589dd = \"2023.03.3\"\n",
    "import rdkit\n",
    "rdkit_version_now = rdkit.__version__\n",
    "assert rdkit_version_906589dd == rdkit_version_now"
   ]
  },
  {
   "cell_type": "code",
   "execution_count": 27,
   "metadata": {},
   "outputs": [
    {
     "data": {
      "text/plain": [
       "'C=C(F)C(F)(F)F'"
      ]
     },
     "execution_count": 27,
     "metadata": {},
     "output_type": "execute_result"
    }
   ],
   "source": [
    "smiles_to_register[0]"
   ]
  },
  {
   "cell_type": "code",
   "execution_count": 46,
   "metadata": {},
   "outputs": [
    {
     "name": "stdout",
     "output_type": "stream",
     "text": [
      "registration failed for:  ClC1=C(Cl)[C@]2(Cl)[C@H]3[C@H]4C[C@H]([C@H]5O[C@@H]45)[C@@H]3[C@@]1(Cl)C2(Cl)Cl\n"
     ]
    },
    {
     "name": "stderr",
     "output_type": "stream",
     "text": [
      "[10:30:26] UFFTYPER: Unrecognized atom type: S_6+6 (6)\n",
      "[10:30:44] UFFTYPER: Unrecognized atom type: S_6+6 (5)\n",
      "[10:30:45] UFFTYPER: Unrecognized atom type: S_5+4 (7)\n",
      "[10:30:45] UFFTYPER: Unrecognized atom type: S_5+4 (4)\n",
      "[10:30:51] UFFTYPER: Unrecognized atom type: S_6+6 (6)\n",
      "[10:30:51] UFFTYPER: Unrecognized atom type: S_6+6 (17)\n",
      "[10:30:53] UFFTYPER: Unrecognized atom type: S_6+6 (4)\n",
      "[10:30:53] UFFTYPER: Unrecognized atom type: S_6+6 (11)\n",
      "[10:30:54] UFFTYPER: Unrecognized atom type: S_5+4 (7)\n",
      "[10:30:54] UFFTYPER: Unrecognized atom type: S_5+4 (10)\n",
      "[10:30:55] UFFTYPER: Unrecognized atom type: S_6+6 (3)\n",
      "[10:30:55] UFFTYPER: Unrecognized atom type: S_6+6 (11)\n",
      "[10:30:56] UFFTYPER: Unrecognized atom type: S_6+6 (9)\n",
      "[10:30:57] UFFTYPER: Unrecognized atom type: S_5+4 (5)\n",
      "[10:30:58] UFFTYPER: Unrecognized atom type: S_6+6 (1)\n",
      "[10:30:58] UFFTYPER: Unrecognized atom type: S_6+6 (7)\n",
      "[10:30:58] UFFTYPER: Unrecognized atom type: S_6+6 (13)\n",
      "[10:31:02] UFFTYPER: Unrecognized atom type: S_6+6 (6)\n",
      "[10:31:04] UFFTYPER: Unrecognized atom type: S_5+4 (9)\n",
      "[10:31:05] UFFTYPER: Unrecognized charge state for atom: 3\n",
      "[10:31:09] UFFTYPER: Unrecognized charge state for atom: 2\n",
      "[10:31:09] UFFTYPER: Unrecognized charge state for atom: 3\n",
      "[10:31:20] UFFTYPER: Unrecognized charge state for atom: 4\n"
     ]
    },
    {
     "name": "stdout",
     "output_type": "stream",
     "text": [
      "registration failed for:  CCC(C)C(C)(C)CC\n",
      "registration failed for:  ClC1(Cl)C2(Cl)C3(Cl)C4(Cl)C(Cl)(Cl)C5(Cl)C3(Cl)C1(Cl)C5(Cl)C24Cl\n",
      "registration failed for:  C#CCOS(=O)OC1CCCCC1Oc1ccc(C(C)(C)C)cc1\n",
      "registration failed for:  CCN(CC)C(=O)C(C)Oc1cccc2ccccc12\n",
      "registration failed for:  CCOP(=S)(OCC)SC(CCl)N1C(=O)c2ccccc2C1=O\n",
      "registration failed for:  CC(C)N(C(=O)SCC(Cl)=CCl)C(C)C\n",
      "registration failed for:  COP(N)(=O)SC\n",
      "registration failed for:  CCC(C)N\n",
      "registration failed for:  CC(Cl)C(C)Cl\n",
      "registration failed for:  COc1ccc(C(O)(c2cncnc2)C2CC2)cc1\n",
      "registration failed for:  CCCCOCC1CO1\n",
      "registration failed for:  CCCCCCC(C)S\n",
      "registration failed for:  C=CC1CC2C=CC1C2\n",
      "registration failed for:  CC1CCCC(C)(C)C1\n",
      "registration failed for:  CC(=O)Nc1ccc(N=Nc2cc(C)ccc2O)cc1\n",
      "registration failed for:  FC(Cl)C(F)(F)F\n",
      "registration failed for:  COC1CCC=CO1\n",
      "registration failed for:  CCN(CCO)c1ccc(N=Nc2ccc([N+](=O)[O-])cc2)cc1\n",
      "registration failed for:  CC(C#N)CCC#N\n",
      "registration failed for:  CC1CCC(C)C(C)C1C\n",
      "registration failed for:  O=C1c2ccccc2C(=O)C1C(=O)C(c1ccccc1)c1ccc(Cl)cc1\n",
      "registration failed for:  CCCCC(CC)CO[PH](=O)OCC(CC)CCCC\n",
      "registration failed for:  C[Si](C)(C)O[Si](O[Si](C)(C)C)(O[Si](C)(C)C)O[Si](C)(C)C\n",
      "registration failed for:  CCC(C)c1ccc(O)c([N+](=O)[O-])c1\n",
      "registration failed for:  C=C(C)C(C)CC\n",
      "registration failed for:  CCC(C)c1ccccc1OC(=O)NC\n",
      "registration failed for:  CCCCC(C)Br\n",
      "registration failed for:  C=CC(C)CCC\n",
      "registration failed for:  C=CCC(C)CC\n",
      "registration failed for:  CCN(CC)c1ccc(N=Nc2ccccc2)cc1\n",
      "registration failed for:  CC(CO[N+](=O)[O-])O[N+](=O)[O-]\n",
      "registration failed for:  CN(C)c1ccc(N=Nc2ccc([N+](=O)[O-])cc2)cc1\n",
      "registration failed for:  CCC(C)OC(C)CC\n",
      "registration failed for:  Cc1cc(Cl)ccc1N=CN(C)C\n",
      "registration failed for:  CCCCCCCCCCCCNC(=N)N\n",
      "registration failed for:  CC(Br)C(C)Br\n",
      "registration failed for:  CC(CC=O)CC(C)(C)C\n",
      "registration failed for:  CCOC(=O)C(SP(=S)(OC)OC)c1ccccc1\n",
      "registration failed for:  COCC(C)N(C(=O)CCl)c1c(C)csc1C\n",
      "registration failed for:  Clc1ccc(CSC(Cn2cncn2)=Nc2ccc(Cl)cc2Cl)cc1\n",
      "registration failed for:  CCN(C(=O)SCc1ccccc1)C(C)C(C)C\n",
      "registration failed for:  CC(C)(C)C(O)C(=Cc1ccc(Cl)cc1Cl)n1cncn1\n",
      "registration failed for:  CON=C(Cc1cccnc1)c1ccc(Cl)cc1Cl\n",
      "registration failed for:  CC(C)=NOCCOC(=O)C(C)Oc1ccc(Oc2cnc3cc(Cl)ccc3n2)cc1\n",
      "registration failed for:  COc1ccc(C(=CC(=O)N2CCOCC2)c2ccc(Cl)cc2)cc1OC\n",
      "registration failed for:  C#CCOC(=O)C(C)Oc1ccc(Oc2ncc(Cl)cc2F)cc1\n",
      "registration failed for:  CCCCCC(C)OC(=O)COc1ccc(Cl)c2cccnc12\n",
      "registration failed for:  CCOP(=O)(SC(C)CC)N1CCSC1=O\n",
      "registration failed for:  CCOP(=O)(SC(C)CC)SC(C)CC\n",
      "registration failed for:  C#CCN1CC(=O)N(COC(=O)C2C(C=C(C)C)C2(C)C)C1=O\n",
      "registration failed for:  CCCC(Cn1cncn1)c1ccc(Cl)cc1Cl\n",
      "registration failed for:  CCC1OCC(COc2ccc(Oc3ccccc3)cc2)O1\n",
      "registration failed for:  O=C1C(Cl)C(CCl)CN1c1cccc(C(F)(F)F)c1\n",
      "registration failed for:  CCCC1COC(Cn2cncn2)(c2ccc(Cl)cc2Cl)O1\n",
      "registration failed for:  CC(C)OC(=O)C(C)N(C(=O)c1ccccc1)c1ccc(F)c(Cl)c1\n",
      "registration failed for:  CC1(C)C(C(=O)OC(C#N)c2cccc(Oc3ccccc3)c2)C1C(Br)C(Br)(Br)Br\n",
      "registration failed for:  CCOC(=O)C1(C)OC(=O)N(c2cc(Cl)cc(Cl)c2)C1=O\n",
      "registration failed for:  COC(=O)C(C)N(C(=O)Cc1ccccc1)c1c(C)cccc1C\n",
      "registration failed for:  CCOC(=O)C(C)Oc1ccc(Oc2nc3ccc(Cl)cc3o2)cc1\n",
      "registration failed for:  CC(C)C(C(=O)OC(C#N)c1cccc(Oc2ccccc2)c1)c1ccc(OC(F)F)cc1\n",
      "registration failed for:  COC(=O)C(C)Oc1ccc(Oc2ncc(C(F)(F)F)cc2Cl)cc1\n",
      "registration failed for:  CC(C)N1C(=O)N(c2ccccc2)CSC1=NC(C)(C)C\n",
      "registration failed for:  CC(Cc1ccc(C(C)(C)C)cc1)CN1CCCCC1\n",
      "registration failed for:  Clc1ccc(C2(Cn3cncn3)CC(Br)CO2)c(Cl)c1\n",
      "registration failed for:  COC(=O)CSc1cc(N=c2sc(=O)n3n2CCCC3)c(F)cc1Cl\n",
      "registration failed for:  CC(C)C=CC(C)C\n",
      "registration failed for:  CCC(C)C1CCCCC1\n",
      "registration failed for:  CCC(C)OC\n",
      "registration failed for:  CCCCC(O)C(=O)O\n",
      "registration failed for:  CC(O)C(O)CO\n",
      "registration failed for:  Clc1ccc(N=Nc2ccccc2)cc1\n",
      "registration failed for:  CCC1CCC(C)C1\n",
      "registration failed for:  C1=CCC2CC2C1\n",
      "registration failed for:  O=[N+]([O-])c1ccc(N=Nc2ccccc2)cc1\n",
      "registration failed for:  CC(=Cc1ccccc1)C(=O)O\n",
      "registration failed for:  CC(C)CC(C)C(C)C\n",
      "registration failed for:  C=CC(C)CC\n",
      "registration failed for:  CC(C)CCC(C)O\n",
      "registration failed for:  CC(=O)C(C)CO\n",
      "registration failed for:  CCCC(C)C(C)(C)C\n",
      "registration failed for:  CCC(C)CC(C)(C)C\n",
      "registration failed for:  CC(C)C(C)CC(C)(C)C\n",
      "registration failed for:  Cc1cc(N)ccc1N=Nc1ccc([N+](=O)[O-])cc1\n",
      "registration failed for:  COCC(F)(F)C(F)C(F)(F)F\n",
      "registration failed for:  CCC=CC(C)C\n",
      "registration failed for:  CC=C(C)C(C)C\n",
      "registration failed for:  CNC(=O)ON=C(SC)C(=O)N(C)C\n",
      "registration failed for:  CC(Cl)Br\n",
      "registration failed for:  C=CC=CCC\n",
      "registration failed for:  CCC(Nc1ncnc(C)c1Cl)c1ccc(OC(F)F)cc1\n",
      "registration failed for:  CCOC(=O)C(Cl)Cc1cc(-n2nc(C)n(C(F)F)c2=O)c(F)cc1Cl\n",
      "registration failed for:  CC(C)C1CCC(Cc2ccc(Cl)cc2)C1(O)Cn1cncn1\n"
     ]
    },
    {
     "name": "stderr",
     "output_type": "stream",
     "text": [
      "[10:31:42] UFFTYPER: Unrecognized charge state for atom: 20\n"
     ]
    },
    {
     "name": "stdout",
     "output_type": "stream",
     "text": [
      "registration failed for:  CC(Oc1ccc(Oc2cnc3cc(Cl)ccc3n2)cc1)C(=O)OCC1CCCO1\n",
      "registration failed for:  CC1COC(Cn2cncn2)(c2ccc(Oc3ccc(Cl)cc3)cc2Cl)O1\n",
      "registration failed for:  CCCN(CC)CC1COC2(CCC(C(C)(C)C)CC2)O1\n",
      "registration failed for:  OC(c1ccc(Cl)cc1)(c1cncnc1)c1ccccc1Cl\n",
      "registration failed for:  CCC1(CC2(c3cccc(Cl)c3)CO2)C(=O)c2ccccc2C1=O\n",
      "registration failed for:  C1CCC2CC2C1\n",
      "registration failed for:  C1CC2CC12\n",
      "registration failed for:  CCOc1cc(C(C)(C)C)ccc1C1COC(c2c(F)cccc2F)=N1\n",
      "registration failed for:  CON=C(C)c1cccc(Oc2nc(OC)cc(OC)n2)c1C(=O)OC\n",
      "registration failed for:  CC12CC1(C)C(=O)N(c1cc(Cl)cc(Cl)c1)C2=O\n",
      "registration failed for:  CCON=C(OC(=O)c1ccccc1)c1c(OC)ccc(Cl)c1OC\n",
      "registration failed for:  CCCSP(=S)(OCC)Oc1ccc(SC)cc1\n",
      "registration failed for:  CCC(C)Nc1c([N+](=O)[O-])cc(C(C)(C)C)cc1[N+](=O)[O-]\n",
      "registration failed for:  O=CNC(N1CCN(C(NC=O)C(Cl)(Cl)Cl)CC1)C(Cl)(Cl)Cl\n",
      "registration failed for:  COCC(C)OCC(C)OCC(C)O\n",
      "registration failed for:  CC=C(C)CCC\n",
      "registration failed for:  CCC(C#N)CC#N\n",
      "registration failed for:  CCC(C)OC(=O)Cl\n",
      "registration failed for:  CCOP(=O)(NC(C)C)Oc1ccc(SC)c(C)c1\n",
      "registration failed for:  CCOC1Oc2ccc(OS(C)(=O)=O)cc2C1(C)C\n",
      "registration failed for:  CCCCC(CC)COC(=O)Cl\n",
      "registration failed for:  COP(=O)(OC)OC1=C(Cl)C2C=CCC12\n",
      "registration failed for:  CC(C)COCC(C)O\n",
      "registration failed for:  CNC(=O)Oc1cccc(N=CN(C)C)c1\n",
      "registration failed for:  CC1(C)C(C=C(Br)Br)C1C(=O)OC(C#N)c1cccc(Oc2ccccc2)c1\n",
      "registration failed for:  CC1(C)C(C=C(Cl)Cl)C1C(=O)OCc1cccc(Oc2ccccc2)c1\n",
      "registration failed for:  CC(C)C(C(=O)OC(C#N)c1cccc(Oc2ccccc2)c1)c1ccc(Cl)cc1\n",
      "registration failed for:  COC(=O)C(C)Oc1ccc(Oc2ccc(Cl)cc2Cl)cc1\n",
      "registration failed for:  CCc1cccc(C)c1N(C(=O)CCl)C(C)COC\n",
      "registration failed for:  CCOP(C)(=O)SCCN(C(C)C)C(C)C\n",
      "registration failed for:  CC(C)C(O)(c1ccc(OC(F)(F)F)cc1)c1cncnc1\n",
      "registration failed for:  CNC(=O)ON=C(CSC)C(C)(C)C\n",
      "registration failed for:  CC(C)(C)C(=O)C(Oc1ccc(Cl)cc1)n1cncn1\n",
      "registration failed for:  CCCSP(=O)(OCC)Oc1ccc(Br)cc1Cl\n",
      "registration failed for:  COP(=O)(OC)OC(=CCl)c1ccc(Cl)cc1Cl\n",
      "registration failed for:  CC(O)C(=O)O\n",
      "registration failed for:  CCCC(C)Br\n",
      "registration failed for:  CC(O)CCO\n",
      "registration failed for:  CC(C)CC(C)O\n",
      "registration failed for:  CC(C)OP(C)(=O)F\n",
      "registration failed for:  CC(O)CC(C)(C)O\n",
      "registration failed for:  CC1COC(=O)O1\n",
      "registration failed for:  CC1CCCCN1\n",
      "registration failed for:  COCC(C)OC(C)=O\n",
      "registration failed for:  CCC1CO1\n",
      "registration failed for:  CC(O)CNC1CCCCC1\n",
      "registration failed for:  CCCCC(CC)COC(C)=O\n",
      "registration failed for:  C=CC(=O)OCC(CC)CCCC\n",
      "registration failed for:  C(=Cc1ccccc1)c1ccccc1\n",
      "registration failed for:  c1ccc(N=Nc2ccccc2)cc1\n",
      "registration failed for:  CCOC(=O)C=Cc1ccccc1\n",
      "registration failed for:  O=C(C=Cc1ccccc1)OCc1ccccc1\n",
      "registration failed for:  CC1(C)OCC(CO)O1\n",
      "registration failed for:  CC(C=O)=Cc1ccccc1\n",
      "registration failed for:  CC=Cc1ccc(OC)cc1\n",
      "registration failed for:  CCCCOC(=O)C=CC(=O)OCCCC\n",
      "registration failed for:  CC1CNC(C)CN1\n",
      "registration failed for:  CCC(CO)CC(C)C\n",
      "registration failed for:  OCC=Cc1ccccc1\n",
      "registration failed for:  O=CC=Cc1ccccc1\n",
      "registration failed for:  CCCCC(CC)CN\n",
      "registration failed for:  CCC1CCC(C)NC1\n",
      "registration failed for:  OCC1CCC(CO)CC1\n",
      "registration failed for:  CCCC(C)CO\n"
     ]
    },
    {
     "name": "stderr",
     "output_type": "stream",
     "text": [
      "[10:31:55] UFFTYPER: Unrecognized charge state for atom: 13\n"
     ]
    },
    {
     "name": "stdout",
     "output_type": "stream",
     "text": [
      "registration failed for:  CNC(=O)ON=CC(C)(C)SC\n",
      "registration failed for:  CCC(C)C(=O)O\n",
      "registration failed for:  CCCCCCCCC=CCCCCCCCC(=O)OC\n",
      "registration failed for:  CCCCC(CC)CN1C(=O)C2C3C=CC(C3)C2C1=O\n",
      "registration failed for:  O=C(c1ccccc1)C(O)c1ccccc1\n",
      "registration failed for:  c1ccc(OCC2CO2)cc1\n",
      "registration failed for:  CC(=O)C=Cc1ccccc1\n",
      "registration failed for:  CC1OC(C)OC(C)O1\n",
      "registration failed for:  CCOC(=O)CC(SP(=S)(OC)OC)C(=O)OCC\n",
      "registration failed for:  CC(O)CNCC(C)O\n",
      "registration failed for:  CC=CCCCCC\n",
      "registration failed for:  CC1CN1\n",
      "registration failed for:  CC1CO1\n",
      "registration failed for:  CC(N)CN\n",
      "registration failed for:  CC(O)CN\n",
      "registration failed for:  CC(O)C#N\n",
      "registration failed for:  C1=CC2C3C=CC(C3)C2C1\n",
      "registration failed for:  CCOP(=O)(C#N)N(C)C\n",
      "registration failed for:  C=CC(C)(O)CCC=C(C)C\n",
      "registration failed for:  CC(Br)CBr\n",
      "registration failed for:  CCC(C)Br\n",
      "registration failed for:  CCCCC(CC)COP(=O)(OCC(CC)CCCC)OCC(CC)CCCC\n",
      "registration failed for:  OCC(S)CS\n",
      "registration failed for:  NC(CCC(=O)O)C(=O)O\n"
     ]
    },
    {
     "name": "stderr",
     "output_type": "stream",
     "text": [
      "[10:32:06] UFFTYPER: Unrecognized charge state for atom: 1\n"
     ]
    },
    {
     "name": "stdout",
     "output_type": "stream",
     "text": [
      "registration failed for:  CC1CCCO1\n",
      "registration failed for:  CC(OP(C)(=O)F)C(C)(C)C\n",
      "registration failed for:  CC=Cc1ccc(O)c(OC)c1\n",
      "registration failed for:  CCOC(=O)C(C)O\n",
      "registration failed for:  OCC(Br)CBr\n",
      "registration failed for:  CC1CCC(C(C)C)CC1\n",
      "registration failed for:  CC1=CCC(C(C)C)C=C1\n",
      "registration failed for:  CCC(C)c1ccc(O)cc1\n",
      "registration failed for:  C=CC1CC=CCC1\n",
      "registration failed for:  CCCC(O)C(CC)CO\n",
      "registration failed for:  OCC1CCCO1\n",
      "registration failed for:  C=C1C2CCC(C2)C1(C)C\n",
      "registration failed for:  CC=C(C)C(=O)O\n",
      "registration failed for:  BrCC(Br)c1ccccc1\n",
      "registration failed for:  CC(C=O)c1ccccc1\n",
      "registration failed for:  CC(C)=C1CCC(C)CC1=O\n",
      "registration failed for:  CCCCCCCC(C)O\n",
      "registration failed for:  CCCCC(C)O\n",
      "registration failed for:  O=C(Cl)C=CC(=O)Cl\n",
      "registration failed for:  CCCCCCC(C)Cl\n",
      "registration failed for:  CCCC(C)I\n",
      "registration failed for:  CCCCC(C)Cl\n",
      "registration failed for:  CC(Cl)c1ccccc1\n",
      "registration failed for:  C=CC(Cl)CCl\n",
      "registration failed for:  CCCC(C)(O)CC\n",
      "registration failed for:  CC(C)C(C)O\n",
      "registration failed for:  CC(Cl)C(Cl)Cl\n",
      "registration failed for:  FC(Cl)=C(F)Cl\n",
      "registration failed for:  CCC(C)[N+](=O)[O-]\n",
      "registration failed for:  CCC=CCC\n",
      "registration failed for:  CC=CCCCC\n",
      "registration failed for:  CCCC=CCCC\n",
      "registration failed for:  CCCC(O)CC\n",
      "registration failed for:  CCCC(C)Cl\n",
      "registration failed for:  CCCC(O)C(C)C\n",
      "registration failed for:  CCC(Cl)CCl\n",
      "registration failed for:  CC1(C)C2CC3OC3(C)C1C2\n",
      "registration failed for:  CC(O)COCc1c(Cl)ccc(Cl)c1Cl\n",
      "registration failed for:  CCC(C)CS\n"
     ]
    },
    {
     "name": "stderr",
     "output_type": "stream",
     "text": [
      "[10:32:17] UFFTYPER: Unrecognized charge state for atom: 10\n"
     ]
    },
    {
     "name": "stdout",
     "output_type": "stream",
     "text": [
      "registration failed for:  CNC(=O)ON=CC(C)(C)S(C)(=O)=O\n",
      "registration failed for:  CCCCCCCCCC(C)O\n",
      "registration failed for:  CCC(C)CCCC(C)C\n",
      "registration failed for:  CCOP(=S)(Oc1ccc([N+](=O)[O-])cc1)c1ccccc1\n",
      "registration failed for:  CCCCCC(C)CC\n",
      "registration failed for:  CCCCC(C)CCC\n"
     ]
    },
    {
     "name": "stderr",
     "output_type": "stream",
     "text": [
      "[10:32:18] UFFTYPER: Unrecognized charge state for atom: 1\n"
     ]
    },
    {
     "name": "stdout",
     "output_type": "stream",
     "text": [
      "registration failed for:  CCCCC(CC)COC(=O)COc1cc(Cl)c(Cl)cc1Cl\n",
      "registration failed for:  CCCCCC(C)Br\n",
      "registration failed for:  CC1CCCCC1NC(=O)Nc1ccccc1\n",
      "registration failed for:  CCC(C)C(C)C(C)C\n",
      "registration failed for:  Clc1ccc(C(c2ccccc2Cl)C(Cl)(Cl)Cl)cc1\n",
      "registration failed for:  CCOP(=S)(CC)Sc1ccccc1\n",
      "registration failed for:  N#CCC=CCC#N\n",
      "registration failed for:  CC(CO)c1ccccc1\n",
      "registration failed for:  CC(C)C(C)C(C)(C)C\n",
      "registration failed for:  CC12CCC(C1)C(C)(C)C2=O\n",
      "registration failed for:  CC1COCc2cc3c(cc21)C(C)(C)C(C)C3(C)C\n",
      "registration failed for:  CCCCC(CC)COP(=O)(Oc1ccccc1)Oc1ccccc1\n",
      "registration failed for:  OC1CCCCC1c1ccccc1\n",
      "registration failed for:  O=S1(=O)OCC2C(CO1)C1(Cl)C(Cl)=C(Cl)C2(Cl)C1(Cl)Cl\n",
      "registration failed for:  CC1C=CCCC1\n",
      "registration failed for:  CCOP(=S)(CC)Oc1cc(Cl)c(Cl)cc1Cl\n",
      "registration failed for:  CP(=O)(F)OC1CCCCC1\n",
      "registration failed for:  ClC1=C(Cl)C2(Cl)C3C(Cl)OC(Cl)C3C1(Cl)C2(Cl)Cl\n",
      "registration failed for:  FC(Cl)C(F)(F)Cl\n",
      "registration failed for:  FC(=C(F)C(F)(F)F)C(F)(F)F\n",
      "registration failed for:  CC(O)C(F)(F)F\n",
      "registration failed for:  O=C1C2CC=CCC2C(=O)N1SC(Cl)(Cl)Cl\n",
      "registration failed for:  CCC(C)CO\n",
      "registration failed for:  CC(=O)C=CC1C(C)=CCCC1(C)C\n",
      "registration failed for:  O=P(OCC(Br)CBr)(OCC(Br)CBr)OCC(Br)CBr\n",
      "registration failed for:  O=C1C2(Cl)C3(Cl)C4(Cl)C(Cl)(Cl)C5(Cl)C3(Cl)C1(Cl)C5(Cl)C24Cl\n",
      "registration failed for:  CC(C)C(O)C(C)(C)CO\n",
      "registration failed for:  FC(F)(F)C(Cl)Br\n",
      "registration failed for:  CCCCCCC(C)I\n",
      "registration failed for:  CCC(C)C(C)(C)C\n",
      "registration failed for:  CCC(C)C(C)C\n",
      "registration failed for:  CCC(C)C(C)=O\n",
      "registration failed for:  C=C1C=CC(C(C)C)CC1\n",
      "registration failed for:  CCC(C)CC(C)C\n",
      "registration failed for:  CCCCC(O)CCC\n",
      "registration failed for:  CCCCC(C)CC\n",
      "registration failed for:  CCCCCC(O)CC\n",
      "registration failed for:  CCCC(C)CC\n",
      "registration failed for:  CC1CCCC(O)C1\n",
      "registration failed for:  CC1CCCC(=O)C1\n",
      "registration failed for:  CCC(C)C(C)CC\n",
      "registration failed for:  CCC(O)CO\n",
      "registration failed for:  CCCC(C)C(C)C\n",
      "registration failed for:  CCCCCC(C)O\n",
      "registration failed for:  CC1(C)C2CCC1(C)C(O)C2\n",
      "registration failed for:  CCC(C)I\n",
      "registration failed for:  CCC(C)S\n",
      "registration failed for:  CC(=O)C1C(=O)C=C(C)OC1=O\n",
      "registration failed for:  CC(C)C12CCC(C)(CC1)O2\n",
      "registration failed for:  CC12CCC(CC1)C(C)(C)O2\n",
      "registration failed for:  CCOP(=O)(OCC)OC(=CCl)c1ccc(Cl)cc1Cl\n",
      "registration failed for:  C1=CC2CCC1C2\n",
      "registration failed for:  ClC=CCl\n",
      "registration failed for:  BrC=CBr\n",
      "registration failed for:  CCC(Br)CBr\n",
      "registration failed for:  CCOC(=O)C(C)Cl\n"
     ]
    }
   ],
   "source": [
    "#use exact same settings as last time:\n",
    "#lets register the others\n",
    "from rdkit.Chem import rdmolops\n",
    "from rdkit.Chem import AllChem\n",
    "from rdkit import Chem\n",
    "registered_mols = []\n",
    "new_molregnos = []\n",
    "for smi in smiles_to_register:\n",
    "    try:\n",
    "        mol = Chem.AddHs(Chem.MolFromSmiles(smi, sanitize=True))\n",
    "    except:\n",
    "        print('failed for: ',smi)\n",
    "        break\n",
    "    AllChem.EmbedMolecule(mol, enforceChirality=True, randomSeed=0xf00d)\n",
    "    rdmolops.AssignStereochemistryFrom3D(mol)\n",
    "    used_smiles = Chem.MolToSmiles(mol, isomericSmiles=True)\n",
    "    mol.SetProp(\"_Name\", used_smiles)\n",
    "    mol.UpdatePropertyCache(strict=False)\n",
    "    #register mol\n",
    "    try:\n",
    "        reg = lwreg.register(config=config,mol=mol)\n",
    "        new_molregno = reg[0]\n",
    "        new_molregnos.append(new_molregno)\n",
    "        registered_mols.append(mol)\n",
    "    except:\n",
    "        print('registration failed for: ',smi)\n",
    "        continue"
   ]
  },
  {
   "cell_type": "code",
   "execution_count": 48,
   "metadata": {},
   "outputs": [
    {
     "name": "stderr",
     "output_type": "stream",
     "text": [
      "[10:33:12] UFFTYPER: Unrecognized atom type: S_6+6 (6)\n",
      "[10:33:19] UFFTYPER: Unrecognized atom type: S_6+6 (5)\n",
      "[10:33:19] UFFTYPER: Unrecognized atom type: S_5+4 (7)\n",
      "[10:33:19] UFFTYPER: Unrecognized atom type: S_5+4 (4)\n",
      "[10:33:19] UFFTYPER: Unrecognized atom type: S_6+6 (6)\n",
      "[10:33:19] UFFTYPER: Unrecognized atom type: S_6+6 (17)\n",
      "[10:33:19] UFFTYPER: Unrecognized atom type: S_6+6 (4)\n",
      "[10:33:19] UFFTYPER: Unrecognized atom type: S_6+6 (11)\n",
      "[10:33:20] UFFTYPER: Unrecognized atom type: S_5+4 (7)\n",
      "[10:33:20] UFFTYPER: Unrecognized atom type: S_5+4 (10)\n",
      "[10:33:20] UFFTYPER: Unrecognized atom type: S_6+6 (3)\n",
      "[10:33:20] UFFTYPER: Unrecognized atom type: S_6+6 (11)\n",
      "[10:33:20] UFFTYPER: Unrecognized atom type: S_6+6 (9)\n",
      "[10:33:20] UFFTYPER: Unrecognized atom type: S_5+4 (5)\n",
      "[10:33:20] UFFTYPER: Unrecognized atom type: S_6+6 (1)\n",
      "[10:33:20] UFFTYPER: Unrecognized atom type: S_6+6 (7)\n",
      "[10:33:20] UFFTYPER: Unrecognized atom type: S_6+6 (13)\n",
      "[10:33:20] UFFTYPER: Unrecognized atom type: S_6+6 (6)\n",
      "[10:33:20] UFFTYPER: Unrecognized atom type: S_5+4 (9)\n",
      "[10:33:20] UFFTYPER: Unrecognized charge state for atom: 3\n",
      "[10:33:20] UFFTYPER: Unrecognized charge state for atom: 2\n",
      "[10:33:20] UFFTYPER: Unrecognized charge state for atom: 3\n",
      "[10:33:21] UFFTYPER: Unrecognized charge state for atom: 4\n",
      "[10:33:23] UFFTYPER: Unrecognized charge state for atom: 20\n",
      "[10:33:24] UFFTYPER: Unrecognized charge state for atom: 13\n",
      "[10:33:25] UFFTYPER: Unrecognized charge state for atom: 1\n",
      "[10:33:26] UFFTYPER: Unrecognized charge state for atom: 10\n",
      "[10:33:26] UFFTYPER: Unrecognized charge state for atom: 1\n"
     ]
    }
   ],
   "source": [
    "mols_3d = []\n",
    "for smi in smiles_to_register:\n",
    "    try:\n",
    "        mol = Chem.AddHs(Chem.MolFromSmiles(smi, sanitize=True))\n",
    "    except:\n",
    "        print('failed for: ',smi)\n",
    "        break\n",
    "    AllChem.EmbedMolecule(mol, enforceChirality=True, randomSeed=0xf00d)\n",
    "    rdmolops.AssignStereochemistryFrom3D(mol)\n",
    "    used_smiles = Chem.MolToSmiles(mol, isomericSmiles=True)\n",
    "    mol.SetProp(\"_Name\", used_smiles)\n",
    "    mol.UpdatePropertyCache(strict=False)\n",
    "    mols_3d.append(mol)"
   ]
  },
  {
   "cell_type": "code",
   "execution_count": 50,
   "metadata": {},
   "outputs": [
    {
     "name": "stdout",
     "output_type": "stream",
     "text": [
      "not found in database:  [H]C1([H])[C@@]2([H])[C@]3([H])O[C@]3([H])[C@]1([H])[C@@]1([H])[C@@]2([H])[C@@]2(Cl)C(Cl)=C(Cl)[C@]1(Cl)C2(Cl)Cl\n",
      "1\n",
      "not found in database:  [H]C([H])([H])[Si](O[Si](O[Si](C([H])([H])[H])(C([H])([H])[H])C([H])([H])[H])(O[Si](C([H])([H])[H])(C([H])([H])[H])C([H])([H])[H])O[Si](C([H])([H])[H])(C([H])([H])[H])C([H])([H])[H])(C([H])([H])[H])C([H])([H])[H]\n",
      "2\n"
     ]
    }
   ],
   "source": [
    "#query these mols\n",
    "not_found_counter = 0\n",
    "not_found_mols = []\n",
    "for m in mols_3d:\n",
    "    query = lwreg.query(config = config, mol=m)\n",
    "    if len(query) == 0:\n",
    "        print('not found in database: ',Chem.MolToSmiles(m))\n",
    "        not_found_counter += 1\n",
    "        not_found_mols.append(m)\n",
    "        print(not_found_counter)\n",
    "    else:\n",
    "        continue"
   ]
  },
  {
   "cell_type": "code",
   "execution_count": 47,
   "metadata": {},
   "outputs": [
    {
     "data": {
      "image/png": "[encoded data removed]",
      "text/plain": [
       "<rdkit.Chem.rdchem.Mol at 0x7f66fe536030>"
      ]
     },
     "execution_count": 47,
     "metadata": {},
     "output_type": "execute_result"
    }
   ],
   "source": [
    "Chem.MolFromSmiles('ClC1=C(Cl)[C@]2(Cl)[C@H]3[C@H]4C[C@H]([C@H]5O[C@@H]45)[C@@H]3[C@@]1(Cl)C2(Cl)Cl', sanitize=True)"
   ]
  }
 ],
 "metadata": {
  "kernelspec": {
   "display_name": "mdfp_carl",
   "language": "python",
   "name": "python3"
  },
  "language_info": {
   "codemirror_mode": {
    "name": "ipython",
    "version": 3
   },
   "file_extension": ".py",
   "mimetype": "text/x-python",
   "name": "python",
   "nbconvert_exporter": "python",
   "pygments_lexer": "ipython3",
   "version": "3.11.5"
  }
 },
 "nbformat": 4,
 "nbformat_minor": 2
}
