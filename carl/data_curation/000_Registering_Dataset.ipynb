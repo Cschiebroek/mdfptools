{
 "cells": [
  {
   "cell_type": "markdown",
   "metadata": {},
   "source": [
    "# This script will describe the creation of the first dataset"
   ]
  },
  {
   "cell_type": "code",
   "execution_count": 1,
   "metadata": {},
   "outputs": [
    {
     "name": "stdout",
     "output_type": "stream",
     "text": [
      "Original amount of datapoints:  4436\n",
      "Temperature\n",
      "298.15    3098\n",
      "293.15    1338\n",
      "Name: count, dtype: int64\n",
      "Amount of datapoints with temperature 298.15K:  3098\n"
     ]
    }
   ],
   "source": [
    "import pandas as pd\n",
    "from rdkit import Chem\n",
    "#The starting point is this dataframe found on the harddrive of ShuZe Wang, who started the project\n",
    "df_original = pd.read_csv('/localhome/cschiebroek/ShuZe/vp/data cleaning/cleaned_vp_all.tsv', sep='\\t')\n",
    "#This dataframe can still be found on the harddrive, as well as on Euler in Shuze's work directory\n",
    "print(\"Original amount of datapoints: \", len(df_original))\n",
    "print(df_original['Temperature'].value_counts())   \n",
    "#As we see. this dataframe has 4436 datapoints, most of which (3098) have a temperature of 298.15K\n",
    "df_original_298 = df_original[df_original['Temperature'] == 298.15] \n",
    "print(\"Amount of datapoints with temperature 298.15K: \", len(df_original_298))"
   ]
  },
  {
   "cell_type": "code",
   "execution_count": 2,
   "metadata": {},
   "outputs": [],
   "source": [
    "all_smiles = df_original_298['SMILES'].tolist()\n",
    "all_mols = [Chem.MolFromSmiles(smile) for smile in all_smiles]\n",
    "all_matches_lol = []\n",
    "all_matches_smiles_lol = []\n",
    "for mol1 in all_mols:\n",
    "    matches = []\n",
    "    matches_smiles = []\n",
    "    for mol2,smile in zip(all_mols,all_smiles):\n",
    "        if mol1.HasSubstructMatch(mol2):\n",
    "            if mol1.GetNumAtoms() == mol2.GetNumAtoms():\n",
    "                if mol2.HasSubstructMatch(mol1):\n",
    "                    matches.append(mol2)\n",
    "                    matches_smiles.append(smile)\n",
    "\n",
    "    all_matches_lol.append(matches)\n",
    "    all_matches_smiles_lol.append(matches_smiles)"
   ]
  },
  {
   "cell_type": "code",
   "execution_count": 24,
   "metadata": {},
   "outputs": [
    {
     "name": "stdout",
     "output_type": "stream",
     "text": [
      "39\n"
     ]
    }
   ],
   "source": [
    "#for each pair of smiles, check if the vp values are within 0.1 of each other\n",
    "smiles_with_duplicates = [sublist for sublist in all_matches_smiles_lol if len(sublist) > 1]\n",
    "duplicates_with_different_vp = []\n",
    "for smiles in smiles_with_duplicates:\n",
    "    vps = df_original_298[df_original_298['SMILES'].isin(smiles)]['Vapour Pressure (log10 kPa)'].tolist()\n",
    "    if max(vps) - min(vps) > 0.1:\n",
    "        duplicates_with_different_vp.append(smiles)\n",
    "print(len(duplicates_with_different_vp))"
   ]
  },
  {
   "cell_type": "code",
   "execution_count": 25,
   "metadata": {},
   "outputs": [
    {
     "name": "stdout",
     "output_type": "stream",
     "text": [
      "39 duplicate smiles with different vp values\n",
      "Datapoints without contradicting VP values: 3059\n"
     ]
    }
   ],
   "source": [
    "#we drop all these\n",
    "duplicate_smiles_with_different_vp_vals = [item for sublist in duplicates_with_different_vp for item in sublist]\n",
    "print(f'{len(set(duplicate_smiles_with_different_vp_vals))} duplicate smiles with different vp values')\n",
    "df_original_298_dup_dropped = df_original_298[~df_original_298['SMILES'].isin(duplicate_smiles_with_different_vp_vals)]\n",
    "print(f'Datapoints without contradicting VP values: {len(df_original_298_dup_dropped)}')\n",
    "#save both the dropped points and the new dataframe\n",
    "df_diff_vals =df_original_298[df_original_298['SMILES'].isin(duplicate_smiles_with_different_vp_vals)]\n",
    "df_diff_vals.to_csv('/localhome/cschiebroek/MDFPs/mdfptools/carl/data/experimental_data_cleaning/duplicates_with_different_vp_vals.tsv', sep='\\t', index=False)\n",
    "df_original_298_dup_dropped.to_csv('/localhome/cschiebroek/MDFPs/mdfptools/carl/data/experimental_data_cleaning/VP_data_no_duplicates.tsv', sep='\\t', index=False)"
   ]
  },
  {
   "cell_type": "code",
   "execution_count": 26,
   "metadata": {},
   "outputs": [
    {
     "name": "stdout",
     "output_type": "stream",
     "text": [
      "3059\n",
      "3066\n",
      "19\n",
      "26\n"
     ]
    }
   ],
   "source": [
    "#check differences between df_original_298_dup_dropped and df_cleaned\n",
    "old_working_set = pd.read_csv('/localhome/cschiebroek/MDFPs/mdfptools/carl/data/experimental_data_shuze/cleaned_vp_all_298_no_dups.tsv', sep='\\t')\n",
    "#first check how many points are only in df_original_298_dup_dropped\n",
    "df_original_298_dup_dropped_smiles = df_original_298_dup_dropped['SMILES'].tolist()\n",
    "df_cleaned_smiles = old_working_set['SMILES'].tolist()\n",
    "print(len(df_original_298_dup_dropped_smiles))\n",
    "print(len(df_cleaned_smiles))\n",
    "print(len(set(df_original_298_dup_dropped_smiles) - set(df_cleaned_smiles)))\n",
    "print(len(set(df_cleaned_smiles) - set(df_original_298_dup_dropped_smiles)))\n",
    "not_dropped_not_in_cleaned_smiles = list(set(df_original_298_dup_dropped_smiles) - set(df_cleaned_smiles))"
   ]
  },
  {
   "cell_type": "markdown",
   "metadata": {},
   "source": [
    "As we see, there are some mols that we have in our new dataset that are not in our old one and vice versa. "
   ]
  },
  {
   "cell_type": "code",
   "execution_count": 27,
   "metadata": {},
   "outputs": [
    {
     "name": "stdout",
     "output_type": "stream",
     "text": [
      "Duplicates with VP vals within 0.1: 17 out of19\n"
     ]
    }
   ],
   "source": [
    "#maybe we have some that do have duplicates, but we only registered one. \n",
    "from rdkit.Chem import Draw\n",
    "smiles_with_duplicates_with_same_vals = []\n",
    "for smile in not_dropped_not_in_cleaned_smiles:\n",
    "    for sets in smiles_with_duplicates:\n",
    "        if smile in sets:\n",
    "            smiles_with_duplicates_with_same_vals.append(smile)\n",
    "not_dropped_not_in_cleaned_smiles_no_sameval_dup = list(set(not_dropped_not_in_cleaned_smiles) - set(smiles_with_duplicates_with_same_vals))\n",
    "print(f'Duplicates with VP vals within 0.1: {len(set(smiles_with_duplicates_with_same_vals))} out of{len(not_dropped_not_in_cleaned_smiles)}')"
   ]
  },
  {
   "cell_type": "code",
   "execution_count": 28,
   "metadata": {},
   "outputs": [],
   "source": [
    "#make a df with smiles_with_duplicates_with_same_vals, and another df where these are dropped\n",
    "df_smiles_with_duplicates_with_same_vals = df_original_298_dup_dropped[df_original_298_dup_dropped['SMILES'].isin(smiles_with_duplicates_with_same_vals)]\n",
    "df_smiles_with_duplicates_with_same_vals.to_csv('/localhome/cschiebroek/MDFPs/mdfptools/carl/data/experimental_data_cleaning/duplicates_with_same_vp_vals.tsv', sep='\\t', index=False)\n",
    "df_original_298_dup_dropped = df_original_298_dup_dropped[~df_original_298_dup_dropped['SMILES'].isin(smiles_with_duplicates_with_same_vals)]\n",
    "df_original_298_dup_dropped.to_csv('/localhome/cschiebroek/MDFPs/mdfptools/carl/data/experimental_data_cleaning/VP_data_no_duplicates.tsv', sep='\\t', index=False)"
   ]
  },
  {
   "cell_type": "code",
   "execution_count": 29,
   "metadata": {},
   "outputs": [
    {
     "name": "stdout",
     "output_type": "stream",
     "text": [
      "3042\n",
      "3066\n",
      "2\n",
      "26\n"
     ]
    }
   ],
   "source": [
    "df_original_298_dup_dropped_smiles = df_original_298_dup_dropped['SMILES'].tolist()\n",
    "print(len(df_original_298_dup_dropped_smiles))\n",
    "print(len(df_cleaned_smiles))\n",
    "print(len(set(df_original_298_dup_dropped_smiles) - set(df_cleaned_smiles)))\n",
    "print(len(set(df_cleaned_smiles) - set(df_original_298_dup_dropped_smiles)))\n",
    "not_dropped_not_in_cleaned_smiles = list(set(df_original_298_dup_dropped_smiles) - set(df_cleaned_smiles))"
   ]
  },
  {
   "cell_type": "markdown",
   "metadata": {},
   "source": [
    "So we have two molecules that are not registered yet but should, and 26 that are registered but should not be because they are duplicates"
   ]
  },
  {
   "cell_type": "code",
   "execution_count": 33,
   "metadata": {},
   "outputs": [
    {
     "data": {
      "image/png": "[encoded data removed]",
      "text/plain": [
       "<IPython.core.display.Image object>"
      ]
     },
     "execution_count": 33,
     "metadata": {},
     "output_type": "execute_result"
    }
   ],
   "source": [
    "should_have_been_registered_smiles = set(df_original_298_dup_dropped_smiles) - set(df_cleaned_smiles)\n",
    "should_have_been_registered_mols = [Chem.MolFromSmiles(smile) for smile in should_have_been_registered_smiles]\n",
    "Draw.MolsToGridImage(should_have_been_registered_mols, molsPerRow=2, subImgSize=(500,500))"
   ]
  },
  {
   "cell_type": "markdown",
   "metadata": {},
   "source": [
    "The issue with these, was that conformer generation failed because of initial coords:"
   ]
  },
  {
   "cell_type": "code",
   "execution_count": 34,
   "metadata": {},
   "outputs": [
    {
     "name": "stdout",
     "output_type": "stream",
     "text": [
      "-1\n",
      "\n",
      "---------------------------\n",
      "\n",
      "INITIAL_COORDS 1210\n",
      "FIRST_MINIMIZATION 0\n",
      "CHECK_TETRAHEDRAL_CENTERS 0\n",
      "CHECK_CHIRAL_CENTERS 0\n",
      "MINIMIZE_FOURTH_DIMENSION 0\n",
      "ETK_MINIMIZATION 0\n",
      "FINAL_CHIRAL_BOUNDS 0\n",
      "FINAL_CENTER_IN_VOLUME 0\n",
      "LINEAR_DOUBLE_BOND 0\n",
      "BAD_DOUBLE_BOND_STEREO 0\n",
      "\n",
      "---------------------------\n",
      "\n",
      "-1\n",
      "\n",
      "---------------------------\n",
      "\n",
      "INITIAL_COORDS 4140\n",
      "FIRST_MINIMIZATION 0\n",
      "CHECK_TETRAHEDRAL_CENTERS 0\n",
      "CHECK_CHIRAL_CENTERS 0\n",
      "MINIMIZE_FOURTH_DIMENSION 0\n",
      "ETK_MINIMIZATION 0\n",
      "FINAL_CHIRAL_BOUNDS 0\n",
      "FINAL_CENTER_IN_VOLUME 0\n",
      "LINEAR_DOUBLE_BOND 0\n",
      "BAD_DOUBLE_BOND_STEREO 0\n",
      "\n",
      "---------------------------\n",
      "\n"
     ]
    }
   ],
   "source": [
    "from rdkit.Chem import rdDistGeom\n",
    "\n",
    "def print_failure_causes(counts):\n",
    "    for i,k in enumerate(rdDistGeom.EmbedFailureCauses.names):\n",
    "        print(k,counts[i])\n",
    "\n",
    "ps = rdDistGeom.ETKDGv3()\n",
    "ps.randomSeed = 0xf00d\n",
    "ps.trackFailures = True\n",
    "for smi in should_have_been_registered_smiles:\n",
    "    mol = Chem.AddHs(Chem.MolFromSmiles(smi, sanitize=False))\n",
    "    ps = rdDistGeom.ETKDGv3()\n",
    "    ps.randomSeed = 0xf00d\n",
    "    ps.trackFailures = True\n",
    "    print(rdDistGeom.EmbedMolecule(mol, ps))\n",
    "    counts = ps.GetFailureCounts()\n",
    "    print('\\n---------------------------\\n')\n",
    "    print_failure_causes(counts)\n",
    "    print('\\n---------------------------\\n')"
   ]
  },
  {
   "cell_type": "markdown",
   "metadata": {},
   "source": [
    "However, a simple fix is to just to use random coords"
   ]
  },
  {
   "cell_type": "code",
   "execution_count": 36,
   "metadata": {},
   "outputs": [
    {
     "name": "stdout",
     "output_type": "stream",
     "text": [
      "0\n",
      "\n",
      "---------------------------\n",
      "\n",
      "INITIAL_COORDS 0\n",
      "FIRST_MINIMIZATION 0\n",
      "CHECK_TETRAHEDRAL_CENTERS 0\n",
      "CHECK_CHIRAL_CENTERS 0\n",
      "MINIMIZE_FOURTH_DIMENSION 0\n",
      "ETK_MINIMIZATION 0\n",
      "FINAL_CHIRAL_BOUNDS 1\n",
      "FINAL_CENTER_IN_VOLUME 0\n",
      "LINEAR_DOUBLE_BOND 0\n",
      "BAD_DOUBLE_BOND_STEREO 0\n",
      "\n",
      "---------------------------\n",
      "\n",
      "0\n",
      "\n",
      "---------------------------\n",
      "\n",
      "INITIAL_COORDS 0\n",
      "FIRST_MINIMIZATION 0\n",
      "CHECK_TETRAHEDRAL_CENTERS 0\n",
      "CHECK_CHIRAL_CENTERS 0\n",
      "MINIMIZE_FOURTH_DIMENSION 0\n",
      "ETK_MINIMIZATION 0\n",
      "FINAL_CHIRAL_BOUNDS 0\n",
      "FINAL_CENTER_IN_VOLUME 0\n",
      "LINEAR_DOUBLE_BOND 0\n",
      "BAD_DOUBLE_BOND_STEREO 0\n",
      "\n",
      "---------------------------\n",
      "\n"
     ]
    }
   ],
   "source": [
    "from rdkit.Chem import rdDistGeom\n",
    "\n",
    "def print_failure_causes(counts):\n",
    "    for i,k in enumerate(rdDistGeom.EmbedFailureCauses.names):\n",
    "        print(k,counts[i])\n",
    "mols_3d = []\n",
    "ps = rdDistGeom.ETKDGv3()\n",
    "ps.randomSeed = 0xf00d\n",
    "ps.trackFailures = True\n",
    "for smi in should_have_been_registered_smiles:\n",
    "    mol = Chem.AddHs(Chem.MolFromSmiles(smi, sanitize=False))\n",
    "    ps = rdDistGeom.ETKDGv3()\n",
    "    ps.randomSeed = 0xf00d\n",
    "    ps.trackFailures = True\n",
    "    ps.useRandomCoords = True\n",
    "    print(rdDistGeom.EmbedMolecule(mol, ps))\n",
    "    counts = ps.GetFailureCounts()\n",
    "    print('\\n---------------------------\\n')\n",
    "    print_failure_causes(counts)\n",
    "    print('\\n---------------------------\\n')\n",
    "    mols_3d.append(mol)"
   ]
  },
  {
   "cell_type": "code",
   "execution_count": 38,
   "metadata": {},
   "outputs": [],
   "source": [
    "#now we need to register these two mols, and run the simulations.\n",
    "import lwreg\n",
    "from lwreg import standardization_lib\n",
    "from lwreg import utils\n",
    "config = lwreg.utils.defaultConfig()\n",
    "# set the name of the database we'll work with:\n",
    "config['dbtype'] = 'postgresql'\n",
    "config['dbname'] = 'cs_mdfps'\n",
    "config['host'] = 'lebanon'\n",
    "config['user'] = 'cschiebroek'\n",
    "config['password'] = '' # password is saved in our .pgpass\n",
    "# we don't want to standardize the molecules:\n",
    "config['standardization'] = standardization_lib.RemoveHs()\n",
    "# we want to store conformers\n",
    "config['registerConformers'] = True"
   ]
  },
  {
   "cell_type": "code",
   "execution_count": 40,
   "metadata": {},
   "outputs": [
    {
     "data": {
      "text/plain": [
       "((15648, 15646), (15649, 15647))"
      ]
     },
     "execution_count": 40,
     "metadata": {},
     "output_type": "execute_result"
    }
   ],
   "source": [
    "lwreg.bulk_register(config=config,mols=mols_3d)"
   ]
  },
  {
   "cell_type": "code",
   "execution_count": 41,
   "metadata": {},
   "outputs": [],
   "source": [
    "#we need to make a special confgen_uuid for these;\n",
    "import uuid\n",
    "confgen_uuid = uuid.uuid4()"
   ]
  },
  {
   "cell_type": "code",
   "execution_count": 45,
   "metadata": {},
   "outputs": [],
   "source": [
    "import json\n",
    "params = {\"randomSeed\":0xf00d,\"trackFailures\":True,\"useRandomCoords\":True}\n",
    "params_json = json.dumps(params)"
   ]
  },
  {
   "cell_type": "code",
   "execution_count": 46,
   "metadata": {},
   "outputs": [],
   "source": [
    "#then register the conf gen metadata\n",
    "import psycopg2\n",
    "cn = psycopg2.connect(host='lebanon',dbname='cs_mdfps',user='cschiebroek')\n",
    "cur = cn.cursor()\n",
    "cur.execute('insert into cs_mdfps_schema.confid_metadata values (%s,%s)',(str(confgen_uuid),str(params_json)))\n",
    "cn.commit()\n",
    "\n"
   ]
  },
  {
   "cell_type": "code",
   "execution_count": 51,
   "metadata": {},
   "outputs": [],
   "source": [
    "#and register the conformers in confid_data\n",
    "cn = psycopg2.connect(host='lebanon',dbname='cs_mdfps',user='cschiebroek')\n",
    "cur = cn.cursor()\n",
    "cur.execute('insert into cs_mdfps_schema.confid_data values (%s,%s)',(str(15646),str(confgen_uuid)))\n",
    "cur.execute('insert into cs_mdfps_schema.confid_data values (%s,%s)',(str(15647),str(confgen_uuid)))\n",
    "cn.commit()\n"
   ]
  },
  {
   "cell_type": "code",
   "execution_count": 59,
   "metadata": {},
   "outputs": [
    {
     "data": {
      "text/plain": [
       "[15648]"
      ]
     },
     "execution_count": 59,
     "metadata": {},
     "output_type": "execute_result"
    }
   ],
   "source": [
    "lwreg.query(config=config,smiles=list(should_have_been_registered_smiles)[0])"
   ]
  },
  {
   "cell_type": "code",
   "execution_count": 64,
   "metadata": {},
   "outputs": [
    {
     "name": "stdout",
     "output_type": "stream",
     "text": [
      "15648 0 {} -5.585026652029182 {'SMILES': '[CH3]-[C](=[O])-[O]-[CH2]-[C@H]1-[O]-[C@H](-[O]-[C@]2(-[CH2]-[O]-[C](-[CH3])=[O])-[O]-[C@H](-[CH2]-[O]-[C](=[O])-[CH](-[CH3])-[CH3])-[C@@H](-[O]-[C](=[O])-[CH](-[CH3])-[CH3])-[C@@H]-2-[O]-[C](=[O])-[CH](-[CH3])-[CH3])-[C@H](-[O]-[C](=[O])-[CH](-[CH3])-[CH3])-[C@@H](-[O]-[C](=[O])-[CH](-[CH3])-[CH3])-[C@@H]-1-[O]-[C](=[O])-[CH](-[CH3])-[CH3]', 'Source': 'REACH', 'Temperature': 298.15}\n",
      "15649 0 {} -10.017728766960431 {'SMILES': '[CH3]-[CH2]-[CH2]-[CH2]-[N](-[c]1:[n]:[c](-[NH]-[CH2]-[CH2]-[CH2]-[N](-[CH2]-[CH2]-[N](-[CH2]-[CH2]-[CH2]-[NH]-[c]2:[n]:[c](-[N](-[CH2]-[CH2]-[CH2]-[CH3])-[CH]3-[CH2]-[C](-[CH3])(-[CH3])-[N](-[CH3])-[C](-[CH3])(-[CH3])-[CH2]-3):[n]:[c](-[N](-[CH2]-[CH2]-[CH2]-[CH3])-[CH]3-[CH2]-[C](-[CH3])(-[CH3])-[N](-[CH3])-[C](-[CH3])(-[CH3])-[CH2]-3):[n]:2)-[c]2:[n]:[c](-[N](-[CH2]-[CH2]-[CH2]-[CH3])-[CH]3-[CH2]-[C](-[CH3])(-[CH3])-[N](-[CH3])-[C](-[CH3])(-[CH3])-[CH2]-3):[n]:[c](-[N](-[CH2]-[CH2]-[CH2]-[CH3])-[CH]3-[CH2]-[C](-[CH3])(-[CH3])-[N](-[CH3])-[C](-[CH3])(-[CH3])-[CH2]-3):[n]:2)-[c]2:[n]:[c](-[N](-[CH2]-[CH2]-[CH2]-[CH3])-[CH]3-[CH2]-[C](-[CH3])(-[CH3])-[N](-[CH3])-[C](-[CH3])(-[CH3])-[CH2]-3):[n]:[c](-[N](-[CH2]-[CH2]-[CH2]-[CH3])-[CH]3-[CH2]-[C](-[CH3])(-[CH3])-[N](-[CH3])-[C](-[CH3])(-[CH3])-[CH2]-3):[n]:2):[n]:[c](-[N](-[CH2]-[CH2]-[CH2]-[CH3])-[CH]2-[CH2]-[C](-[CH3])(-[CH3])-[N](-[CH3])-[C](-[CH3])(-[CH3])-[CH2]-2):[n]:1)-[CH]1-[CH2]-[C](-[CH3])(-[CH3])-[N](-[CH3])-[C](-[CH3])(-[CH3])-[CH2]-1', 'Source': 'REACH', 'Temperature': 298.15}\n"
     ]
    }
   ],
   "source": [
    "#add to experimental data\n",
    "for smile in should_have_been_registered_smiles:\n",
    "    vp = df_original_298_dup_dropped[df_original_298_dup_dropped['SMILES'] == smile]['Vapour Pressure (log10 kPa)'].tolist()[0]\n",
    "    temp = df_original_298_dup_dropped[df_original_298_dup_dropped['SMILES'] == smile]['Temperature'].tolist()[0]\n",
    "    source = df_original_298_dup_dropped[df_original_298_dup_dropped['SMILES'] == smile]['Source'].tolist()[0]\n",
    "    vp_log10Pa = vp+3\n",
    "    molregno = lwreg.query(config=config,smiles=smile)\n",
    "    molregno = molregno[0]\n",
    "    logp = 0\n",
    "    logp_metadata = {}\n",
    "    metadata = {\"SMILES\" : smile,\"Source\" : source,\"Temperature\" : temp}\n",
    "    print(molregno,logp,logp_metadata,vp_log10Pa,metadata)\n",
    "    cur.execute('insert into cs_mdfps_schema.experimental_data values (%s , %s, %s, %s, %s)',(str(molregno),str(0),json.dumps({}),str(vp_log10Pa),json.dumps(metadata)))\n",
    "\n"
   ]
  },
  {
   "cell_type": "code",
   "execution_count": 65,
   "metadata": {},
   "outputs": [],
   "source": [
    "cn.commit()"
   ]
  },
  {
   "cell_type": "code",
   "execution_count": 71,
   "metadata": {},
   "outputs": [
    {
     "data": {
      "text/plain": [
       "'\\n     RDKit          3D\\n\\n  0  0  0  0  0  0  0  0  0  0999 V3000\\nM  V30 BEGIN CTAB\\nM  V30 COUNTS 59 60 0 0 0\\nM  V30 BEGIN ATOM\\nM  V30 1 C -1.655317 0.513235 -6.625435 0\\nM  V30 2 C -1.757634 0.391789 -5.125833 0\\nM  V30 3 O -1.674959 1.469029 -4.469759 0\\nM  V30 4 O -1.929251 -0.808249 -4.501534 0\\nM  V30 5 C -2.023509 -0.957781 -3.114649 0\\nM  V30 6 C -0.768151 -0.501807 -2.455320 0 CFG=1\\nM  V30 7 O -0.809677 -0.626254 -1.065585 0\\nM  V30 8 C 0.476162 -0.592273 -0.525613 0 CFG=2\\nM  V30 9 O 0.323406 -0.040454 0.753731 0\\nM  V30 10 C 0.703928 -0.983635 1.736754 0 CFG=2\\nM  V30 11 C 2.177242 -1.200399 1.683050 0\\nM  V30 12 O 2.604901 -2.151671 2.671137 0\\nM  V30 13 C 3.967765 -2.428689 2.706363 0\\nM  V30 14 C 4.578462 -3.383823 3.660755 0\\nM  V30 15 O 4.753982 -1.858479 1.902006 0\\nM  V30 16 O -0.064079 -2.117731 1.651510 0\\nM  V30 17 C -0.817962 -2.250112 2.768862 0 CFG=2\\nM  V30 18 C -2.059320 -3.061824 2.619355 0\\nM  V30 19 O -2.957613 -2.567612 1.674587 0\\nM  V30 20 C -4.147893 -3.277612 1.478160 0\\nM  V30 21 O -4.340250 -4.330098 2.172401 0\\nM  V30 22 C -5.177061 -2.875779 0.522351 0\\nM  V30 23 C -4.565882 -2.866665 -0.862646 0\\nM  V30 24 C -5.822033 -1.551597 0.857904 0\\nM  V30 25 C -1.082664 -0.824513 3.197383 0 CFG=1\\nM  V30 26 O -1.525189 -0.832923 4.517447 0\\nM  V30 27 C -2.698862 -0.143469 4.818340 0\\nM  V30 28 O -3.340868 0.469323 3.924794 0\\nM  V30 29 C -3.154127 -0.164883 6.230035 0\\nM  V30 30 C -3.380594 -1.634777 6.584511 0\\nM  V30 31 C -2.057394 0.449073 7.073360 0\\nM  V30 32 C 0.372914 -0.331126 3.075281 0 CFG=2\\nM  V30 33 O 0.484965 1.053440 3.078203 0\\nM  V30 34 C 1.207411 1.690162 4.070888 0\\nM  V30 35 O 1.749429 0.946752 4.957634 0\\nM  V30 36 C 1.406199 3.140272 4.197427 0\\nM  V30 37 C 2.233100 3.492522 5.415669 0\\nM  V30 38 C 2.216208 3.606430 2.985053 0\\nM  V30 39 C 1.421410 0.259738 -1.297240 0 CFG=2\\nM  V30 40 O 1.029993 1.606485 -1.405987 0\\nM  V30 41 C 1.801628 2.684553 -0.998741 0\\nM  V30 42 O 2.933709 2.484729 -0.493071 0\\nM  V30 43 C 1.268634 4.055745 -1.171643 0\\nM  V30 44 C 0.970094 4.329628 -2.635441 0\\nM  V30 45 C 2.176648 5.097560 -0.583876 0\\nM  V30 46 C 1.622896 -0.261986 -2.725937 0 CFG=1\\nM  V30 47 O 2.860918 -0.889939 -2.897277 0\\nM  V30 48 C 3.711281 -0.458584 -3.905845 0\\nM  V30 49 O 3.352334 0.489887 -4.646375 0\\nM  V30 50 C 5.038575 -1.070412 -4.154212 0\\nM  V30 51 C 5.723124 -0.394143 -5.297514 0\\nM  V30 52 C 4.935067 -2.561557 -4.387988 0\\nM  V30 53 C 0.458490 -1.227364 -2.959388 0 CFG=2\\nM  V30 54 O 0.359754 -1.627309 -4.314399 0\\nM  V30 55 C 0.553825 -2.943412 -4.702985 0\\nM  V30 56 O 0.826654 -3.767466 -3.768014 0\\nM  V30 57 C 0.472532 -3.456229 -6.080350 0\\nM  V30 58 C -0.919657 -3.258276 -6.630850 0\\nM  V30 59 C 0.820345 -4.935953 -6.139068 0\\nM  V30 END ATOM\\nM  V30 BEGIN BOND\\nM  V30 1 1 1 2\\nM  V30 2 2 2 3\\nM  V30 3 1 2 4\\nM  V30 4 1 4 5\\nM  V30 5 1 6 5 CFG=3\\nM  V30 6 1 6 7\\nM  V30 7 1 7 8\\nM  V30 8 1 8 9 CFG=1\\nM  V30 9 1 9 10\\nM  V30 10 1 10 11 CFG=1\\nM  V30 11 1 11 12\\nM  V30 12 1 12 13\\nM  V30 13 1 13 14\\nM  V30 14 2 13 15\\nM  V30 15 1 10 16\\nM  V30 16 1 16 17\\nM  V30 17 1 17 18 CFG=3\\nM  V30 18 1 18 19\\nM  V30 19 1 19 20\\nM  V30 20 2 20 21\\nM  V30 21 1 20 22\\nM  V30 22 1 22 23\\nM  V30 23 1 22 24\\nM  V30 24 1 17 25\\nM  V30 25 1 25 26 CFG=1\\nM  V30 26 1 26 27\\nM  V30 27 2 27 28\\nM  V30 28 1 27 29\\nM  V30 29 1 29 30\\nM  V30 30 1 29 31\\nM  V30 31 1 25 32\\nM  V30 32 1 32 33 CFG=3\\nM  V30 33 1 33 34\\nM  V30 34 2 34 35\\nM  V30 35 1 34 36\\nM  V30 36 1 36 37\\nM  V30 37 1 36 38\\nM  V30 38 1 8 39\\nM  V30 39 1 39 40 CFG=3\\nM  V30 40 1 40 41\\nM  V30 41 2 41 42\\nM  V30 42 1 41 43\\nM  V30 43 1 43 44\\nM  V30 44 1 43 45\\nM  V30 45 1 39 46\\nM  V30 46 1 46 47 CFG=1\\nM  V30 47 1 47 48\\nM  V30 48 2 48 49\\nM  V30 49 1 48 50\\nM  V30 50 1 50 51\\nM  V30 51 1 50 52\\nM  V30 52 1 46 53\\nM  V30 53 1 53 54 CFG=3\\nM  V30 54 1 54 55\\nM  V30 55 2 55 56\\nM  V30 56 1 55 57\\nM  V30 57 1 57 58\\nM  V30 58 1 57 59\\nM  V30 59 1 53 6\\nM  V30 60 1 32 10\\nM  V30 END BOND\\nM  V30 END CTAB\\nM  END\\n'"
      ]
     },
     "execution_count": 71,
     "metadata": {},
     "output_type": "execute_result"
    }
   ],
   "source": []
  },
  {
   "cell_type": "code",
   "execution_count": 73,
   "metadata": {},
   "outputs": [
    {
     "name": "stdout",
     "output_type": "stream",
     "text": [
      "[(15648, 15646)]\n",
      "15646\n",
      "\n",
      "     RDKit          3D\n",
      "\n",
      "  0  0  0  0  0  0  0  0  0  0999 V3000\n",
      "M  V30 BEGIN CTAB\n",
      "M  V30 COUNTS 59 60 0 0 0\n",
      "M  V30 BEGIN ATOM\n",
      "M  V30 1 C -1.655317 0.513235 -6.625435 0\n",
      "M  V30 2 C -1.757634 0.391789 -5.125833 0\n",
      "M  V30 3 O -1.674959 1.469029 -4.469759 0\n",
      "M  V30 4 O -1.929251 -0.808249 -4.501534 0\n",
      "M  V30 5 C -2.023509 -0.957781 -3.114649 0\n",
      "M  V30 6 C -0.768151 -0.501807 -2.455320 0 CFG=1\n",
      "M  V30 7 O -0.809677 -0.626254 -1.065585 0\n",
      "M  V30 8 C 0.476162 -0.592273 -0.525613 0 CFG=2\n",
      "M  V30 9 O 0.323406 -0.040454 0.753731 0\n",
      "M  V30 10 C 0.703928 -0.983635 1.736754 0 CFG=2\n",
      "M  V30 11 C 2.177242 -1.200399 1.683050 0\n",
      "M  V30 12 O 2.604901 -2.151671 2.671137 0\n",
      "M  V30 13 C 3.967765 -2.428689 2.706363 0\n",
      "M  V30 14 C 4.578462 -3.383823 3.660755 0\n",
      "M  V30 15 O 4.753982 -1.858479 1.902006 0\n",
      "M  V30 16 O -0.064079 -2.117731 1.651510 0\n",
      "M  V30 17 C -0.817962 -2.250112 2.768862 0 CFG=2\n",
      "M  V30 18 C -2.059320 -3.061824 2.619355 0\n",
      "M  V30 19 O -2.957613 -2.567612 1.674587 0\n",
      "M  V30 20 C -4.147893 -3.277612 1.478160 0\n",
      "M  V30 21 O -4.340250 -4.330098 2.172401 0\n",
      "M  V30 22 C -5.177061 -2.875779 0.522351 0\n",
      "M  V30 23 C -4.565882 -2.866665 -0.862646 0\n",
      "M  V30 24 C -5.822033 -1.551597 0.857904 0\n",
      "M  V30 25 C -1.082664 -0.824513 3.197383 0 CFG=1\n",
      "M  V30 26 O -1.525189 -0.832923 4.517447 0\n",
      "M  V30 27 C -2.698862 -0.143469 4.818340 0\n",
      "M  V30 28 O -3.340868 0.469323 3.924794 0\n",
      "M  V30 29 C -3.154127 -0.164883 6.230035 0\n",
      "M  V30 30 C -3.380594 -1.634777 6.584511 0\n",
      "M  V30 31 C -2.057394 0.449073 7.073360 0\n",
      "M  V30 32 C 0.372914 -0.331126 3.075281 0 CFG=2\n",
      "M  V30 33 O 0.484965 1.053440 3.078203 0\n",
      "M  V30 34 C 1.207411 1.690162 4.070888 0\n",
      "M  V30 35 O 1.749429 0.946752 4.957634 0\n",
      "M  V30 36 C 1.406199 3.140272 4.197427 0\n",
      "M  V30 37 C 2.233100 3.492522 5.415669 0\n",
      "M  V30 38 C 2.216208 3.606430 2.985053 0\n",
      "M  V30 39 C 1.421410 0.259738 -1.297240 0 CFG=2\n",
      "M  V30 40 O 1.029993 1.606485 -1.405987 0\n",
      "M  V30 41 C 1.801628 2.684553 -0.998741 0\n",
      "M  V30 42 O 2.933709 2.484729 -0.493071 0\n",
      "M  V30 43 C 1.268634 4.055745 -1.171643 0\n",
      "M  V30 44 C 0.970094 4.329628 -2.635441 0\n",
      "M  V30 45 C 2.176648 5.097560 -0.583876 0\n",
      "M  V30 46 C 1.622896 -0.261986 -2.725937 0 CFG=1\n",
      "M  V30 47 O 2.860918 -0.889939 -2.897277 0\n",
      "M  V30 48 C 3.711281 -0.458584 -3.905845 0\n",
      "M  V30 49 O 3.352334 0.489887 -4.646375 0\n",
      "M  V30 50 C 5.038575 -1.070412 -4.154212 0\n",
      "M  V30 51 C 5.723124 -0.394143 -5.297514 0\n",
      "M  V30 52 C 4.935067 -2.561557 -4.387988 0\n",
      "M  V30 53 C 0.458490 -1.227364 -2.959388 0 CFG=2\n",
      "M  V30 54 O 0.359754 -1.627309 -4.314399 0\n",
      "M  V30 55 C 0.553825 -2.943412 -4.702985 0\n",
      "M  V30 56 O 0.826654 -3.767466 -3.768014 0\n",
      "M  V30 57 C 0.472532 -3.456229 -6.080350 0\n",
      "M  V30 58 C -0.919657 -3.258276 -6.630850 0\n",
      "M  V30 59 C 0.820345 -4.935953 -6.139068 0\n",
      "M  V30 END ATOM\n",
      "M  V30 BEGIN BOND\n",
      "M  V30 1 1 1 2\n",
      "M  V30 2 2 2 3\n",
      "M  V30 3 1 2 4\n",
      "M  V30 4 1 4 5\n",
      "M  V30 5 1 6 5 CFG=3\n",
      "M  V30 6 1 6 7\n",
      "M  V30 7 1 7 8\n",
      "M  V30 8 1 8 9 CFG=1\n",
      "M  V30 9 1 9 10\n",
      "M  V30 10 1 10 11 CFG=1\n",
      "M  V30 11 1 11 12\n",
      "M  V30 12 1 12 13\n",
      "M  V30 13 1 13 14\n",
      "M  V30 14 2 13 15\n",
      "M  V30 15 1 10 16\n",
      "M  V30 16 1 16 17\n",
      "M  V30 17 1 17 18 CFG=3\n",
      "M  V30 18 1 18 19\n",
      "M  V30 19 1 19 20\n",
      "M  V30 20 2 20 21\n",
      "M  V30 21 1 20 22\n",
      "M  V30 22 1 22 23\n",
      "M  V30 23 1 22 24\n",
      "M  V30 24 1 17 25\n",
      "M  V30 25 1 25 26 CFG=1\n",
      "M  V30 26 1 26 27\n",
      "M  V30 27 2 27 28\n",
      "M  V30 28 1 27 29\n",
      "M  V30 29 1 29 30\n",
      "M  V30 30 1 29 31\n",
      "M  V30 31 1 25 32\n",
      "M  V30 32 1 32 33 CFG=3\n",
      "M  V30 33 1 33 34\n",
      "M  V30 34 2 34 35\n",
      "M  V30 35 1 34 36\n",
      "M  V30 36 1 36 37\n",
      "M  V30 37 1 36 38\n",
      "M  V30 38 1 8 39\n",
      "M  V30 39 1 39 40 CFG=3\n",
      "M  V30 40 1 40 41\n",
      "M  V30 41 2 41 42\n",
      "M  V30 42 1 41 43\n",
      "M  V30 43 1 43 44\n",
      "M  V30 44 1 43 45\n",
      "M  V30 45 1 39 46\n",
      "M  V30 46 1 46 47 CFG=1\n",
      "M  V30 47 1 47 48\n",
      "M  V30 48 2 48 49\n",
      "M  V30 49 1 48 50\n",
      "M  V30 50 1 50 51\n",
      "M  V30 51 1 50 52\n",
      "M  V30 52 1 46 53\n",
      "M  V30 53 1 53 54 CFG=3\n",
      "M  V30 54 1 54 55\n",
      "M  V30 55 2 55 56\n",
      "M  V30 56 1 55 57\n",
      "M  V30 57 1 57 58\n",
      "M  V30 58 1 57 59\n",
      "M  V30 59 1 53 6\n",
      "M  V30 60 1 32 10\n",
      "M  V30 END BOND\n",
      "M  V30 END CTAB\n",
      "M  END\n",
      "\n",
      "[(15649, 15647)]\n",
      "15647\n",
      "\n",
      "     RDKit          3D\n",
      "\n",
      "  0  0  0  0  0  0  0  0  0  0999 V3000\n",
      "M  V30 BEGIN CTAB\n",
      "M  V30 COUNTS 164 175 0 0 0\n",
      "M  V30 BEGIN ATOM\n",
      "M  V30 1 C 7.304626 -8.254882 -0.617708 0\n",
      "M  V30 2 C 7.426864 -6.903292 0.106990 0\n",
      "M  V30 3 C 8.145237 -5.942258 -0.788195 0\n",
      "M  V30 4 C 8.420622 -4.595553 -0.245872 0\n",
      "M  V30 5 N 7.333374 -3.759856 0.153713 0\n",
      "M  V30 6 C 7.089155 -2.569171 -0.619407 0\n",
      "M  V30 7 N 6.150263 -1.671663 -0.303434 0\n",
      "M  V30 8 C 5.912201 -0.537389 -0.980787 0\n",
      "M  V30 9 N 4.854768 0.350909 -0.560326 0\n",
      "M  V30 10 C 3.534667 0.253887 -1.119022 0\n",
      "M  V30 11 C 2.521981 1.158502 -0.403271 0\n",
      "M  V30 12 C 1.174881 1.042360 -1.046885 0\n",
      "M  V30 13 N 0.124679 1.818468 -0.493643 0\n",
      "M  V30 14 C -1.174925 1.810575 -1.198380 0\n",
      "M  V30 15 C -1.794190 0.448013 -0.964847 0\n",
      "M  V30 16 N -3.093079 0.336502 -1.555284 0\n",
      "M  V30 17 C -4.012962 -0.734801 -1.463030 0\n",
      "M  V30 18 C -3.739313 -2.055852 -2.018170 0\n",
      "M  V30 19 C -2.665836 -2.903572 -1.430530 0\n",
      "M  V30 20 N -2.943380 -3.198072 -0.011468 0\n",
      "M  V30 21 C -2.343560 -4.288032 0.669156 0\n",
      "M  V30 22 N -2.492118 -4.558668 1.969163 0\n",
      "M  V30 23 C -1.958034 -5.632198 2.571068 0\n",
      "M  V30 24 N -2.064779 -5.931898 3.949026 0\n",
      "M  V30 25 C -1.620713 -7.282902 4.362196 0\n",
      "M  V30 26 C -2.738869 -8.048098 4.977262 0\n",
      "M  V30 27 C -3.914487 -8.272800 4.103151 0\n",
      "M  V30 28 C -3.554154 -9.104401 2.900436 0\n",
      "M  V30 29 C -2.476580 -5.086779 5.009958 0\n",
      "M  V30 30 C -3.051662 -3.760299 4.649000 0\n",
      "M  V30 31 C -3.859808 -3.287887 5.870733 0\n",
      "M  V30 32 C -3.782139 -1.795060 6.054430 0\n",
      "M  V30 33 C -5.299234 -3.649124 5.570605 0\n",
      "M  V30 34 N -3.476528 -4.009575 7.056529 0\n",
      "M  V30 35 C -4.189117 -3.534002 8.186501 0\n",
      "M  V30 36 C -2.080914 -4.162762 7.238467 0\n",
      "M  V30 37 C -1.882179 -5.095499 8.443175 0\n",
      "M  V30 38 C -1.323447 -2.902803 7.586970 0\n",
      "M  V30 39 C -1.424315 -4.825812 6.066713 0\n",
      "M  V30 40 N -1.238348 -6.441559 1.740109 0\n",
      "M  V30 41 C -1.052802 -6.227697 0.441263 0\n",
      "M  V30 42 N -0.266998 -7.151973 -0.357737 0\n",
      "M  V30 43 C -0.156678 -6.838556 -1.734503 0\n",
      "M  V30 44 C -0.861919 -7.685979 -2.727561 0\n",
      "M  V30 45 C -2.353612 -7.716129 -2.548523 0\n",
      "M  V30 46 C -2.928601 -8.622946 -3.637050 0\n",
      "M  V30 47 C 0.310831 -8.272647 0.337042 0\n",
      "M  V30 48 C 1.798308 -8.342234 0.231223 0\n",
      "M  V30 49 C 2.418099 -9.546445 -0.344911 0\n",
      "M  V30 50 C 3.153973 -9.213290 -1.653237 0\n",
      "M  V30 51 C 3.508846 -10.108136 0.586143 0\n",
      "M  V30 52 N 1.561108 -10.645326 -0.655820 0\n",
      "M  V30 53 C 2.281436 -11.866024 -0.842970 0\n",
      "M  V30 54 C 0.430985 -10.768004 0.217119 0\n",
      "M  V30 55 C 0.767442 -10.981849 1.652095 0\n",
      "M  V30 56 C -0.397849 -11.945770 -0.257594 0\n",
      "M  V30 57 C -0.426593 -9.522896 0.096844 0\n",
      "M  V30 58 N -1.617563 -5.134214 -0.087432 0\n",
      "M  V30 59 C -3.582997 1.497133 -2.281373 0\n",
      "M  V30 60 N -2.992136 2.048691 -3.325343 0\n",
      "M  V30 61 C -3.466288 3.127415 -3.977011 0\n",
      "M  V30 62 N -2.838138 3.747273 -5.081524 0\n",
      "M  V30 63 C -1.975189 4.874034 -4.865012 0\n",
      "M  V30 64 C -1.830481 5.222257 -3.397025 0\n",
      "M  V30 65 C -0.915949 6.424259 -3.306095 0\n",
      "M  V30 66 C -0.720605 6.842862 -1.859506 0\n",
      "M  V30 67 C -3.079484 3.268755 -6.411925 0\n",
      "M  V30 68 C -3.914518 2.007195 -6.407762 0\n",
      "M  V30 69 C -4.387609 1.717230 -7.818289 0\n",
      "M  V30 70 C -5.816107 2.287888 -7.871088 0\n",
      "M  V30 71 C -4.531983 0.242861 -8.011224 0\n",
      "M  V30 72 N -3.637045 2.407742 -8.809442 0\n",
      "M  V30 73 C -3.979379 1.968336 -10.121301 0\n",
      "M  V30 74 C -2.232568 2.528848 -8.580104 0\n",
      "M  V30 75 C -1.478283 1.237677 -8.833356 0\n",
      "M  V30 76 C -1.699310 3.512767 -9.626297 0\n",
      "M  V30 77 C -1.851432 3.033518 -7.233978 0\n",
      "M  V30 78 N -4.641628 3.655243 -3.493010 0\n",
      "M  V30 79 C -5.276080 3.135054 -2.442473 0\n",
      "M  V30 80 N -6.474783 3.763716 -1.975138 0\n",
      "M  V30 81 C -6.475418 4.493301 -0.743851 0\n",
      "M  V30 82 C -6.590542 5.967339 -0.824786 0\n",
      "M  V30 83 C -7.807995 6.503971 -1.517914 0\n",
      "M  V30 84 C -7.707404 8.040963 -1.429576 0\n",
      "M  V30 85 C -7.663913 3.619264 -2.788898 0\n",
      "M  V30 86 C -7.439603 3.831338 -4.261044 0\n",
      "M  V30 87 C -8.802575 3.798298 -4.915470 0\n",
      "M  V30 88 C -8.650961 3.717910 -6.406594 0\n",
      "M  V30 89 C -9.449641 5.163129 -4.642146 0\n",
      "M  V30 90 N -9.674108 2.823320 -4.349280 0\n",
      "M  V30 91 C -10.779608 2.482652 -5.176009 0\n",
      "M  V30 92 C -9.073801 1.727845 -3.678157 0\n",
      "M  V30 93 C -8.501466 0.686708 -4.615385 0\n",
      "M  V30 94 C -10.192943 1.016541 -2.904682 0\n",
      "M  V30 95 C -8.045186 2.133224 -2.667386 0\n",
      "M  V30 96 N -4.752659 2.066300 -1.842500 0\n",
      "M  V30 97 C 0.131520 2.554166 0.723676 0\n",
      "M  V30 98 N -0.919281 3.369901 1.033507 0\n",
      "M  V30 99 C -1.027355 4.028229 2.192096 0\n",
      "M  V30 100 N -2.148472 4.872301 2.501537 0\n",
      "M  V30 101 C -2.013853 6.252939 2.235290 0\n",
      "M  V30 102 C -1.937484 7.208037 3.364317 0\n",
      "M  V30 103 C -1.779338 8.645257 2.811657 0\n",
      "M  V30 104 C -1.721497 9.566108 4.002093 0\n",
      "M  V30 105 C -3.362196 4.299283 3.037723 0\n",
      "M  V30 106 C -3.229996 2.791588 3.161567 0\n",
      "M  V30 107 C -4.608398 2.195286 3.239724 0\n",
      "M  V30 108 C -5.180886 2.251206 1.816651 0\n",
      "M  V30 109 C -4.558482 0.727972 3.606109 0\n",
      "M  V30 110 N -5.448122 2.990747 4.067435 0\n",
      "M  V30 111 C -6.550356 2.275736 4.624578 0\n",
      "M  V30 112 C -4.804078 3.865369 4.985211 0\n",
      "M  V30 113 C -4.077426 3.220302 6.114120 0\n",
      "M  V30 114 C -5.935284 4.721073 5.601771 0\n",
      "M  V30 115 C -3.891456 4.858972 4.289314 0\n",
      "M  V30 116 N -0.058079 3.883797 3.096768 0\n",
      "M  V30 117 C 1.018894 3.080209 2.839922 0\n",
      "M  V30 118 N 1.982614 2.894985 3.847940 0\n",
      "M  V30 119 C 2.077350 1.607181 4.575941 0\n",
      "M  V30 120 C 1.128943 0.660397 3.890702 0\n",
      "M  V30 121 C 1.053742 -0.704839 4.516077 0\n",
      "M  V30 122 C 0.074295 -1.528460 3.679625 0\n",
      "M  V30 123 C 2.860501 3.981888 4.218545 0\n",
      "M  V30 124 C 2.645177 4.310708 5.684980 0\n",
      "M  V30 125 C 3.604127 5.321858 6.208947 0\n",
      "M  V30 126 C 2.777559 6.596597 6.463505 0\n",
      "M  V30 127 C 4.074600 4.904411 7.609230 0\n",
      "M  V30 128 N 4.672131 5.686583 5.351537 0\n",
      "M  V30 129 C 5.667326 6.368029 6.158868 0\n",
      "M  V30 130 C 5.207930 4.710969 4.481396 0\n",
      "M  V30 131 C 6.456697 4.029289 5.066056 0\n",
      "M  V30 132 C 5.725185 5.440350 3.232208 0\n",
      "M  V30 133 C 4.308172 3.621958 4.022481 0\n",
      "M  V30 134 N 1.075373 2.451014 1.671548 0\n",
      "M  V30 135 N 6.689916 -0.310950 -2.050023 0\n",
      "M  V30 136 C 7.648314 -1.179840 -2.413000 0\n",
      "M  V30 137 N 8.532056 -0.959332 -3.538272 0\n",
      "M  V30 138 C 9.193948 -2.135475 -4.055647 0\n",
      "M  V30 139 C 10.665091 -2.220512 -3.857865 0\n",
      "M  V30 140 C 11.203910 -3.547501 -4.420709 0\n",
      "M  V30 141 C 12.698350 -3.541691 -4.192754 0\n",
      "M  V30 142 C 8.755344 0.336816 -4.107134 0\n",
      "M  V30 143 C 10.140656 0.887748 -3.945630 0\n",
      "M  V30 144 C 10.177729 2.349939 -3.533428 0\n",
      "M  V30 145 C 11.621205 2.792568 -3.842606 0\n",
      "M  V30 146 C 10.022355 2.459958 -2.039565 0\n",
      "M  V30 147 N 9.320262 3.177085 -4.304342 0\n",
      "M  V30 148 C 9.165269 4.460438 -3.660878 0\n",
      "M  V30 149 C 8.044872 2.591773 -4.627475 0\n",
      "M  V30 150 C 6.897971 3.564144 -4.525070 0\n",
      "M  V30 151 C 8.103715 2.131431 -6.067125 0\n",
      "M  V30 152 C 7.738277 1.380843 -3.766953 0\n",
      "M  V30 153 N 7.867159 -2.322528 -1.708798 0\n",
      "M  V30 154 C 6.524207 -4.027546 1.309408 0\n",
      "M  V30 155 C 5.065406 -3.967334 1.049426 0\n",
      "M  V30 156 C 4.254532 -3.913340 2.334539 0\n",
      "M  V30 157 C 4.269157 -5.279975 2.937329 0\n",
      "M  V30 158 C 2.808264 -3.625959 1.907072 0\n",
      "M  V30 159 N 4.671282 -2.848819 3.194964 0\n",
      "M  V30 160 C 4.450049 -1.582195 2.532190 0\n",
      "M  V30 161 C 6.076071 -2.914113 3.537584 0\n",
      "M  V30 162 C 6.432724 -4.000218 4.503889 0\n",
      "M  V30 163 C 6.402535 -1.588224 4.246037 0\n",
      "M  V30 164 C 6.962279 -2.980771 2.348293 0\n",
      "M  V30 END ATOM\n",
      "M  V30 BEGIN BOND\n",
      "M  V30 1 1 1 2\n",
      "M  V30 2 1 2 3\n",
      "M  V30 3 1 3 4\n",
      "M  V30 4 1 4 5\n",
      "M  V30 5 1 5 6\n",
      "M  V30 6 2 6 7\n",
      "M  V30 7 1 7 8\n",
      "M  V30 8 1 8 9\n",
      "M  V30 9 1 9 10\n",
      "M  V30 10 1 10 11\n",
      "M  V30 11 1 11 12\n",
      "M  V30 12 1 12 13\n",
      "M  V30 13 1 13 14\n",
      "M  V30 14 1 14 15\n",
      "M  V30 15 1 15 16\n",
      "M  V30 16 1 16 17\n",
      "M  V30 17 1 17 18\n",
      "M  V30 18 1 18 19\n",
      "M  V30 19 1 19 20\n",
      "M  V30 20 1 20 21\n",
      "M  V30 21 2 21 22\n",
      "M  V30 22 1 22 23\n",
      "M  V30 23 1 23 24\n",
      "M  V30 24 1 24 25\n",
      "M  V30 25 1 25 26\n",
      "M  V30 26 1 26 27\n",
      "M  V30 27 1 27 28\n",
      "M  V30 28 1 24 29\n",
      "M  V30 29 1 29 30\n",
      "M  V30 30 1 30 31\n",
      "M  V30 31 1 31 32\n",
      "M  V30 32 1 31 33\n",
      "M  V30 33 1 31 34\n",
      "M  V30 34 1 34 35\n",
      "M  V30 35 1 34 36\n",
      "M  V30 36 1 36 37\n",
      "M  V30 37 1 36 38\n",
      "M  V30 38 1 36 39\n",
      "M  V30 39 2 23 40\n",
      "M  V30 40 1 40 41\n",
      "M  V30 41 1 41 42\n",
      "M  V30 42 1 42 43\n",
      "M  V30 43 1 43 44\n",
      "M  V30 44 1 44 45\n",
      "M  V30 45 1 45 46\n",
      "M  V30 46 1 42 47\n",
      "M  V30 47 1 47 48\n",
      "M  V30 48 1 48 49\n",
      "M  V30 49 1 49 50\n",
      "M  V30 50 1 49 51\n",
      "M  V30 51 1 49 52\n",
      "M  V30 52 1 52 53\n",
      "M  V30 53 1 52 54\n",
      "M  V30 54 1 54 55\n",
      "M  V30 55 1 54 56\n",
      "M  V30 56 1 54 57\n",
      "M  V30 57 2 41 58\n",
      "M  V30 58 1 16 59\n",
      "M  V30 59 2 59 60\n",
      "M  V30 60 1 60 61\n",
      "M  V30 61 1 61 62\n",
      "M  V30 62 1 62 63\n",
      "M  V30 63 1 63 64\n",
      "M  V30 64 1 64 65\n",
      "M  V30 65 1 65 66\n",
      "M  V30 66 1 62 67\n",
      "M  V30 67 1 67 68\n",
      "M  V30 68 1 68 69\n",
      "M  V30 69 1 69 70\n",
      "M  V30 70 1 69 71\n",
      "M  V30 71 1 69 72\n",
      "M  V30 72 1 72 73\n",
      "M  V30 73 1 72 74\n",
      "M  V30 74 1 74 75\n",
      "M  V30 75 1 74 76\n",
      "M  V30 76 1 74 77\n",
      "M  V30 77 2 61 78\n",
      "M  V30 78 1 78 79\n",
      "M  V30 79 1 79 80\n",
      "M  V30 80 1 80 81\n",
      "M  V30 81 1 81 82\n",
      "M  V30 82 1 82 83\n",
      "M  V30 83 1 83 84\n",
      "M  V30 84 1 80 85\n",
      "M  V30 85 1 85 86\n",
      "M  V30 86 1 86 87\n",
      "M  V30 87 1 87 88\n",
      "M  V30 88 1 87 89\n",
      "M  V30 89 1 87 90\n",
      "M  V30 90 1 90 91\n",
      "M  V30 91 1 90 92\n",
      "M  V30 92 1 92 93\n",
      "M  V30 93 1 92 94\n",
      "M  V30 94 1 92 95\n",
      "M  V30 95 2 79 96\n",
      "M  V30 96 1 13 97\n",
      "M  V30 97 2 97 98\n",
      "M  V30 98 1 98 99\n",
      "M  V30 99 1 99 100\n",
      "M  V30 100 1 100 101\n",
      "M  V30 101 1 101 102\n",
      "M  V30 102 1 102 103\n",
      "M  V30 103 1 103 104\n",
      "M  V30 104 1 100 105\n",
      "M  V30 105 1 105 106\n",
      "M  V30 106 1 106 107\n",
      "M  V30 107 1 107 108\n",
      "M  V30 108 1 107 109\n",
      "M  V30 109 1 107 110\n",
      "M  V30 110 1 110 111\n",
      "M  V30 111 1 110 112\n",
      "M  V30 112 1 112 113\n",
      "M  V30 113 1 112 114\n",
      "M  V30 114 1 112 115\n",
      "M  V30 115 2 99 116\n",
      "M  V30 116 1 116 117\n",
      "M  V30 117 1 117 118\n",
      "M  V30 118 1 118 119\n",
      "M  V30 119 1 119 120\n",
      "M  V30 120 1 120 121\n",
      "M  V30 121 1 121 122\n",
      "M  V30 122 1 118 123\n",
      "M  V30 123 1 123 124\n",
      "M  V30 124 1 124 125\n",
      "M  V30 125 1 125 126\n",
      "M  V30 126 1 125 127\n",
      "M  V30 127 1 125 128\n",
      "M  V30 128 1 128 129\n",
      "M  V30 129 1 128 130\n",
      "M  V30 130 1 130 131\n",
      "M  V30 131 1 130 132\n",
      "M  V30 132 1 130 133\n",
      "M  V30 133 2 117 134\n",
      "M  V30 134 2 8 135\n",
      "M  V30 135 1 135 136\n",
      "M  V30 136 1 136 137\n",
      "M  V30 137 1 137 138\n",
      "M  V30 138 1 138 139\n",
      "M  V30 139 1 139 140\n",
      "M  V30 140 1 140 141\n",
      "M  V30 141 1 137 142\n",
      "M  V30 142 1 142 143\n",
      "M  V30 143 1 143 144\n",
      "M  V30 144 1 144 145\n",
      "M  V30 145 1 144 146\n",
      "M  V30 146 1 144 147\n",
      "M  V30 147 1 147 148\n",
      "M  V30 148 1 147 149\n",
      "M  V30 149 1 149 150\n",
      "M  V30 150 1 149 151\n",
      "M  V30 151 1 149 152\n",
      "M  V30 152 2 136 153\n",
      "M  V30 153 1 5 154\n",
      "M  V30 154 1 154 155\n",
      "M  V30 155 1 155 156\n",
      "M  V30 156 1 156 157\n",
      "M  V30 157 1 156 158\n",
      "M  V30 158 1 156 159\n",
      "M  V30 159 1 159 160\n",
      "M  V30 160 1 159 161\n",
      "M  V30 161 1 161 162\n",
      "M  V30 162 1 161 163\n",
      "M  V30 163 1 161 164\n",
      "M  V30 164 1 153 6\n",
      "M  V30 165 1 164 154\n",
      "M  V30 166 1 58 21\n",
      "M  V30 167 1 96 59\n",
      "M  V30 168 1 134 97\n",
      "M  V30 169 1 152 142\n",
      "M  V30 170 1 39 29\n",
      "M  V30 171 1 57 47\n",
      "M  V30 172 1 77 67\n",
      "M  V30 173 1 95 85\n",
      "M  V30 174 1 115 105\n",
      "M  V30 175 1 133 123\n",
      "M  V30 END BOND\n",
      "M  V30 END CTAB\n",
      "M  END\n",
      "\n"
     ]
    }
   ],
   "source": [
    "for mol in mols_3d:\n",
    "    query = lwreg.query(config=config,mol=mol)\n",
    "    confid = query[0][1]\n",
    "    hits = lwreg.retrieve(config=config,ids=query)\n",
    "    mb = hits[0][2]\n",
    "    print(mb,file=open(f'/localhome/cschiebroek/MDFPs/mdfptools/carl/data/mols_3d/{confid}.mol','w+'))  "
   ]
  },
  {
   "cell_type": "code",
   "execution_count": 74,
   "metadata": {},
   "outputs": [
    {
     "name": "stdout",
     "output_type": "stream",
     "text": [
      "100\n",
      "100\n"
     ]
    }
   ],
   "source": [
    "#now for the diverse conformer generation.\n",
    "mols_3d_100_confs = []\n",
    "etkdg = rdDistGeom.ETKDGv3()\n",
    "etkdg.randomSeed = 0xa700f\n",
    "etkdg.verbose = False\n",
    "etkdg.numThreads = 4\n",
    "etkdg.trackFailures = True\n",
    "etkdg.useRandomCoords = True\n",
    "etkdg.pruneRmsThresh = 0.1\n",
    "for smi in should_have_been_registered_smiles:\n",
    "    m = Chem.MolFromSmiles(smi)\n",
    "    m = Chem.AddHs(m)\n",
    "    rdDistGeom.EmbedMultipleConfs(m,numConfs = 100, params = etkdg)\n",
    "    print(m.GetNumConformers())\n",
    "    mols_3d_100_confs.append(m)\n"
   ]
  },
  {
   "cell_type": "code",
   "execution_count": 75,
   "metadata": {},
   "outputs": [],
   "source": [
    "#to pick the five most diverse conformers, we will use the rdkit MaxMinPicker based on RMS.\n",
    "from rdkit import Chem\n",
    "from rdkit.Chem import AllChem\n",
    "from rdkit.SimDivFilters import rdSimDivPickers\n",
    "\n",
    "picker = rdSimDivPickers.MaxMinPicker()\n",
    "\n",
    "def pick_conformers(mol,picks):\n",
    "    def custom_rmsd_distance(i, j):\n",
    "        return AllChem.GetBestRMS(mol,mol,i,j)\n",
    "    selected_indices = list(picker.LazyPick(custom_rmsd_distance, mol.GetNumConformers(), picks, seed=1966))\n",
    "    mol_X_confs = Chem.Mol(mol)\n",
    "    mol_X_confs.RemoveAllConformers()\n",
    "    for i in selected_indices:\n",
    "        mol_X_confs.AddConformer(mol.GetConformer(i))\n",
    "    return mol_X_confs"
   ]
  },
  {
   "cell_type": "code",
   "execution_count": 76,
   "metadata": {},
   "outputs": [
    {
     "name": "stderr",
     "output_type": "stream",
     "text": [
      " 50%|█████     | 1/2 [28:01<28:01, 1681.84s/it]\n"
     ]
    },
    {
     "ename": "KeyboardInterrupt",
     "evalue": "",
     "output_type": "error",
     "traceback": [
      "\u001b[0;31m---------------------------------------------------------------------------\u001b[0m",
      "\u001b[0;31mKeyboardInterrupt\u001b[0m                         Traceback (most recent call last)",
      "\u001b[1;32m/localhome/cschiebroek/MDFPs/mdfptools/carl/Experiments_error_analysis/000_Registering_Dataset.ipynb Cell 30\u001b[0m line \u001b[0;36m6\n\u001b[1;32m      <a href='vscode-notebook-cell:/localhome/cschiebroek/MDFPs/mdfptools/carl/Experiments_error_analysis/000_Registering_Dataset.ipynb#Y160sZmlsZQ%3D%3D?line=3'>4</a>\u001b[0m mol \u001b[39m=\u001b[39m Chem\u001b[39m.\u001b[39mRemoveHs(mol)   \u001b[39m#we remove the hydrogens to prevent a combinatory explostion when calculating the RMSD\u001b[39;00m\n\u001b[1;32m      <a href='vscode-notebook-cell:/localhome/cschiebroek/MDFPs/mdfptools/carl/Experiments_error_analysis/000_Registering_Dataset.ipynb#Y160sZmlsZQ%3D%3D?line=4'>5</a>\u001b[0m \u001b[39mif\u001b[39;00m mol\u001b[39m.\u001b[39mGetNumConformers() \u001b[39m>\u001b[39m \u001b[39m5\u001b[39m:\n\u001b[0;32m----> <a href='vscode-notebook-cell:/localhome/cschiebroek/MDFPs/mdfptools/carl/Experiments_error_analysis/000_Registering_Dataset.ipynb#Y160sZmlsZQ%3D%3D?line=5'>6</a>\u001b[0m     picked_mol \u001b[39m=\u001b[39m pick_conformers(mol,\u001b[39m5\u001b[39;49m)\n\u001b[1;32m      <a href='vscode-notebook-cell:/localhome/cschiebroek/MDFPs/mdfptools/carl/Experiments_error_analysis/000_Registering_Dataset.ipynb#Y160sZmlsZQ%3D%3D?line=6'>7</a>\u001b[0m     selected_confs_mol_list\u001b[39m.\u001b[39mappend(picked_mol)\n\u001b[1;32m      <a href='vscode-notebook-cell:/localhome/cschiebroek/MDFPs/mdfptools/carl/Experiments_error_analysis/000_Registering_Dataset.ipynb#Y160sZmlsZQ%3D%3D?line=7'>8</a>\u001b[0m \u001b[39melse\u001b[39;00m:\n",
      "\u001b[1;32m/localhome/cschiebroek/MDFPs/mdfptools/carl/Experiments_error_analysis/000_Registering_Dataset.ipynb Cell 30\u001b[0m line \u001b[0;36m1\n\u001b[1;32m      <a href='vscode-notebook-cell:/localhome/cschiebroek/MDFPs/mdfptools/carl/Experiments_error_analysis/000_Registering_Dataset.ipynb#Y160sZmlsZQ%3D%3D?line=8'>9</a>\u001b[0m \u001b[39mdef\u001b[39;00m \u001b[39mcustom_rmsd_distance\u001b[39m(i, j):\n\u001b[1;32m     <a href='vscode-notebook-cell:/localhome/cschiebroek/MDFPs/mdfptools/carl/Experiments_error_analysis/000_Registering_Dataset.ipynb#Y160sZmlsZQ%3D%3D?line=9'>10</a>\u001b[0m     \u001b[39mreturn\u001b[39;00m AllChem\u001b[39m.\u001b[39mGetBestRMS(mol,mol,i,j)\n\u001b[0;32m---> <a href='vscode-notebook-cell:/localhome/cschiebroek/MDFPs/mdfptools/carl/Experiments_error_analysis/000_Registering_Dataset.ipynb#Y160sZmlsZQ%3D%3D?line=10'>11</a>\u001b[0m selected_indices \u001b[39m=\u001b[39m \u001b[39mlist\u001b[39m(picker\u001b[39m.\u001b[39;49mLazyPick(custom_rmsd_distance, mol\u001b[39m.\u001b[39;49mGetNumConformers(), picks, seed\u001b[39m=\u001b[39;49m\u001b[39m1966\u001b[39;49m))\n\u001b[1;32m     <a href='vscode-notebook-cell:/localhome/cschiebroek/MDFPs/mdfptools/carl/Experiments_error_analysis/000_Registering_Dataset.ipynb#Y160sZmlsZQ%3D%3D?line=11'>12</a>\u001b[0m mol_X_confs \u001b[39m=\u001b[39m Chem\u001b[39m.\u001b[39mMol(mol)\n\u001b[1;32m     <a href='vscode-notebook-cell:/localhome/cschiebroek/MDFPs/mdfptools/carl/Experiments_error_analysis/000_Registering_Dataset.ipynb#Y160sZmlsZQ%3D%3D?line=12'>13</a>\u001b[0m mol_X_confs\u001b[39m.\u001b[39mRemoveAllConformers()\n",
      "\u001b[1;32m/localhome/cschiebroek/MDFPs/mdfptools/carl/Experiments_error_analysis/000_Registering_Dataset.ipynb Cell 30\u001b[0m line \u001b[0;36m1\n\u001b[1;32m      <a href='vscode-notebook-cell:/localhome/cschiebroek/MDFPs/mdfptools/carl/Experiments_error_analysis/000_Registering_Dataset.ipynb#Y160sZmlsZQ%3D%3D?line=8'>9</a>\u001b[0m \u001b[39mdef\u001b[39;00m \u001b[39mcustom_rmsd_distance\u001b[39m(i, j):\n\u001b[0;32m---> <a href='vscode-notebook-cell:/localhome/cschiebroek/MDFPs/mdfptools/carl/Experiments_error_analysis/000_Registering_Dataset.ipynb#Y160sZmlsZQ%3D%3D?line=9'>10</a>\u001b[0m     \u001b[39mreturn\u001b[39;00m AllChem\u001b[39m.\u001b[39;49mGetBestRMS(mol,mol,i,j)\n",
      "\u001b[0;31mKeyboardInterrupt\u001b[0m: "
     ]
    }
   ],
   "source": [
    "from tqdm import tqdm\n",
    "selected_confs_mol_list = []\n",
    "for mol in tqdm(mols_3d_100_confs):\n",
    "    mol = Chem.RemoveHs(mol)   #we remove the hydrogens to prevent a combinatory explostion when calculating the RMSD\n",
    "    picked_mol = pick_conformers(mol,5)\n",
    "    selected_confs_mol_list.append(picked_mol)\n"
   ]
  },
  {
   "cell_type": "code",
   "execution_count": 81,
   "metadata": {},
   "outputs": [
    {
     "data": {
      "text/plain": [
       "5"
      ]
     },
     "execution_count": 81,
     "metadata": {},
     "output_type": "execute_result"
    }
   ],
   "source": [
    "selected_confs_mol_list[0].GetNumConformers()"
   ]
  },
  {
   "cell_type": "code",
   "execution_count": 103,
   "metadata": {},
   "outputs": [],
   "source": [
    "mol = mols_3d_100_confs[1]\n",
    "mol = Chem.RemoveHs(mol)   #we remove the hydrogens to prevent a combinatory explostion when calculating the RMSD\n",
    "picked_mol = pick_conformers(mol,5)\n",
    "selected_confs_mol_list.append(picked_mol)\n"
   ]
  },
  {
   "cell_type": "code",
   "execution_count": 111,
   "metadata": {},
   "outputs": [
    {
     "name": "stdout",
     "output_type": "stream",
     "text": [
      "5\n",
      "5\n"
     ]
    }
   ],
   "source": [
    "len(selected_confs_mol_list)\n",
    "for mol in selected_confs_mol_list:\n",
    "    print(mol.GetNumConformers())"
   ]
  },
  {
   "cell_type": "code",
   "execution_count": 104,
   "metadata": {},
   "outputs": [],
   "source": [
    "#make a uuid for this confgen\n",
    "import uuid\n",
    "confgen_uuid_diverse = uuid.uuid4()"
   ]
  },
  {
   "cell_type": "code",
   "execution_count": 106,
   "metadata": {},
   "outputs": [
    {
     "data": {
      "text/plain": [
       "UUID('f02056de-5fe6-410f-9b7c-c34817821b54')"
      ]
     },
     "execution_count": 106,
     "metadata": {},
     "output_type": "execute_result"
    }
   ],
   "source": [
    "confgen_uuid_diverse"
   ]
  },
  {
   "cell_type": "code",
   "execution_count": 112,
   "metadata": {},
   "outputs": [
    {
     "name": "stderr",
     "output_type": "stream",
     "text": [
      "100%|██████████| 2/2 [00:00<00:00, 406.78it/s]\n"
     ]
    }
   ],
   "source": [
    "from tqdm import tqdm\n",
    "with Chem.SDWriter(f'/localhome/cschiebroek/MDFPs/mdfptools/carl/data/confgen/{confgen_uuid_diverse}/{confgen_uuid_diverse}_5.sdf') as w:\n",
    "    for mol in tqdm(selected_confs_mol_list):\n",
    "        cids = [conf.GetId() for conf in mol.GetConformers()]\n",
    "        for cid in cids:\n",
    "            w.write(mol,confId=cid)"
   ]
  },
  {
   "cell_type": "code",
   "execution_count": 113,
   "metadata": {},
   "outputs": [
    {
     "name": "stdout",
     "output_type": "stream",
     "text": [
      "10\n"
     ]
    }
   ],
   "source": [
    "mols_five_conf_sup = Chem.SDMolSupplier(f'/localhome/cschiebroek/MDFPs/mdfptools/carl/data/confgen/{confgen_uuid_diverse}/{confgen_uuid_diverse}_5.sdf',removeHs=False)\n",
    "mols_five_conf = [mol for mol in mols_five_conf_sup]\n",
    "print(len(mols_five_conf))"
   ]
  },
  {
   "cell_type": "code",
   "execution_count": 115,
   "metadata": {},
   "outputs": [
    {
     "data": {
      "text/plain": [
       "((15648, 15648),\n",
       " (15648, 15649),\n",
       " (15648, 15650),\n",
       " (15648, 15651),\n",
       " (15648, 15652),\n",
       " (15649, 15653),\n",
       " (15649, 15654),\n",
       " (15649, 15655),\n",
       " (15649, 15656),\n",
       " (15649, 15657))"
      ]
     },
     "execution_count": 115,
     "metadata": {},
     "output_type": "execute_result"
    }
   ],
   "source": [
    "lwreg.bulk_register(config=config, mols=mols_five_conf)"
   ]
  },
  {
   "cell_type": "markdown",
   "metadata": {},
   "source": [
    "Simulation for single conformer is running, but seems that the molecules are too big to simulate in our current workflow"
   ]
  },
  {
   "cell_type": "markdown",
   "metadata": {},
   "source": [
    "lastly, we need to to remove the duplicates we have registered, from:\n",
    "- conformers\n",
    "- confid_data\n",
    "- experimental_data\n",
    "- mdfp_experiment_data"
   ]
  },
  {
   "cell_type": "code",
   "execution_count": 86,
   "metadata": {},
   "outputs": [],
   "source": [
    "smiles_to_remove = set(df_cleaned_smiles) - set(df_original_298_dup_dropped_smiles)\n"
   ]
  },
  {
   "cell_type": "code",
   "execution_count": 84,
   "metadata": {},
   "outputs": [],
   "source": [
    "cn = psycopg2.connect(host='lebanon',dbname='cs_mdfps',user='cschiebroek')\n",
    "cur = cn.cursor()\n",
    "cur.execute('select * from cs_mdfps_schema.experimental_data')\n",
    "all_data = cur.fetchall()"
   ]
  },
  {
   "cell_type": "code",
   "execution_count": 87,
   "metadata": {},
   "outputs": [
    {
     "data": {
      "text/html": [
       "<div>\n",
       "<style scoped>\n",
       "    .dataframe tbody tr th:only-of-type {\n",
       "        vertical-align: middle;\n",
       "    }\n",
       "\n",
       "    .dataframe tbody tr th {\n",
       "        vertical-align: top;\n",
       "    }\n",
       "\n",
       "    .dataframe thead th {\n",
       "        text-align: right;\n",
       "    }\n",
       "</style>\n",
       "<table border=\"1\" class=\"dataframe\">\n",
       "  <thead>\n",
       "    <tr style=\"text-align: right;\">\n",
       "      <th></th>\n",
       "      <th>molregno</th>\n",
       "      <th>logp</th>\n",
       "      <th>logp_metadata</th>\n",
       "      <th>vp_log10Pa</th>\n",
       "      <th>metadata</th>\n",
       "      <th>smiles</th>\n",
       "    </tr>\n",
       "  </thead>\n",
       "  <tbody>\n",
       "    <tr>\n",
       "      <th>356</th>\n",
       "      <td>326</td>\n",
       "      <td>0</td>\n",
       "      <td>{}</td>\n",
       "      <td>4.030098</td>\n",
       "      <td>{'SMILES': '[CH3]/[CH]=[C](/[CH3])-[Br]', 'Sou...</td>\n",
       "      <td>[CH3]/[CH]=[C](/[CH3])-[Br]</td>\n",
       "    </tr>\n",
       "    <tr>\n",
       "      <th>403</th>\n",
       "      <td>373</td>\n",
       "      <td>0</td>\n",
       "      <td>{}</td>\n",
       "      <td>1.141935</td>\n",
       "      <td>{'SMILES': '[CH3]-[C](=[O])-[O]-[CH]1-[CH2]-[C...</td>\n",
       "      <td>[CH3]-[C](=[O])-[O]-[CH]1-[CH2]-[CH](-[CH3])-[...</td>\n",
       "    </tr>\n",
       "    <tr>\n",
       "      <th>494</th>\n",
       "      <td>464</td>\n",
       "      <td>0</td>\n",
       "      <td>{}</td>\n",
       "      <td>1.937815</td>\n",
       "      <td>{'SMILES': '[CH3]-[C]12-[CH2]-[CH2]-[CH](-[CH2...</td>\n",
       "      <td>[CH3]-[C]12-[CH2]-[CH2]-[CH](-[CH2]-[C]-1=[O])...</td>\n",
       "    </tr>\n",
       "    <tr>\n",
       "      <th>537</th>\n",
       "      <td>507</td>\n",
       "      <td>0</td>\n",
       "      <td>{}</td>\n",
       "      <td>0.643416</td>\n",
       "      <td>{'SMILES': '[CH3]-[C](=[O])-[O]-[CH2]/[CH]=[C]...</td>\n",
       "      <td>[CH3]-[C](=[O])-[O]-[CH2]/[CH]=[C](/[CH3])-[CH...</td>\n",
       "    </tr>\n",
       "    <tr>\n",
       "      <th>908</th>\n",
       "      <td>877</td>\n",
       "      <td>0</td>\n",
       "      <td>{}</td>\n",
       "      <td>1.278754</td>\n",
       "      <td>{'SMILES': '[CH3]-[CH](-[CH3])-[C@@H]1-[CH2]-[...</td>\n",
       "      <td>[CH3]-[CH](-[CH3])-[C@@H]1-[CH2]-[CH2]-[C@@H](...</td>\n",
       "    </tr>\n",
       "    <tr>\n",
       "      <th>1112</th>\n",
       "      <td>2236</td>\n",
       "      <td>0</td>\n",
       "      <td>{}</td>\n",
       "      <td>1.414973</td>\n",
       "      <td>{'SMILES': '[CH3]-[C](=[O])-[O]-[C@H]1-[CH2]-[...</td>\n",
       "      <td>[CH3]-[C](=[O])-[O]-[C@H]1-[CH2]-[C@@H](-[CH3]...</td>\n",
       "    </tr>\n",
       "    <tr>\n",
       "      <th>1140</th>\n",
       "      <td>2265</td>\n",
       "      <td>0</td>\n",
       "      <td>{}</td>\n",
       "      <td>3.345618</td>\n",
       "      <td>{'SMILES': '[Cl]-[CH2]-[CH]1-[CH2]-[O]-1', 'So...</td>\n",
       "      <td>[Cl]-[CH2]-[CH]1-[CH2]-[O]-1</td>\n",
       "    </tr>\n",
       "    <tr>\n",
       "      <th>1392</th>\n",
       "      <td>2520</td>\n",
       "      <td>0</td>\n",
       "      <td>{}</td>\n",
       "      <td>3.041393</td>\n",
       "      <td>{'SMILES': '[Cl]-[CH2]-[C@@H]1-[CH2]-[O]-1', '...</td>\n",
       "      <td>[Cl]-[CH2]-[C@@H]1-[CH2]-[O]-1</td>\n",
       "    </tr>\n",
       "    <tr>\n",
       "      <th>1422</th>\n",
       "      <td>2545</td>\n",
       "      <td>0</td>\n",
       "      <td>{}</td>\n",
       "      <td>1.612040</td>\n",
       "      <td>{'SMILES': '[I]/[CH]=[CH]\\[I]', 'Source': 298....</td>\n",
       "      <td>[I]/[CH]=[CH]\\[I]</td>\n",
       "    </tr>\n",
       "    <tr>\n",
       "      <th>1451</th>\n",
       "      <td>2559</td>\n",
       "      <td>0</td>\n",
       "      <td>{}</td>\n",
       "      <td>3.930729</td>\n",
       "      <td>{'SMILES': '[CH3]-[C@@H]1-[CH2]-[CH2]-[CH2]-[C...</td>\n",
       "      <td>[CH3]-[C@@H]1-[CH2]-[CH2]-[CH2]-[C@H]-1-[CH3]</td>\n",
       "    </tr>\n",
       "    <tr>\n",
       "      <th>1586</th>\n",
       "      <td>2751</td>\n",
       "      <td>0</td>\n",
       "      <td>{}</td>\n",
       "      <td>2.178364</td>\n",
       "      <td>{'SMILES': '[I]/[CH]=[CH]/[I]', 'Source': 298....</td>\n",
       "      <td>[I]/[CH]=[CH]/[I]</td>\n",
       "    </tr>\n",
       "    <tr>\n",
       "      <th>1681</th>\n",
       "      <td>2847</td>\n",
       "      <td>0</td>\n",
       "      <td>{}</td>\n",
       "      <td>0.602060</td>\n",
       "      <td>{'SMILES': '[CH3]-[C](-[CH3])=[CH]-[CH2]-[CH2]...</td>\n",
       "      <td>[CH3]-[C](-[CH3])=[CH]-[CH2]-[CH2]/[C](-[CH3])...</td>\n",
       "    </tr>\n",
       "    <tr>\n",
       "      <th>1799</th>\n",
       "      <td>2970</td>\n",
       "      <td>0</td>\n",
       "      <td>{}</td>\n",
       "      <td>1.482837</td>\n",
       "      <td>{'SMILES': '[CH3]-[C](=[O])-[O]-[CH]1-[CH2]-[C...</td>\n",
       "      <td>[CH3]-[C](=[O])-[O]-[CH]1-[CH2]-[CH]2-[CH2]-[C...</td>\n",
       "    </tr>\n",
       "    <tr>\n",
       "      <th>1939</th>\n",
       "      <td>3112</td>\n",
       "      <td>0</td>\n",
       "      <td>{}</td>\n",
       "      <td>1.155336</td>\n",
       "      <td>{'SMILES': '[CH3]-[C](=[O])-[O]-[C@@H]1-[CH2]-...</td>\n",
       "      <td>[CH3]-[C](=[O])-[O]-[C@@H]1-[CH2]-[C@@H]2-[CH2...</td>\n",
       "    </tr>\n",
       "    <tr>\n",
       "      <th>1942</th>\n",
       "      <td>3115</td>\n",
       "      <td>0</td>\n",
       "      <td>{}</td>\n",
       "      <td>3.380000</td>\n",
       "      <td>{'SMILES': '[CH3]-[C@H]1-[CH2]-[CH2]-[C@@H](-[...</td>\n",
       "      <td>[CH3]-[C@H]1-[CH2]-[CH2]-[C@@H](-[CH3])-[CH2]-...</td>\n",
       "    </tr>\n",
       "    <tr>\n",
       "      <th>1964</th>\n",
       "      <td>3137</td>\n",
       "      <td>0</td>\n",
       "      <td>{}</td>\n",
       "      <td>0.945961</td>\n",
       "      <td>{'SMILES': '[CH3]-[N]1-[CH2]-[CH2]-[CH2]-[C@H]...</td>\n",
       "      <td>[CH3]-[N]1-[CH2]-[CH2]-[CH2]-[C@H]-1-[c]1:[cH]...</td>\n",
       "    </tr>\n",
       "    <tr>\n",
       "      <th>2003</th>\n",
       "      <td>3176</td>\n",
       "      <td>0</td>\n",
       "      <td>{}</td>\n",
       "      <td>0.929230</td>\n",
       "      <td>{'SMILES': '[CH3]-[CH]1-[CH2]-[CH2]-[CH](-[CH]...</td>\n",
       "      <td>[CH3]-[CH]1-[CH2]-[CH2]-[CH](-[CH](-[CH3])-[CH...</td>\n",
       "    </tr>\n",
       "    <tr>\n",
       "      <th>2083</th>\n",
       "      <td>3257</td>\n",
       "      <td>0</td>\n",
       "      <td>{}</td>\n",
       "      <td>3.511883</td>\n",
       "      <td>{'SMILES': '[CH3]-[CH]1-[CH2]-[C@H](-[CH3])-[C...</td>\n",
       "      <td>[CH3]-[CH]1-[CH2]-[C@H](-[CH3])-[C@H](-[CH3])-...</td>\n",
       "    </tr>\n",
       "    <tr>\n",
       "      <th>2147</th>\n",
       "      <td>3322</td>\n",
       "      <td>0</td>\n",
       "      <td>{}</td>\n",
       "      <td>3.799670</td>\n",
       "      <td>{'SMILES': '[CH3]-[C@H]1-[CH2]-[CH2]-[CH2]-[C@...</td>\n",
       "      <td>[CH3]-[C@H]1-[CH2]-[CH2]-[CH2]-[C@H]-1-[CH3]</td>\n",
       "    </tr>\n",
       "    <tr>\n",
       "      <th>2218</th>\n",
       "      <td>3394</td>\n",
       "      <td>0</td>\n",
       "      <td>{}</td>\n",
       "      <td>2.287835</td>\n",
       "      <td>{'SMILES': '[CH3]-[C@H]1-[CH2]-[CH2]-[CH2]-[CH...</td>\n",
       "      <td>[CH3]-[C@H]1-[CH2]-[CH2]-[CH2]-[CH2]-[C@H]-1-[OH]</td>\n",
       "    </tr>\n",
       "    <tr>\n",
       "      <th>2339</th>\n",
       "      <td>3519</td>\n",
       "      <td>0</td>\n",
       "      <td>{}</td>\n",
       "      <td>0.704685</td>\n",
       "      <td>{'SMILES': '[CH3]-[N]1-[CH2]-[CH2]-[CH2]-[CH]-...</td>\n",
       "      <td>[CH3]-[N]1-[CH2]-[CH2]-[CH2]-[CH]-1-[c]1:[cH]:...</td>\n",
       "    </tr>\n",
       "    <tr>\n",
       "      <th>2516</th>\n",
       "      <td>3700</td>\n",
       "      <td>0</td>\n",
       "      <td>{}</td>\n",
       "      <td>0.518514</td>\n",
       "      <td>{'SMILES': '[CH3]-[C](=[O])-[O]-[CH2]/[CH]=[C]...</td>\n",
       "      <td>[CH3]-[C](=[O])-[O]-[CH2]/[CH]=[C](\\[CH3])-[CH...</td>\n",
       "    </tr>\n",
       "    <tr>\n",
       "      <th>2563</th>\n",
       "      <td>3749</td>\n",
       "      <td>0</td>\n",
       "      <td>{}</td>\n",
       "      <td>3.315234</td>\n",
       "      <td>{'SMILES': '[CH2]=[C](-[CH3])-[C@H]1-[CH2]-[CH...</td>\n",
       "      <td>[CH2]=[C](-[CH3])-[C@H]1-[CH2]-[CH]=[C](-[CH3]...</td>\n",
       "    </tr>\n",
       "    <tr>\n",
       "      <th>2638</th>\n",
       "      <td>3826</td>\n",
       "      <td>0</td>\n",
       "      <td>{}</td>\n",
       "      <td>3.879831</td>\n",
       "      <td>{'SMILES': '[CH3]/[CH]=[C](\\[CH3])-[Br]', 'Sou...</td>\n",
       "      <td>[CH3]/[CH]=[C](\\[CH3])-[Br]</td>\n",
       "    </tr>\n",
       "    <tr>\n",
       "      <th>2658</th>\n",
       "      <td>3846</td>\n",
       "      <td>0</td>\n",
       "      <td>{}</td>\n",
       "      <td>3.639486</td>\n",
       "      <td>{'SMILES': '[CH3]-[CH]1-[CH2]-[CH](-[CH3])-[CH...</td>\n",
       "      <td>[CH3]-[CH]1-[CH2]-[CH](-[CH3])-[CH](-[CH3])-[C...</td>\n",
       "    </tr>\n",
       "    <tr>\n",
       "      <th>2973</th>\n",
       "      <td>4169</td>\n",
       "      <td>0</td>\n",
       "      <td>{}</td>\n",
       "      <td>1.137317</td>\n",
       "      <td>{'SMILES': '[CH2]=[C](-[CH3])-[CH]1-[CH2]-[CH]...</td>\n",
       "      <td>[CH2]=[C](-[CH3])-[CH]1-[CH2]-[CH]=[C](-[CH3])...</td>\n",
       "    </tr>\n",
       "  </tbody>\n",
       "</table>\n",
       "</div>"
      ],
      "text/plain": [
       "      molregno  logp logp_metadata  vp_log10Pa  \\\n",
       "356        326     0            {}    4.030098   \n",
       "403        373     0            {}    1.141935   \n",
       "494        464     0            {}    1.937815   \n",
       "537        507     0            {}    0.643416   \n",
       "908        877     0            {}    1.278754   \n",
       "1112      2236     0            {}    1.414973   \n",
       "1140      2265     0            {}    3.345618   \n",
       "1392      2520     0            {}    3.041393   \n",
       "1422      2545     0            {}    1.612040   \n",
       "1451      2559     0            {}    3.930729   \n",
       "1586      2751     0            {}    2.178364   \n",
       "1681      2847     0            {}    0.602060   \n",
       "1799      2970     0            {}    1.482837   \n",
       "1939      3112     0            {}    1.155336   \n",
       "1942      3115     0            {}    3.380000   \n",
       "1964      3137     0            {}    0.945961   \n",
       "2003      3176     0            {}    0.929230   \n",
       "2083      3257     0            {}    3.511883   \n",
       "2147      3322     0            {}    3.799670   \n",
       "2218      3394     0            {}    2.287835   \n",
       "2339      3519     0            {}    0.704685   \n",
       "2516      3700     0            {}    0.518514   \n",
       "2563      3749     0            {}    3.315234   \n",
       "2638      3826     0            {}    3.879831   \n",
       "2658      3846     0            {}    3.639486   \n",
       "2973      4169     0            {}    1.137317   \n",
       "\n",
       "                                               metadata  \\\n",
       "356   {'SMILES': '[CH3]/[CH]=[C](/[CH3])-[Br]', 'Sou...   \n",
       "403   {'SMILES': '[CH3]-[C](=[O])-[O]-[CH]1-[CH2]-[C...   \n",
       "494   {'SMILES': '[CH3]-[C]12-[CH2]-[CH2]-[CH](-[CH2...   \n",
       "537   {'SMILES': '[CH3]-[C](=[O])-[O]-[CH2]/[CH]=[C]...   \n",
       "908   {'SMILES': '[CH3]-[CH](-[CH3])-[C@@H]1-[CH2]-[...   \n",
       "1112  {'SMILES': '[CH3]-[C](=[O])-[O]-[C@H]1-[CH2]-[...   \n",
       "1140  {'SMILES': '[Cl]-[CH2]-[CH]1-[CH2]-[O]-1', 'So...   \n",
       "1392  {'SMILES': '[Cl]-[CH2]-[C@@H]1-[CH2]-[O]-1', '...   \n",
       "1422  {'SMILES': '[I]/[CH]=[CH]\\[I]', 'Source': 298....   \n",
       "1451  {'SMILES': '[CH3]-[C@@H]1-[CH2]-[CH2]-[CH2]-[C...   \n",
       "1586  {'SMILES': '[I]/[CH]=[CH]/[I]', 'Source': 298....   \n",
       "1681  {'SMILES': '[CH3]-[C](-[CH3])=[CH]-[CH2]-[CH2]...   \n",
       "1799  {'SMILES': '[CH3]-[C](=[O])-[O]-[CH]1-[CH2]-[C...   \n",
       "1939  {'SMILES': '[CH3]-[C](=[O])-[O]-[C@@H]1-[CH2]-...   \n",
       "1942  {'SMILES': '[CH3]-[C@H]1-[CH2]-[CH2]-[C@@H](-[...   \n",
       "1964  {'SMILES': '[CH3]-[N]1-[CH2]-[CH2]-[CH2]-[C@H]...   \n",
       "2003  {'SMILES': '[CH3]-[CH]1-[CH2]-[CH2]-[CH](-[CH]...   \n",
       "2083  {'SMILES': '[CH3]-[CH]1-[CH2]-[C@H](-[CH3])-[C...   \n",
       "2147  {'SMILES': '[CH3]-[C@H]1-[CH2]-[CH2]-[CH2]-[C@...   \n",
       "2218  {'SMILES': '[CH3]-[C@H]1-[CH2]-[CH2]-[CH2]-[CH...   \n",
       "2339  {'SMILES': '[CH3]-[N]1-[CH2]-[CH2]-[CH2]-[CH]-...   \n",
       "2516  {'SMILES': '[CH3]-[C](=[O])-[O]-[CH2]/[CH]=[C]...   \n",
       "2563  {'SMILES': '[CH2]=[C](-[CH3])-[C@H]1-[CH2]-[CH...   \n",
       "2638  {'SMILES': '[CH3]/[CH]=[C](\\[CH3])-[Br]', 'Sou...   \n",
       "2658  {'SMILES': '[CH3]-[CH]1-[CH2]-[CH](-[CH3])-[CH...   \n",
       "2973  {'SMILES': '[CH2]=[C](-[CH3])-[CH]1-[CH2]-[CH]...   \n",
       "\n",
       "                                                 smiles  \n",
       "356                         [CH3]/[CH]=[C](/[CH3])-[Br]  \n",
       "403   [CH3]-[C](=[O])-[O]-[CH]1-[CH2]-[CH](-[CH3])-[...  \n",
       "494   [CH3]-[C]12-[CH2]-[CH2]-[CH](-[CH2]-[C]-1=[O])...  \n",
       "537   [CH3]-[C](=[O])-[O]-[CH2]/[CH]=[C](/[CH3])-[CH...  \n",
       "908   [CH3]-[CH](-[CH3])-[C@@H]1-[CH2]-[CH2]-[C@@H](...  \n",
       "1112  [CH3]-[C](=[O])-[O]-[C@H]1-[CH2]-[C@@H](-[CH3]...  \n",
       "1140                       [Cl]-[CH2]-[CH]1-[CH2]-[O]-1  \n",
       "1392                     [Cl]-[CH2]-[C@@H]1-[CH2]-[O]-1  \n",
       "1422                                  [I]/[CH]=[CH]\\[I]  \n",
       "1451      [CH3]-[C@@H]1-[CH2]-[CH2]-[CH2]-[C@H]-1-[CH3]  \n",
       "1586                                  [I]/[CH]=[CH]/[I]  \n",
       "1681  [CH3]-[C](-[CH3])=[CH]-[CH2]-[CH2]/[C](-[CH3])...  \n",
       "1799  [CH3]-[C](=[O])-[O]-[CH]1-[CH2]-[CH]2-[CH2]-[C...  \n",
       "1939  [CH3]-[C](=[O])-[O]-[C@@H]1-[CH2]-[C@@H]2-[CH2...  \n",
       "1942  [CH3]-[C@H]1-[CH2]-[CH2]-[C@@H](-[CH3])-[CH2]-...  \n",
       "1964  [CH3]-[N]1-[CH2]-[CH2]-[CH2]-[C@H]-1-[c]1:[cH]...  \n",
       "2003  [CH3]-[CH]1-[CH2]-[CH2]-[CH](-[CH](-[CH3])-[CH...  \n",
       "2083  [CH3]-[CH]1-[CH2]-[C@H](-[CH3])-[C@H](-[CH3])-...  \n",
       "2147       [CH3]-[C@H]1-[CH2]-[CH2]-[CH2]-[C@H]-1-[CH3]  \n",
       "2218  [CH3]-[C@H]1-[CH2]-[CH2]-[CH2]-[CH2]-[C@H]-1-[OH]  \n",
       "2339  [CH3]-[N]1-[CH2]-[CH2]-[CH2]-[CH]-1-[c]1:[cH]:...  \n",
       "2516  [CH3]-[C](=[O])-[O]-[CH2]/[CH]=[C](\\[CH3])-[CH...  \n",
       "2563  [CH2]=[C](-[CH3])-[C@H]1-[CH2]-[CH]=[C](-[CH3]...  \n",
       "2638                        [CH3]/[CH]=[C](\\[CH3])-[Br]  \n",
       "2658  [CH3]-[CH]1-[CH2]-[CH](-[CH3])-[CH](-[CH3])-[C...  \n",
       "2973  [CH2]=[C](-[CH3])-[CH]1-[CH2]-[CH]=[C](-[CH3])...  "
      ]
     },
     "execution_count": 87,
     "metadata": {},
     "output_type": "execute_result"
    }
   ],
   "source": [
    "#put this into a dataframe\n",
    "import pandas as pd\n",
    "df = pd.DataFrame(all_data,columns=['molregno','logp','logp_metadata','vp_log10Pa','metadata'])\n",
    "#from the metadata, we can get the smiles\n",
    "df['smiles'] = df['metadata'].apply(lambda x: x['SMILES'])\n",
    "df_to_remove = df[df['smiles'].isin(smiles_to_remove)]\n",
    "df_to_remove"
   ]
  },
  {
   "cell_type": "code",
   "execution_count": 91,
   "metadata": {},
   "outputs": [],
   "source": [
    "molregnos_to_remove = df_to_remove['molregno'].tolist()"
   ]
  },
  {
   "cell_type": "code",
   "execution_count": 94,
   "metadata": {},
   "outputs": [
    {
     "data": {
      "text/plain": [
       "26"
      ]
     },
     "execution_count": 94,
     "metadata": {},
     "output_type": "execute_result"
    }
   ],
   "source": [
    "len(molregnos_to_remove)"
   ]
  },
  {
   "cell_type": "code",
   "execution_count": 93,
   "metadata": {},
   "outputs": [],
   "source": [
    "#and get the confids\n",
    "hits_to_remove = lwreg.query(config=config,ids=molregnos_to_remove)\n",
    "hits_to_remove\n",
    "confids_to_remove = [hit[1] for hit in hits_to_remove]  "
   ]
  },
  {
   "cell_type": "code",
   "execution_count": 95,
   "metadata": {},
   "outputs": [],
   "source": [
    "#1. drop from table experimental data\n",
    "cn = psycopg2.connect(host='lebanon',dbname='cs_mdfps',user='cschiebroek')\n",
    "cur = cn.cursor()\n",
    "cur.execute('delete from cs_mdfps_schema.experimental_data where molregno in %s',(tuple(molregnos_to_remove),))\n",
    "cn.commit()\n"
   ]
  },
  {
   "cell_type": "code",
   "execution_count": 96,
   "metadata": {},
   "outputs": [
    {
     "data": {
      "text/plain": [
       "[(3042,)]"
      ]
     },
     "execution_count": 96,
     "metadata": {},
     "output_type": "execute_result"
    }
   ],
   "source": [
    "#check with count how many are left\n",
    "cur.execute('select count(*) from cs_mdfps_schema.experimental_data')\n",
    "cur.fetchall()\n"
   ]
  },
  {
   "cell_type": "code",
   "execution_count": 97,
   "metadata": {},
   "outputs": [
    {
     "name": "stdout",
     "output_type": "stream",
     "text": [
      "134\n"
     ]
    }
   ],
   "source": [
    "print(len(confids_to_remove))"
   ]
  },
  {
   "cell_type": "code",
   "execution_count": 99,
   "metadata": {},
   "outputs": [],
   "source": [
    "#drop the conformers from confid_data\n",
    "cn = psycopg2.connect(host='lebanon',dbname='cs_mdfps',user='cschiebroek')\n",
    "cur = cn.cursor()\n",
    "cur.execute('delete from cs_mdfps_schema.confid_data where conf_id in %s',(tuple(confids_to_remove),))\n",
    "cn.commit()"
   ]
  },
  {
   "cell_type": "code",
   "execution_count": 100,
   "metadata": {},
   "outputs": [],
   "source": [
    "#remove from conformers\n",
    "cn = psycopg2.connect(host='lebanon',dbname='cs_mdfps',user='cschiebroek')\n",
    "cur = cn.cursor()\n",
    "cur.execute('delete from public.conformers where conf_id in %s',(tuple(confids_to_remove),))\n",
    "cn.commit()"
   ]
  },
  {
   "cell_type": "code",
   "execution_count": 102,
   "metadata": {},
   "outputs": [],
   "source": [
    "#remove from mdfp_experiment_data\n",
    "cn = psycopg2.connect(host='lebanon',dbname='cs_mdfps',user='cschiebroek')\n",
    "cur = cn.cursor()\n",
    "cur.execute('delete from cs_mdfps_schema.mdfp_experiment_data where conf_id in %s',(tuple(confids_to_remove),))\n",
    "cn.commit()\n"
   ]
  }
 ],
 "metadata": {
  "kernelspec": {
   "display_name": "mdfp_carl",
   "language": "python",
   "name": "python3"
  },
  "language_info": {
   "codemirror_mode": {
    "name": "ipython",
    "version": 3
   },
   "file_extension": ".py",
   "mimetype": "text/x-python",
   "name": "python",
   "nbconvert_exporter": "python",
   "pygments_lexer": "ipython3",
   "version": "3.11.5"
  }
 },
 "nbformat": 4,
 "nbformat_minor": 2
}
