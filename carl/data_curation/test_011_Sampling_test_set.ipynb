import numpy as np
from scipy.stats import mannwhitneyu

def test_num_rotatable_bonds_physchem():
    # Define the data
    num_rotatable_bonds_physchem_worse = np.array([1, 2, 3, 4, 5])
    num_rotatable_bonds_physchem_better = np.array([1, 2, 3, 4, 5, 6, 7, 8, 9, 10])

    # Perform the Mann-Whitney U test
    stat, p_value = mannwhitneyu(num_rotatable_bonds_physchem_worse, num_rotatable_bonds_physchem_better, alternative='greater')

    # Assert that the p-value is less than 0.05 (significance level)
    assert p_value < 0.05