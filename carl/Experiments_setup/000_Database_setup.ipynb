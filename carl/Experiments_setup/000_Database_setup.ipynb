{
 "cells": [
  {
   "cell_type": "markdown",
   "metadata": {},
   "source": [
    "This documents describes the setting up of the database for MDFP experiments performed by Carl Schiebroek. This document shows how the lwreg databse cs_mdfps as well as the postgreSQL schema cs_mdfps_schema_copy is setup. "
   ]
  },
  {
   "cell_type": "raw",
   "metadata": {},
   "source": [
    "name: py311_lwreg\n",
    "channels:\n",
    "  - conda-forge\n",
    "dependencies:\n",
    "  - python=3.11\n",
    "  - rdkit >=2023.03.1\n",
    "  - ipython\n",
    "  - jupyter\n",
    "  - ipython-sql\n",
    "  - sqlalchemy=1.4\n",
    "  - pytest\n"
   ]
  },
  {
   "cell_type": "code",
   "execution_count": 1,
   "metadata": {},
   "outputs": [
    {
     "name": "stdout",
     "output_type": "stream",
     "text": [
      "2023.03.3\n"
     ]
    }
   ],
   "source": [
    "from rdkit import Chem\n",
    "from rdkit.Chem import Draw\n",
    "from rdkit.Chem.Draw import IPythonConsole\n",
    "from rdkit.Chem import rdDepictor\n",
    "rdDepictor.SetPreferCoordGen(True)\n",
    "import os\n",
    "import json\n",
    "import uuid\n",
    "\n",
    "import rdkit\n",
    "print(rdkit.__version__)\n",
    "%load_ext sql\n",
    "import lwreg\n",
    "from lwreg import standardization_lib\n",
    "from lwreg import utils"
   ]
  },
  {
   "cell_type": "code",
   "execution_count": 2,
   "metadata": {},
   "outputs": [],
   "source": [
    "config = lwreg.utils.defaultConfig()\n",
    "# set the name of the database we'll work with:\n",
    "config['dbtype'] = 'postgresql'\n",
    "config['dbname'] = 'cs_mdfps'\n",
    "config['host'] = 'lebanon'\n",
    "config['user'] = 'cschiebroek'\n",
    "config['password'] = '' # password is saved in our .pgpass\n",
    "# we don't want to standardize the molecules:\n",
    "config['standardization'] = standardization_lib.RemoveHs()\n",
    "# we want to store conformers\n",
    "config['registerConformers'] = True"
   ]
  },
  {
   "cell_type": "code",
   "execution_count": null,
   "metadata": {},
   "outputs": [],
   "source": [
    "cn = utils._connect(config)\n",
    "cur = cn.cursor()\n",
    "#create the schema itself\n",
    "cur.execute('create schema if not exists cs_mdfps_schema_copy')\n",
    "#data for the generated conformers\n",
    "cur.execute('create table cs_mdfps_schema_copy.confid_data(conf_id int primary key, confgen_uuid text)')\n",
    "cur.execute('create table cs_mdfps_schema_copy.confid_metadata(confgen_uuid text primary key, metadata jsonb)')\n",
    "#data for the experimental data\n",
    "cur.execute('create table cs_mdfps_schema_copy.experimental_data(molregno int primary key,logP int, logP_metadata jsonb, VP double precision, VP_metadata jsonb)')\n",
    "#data for the MD experiment\n",
    "cur.execute('create table cs_mdfps_schema_copy.md_experiments_metadata(Md_Experiment_uuid text primary key,ff_name text, ff_version text, simulation_type text, MD_engine text, version text, time double precision,git_repo_name text, git_commit_hash text,analysis jsonb,starting_date date)')\n",
    "#data for the MDFP experiment\n",
    "cur.execute('create table cs_mdfps_schema_copy.mdfp_experiment_metadata(mdfp_experiment_uuid text primary key,md_experiment_uuid text,parameters jsonb)')\n",
    "cur.execute('create table cs_mdfps_schema_copy.mdfp_experiment_data(conf_id int, mdfp_experiment_uuid text,MDFP jsonb,mdfp_conf_uuid text primary key,md_experiment_uuid text)')\n",
    "# cn.commit()"
   ]
  }
 ],
 "metadata": {
  "kernelspec": {
   "display_name": "py311_lwreg",
   "language": "python",
   "name": "python3"
  },
  "language_info": {
   "codemirror_mode": {
    "name": "ipython",
    "version": 3
   },
   "file_extension": ".py",
   "mimetype": "text/x-python",
   "name": "python",
   "nbconvert_exporter": "python",
   "pygments_lexer": "ipython3",
   "version": "3.11.5"
  }
 },
 "nbformat": 4,
 "nbformat_minor": 2
}
