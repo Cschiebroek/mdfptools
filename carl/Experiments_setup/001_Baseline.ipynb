{
 "cells": [
  {
   "cell_type": "markdown",
   "metadata": {},
   "source": [
    "This documents describes the initial set-up of the experiments to establish a baseline of the MDFPs as last made by ShuZe Wang, with updated (2. Oct 2023) conda enviroment (mdfp_carl) and openFF, openMM and forcecield versions."
   ]
  },
  {
   "cell_type": "markdown",
   "metadata": {},
   "source": []
  },
  {
   "cell_type": "code",
   "execution_count": 1,
   "metadata": {},
   "outputs": [
    {
     "name": "stdout",
     "output_type": "stream",
     "text": [
      "ff_name: openff_unconstrained-2.1.0.offxml\n",
      "ff_version:  0.14.3\n",
      "simulation_type: tMD water solution\n",
      "md_engine: openMM\n",
      "version:  8.0\n",
      "steps_time: 5.0\n"
     ]
    }
   ],
   "source": [
    "import openff.toolkit\n",
    "import openmm\n",
    "print(\"ff_name: openff_unconstrained-2.1.0.offxml\")\n",
    "print(\"ff_version: \", openff.toolkit.__version__)\n",
    "print(\"simulation_type: tMD water solution\")\n",
    "print(\"md_engine: openMM\")\n",
    "print(\"version: \", openmm.__version__)\n",
    "print(\"steps_time: 5.0\")"
   ]
  },
  {
   "cell_type": "markdown",
   "metadata": {},
   "source": [
    "Our starting point is the database that was created by ShuZe, combining REACH, OCHEM, PUBCHEM and CRC."
   ]
  },
  {
   "cell_type": "code",
   "execution_count": 4,
   "metadata": {},
   "outputs": [
    {
     "data": {
      "text/html": [
       "<div>\n",
       "<style scoped>\n",
       "    .dataframe tbody tr th:only-of-type {\n",
       "        vertical-align: middle;\n",
       "    }\n",
       "\n",
       "    .dataframe tbody tr th {\n",
       "        vertical-align: top;\n",
       "    }\n",
       "\n",
       "    .dataframe thead th {\n",
       "        text-align: right;\n",
       "    }\n",
       "</style>\n",
       "<table border=\"1\" class=\"dataframe\">\n",
       "  <thead>\n",
       "    <tr style=\"text-align: right;\">\n",
       "      <th></th>\n",
       "      <th>hash_code</th>\n",
       "      <th>SMILES</th>\n",
       "      <th>Temperature</th>\n",
       "      <th>Vapour Pressure (log10 kPa)</th>\n",
       "      <th>Source</th>\n",
       "    </tr>\n",
       "  </thead>\n",
       "  <tbody>\n",
       "    <tr>\n",
       "      <th>0</th>\n",
       "      <td>000c0dc393452e54c19cae2c6501b956</td>\n",
       "      <td>[CH3]-[CH2]-[CH2]-[CH2]-[CH2]-[CH2]-[CH2]-[CH2...</td>\n",
       "      <td>298.15</td>\n",
       "      <td>-14.744727</td>\n",
       "      <td>REACH</td>\n",
       "    </tr>\n",
       "    <tr>\n",
       "      <th>2</th>\n",
       "      <td>0026cd05c00286506e4c0051abcde83f</td>\n",
       "      <td>[CH3]-[CH]=[CH]-[CH2]-[CH2]-[CH2]-[CH2]-[CH2]-...</td>\n",
       "      <td>298.15</td>\n",
       "      <td>-0.301067</td>\n",
       "      <td>PUBCHEM</td>\n",
       "    </tr>\n",
       "    <tr>\n",
       "      <th>3</th>\n",
       "      <td>0029fb907f0382cb8ba7913301e791ec</td>\n",
       "      <td>[O]=[C](-[OH])-[c]1:[cH]:[cH]:[c]2:[cH]:[cH]:[...</td>\n",
       "      <td>298.15</td>\n",
       "      <td>-6.053323</td>\n",
       "      <td>OCHEM</td>\n",
       "    </tr>\n",
       "    <tr>\n",
       "      <th>4</th>\n",
       "      <td>0050ebd8f62aa0dd9dd972b02e277f5b</td>\n",
       "      <td>[Cl]-[CH2]-[O]-[CH2]-[Cl]</td>\n",
       "      <td>298.15</td>\n",
       "      <td>0.591625</td>\n",
       "      <td>OCHEM</td>\n",
       "    </tr>\n",
       "    <tr>\n",
       "      <th>5</th>\n",
       "      <td>0067f638b002221144b4e1108f7d3ae5</td>\n",
       "      <td>[CH3]-[C]#[C]-[CH](-[CH3])-[CH3]</td>\n",
       "      <td>298.15</td>\n",
       "      <td>1.227887</td>\n",
       "      <td>CRC</td>\n",
       "    </tr>\n",
       "  </tbody>\n",
       "</table>\n",
       "</div>"
      ],
      "text/plain": [
       "                          hash_code  \\\n",
       "0  000c0dc393452e54c19cae2c6501b956   \n",
       "2  0026cd05c00286506e4c0051abcde83f   \n",
       "3  0029fb907f0382cb8ba7913301e791ec   \n",
       "4  0050ebd8f62aa0dd9dd972b02e277f5b   \n",
       "5  0067f638b002221144b4e1108f7d3ae5   \n",
       "\n",
       "                                              SMILES  Temperature  \\\n",
       "0  [CH3]-[CH2]-[CH2]-[CH2]-[CH2]-[CH2]-[CH2]-[CH2...       298.15   \n",
       "2  [CH3]-[CH]=[CH]-[CH2]-[CH2]-[CH2]-[CH2]-[CH2]-...       298.15   \n",
       "3  [O]=[C](-[OH])-[c]1:[cH]:[cH]:[c]2:[cH]:[cH]:[...       298.15   \n",
       "4                          [Cl]-[CH2]-[O]-[CH2]-[Cl]       298.15   \n",
       "5                   [CH3]-[C]#[C]-[CH](-[CH3])-[CH3]       298.15   \n",
       "\n",
       "   Vapour Pressure (log10 kPa)   Source  \n",
       "0                   -14.744727    REACH  \n",
       "2                    -0.301067  PUBCHEM  \n",
       "3                    -6.053323    OCHEM  \n",
       "4                     0.591625    OCHEM  \n",
       "5                     1.227887      CRC  "
      ]
     },
     "execution_count": 4,
     "metadata": {},
     "output_type": "execute_result"
    }
   ],
   "source": [
    "import pandas as pd\n",
    "df = pd.read_csv('/localhome/cschiebroek/ShuZe/vp/data cleaning/cleaned_vp_all.tsv', sep='\\t')\n",
    "df = df[df['Temperature'] == 298.15 ]\n",
    "all_smiles = df['SMILES'].tolist()\n",
    "df.head()"
   ]
  },
  {
   "cell_type": "markdown",
   "metadata": {},
   "source": [
    "We get all the smiles, create a conformer, assign stereo from 3D and register this mol. This  is because not for all mols, stereo is defined. Alternatively one could have used EnumerateStereoIsomers. The experimental data for each mol is retrieved from the dataframe and stored in the experimental_data table. "
   ]
  },
  {
   "cell_type": "code",
   "execution_count": null,
   "metadata": {},
   "outputs": [],
   "source": [
    "#lets register the others\n",
    "from rdkit.Chem import rdmolops\n",
    "from rdkit.Chem import AllChem\n",
    "from rdkit import Chem\n",
    "import json\n",
    "import lwreg\n",
    "from lwreg import standardization_lib\n",
    "from lwreg import utils\n",
    "config = lwreg.utils.defaultConfig()\n",
    "# set the name of the database we'll work with:\n",
    "config['dbtype'] = 'postgresql'\n",
    "config['dbname'] = 'cs_mdfps'\n",
    "config['host'] = 'lebanon'\n",
    "config['user'] = 'cschiebroek'\n",
    "config['password'] = '' # password is saved in our .pgpass\n",
    "# we don't want to standardize the molecules:\n",
    "config['standardization'] = standardization_lib.RemoveHs()\n",
    "# we want to store conformers\n",
    "config['registerConformers'] = True\n",
    "cn = utils._connect(config)\n",
    "cur = cn.cursor()\n",
    "for smi in all_smiles:\n",
    "    print(smi)\n",
    "    mol = Chem.AddHs(Chem.MolFromSmiles(smi, sanitize=False))\n",
    "    AllChem.EmbedMolecule(mol, enforceChirality=True, randomSeed=0xf00d)\n",
    "    rdmolops.AssignStereochemistryFrom3D(mol)\n",
    "    used_smiles = Chem.MolToSmiles(mol, isomericSmiles=True)\n",
    "    mol.SetProp(\"_Name\", used_smiles)\n",
    "    mol.UpdatePropertyCache(strict=False)\n",
    "    #register mol\n",
    "    try:\n",
    "        lwreg.register(config=config,mol=mol)\n",
    "    except:\n",
    "        print('registration failed for: ',smi)\n",
    "        continue\n",
    "    #get molregno\n",
    "    hits = lwreg.query(smiles=used_smiles,config=config)\n",
    "    try:\n",
    "        molregno = hits[0]\n",
    "    except IndexError:\n",
    "        print('query failed for: ',smi)\n",
    "        continue\n",
    "    #get experimental data for this molecule\n",
    "    VP = df[df['SMILES']==smi]['Vapour Pressure (log10 kPa)'].tolist()[0]\n",
    "    Temperature = df[df['SMILES']==smi]['Temperature'].tolist()[0]\n",
    "    Source = df[df['SMILES']==smi]['Source'].tolist()[0]\n",
    "    #create dict of temperature, source and smilese\n",
    "    metadata = {'Temperature':Temperature,'Source':Source,'SMILES':smi}\n",
    "    #register experimental data\n",
    "    #only insert if molregno is not in table\n",
    "    try:\n",
    "        cur.execute('insert into cs_mdfps_schema.experimental_data values (%s , %s, %s, %s, %s)',(str(molregno),str(0),json.dumps({}),str(VP),json.dumps(metadata)))\n",
    "    except:\n",
    "        pass\n",
    "cn.commit()\n",
    "\n"
   ]
  },
  {
   "cell_type": "markdown",
   "metadata": {},
   "source": [
    "We then use these conformers as input for mdfp_from_confid, and use these mdfps to predict vapour pressure (see Analysis/001_Baseline.ipynb)"
   ]
  },
  {
   "cell_type": "markdown",
   "metadata": {},
   "source": [
    "confgen_uuid: 906589dd-76fa-4d7b-aa9f-1ee90abe3835"
   ]
  }
 ],
 "metadata": {
  "kernelspec": {
   "display_name": "mdfp_carl",
   "language": "python",
   "name": "python3"
  },
  "language_info": {
   "codemirror_mode": {
    "name": "ipython",
    "version": 3
   },
   "file_extension": ".py",
   "mimetype": "text/x-python",
   "name": "python",
   "nbconvert_exporter": "python",
   "pygments_lexer": "ipython3",
   "version": "3.11.5"
  }
 },
 "nbformat": 4,
 "nbformat_minor": 2
}
