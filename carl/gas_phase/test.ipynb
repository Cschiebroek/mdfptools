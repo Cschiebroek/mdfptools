{
 "cells": [
  {
   "cell_type": "code",
   "execution_count": 2,
   "metadata": {},
   "outputs": [
    {
     "name": "stderr",
     "output_type": "stream",
     "text": [
      "Warning on use of the timeseries module: If the inherent timescales of the system are long compared to those being analyzed, this statistical inefficiency may be an underestimate.  The estimate presumes the use of many statistically independent samples.  Tests should be performed to assess whether this condition is satisfied.   Be cautious in the interpretation of the data.\n",
      "\n",
      "****** PyMBAR will use 64-bit JAX! *******\n",
      "* JAX is currently set to 32-bit bitsize *\n",
      "* which is its default.                  *\n",
      "*                                        *\n",
      "* PyMBAR requires 64-bit mode and WILL   *\n",
      "* enable JAX's 64-bit mode when called.  *\n",
      "*                                        *\n",
      "* This MAY cause problems with other     *\n",
      "* Uses of JAX in the same code.          *\n",
      "******************************************\n",
      "\n"
     ]
    },
    {
     "data": {
      "application/vnd.jupyter.widget-view+json": {
       "model_id": "efa53bb51ab2436e9183020219c6335f",
       "version_major": 2,
       "version_minor": 0
      },
      "text/plain": []
     },
     "metadata": {},
     "output_type": "display_data"
    }
   ],
   "source": [
    "#add parent dir to path \n",
    "import sys\n",
    "sys.path.append('../')\n",
    "\n",
    "#mdfptools\n",
    "from Parameteriser import VaccumParameteriser\n",
    "from Simulator import VacuumSimulator\n",
    "\n",
    "#rdkit\n",
    "from rdkit import Chem\n",
    "from rdkit.Chem import rdmolops\n",
    "from rdkit.Chem.rdmolfiles import MolFromMolFile\n",
    "\n",
    "#database\n",
    "import psycopg2\n",
    "import uuid\n",
    "import json\n",
    "\n",
    "#other\n",
    "import mdtraj as md\n",
    "import pickle\n",
    "import sys"
   ]
  },
  {
   "cell_type": "code",
   "execution_count": 4,
   "metadata": {},
   "outputs": [
    {
     "name": "stdout",
     "output_type": "stream",
     "text": [
      "Molobject created, parameterising...\n"
     ]
    },
    {
     "name": "stderr",
     "output_type": "stream",
     "text": [
      "2024-07-22 12:10:01,794 - INFO - Attempting to up-convert vdW section from 0.3 to 0.4\n",
      "2024-07-22 12:10:01,795 - INFO - Successfully up-converted vdW section from 0.3 to 0.4. `method=\"cutoff\"` is now split into `periodic_method=\"cutoff\"` and `nonperiodic_method=\"no-cutoff\"`.\n",
      "2024-07-22 12:10:01,803 - INFO - Attempting to up-convert Electrostatics section from 0.3 to 0.4\n",
      "2024-07-22 12:10:01,804 - INFO - Successfully up-converted Electrostatics section from 0.3 to 0.4. `method=\"PME\"` is now split into `periodic_potential=\"Ewald3D-ConductingBoundary\"`, `nonperiodic_potential=\"Coulomb\"`, and `exception_potential=\"Coulomb\"`.\n",
      "/localhome/cschiebroek/.conda/envs/openff_evaluator_clone/lib/python3.11/site-packages/parmed/structure.py:1775: UnitStrippedWarning: The unit of the quantity is stripped when downcasting to ndarray.\n",
      "  coords = np.array(value, dtype=np.float64, copy=False, subok=True)\n",
      "2024-07-22 12:10:01,874 - INFO - Starting simulation via OpenMM\n",
      "2024-07-22 12:10:01,875 - INFO - Adding bonds...\n",
      "2024-07-22 12:10:01,875 - INFO - Adding angles...\n",
      "2024-07-22 12:10:01,875 - INFO - Adding dihedrals...\n",
      "2024-07-22 12:10:01,876 - INFO - Adding Ryckaert-Bellemans torsions...\n",
      "2024-07-22 12:10:01,876 - INFO - Adding Urey-Bradleys...\n",
      "2024-07-22 12:10:01,876 - INFO - Adding improper torsions...\n",
      "2024-07-22 12:10:01,877 - INFO - Adding CMAP torsions...\n",
      "2024-07-22 12:10:01,877 - INFO - Adding trigonal angle terms...\n",
      "2024-07-22 12:10:01,877 - INFO - Adding out-of-plane bends...\n",
      "2024-07-22 12:10:01,877 - INFO - Adding pi-torsions...\n",
      "2024-07-22 12:10:01,878 - INFO - Adding stretch-bends...\n",
      "2024-07-22 12:10:01,878 - INFO - Adding torsion-torsions...\n",
      "2024-07-22 12:10:01,879 - INFO - Adding Nonbonded force...\n",
      "2024-07-22 12:10:01,880 - INFO - Adding thermostat\n",
      "2024-07-22 12:10:03,213 - INFO - Energy minimized\n",
      "2024-07-22 12:10:03,235 - INFO - Adding bonds...\n",
      "2024-07-22 12:10:03,236 - INFO - Adding angles...\n",
      "2024-07-22 12:10:03,236 - INFO - Adding dihedrals...\n",
      "2024-07-22 12:10:03,237 - INFO - Adding Ryckaert-Bellemans torsions...\n",
      "2024-07-22 12:10:03,237 - INFO - Adding Urey-Bradleys...\n",
      "2024-07-22 12:10:03,237 - INFO - Adding improper torsions...\n",
      "2024-07-22 12:10:03,238 - INFO - Adding CMAP torsions...\n",
      "2024-07-22 12:10:03,238 - INFO - Adding trigonal angle terms...\n",
      "2024-07-22 12:10:03,238 - INFO - Adding out-of-plane bends...\n",
      "2024-07-22 12:10:03,239 - INFO - Adding pi-torsions...\n",
      "2024-07-22 12:10:03,239 - INFO - Adding stretch-bends...\n",
      "2024-07-22 12:10:03,239 - INFO - Adding torsion-torsions...\n",
      "2024-07-22 12:10:03,239 - INFO - Adding Nonbonded force...\n"
     ]
    },
    {
     "ename": "KeyboardInterrupt",
     "evalue": "",
     "output_type": "error",
     "traceback": [
      "\u001b[0;31m---------------------------------------------------------------------------\u001b[0m",
      "\u001b[0;31mKeyboardInterrupt\u001b[0m                         Traceback (most recent call last)",
      "\u001b[0;32m/tmp/ipykernel_4046403/2074725833.py\u001b[0m in \u001b[0;36m?\u001b[0;34m()\u001b[0m\n\u001b[1;32m      3\u001b[0m \u001b[0msmiles\u001b[0m \u001b[0;34m=\u001b[0m \u001b[0mChem\u001b[0m\u001b[0;34m.\u001b[0m\u001b[0mMolToSmiles\u001b[0m\u001b[0;34m(\u001b[0m\u001b[0mmol\u001b[0m\u001b[0;34m)\u001b[0m\u001b[0;34m\u001b[0m\u001b[0;34m\u001b[0m\u001b[0m\n\u001b[1;32m      4\u001b[0m \u001b[0mprint\u001b[0m\u001b[0;34m(\u001b[0m\u001b[0;34m'Molobject created, parameterising...'\u001b[0m\u001b[0;34m)\u001b[0m\u001b[0;34m\u001b[0m\u001b[0;34m\u001b[0m\u001b[0m\n\u001b[1;32m      5\u001b[0m \u001b[0mrdk_pmd\u001b[0m \u001b[0;34m=\u001b[0m \u001b[0mVaccumParameteriser\u001b[0m\u001b[0;34m.\u001b[0m\u001b[0mvia_rdkit\u001b[0m\u001b[0;34m(\u001b[0m\u001b[0msmiles\u001b[0m \u001b[0;34m=\u001b[0m \u001b[0msmiles\u001b[0m\u001b[0;34m)\u001b[0m\u001b[0;34m\u001b[0m\u001b[0;34m\u001b[0m\u001b[0m\n\u001b[1;32m      6\u001b[0m \u001b[0mtraj_path\u001b[0m \u001b[0;34m=\u001b[0m \u001b[0;34m'./'\u001b[0m\u001b[0;34m\u001b[0m\u001b[0;34m\u001b[0m\u001b[0m\n\u001b[0;32m----> 7\u001b[0;31m VacuumSimulator.via_openmm(rdk_pmd, file_name = confid, file_path = traj_path,\n\u001b[0m\u001b[1;32m      8\u001b[0m                              platform = \"CUDA\", num_steps = 5000 * 500)\n\u001b[1;32m      9\u001b[0m \u001b[0mprint\u001b[0m\u001b[0;34m(\u001b[0m\u001b[0;34m'Simulation finished, composing mdfp...'\u001b[0m\u001b[0;34m)\u001b[0m\u001b[0;34m\u001b[0m\u001b[0;34m\u001b[0m\u001b[0m\n\u001b[1;32m     10\u001b[0m \u001b[0mtraj\u001b[0m \u001b[0;34m=\u001b[0m \u001b[0mmd\u001b[0m\u001b[0;34m.\u001b[0m\u001b[0mload\u001b[0m\u001b[0;34m(\u001b[0m\u001b[0;34mf\"{confid}.h5\"\u001b[0m\u001b[0;34m)\u001b[0m\u001b[0;34m\u001b[0m\u001b[0;34m\u001b[0m\u001b[0m\n",
      "\u001b[0;32m/localhome/cschiebroek/MDFP_VP/mdfptools/carl/gas_phase/../Simulator.py\u001b[0m in \u001b[0;36m?\u001b[0;34m(cls, parmed_obj, file_name, file_path, platform, num_steps, write_out_freq, report_production, constrain_all_bonds, **kwargs)\u001b[0m\n\u001b[1;32m    196\u001b[0m         \u001b[0msimulation\u001b[0m\u001b[0;34m.\u001b[0m\u001b[0mcontext\u001b[0m\u001b[0;34m.\u001b[0m\u001b[0msetPositions\u001b[0m\u001b[0;34m(\u001b[0m\u001b[0mpmd\u001b[0m\u001b[0;34m.\u001b[0m\u001b[0mpositions\u001b[0m\u001b[0;34m)\u001b[0m\u001b[0;34m\u001b[0m\u001b[0;34m\u001b[0m\u001b[0m\n\u001b[1;32m    197\u001b[0m         \u001b[0;32mif\u001b[0m \u001b[0mreport_production\u001b[0m\u001b[0;34m:\u001b[0m\u001b[0;34m\u001b[0m\u001b[0;34m\u001b[0m\u001b[0m\n\u001b[1;32m    198\u001b[0m             \u001b[0msimulation\u001b[0m\u001b[0;34m.\u001b[0m\u001b[0mreporters\u001b[0m\u001b[0;34m.\u001b[0m\u001b[0mappend\u001b[0m\u001b[0;34m(\u001b[0m\u001b[0mStateDataReporter\u001b[0m\u001b[0;34m(\u001b[0m\u001b[0;34m\"{}/production_{}.dat\"\u001b[0m\u001b[0;34m.\u001b[0m\u001b[0mformat\u001b[0m\u001b[0;34m(\u001b[0m\u001b[0mfile_path\u001b[0m\u001b[0;34m,\u001b[0m \u001b[0mfile_name\u001b[0m\u001b[0;34m)\u001b[0m\u001b[0;34m,\u001b[0m \u001b[0mnum_steps\u001b[0m \u001b[0;34m//\u001b[0m \u001b[0;36m50000\u001b[0m\u001b[0;34m,\u001b[0m \u001b[0mstep\u001b[0m\u001b[0;34m=\u001b[0m\u001b[0;32mTrue\u001b[0m\u001b[0;34m,\u001b[0m \u001b[0mpotentialEnergy\u001b[0m\u001b[0;34m=\u001b[0m\u001b[0;32mTrue\u001b[0m\u001b[0;34m,\u001b[0m \u001b[0mtemperature\u001b[0m\u001b[0;34m=\u001b[0m\u001b[0;32mTrue\u001b[0m\u001b[0;34m)\u001b[0m\u001b[0;34m)\u001b[0m\u001b[0;34m\u001b[0m\u001b[0;34m\u001b[0m\u001b[0m\n\u001b[1;32m    199\u001b[0m         \u001b[0msimulation\u001b[0m\u001b[0;34m.\u001b[0m\u001b[0mreporters\u001b[0m\u001b[0;34m.\u001b[0m\u001b[0mappend\u001b[0m\u001b[0;34m(\u001b[0m\u001b[0mHDF5Reporter\u001b[0m\u001b[0;34m(\u001b[0m\u001b[0mpath\u001b[0m\u001b[0;34m,\u001b[0m \u001b[0mwrite_out_freq\u001b[0m\u001b[0;34m)\u001b[0m\u001b[0;34m)\u001b[0m\u001b[0;34m\u001b[0m\u001b[0;34m\u001b[0m\u001b[0m\n\u001b[0;32m--> 200\u001b[0;31m         \u001b[0msimulation\u001b[0m\u001b[0;34m.\u001b[0m\u001b[0mstep\u001b[0m\u001b[0;34m(\u001b[0m\u001b[0mnum_steps\u001b[0m\u001b[0;34m)\u001b[0m\u001b[0;34m\u001b[0m\u001b[0;34m\u001b[0m\u001b[0m\n\u001b[0m\u001b[1;32m    201\u001b[0m         \u001b[0mlogger\u001b[0m\u001b[0;34m.\u001b[0m\u001b[0minfo\u001b[0m\u001b[0;34m(\u001b[0m\u001b[0;34m\"Production complete\"\u001b[0m\u001b[0;34m)\u001b[0m\u001b[0;34m\u001b[0m\u001b[0;34m\u001b[0m\u001b[0m\n\u001b[1;32m    202\u001b[0m \u001b[0;34m\u001b[0m\u001b[0m\n\u001b[1;32m    203\u001b[0m         \u001b[0;32mreturn\u001b[0m \u001b[0mos\u001b[0m\u001b[0;34m.\u001b[0m\u001b[0mpath\u001b[0m\u001b[0;34m.\u001b[0m\u001b[0mabspath\u001b[0m\u001b[0;34m(\u001b[0m\u001b[0mpath\u001b[0m\u001b[0;34m)\u001b[0m\u001b[0;34m\u001b[0m\u001b[0;34m\u001b[0m\u001b[0m\n",
      "\u001b[0;32m/localhome/cschiebroek/.conda/envs/openff_evaluator_clone/lib/python3.11/site-packages/openmm/app/simulation.py\u001b[0m in \u001b[0;36m?\u001b[0;34m(self, steps)\u001b[0m\n\u001b[1;32m    139\u001b[0m     \u001b[0;32mdef\u001b[0m \u001b[0mstep\u001b[0m\u001b[0;34m(\u001b[0m\u001b[0mself\u001b[0m\u001b[0;34m,\u001b[0m \u001b[0msteps\u001b[0m\u001b[0;34m)\u001b[0m\u001b[0;34m:\u001b[0m\u001b[0;34m\u001b[0m\u001b[0;34m\u001b[0m\u001b[0m\n\u001b[1;32m    140\u001b[0m         \u001b[0;34m\"\"\"Advance the simulation by integrating a specified number of time steps.\"\"\"\u001b[0m\u001b[0;34m\u001b[0m\u001b[0;34m\u001b[0m\u001b[0m\n\u001b[0;32m--> 141\u001b[0;31m         \u001b[0mself\u001b[0m\u001b[0;34m.\u001b[0m\u001b[0m_simulate\u001b[0m\u001b[0;34m(\u001b[0m\u001b[0mendStep\u001b[0m\u001b[0;34m=\u001b[0m\u001b[0mself\u001b[0m\u001b[0;34m.\u001b[0m\u001b[0mcurrentStep\u001b[0m\u001b[0;34m+\u001b[0m\u001b[0msteps\u001b[0m\u001b[0;34m)\u001b[0m\u001b[0;34m\u001b[0m\u001b[0;34m\u001b[0m\u001b[0m\n\u001b[0m",
      "\u001b[0;32m/localhome/cschiebroek/.conda/envs/openff_evaluator_clone/lib/python3.11/site-packages/openmm/app/simulation.py\u001b[0m in \u001b[0;36m?\u001b[0;34m(self, endStep, endTime)\u001b[0m\n\u001b[1;32m    202\u001b[0m                     \u001b[0mnextSteps\u001b[0m \u001b[0;34m=\u001b[0m \u001b[0mnextReport\u001b[0m\u001b[0;34m[\u001b[0m\u001b[0mi\u001b[0m\u001b[0;34m]\u001b[0m\u001b[0;34m[\u001b[0m\u001b[0;36m0\u001b[0m\u001b[0;34m]\u001b[0m\u001b[0;34m\u001b[0m\u001b[0;34m\u001b[0m\u001b[0m\n\u001b[1;32m    203\u001b[0m                     \u001b[0manyReport\u001b[0m \u001b[0;34m=\u001b[0m \u001b[0;32mTrue\u001b[0m\u001b[0;34m\u001b[0m\u001b[0;34m\u001b[0m\u001b[0m\n\u001b[1;32m    204\u001b[0m             \u001b[0mstepsToGo\u001b[0m \u001b[0;34m=\u001b[0m \u001b[0mnextSteps\u001b[0m\u001b[0;34m\u001b[0m\u001b[0;34m\u001b[0m\u001b[0m\n\u001b[1;32m    205\u001b[0m             \u001b[0;32mwhile\u001b[0m \u001b[0mstepsToGo\u001b[0m \u001b[0;34m>\u001b[0m \u001b[0;36m10\u001b[0m\u001b[0;34m:\u001b[0m\u001b[0;34m\u001b[0m\u001b[0;34m\u001b[0m\u001b[0m\n\u001b[0;32m--> 206\u001b[0;31m                 \u001b[0mself\u001b[0m\u001b[0;34m.\u001b[0m\u001b[0mintegrator\u001b[0m\u001b[0;34m.\u001b[0m\u001b[0mstep\u001b[0m\u001b[0;34m(\u001b[0m\u001b[0;36m10\u001b[0m\u001b[0;34m)\u001b[0m \u001b[0;31m# Only take 10 steps at a time, to give Python more chances to respond to a control-c.\u001b[0m\u001b[0;34m\u001b[0m\u001b[0;34m\u001b[0m\u001b[0m\n\u001b[0m\u001b[1;32m    207\u001b[0m                 \u001b[0mstepsToGo\u001b[0m \u001b[0;34m-=\u001b[0m \u001b[0;36m10\u001b[0m\u001b[0;34m\u001b[0m\u001b[0;34m\u001b[0m\u001b[0m\n\u001b[1;32m    208\u001b[0m                 \u001b[0;32mif\u001b[0m \u001b[0mendTime\u001b[0m \u001b[0;32mis\u001b[0m \u001b[0;32mnot\u001b[0m \u001b[0;32mNone\u001b[0m \u001b[0;32mand\u001b[0m \u001b[0mdatetime\u001b[0m\u001b[0;34m.\u001b[0m\u001b[0mnow\u001b[0m\u001b[0;34m(\u001b[0m\u001b[0;34m)\u001b[0m \u001b[0;34m>=\u001b[0m \u001b[0mendTime\u001b[0m\u001b[0;34m:\u001b[0m\u001b[0;34m\u001b[0m\u001b[0;34m\u001b[0m\u001b[0m\n\u001b[1;32m    209\u001b[0m                     \u001b[0;32mreturn\u001b[0m\u001b[0;34m\u001b[0m\u001b[0;34m\u001b[0m\u001b[0m\n",
      "\u001b[0;32m/localhome/cschiebroek/.conda/envs/openff_evaluator_clone/lib/python3.11/site-packages/openmm/openmm.py\u001b[0m in \u001b[0;36m?\u001b[0;34m(self, steps)\u001b[0m\n\u001b[1;32m   3915\u001b[0m         \u001b[0;34m-\u001b[0m\u001b[0;34m-\u001b[0m\u001b[0;34m-\u001b[0m\u001b[0;34m-\u001b[0m\u001b[0;34m-\u001b[0m\u001b[0;34m-\u001b[0m\u001b[0;34m-\u001b[0m\u001b[0;34m-\u001b[0m\u001b[0;34m-\u001b[0m\u001b[0;34m-\u001b[0m\u001b[0;34m\u001b[0m\u001b[0;34m\u001b[0m\u001b[0m\n\u001b[1;32m   3916\u001b[0m         \u001b[0msteps\u001b[0m \u001b[0;34m:\u001b[0m \u001b[0mint\u001b[0m\u001b[0;34m\u001b[0m\u001b[0;34m\u001b[0m\u001b[0m\n\u001b[1;32m   3917\u001b[0m             \u001b[0mthe\u001b[0m \u001b[0mnumber\u001b[0m \u001b[0mof\u001b[0m \u001b[0mtime\u001b[0m \u001b[0msteps\u001b[0m \u001b[0mto\u001b[0m \u001b[0mtake\u001b[0m\u001b[0;34m\u001b[0m\u001b[0;34m\u001b[0m\u001b[0m\n\u001b[1;32m   3918\u001b[0m         \"\"\"\n\u001b[0;32m-> 3919\u001b[0;31m         \u001b[0;32mreturn\u001b[0m \u001b[0m_openmm\u001b[0m\u001b[0;34m.\u001b[0m\u001b[0mVerletIntegrator_step\u001b[0m\u001b[0;34m(\u001b[0m\u001b[0mself\u001b[0m\u001b[0;34m,\u001b[0m \u001b[0msteps\u001b[0m\u001b[0;34m)\u001b[0m\u001b[0;34m\u001b[0m\u001b[0;34m\u001b[0m\u001b[0m\n\u001b[0m",
      "\u001b[0;31mKeyboardInterrupt\u001b[0m: "
     ]
    }
   ],
   "source": [
    "\n",
    "confid = '1172'\n",
    "mol = MolFromMolFile(f'../mols_3d/{confid}.mol')\n",
    "smiles = Chem.MolToSmiles(mol)\n",
    "print('Molobject created, parameterising...')\n",
    "rdk_pmd = VaccumParameteriser.via_rdkit(smiles = smiles)\n",
    "#save as pickle\n",
    "with open(f'{confid}.pkl', 'wb') as f:\n",
    "    pickle.dump(rdk_pmd, f)\n",
    "traj_path = './'\n",
    "VacuumSimulator.via_openmm(rdk_pmd, file_name = confid, file_path = traj_path,\n",
    "                             platform = \"CUDA\", num_steps = 5000 * 500)\n",
    "print('Simulation finished, composing mdfp...')\n",
    "traj = md.load(f\"{confid}.h5\")\n"
   ]
  },
  {
   "cell_type": "code",
   "execution_count": 1,
   "metadata": {},
   "outputs": [
    {
     "name": "stderr",
     "output_type": "stream",
     "text": [
      "/localhome/cschiebroek/.conda/envs/openff_evaluator_clone/lib/python3.11/site-packages/mdtraj/core/trajectory.py:441: UserWarning: top= kwargs ignored since this file parser does not support it\n",
      "  warnings.warn(\"top= kwargs ignored since this file parser does not support it\")\n"
     ]
    },
    {
     "data": {
      "text/plain": [
       "{'2d_counts': [5, 1, 0, 0, 0, 0, 0, 0, 0, 0],\n",
       " 'vacuum_intra_crf': [3.667698673523133,\n",
       "  0.6227154067311728,\n",
       "  3.7020374426739786],\n",
       " 'vacuum_intra_lj': [-0.5782653031372216,\n",
       "  0.8626642114986389,\n",
       "  -0.8643766061722754],\n",
       " 'vacuum_intra_ene': [3.0894333703859114,\n",
       "  1.0246224050574286,\n",
       "  2.9237183701783245],\n",
       " 'vacuum_rgyr': [0.16685197913772093,\n",
       "  0.0023996112689251225,\n",
       "  0.16678072785561368],\n",
       " 'vacuum_sasa': [2.587742, 0.018091245, 2.5880396],\n",
       " 'vacuum_dipole_magnitude': [0.0033219859030789944,\n",
       "  0.0012649524064599939,\n",
       "  0.003170683662785703]}"
      ]
     },
     "execution_count": 1,
     "metadata": {},
     "output_type": "execute_result"
    }
   ],
   "source": [
    "import sys\n",
    "sys.path.append('../')\n",
    "from Composer import VacuumComposer\n",
    "from rdkit.Chem.rdmolfiles import MolFromMolFile\n",
    "import pickle\n",
    "import mdtraj as md\n",
    "from rdkit import Chem\n",
    "\n",
    "confid = '1172'\n",
    "\n",
    "rdk_pmd = pickle.load(open(f'{confid}.pkl', 'rb'))\n",
    "mol = MolFromMolFile(f'../mols_3d/{confid}.mol')\n",
    "traj = md.load(f\"{confid}.h5\")\n",
    "smiles = Chem.MolToSmiles(mol)\n",
    "mdfp = VacuumComposer.run(traj, rdk_pmd,smiles=smiles)\n",
    "mdfp.mdfp\n"
   ]
  },
  {
   "cell_type": "code",
   "execution_count": null,
   "metadata": {},
   "outputs": [],
   "source": [
    "import sys\n",
    "sys.path.append('../')\n",
    "from Composer import VacuumComposer\n",
    "from rdkit.Chem.rdmolfiles import MolFromMolFile\n",
    "import pickle\n",
    "import mdtraj as md\n",
    "from rdkit import Chem\n",
    "\n",
    "confid = '1172'\n",
    "\n",
    "rdk_pmd = pickle.load(open(f'{confid}.pkl', 'rb'))\n",
    "mol = MolFromMolFile(f'../mols_3d/{confid}.mol')\n",
    "traj = md.load(f\"{confid}.h5\")\n",
    "smiles = Chem.MolToSmiles(mol)\n",
    "mdfp = VacuumComposer.run(traj, rdk_pmd,smiles=smiles)\n",
    "mdfp.mdfp\n"
   ]
  },
  {
   "cell_type": "code",
   "execution_count": 3,
   "metadata": {},
   "outputs": [
    {
     "name": "stdout",
     "output_type": "stream",
     "text": [
      "Confid:  1172\n",
      "Molobject created, parameterising...\n"
     ]
    },
    {
     "name": "stderr",
     "output_type": "stream",
     "text": [
      "2024-07-22 12:39:39,465 - INFO - Attempting to up-convert vdW section from 0.3 to 0.4\n",
      "2024-07-22 12:39:39,466 - INFO - Successfully up-converted vdW section from 0.3 to 0.4. `method=\"cutoff\"` is now split into `periodic_method=\"cutoff\"` and `nonperiodic_method=\"no-cutoff\"`.\n",
      "2024-07-22 12:39:39,474 - INFO - Attempting to up-convert Electrostatics section from 0.3 to 0.4\n",
      "2024-07-22 12:39:39,474 - INFO - Successfully up-converted Electrostatics section from 0.3 to 0.4. `method=\"PME\"` is now split into `periodic_potential=\"Ewald3D-ConductingBoundary\"`, `nonperiodic_potential=\"Coulomb\"`, and `exception_potential=\"Coulomb\"`.\n",
      "/localhome/cschiebroek/.conda/envs/openff_evaluator_clone/lib/python3.11/site-packages/parmed/structure.py:1775: UnitStrippedWarning: The unit of the quantity is stripped when downcasting to ndarray.\n",
      "  coords = np.array(value, dtype=np.float64, copy=False, subok=True)\n",
      "2024-07-22 12:39:39,539 - INFO - Starting simulation via OpenMM\n",
      "2024-07-22 12:39:39,540 - INFO - Adding bonds...\n",
      "2024-07-22 12:39:39,540 - INFO - Adding angles...\n",
      "2024-07-22 12:39:39,541 - INFO - Adding dihedrals...\n",
      "2024-07-22 12:39:39,541 - INFO - Adding Ryckaert-Bellemans torsions...\n",
      "2024-07-22 12:39:39,541 - INFO - Adding Urey-Bradleys...\n",
      "2024-07-22 12:39:39,541 - INFO - Adding improper torsions...\n",
      "2024-07-22 12:39:39,542 - INFO - Adding CMAP torsions...\n",
      "2024-07-22 12:39:39,542 - INFO - Adding trigonal angle terms...\n",
      "2024-07-22 12:39:39,542 - INFO - Adding out-of-plane bends...\n",
      "2024-07-22 12:39:39,542 - INFO - Adding pi-torsions...\n",
      "2024-07-22 12:39:39,543 - INFO - Adding stretch-bends...\n",
      "2024-07-22 12:39:39,543 - INFO - Adding torsion-torsions...\n",
      "2024-07-22 12:39:39,543 - INFO - Adding Nonbonded force...\n",
      "2024-07-22 12:39:39,544 - INFO - Adding thermostat\n"
     ]
    },
    {
     "name": "stdout",
     "output_type": "stream",
     "text": [
      "Topology saved, simulating...\n"
     ]
    },
    {
     "name": "stderr",
     "output_type": "stream",
     "text": [
      "2024-07-22 12:39:39,776 - INFO - Energy minimized\n",
      "2024-07-22 12:39:39,798 - INFO - Adding bonds...\n",
      "2024-07-22 12:39:39,799 - INFO - Adding angles...\n",
      "2024-07-22 12:39:39,799 - INFO - Adding dihedrals...\n",
      "2024-07-22 12:39:39,799 - INFO - Adding Ryckaert-Bellemans torsions...\n",
      "2024-07-22 12:39:39,799 - INFO - Adding Urey-Bradleys...\n",
      "2024-07-22 12:39:39,800 - INFO - Adding improper torsions...\n",
      "2024-07-22 12:39:39,800 - INFO - Adding CMAP torsions...\n",
      "2024-07-22 12:39:39,800 - INFO - Adding trigonal angle terms...\n",
      "2024-07-22 12:39:39,800 - INFO - Adding out-of-plane bends...\n",
      "2024-07-22 12:39:39,801 - INFO - Adding pi-torsions...\n",
      "2024-07-22 12:39:39,801 - INFO - Adding stretch-bends...\n",
      "2024-07-22 12:39:39,801 - INFO - Adding torsion-torsions...\n",
      "2024-07-22 12:39:39,801 - INFO - Adding Nonbonded force...\n",
      "2024-07-22 12:41:35,760 - INFO - Production complete\n",
      "/localhome/cschiebroek/.conda/envs/openff_evaluator_clone/lib/python3.11/site-packages/mdtraj/core/trajectory.py:441: UserWarning: top= kwargs ignored since this file parser does not support it\n",
      "  warnings.warn(\"top= kwargs ignored since this file parser does not support it\")\n",
      "2024-07-22 12:41:35,792 - INFO - Adding bonds...\n",
      "2024-07-22 12:41:35,792 - INFO - Adding angles...\n",
      "2024-07-22 12:41:35,792 - INFO - Adding dihedrals...\n",
      "2024-07-22 12:41:35,793 - INFO - Adding Ryckaert-Bellemans torsions...\n",
      "2024-07-22 12:41:35,793 - INFO - Adding Urey-Bradleys...\n",
      "2024-07-22 12:41:35,793 - INFO - Adding improper torsions...\n",
      "2024-07-22 12:41:35,793 - INFO - Adding CMAP torsions...\n",
      "2024-07-22 12:41:35,794 - INFO - Adding trigonal angle terms...\n",
      "2024-07-22 12:41:35,794 - INFO - Adding out-of-plane bends...\n",
      "2024-07-22 12:41:35,794 - INFO - Adding pi-torsions...\n",
      "2024-07-22 12:41:35,794 - INFO - Adding stretch-bends...\n",
      "2024-07-22 12:41:35,794 - INFO - Adding torsion-torsions...\n",
      "2024-07-22 12:41:35,795 - INFO - Adding Nonbonded force...\n"
     ]
    },
    {
     "name": "stdout",
     "output_type": "stream",
     "text": [
      "Simulation finished, composing mdfp...\n"
     ]
    }
   ],
   "source": [
    "import sys\n",
    "sys.path.append('../')\n",
    "from Parameteriser import VacuumParameteriser\n",
    "from Simulator import VacuumSimulator\n",
    "from Composer import VacuumComposer\n",
    "from rdkit.Chem.rdmolfiles import MolFromMolFile\n",
    "import pickle\n",
    "import mdtraj as md\n",
    "from rdkit import Chem\n",
    "from rdkit.Chem.rdmolfiles import MolFromMolFile\n",
    "\n",
    "confid = '1172'\n",
    "print('Confid: ', confid)\n",
    "mol = MolFromMolFile(f'../mols_3d/{confid}.mol')\n",
    "print('Molobject created, parameterising...')\n",
    "rdk_pmd = VacuumParameteriser.via_rdkit(mol = mol)\n",
    "topo_filename = f\"{confid}.pickle\"\n",
    "pickle.dump(rdk_pmd, open(topo_filename, \"wb\"))\n",
    "\n",
    "print('Topology saved, simulating...')\n",
    "traj_path = f\"./\"\n",
    "VacuumSimulator.via_openmm(rdk_pmd, file_name = confid, file_path = traj_path,\n",
    "                             platform = \"CUDA\", num_steps = 5000 * 500)\n",
    "print('Simulation finished, composing mdfp...')\n",
    "traj = md.load(f\"./{confid}.h5\")\n",
    "smiles = Chem.MolToSmiles(mol)\n",
    "mdfp = VacuumComposer.run(traj, rdk_pmd,smiles=smiles)\n",
    "mdfp = mdfp.mdfp"
   ]
  },
  {
   "cell_type": "code",
   "execution_count": 5,
   "metadata": {},
   "outputs": [
    {
     "name": "stderr",
     "output_type": "stream",
     "text": [
      "/localhome/cschiebroek/.conda/envs/openff_evaluator_clone/lib/python3.11/site-packages/mdtraj/core/trajectory.py:441: UserWarning: top= kwargs ignored since this file parser does not support it\n",
      "  warnings.warn(\"top= kwargs ignored since this file parser does not support it\")\n"
     ]
    }
   ],
   "source": [
    "#also save simulation as dcd, and top as pdb\n",
    "import mdtraj as md\n",
    "traj = md.load(f\"{confid}.h5\")\n",
    "traj.save(f\"{confid}.dcd\")\n",
    "rdk_pmd.save(f\"{confid}.pdb\")"
   ]
  }
 ],
 "metadata": {
  "kernelspec": {
   "display_name": "mdfp_carl",
   "language": "python",
   "name": "python3"
  },
  "language_info": {
   "codemirror_mode": {
    "name": "ipython",
    "version": 3
   },
   "file_extension": ".py",
   "mimetype": "text/x-python",
   "name": "python",
   "nbconvert_exporter": "python",
   "pygments_lexer": "ipython3",
   "version": "3.11.9"
  }
 },
 "nbformat": 4,
 "nbformat_minor": 2
}
