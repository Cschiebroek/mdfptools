{
 "cells": [
  {
   "cell_type": "code",
   "execution_count": null,
   "metadata": {},
   "outputs": [],
   "source": []
  },
  {
   "cell_type": "code",
   "execution_count": 48,
   "metadata": {},
   "outputs": [
    {
     "name": "stderr",
     "output_type": "stream",
     "text": [
      "/localhome/cschiebroek/.conda/envs/molecular-descriptors/lib/python3.9/site-packages/scipy/stats/_distn_infrastructure.py:2246: RuntimeWarning:\n",
      "\n",
      "invalid value encountered in multiply\n",
      "\n",
      "/localhome/cschiebroek/.conda/envs/molecular-descriptors/lib/python3.9/site-packages/scipy/stats/_distn_infrastructure.py:2247: RuntimeWarning:\n",
      "\n",
      "invalid value encountered in multiply\n",
      "\n"
     ]
    }
   ],
   "source": [
    "import pandas as pd\n",
    "from utils.visualization import compile_metrics_dataframe\n",
    "data_path = 'results/test_set_overfitting_check_different_train_ranges_Counts_NeuralNetworkModelGregstyle.pkl'\n",
    "data_path_train_results_mid = 'results/train_set_mid_overfitting_check_different_train_ranges_Counts_NeuralNetworkModelGregstyle.pkl'\n",
    "data_path_train_results_full = 'results/train_set_full_overfitting_check_different_train_ranges_Counts_NeuralNetworkModelGregstyle.pkl'\n",
    "\n",
    "df_metrics_full_train_range_counts_and_physchem = compile_metrics_dataframe(data_path,train_set='full_range')\n",
    "df_metrics_mid_train_range_counts_and_physchem = compile_metrics_dataframe(data_path,train_set='mid_range')\n",
    "df_train_metrics_mid = compile_metrics_dataframe(data_path_train_results_mid,train_set='mid_range')\n",
    "df_train_metrics_full = compile_metrics_dataframe(data_path_train_results_full,train_set='full_range')\n"
   ]
  },
  {
   "cell_type": "code",
   "execution_count": 53,
   "metadata": {},
   "outputs": [
    {
     "data": {
      "text/html": [
       "<div>\n",
       "<style scoped>\n",
       "    .dataframe tbody tr th:only-of-type {\n",
       "        vertical-align: middle;\n",
       "    }\n",
       "\n",
       "    .dataframe tbody tr th {\n",
       "        vertical-align: top;\n",
       "    }\n",
       "\n",
       "    .dataframe thead th {\n",
       "        text-align: right;\n",
       "    }\n",
       "</style>\n",
       "<table border=\"1\" class=\"dataframe\">\n",
       "  <thead>\n",
       "    <tr style=\"text-align: right;\">\n",
       "      <th></th>\n",
       "      <th>Model</th>\n",
       "      <th>Descriptor</th>\n",
       "      <th>Metric</th>\n",
       "      <th>Train_Mid</th>\n",
       "      <th>CI_Low_x</th>\n",
       "      <th>CI_High_x</th>\n",
       "      <th>Test_Mid</th>\n",
       "      <th>CI_Low_y</th>\n",
       "      <th>CI_High_y</th>\n",
       "      <th>Test_Mid_as_percentage_of_Train_Mid</th>\n",
       "    </tr>\n",
       "  </thead>\n",
       "  <tbody>\n",
       "    <tr>\n",
       "      <th>0</th>\n",
       "      <td>MLP</td>\n",
       "      <td>Counts</td>\n",
       "      <td>Error_below_1</td>\n",
       "      <td>0.917341</td>\n",
       "      <td>0.906280</td>\n",
       "      <td>0.928401</td>\n",
       "      <td>0.908732</td>\n",
       "      <td>0.890424</td>\n",
       "      <td>0.927040</td>\n",
       "      <td>99.061573</td>\n",
       "    </tr>\n",
       "    <tr>\n",
       "      <th>1</th>\n",
       "      <td>MLP</td>\n",
       "      <td>Counts</td>\n",
       "      <td>KendallTau</td>\n",
       "      <td>0.724904</td>\n",
       "      <td>0.712872</td>\n",
       "      <td>0.736936</td>\n",
       "      <td>0.713488</td>\n",
       "      <td>0.689237</td>\n",
       "      <td>0.737740</td>\n",
       "      <td>98.425202</td>\n",
       "    </tr>\n",
       "    <tr>\n",
       "      <th>2</th>\n",
       "      <td>MLP</td>\n",
       "      <td>Counts</td>\n",
       "      <td>MAE</td>\n",
       "      <td>0.419442</td>\n",
       "      <td>0.395700</td>\n",
       "      <td>0.443185</td>\n",
       "      <td>0.435049</td>\n",
       "      <td>0.401229</td>\n",
       "      <td>0.468870</td>\n",
       "      <td>103.720884</td>\n",
       "    </tr>\n",
       "    <tr>\n",
       "      <th>3</th>\n",
       "      <td>MLP</td>\n",
       "      <td>Counts</td>\n",
       "      <td>MedianAE</td>\n",
       "      <td>0.305881</td>\n",
       "      <td>0.285304</td>\n",
       "      <td>0.326457</td>\n",
       "      <td>0.320357</td>\n",
       "      <td>0.292040</td>\n",
       "      <td>0.348673</td>\n",
       "      <td>104.732564</td>\n",
       "    </tr>\n",
       "    <tr>\n",
       "      <th>4</th>\n",
       "      <td>MLP</td>\n",
       "      <td>Counts</td>\n",
       "      <td>RMSE</td>\n",
       "      <td>0.576076</td>\n",
       "      <td>0.546412</td>\n",
       "      <td>0.605739</td>\n",
       "      <td>0.594160</td>\n",
       "      <td>0.549857</td>\n",
       "      <td>0.638463</td>\n",
       "      <td>103.139237</td>\n",
       "    </tr>\n",
       "    <tr>\n",
       "      <th>5</th>\n",
       "      <td>RF</td>\n",
       "      <td>Counts</td>\n",
       "      <td>Error_below_1</td>\n",
       "      <td>0.998141</td>\n",
       "      <td>0.997737</td>\n",
       "      <td>0.998545</td>\n",
       "      <td>0.941181</td>\n",
       "      <td>0.936494</td>\n",
       "      <td>0.945867</td>\n",
       "      <td>94.293393</td>\n",
       "    </tr>\n",
       "    <tr>\n",
       "      <th>6</th>\n",
       "      <td>RF</td>\n",
       "      <td>Counts</td>\n",
       "      <td>KendallTau</td>\n",
       "      <td>0.907285</td>\n",
       "      <td>0.906195</td>\n",
       "      <td>0.908375</td>\n",
       "      <td>0.760999</td>\n",
       "      <td>0.749687</td>\n",
       "      <td>0.772312</td>\n",
       "      <td>83.876531</td>\n",
       "    </tr>\n",
       "    <tr>\n",
       "      <th>7</th>\n",
       "      <td>RF</td>\n",
       "      <td>Counts</td>\n",
       "      <td>MAE</td>\n",
       "      <td>0.144059</td>\n",
       "      <td>0.142674</td>\n",
       "      <td>0.145444</td>\n",
       "      <td>0.337795</td>\n",
       "      <td>0.326047</td>\n",
       "      <td>0.349543</td>\n",
       "      <td>234.483843</td>\n",
       "    </tr>\n",
       "    <tr>\n",
       "      <th>8</th>\n",
       "      <td>RF</td>\n",
       "      <td>Counts</td>\n",
       "      <td>MedianAE</td>\n",
       "      <td>0.098336</td>\n",
       "      <td>0.097308</td>\n",
       "      <td>0.099364</td>\n",
       "      <td>0.211897</td>\n",
       "      <td>0.200971</td>\n",
       "      <td>0.222823</td>\n",
       "      <td>215.482489</td>\n",
       "    </tr>\n",
       "    <tr>\n",
       "      <th>9</th>\n",
       "      <td>RF</td>\n",
       "      <td>Counts</td>\n",
       "      <td>RMSE</td>\n",
       "      <td>0.206580</td>\n",
       "      <td>0.203533</td>\n",
       "      <td>0.209627</td>\n",
       "      <td>0.500154</td>\n",
       "      <td>0.477893</td>\n",
       "      <td>0.522416</td>\n",
       "      <td>242.111967</td>\n",
       "    </tr>\n",
       "    <tr>\n",
       "      <th>10</th>\n",
       "      <td>RF_SHORT</td>\n",
       "      <td>Counts</td>\n",
       "      <td>Error_below_1</td>\n",
       "      <td>0.839250</td>\n",
       "      <td>0.836478</td>\n",
       "      <td>0.842022</td>\n",
       "      <td>0.823875</td>\n",
       "      <td>0.815621</td>\n",
       "      <td>0.832130</td>\n",
       "      <td>98.168070</td>\n",
       "    </tr>\n",
       "    <tr>\n",
       "      <th>11</th>\n",
       "      <td>RF_SHORT</td>\n",
       "      <td>Counts</td>\n",
       "      <td>KendallTau</td>\n",
       "      <td>0.678242</td>\n",
       "      <td>0.674885</td>\n",
       "      <td>0.681599</td>\n",
       "      <td>0.651146</td>\n",
       "      <td>0.639191</td>\n",
       "      <td>0.663100</td>\n",
       "      <td>96.004849</td>\n",
       "    </tr>\n",
       "    <tr>\n",
       "      <th>12</th>\n",
       "      <td>RF_SHORT</td>\n",
       "      <td>Counts</td>\n",
       "      <td>MAE</td>\n",
       "      <td>0.571563</td>\n",
       "      <td>0.568027</td>\n",
       "      <td>0.575100</td>\n",
       "      <td>0.596210</td>\n",
       "      <td>0.584051</td>\n",
       "      <td>0.608369</td>\n",
       "      <td>104.312109</td>\n",
       "    </tr>\n",
       "    <tr>\n",
       "      <th>13</th>\n",
       "      <td>RF_SHORT</td>\n",
       "      <td>Counts</td>\n",
       "      <td>MedianAE</td>\n",
       "      <td>0.478507</td>\n",
       "      <td>0.473133</td>\n",
       "      <td>0.483881</td>\n",
       "      <td>0.495871</td>\n",
       "      <td>0.481307</td>\n",
       "      <td>0.510435</td>\n",
       "      <td>103.628809</td>\n",
       "    </tr>\n",
       "    <tr>\n",
       "      <th>14</th>\n",
       "      <td>RF_SHORT</td>\n",
       "      <td>Counts</td>\n",
       "      <td>RMSE</td>\n",
       "      <td>0.721529</td>\n",
       "      <td>0.717696</td>\n",
       "      <td>0.725362</td>\n",
       "      <td>0.755866</td>\n",
       "      <td>0.741690</td>\n",
       "      <td>0.770043</td>\n",
       "      <td>104.758955</td>\n",
       "    </tr>\n",
       "    <tr>\n",
       "      <th>15</th>\n",
       "      <td>RIDGE</td>\n",
       "      <td>Counts</td>\n",
       "      <td>Error_below_1</td>\n",
       "      <td>0.921232</td>\n",
       "      <td>0.918274</td>\n",
       "      <td>0.924189</td>\n",
       "      <td>0.917526</td>\n",
       "      <td>0.906429</td>\n",
       "      <td>0.928623</td>\n",
       "      <td>99.597801</td>\n",
       "    </tr>\n",
       "    <tr>\n",
       "      <th>16</th>\n",
       "      <td>RIDGE</td>\n",
       "      <td>Counts</td>\n",
       "      <td>KendallTau</td>\n",
       "      <td>0.730010</td>\n",
       "      <td>0.725902</td>\n",
       "      <td>0.734118</td>\n",
       "      <td>0.724337</td>\n",
       "      <td>0.710005</td>\n",
       "      <td>0.738669</td>\n",
       "      <td>99.222864</td>\n",
       "    </tr>\n",
       "    <tr>\n",
       "      <th>17</th>\n",
       "      <td>RIDGE</td>\n",
       "      <td>Counts</td>\n",
       "      <td>MAE</td>\n",
       "      <td>0.405759</td>\n",
       "      <td>0.400723</td>\n",
       "      <td>0.410795</td>\n",
       "      <td>0.414690</td>\n",
       "      <td>0.398957</td>\n",
       "      <td>0.430423</td>\n",
       "      <td>102.201164</td>\n",
       "    </tr>\n",
       "    <tr>\n",
       "      <th>18</th>\n",
       "      <td>RIDGE</td>\n",
       "      <td>Counts</td>\n",
       "      <td>MedianAE</td>\n",
       "      <td>0.292737</td>\n",
       "      <td>0.288781</td>\n",
       "      <td>0.296694</td>\n",
       "      <td>0.299527</td>\n",
       "      <td>0.293468</td>\n",
       "      <td>0.305587</td>\n",
       "      <td>102.319599</td>\n",
       "    </tr>\n",
       "    <tr>\n",
       "      <th>19</th>\n",
       "      <td>RIDGE</td>\n",
       "      <td>Counts</td>\n",
       "      <td>RMSE</td>\n",
       "      <td>0.561384</td>\n",
       "      <td>0.553259</td>\n",
       "      <td>0.569509</td>\n",
       "      <td>0.572764</td>\n",
       "      <td>0.540346</td>\n",
       "      <td>0.605182</td>\n",
       "      <td>102.027175</td>\n",
       "    </tr>\n",
       "    <tr>\n",
       "      <th>20</th>\n",
       "      <td>XGB</td>\n",
       "      <td>Counts</td>\n",
       "      <td>Error_below_1</td>\n",
       "      <td>0.998225</td>\n",
       "      <td>0.997901</td>\n",
       "      <td>0.998550</td>\n",
       "      <td>0.949296</td>\n",
       "      <td>0.940897</td>\n",
       "      <td>0.957694</td>\n",
       "      <td>95.098356</td>\n",
       "    </tr>\n",
       "    <tr>\n",
       "      <th>21</th>\n",
       "      <td>XGB</td>\n",
       "      <td>Counts</td>\n",
       "      <td>KendallTau</td>\n",
       "      <td>0.921848</td>\n",
       "      <td>0.920754</td>\n",
       "      <td>0.922941</td>\n",
       "      <td>0.780265</td>\n",
       "      <td>0.768841</td>\n",
       "      <td>0.791689</td>\n",
       "      <td>84.641389</td>\n",
       "    </tr>\n",
       "    <tr>\n",
       "      <th>22</th>\n",
       "      <td>XGB</td>\n",
       "      <td>Counts</td>\n",
       "      <td>MAE</td>\n",
       "      <td>0.113361</td>\n",
       "      <td>0.111804</td>\n",
       "      <td>0.114918</td>\n",
       "      <td>0.313369</td>\n",
       "      <td>0.302886</td>\n",
       "      <td>0.323852</td>\n",
       "      <td>276.434269</td>\n",
       "    </tr>\n",
       "    <tr>\n",
       "      <th>23</th>\n",
       "      <td>XGB</td>\n",
       "      <td>Counts</td>\n",
       "      <td>MedianAE</td>\n",
       "      <td>0.075431</td>\n",
       "      <td>0.074409</td>\n",
       "      <td>0.076453</td>\n",
       "      <td>0.206631</td>\n",
       "      <td>0.197809</td>\n",
       "      <td>0.215453</td>\n",
       "      <td>273.933868</td>\n",
       "    </tr>\n",
       "    <tr>\n",
       "      <th>24</th>\n",
       "      <td>XGB</td>\n",
       "      <td>Counts</td>\n",
       "      <td>RMSE</td>\n",
       "      <td>0.167648</td>\n",
       "      <td>0.164600</td>\n",
       "      <td>0.170695</td>\n",
       "      <td>0.463531</td>\n",
       "      <td>0.440039</td>\n",
       "      <td>0.487023</td>\n",
       "      <td>276.491564</td>\n",
       "    </tr>\n",
       "    <tr>\n",
       "      <th>25</th>\n",
       "      <td>MLP</td>\n",
       "      <td>RDKit_PhysChem</td>\n",
       "      <td>Error_below_1</td>\n",
       "      <td>0.999746</td>\n",
       "      <td>0.999329</td>\n",
       "      <td>1.000164</td>\n",
       "      <td>0.969921</td>\n",
       "      <td>0.963872</td>\n",
       "      <td>0.975970</td>\n",
       "      <td>97.016701</td>\n",
       "    </tr>\n",
       "    <tr>\n",
       "      <th>26</th>\n",
       "      <td>MLP</td>\n",
       "      <td>RDKit_PhysChem</td>\n",
       "      <td>KendallTau</td>\n",
       "      <td>0.952824</td>\n",
       "      <td>0.946220</td>\n",
       "      <td>0.959429</td>\n",
       "      <td>0.828770</td>\n",
       "      <td>0.817225</td>\n",
       "      <td>0.840315</td>\n",
       "      <td>86.980340</td>\n",
       "    </tr>\n",
       "    <tr>\n",
       "      <th>27</th>\n",
       "      <td>MLP</td>\n",
       "      <td>RDKit_PhysChem</td>\n",
       "      <td>MAE</td>\n",
       "      <td>0.074087</td>\n",
       "      <td>0.062431</td>\n",
       "      <td>0.085744</td>\n",
       "      <td>0.252163</td>\n",
       "      <td>0.236559</td>\n",
       "      <td>0.267767</td>\n",
       "      <td>340.359559</td>\n",
       "    </tr>\n",
       "    <tr>\n",
       "      <th>28</th>\n",
       "      <td>MLP</td>\n",
       "      <td>RDKit_PhysChem</td>\n",
       "      <td>MedianAE</td>\n",
       "      <td>0.056335</td>\n",
       "      <td>0.047006</td>\n",
       "      <td>0.065663</td>\n",
       "      <td>0.150674</td>\n",
       "      <td>0.141209</td>\n",
       "      <td>0.160140</td>\n",
       "      <td>267.462158</td>\n",
       "    </tr>\n",
       "    <tr>\n",
       "      <th>29</th>\n",
       "      <td>MLP</td>\n",
       "      <td>RDKit_PhysChem</td>\n",
       "      <td>RMSE</td>\n",
       "      <td>0.103161</td>\n",
       "      <td>0.086277</td>\n",
       "      <td>0.120045</td>\n",
       "      <td>0.423339</td>\n",
       "      <td>0.367313</td>\n",
       "      <td>0.479365</td>\n",
       "      <td>410.368319</td>\n",
       "    </tr>\n",
       "    <tr>\n",
       "      <th>30</th>\n",
       "      <td>RF</td>\n",
       "      <td>RDKit_PhysChem</td>\n",
       "      <td>Error_below_1</td>\n",
       "      <td>0.999324</td>\n",
       "      <td>0.999046</td>\n",
       "      <td>0.999602</td>\n",
       "      <td>0.957076</td>\n",
       "      <td>0.949403</td>\n",
       "      <td>0.964749</td>\n",
       "      <td>95.772386</td>\n",
       "    </tr>\n",
       "    <tr>\n",
       "      <th>31</th>\n",
       "      <td>RF</td>\n",
       "      <td>RDKit_PhysChem</td>\n",
       "      <td>KendallTau</td>\n",
       "      <td>0.933094</td>\n",
       "      <td>0.932366</td>\n",
       "      <td>0.933822</td>\n",
       "      <td>0.803094</td>\n",
       "      <td>0.791591</td>\n",
       "      <td>0.814597</td>\n",
       "      <td>86.067885</td>\n",
       "    </tr>\n",
       "    <tr>\n",
       "      <th>32</th>\n",
       "      <td>RF</td>\n",
       "      <td>RDKit_PhysChem</td>\n",
       "      <td>MAE</td>\n",
       "      <td>0.111950</td>\n",
       "      <td>0.110905</td>\n",
       "      <td>0.112995</td>\n",
       "      <td>0.296509</td>\n",
       "      <td>0.286269</td>\n",
       "      <td>0.306748</td>\n",
       "      <td>264.858519</td>\n",
       "    </tr>\n",
       "    <tr>\n",
       "      <th>33</th>\n",
       "      <td>RF</td>\n",
       "      <td>RDKit_PhysChem</td>\n",
       "      <td>MedianAE</td>\n",
       "      <td>0.073610</td>\n",
       "      <td>0.072843</td>\n",
       "      <td>0.074376</td>\n",
       "      <td>0.200052</td>\n",
       "      <td>0.194668</td>\n",
       "      <td>0.205436</td>\n",
       "      <td>271.774772</td>\n",
       "    </tr>\n",
       "    <tr>\n",
       "      <th>34</th>\n",
       "      <td>RF</td>\n",
       "      <td>RDKit_PhysChem</td>\n",
       "      <td>RMSE</td>\n",
       "      <td>0.166319</td>\n",
       "      <td>0.164298</td>\n",
       "      <td>0.168340</td>\n",
       "      <td>0.435653</td>\n",
       "      <td>0.415572</td>\n",
       "      <td>0.455734</td>\n",
       "      <td>261.938326</td>\n",
       "    </tr>\n",
       "    <tr>\n",
       "      <th>35</th>\n",
       "      <td>RF_SHORT</td>\n",
       "      <td>RDKit_PhysChem</td>\n",
       "      <td>Error_below_1</td>\n",
       "      <td>0.957404</td>\n",
       "      <td>0.954618</td>\n",
       "      <td>0.960191</td>\n",
       "      <td>0.927997</td>\n",
       "      <td>0.922271</td>\n",
       "      <td>0.933723</td>\n",
       "      <td>96.928429</td>\n",
       "    </tr>\n",
       "    <tr>\n",
       "      <th>36</th>\n",
       "      <td>RF_SHORT</td>\n",
       "      <td>RDKit_PhysChem</td>\n",
       "      <td>KendallTau</td>\n",
       "      <td>0.777758</td>\n",
       "      <td>0.775921</td>\n",
       "      <td>0.779594</td>\n",
       "      <td>0.736777</td>\n",
       "      <td>0.723794</td>\n",
       "      <td>0.749759</td>\n",
       "      <td>94.730875</td>\n",
       "    </tr>\n",
       "    <tr>\n",
       "      <th>37</th>\n",
       "      <td>RF_SHORT</td>\n",
       "      <td>RDKit_PhysChem</td>\n",
       "      <td>MAE</td>\n",
       "      <td>0.381321</td>\n",
       "      <td>0.379022</td>\n",
       "      <td>0.383620</td>\n",
       "      <td>0.438592</td>\n",
       "      <td>0.427811</td>\n",
       "      <td>0.449374</td>\n",
       "      <td>115.019199</td>\n",
       "    </tr>\n",
       "    <tr>\n",
       "      <th>38</th>\n",
       "      <td>RF_SHORT</td>\n",
       "      <td>RDKit_PhysChem</td>\n",
       "      <td>MedianAE</td>\n",
       "      <td>0.315854</td>\n",
       "      <td>0.312490</td>\n",
       "      <td>0.319217</td>\n",
       "      <td>0.358384</td>\n",
       "      <td>0.346369</td>\n",
       "      <td>0.370398</td>\n",
       "      <td>113.465099</td>\n",
       "    </tr>\n",
       "    <tr>\n",
       "      <th>39</th>\n",
       "      <td>RF_SHORT</td>\n",
       "      <td>RDKit_PhysChem</td>\n",
       "      <td>RMSE</td>\n",
       "      <td>0.484956</td>\n",
       "      <td>0.481475</td>\n",
       "      <td>0.488437</td>\n",
       "      <td>0.567921</td>\n",
       "      <td>0.551328</td>\n",
       "      <td>0.584514</td>\n",
       "      <td>117.107804</td>\n",
       "    </tr>\n",
       "    <tr>\n",
       "      <th>40</th>\n",
       "      <td>RIDGE</td>\n",
       "      <td>RDKit_PhysChem</td>\n",
       "      <td>Error_below_1</td>\n",
       "      <td>0.979040</td>\n",
       "      <td>0.977687</td>\n",
       "      <td>0.980394</td>\n",
       "      <td>0.966202</td>\n",
       "      <td>0.959035</td>\n",
       "      <td>0.973370</td>\n",
       "      <td>98.688729</td>\n",
       "    </tr>\n",
       "    <tr>\n",
       "      <th>41</th>\n",
       "      <td>RIDGE</td>\n",
       "      <td>RDKit_PhysChem</td>\n",
       "      <td>KendallTau</td>\n",
       "      <td>0.839963</td>\n",
       "      <td>0.837121</td>\n",
       "      <td>0.842805</td>\n",
       "      <td>0.817719</td>\n",
       "      <td>0.807853</td>\n",
       "      <td>0.827586</td>\n",
       "      <td>97.351849</td>\n",
       "    </tr>\n",
       "    <tr>\n",
       "      <th>42</th>\n",
       "      <td>RIDGE</td>\n",
       "      <td>RDKit_PhysChem</td>\n",
       "      <td>MAE</td>\n",
       "      <td>0.241609</td>\n",
       "      <td>0.237998</td>\n",
       "      <td>0.245221</td>\n",
       "      <td>0.272447</td>\n",
       "      <td>0.261880</td>\n",
       "      <td>0.283014</td>\n",
       "      <td>112.763276</td>\n",
       "    </tr>\n",
       "    <tr>\n",
       "      <th>43</th>\n",
       "      <td>RIDGE</td>\n",
       "      <td>RDKit_PhysChem</td>\n",
       "      <td>MedianAE</td>\n",
       "      <td>0.174396</td>\n",
       "      <td>0.171159</td>\n",
       "      <td>0.177632</td>\n",
       "      <td>0.192251</td>\n",
       "      <td>0.186471</td>\n",
       "      <td>0.198031</td>\n",
       "      <td>110.238235</td>\n",
       "    </tr>\n",
       "    <tr>\n",
       "      <th>44</th>\n",
       "      <td>RIDGE</td>\n",
       "      <td>RDKit_PhysChem</td>\n",
       "      <td>RMSE</td>\n",
       "      <td>0.343533</td>\n",
       "      <td>0.338321</td>\n",
       "      <td>0.348745</td>\n",
       "      <td>0.393548</td>\n",
       "      <td>0.371986</td>\n",
       "      <td>0.415110</td>\n",
       "      <td>114.558967</td>\n",
       "    </tr>\n",
       "    <tr>\n",
       "      <th>45</th>\n",
       "      <td>XGB</td>\n",
       "      <td>RDKit_PhysChem</td>\n",
       "      <td>Error_below_1</td>\n",
       "      <td>1.000000</td>\n",
       "      <td>NaN</td>\n",
       "      <td>NaN</td>\n",
       "      <td>0.962815</td>\n",
       "      <td>0.956345</td>\n",
       "      <td>0.969284</td>\n",
       "      <td>96.281493</td>\n",
       "    </tr>\n",
       "    <tr>\n",
       "      <th>46</th>\n",
       "      <td>XGB</td>\n",
       "      <td>RDKit_PhysChem</td>\n",
       "      <td>KendallTau</td>\n",
       "      <td>0.992004</td>\n",
       "      <td>0.991602</td>\n",
       "      <td>0.992407</td>\n",
       "      <td>0.809461</td>\n",
       "      <td>0.800906</td>\n",
       "      <td>0.818016</td>\n",
       "      <td>81.598531</td>\n",
       "    </tr>\n",
       "    <tr>\n",
       "      <th>47</th>\n",
       "      <td>XGB</td>\n",
       "      <td>RDKit_PhysChem</td>\n",
       "      <td>MAE</td>\n",
       "      <td>0.011059</td>\n",
       "      <td>0.010567</td>\n",
       "      <td>0.011552</td>\n",
       "      <td>0.267193</td>\n",
       "      <td>0.257702</td>\n",
       "      <td>0.276685</td>\n",
       "      <td>2416.017888</td>\n",
       "    </tr>\n",
       "    <tr>\n",
       "      <th>48</th>\n",
       "      <td>XGB</td>\n",
       "      <td>RDKit_PhysChem</td>\n",
       "      <td>MedianAE</td>\n",
       "      <td>0.006939</td>\n",
       "      <td>0.006651</td>\n",
       "      <td>0.007226</td>\n",
       "      <td>0.170426</td>\n",
       "      <td>0.161508</td>\n",
       "      <td>0.179344</td>\n",
       "      <td>2456.210573</td>\n",
       "    </tr>\n",
       "    <tr>\n",
       "      <th>49</th>\n",
       "      <td>XGB</td>\n",
       "      <td>RDKit_PhysChem</td>\n",
       "      <td>RMSE</td>\n",
       "      <td>0.024749</td>\n",
       "      <td>0.021922</td>\n",
       "      <td>0.027576</td>\n",
       "      <td>0.413089</td>\n",
       "      <td>0.397417</td>\n",
       "      <td>0.428760</td>\n",
       "      <td>1669.117048</td>\n",
       "    </tr>\n",
       "  </tbody>\n",
       "</table>\n",
       "</div>"
      ],
      "text/plain": [
       "       Model      Descriptor         Metric  Train_Mid  CI_Low_x  CI_High_x  \\\n",
       "0        MLP          Counts  Error_below_1   0.917341  0.906280   0.928401   \n",
       "1        MLP          Counts     KendallTau   0.724904  0.712872   0.736936   \n",
       "2        MLP          Counts            MAE   0.419442  0.395700   0.443185   \n",
       "3        MLP          Counts       MedianAE   0.305881  0.285304   0.326457   \n",
       "4        MLP          Counts           RMSE   0.576076  0.546412   0.605739   \n",
       "5         RF          Counts  Error_below_1   0.998141  0.997737   0.998545   \n",
       "6         RF          Counts     KendallTau   0.907285  0.906195   0.908375   \n",
       "7         RF          Counts            MAE   0.144059  0.142674   0.145444   \n",
       "8         RF          Counts       MedianAE   0.098336  0.097308   0.099364   \n",
       "9         RF          Counts           RMSE   0.206580  0.203533   0.209627   \n",
       "10  RF_SHORT          Counts  Error_below_1   0.839250  0.836478   0.842022   \n",
       "11  RF_SHORT          Counts     KendallTau   0.678242  0.674885   0.681599   \n",
       "12  RF_SHORT          Counts            MAE   0.571563  0.568027   0.575100   \n",
       "13  RF_SHORT          Counts       MedianAE   0.478507  0.473133   0.483881   \n",
       "14  RF_SHORT          Counts           RMSE   0.721529  0.717696   0.725362   \n",
       "15     RIDGE          Counts  Error_below_1   0.921232  0.918274   0.924189   \n",
       "16     RIDGE          Counts     KendallTau   0.730010  0.725902   0.734118   \n",
       "17     RIDGE          Counts            MAE   0.405759  0.400723   0.410795   \n",
       "18     RIDGE          Counts       MedianAE   0.292737  0.288781   0.296694   \n",
       "19     RIDGE          Counts           RMSE   0.561384  0.553259   0.569509   \n",
       "20       XGB          Counts  Error_below_1   0.998225  0.997901   0.998550   \n",
       "21       XGB          Counts     KendallTau   0.921848  0.920754   0.922941   \n",
       "22       XGB          Counts            MAE   0.113361  0.111804   0.114918   \n",
       "23       XGB          Counts       MedianAE   0.075431  0.074409   0.076453   \n",
       "24       XGB          Counts           RMSE   0.167648  0.164600   0.170695   \n",
       "25       MLP  RDKit_PhysChem  Error_below_1   0.999746  0.999329   1.000164   \n",
       "26       MLP  RDKit_PhysChem     KendallTau   0.952824  0.946220   0.959429   \n",
       "27       MLP  RDKit_PhysChem            MAE   0.074087  0.062431   0.085744   \n",
       "28       MLP  RDKit_PhysChem       MedianAE   0.056335  0.047006   0.065663   \n",
       "29       MLP  RDKit_PhysChem           RMSE   0.103161  0.086277   0.120045   \n",
       "30        RF  RDKit_PhysChem  Error_below_1   0.999324  0.999046   0.999602   \n",
       "31        RF  RDKit_PhysChem     KendallTau   0.933094  0.932366   0.933822   \n",
       "32        RF  RDKit_PhysChem            MAE   0.111950  0.110905   0.112995   \n",
       "33        RF  RDKit_PhysChem       MedianAE   0.073610  0.072843   0.074376   \n",
       "34        RF  RDKit_PhysChem           RMSE   0.166319  0.164298   0.168340   \n",
       "35  RF_SHORT  RDKit_PhysChem  Error_below_1   0.957404  0.954618   0.960191   \n",
       "36  RF_SHORT  RDKit_PhysChem     KendallTau   0.777758  0.775921   0.779594   \n",
       "37  RF_SHORT  RDKit_PhysChem            MAE   0.381321  0.379022   0.383620   \n",
       "38  RF_SHORT  RDKit_PhysChem       MedianAE   0.315854  0.312490   0.319217   \n",
       "39  RF_SHORT  RDKit_PhysChem           RMSE   0.484956  0.481475   0.488437   \n",
       "40     RIDGE  RDKit_PhysChem  Error_below_1   0.979040  0.977687   0.980394   \n",
       "41     RIDGE  RDKit_PhysChem     KendallTau   0.839963  0.837121   0.842805   \n",
       "42     RIDGE  RDKit_PhysChem            MAE   0.241609  0.237998   0.245221   \n",
       "43     RIDGE  RDKit_PhysChem       MedianAE   0.174396  0.171159   0.177632   \n",
       "44     RIDGE  RDKit_PhysChem           RMSE   0.343533  0.338321   0.348745   \n",
       "45       XGB  RDKit_PhysChem  Error_below_1   1.000000       NaN        NaN   \n",
       "46       XGB  RDKit_PhysChem     KendallTau   0.992004  0.991602   0.992407   \n",
       "47       XGB  RDKit_PhysChem            MAE   0.011059  0.010567   0.011552   \n",
       "48       XGB  RDKit_PhysChem       MedianAE   0.006939  0.006651   0.007226   \n",
       "49       XGB  RDKit_PhysChem           RMSE   0.024749  0.021922   0.027576   \n",
       "\n",
       "    Test_Mid  CI_Low_y  CI_High_y  Test_Mid_as_percentage_of_Train_Mid  \n",
       "0   0.908732  0.890424   0.927040                            99.061573  \n",
       "1   0.713488  0.689237   0.737740                            98.425202  \n",
       "2   0.435049  0.401229   0.468870                           103.720884  \n",
       "3   0.320357  0.292040   0.348673                           104.732564  \n",
       "4   0.594160  0.549857   0.638463                           103.139237  \n",
       "5   0.941181  0.936494   0.945867                            94.293393  \n",
       "6   0.760999  0.749687   0.772312                            83.876531  \n",
       "7   0.337795  0.326047   0.349543                           234.483843  \n",
       "8   0.211897  0.200971   0.222823                           215.482489  \n",
       "9   0.500154  0.477893   0.522416                           242.111967  \n",
       "10  0.823875  0.815621   0.832130                            98.168070  \n",
       "11  0.651146  0.639191   0.663100                            96.004849  \n",
       "12  0.596210  0.584051   0.608369                           104.312109  \n",
       "13  0.495871  0.481307   0.510435                           103.628809  \n",
       "14  0.755866  0.741690   0.770043                           104.758955  \n",
       "15  0.917526  0.906429   0.928623                            99.597801  \n",
       "16  0.724337  0.710005   0.738669                            99.222864  \n",
       "17  0.414690  0.398957   0.430423                           102.201164  \n",
       "18  0.299527  0.293468   0.305587                           102.319599  \n",
       "19  0.572764  0.540346   0.605182                           102.027175  \n",
       "20  0.949296  0.940897   0.957694                            95.098356  \n",
       "21  0.780265  0.768841   0.791689                            84.641389  \n",
       "22  0.313369  0.302886   0.323852                           276.434269  \n",
       "23  0.206631  0.197809   0.215453                           273.933868  \n",
       "24  0.463531  0.440039   0.487023                           276.491564  \n",
       "25  0.969921  0.963872   0.975970                            97.016701  \n",
       "26  0.828770  0.817225   0.840315                            86.980340  \n",
       "27  0.252163  0.236559   0.267767                           340.359559  \n",
       "28  0.150674  0.141209   0.160140                           267.462158  \n",
       "29  0.423339  0.367313   0.479365                           410.368319  \n",
       "30  0.957076  0.949403   0.964749                            95.772386  \n",
       "31  0.803094  0.791591   0.814597                            86.067885  \n",
       "32  0.296509  0.286269   0.306748                           264.858519  \n",
       "33  0.200052  0.194668   0.205436                           271.774772  \n",
       "34  0.435653  0.415572   0.455734                           261.938326  \n",
       "35  0.927997  0.922271   0.933723                            96.928429  \n",
       "36  0.736777  0.723794   0.749759                            94.730875  \n",
       "37  0.438592  0.427811   0.449374                           115.019199  \n",
       "38  0.358384  0.346369   0.370398                           113.465099  \n",
       "39  0.567921  0.551328   0.584514                           117.107804  \n",
       "40  0.966202  0.959035   0.973370                            98.688729  \n",
       "41  0.817719  0.807853   0.827586                            97.351849  \n",
       "42  0.272447  0.261880   0.283014                           112.763276  \n",
       "43  0.192251  0.186471   0.198031                           110.238235  \n",
       "44  0.393548  0.371986   0.415110                           114.558967  \n",
       "45  0.962815  0.956345   0.969284                            96.281493  \n",
       "46  0.809461  0.800906   0.818016                            81.598531  \n",
       "47  0.267193  0.257702   0.276685                          2416.017888  \n",
       "48  0.170426  0.161508   0.179344                          2456.210573  \n",
       "49  0.413089  0.397417   0.428760                          1669.117048  "
      ]
     },
     "execution_count": 53,
     "metadata": {},
     "output_type": "execute_result"
    }
   ],
   "source": [
    "df_overfitting = pd.merge(\n",
    "    df_train_metrics_mid.rename(columns={'Mean': 'Train_Mid'}),\n",
    "    df_metrics_mid_train_range_counts_and_physchem.rename(columns={'Mean': 'Test_Mid'}),\n",
    "    on=['Model', 'Descriptor', 'Metric']\n",
    ")\n",
    "#now get test as percentage of train\n",
    "df_overfitting['Test_Mid_as_percentage_of_Train_Mid'] = df_overfitting['Test_Mid']/df_overfitting['Train_Mid'] * 100\n",
    "df_overfitting"
   ]
  },
  {
   "cell_type": "code",
   "execution_count": 54,
   "metadata": {},
   "outputs": [
    {
     "data": {
      "text/html": [
       "<div>\n",
       "<style scoped>\n",
       "    .dataframe tbody tr th:only-of-type {\n",
       "        vertical-align: middle;\n",
       "    }\n",
       "\n",
       "    .dataframe tbody tr th {\n",
       "        vertical-align: top;\n",
       "    }\n",
       "\n",
       "    .dataframe thead th {\n",
       "        text-align: right;\n",
       "    }\n",
       "</style>\n",
       "<table border=\"1\" class=\"dataframe\">\n",
       "  <thead>\n",
       "    <tr style=\"text-align: right;\">\n",
       "      <th></th>\n",
       "      <th>Model</th>\n",
       "      <th>Descriptor</th>\n",
       "      <th>Metric</th>\n",
       "      <th>Train_Mid</th>\n",
       "      <th>CI_Low_x</th>\n",
       "      <th>CI_High_x</th>\n",
       "      <th>Test_Mid</th>\n",
       "      <th>CI_Low_y</th>\n",
       "      <th>CI_High_y</th>\n",
       "      <th>Test_Mid_as_percentage_of_Train_Mid</th>\n",
       "    </tr>\n",
       "  </thead>\n",
       "  <tbody>\n",
       "    <tr>\n",
       "      <th>4</th>\n",
       "      <td>MLP</td>\n",
       "      <td>Counts</td>\n",
       "      <td>RMSE</td>\n",
       "      <td>0.576076</td>\n",
       "      <td>0.546412</td>\n",
       "      <td>0.605739</td>\n",
       "      <td>0.594160</td>\n",
       "      <td>0.549857</td>\n",
       "      <td>0.638463</td>\n",
       "      <td>103.139237</td>\n",
       "    </tr>\n",
       "    <tr>\n",
       "      <th>9</th>\n",
       "      <td>RF</td>\n",
       "      <td>Counts</td>\n",
       "      <td>RMSE</td>\n",
       "      <td>0.206580</td>\n",
       "      <td>0.203533</td>\n",
       "      <td>0.209627</td>\n",
       "      <td>0.500154</td>\n",
       "      <td>0.477893</td>\n",
       "      <td>0.522416</td>\n",
       "      <td>242.111967</td>\n",
       "    </tr>\n",
       "    <tr>\n",
       "      <th>14</th>\n",
       "      <td>RF_SHORT</td>\n",
       "      <td>Counts</td>\n",
       "      <td>RMSE</td>\n",
       "      <td>0.721529</td>\n",
       "      <td>0.717696</td>\n",
       "      <td>0.725362</td>\n",
       "      <td>0.755866</td>\n",
       "      <td>0.741690</td>\n",
       "      <td>0.770043</td>\n",
       "      <td>104.758955</td>\n",
       "    </tr>\n",
       "    <tr>\n",
       "      <th>19</th>\n",
       "      <td>RIDGE</td>\n",
       "      <td>Counts</td>\n",
       "      <td>RMSE</td>\n",
       "      <td>0.561384</td>\n",
       "      <td>0.553259</td>\n",
       "      <td>0.569509</td>\n",
       "      <td>0.572764</td>\n",
       "      <td>0.540346</td>\n",
       "      <td>0.605182</td>\n",
       "      <td>102.027175</td>\n",
       "    </tr>\n",
       "    <tr>\n",
       "      <th>24</th>\n",
       "      <td>XGB</td>\n",
       "      <td>Counts</td>\n",
       "      <td>RMSE</td>\n",
       "      <td>0.167648</td>\n",
       "      <td>0.164600</td>\n",
       "      <td>0.170695</td>\n",
       "      <td>0.463531</td>\n",
       "      <td>0.440039</td>\n",
       "      <td>0.487023</td>\n",
       "      <td>276.491564</td>\n",
       "    </tr>\n",
       "    <tr>\n",
       "      <th>29</th>\n",
       "      <td>MLP</td>\n",
       "      <td>RDKit_PhysChem</td>\n",
       "      <td>RMSE</td>\n",
       "      <td>0.103161</td>\n",
       "      <td>0.086277</td>\n",
       "      <td>0.120045</td>\n",
       "      <td>0.423339</td>\n",
       "      <td>0.367313</td>\n",
       "      <td>0.479365</td>\n",
       "      <td>410.368319</td>\n",
       "    </tr>\n",
       "    <tr>\n",
       "      <th>34</th>\n",
       "      <td>RF</td>\n",
       "      <td>RDKit_PhysChem</td>\n",
       "      <td>RMSE</td>\n",
       "      <td>0.166319</td>\n",
       "      <td>0.164298</td>\n",
       "      <td>0.168340</td>\n",
       "      <td>0.435653</td>\n",
       "      <td>0.415572</td>\n",
       "      <td>0.455734</td>\n",
       "      <td>261.938326</td>\n",
       "    </tr>\n",
       "    <tr>\n",
       "      <th>39</th>\n",
       "      <td>RF_SHORT</td>\n",
       "      <td>RDKit_PhysChem</td>\n",
       "      <td>RMSE</td>\n",
       "      <td>0.484956</td>\n",
       "      <td>0.481475</td>\n",
       "      <td>0.488437</td>\n",
       "      <td>0.567921</td>\n",
       "      <td>0.551328</td>\n",
       "      <td>0.584514</td>\n",
       "      <td>117.107804</td>\n",
       "    </tr>\n",
       "    <tr>\n",
       "      <th>44</th>\n",
       "      <td>RIDGE</td>\n",
       "      <td>RDKit_PhysChem</td>\n",
       "      <td>RMSE</td>\n",
       "      <td>0.343533</td>\n",
       "      <td>0.338321</td>\n",
       "      <td>0.348745</td>\n",
       "      <td>0.393548</td>\n",
       "      <td>0.371986</td>\n",
       "      <td>0.415110</td>\n",
       "      <td>114.558967</td>\n",
       "    </tr>\n",
       "    <tr>\n",
       "      <th>49</th>\n",
       "      <td>XGB</td>\n",
       "      <td>RDKit_PhysChem</td>\n",
       "      <td>RMSE</td>\n",
       "      <td>0.024749</td>\n",
       "      <td>0.021922</td>\n",
       "      <td>0.027576</td>\n",
       "      <td>0.413089</td>\n",
       "      <td>0.397417</td>\n",
       "      <td>0.428760</td>\n",
       "      <td>1669.117048</td>\n",
       "    </tr>\n",
       "  </tbody>\n",
       "</table>\n",
       "</div>"
      ],
      "text/plain": [
       "       Model      Descriptor Metric  Train_Mid  CI_Low_x  CI_High_x  Test_Mid  \\\n",
       "4        MLP          Counts   RMSE   0.576076  0.546412   0.605739  0.594160   \n",
       "9         RF          Counts   RMSE   0.206580  0.203533   0.209627  0.500154   \n",
       "14  RF_SHORT          Counts   RMSE   0.721529  0.717696   0.725362  0.755866   \n",
       "19     RIDGE          Counts   RMSE   0.561384  0.553259   0.569509  0.572764   \n",
       "24       XGB          Counts   RMSE   0.167648  0.164600   0.170695  0.463531   \n",
       "29       MLP  RDKit_PhysChem   RMSE   0.103161  0.086277   0.120045  0.423339   \n",
       "34        RF  RDKit_PhysChem   RMSE   0.166319  0.164298   0.168340  0.435653   \n",
       "39  RF_SHORT  RDKit_PhysChem   RMSE   0.484956  0.481475   0.488437  0.567921   \n",
       "44     RIDGE  RDKit_PhysChem   RMSE   0.343533  0.338321   0.348745  0.393548   \n",
       "49       XGB  RDKit_PhysChem   RMSE   0.024749  0.021922   0.027576  0.413089   \n",
       "\n",
       "    CI_Low_y  CI_High_y  Test_Mid_as_percentage_of_Train_Mid  \n",
       "4   0.549857   0.638463                           103.139237  \n",
       "9   0.477893   0.522416                           242.111967  \n",
       "14  0.741690   0.770043                           104.758955  \n",
       "19  0.540346   0.605182                           102.027175  \n",
       "24  0.440039   0.487023                           276.491564  \n",
       "29  0.367313   0.479365                           410.368319  \n",
       "34  0.415572   0.455734                           261.938326  \n",
       "39  0.551328   0.584514                           117.107804  \n",
       "44  0.371986   0.415110                           114.558967  \n",
       "49  0.397417   0.428760                          1669.117048  "
      ]
     },
     "execution_count": 54,
     "metadata": {},
     "output_type": "execute_result"
    }
   ],
   "source": [
    "df_overfitting_rmse = df_overfitting[df_overfitting['Metric'] == 'RMSE']\n",
    "df_overfitting_rmse"
   ]
  },
  {
   "cell_type": "code",
   "execution_count": 55,
   "metadata": {},
   "outputs": [
    {
     "data": {
      "text/html": [
       "<div>\n",
       "<style scoped>\n",
       "    .dataframe tbody tr th:only-of-type {\n",
       "        vertical-align: middle;\n",
       "    }\n",
       "\n",
       "    .dataframe tbody tr th {\n",
       "        vertical-align: top;\n",
       "    }\n",
       "\n",
       "    .dataframe thead th {\n",
       "        text-align: right;\n",
       "    }\n",
       "</style>\n",
       "<table border=\"1\" class=\"dataframe\">\n",
       "  <thead>\n",
       "    <tr style=\"text-align: right;\">\n",
       "      <th></th>\n",
       "      <th>Model</th>\n",
       "      <th>Descriptor</th>\n",
       "      <th>Metric</th>\n",
       "      <th>Train_Mid</th>\n",
       "      <th>CI_Low_x</th>\n",
       "      <th>CI_High_x</th>\n",
       "      <th>Test_Mid</th>\n",
       "      <th>CI_Low_y</th>\n",
       "      <th>CI_High_y</th>\n",
       "      <th>Test_Mid_as_percentage_of_Train_Mid</th>\n",
       "    </tr>\n",
       "  </thead>\n",
       "  <tbody>\n",
       "    <tr>\n",
       "      <th>4</th>\n",
       "      <td>MLP</td>\n",
       "      <td>Counts</td>\n",
       "      <td>RMSE</td>\n",
       "      <td>0.996192</td>\n",
       "      <td>0.973829</td>\n",
       "      <td>1.018556</td>\n",
       "      <td>0.691654</td>\n",
       "      <td>0.655990</td>\n",
       "      <td>0.727318</td>\n",
       "      <td>69.429781</td>\n",
       "    </tr>\n",
       "    <tr>\n",
       "      <th>9</th>\n",
       "      <td>RF</td>\n",
       "      <td>Counts</td>\n",
       "      <td>RMSE</td>\n",
       "      <td>0.394095</td>\n",
       "      <td>0.392294</td>\n",
       "      <td>0.395897</td>\n",
       "      <td>0.588070</td>\n",
       "      <td>0.554887</td>\n",
       "      <td>0.621254</td>\n",
       "      <td>149.220318</td>\n",
       "    </tr>\n",
       "    <tr>\n",
       "      <th>14</th>\n",
       "      <td>RF_SHORT</td>\n",
       "      <td>Counts</td>\n",
       "      <td>RMSE</td>\n",
       "      <td>1.480757</td>\n",
       "      <td>1.476816</td>\n",
       "      <td>1.484697</td>\n",
       "      <td>1.265685</td>\n",
       "      <td>1.236612</td>\n",
       "      <td>1.294758</td>\n",
       "      <td>85.475545</td>\n",
       "    </tr>\n",
       "    <tr>\n",
       "      <th>19</th>\n",
       "      <td>RIDGE</td>\n",
       "      <td>Counts</td>\n",
       "      <td>RMSE</td>\n",
       "      <td>1.043656</td>\n",
       "      <td>1.041351</td>\n",
       "      <td>1.045961</td>\n",
       "      <td>0.696022</td>\n",
       "      <td>0.665123</td>\n",
       "      <td>0.726921</td>\n",
       "      <td>66.690756</td>\n",
       "    </tr>\n",
       "    <tr>\n",
       "      <th>24</th>\n",
       "      <td>XGB</td>\n",
       "      <td>Counts</td>\n",
       "      <td>RMSE</td>\n",
       "      <td>0.371442</td>\n",
       "      <td>0.369461</td>\n",
       "      <td>0.373423</td>\n",
       "      <td>0.555011</td>\n",
       "      <td>0.507884</td>\n",
       "      <td>0.602139</td>\n",
       "      <td>149.420890</td>\n",
       "    </tr>\n",
       "    <tr>\n",
       "      <th>29</th>\n",
       "      <td>MLP</td>\n",
       "      <td>RDKit_PhysChem</td>\n",
       "      <td>RMSE</td>\n",
       "      <td>0.293129</td>\n",
       "      <td>0.282807</td>\n",
       "      <td>0.303451</td>\n",
       "      <td>0.440347</td>\n",
       "      <td>0.390287</td>\n",
       "      <td>0.490407</td>\n",
       "      <td>150.222800</td>\n",
       "    </tr>\n",
       "    <tr>\n",
       "      <th>34</th>\n",
       "      <td>RF</td>\n",
       "      <td>RDKit_PhysChem</td>\n",
       "      <td>RMSE</td>\n",
       "      <td>0.318578</td>\n",
       "      <td>0.316314</td>\n",
       "      <td>0.320842</td>\n",
       "      <td>0.508676</td>\n",
       "      <td>0.475091</td>\n",
       "      <td>0.542262</td>\n",
       "      <td>159.670782</td>\n",
       "    </tr>\n",
       "    <tr>\n",
       "      <th>39</th>\n",
       "      <td>RF_SHORT</td>\n",
       "      <td>RDKit_PhysChem</td>\n",
       "      <td>RMSE</td>\n",
       "      <td>1.094686</td>\n",
       "      <td>1.091086</td>\n",
       "      <td>1.098286</td>\n",
       "      <td>0.787191</td>\n",
       "      <td>0.751834</td>\n",
       "      <td>0.822549</td>\n",
       "      <td>71.910264</td>\n",
       "    </tr>\n",
       "    <tr>\n",
       "      <th>44</th>\n",
       "      <td>RIDGE</td>\n",
       "      <td>RDKit_PhysChem</td>\n",
       "      <td>RMSE</td>\n",
       "      <td>0.813710</td>\n",
       "      <td>0.811823</td>\n",
       "      <td>0.815597</td>\n",
       "      <td>0.574952</td>\n",
       "      <td>0.548271</td>\n",
       "      <td>0.601632</td>\n",
       "      <td>70.658076</td>\n",
       "    </tr>\n",
       "    <tr>\n",
       "      <th>49</th>\n",
       "      <td>XGB</td>\n",
       "      <td>RDKit_PhysChem</td>\n",
       "      <td>RMSE</td>\n",
       "      <td>0.103283</td>\n",
       "      <td>0.101527</td>\n",
       "      <td>0.105040</td>\n",
       "      <td>0.534354</td>\n",
       "      <td>0.477224</td>\n",
       "      <td>0.591483</td>\n",
       "      <td>517.366682</td>\n",
       "    </tr>\n",
       "  </tbody>\n",
       "</table>\n",
       "</div>"
      ],
      "text/plain": [
       "       Model      Descriptor Metric  Train_Mid  CI_Low_x  CI_High_x  Test_Mid  \\\n",
       "4        MLP          Counts   RMSE   0.996192  0.973829   1.018556  0.691654   \n",
       "9         RF          Counts   RMSE   0.394095  0.392294   0.395897  0.588070   \n",
       "14  RF_SHORT          Counts   RMSE   1.480757  1.476816   1.484697  1.265685   \n",
       "19     RIDGE          Counts   RMSE   1.043656  1.041351   1.045961  0.696022   \n",
       "24       XGB          Counts   RMSE   0.371442  0.369461   0.373423  0.555011   \n",
       "29       MLP  RDKit_PhysChem   RMSE   0.293129  0.282807   0.303451  0.440347   \n",
       "34        RF  RDKit_PhysChem   RMSE   0.318578  0.316314   0.320842  0.508676   \n",
       "39  RF_SHORT  RDKit_PhysChem   RMSE   1.094686  1.091086   1.098286  0.787191   \n",
       "44     RIDGE  RDKit_PhysChem   RMSE   0.813710  0.811823   0.815597  0.574952   \n",
       "49       XGB  RDKit_PhysChem   RMSE   0.103283  0.101527   0.105040  0.534354   \n",
       "\n",
       "    CI_Low_y  CI_High_y  Test_Mid_as_percentage_of_Train_Mid  \n",
       "4   0.655990   0.727318                            69.429781  \n",
       "9   0.554887   0.621254                           149.220318  \n",
       "14  1.236612   1.294758                            85.475545  \n",
       "19  0.665123   0.726921                            66.690756  \n",
       "24  0.507884   0.602139                           149.420890  \n",
       "29  0.390287   0.490407                           150.222800  \n",
       "34  0.475091   0.542262                           159.670782  \n",
       "39  0.751834   0.822549                            71.910264  \n",
       "44  0.548271   0.601632                            70.658076  \n",
       "49  0.477224   0.591483                           517.366682  "
      ]
     },
     "execution_count": 55,
     "metadata": {},
     "output_type": "execute_result"
    }
   ],
   "source": [
    "df_overfitting_full = pd.merge(\n",
    "    df_train_metrics_full.rename(columns={'Mean': 'Train_Mid'}),\n",
    "    df_metrics_full_train_range_counts_and_physchem.rename(columns={'Mean': 'Test_Mid'}),\n",
    "    on=['Model', 'Descriptor', 'Metric']\n",
    ")\n",
    "#now get test as percentage of train\n",
    "df_overfitting_full['Test_Mid_as_percentage_of_Train_Mid'] = df_overfitting_full['Test_Mid']/df_overfitting_full['Train_Mid'] * 100\n",
    "df_overfitting_full_rmse = df_overfitting_full[df_overfitting_full['Metric'] == 'RMSE']\n",
    "df_overfitting_full_rmse "
   ]
  },
  {
   "cell_type": "code",
   "execution_count": 56,
   "metadata": {},
   "outputs": [
    {
     "data": {
      "text/html": [
       "<div>\n",
       "<style scoped>\n",
       "    .dataframe tbody tr th:only-of-type {\n",
       "        vertical-align: middle;\n",
       "    }\n",
       "\n",
       "    .dataframe tbody tr th {\n",
       "        vertical-align: top;\n",
       "    }\n",
       "\n",
       "    .dataframe thead th {\n",
       "        text-align: right;\n",
       "    }\n",
       "</style>\n",
       "<table border=\"1\" class=\"dataframe\">\n",
       "  <thead>\n",
       "    <tr style=\"text-align: right;\">\n",
       "      <th></th>\n",
       "      <th>Model</th>\n",
       "      <th>Descriptor</th>\n",
       "      <th>Metric</th>\n",
       "      <th>Train_Full</th>\n",
       "      <th>CI_Low_x</th>\n",
       "      <th>CI_High_x</th>\n",
       "      <th>Train_Mid</th>\n",
       "      <th>CI_Low_y</th>\n",
       "      <th>CI_High_y</th>\n",
       "      <th>Train_Mid_as_percentage_of_Train_Full</th>\n",
       "    </tr>\n",
       "  </thead>\n",
       "  <tbody>\n",
       "    <tr>\n",
       "      <th>0</th>\n",
       "      <td>MLP</td>\n",
       "      <td>Counts</td>\n",
       "      <td>Error_below_1</td>\n",
       "      <td>0.871217</td>\n",
       "      <td>0.857143</td>\n",
       "      <td>0.885292</td>\n",
       "      <td>0.908732</td>\n",
       "      <td>0.890424</td>\n",
       "      <td>0.927040</td>\n",
       "      <td>104.306031</td>\n",
       "    </tr>\n",
       "    <tr>\n",
       "      <th>1</th>\n",
       "      <td>MLP</td>\n",
       "      <td>Counts</td>\n",
       "      <td>KendallTau</td>\n",
       "      <td>0.701368</td>\n",
       "      <td>0.688115</td>\n",
       "      <td>0.714620</td>\n",
       "      <td>0.713488</td>\n",
       "      <td>0.689237</td>\n",
       "      <td>0.737740</td>\n",
       "      <td>101.728187</td>\n",
       "    </tr>\n",
       "    <tr>\n",
       "      <th>2</th>\n",
       "      <td>MLP</td>\n",
       "      <td>Counts</td>\n",
       "      <td>MAE</td>\n",
       "      <td>0.490646</td>\n",
       "      <td>0.469213</td>\n",
       "      <td>0.512080</td>\n",
       "      <td>0.435049</td>\n",
       "      <td>0.401229</td>\n",
       "      <td>0.468870</td>\n",
       "      <td>88.668620</td>\n",
       "    </tr>\n",
       "    <tr>\n",
       "      <th>3</th>\n",
       "      <td>MLP</td>\n",
       "      <td>Counts</td>\n",
       "      <td>MedianAE</td>\n",
       "      <td>0.344562</td>\n",
       "      <td>0.322804</td>\n",
       "      <td>0.366321</td>\n",
       "      <td>0.320357</td>\n",
       "      <td>0.292040</td>\n",
       "      <td>0.348673</td>\n",
       "      <td>92.974919</td>\n",
       "    </tr>\n",
       "    <tr>\n",
       "      <th>4</th>\n",
       "      <td>MLP</td>\n",
       "      <td>Counts</td>\n",
       "      <td>RMSE</td>\n",
       "      <td>0.691654</td>\n",
       "      <td>0.655990</td>\n",
       "      <td>0.727318</td>\n",
       "      <td>0.594160</td>\n",
       "      <td>0.549857</td>\n",
       "      <td>0.638463</td>\n",
       "      <td>85.904214</td>\n",
       "    </tr>\n",
       "    <tr>\n",
       "      <th>5</th>\n",
       "      <td>RF</td>\n",
       "      <td>Counts</td>\n",
       "      <td>Error_below_1</td>\n",
       "      <td>0.923603</td>\n",
       "      <td>0.914420</td>\n",
       "      <td>0.932785</td>\n",
       "      <td>0.941181</td>\n",
       "      <td>0.936494</td>\n",
       "      <td>0.945867</td>\n",
       "      <td>101.903185</td>\n",
       "    </tr>\n",
       "    <tr>\n",
       "      <th>6</th>\n",
       "      <td>RF</td>\n",
       "      <td>Counts</td>\n",
       "      <td>KendallTau</td>\n",
       "      <td>0.759282</td>\n",
       "      <td>0.748571</td>\n",
       "      <td>0.769993</td>\n",
       "      <td>0.760999</td>\n",
       "      <td>0.749687</td>\n",
       "      <td>0.772312</td>\n",
       "      <td>100.226172</td>\n",
       "    </tr>\n",
       "    <tr>\n",
       "      <th>7</th>\n",
       "      <td>RF</td>\n",
       "      <td>Counts</td>\n",
       "      <td>MAE</td>\n",
       "      <td>0.372868</td>\n",
       "      <td>0.360215</td>\n",
       "      <td>0.385521</td>\n",
       "      <td>0.337795</td>\n",
       "      <td>0.326047</td>\n",
       "      <td>0.349543</td>\n",
       "      <td>90.593756</td>\n",
       "    </tr>\n",
       "    <tr>\n",
       "      <th>8</th>\n",
       "      <td>RF</td>\n",
       "      <td>Counts</td>\n",
       "      <td>MedianAE</td>\n",
       "      <td>0.218992</td>\n",
       "      <td>0.210766</td>\n",
       "      <td>0.227218</td>\n",
       "      <td>0.211897</td>\n",
       "      <td>0.200971</td>\n",
       "      <td>0.222823</td>\n",
       "      <td>96.760133</td>\n",
       "    </tr>\n",
       "    <tr>\n",
       "      <th>9</th>\n",
       "      <td>RF</td>\n",
       "      <td>Counts</td>\n",
       "      <td>RMSE</td>\n",
       "      <td>0.588070</td>\n",
       "      <td>0.554887</td>\n",
       "      <td>0.621254</td>\n",
       "      <td>0.500154</td>\n",
       "      <td>0.477893</td>\n",
       "      <td>0.522416</td>\n",
       "      <td>85.050095</td>\n",
       "    </tr>\n",
       "    <tr>\n",
       "      <th>10</th>\n",
       "      <td>RF_SHORT</td>\n",
       "      <td>Counts</td>\n",
       "      <td>Error_below_1</td>\n",
       "      <td>0.559833</td>\n",
       "      <td>0.543150</td>\n",
       "      <td>0.576516</td>\n",
       "      <td>0.823875</td>\n",
       "      <td>0.815621</td>\n",
       "      <td>0.832130</td>\n",
       "      <td>147.164547</td>\n",
       "    </tr>\n",
       "    <tr>\n",
       "      <th>11</th>\n",
       "      <td>RF_SHORT</td>\n",
       "      <td>Counts</td>\n",
       "      <td>KendallTau</td>\n",
       "      <td>0.567194</td>\n",
       "      <td>0.544654</td>\n",
       "      <td>0.589734</td>\n",
       "      <td>0.651146</td>\n",
       "      <td>0.639191</td>\n",
       "      <td>0.663100</td>\n",
       "      <td>114.801186</td>\n",
       "    </tr>\n",
       "    <tr>\n",
       "      <th>12</th>\n",
       "      <td>RF_SHORT</td>\n",
       "      <td>Counts</td>\n",
       "      <td>MAE</td>\n",
       "      <td>1.019439</td>\n",
       "      <td>0.995791</td>\n",
       "      <td>1.043087</td>\n",
       "      <td>0.596210</td>\n",
       "      <td>0.584051</td>\n",
       "      <td>0.608369</td>\n",
       "      <td>58.484111</td>\n",
       "    </tr>\n",
       "    <tr>\n",
       "      <th>13</th>\n",
       "      <td>RF_SHORT</td>\n",
       "      <td>Counts</td>\n",
       "      <td>MedianAE</td>\n",
       "      <td>0.889150</td>\n",
       "      <td>0.865614</td>\n",
       "      <td>0.912686</td>\n",
       "      <td>0.495871</td>\n",
       "      <td>0.481307</td>\n",
       "      <td>0.510435</td>\n",
       "      <td>55.769067</td>\n",
       "    </tr>\n",
       "    <tr>\n",
       "      <th>14</th>\n",
       "      <td>RF_SHORT</td>\n",
       "      <td>Counts</td>\n",
       "      <td>RMSE</td>\n",
       "      <td>1.265685</td>\n",
       "      <td>1.236612</td>\n",
       "      <td>1.294758</td>\n",
       "      <td>0.755866</td>\n",
       "      <td>0.741690</td>\n",
       "      <td>0.770043</td>\n",
       "      <td>59.719932</td>\n",
       "    </tr>\n",
       "    <tr>\n",
       "      <th>15</th>\n",
       "      <td>RIDGE</td>\n",
       "      <td>Counts</td>\n",
       "      <td>Error_below_1</td>\n",
       "      <td>0.859035</td>\n",
       "      <td>0.849124</td>\n",
       "      <td>0.868945</td>\n",
       "      <td>0.917526</td>\n",
       "      <td>0.906429</td>\n",
       "      <td>0.928623</td>\n",
       "      <td>106.809010</td>\n",
       "    </tr>\n",
       "    <tr>\n",
       "      <th>16</th>\n",
       "      <td>RIDGE</td>\n",
       "      <td>Counts</td>\n",
       "      <td>KendallTau</td>\n",
       "      <td>0.698165</td>\n",
       "      <td>0.684641</td>\n",
       "      <td>0.711689</td>\n",
       "      <td>0.724337</td>\n",
       "      <td>0.710005</td>\n",
       "      <td>0.738669</td>\n",
       "      <td>103.748647</td>\n",
       "    </tr>\n",
       "    <tr>\n",
       "      <th>17</th>\n",
       "      <td>RIDGE</td>\n",
       "      <td>Counts</td>\n",
       "      <td>MAE</td>\n",
       "      <td>0.507079</td>\n",
       "      <td>0.488830</td>\n",
       "      <td>0.525327</td>\n",
       "      <td>0.414690</td>\n",
       "      <td>0.398957</td>\n",
       "      <td>0.430423</td>\n",
       "      <td>81.780319</td>\n",
       "    </tr>\n",
       "    <tr>\n",
       "      <th>18</th>\n",
       "      <td>RIDGE</td>\n",
       "      <td>Counts</td>\n",
       "      <td>MedianAE</td>\n",
       "      <td>0.363253</td>\n",
       "      <td>0.349176</td>\n",
       "      <td>0.377330</td>\n",
       "      <td>0.299527</td>\n",
       "      <td>0.293468</td>\n",
       "      <td>0.305587</td>\n",
       "      <td>82.457070</td>\n",
       "    </tr>\n",
       "    <tr>\n",
       "      <th>19</th>\n",
       "      <td>RIDGE</td>\n",
       "      <td>Counts</td>\n",
       "      <td>RMSE</td>\n",
       "      <td>0.696022</td>\n",
       "      <td>0.665123</td>\n",
       "      <td>0.726921</td>\n",
       "      <td>0.572764</td>\n",
       "      <td>0.540346</td>\n",
       "      <td>0.605182</td>\n",
       "      <td>82.291080</td>\n",
       "    </tr>\n",
       "    <tr>\n",
       "      <th>20</th>\n",
       "      <td>XGB</td>\n",
       "      <td>Counts</td>\n",
       "      <td>Error_below_1</td>\n",
       "      <td>0.937468</td>\n",
       "      <td>0.929617</td>\n",
       "      <td>0.945319</td>\n",
       "      <td>0.949296</td>\n",
       "      <td>0.940897</td>\n",
       "      <td>0.957694</td>\n",
       "      <td>101.261671</td>\n",
       "    </tr>\n",
       "    <tr>\n",
       "      <th>21</th>\n",
       "      <td>XGB</td>\n",
       "      <td>Counts</td>\n",
       "      <td>KendallTau</td>\n",
       "      <td>0.781348</td>\n",
       "      <td>0.771395</td>\n",
       "      <td>0.791302</td>\n",
       "      <td>0.780265</td>\n",
       "      <td>0.768841</td>\n",
       "      <td>0.791689</td>\n",
       "      <td>99.861274</td>\n",
       "    </tr>\n",
       "    <tr>\n",
       "      <th>22</th>\n",
       "      <td>XGB</td>\n",
       "      <td>Counts</td>\n",
       "      <td>MAE</td>\n",
       "      <td>0.354158</td>\n",
       "      <td>0.338120</td>\n",
       "      <td>0.370196</td>\n",
       "      <td>0.313369</td>\n",
       "      <td>0.302886</td>\n",
       "      <td>0.323852</td>\n",
       "      <td>88.482798</td>\n",
       "    </tr>\n",
       "    <tr>\n",
       "      <th>23</th>\n",
       "      <td>XGB</td>\n",
       "      <td>Counts</td>\n",
       "      <td>MedianAE</td>\n",
       "      <td>0.223092</td>\n",
       "      <td>0.215800</td>\n",
       "      <td>0.230384</td>\n",
       "      <td>0.206631</td>\n",
       "      <td>0.197809</td>\n",
       "      <td>0.215453</td>\n",
       "      <td>92.621195</td>\n",
       "    </tr>\n",
       "    <tr>\n",
       "      <th>24</th>\n",
       "      <td>XGB</td>\n",
       "      <td>Counts</td>\n",
       "      <td>RMSE</td>\n",
       "      <td>0.555011</td>\n",
       "      <td>0.507884</td>\n",
       "      <td>0.602139</td>\n",
       "      <td>0.463531</td>\n",
       "      <td>0.440039</td>\n",
       "      <td>0.487023</td>\n",
       "      <td>83.517441</td>\n",
       "    </tr>\n",
       "    <tr>\n",
       "      <th>25</th>\n",
       "      <td>MLP</td>\n",
       "      <td>RDKit_PhysChem</td>\n",
       "      <td>Error_below_1</td>\n",
       "      <td>0.966868</td>\n",
       "      <td>0.963084</td>\n",
       "      <td>0.970652</td>\n",
       "      <td>0.969921</td>\n",
       "      <td>0.963872</td>\n",
       "      <td>0.975970</td>\n",
       "      <td>100.315776</td>\n",
       "    </tr>\n",
       "    <tr>\n",
       "      <th>26</th>\n",
       "      <td>MLP</td>\n",
       "      <td>RDKit_PhysChem</td>\n",
       "      <td>KendallTau</td>\n",
       "      <td>0.841044</td>\n",
       "      <td>0.830857</td>\n",
       "      <td>0.851231</td>\n",
       "      <td>0.828770</td>\n",
       "      <td>0.817225</td>\n",
       "      <td>0.840315</td>\n",
       "      <td>98.540611</td>\n",
       "    </tr>\n",
       "    <tr>\n",
       "      <th>27</th>\n",
       "      <td>MLP</td>\n",
       "      <td>RDKit_PhysChem</td>\n",
       "      <td>MAE</td>\n",
       "      <td>0.253207</td>\n",
       "      <td>0.244156</td>\n",
       "      <td>0.262258</td>\n",
       "      <td>0.252163</td>\n",
       "      <td>0.236559</td>\n",
       "      <td>0.267767</td>\n",
       "      <td>99.587668</td>\n",
       "    </tr>\n",
       "    <tr>\n",
       "      <th>28</th>\n",
       "      <td>MLP</td>\n",
       "      <td>RDKit_PhysChem</td>\n",
       "      <td>MedianAE</td>\n",
       "      <td>0.152732</td>\n",
       "      <td>0.144290</td>\n",
       "      <td>0.161174</td>\n",
       "      <td>0.150674</td>\n",
       "      <td>0.141209</td>\n",
       "      <td>0.160140</td>\n",
       "      <td>98.652837</td>\n",
       "    </tr>\n",
       "    <tr>\n",
       "      <th>29</th>\n",
       "      <td>MLP</td>\n",
       "      <td>RDKit_PhysChem</td>\n",
       "      <td>RMSE</td>\n",
       "      <td>0.440347</td>\n",
       "      <td>0.390287</td>\n",
       "      <td>0.490407</td>\n",
       "      <td>0.423339</td>\n",
       "      <td>0.367313</td>\n",
       "      <td>0.479365</td>\n",
       "      <td>96.137663</td>\n",
       "    </tr>\n",
       "    <tr>\n",
       "      <th>30</th>\n",
       "      <td>RF</td>\n",
       "      <td>RDKit_PhysChem</td>\n",
       "      <td>Error_below_1</td>\n",
       "      <td>0.942195</td>\n",
       "      <td>0.933188</td>\n",
       "      <td>0.951203</td>\n",
       "      <td>0.957076</td>\n",
       "      <td>0.949403</td>\n",
       "      <td>0.964749</td>\n",
       "      <td>101.579386</td>\n",
       "    </tr>\n",
       "    <tr>\n",
       "      <th>31</th>\n",
       "      <td>RF</td>\n",
       "      <td>RDKit_PhysChem</td>\n",
       "      <td>KendallTau</td>\n",
       "      <td>0.803322</td>\n",
       "      <td>0.792401</td>\n",
       "      <td>0.814242</td>\n",
       "      <td>0.803094</td>\n",
       "      <td>0.791591</td>\n",
       "      <td>0.814597</td>\n",
       "      <td>99.971657</td>\n",
       "    </tr>\n",
       "    <tr>\n",
       "      <th>32</th>\n",
       "      <td>RF</td>\n",
       "      <td>RDKit_PhysChem</td>\n",
       "      <td>MAE</td>\n",
       "      <td>0.335414</td>\n",
       "      <td>0.320060</td>\n",
       "      <td>0.350768</td>\n",
       "      <td>0.296509</td>\n",
       "      <td>0.286269</td>\n",
       "      <td>0.306748</td>\n",
       "      <td>88.400748</td>\n",
       "    </tr>\n",
       "    <tr>\n",
       "      <th>33</th>\n",
       "      <td>RF</td>\n",
       "      <td>RDKit_PhysChem</td>\n",
       "      <td>MedianAE</td>\n",
       "      <td>0.212966</td>\n",
       "      <td>0.204158</td>\n",
       "      <td>0.221775</td>\n",
       "      <td>0.200052</td>\n",
       "      <td>0.194668</td>\n",
       "      <td>0.205436</td>\n",
       "      <td>93.936098</td>\n",
       "    </tr>\n",
       "    <tr>\n",
       "      <th>34</th>\n",
       "      <td>RF</td>\n",
       "      <td>RDKit_PhysChem</td>\n",
       "      <td>RMSE</td>\n",
       "      <td>0.508676</td>\n",
       "      <td>0.475091</td>\n",
       "      <td>0.542262</td>\n",
       "      <td>0.435653</td>\n",
       "      <td>0.415572</td>\n",
       "      <td>0.455734</td>\n",
       "      <td>85.644440</td>\n",
       "    </tr>\n",
       "    <tr>\n",
       "      <th>35</th>\n",
       "      <td>RF_SHORT</td>\n",
       "      <td>RDKit_PhysChem</td>\n",
       "      <td>Error_below_1</td>\n",
       "      <td>0.831992</td>\n",
       "      <td>0.815344</td>\n",
       "      <td>0.848639</td>\n",
       "      <td>0.927997</td>\n",
       "      <td>0.922271</td>\n",
       "      <td>0.933723</td>\n",
       "      <td>111.539240</td>\n",
       "    </tr>\n",
       "    <tr>\n",
       "      <th>36</th>\n",
       "      <td>RF_SHORT</td>\n",
       "      <td>RDKit_PhysChem</td>\n",
       "      <td>KendallTau</td>\n",
       "      <td>0.707424</td>\n",
       "      <td>0.694044</td>\n",
       "      <td>0.720804</td>\n",
       "      <td>0.736777</td>\n",
       "      <td>0.723794</td>\n",
       "      <td>0.749759</td>\n",
       "      <td>104.149226</td>\n",
       "    </tr>\n",
       "    <tr>\n",
       "      <th>37</th>\n",
       "      <td>RF_SHORT</td>\n",
       "      <td>RDKit_PhysChem</td>\n",
       "      <td>MAE</td>\n",
       "      <td>0.615117</td>\n",
       "      <td>0.590820</td>\n",
       "      <td>0.639413</td>\n",
       "      <td>0.438592</td>\n",
       "      <td>0.427811</td>\n",
       "      <td>0.449374</td>\n",
       "      <td>71.302339</td>\n",
       "    </tr>\n",
       "    <tr>\n",
       "      <th>38</th>\n",
       "      <td>RF_SHORT</td>\n",
       "      <td>RDKit_PhysChem</td>\n",
       "      <td>MedianAE</td>\n",
       "      <td>0.504600</td>\n",
       "      <td>0.486922</td>\n",
       "      <td>0.522279</td>\n",
       "      <td>0.358384</td>\n",
       "      <td>0.346369</td>\n",
       "      <td>0.370398</td>\n",
       "      <td>71.023283</td>\n",
       "    </tr>\n",
       "    <tr>\n",
       "      <th>39</th>\n",
       "      <td>RF_SHORT</td>\n",
       "      <td>RDKit_PhysChem</td>\n",
       "      <td>RMSE</td>\n",
       "      <td>0.787191</td>\n",
       "      <td>0.751834</td>\n",
       "      <td>0.822549</td>\n",
       "      <td>0.567921</td>\n",
       "      <td>0.551328</td>\n",
       "      <td>0.584514</td>\n",
       "      <td>72.145236</td>\n",
       "    </tr>\n",
       "    <tr>\n",
       "      <th>40</th>\n",
       "      <td>RIDGE</td>\n",
       "      <td>RDKit_PhysChem</td>\n",
       "      <td>Error_below_1</td>\n",
       "      <td>0.913794</td>\n",
       "      <td>0.909893</td>\n",
       "      <td>0.917695</td>\n",
       "      <td>0.966202</td>\n",
       "      <td>0.959035</td>\n",
       "      <td>0.973370</td>\n",
       "      <td>105.735251</td>\n",
       "    </tr>\n",
       "    <tr>\n",
       "      <th>41</th>\n",
       "      <td>RIDGE</td>\n",
       "      <td>RDKit_PhysChem</td>\n",
       "      <td>KendallTau</td>\n",
       "      <td>0.757202</td>\n",
       "      <td>0.748326</td>\n",
       "      <td>0.766079</td>\n",
       "      <td>0.817719</td>\n",
       "      <td>0.807853</td>\n",
       "      <td>0.827586</td>\n",
       "      <td>107.992199</td>\n",
       "    </tr>\n",
       "    <tr>\n",
       "      <th>42</th>\n",
       "      <td>RIDGE</td>\n",
       "      <td>RDKit_PhysChem</td>\n",
       "      <td>MAE</td>\n",
       "      <td>0.400319</td>\n",
       "      <td>0.388383</td>\n",
       "      <td>0.412256</td>\n",
       "      <td>0.272447</td>\n",
       "      <td>0.261880</td>\n",
       "      <td>0.283014</td>\n",
       "      <td>68.057348</td>\n",
       "    </tr>\n",
       "    <tr>\n",
       "      <th>43</th>\n",
       "      <td>RIDGE</td>\n",
       "      <td>RDKit_PhysChem</td>\n",
       "      <td>MedianAE</td>\n",
       "      <td>0.280600</td>\n",
       "      <td>0.270395</td>\n",
       "      <td>0.290806</td>\n",
       "      <td>0.192251</td>\n",
       "      <td>0.186471</td>\n",
       "      <td>0.198031</td>\n",
       "      <td>68.514206</td>\n",
       "    </tr>\n",
       "    <tr>\n",
       "      <th>44</th>\n",
       "      <td>RIDGE</td>\n",
       "      <td>RDKit_PhysChem</td>\n",
       "      <td>RMSE</td>\n",
       "      <td>0.574952</td>\n",
       "      <td>0.548271</td>\n",
       "      <td>0.601632</td>\n",
       "      <td>0.393548</td>\n",
       "      <td>0.371986</td>\n",
       "      <td>0.415110</td>\n",
       "      <td>68.448821</td>\n",
       "    </tr>\n",
       "    <tr>\n",
       "      <th>45</th>\n",
       "      <td>XGB</td>\n",
       "      <td>RDKit_PhysChem</td>\n",
       "      <td>Error_below_1</td>\n",
       "      <td>0.948275</td>\n",
       "      <td>0.942532</td>\n",
       "      <td>0.954019</td>\n",
       "      <td>0.962815</td>\n",
       "      <td>0.956345</td>\n",
       "      <td>0.969284</td>\n",
       "      <td>101.533270</td>\n",
       "    </tr>\n",
       "    <tr>\n",
       "      <th>46</th>\n",
       "      <td>XGB</td>\n",
       "      <td>RDKit_PhysChem</td>\n",
       "      <td>KendallTau</td>\n",
       "      <td>0.812294</td>\n",
       "      <td>0.801890</td>\n",
       "      <td>0.822697</td>\n",
       "      <td>0.809461</td>\n",
       "      <td>0.800906</td>\n",
       "      <td>0.818016</td>\n",
       "      <td>99.651251</td>\n",
       "    </tr>\n",
       "    <tr>\n",
       "      <th>47</th>\n",
       "      <td>XGB</td>\n",
       "      <td>RDKit_PhysChem</td>\n",
       "      <td>MAE</td>\n",
       "      <td>0.309599</td>\n",
       "      <td>0.296039</td>\n",
       "      <td>0.323159</td>\n",
       "      <td>0.267193</td>\n",
       "      <td>0.257702</td>\n",
       "      <td>0.276685</td>\n",
       "      <td>86.302928</td>\n",
       "    </tr>\n",
       "    <tr>\n",
       "      <th>48</th>\n",
       "      <td>XGB</td>\n",
       "      <td>RDKit_PhysChem</td>\n",
       "      <td>MedianAE</td>\n",
       "      <td>0.184497</td>\n",
       "      <td>0.177555</td>\n",
       "      <td>0.191439</td>\n",
       "      <td>0.170426</td>\n",
       "      <td>0.161508</td>\n",
       "      <td>0.179344</td>\n",
       "      <td>92.373104</td>\n",
       "    </tr>\n",
       "    <tr>\n",
       "      <th>49</th>\n",
       "      <td>XGB</td>\n",
       "      <td>RDKit_PhysChem</td>\n",
       "      <td>RMSE</td>\n",
       "      <td>0.534354</td>\n",
       "      <td>0.477224</td>\n",
       "      <td>0.591483</td>\n",
       "      <td>0.413089</td>\n",
       "      <td>0.397417</td>\n",
       "      <td>0.428760</td>\n",
       "      <td>77.306246</td>\n",
       "    </tr>\n",
       "  </tbody>\n",
       "</table>\n",
       "</div>"
      ],
      "text/plain": [
       "       Model      Descriptor         Metric  Train_Full  CI_Low_x  CI_High_x  \\\n",
       "0        MLP          Counts  Error_below_1    0.871217  0.857143   0.885292   \n",
       "1        MLP          Counts     KendallTau    0.701368  0.688115   0.714620   \n",
       "2        MLP          Counts            MAE    0.490646  0.469213   0.512080   \n",
       "3        MLP          Counts       MedianAE    0.344562  0.322804   0.366321   \n",
       "4        MLP          Counts           RMSE    0.691654  0.655990   0.727318   \n",
       "5         RF          Counts  Error_below_1    0.923603  0.914420   0.932785   \n",
       "6         RF          Counts     KendallTau    0.759282  0.748571   0.769993   \n",
       "7         RF          Counts            MAE    0.372868  0.360215   0.385521   \n",
       "8         RF          Counts       MedianAE    0.218992  0.210766   0.227218   \n",
       "9         RF          Counts           RMSE    0.588070  0.554887   0.621254   \n",
       "10  RF_SHORT          Counts  Error_below_1    0.559833  0.543150   0.576516   \n",
       "11  RF_SHORT          Counts     KendallTau    0.567194  0.544654   0.589734   \n",
       "12  RF_SHORT          Counts            MAE    1.019439  0.995791   1.043087   \n",
       "13  RF_SHORT          Counts       MedianAE    0.889150  0.865614   0.912686   \n",
       "14  RF_SHORT          Counts           RMSE    1.265685  1.236612   1.294758   \n",
       "15     RIDGE          Counts  Error_below_1    0.859035  0.849124   0.868945   \n",
       "16     RIDGE          Counts     KendallTau    0.698165  0.684641   0.711689   \n",
       "17     RIDGE          Counts            MAE    0.507079  0.488830   0.525327   \n",
       "18     RIDGE          Counts       MedianAE    0.363253  0.349176   0.377330   \n",
       "19     RIDGE          Counts           RMSE    0.696022  0.665123   0.726921   \n",
       "20       XGB          Counts  Error_below_1    0.937468  0.929617   0.945319   \n",
       "21       XGB          Counts     KendallTau    0.781348  0.771395   0.791302   \n",
       "22       XGB          Counts            MAE    0.354158  0.338120   0.370196   \n",
       "23       XGB          Counts       MedianAE    0.223092  0.215800   0.230384   \n",
       "24       XGB          Counts           RMSE    0.555011  0.507884   0.602139   \n",
       "25       MLP  RDKit_PhysChem  Error_below_1    0.966868  0.963084   0.970652   \n",
       "26       MLP  RDKit_PhysChem     KendallTau    0.841044  0.830857   0.851231   \n",
       "27       MLP  RDKit_PhysChem            MAE    0.253207  0.244156   0.262258   \n",
       "28       MLP  RDKit_PhysChem       MedianAE    0.152732  0.144290   0.161174   \n",
       "29       MLP  RDKit_PhysChem           RMSE    0.440347  0.390287   0.490407   \n",
       "30        RF  RDKit_PhysChem  Error_below_1    0.942195  0.933188   0.951203   \n",
       "31        RF  RDKit_PhysChem     KendallTau    0.803322  0.792401   0.814242   \n",
       "32        RF  RDKit_PhysChem            MAE    0.335414  0.320060   0.350768   \n",
       "33        RF  RDKit_PhysChem       MedianAE    0.212966  0.204158   0.221775   \n",
       "34        RF  RDKit_PhysChem           RMSE    0.508676  0.475091   0.542262   \n",
       "35  RF_SHORT  RDKit_PhysChem  Error_below_1    0.831992  0.815344   0.848639   \n",
       "36  RF_SHORT  RDKit_PhysChem     KendallTau    0.707424  0.694044   0.720804   \n",
       "37  RF_SHORT  RDKit_PhysChem            MAE    0.615117  0.590820   0.639413   \n",
       "38  RF_SHORT  RDKit_PhysChem       MedianAE    0.504600  0.486922   0.522279   \n",
       "39  RF_SHORT  RDKit_PhysChem           RMSE    0.787191  0.751834   0.822549   \n",
       "40     RIDGE  RDKit_PhysChem  Error_below_1    0.913794  0.909893   0.917695   \n",
       "41     RIDGE  RDKit_PhysChem     KendallTau    0.757202  0.748326   0.766079   \n",
       "42     RIDGE  RDKit_PhysChem            MAE    0.400319  0.388383   0.412256   \n",
       "43     RIDGE  RDKit_PhysChem       MedianAE    0.280600  0.270395   0.290806   \n",
       "44     RIDGE  RDKit_PhysChem           RMSE    0.574952  0.548271   0.601632   \n",
       "45       XGB  RDKit_PhysChem  Error_below_1    0.948275  0.942532   0.954019   \n",
       "46       XGB  RDKit_PhysChem     KendallTau    0.812294  0.801890   0.822697   \n",
       "47       XGB  RDKit_PhysChem            MAE    0.309599  0.296039   0.323159   \n",
       "48       XGB  RDKit_PhysChem       MedianAE    0.184497  0.177555   0.191439   \n",
       "49       XGB  RDKit_PhysChem           RMSE    0.534354  0.477224   0.591483   \n",
       "\n",
       "    Train_Mid  CI_Low_y  CI_High_y  Train_Mid_as_percentage_of_Train_Full  \n",
       "0    0.908732  0.890424   0.927040                             104.306031  \n",
       "1    0.713488  0.689237   0.737740                             101.728187  \n",
       "2    0.435049  0.401229   0.468870                              88.668620  \n",
       "3    0.320357  0.292040   0.348673                              92.974919  \n",
       "4    0.594160  0.549857   0.638463                              85.904214  \n",
       "5    0.941181  0.936494   0.945867                             101.903185  \n",
       "6    0.760999  0.749687   0.772312                             100.226172  \n",
       "7    0.337795  0.326047   0.349543                              90.593756  \n",
       "8    0.211897  0.200971   0.222823                              96.760133  \n",
       "9    0.500154  0.477893   0.522416                              85.050095  \n",
       "10   0.823875  0.815621   0.832130                             147.164547  \n",
       "11   0.651146  0.639191   0.663100                             114.801186  \n",
       "12   0.596210  0.584051   0.608369                              58.484111  \n",
       "13   0.495871  0.481307   0.510435                              55.769067  \n",
       "14   0.755866  0.741690   0.770043                              59.719932  \n",
       "15   0.917526  0.906429   0.928623                             106.809010  \n",
       "16   0.724337  0.710005   0.738669                             103.748647  \n",
       "17   0.414690  0.398957   0.430423                              81.780319  \n",
       "18   0.299527  0.293468   0.305587                              82.457070  \n",
       "19   0.572764  0.540346   0.605182                              82.291080  \n",
       "20   0.949296  0.940897   0.957694                             101.261671  \n",
       "21   0.780265  0.768841   0.791689                              99.861274  \n",
       "22   0.313369  0.302886   0.323852                              88.482798  \n",
       "23   0.206631  0.197809   0.215453                              92.621195  \n",
       "24   0.463531  0.440039   0.487023                              83.517441  \n",
       "25   0.969921  0.963872   0.975970                             100.315776  \n",
       "26   0.828770  0.817225   0.840315                              98.540611  \n",
       "27   0.252163  0.236559   0.267767                              99.587668  \n",
       "28   0.150674  0.141209   0.160140                              98.652837  \n",
       "29   0.423339  0.367313   0.479365                              96.137663  \n",
       "30   0.957076  0.949403   0.964749                             101.579386  \n",
       "31   0.803094  0.791591   0.814597                              99.971657  \n",
       "32   0.296509  0.286269   0.306748                              88.400748  \n",
       "33   0.200052  0.194668   0.205436                              93.936098  \n",
       "34   0.435653  0.415572   0.455734                              85.644440  \n",
       "35   0.927997  0.922271   0.933723                             111.539240  \n",
       "36   0.736777  0.723794   0.749759                             104.149226  \n",
       "37   0.438592  0.427811   0.449374                              71.302339  \n",
       "38   0.358384  0.346369   0.370398                              71.023283  \n",
       "39   0.567921  0.551328   0.584514                              72.145236  \n",
       "40   0.966202  0.959035   0.973370                             105.735251  \n",
       "41   0.817719  0.807853   0.827586                             107.992199  \n",
       "42   0.272447  0.261880   0.283014                              68.057348  \n",
       "43   0.192251  0.186471   0.198031                              68.514206  \n",
       "44   0.393548  0.371986   0.415110                              68.448821  \n",
       "45   0.962815  0.956345   0.969284                             101.533270  \n",
       "46   0.809461  0.800906   0.818016                              99.651251  \n",
       "47   0.267193  0.257702   0.276685                              86.302928  \n",
       "48   0.170426  0.161508   0.179344                              92.373104  \n",
       "49   0.413089  0.397417   0.428760                              77.306246  "
      ]
     },
     "execution_count": 56,
     "metadata": {},
     "output_type": "execute_result"
    }
   ],
   "source": [
    "#now make another df, comparing performance of trained on full range to trained on mid range, on the test set\n",
    "df_train_set_diff = pd.merge(\n",
    "    df_metrics_full_train_range_counts_and_physchem.rename(columns={'Mean': 'Train_Full'}),\n",
    "    df_metrics_mid_train_range_counts_and_physchem.rename(columns={'Mean': 'Train_Mid'}),\n",
    "    on=['Model', 'Descriptor', 'Metric']\n",
    ")\n",
    "df_train_set_diff\n",
    "#here also get test as percentage of train, but this time Train_Mid as percentage of Train_Full\n",
    "df_train_set_diff['Train_Mid_as_percentage_of_Train_Full'] = df_train_set_diff['Train_Mid']/df_train_set_diff['Train_Full'] * 100\n",
    "df_train_set_diff"
   ]
  },
  {
   "cell_type": "code",
   "execution_count": 57,
   "metadata": {},
   "outputs": [
    {
     "data": {
      "text/html": [
       "<div>\n",
       "<style scoped>\n",
       "    .dataframe tbody tr th:only-of-type {\n",
       "        vertical-align: middle;\n",
       "    }\n",
       "\n",
       "    .dataframe tbody tr th {\n",
       "        vertical-align: top;\n",
       "    }\n",
       "\n",
       "    .dataframe thead th {\n",
       "        text-align: right;\n",
       "    }\n",
       "</style>\n",
       "<table border=\"1\" class=\"dataframe\">\n",
       "  <thead>\n",
       "    <tr style=\"text-align: right;\">\n",
       "      <th></th>\n",
       "      <th>Model</th>\n",
       "      <th>Descriptor</th>\n",
       "      <th>Metric</th>\n",
       "      <th>Train_Mid_x</th>\n",
       "      <th>Test_Mid</th>\n",
       "      <th>Test_Mid_as_percentage_of_Train_Mid</th>\n",
       "      <th>Train_Full</th>\n",
       "      <th>Train_Mid_y</th>\n",
       "      <th>Train_Mid_as_percentage_of_Train_Full</th>\n",
       "    </tr>\n",
       "  </thead>\n",
       "  <tbody>\n",
       "    <tr>\n",
       "      <th>0</th>\n",
       "      <td>MLP</td>\n",
       "      <td>Counts</td>\n",
       "      <td>Error_below_1</td>\n",
       "      <td>0.917341</td>\n",
       "      <td>0.908732</td>\n",
       "      <td>99.061573</td>\n",
       "      <td>0.871217</td>\n",
       "      <td>0.908732</td>\n",
       "      <td>104.306031</td>\n",
       "    </tr>\n",
       "    <tr>\n",
       "      <th>1</th>\n",
       "      <td>MLP</td>\n",
       "      <td>Counts</td>\n",
       "      <td>KendallTau</td>\n",
       "      <td>0.724904</td>\n",
       "      <td>0.713488</td>\n",
       "      <td>98.425202</td>\n",
       "      <td>0.701368</td>\n",
       "      <td>0.713488</td>\n",
       "      <td>101.728187</td>\n",
       "    </tr>\n",
       "    <tr>\n",
       "      <th>2</th>\n",
       "      <td>MLP</td>\n",
       "      <td>Counts</td>\n",
       "      <td>MAE</td>\n",
       "      <td>0.419442</td>\n",
       "      <td>0.435049</td>\n",
       "      <td>103.720884</td>\n",
       "      <td>0.490646</td>\n",
       "      <td>0.435049</td>\n",
       "      <td>88.668620</td>\n",
       "    </tr>\n",
       "    <tr>\n",
       "      <th>3</th>\n",
       "      <td>MLP</td>\n",
       "      <td>Counts</td>\n",
       "      <td>MedianAE</td>\n",
       "      <td>0.305881</td>\n",
       "      <td>0.320357</td>\n",
       "      <td>104.732564</td>\n",
       "      <td>0.344562</td>\n",
       "      <td>0.320357</td>\n",
       "      <td>92.974919</td>\n",
       "    </tr>\n",
       "    <tr>\n",
       "      <th>4</th>\n",
       "      <td>MLP</td>\n",
       "      <td>Counts</td>\n",
       "      <td>RMSE</td>\n",
       "      <td>0.576076</td>\n",
       "      <td>0.594160</td>\n",
       "      <td>103.139237</td>\n",
       "      <td>0.691654</td>\n",
       "      <td>0.594160</td>\n",
       "      <td>85.904214</td>\n",
       "    </tr>\n",
       "    <tr>\n",
       "      <th>5</th>\n",
       "      <td>RF</td>\n",
       "      <td>Counts</td>\n",
       "      <td>Error_below_1</td>\n",
       "      <td>0.998141</td>\n",
       "      <td>0.941181</td>\n",
       "      <td>94.293393</td>\n",
       "      <td>0.923603</td>\n",
       "      <td>0.941181</td>\n",
       "      <td>101.903185</td>\n",
       "    </tr>\n",
       "    <tr>\n",
       "      <th>6</th>\n",
       "      <td>RF</td>\n",
       "      <td>Counts</td>\n",
       "      <td>KendallTau</td>\n",
       "      <td>0.907285</td>\n",
       "      <td>0.760999</td>\n",
       "      <td>83.876531</td>\n",
       "      <td>0.759282</td>\n",
       "      <td>0.760999</td>\n",
       "      <td>100.226172</td>\n",
       "    </tr>\n",
       "    <tr>\n",
       "      <th>7</th>\n",
       "      <td>RF</td>\n",
       "      <td>Counts</td>\n",
       "      <td>MAE</td>\n",
       "      <td>0.144059</td>\n",
       "      <td>0.337795</td>\n",
       "      <td>234.483843</td>\n",
       "      <td>0.372868</td>\n",
       "      <td>0.337795</td>\n",
       "      <td>90.593756</td>\n",
       "    </tr>\n",
       "    <tr>\n",
       "      <th>8</th>\n",
       "      <td>RF</td>\n",
       "      <td>Counts</td>\n",
       "      <td>MedianAE</td>\n",
       "      <td>0.098336</td>\n",
       "      <td>0.211897</td>\n",
       "      <td>215.482489</td>\n",
       "      <td>0.218992</td>\n",
       "      <td>0.211897</td>\n",
       "      <td>96.760133</td>\n",
       "    </tr>\n",
       "    <tr>\n",
       "      <th>9</th>\n",
       "      <td>RF</td>\n",
       "      <td>Counts</td>\n",
       "      <td>RMSE</td>\n",
       "      <td>0.206580</td>\n",
       "      <td>0.500154</td>\n",
       "      <td>242.111967</td>\n",
       "      <td>0.588070</td>\n",
       "      <td>0.500154</td>\n",
       "      <td>85.050095</td>\n",
       "    </tr>\n",
       "    <tr>\n",
       "      <th>10</th>\n",
       "      <td>RF_SHORT</td>\n",
       "      <td>Counts</td>\n",
       "      <td>Error_below_1</td>\n",
       "      <td>0.839250</td>\n",
       "      <td>0.823875</td>\n",
       "      <td>98.168070</td>\n",
       "      <td>0.559833</td>\n",
       "      <td>0.823875</td>\n",
       "      <td>147.164547</td>\n",
       "    </tr>\n",
       "    <tr>\n",
       "      <th>11</th>\n",
       "      <td>RF_SHORT</td>\n",
       "      <td>Counts</td>\n",
       "      <td>KendallTau</td>\n",
       "      <td>0.678242</td>\n",
       "      <td>0.651146</td>\n",
       "      <td>96.004849</td>\n",
       "      <td>0.567194</td>\n",
       "      <td>0.651146</td>\n",
       "      <td>114.801186</td>\n",
       "    </tr>\n",
       "    <tr>\n",
       "      <th>12</th>\n",
       "      <td>RF_SHORT</td>\n",
       "      <td>Counts</td>\n",
       "      <td>MAE</td>\n",
       "      <td>0.571563</td>\n",
       "      <td>0.596210</td>\n",
       "      <td>104.312109</td>\n",
       "      <td>1.019439</td>\n",
       "      <td>0.596210</td>\n",
       "      <td>58.484111</td>\n",
       "    </tr>\n",
       "    <tr>\n",
       "      <th>13</th>\n",
       "      <td>RF_SHORT</td>\n",
       "      <td>Counts</td>\n",
       "      <td>MedianAE</td>\n",
       "      <td>0.478507</td>\n",
       "      <td>0.495871</td>\n",
       "      <td>103.628809</td>\n",
       "      <td>0.889150</td>\n",
       "      <td>0.495871</td>\n",
       "      <td>55.769067</td>\n",
       "    </tr>\n",
       "    <tr>\n",
       "      <th>14</th>\n",
       "      <td>RF_SHORT</td>\n",
       "      <td>Counts</td>\n",
       "      <td>RMSE</td>\n",
       "      <td>0.721529</td>\n",
       "      <td>0.755866</td>\n",
       "      <td>104.758955</td>\n",
       "      <td>1.265685</td>\n",
       "      <td>0.755866</td>\n",
       "      <td>59.719932</td>\n",
       "    </tr>\n",
       "    <tr>\n",
       "      <th>15</th>\n",
       "      <td>RIDGE</td>\n",
       "      <td>Counts</td>\n",
       "      <td>Error_below_1</td>\n",
       "      <td>0.921232</td>\n",
       "      <td>0.917526</td>\n",
       "      <td>99.597801</td>\n",
       "      <td>0.859035</td>\n",
       "      <td>0.917526</td>\n",
       "      <td>106.809010</td>\n",
       "    </tr>\n",
       "    <tr>\n",
       "      <th>16</th>\n",
       "      <td>RIDGE</td>\n",
       "      <td>Counts</td>\n",
       "      <td>KendallTau</td>\n",
       "      <td>0.730010</td>\n",
       "      <td>0.724337</td>\n",
       "      <td>99.222864</td>\n",
       "      <td>0.698165</td>\n",
       "      <td>0.724337</td>\n",
       "      <td>103.748647</td>\n",
       "    </tr>\n",
       "    <tr>\n",
       "      <th>17</th>\n",
       "      <td>RIDGE</td>\n",
       "      <td>Counts</td>\n",
       "      <td>MAE</td>\n",
       "      <td>0.405759</td>\n",
       "      <td>0.414690</td>\n",
       "      <td>102.201164</td>\n",
       "      <td>0.507079</td>\n",
       "      <td>0.414690</td>\n",
       "      <td>81.780319</td>\n",
       "    </tr>\n",
       "    <tr>\n",
       "      <th>18</th>\n",
       "      <td>RIDGE</td>\n",
       "      <td>Counts</td>\n",
       "      <td>MedianAE</td>\n",
       "      <td>0.292737</td>\n",
       "      <td>0.299527</td>\n",
       "      <td>102.319599</td>\n",
       "      <td>0.363253</td>\n",
       "      <td>0.299527</td>\n",
       "      <td>82.457070</td>\n",
       "    </tr>\n",
       "    <tr>\n",
       "      <th>19</th>\n",
       "      <td>RIDGE</td>\n",
       "      <td>Counts</td>\n",
       "      <td>RMSE</td>\n",
       "      <td>0.561384</td>\n",
       "      <td>0.572764</td>\n",
       "      <td>102.027175</td>\n",
       "      <td>0.696022</td>\n",
       "      <td>0.572764</td>\n",
       "      <td>82.291080</td>\n",
       "    </tr>\n",
       "    <tr>\n",
       "      <th>20</th>\n",
       "      <td>XGB</td>\n",
       "      <td>Counts</td>\n",
       "      <td>Error_below_1</td>\n",
       "      <td>0.998225</td>\n",
       "      <td>0.949296</td>\n",
       "      <td>95.098356</td>\n",
       "      <td>0.937468</td>\n",
       "      <td>0.949296</td>\n",
       "      <td>101.261671</td>\n",
       "    </tr>\n",
       "    <tr>\n",
       "      <th>21</th>\n",
       "      <td>XGB</td>\n",
       "      <td>Counts</td>\n",
       "      <td>KendallTau</td>\n",
       "      <td>0.921848</td>\n",
       "      <td>0.780265</td>\n",
       "      <td>84.641389</td>\n",
       "      <td>0.781348</td>\n",
       "      <td>0.780265</td>\n",
       "      <td>99.861274</td>\n",
       "    </tr>\n",
       "    <tr>\n",
       "      <th>22</th>\n",
       "      <td>XGB</td>\n",
       "      <td>Counts</td>\n",
       "      <td>MAE</td>\n",
       "      <td>0.113361</td>\n",
       "      <td>0.313369</td>\n",
       "      <td>276.434269</td>\n",
       "      <td>0.354158</td>\n",
       "      <td>0.313369</td>\n",
       "      <td>88.482798</td>\n",
       "    </tr>\n",
       "    <tr>\n",
       "      <th>23</th>\n",
       "      <td>XGB</td>\n",
       "      <td>Counts</td>\n",
       "      <td>MedianAE</td>\n",
       "      <td>0.075431</td>\n",
       "      <td>0.206631</td>\n",
       "      <td>273.933868</td>\n",
       "      <td>0.223092</td>\n",
       "      <td>0.206631</td>\n",
       "      <td>92.621195</td>\n",
       "    </tr>\n",
       "    <tr>\n",
       "      <th>24</th>\n",
       "      <td>XGB</td>\n",
       "      <td>Counts</td>\n",
       "      <td>RMSE</td>\n",
       "      <td>0.167648</td>\n",
       "      <td>0.463531</td>\n",
       "      <td>276.491564</td>\n",
       "      <td>0.555011</td>\n",
       "      <td>0.463531</td>\n",
       "      <td>83.517441</td>\n",
       "    </tr>\n",
       "    <tr>\n",
       "      <th>25</th>\n",
       "      <td>MLP</td>\n",
       "      <td>RDKit_PhysChem</td>\n",
       "      <td>Error_below_1</td>\n",
       "      <td>0.999746</td>\n",
       "      <td>0.969921</td>\n",
       "      <td>97.016701</td>\n",
       "      <td>0.966868</td>\n",
       "      <td>0.969921</td>\n",
       "      <td>100.315776</td>\n",
       "    </tr>\n",
       "    <tr>\n",
       "      <th>26</th>\n",
       "      <td>MLP</td>\n",
       "      <td>RDKit_PhysChem</td>\n",
       "      <td>KendallTau</td>\n",
       "      <td>0.952824</td>\n",
       "      <td>0.828770</td>\n",
       "      <td>86.980340</td>\n",
       "      <td>0.841044</td>\n",
       "      <td>0.828770</td>\n",
       "      <td>98.540611</td>\n",
       "    </tr>\n",
       "    <tr>\n",
       "      <th>27</th>\n",
       "      <td>MLP</td>\n",
       "      <td>RDKit_PhysChem</td>\n",
       "      <td>MAE</td>\n",
       "      <td>0.074087</td>\n",
       "      <td>0.252163</td>\n",
       "      <td>340.359559</td>\n",
       "      <td>0.253207</td>\n",
       "      <td>0.252163</td>\n",
       "      <td>99.587668</td>\n",
       "    </tr>\n",
       "    <tr>\n",
       "      <th>28</th>\n",
       "      <td>MLP</td>\n",
       "      <td>RDKit_PhysChem</td>\n",
       "      <td>MedianAE</td>\n",
       "      <td>0.056335</td>\n",
       "      <td>0.150674</td>\n",
       "      <td>267.462158</td>\n",
       "      <td>0.152732</td>\n",
       "      <td>0.150674</td>\n",
       "      <td>98.652837</td>\n",
       "    </tr>\n",
       "    <tr>\n",
       "      <th>29</th>\n",
       "      <td>MLP</td>\n",
       "      <td>RDKit_PhysChem</td>\n",
       "      <td>RMSE</td>\n",
       "      <td>0.103161</td>\n",
       "      <td>0.423339</td>\n",
       "      <td>410.368319</td>\n",
       "      <td>0.440347</td>\n",
       "      <td>0.423339</td>\n",
       "      <td>96.137663</td>\n",
       "    </tr>\n",
       "    <tr>\n",
       "      <th>30</th>\n",
       "      <td>RF</td>\n",
       "      <td>RDKit_PhysChem</td>\n",
       "      <td>Error_below_1</td>\n",
       "      <td>0.999324</td>\n",
       "      <td>0.957076</td>\n",
       "      <td>95.772386</td>\n",
       "      <td>0.942195</td>\n",
       "      <td>0.957076</td>\n",
       "      <td>101.579386</td>\n",
       "    </tr>\n",
       "    <tr>\n",
       "      <th>31</th>\n",
       "      <td>RF</td>\n",
       "      <td>RDKit_PhysChem</td>\n",
       "      <td>KendallTau</td>\n",
       "      <td>0.933094</td>\n",
       "      <td>0.803094</td>\n",
       "      <td>86.067885</td>\n",
       "      <td>0.803322</td>\n",
       "      <td>0.803094</td>\n",
       "      <td>99.971657</td>\n",
       "    </tr>\n",
       "    <tr>\n",
       "      <th>32</th>\n",
       "      <td>RF</td>\n",
       "      <td>RDKit_PhysChem</td>\n",
       "      <td>MAE</td>\n",
       "      <td>0.111950</td>\n",
       "      <td>0.296509</td>\n",
       "      <td>264.858519</td>\n",
       "      <td>0.335414</td>\n",
       "      <td>0.296509</td>\n",
       "      <td>88.400748</td>\n",
       "    </tr>\n",
       "    <tr>\n",
       "      <th>33</th>\n",
       "      <td>RF</td>\n",
       "      <td>RDKit_PhysChem</td>\n",
       "      <td>MedianAE</td>\n",
       "      <td>0.073610</td>\n",
       "      <td>0.200052</td>\n",
       "      <td>271.774772</td>\n",
       "      <td>0.212966</td>\n",
       "      <td>0.200052</td>\n",
       "      <td>93.936098</td>\n",
       "    </tr>\n",
       "    <tr>\n",
       "      <th>34</th>\n",
       "      <td>RF</td>\n",
       "      <td>RDKit_PhysChem</td>\n",
       "      <td>RMSE</td>\n",
       "      <td>0.166319</td>\n",
       "      <td>0.435653</td>\n",
       "      <td>261.938326</td>\n",
       "      <td>0.508676</td>\n",
       "      <td>0.435653</td>\n",
       "      <td>85.644440</td>\n",
       "    </tr>\n",
       "    <tr>\n",
       "      <th>35</th>\n",
       "      <td>RF_SHORT</td>\n",
       "      <td>RDKit_PhysChem</td>\n",
       "      <td>Error_below_1</td>\n",
       "      <td>0.957404</td>\n",
       "      <td>0.927997</td>\n",
       "      <td>96.928429</td>\n",
       "      <td>0.831992</td>\n",
       "      <td>0.927997</td>\n",
       "      <td>111.539240</td>\n",
       "    </tr>\n",
       "    <tr>\n",
       "      <th>36</th>\n",
       "      <td>RF_SHORT</td>\n",
       "      <td>RDKit_PhysChem</td>\n",
       "      <td>KendallTau</td>\n",
       "      <td>0.777758</td>\n",
       "      <td>0.736777</td>\n",
       "      <td>94.730875</td>\n",
       "      <td>0.707424</td>\n",
       "      <td>0.736777</td>\n",
       "      <td>104.149226</td>\n",
       "    </tr>\n",
       "    <tr>\n",
       "      <th>37</th>\n",
       "      <td>RF_SHORT</td>\n",
       "      <td>RDKit_PhysChem</td>\n",
       "      <td>MAE</td>\n",
       "      <td>0.381321</td>\n",
       "      <td>0.438592</td>\n",
       "      <td>115.019199</td>\n",
       "      <td>0.615117</td>\n",
       "      <td>0.438592</td>\n",
       "      <td>71.302339</td>\n",
       "    </tr>\n",
       "    <tr>\n",
       "      <th>38</th>\n",
       "      <td>RF_SHORT</td>\n",
       "      <td>RDKit_PhysChem</td>\n",
       "      <td>MedianAE</td>\n",
       "      <td>0.315854</td>\n",
       "      <td>0.358384</td>\n",
       "      <td>113.465099</td>\n",
       "      <td>0.504600</td>\n",
       "      <td>0.358384</td>\n",
       "      <td>71.023283</td>\n",
       "    </tr>\n",
       "    <tr>\n",
       "      <th>39</th>\n",
       "      <td>RF_SHORT</td>\n",
       "      <td>RDKit_PhysChem</td>\n",
       "      <td>RMSE</td>\n",
       "      <td>0.484956</td>\n",
       "      <td>0.567921</td>\n",
       "      <td>117.107804</td>\n",
       "      <td>0.787191</td>\n",
       "      <td>0.567921</td>\n",
       "      <td>72.145236</td>\n",
       "    </tr>\n",
       "    <tr>\n",
       "      <th>40</th>\n",
       "      <td>RIDGE</td>\n",
       "      <td>RDKit_PhysChem</td>\n",
       "      <td>Error_below_1</td>\n",
       "      <td>0.979040</td>\n",
       "      <td>0.966202</td>\n",
       "      <td>98.688729</td>\n",
       "      <td>0.913794</td>\n",
       "      <td>0.966202</td>\n",
       "      <td>105.735251</td>\n",
       "    </tr>\n",
       "    <tr>\n",
       "      <th>41</th>\n",
       "      <td>RIDGE</td>\n",
       "      <td>RDKit_PhysChem</td>\n",
       "      <td>KendallTau</td>\n",
       "      <td>0.839963</td>\n",
       "      <td>0.817719</td>\n",
       "      <td>97.351849</td>\n",
       "      <td>0.757202</td>\n",
       "      <td>0.817719</td>\n",
       "      <td>107.992199</td>\n",
       "    </tr>\n",
       "    <tr>\n",
       "      <th>42</th>\n",
       "      <td>RIDGE</td>\n",
       "      <td>RDKit_PhysChem</td>\n",
       "      <td>MAE</td>\n",
       "      <td>0.241609</td>\n",
       "      <td>0.272447</td>\n",
       "      <td>112.763276</td>\n",
       "      <td>0.400319</td>\n",
       "      <td>0.272447</td>\n",
       "      <td>68.057348</td>\n",
       "    </tr>\n",
       "    <tr>\n",
       "      <th>43</th>\n",
       "      <td>RIDGE</td>\n",
       "      <td>RDKit_PhysChem</td>\n",
       "      <td>MedianAE</td>\n",
       "      <td>0.174396</td>\n",
       "      <td>0.192251</td>\n",
       "      <td>110.238235</td>\n",
       "      <td>0.280600</td>\n",
       "      <td>0.192251</td>\n",
       "      <td>68.514206</td>\n",
       "    </tr>\n",
       "    <tr>\n",
       "      <th>44</th>\n",
       "      <td>RIDGE</td>\n",
       "      <td>RDKit_PhysChem</td>\n",
       "      <td>RMSE</td>\n",
       "      <td>0.343533</td>\n",
       "      <td>0.393548</td>\n",
       "      <td>114.558967</td>\n",
       "      <td>0.574952</td>\n",
       "      <td>0.393548</td>\n",
       "      <td>68.448821</td>\n",
       "    </tr>\n",
       "    <tr>\n",
       "      <th>45</th>\n",
       "      <td>XGB</td>\n",
       "      <td>RDKit_PhysChem</td>\n",
       "      <td>Error_below_1</td>\n",
       "      <td>1.000000</td>\n",
       "      <td>0.962815</td>\n",
       "      <td>96.281493</td>\n",
       "      <td>0.948275</td>\n",
       "      <td>0.962815</td>\n",
       "      <td>101.533270</td>\n",
       "    </tr>\n",
       "    <tr>\n",
       "      <th>46</th>\n",
       "      <td>XGB</td>\n",
       "      <td>RDKit_PhysChem</td>\n",
       "      <td>KendallTau</td>\n",
       "      <td>0.992004</td>\n",
       "      <td>0.809461</td>\n",
       "      <td>81.598531</td>\n",
       "      <td>0.812294</td>\n",
       "      <td>0.809461</td>\n",
       "      <td>99.651251</td>\n",
       "    </tr>\n",
       "    <tr>\n",
       "      <th>47</th>\n",
       "      <td>XGB</td>\n",
       "      <td>RDKit_PhysChem</td>\n",
       "      <td>MAE</td>\n",
       "      <td>0.011059</td>\n",
       "      <td>0.267193</td>\n",
       "      <td>2416.017888</td>\n",
       "      <td>0.309599</td>\n",
       "      <td>0.267193</td>\n",
       "      <td>86.302928</td>\n",
       "    </tr>\n",
       "    <tr>\n",
       "      <th>48</th>\n",
       "      <td>XGB</td>\n",
       "      <td>RDKit_PhysChem</td>\n",
       "      <td>MedianAE</td>\n",
       "      <td>0.006939</td>\n",
       "      <td>0.170426</td>\n",
       "      <td>2456.210573</td>\n",
       "      <td>0.184497</td>\n",
       "      <td>0.170426</td>\n",
       "      <td>92.373104</td>\n",
       "    </tr>\n",
       "    <tr>\n",
       "      <th>49</th>\n",
       "      <td>XGB</td>\n",
       "      <td>RDKit_PhysChem</td>\n",
       "      <td>RMSE</td>\n",
       "      <td>0.024749</td>\n",
       "      <td>0.413089</td>\n",
       "      <td>1669.117048</td>\n",
       "      <td>0.534354</td>\n",
       "      <td>0.413089</td>\n",
       "      <td>77.306246</td>\n",
       "    </tr>\n",
       "  </tbody>\n",
       "</table>\n",
       "</div>"
      ],
      "text/plain": [
       "       Model      Descriptor         Metric  Train_Mid_x  Test_Mid  \\\n",
       "0        MLP          Counts  Error_below_1     0.917341  0.908732   \n",
       "1        MLP          Counts     KendallTau     0.724904  0.713488   \n",
       "2        MLP          Counts            MAE     0.419442  0.435049   \n",
       "3        MLP          Counts       MedianAE     0.305881  0.320357   \n",
       "4        MLP          Counts           RMSE     0.576076  0.594160   \n",
       "5         RF          Counts  Error_below_1     0.998141  0.941181   \n",
       "6         RF          Counts     KendallTau     0.907285  0.760999   \n",
       "7         RF          Counts            MAE     0.144059  0.337795   \n",
       "8         RF          Counts       MedianAE     0.098336  0.211897   \n",
       "9         RF          Counts           RMSE     0.206580  0.500154   \n",
       "10  RF_SHORT          Counts  Error_below_1     0.839250  0.823875   \n",
       "11  RF_SHORT          Counts     KendallTau     0.678242  0.651146   \n",
       "12  RF_SHORT          Counts            MAE     0.571563  0.596210   \n",
       "13  RF_SHORT          Counts       MedianAE     0.478507  0.495871   \n",
       "14  RF_SHORT          Counts           RMSE     0.721529  0.755866   \n",
       "15     RIDGE          Counts  Error_below_1     0.921232  0.917526   \n",
       "16     RIDGE          Counts     KendallTau     0.730010  0.724337   \n",
       "17     RIDGE          Counts            MAE     0.405759  0.414690   \n",
       "18     RIDGE          Counts       MedianAE     0.292737  0.299527   \n",
       "19     RIDGE          Counts           RMSE     0.561384  0.572764   \n",
       "20       XGB          Counts  Error_below_1     0.998225  0.949296   \n",
       "21       XGB          Counts     KendallTau     0.921848  0.780265   \n",
       "22       XGB          Counts            MAE     0.113361  0.313369   \n",
       "23       XGB          Counts       MedianAE     0.075431  0.206631   \n",
       "24       XGB          Counts           RMSE     0.167648  0.463531   \n",
       "25       MLP  RDKit_PhysChem  Error_below_1     0.999746  0.969921   \n",
       "26       MLP  RDKit_PhysChem     KendallTau     0.952824  0.828770   \n",
       "27       MLP  RDKit_PhysChem            MAE     0.074087  0.252163   \n",
       "28       MLP  RDKit_PhysChem       MedianAE     0.056335  0.150674   \n",
       "29       MLP  RDKit_PhysChem           RMSE     0.103161  0.423339   \n",
       "30        RF  RDKit_PhysChem  Error_below_1     0.999324  0.957076   \n",
       "31        RF  RDKit_PhysChem     KendallTau     0.933094  0.803094   \n",
       "32        RF  RDKit_PhysChem            MAE     0.111950  0.296509   \n",
       "33        RF  RDKit_PhysChem       MedianAE     0.073610  0.200052   \n",
       "34        RF  RDKit_PhysChem           RMSE     0.166319  0.435653   \n",
       "35  RF_SHORT  RDKit_PhysChem  Error_below_1     0.957404  0.927997   \n",
       "36  RF_SHORT  RDKit_PhysChem     KendallTau     0.777758  0.736777   \n",
       "37  RF_SHORT  RDKit_PhysChem            MAE     0.381321  0.438592   \n",
       "38  RF_SHORT  RDKit_PhysChem       MedianAE     0.315854  0.358384   \n",
       "39  RF_SHORT  RDKit_PhysChem           RMSE     0.484956  0.567921   \n",
       "40     RIDGE  RDKit_PhysChem  Error_below_1     0.979040  0.966202   \n",
       "41     RIDGE  RDKit_PhysChem     KendallTau     0.839963  0.817719   \n",
       "42     RIDGE  RDKit_PhysChem            MAE     0.241609  0.272447   \n",
       "43     RIDGE  RDKit_PhysChem       MedianAE     0.174396  0.192251   \n",
       "44     RIDGE  RDKit_PhysChem           RMSE     0.343533  0.393548   \n",
       "45       XGB  RDKit_PhysChem  Error_below_1     1.000000  0.962815   \n",
       "46       XGB  RDKit_PhysChem     KendallTau     0.992004  0.809461   \n",
       "47       XGB  RDKit_PhysChem            MAE     0.011059  0.267193   \n",
       "48       XGB  RDKit_PhysChem       MedianAE     0.006939  0.170426   \n",
       "49       XGB  RDKit_PhysChem           RMSE     0.024749  0.413089   \n",
       "\n",
       "    Test_Mid_as_percentage_of_Train_Mid  Train_Full  Train_Mid_y  \\\n",
       "0                             99.061573    0.871217     0.908732   \n",
       "1                             98.425202    0.701368     0.713488   \n",
       "2                            103.720884    0.490646     0.435049   \n",
       "3                            104.732564    0.344562     0.320357   \n",
       "4                            103.139237    0.691654     0.594160   \n",
       "5                             94.293393    0.923603     0.941181   \n",
       "6                             83.876531    0.759282     0.760999   \n",
       "7                            234.483843    0.372868     0.337795   \n",
       "8                            215.482489    0.218992     0.211897   \n",
       "9                            242.111967    0.588070     0.500154   \n",
       "10                            98.168070    0.559833     0.823875   \n",
       "11                            96.004849    0.567194     0.651146   \n",
       "12                           104.312109    1.019439     0.596210   \n",
       "13                           103.628809    0.889150     0.495871   \n",
       "14                           104.758955    1.265685     0.755866   \n",
       "15                            99.597801    0.859035     0.917526   \n",
       "16                            99.222864    0.698165     0.724337   \n",
       "17                           102.201164    0.507079     0.414690   \n",
       "18                           102.319599    0.363253     0.299527   \n",
       "19                           102.027175    0.696022     0.572764   \n",
       "20                            95.098356    0.937468     0.949296   \n",
       "21                            84.641389    0.781348     0.780265   \n",
       "22                           276.434269    0.354158     0.313369   \n",
       "23                           273.933868    0.223092     0.206631   \n",
       "24                           276.491564    0.555011     0.463531   \n",
       "25                            97.016701    0.966868     0.969921   \n",
       "26                            86.980340    0.841044     0.828770   \n",
       "27                           340.359559    0.253207     0.252163   \n",
       "28                           267.462158    0.152732     0.150674   \n",
       "29                           410.368319    0.440347     0.423339   \n",
       "30                            95.772386    0.942195     0.957076   \n",
       "31                            86.067885    0.803322     0.803094   \n",
       "32                           264.858519    0.335414     0.296509   \n",
       "33                           271.774772    0.212966     0.200052   \n",
       "34                           261.938326    0.508676     0.435653   \n",
       "35                            96.928429    0.831992     0.927997   \n",
       "36                            94.730875    0.707424     0.736777   \n",
       "37                           115.019199    0.615117     0.438592   \n",
       "38                           113.465099    0.504600     0.358384   \n",
       "39                           117.107804    0.787191     0.567921   \n",
       "40                            98.688729    0.913794     0.966202   \n",
       "41                            97.351849    0.757202     0.817719   \n",
       "42                           112.763276    0.400319     0.272447   \n",
       "43                           110.238235    0.280600     0.192251   \n",
       "44                           114.558967    0.574952     0.393548   \n",
       "45                            96.281493    0.948275     0.962815   \n",
       "46                            81.598531    0.812294     0.809461   \n",
       "47                          2416.017888    0.309599     0.267193   \n",
       "48                          2456.210573    0.184497     0.170426   \n",
       "49                          1669.117048    0.534354     0.413089   \n",
       "\n",
       "    Train_Mid_as_percentage_of_Train_Full  \n",
       "0                              104.306031  \n",
       "1                              101.728187  \n",
       "2                               88.668620  \n",
       "3                               92.974919  \n",
       "4                               85.904214  \n",
       "5                              101.903185  \n",
       "6                              100.226172  \n",
       "7                               90.593756  \n",
       "8                               96.760133  \n",
       "9                               85.050095  \n",
       "10                             147.164547  \n",
       "11                             114.801186  \n",
       "12                              58.484111  \n",
       "13                              55.769067  \n",
       "14                              59.719932  \n",
       "15                             106.809010  \n",
       "16                             103.748647  \n",
       "17                              81.780319  \n",
       "18                              82.457070  \n",
       "19                              82.291080  \n",
       "20                             101.261671  \n",
       "21                              99.861274  \n",
       "22                              88.482798  \n",
       "23                              92.621195  \n",
       "24                              83.517441  \n",
       "25                             100.315776  \n",
       "26                              98.540611  \n",
       "27                              99.587668  \n",
       "28                              98.652837  \n",
       "29                              96.137663  \n",
       "30                             101.579386  \n",
       "31                              99.971657  \n",
       "32                              88.400748  \n",
       "33                              93.936098  \n",
       "34                              85.644440  \n",
       "35                             111.539240  \n",
       "36                             104.149226  \n",
       "37                              71.302339  \n",
       "38                              71.023283  \n",
       "39                              72.145236  \n",
       "40                             105.735251  \n",
       "41                             107.992199  \n",
       "42                              68.057348  \n",
       "43                              68.514206  \n",
       "44                              68.448821  \n",
       "45                             101.533270  \n",
       "46                              99.651251  \n",
       "47                              86.302928  \n",
       "48                              92.373104  \n",
       "49                              77.306246  "
      ]
     },
     "execution_count": 57,
     "metadata": {},
     "output_type": "execute_result"
    }
   ],
   "source": [
    "#discard all columns wiht _x or _y in the name, and then combine the two dfs\n",
    "df_overfitting = df_overfitting[df_overfitting.columns.drop(list(df_overfitting.filter(regex='_x')))]\n",
    "df_overfitting = df_overfitting[df_overfitting.columns.drop(list(df_overfitting.filter(regex='_y')))]\n",
    "df_train_set_diff = df_train_set_diff[df_train_set_diff.columns.drop(list(df_train_set_diff.filter(regex='_x')))]\n",
    "df_train_set_diff = df_train_set_diff[df_train_set_diff.columns.drop(list(df_train_set_diff.filter(regex='_y')))]\n",
    "df_overfitting = pd.merge(\n",
    "    df_overfitting,\n",
    "    df_train_set_diff,\n",
    "    on=['Model', 'Descriptor', 'Metric']\n",
    ")\n",
    "df_overfitting\n"
   ]
  },
  {
   "cell_type": "code",
   "execution_count": 61,
   "metadata": {},
   "outputs": [
    {
     "data": {
      "image/png": "[encoded data removed]",
      "text/plain": [
       "<Figure size 640x480 with 1 Axes>"
      ]
     },
     "metadata": {},
     "output_type": "display_data"
    }
   ],
   "source": [
    "#to the same with full range (rmse only)\n",
    "df_overfitting_full = df_overfitting_full[df_overfitting_full.columns.drop(list(df_overfitting_full.filter(regex='_x')))]\n",
    "df_overfitting_full = df_overfitting_full[df_overfitting_full.columns.drop(list(df_overfitting_full.filter(regex='_y')))]\n",
    "df_train_set_diff = df_train_set_diff[df_train_set_diff.columns.drop(list(df_train_set_diff.filter(regex='_x')))]\n",
    "df_train_set_diff = df_train_set_diff[df_train_set_diff.columns.drop(list(df_train_set_diff.filter(regex='_y')))]\n",
    "df_overfitting_full = pd.merge(\n",
    "    df_overfitting_full,\n",
    "    df_train_set_diff,\n",
    "    on=['Model', 'Descriptor', 'Metric']\n",
    ")\n",
    "df_overfitting_full\n",
    "#scatter of Train_Mid_as_percentage_of_Train_Full vs Test_Mid_as_percentage_of_Train_Mid\n",
    "import matplotlib.pyplot as plt\n",
    "import seaborn as sns\n",
    "sns.set_style('whitegrid')\n",
    "fig, ax = plt.subplots()\n",
    "sns.scatterplot(data=df_overfitting, x='Train_Mid_as_percentage_of_Train_Full', y='Test_Mid_as_percentage_of_Train_Mid', hue='Model', ax=ax)\n",
    "plt.show()"
   ]
  },
  {
   "cell_type": "code",
   "execution_count": 58,
   "metadata": {},
   "outputs": [
    {
     "data": {
      "image/png": "[encoded data removed]",
      "text/plain": [
       "<Figure size 1000x1000 with 1 Axes>"
      ]
     },
     "metadata": {},
     "output_type": "display_data"
    }
   ],
   "source": [
    "#and now scatter of Test_Mid_as_percentage_of_Train_Mid vs Train_Mid_as_percentage_of_Train_Full\n",
    "import matplotlib.pyplot as plt\n",
    "import seaborn as sns\n",
    "sns.set(style=\"whitegrid\")\n",
    "plt.figure(figsize=(10, 10))\n",
    "df_overfitting_rmse = df_overfitting[df_overfitting['Metric']=='RMSE']\n",
    "sns.scatterplot(x='Train_Mid_as_percentage_of_Train_Full', y='Test_Mid_as_percentage_of_Train_Mid', data=df_overfitting_rmse)\n",
    "plt.show()\n"
   ]
  },
  {
   "cell_type": "code",
   "execution_count": 59,
   "metadata": {},
   "outputs": [
    {
     "data": {
      "application/vnd.plotly.v1+json": {
       "config": {
        "plotlyServerURL": "https://plot.ly"
       },
       "data": [
        {
         "customdata": [
          [
           "RMSE"
          ]
         ],
         "hovertemplate": "Model=MLP<br>Descriptor=Counts<br>Train Mid as % of Train Full=%{x}<br>Test Mid as % of Train Mid=%{y}<br>Metric=%{customdata[0]}<extra></extra>",
         "legendgroup": "MLP, Counts",
         "marker": {
          "color": "#636efa",
          "symbol": "circle"
         },
         "mode": "markers",
         "name": "MLP, Counts",
         "orientation": "v",
         "showlegend": true,
         "type": "scatter",
         "x": [
          85.90421410316345
         ],
         "xaxis": "x",
         "y": [
          103.13923672290821
         ],
         "yaxis": "y"
        },
        {
         "customdata": [
          [
           "RMSE"
          ]
         ],
         "hovertemplate": "Model=MLP<br>Descriptor=RDKit_PhysChem<br>Train Mid as % of Train Full=%{x}<br>Test Mid as % of Train Mid=%{y}<br>Metric=%{customdata[0]}<extra></extra>",
         "legendgroup": "MLP, RDKit_PhysChem",
         "marker": {
          "color": "#636efa",
          "symbol": "diamond"
         },
         "mode": "markers",
         "name": "MLP, RDKit_PhysChem",
         "orientation": "v",
         "showlegend": true,
         "type": "scatter",
         "x": [
          96.13766294732194
         ],
         "xaxis": "x",
         "y": [
          410.3683192083786
         ],
         "yaxis": "y"
        },
        {
         "customdata": [
          [
           "RMSE"
          ]
         ],
         "hovertemplate": "Model=RF<br>Descriptor=Counts<br>Train Mid as % of Train Full=%{x}<br>Test Mid as % of Train Mid=%{y}<br>Metric=%{customdata[0]}<extra></extra>",
         "legendgroup": "RF, Counts",
         "marker": {
          "color": "#EF553B",
          "symbol": "circle"
         },
         "mode": "markers",
         "name": "RF, Counts",
         "orientation": "v",
         "showlegend": true,
         "type": "scatter",
         "x": [
          85.05009509369792
         ],
         "xaxis": "x",
         "y": [
          242.1119671679483
         ],
         "yaxis": "y"
        },
        {
         "customdata": [
          [
           "RMSE"
          ]
         ],
         "hovertemplate": "Model=RF<br>Descriptor=RDKit_PhysChem<br>Train Mid as % of Train Full=%{x}<br>Test Mid as % of Train Mid=%{y}<br>Metric=%{customdata[0]}<extra></extra>",
         "legendgroup": "RF, RDKit_PhysChem",
         "marker": {
          "color": "#EF553B",
          "symbol": "diamond"
         },
         "mode": "markers",
         "name": "RF, RDKit_PhysChem",
         "orientation": "v",
         "showlegend": true,
         "type": "scatter",
         "x": [
          85.64444002625089
         ],
         "xaxis": "x",
         "y": [
          261.93832637352557
         ],
         "yaxis": "y"
        },
        {
         "customdata": [
          [
           "RMSE"
          ]
         ],
         "hovertemplate": "Model=RF_SHORT<br>Descriptor=Counts<br>Train Mid as % of Train Full=%{x}<br>Test Mid as % of Train Mid=%{y}<br>Metric=%{customdata[0]}<extra></extra>",
         "legendgroup": "RF_SHORT, Counts",
         "marker": {
          "color": "#00cc96",
          "symbol": "circle"
         },
         "mode": "markers",
         "name": "RF_SHORT, Counts",
         "orientation": "v",
         "showlegend": true,
         "type": "scatter",
         "x": [
          59.719932460355054
         ],
         "xaxis": "x",
         "y": [
          104.7589545264647
         ],
         "yaxis": "y"
        },
        {
         "customdata": [
          [
           "RMSE"
          ]
         ],
         "hovertemplate": "Model=RF_SHORT<br>Descriptor=RDKit_PhysChem<br>Train Mid as % of Train Full=%{x}<br>Test Mid as % of Train Mid=%{y}<br>Metric=%{customdata[0]}<extra></extra>",
         "legendgroup": "RF_SHORT, RDKit_PhysChem",
         "marker": {
          "color": "#00cc96",
          "symbol": "diamond"
         },
         "mode": "markers",
         "name": "RF_SHORT, RDKit_PhysChem",
         "orientation": "v",
         "showlegend": true,
         "type": "scatter",
         "x": [
          72.14523566467844
         ],
         "xaxis": "x",
         "y": [
          117.1078042070085
         ],
         "yaxis": "y"
        },
        {
         "customdata": [
          [
           "RMSE"
          ]
         ],
         "hovertemplate": "Model=RIDGE<br>Descriptor=Counts<br>Train Mid as % of Train Full=%{x}<br>Test Mid as % of Train Mid=%{y}<br>Metric=%{customdata[0]}<extra></extra>",
         "legendgroup": "RIDGE, Counts",
         "marker": {
          "color": "#ab63fa",
          "symbol": "circle"
         },
         "mode": "markers",
         "name": "RIDGE, Counts",
         "orientation": "v",
         "showlegend": true,
         "type": "scatter",
         "x": [
          82.291079865688
         ],
         "xaxis": "x",
         "y": [
          102.02717502718595
         ],
         "yaxis": "y"
        },
        {
         "customdata": [
          [
           "RMSE"
          ]
         ],
         "hovertemplate": "Model=RIDGE<br>Descriptor=RDKit_PhysChem<br>Train Mid as % of Train Full=%{x}<br>Test Mid as % of Train Mid=%{y}<br>Metric=%{customdata[0]}<extra></extra>",
         "legendgroup": "RIDGE, RDKit_PhysChem",
         "marker": {
          "color": "#ab63fa",
          "symbol": "diamond"
         },
         "mode": "markers",
         "name": "RIDGE, RDKit_PhysChem",
         "orientation": "v",
         "showlegend": true,
         "type": "scatter",
         "x": [
          68.448820988078
         ],
         "xaxis": "x",
         "y": [
          114.55896661804996
         ],
         "yaxis": "y"
        },
        {
         "customdata": [
          [
           "RMSE"
          ]
         ],
         "hovertemplate": "Model=XGB<br>Descriptor=Counts<br>Train Mid as % of Train Full=%{x}<br>Test Mid as % of Train Mid=%{y}<br>Metric=%{customdata[0]}<extra></extra>",
         "legendgroup": "XGB, Counts",
         "marker": {
          "color": "#FFA15A",
          "symbol": "circle"
         },
         "mode": "markers",
         "name": "XGB, Counts",
         "orientation": "v",
         "showlegend": true,
         "type": "scatter",
         "x": [
          83.51744066372672
         ],
         "xaxis": "x",
         "y": [
          276.49156367090694
         ],
         "yaxis": "y"
        },
        {
         "customdata": [
          [
           "RMSE"
          ]
         ],
         "hovertemplate": "Model=XGB<br>Descriptor=RDKit_PhysChem<br>Train Mid as % of Train Full=%{x}<br>Test Mid as % of Train Mid=%{y}<br>Metric=%{customdata[0]}<extra></extra>",
         "legendgroup": "XGB, RDKit_PhysChem",
         "marker": {
          "color": "#FFA15A",
          "symbol": "diamond"
         },
         "mode": "markers",
         "name": "XGB, RDKit_PhysChem",
         "orientation": "v",
         "showlegend": true,
         "type": "scatter",
         "x": [
          77.30624562562659
         ],
         "xaxis": "x",
         "y": [
          1669.1170484957215
         ],
         "yaxis": "y"
        }
       ],
       "layout": {
        "height": 800,
        "legend": {
         "title": {
          "text": "Model, Descriptor"
         },
         "tracegroupgap": 0
        },
        "template": {
         "data": {
          "bar": [
           {
            "error_x": {
             "color": "#2a3f5f"
            },
            "error_y": {
             "color": "#2a3f5f"
            },
            "marker": {
             "line": {
              "color": "#E5ECF6",
              "width": 0.5
             },
             "pattern": {
              "fillmode": "overlay",
              "size": 10,
              "solidity": 0.2
             }
            },
            "type": "bar"
           }
          ],
          "barpolar": [
           {
            "marker": {
             "line": {
              "color": "#E5ECF6",
              "width": 0.5
             },
             "pattern": {
              "fillmode": "overlay",
              "size": 10,
              "solidity": 0.2
             }
            },
            "type": "barpolar"
           }
          ],
          "carpet": [
           {
            "aaxis": {
             "endlinecolor": "#2a3f5f",
             "gridcolor": "white",
             "linecolor": "white",
             "minorgridcolor": "white",
             "startlinecolor": "#2a3f5f"
            },
            "baxis": {
             "endlinecolor": "#2a3f5f",
             "gridcolor": "white",
             "linecolor": "white",
             "minorgridcolor": "white",
             "startlinecolor": "#2a3f5f"
            },
            "type": "carpet"
           }
          ],
          "choropleth": [
           {
            "colorbar": {
             "outlinewidth": 0,
             "ticks": ""
            },
            "type": "choropleth"
           }
          ],
          "contour": [
           {
            "colorbar": {
             "outlinewidth": 0,
             "ticks": ""
            },
            "colorscale": [
             [
              0,
              "#0d0887"
             ],
             [
              0.1111111111111111,
              "#46039f"
             ],
             [
              0.2222222222222222,
              "#7201a8"
             ],
             [
              0.3333333333333333,
              "#9c179e"
             ],
             [
              0.4444444444444444,
              "#bd3786"
             ],
             [
              0.5555555555555556,
              "#d8576b"
             ],
             [
              0.6666666666666666,
              "#ed7953"
             ],
             [
              0.7777777777777778,
              "#fb9f3a"
             ],
             [
              0.8888888888888888,
              "#fdca26"
             ],
             [
              1,
              "#f0f921"
             ]
            ],
            "type": "contour"
           }
          ],
          "contourcarpet": [
           {
            "colorbar": {
             "outlinewidth": 0,
             "ticks": ""
            },
            "type": "contourcarpet"
           }
          ],
          "heatmap": [
           {
            "colorbar": {
             "outlinewidth": 0,
             "ticks": ""
            },
            "colorscale": [
             [
              0,
              "#0d0887"
             ],
             [
              0.1111111111111111,
              "#46039f"
             ],
             [
              0.2222222222222222,
              "#7201a8"
             ],
             [
              0.3333333333333333,
              "#9c179e"
             ],
             [
              0.4444444444444444,
              "#bd3786"
             ],
             [
              0.5555555555555556,
              "#d8576b"
             ],
             [
              0.6666666666666666,
              "#ed7953"
             ],
             [
              0.7777777777777778,
              "#fb9f3a"
             ],
             [
              0.8888888888888888,
              "#fdca26"
             ],
             [
              1,
              "#f0f921"
             ]
            ],
            "type": "heatmap"
           }
          ],
          "heatmapgl": [
           {
            "colorbar": {
             "outlinewidth": 0,
             "ticks": ""
            },
            "colorscale": [
             [
              0,
              "#0d0887"
             ],
             [
              0.1111111111111111,
              "#46039f"
             ],
             [
              0.2222222222222222,
              "#7201a8"
             ],
             [
              0.3333333333333333,
              "#9c179e"
             ],
             [
              0.4444444444444444,
              "#bd3786"
             ],
             [
              0.5555555555555556,
              "#d8576b"
             ],
             [
              0.6666666666666666,
              "#ed7953"
             ],
             [
              0.7777777777777778,
              "#fb9f3a"
             ],
             [
              0.8888888888888888,
              "#fdca26"
             ],
             [
              1,
              "#f0f921"
             ]
            ],
            "type": "heatmapgl"
           }
          ],
          "histogram": [
           {
            "marker": {
             "pattern": {
              "fillmode": "overlay",
              "size": 10,
              "solidity": 0.2
             }
            },
            "type": "histogram"
           }
          ],
          "histogram2d": [
           {
            "colorbar": {
             "outlinewidth": 0,
             "ticks": ""
            },
            "colorscale": [
             [
              0,
              "#0d0887"
             ],
             [
              0.1111111111111111,
              "#46039f"
             ],
             [
              0.2222222222222222,
              "#7201a8"
             ],
             [
              0.3333333333333333,
              "#9c179e"
             ],
             [
              0.4444444444444444,
              "#bd3786"
             ],
             [
              0.5555555555555556,
              "#d8576b"
             ],
             [
              0.6666666666666666,
              "#ed7953"
             ],
             [
              0.7777777777777778,
              "#fb9f3a"
             ],
             [
              0.8888888888888888,
              "#fdca26"
             ],
             [
              1,
              "#f0f921"
             ]
            ],
            "type": "histogram2d"
           }
          ],
          "histogram2dcontour": [
           {
            "colorbar": {
             "outlinewidth": 0,
             "ticks": ""
            },
            "colorscale": [
             [
              0,
              "#0d0887"
             ],
             [
              0.1111111111111111,
              "#46039f"
             ],
             [
              0.2222222222222222,
              "#7201a8"
             ],
             [
              0.3333333333333333,
              "#9c179e"
             ],
             [
              0.4444444444444444,
              "#bd3786"
             ],
             [
              0.5555555555555556,
              "#d8576b"
             ],
             [
              0.6666666666666666,
              "#ed7953"
             ],
             [
              0.7777777777777778,
              "#fb9f3a"
             ],
             [
              0.8888888888888888,
              "#fdca26"
             ],
             [
              1,
              "#f0f921"
             ]
            ],
            "type": "histogram2dcontour"
           }
          ],
          "mesh3d": [
           {
            "colorbar": {
             "outlinewidth": 0,
             "ticks": ""
            },
            "type": "mesh3d"
           }
          ],
          "parcoords": [
           {
            "line": {
             "colorbar": {
              "outlinewidth": 0,
              "ticks": ""
             }
            },
            "type": "parcoords"
           }
          ],
          "pie": [
           {
            "automargin": true,
            "type": "pie"
           }
          ],
          "scatter": [
           {
            "fillpattern": {
             "fillmode": "overlay",
             "size": 10,
             "solidity": 0.2
            },
            "type": "scatter"
           }
          ],
          "scatter3d": [
           {
            "line": {
             "colorbar": {
              "outlinewidth": 0,
              "ticks": ""
             }
            },
            "marker": {
             "colorbar": {
              "outlinewidth": 0,
              "ticks": ""
             }
            },
            "type": "scatter3d"
           }
          ],
          "scattercarpet": [
           {
            "marker": {
             "colorbar": {
              "outlinewidth": 0,
              "ticks": ""
             }
            },
            "type": "scattercarpet"
           }
          ],
          "scattergeo": [
           {
            "marker": {
             "colorbar": {
              "outlinewidth": 0,
              "ticks": ""
             }
            },
            "type": "scattergeo"
           }
          ],
          "scattergl": [
           {
            "marker": {
             "colorbar": {
              "outlinewidth": 0,
              "ticks": ""
             }
            },
            "type": "scattergl"
           }
          ],
          "scattermapbox": [
           {
            "marker": {
             "colorbar": {
              "outlinewidth": 0,
              "ticks": ""
             }
            },
            "type": "scattermapbox"
           }
          ],
          "scatterpolar": [
           {
            "marker": {
             "colorbar": {
              "outlinewidth": 0,
              "ticks": ""
             }
            },
            "type": "scatterpolar"
           }
          ],
          "scatterpolargl": [
           {
            "marker": {
             "colorbar": {
              "outlinewidth": 0,
              "ticks": ""
             }
            },
            "type": "scatterpolargl"
           }
          ],
          "scatterternary": [
           {
            "marker": {
             "colorbar": {
              "outlinewidth": 0,
              "ticks": ""
             }
            },
            "type": "scatterternary"
           }
          ],
          "surface": [
           {
            "colorbar": {
             "outlinewidth": 0,
             "ticks": ""
            },
            "colorscale": [
             [
              0,
              "#0d0887"
             ],
             [
              0.1111111111111111,
              "#46039f"
             ],
             [
              0.2222222222222222,
              "#7201a8"
             ],
             [
              0.3333333333333333,
              "#9c179e"
             ],
             [
              0.4444444444444444,
              "#bd3786"
             ],
             [
              0.5555555555555556,
              "#d8576b"
             ],
             [
              0.6666666666666666,
              "#ed7953"
             ],
             [
              0.7777777777777778,
              "#fb9f3a"
             ],
             [
              0.8888888888888888,
              "#fdca26"
             ],
             [
              1,
              "#f0f921"
             ]
            ],
            "type": "surface"
           }
          ],
          "table": [
           {
            "cells": {
             "fill": {
              "color": "#EBF0F8"
             },
             "line": {
              "color": "white"
             }
            },
            "header": {
             "fill": {
              "color": "#C8D4E3"
             },
             "line": {
              "color": "white"
             }
            },
            "type": "table"
           }
          ]
         },
         "layout": {
          "annotationdefaults": {
           "arrowcolor": "#2a3f5f",
           "arrowhead": 0,
           "arrowwidth": 1
          },
          "autotypenumbers": "strict",
          "coloraxis": {
           "colorbar": {
            "outlinewidth": 0,
            "ticks": ""
           }
          },
          "colorscale": {
           "diverging": [
            [
             0,
             "#8e0152"
            ],
            [
             0.1,
             "#c51b7d"
            ],
            [
             0.2,
             "#de77ae"
            ],
            [
             0.3,
             "#f1b6da"
            ],
            [
             0.4,
             "#fde0ef"
            ],
            [
             0.5,
             "#f7f7f7"
            ],
            [
             0.6,
             "#e6f5d0"
            ],
            [
             0.7,
             "#b8e186"
            ],
            [
             0.8,
             "#7fbc41"
            ],
            [
             0.9,
             "#4d9221"
            ],
            [
             1,
             "#276419"
            ]
           ],
           "sequential": [
            [
             0,
             "#0d0887"
            ],
            [
             0.1111111111111111,
             "#46039f"
            ],
            [
             0.2222222222222222,
             "#7201a8"
            ],
            [
             0.3333333333333333,
             "#9c179e"
            ],
            [
             0.4444444444444444,
             "#bd3786"
            ],
            [
             0.5555555555555556,
             "#d8576b"
            ],
            [
             0.6666666666666666,
             "#ed7953"
            ],
            [
             0.7777777777777778,
             "#fb9f3a"
            ],
            [
             0.8888888888888888,
             "#fdca26"
            ],
            [
             1,
             "#f0f921"
            ]
           ],
           "sequentialminus": [
            [
             0,
             "#0d0887"
            ],
            [
             0.1111111111111111,
             "#46039f"
            ],
            [
             0.2222222222222222,
             "#7201a8"
            ],
            [
             0.3333333333333333,
             "#9c179e"
            ],
            [
             0.4444444444444444,
             "#bd3786"
            ],
            [
             0.5555555555555556,
             "#d8576b"
            ],
            [
             0.6666666666666666,
             "#ed7953"
            ],
            [
             0.7777777777777778,
             "#fb9f3a"
            ],
            [
             0.8888888888888888,
             "#fdca26"
            ],
            [
             1,
             "#f0f921"
            ]
           ]
          },
          "colorway": [
           "#636efa",
           "#EF553B",
           "#00cc96",
           "#ab63fa",
           "#FFA15A",
           "#19d3f3",
           "#FF6692",
           "#B6E880",
           "#FF97FF",
           "#FECB52"
          ],
          "font": {
           "color": "#2a3f5f"
          },
          "geo": {
           "bgcolor": "white",
           "lakecolor": "white",
           "landcolor": "#E5ECF6",
           "showlakes": true,
           "showland": true,
           "subunitcolor": "white"
          },
          "hoverlabel": {
           "align": "left"
          },
          "hovermode": "closest",
          "mapbox": {
           "style": "light"
          },
          "paper_bgcolor": "white",
          "plot_bgcolor": "#E5ECF6",
          "polar": {
           "angularaxis": {
            "gridcolor": "white",
            "linecolor": "white",
            "ticks": ""
           },
           "bgcolor": "#E5ECF6",
           "radialaxis": {
            "gridcolor": "white",
            "linecolor": "white",
            "ticks": ""
           }
          },
          "scene": {
           "xaxis": {
            "backgroundcolor": "#E5ECF6",
            "gridcolor": "white",
            "gridwidth": 2,
            "linecolor": "white",
            "showbackground": true,
            "ticks": "",
            "zerolinecolor": "white"
           },
           "yaxis": {
            "backgroundcolor": "#E5ECF6",
            "gridcolor": "white",
            "gridwidth": 2,
            "linecolor": "white",
            "showbackground": true,
            "ticks": "",
            "zerolinecolor": "white"
           },
           "zaxis": {
            "backgroundcolor": "#E5ECF6",
            "gridcolor": "white",
            "gridwidth": 2,
            "linecolor": "white",
            "showbackground": true,
            "ticks": "",
            "zerolinecolor": "white"
           }
          },
          "shapedefaults": {
           "line": {
            "color": "#2a3f5f"
           }
          },
          "ternary": {
           "aaxis": {
            "gridcolor": "white",
            "linecolor": "white",
            "ticks": ""
           },
           "baxis": {
            "gridcolor": "white",
            "linecolor": "white",
            "ticks": ""
           },
           "bgcolor": "#E5ECF6",
           "caxis": {
            "gridcolor": "white",
            "linecolor": "white",
            "ticks": ""
           }
          },
          "title": {
           "x": 0.05
          },
          "xaxis": {
           "automargin": true,
           "gridcolor": "white",
           "linecolor": "white",
           "ticks": "",
           "title": {
            "standoff": 15
           },
           "zerolinecolor": "white",
           "zerolinewidth": 2
          },
          "yaxis": {
           "automargin": true,
           "gridcolor": "white",
           "linecolor": "white",
           "ticks": "",
           "title": {
            "standoff": 15
           },
           "zerolinecolor": "white",
           "zerolinewidth": 2
          }
         }
        },
        "title": {
         "text": "Relationship Between Mid-Range and Full-Range Performance"
        },
        "width": 1200,
        "xaxis": {
         "anchor": "y",
         "domain": [
          0,
          1
         ],
         "title": {
          "text": "Train Mid as % of Train Full"
         }
        },
        "yaxis": {
         "anchor": "x",
         "domain": [
          0,
          1
         ],
         "title": {
          "text": "Test Mid as % of Train Mid"
         }
        }
       }
      }
     },
     "metadata": {},
     "output_type": "display_data"
    },
    {
     "data": {
      "application/vnd.plotly.v1+json": {
       "config": {
        "plotlyServerURL": "https://plot.ly"
       },
       "data": [
        {
         "customdata": [
          [
           "RMSE"
          ]
         ],
         "hovertemplate": "Model=MLP<br>Descriptor=Counts<br>Train Mid as % of Train Full=%{x}<br>Test Mid as % of Train Mid=%{y}<br>Metric=%{customdata[0]}<extra></extra>",
         "legendgroup": "MLP, Counts",
         "marker": {
          "color": "#636efa",
          "symbol": "circle"
         },
         "mode": "markers",
         "name": "MLP, Counts",
         "orientation": "v",
         "showlegend": true,
         "type": "scatter",
         "x": [
          85.90421410316345
         ],
         "xaxis": "x",
         "y": [
          103.13923672290821
         ],
         "yaxis": "y"
        },
        {
         "customdata": [
          [
           "RMSE"
          ]
         ],
         "hovertemplate": "Model=MLP<br>Descriptor=RDKit_PhysChem<br>Train Mid as % of Train Full=%{x}<br>Test Mid as % of Train Mid=%{y}<br>Metric=%{customdata[0]}<extra></extra>",
         "legendgroup": "MLP, RDKit_PhysChem",
         "marker": {
          "color": "#636efa",
          "symbol": "diamond"
         },
         "mode": "markers",
         "name": "MLP, RDKit_PhysChem",
         "orientation": "v",
         "showlegend": true,
         "type": "scatter",
         "x": [
          96.13766294732194
         ],
         "xaxis": "x",
         "y": [
          410.3683192083786
         ],
         "yaxis": "y"
        },
        {
         "customdata": [
          [
           "RMSE"
          ]
         ],
         "hovertemplate": "Model=RF<br>Descriptor=Counts<br>Train Mid as % of Train Full=%{x}<br>Test Mid as % of Train Mid=%{y}<br>Metric=%{customdata[0]}<extra></extra>",
         "legendgroup": "RF, Counts",
         "marker": {
          "color": "#EF553B",
          "symbol": "circle"
         },
         "mode": "markers",
         "name": "RF, Counts",
         "orientation": "v",
         "showlegend": true,
         "type": "scatter",
         "x": [
          85.05009509369792
         ],
         "xaxis": "x",
         "y": [
          242.1119671679483
         ],
         "yaxis": "y"
        },
        {
         "customdata": [
          [
           "RMSE"
          ]
         ],
         "hovertemplate": "Model=RF<br>Descriptor=RDKit_PhysChem<br>Train Mid as % of Train Full=%{x}<br>Test Mid as % of Train Mid=%{y}<br>Metric=%{customdata[0]}<extra></extra>",
         "legendgroup": "RF, RDKit_PhysChem",
         "marker": {
          "color": "#EF553B",
          "symbol": "diamond"
         },
         "mode": "markers",
         "name": "RF, RDKit_PhysChem",
         "orientation": "v",
         "showlegend": true,
         "type": "scatter",
         "x": [
          85.64444002625089
         ],
         "xaxis": "x",
         "y": [
          261.93832637352557
         ],
         "yaxis": "y"
        },
        {
         "customdata": [
          [
           "RMSE"
          ]
         ],
         "hovertemplate": "Model=RF_SHORT<br>Descriptor=Counts<br>Train Mid as % of Train Full=%{x}<br>Test Mid as % of Train Mid=%{y}<br>Metric=%{customdata[0]}<extra></extra>",
         "legendgroup": "RF_SHORT, Counts",
         "marker": {
          "color": "#00cc96",
          "symbol": "circle"
         },
         "mode": "markers",
         "name": "RF_SHORT, Counts",
         "orientation": "v",
         "showlegend": true,
         "type": "scatter",
         "x": [
          59.719932460355054
         ],
         "xaxis": "x",
         "y": [
          104.7589545264647
         ],
         "yaxis": "y"
        },
        {
         "customdata": [
          [
           "RMSE"
          ]
         ],
         "hovertemplate": "Model=RF_SHORT<br>Descriptor=RDKit_PhysChem<br>Train Mid as % of Train Full=%{x}<br>Test Mid as % of Train Mid=%{y}<br>Metric=%{customdata[0]}<extra></extra>",
         "legendgroup": "RF_SHORT, RDKit_PhysChem",
         "marker": {
          "color": "#00cc96",
          "symbol": "diamond"
         },
         "mode": "markers",
         "name": "RF_SHORT, RDKit_PhysChem",
         "orientation": "v",
         "showlegend": true,
         "type": "scatter",
         "x": [
          72.14523566467844
         ],
         "xaxis": "x",
         "y": [
          117.1078042070085
         ],
         "yaxis": "y"
        },
        {
         "customdata": [
          [
           "RMSE"
          ]
         ],
         "hovertemplate": "Model=RIDGE<br>Descriptor=Counts<br>Train Mid as % of Train Full=%{x}<br>Test Mid as % of Train Mid=%{y}<br>Metric=%{customdata[0]}<extra></extra>",
         "legendgroup": "RIDGE, Counts",
         "marker": {
          "color": "#ab63fa",
          "symbol": "circle"
         },
         "mode": "markers",
         "name": "RIDGE, Counts",
         "orientation": "v",
         "showlegend": true,
         "type": "scatter",
         "x": [
          82.291079865688
         ],
         "xaxis": "x",
         "y": [
          102.02717502718595
         ],
         "yaxis": "y"
        },
        {
         "customdata": [
          [
           "RMSE"
          ]
         ],
         "hovertemplate": "Model=RIDGE<br>Descriptor=RDKit_PhysChem<br>Train Mid as % of Train Full=%{x}<br>Test Mid as % of Train Mid=%{y}<br>Metric=%{customdata[0]}<extra></extra>",
         "legendgroup": "RIDGE, RDKit_PhysChem",
         "marker": {
          "color": "#ab63fa",
          "symbol": "diamond"
         },
         "mode": "markers",
         "name": "RIDGE, RDKit_PhysChem",
         "orientation": "v",
         "showlegend": true,
         "type": "scatter",
         "x": [
          68.448820988078
         ],
         "xaxis": "x",
         "y": [
          114.55896661804996
         ],
         "yaxis": "y"
        },
        {
         "customdata": [
          [
           "RMSE"
          ]
         ],
         "hovertemplate": "Model=XGB<br>Descriptor=Counts<br>Train Mid as % of Train Full=%{x}<br>Test Mid as % of Train Mid=%{y}<br>Metric=%{customdata[0]}<extra></extra>",
         "legendgroup": "XGB, Counts",
         "marker": {
          "color": "#FFA15A",
          "symbol": "circle"
         },
         "mode": "markers",
         "name": "XGB, Counts",
         "orientation": "v",
         "showlegend": true,
         "type": "scatter",
         "x": [
          83.51744066372672
         ],
         "xaxis": "x",
         "y": [
          276.49156367090694
         ],
         "yaxis": "y"
        }
       ],
       "layout": {
        "height": 800,
        "legend": {
         "title": {
          "text": "Model, Descriptor"
         },
         "tracegroupgap": 0
        },
        "template": {
         "data": {
          "bar": [
           {
            "error_x": {
             "color": "#2a3f5f"
            },
            "error_y": {
             "color": "#2a3f5f"
            },
            "marker": {
             "line": {
              "color": "#E5ECF6",
              "width": 0.5
             },
             "pattern": {
              "fillmode": "overlay",
              "size": 10,
              "solidity": 0.2
             }
            },
            "type": "bar"
           }
          ],
          "barpolar": [
           {
            "marker": {
             "line": {
              "color": "#E5ECF6",
              "width": 0.5
             },
             "pattern": {
              "fillmode": "overlay",
              "size": 10,
              "solidity": 0.2
             }
            },
            "type": "barpolar"
           }
          ],
          "carpet": [
           {
            "aaxis": {
             "endlinecolor": "#2a3f5f",
             "gridcolor": "white",
             "linecolor": "white",
             "minorgridcolor": "white",
             "startlinecolor": "#2a3f5f"
            },
            "baxis": {
             "endlinecolor": "#2a3f5f",
             "gridcolor": "white",
             "linecolor": "white",
             "minorgridcolor": "white",
             "startlinecolor": "#2a3f5f"
            },
            "type": "carpet"
           }
          ],
          "choropleth": [
           {
            "colorbar": {
             "outlinewidth": 0,
             "ticks": ""
            },
            "type": "choropleth"
           }
          ],
          "contour": [
           {
            "colorbar": {
             "outlinewidth": 0,
             "ticks": ""
            },
            "colorscale": [
             [
              0,
              "#0d0887"
             ],
             [
              0.1111111111111111,
              "#46039f"
             ],
             [
              0.2222222222222222,
              "#7201a8"
             ],
             [
              0.3333333333333333,
              "#9c179e"
             ],
             [
              0.4444444444444444,
              "#bd3786"
             ],
             [
              0.5555555555555556,
              "#d8576b"
             ],
             [
              0.6666666666666666,
              "#ed7953"
             ],
             [
              0.7777777777777778,
              "#fb9f3a"
             ],
             [
              0.8888888888888888,
              "#fdca26"
             ],
             [
              1,
              "#f0f921"
             ]
            ],
            "type": "contour"
           }
          ],
          "contourcarpet": [
           {
            "colorbar": {
             "outlinewidth": 0,
             "ticks": ""
            },
            "type": "contourcarpet"
           }
          ],
          "heatmap": [
           {
            "colorbar": {
             "outlinewidth": 0,
             "ticks": ""
            },
            "colorscale": [
             [
              0,
              "#0d0887"
             ],
             [
              0.1111111111111111,
              "#46039f"
             ],
             [
              0.2222222222222222,
              "#7201a8"
             ],
             [
              0.3333333333333333,
              "#9c179e"
             ],
             [
              0.4444444444444444,
              "#bd3786"
             ],
             [
              0.5555555555555556,
              "#d8576b"
             ],
             [
              0.6666666666666666,
              "#ed7953"
             ],
             [
              0.7777777777777778,
              "#fb9f3a"
             ],
             [
              0.8888888888888888,
              "#fdca26"
             ],
             [
              1,
              "#f0f921"
             ]
            ],
            "type": "heatmap"
           }
          ],
          "heatmapgl": [
           {
            "colorbar": {
             "outlinewidth": 0,
             "ticks": ""
            },
            "colorscale": [
             [
              0,
              "#0d0887"
             ],
             [
              0.1111111111111111,
              "#46039f"
             ],
             [
              0.2222222222222222,
              "#7201a8"
             ],
             [
              0.3333333333333333,
              "#9c179e"
             ],
             [
              0.4444444444444444,
              "#bd3786"
             ],
             [
              0.5555555555555556,
              "#d8576b"
             ],
             [
              0.6666666666666666,
              "#ed7953"
             ],
             [
              0.7777777777777778,
              "#fb9f3a"
             ],
             [
              0.8888888888888888,
              "#fdca26"
             ],
             [
              1,
              "#f0f921"
             ]
            ],
            "type": "heatmapgl"
           }
          ],
          "histogram": [
           {
            "marker": {
             "pattern": {
              "fillmode": "overlay",
              "size": 10,
              "solidity": 0.2
             }
            },
            "type": "histogram"
           }
          ],
          "histogram2d": [
           {
            "colorbar": {
             "outlinewidth": 0,
             "ticks": ""
            },
            "colorscale": [
             [
              0,
              "#0d0887"
             ],
             [
              0.1111111111111111,
              "#46039f"
             ],
             [
              0.2222222222222222,
              "#7201a8"
             ],
             [
              0.3333333333333333,
              "#9c179e"
             ],
             [
              0.4444444444444444,
              "#bd3786"
             ],
             [
              0.5555555555555556,
              "#d8576b"
             ],
             [
              0.6666666666666666,
              "#ed7953"
             ],
             [
              0.7777777777777778,
              "#fb9f3a"
             ],
             [
              0.8888888888888888,
              "#fdca26"
             ],
             [
              1,
              "#f0f921"
             ]
            ],
            "type": "histogram2d"
           }
          ],
          "histogram2dcontour": [
           {
            "colorbar": {
             "outlinewidth": 0,
             "ticks": ""
            },
            "colorscale": [
             [
              0,
              "#0d0887"
             ],
             [
              0.1111111111111111,
              "#46039f"
             ],
             [
              0.2222222222222222,
              "#7201a8"
             ],
             [
              0.3333333333333333,
              "#9c179e"
             ],
             [
              0.4444444444444444,
              "#bd3786"
             ],
             [
              0.5555555555555556,
              "#d8576b"
             ],
             [
              0.6666666666666666,
              "#ed7953"
             ],
             [
              0.7777777777777778,
              "#fb9f3a"
             ],
             [
              0.8888888888888888,
              "#fdca26"
             ],
             [
              1,
              "#f0f921"
             ]
            ],
            "type": "histogram2dcontour"
           }
          ],
          "mesh3d": [
           {
            "colorbar": {
             "outlinewidth": 0,
             "ticks": ""
            },
            "type": "mesh3d"
           }
          ],
          "parcoords": [
           {
            "line": {
             "colorbar": {
              "outlinewidth": 0,
              "ticks": ""
             }
            },
            "type": "parcoords"
           }
          ],
          "pie": [
           {
            "automargin": true,
            "type": "pie"
           }
          ],
          "scatter": [
           {
            "fillpattern": {
             "fillmode": "overlay",
             "size": 10,
             "solidity": 0.2
            },
            "type": "scatter"
           }
          ],
          "scatter3d": [
           {
            "line": {
             "colorbar": {
              "outlinewidth": 0,
              "ticks": ""
             }
            },
            "marker": {
             "colorbar": {
              "outlinewidth": 0,
              "ticks": ""
             }
            },
            "type": "scatter3d"
           }
          ],
          "scattercarpet": [
           {
            "marker": {
             "colorbar": {
              "outlinewidth": 0,
              "ticks": ""
             }
            },
            "type": "scattercarpet"
           }
          ],
          "scattergeo": [
           {
            "marker": {
             "colorbar": {
              "outlinewidth": 0,
              "ticks": ""
             }
            },
            "type": "scattergeo"
           }
          ],
          "scattergl": [
           {
            "marker": {
             "colorbar": {
              "outlinewidth": 0,
              "ticks": ""
             }
            },
            "type": "scattergl"
           }
          ],
          "scattermapbox": [
           {
            "marker": {
             "colorbar": {
              "outlinewidth": 0,
              "ticks": ""
             }
            },
            "type": "scattermapbox"
           }
          ],
          "scatterpolar": [
           {
            "marker": {
             "colorbar": {
              "outlinewidth": 0,
              "ticks": ""
             }
            },
            "type": "scatterpolar"
           }
          ],
          "scatterpolargl": [
           {
            "marker": {
             "colorbar": {
              "outlinewidth": 0,
              "ticks": ""
             }
            },
            "type": "scatterpolargl"
           }
          ],
          "scatterternary": [
           {
            "marker": {
             "colorbar": {
              "outlinewidth": 0,
              "ticks": ""
             }
            },
            "type": "scatterternary"
           }
          ],
          "surface": [
           {
            "colorbar": {
             "outlinewidth": 0,
             "ticks": ""
            },
            "colorscale": [
             [
              0,
              "#0d0887"
             ],
             [
              0.1111111111111111,
              "#46039f"
             ],
             [
              0.2222222222222222,
              "#7201a8"
             ],
             [
              0.3333333333333333,
              "#9c179e"
             ],
             [
              0.4444444444444444,
              "#bd3786"
             ],
             [
              0.5555555555555556,
              "#d8576b"
             ],
             [
              0.6666666666666666,
              "#ed7953"
             ],
             [
              0.7777777777777778,
              "#fb9f3a"
             ],
             [
              0.8888888888888888,
              "#fdca26"
             ],
             [
              1,
              "#f0f921"
             ]
            ],
            "type": "surface"
           }
          ],
          "table": [
           {
            "cells": {
             "fill": {
              "color": "#EBF0F8"
             },
             "line": {
              "color": "white"
             }
            },
            "header": {
             "fill": {
              "color": "#C8D4E3"
             },
             "line": {
              "color": "white"
             }
            },
            "type": "table"
           }
          ]
         },
         "layout": {
          "annotationdefaults": {
           "arrowcolor": "#2a3f5f",
           "arrowhead": 0,
           "arrowwidth": 1
          },
          "autotypenumbers": "strict",
          "coloraxis": {
           "colorbar": {
            "outlinewidth": 0,
            "ticks": ""
           }
          },
          "colorscale": {
           "diverging": [
            [
             0,
             "#8e0152"
            ],
            [
             0.1,
             "#c51b7d"
            ],
            [
             0.2,
             "#de77ae"
            ],
            [
             0.3,
             "#f1b6da"
            ],
            [
             0.4,
             "#fde0ef"
            ],
            [
             0.5,
             "#f7f7f7"
            ],
            [
             0.6,
             "#e6f5d0"
            ],
            [
             0.7,
             "#b8e186"
            ],
            [
             0.8,
             "#7fbc41"
            ],
            [
             0.9,
             "#4d9221"
            ],
            [
             1,
             "#276419"
            ]
           ],
           "sequential": [
            [
             0,
             "#0d0887"
            ],
            [
             0.1111111111111111,
             "#46039f"
            ],
            [
             0.2222222222222222,
             "#7201a8"
            ],
            [
             0.3333333333333333,
             "#9c179e"
            ],
            [
             0.4444444444444444,
             "#bd3786"
            ],
            [
             0.5555555555555556,
             "#d8576b"
            ],
            [
             0.6666666666666666,
             "#ed7953"
            ],
            [
             0.7777777777777778,
             "#fb9f3a"
            ],
            [
             0.8888888888888888,
             "#fdca26"
            ],
            [
             1,
             "#f0f921"
            ]
           ],
           "sequentialminus": [
            [
             0,
             "#0d0887"
            ],
            [
             0.1111111111111111,
             "#46039f"
            ],
            [
             0.2222222222222222,
             "#7201a8"
            ],
            [
             0.3333333333333333,
             "#9c179e"
            ],
            [
             0.4444444444444444,
             "#bd3786"
            ],
            [
             0.5555555555555556,
             "#d8576b"
            ],
            [
             0.6666666666666666,
             "#ed7953"
            ],
            [
             0.7777777777777778,
             "#fb9f3a"
            ],
            [
             0.8888888888888888,
             "#fdca26"
            ],
            [
             1,
             "#f0f921"
            ]
           ]
          },
          "colorway": [
           "#636efa",
           "#EF553B",
           "#00cc96",
           "#ab63fa",
           "#FFA15A",
           "#19d3f3",
           "#FF6692",
           "#B6E880",
           "#FF97FF",
           "#FECB52"
          ],
          "font": {
           "color": "#2a3f5f"
          },
          "geo": {
           "bgcolor": "white",
           "lakecolor": "white",
           "landcolor": "#E5ECF6",
           "showlakes": true,
           "showland": true,
           "subunitcolor": "white"
          },
          "hoverlabel": {
           "align": "left"
          },
          "hovermode": "closest",
          "mapbox": {
           "style": "light"
          },
          "paper_bgcolor": "white",
          "plot_bgcolor": "#E5ECF6",
          "polar": {
           "angularaxis": {
            "gridcolor": "white",
            "linecolor": "white",
            "ticks": ""
           },
           "bgcolor": "#E5ECF6",
           "radialaxis": {
            "gridcolor": "white",
            "linecolor": "white",
            "ticks": ""
           }
          },
          "scene": {
           "xaxis": {
            "backgroundcolor": "#E5ECF6",
            "gridcolor": "white",
            "gridwidth": 2,
            "linecolor": "white",
            "showbackground": true,
            "ticks": "",
            "zerolinecolor": "white"
           },
           "yaxis": {
            "backgroundcolor": "#E5ECF6",
            "gridcolor": "white",
            "gridwidth": 2,
            "linecolor": "white",
            "showbackground": true,
            "ticks": "",
            "zerolinecolor": "white"
           },
           "zaxis": {
            "backgroundcolor": "#E5ECF6",
            "gridcolor": "white",
            "gridwidth": 2,
            "linecolor": "white",
            "showbackground": true,
            "ticks": "",
            "zerolinecolor": "white"
           }
          },
          "shapedefaults": {
           "line": {
            "color": "#2a3f5f"
           }
          },
          "ternary": {
           "aaxis": {
            "gridcolor": "white",
            "linecolor": "white",
            "ticks": ""
           },
           "baxis": {
            "gridcolor": "white",
            "linecolor": "white",
            "ticks": ""
           },
           "bgcolor": "#E5ECF6",
           "caxis": {
            "gridcolor": "white",
            "linecolor": "white",
            "ticks": ""
           }
          },
          "title": {
           "x": 0.05
          },
          "xaxis": {
           "automargin": true,
           "gridcolor": "white",
           "linecolor": "white",
           "ticks": "",
           "title": {
            "standoff": 15
           },
           "zerolinecolor": "white",
           "zerolinewidth": 2
          },
          "yaxis": {
           "automargin": true,
           "gridcolor": "white",
           "linecolor": "white",
           "ticks": "",
           "title": {
            "standoff": 15
           },
           "zerolinecolor": "white",
           "zerolinewidth": 2
          }
         }
        },
        "title": {
         "text": "Relationship Between Mid-Range and Full-Range Performance"
        },
        "width": 1200,
        "xaxis": {
         "anchor": "y",
         "domain": [
          0,
          1
         ],
         "title": {
          "text": "Train Mid as % of Train Full"
         }
        },
        "yaxis": {
         "anchor": "x",
         "domain": [
          0,
          1
         ],
         "title": {
          "text": "Test Mid as % of Train Mid"
         }
        }
       }
      }
     },
     "metadata": {},
     "output_type": "display_data"
    }
   ],
   "source": [
    "import plotly.express as px\n",
    "\n",
    "fig = px.scatter(\n",
    "    df_overfitting_rmse,\n",
    "    x='Train_Mid_as_percentage_of_Train_Full',\n",
    "    y='Test_Mid_as_percentage_of_Train_Mid',\n",
    "    color='Model',\n",
    "    symbol='Descriptor',\n",
    "    hover_data=['Metric'],\n",
    "    labels={\n",
    "        'Train_Mid_as_percentage_of_Train_Full': 'Train Mid as % of Train Full',\n",
    "        'Test_Mid_as_percentage_of_Train_Mid': 'Test Mid as % of Train Mid'\n",
    "    },\n",
    "    title=\"Relationship Between Mid-Range and Full-Range Performance\"\n",
    ")\n",
    "fig.update_layout(\n",
    "    width=1200,\n",
    "    height=800\n",
    ")\n",
    "fig.show()\n",
    "\n",
    "#same, but leave out model XGB descriptor RDKit_PhysChem\n",
    "df_overfitting_rmse_no_xgb_physchem = df_overfitting_rmse[(df_overfitting_rmse['Model']!='XGB') | (df_overfitting_rmse['Descriptor']!='RDKit_PhysChem')]\n",
    "\n",
    "fig = px.scatter(\n",
    "    df_overfitting_rmse_no_xgb_physchem,\n",
    "    x='Train_Mid_as_percentage_of_Train_Full',\n",
    "    y='Test_Mid_as_percentage_of_Train_Mid',\n",
    "    color='Model',\n",
    "    symbol='Descriptor',\n",
    "    hover_data=['Metric'],\n",
    "    labels={\n",
    "        'Train_Mid_as_percentage_of_Train_Full': 'Train Mid as % of Train Full',\n",
    "        'Test_Mid_as_percentage_of_Train_Mid': 'Test Mid as % of Train Mid'\n",
    "    },\n",
    "    title=\"Relationship Between Mid-Range and Full-Range Performance\"\n",
    ")\n",
    "fig.update_layout(\n",
    "    width=1200,\n",
    "    height=800\n",
    ")\n",
    "fig.show()\n"
   ]
  },
  {
   "cell_type": "code",
   "execution_count": 43,
   "metadata": {},
   "outputs": [
    {
     "data": {
      "application/vnd.plotly.v1+json": {
       "config": {
        "plotlyServerURL": "https://plot.ly"
       },
       "data": [
        {
         "customdata": [
          [
           "RMSE"
          ]
         ],
         "hovertemplate": "Model=MLP<br>Descriptor=Counts<br>Performance (Clean Data as % of Noisy Data)=%{x}<br>Test Performance (% of Train Performance)=%{y}<br>Metric=%{customdata[0]}<extra></extra>",
         "legendgroup": "MLP, Counts",
         "marker": {
          "color": "#636efa",
          "line": {
           "color": "DarkSlateGrey",
           "width": 2
          },
          "size": 12,
          "symbol": "circle"
         },
         "mode": "markers",
         "name": "MLP, Counts",
         "orientation": "v",
         "showlegend": true,
         "type": "scatter",
         "x": [
          85.90421410316345
         ],
         "xaxis": "x",
         "y": [
          103.13923672290821
         ],
         "yaxis": "y"
        },
        {
         "customdata": [
          [
           "RMSE"
          ]
         ],
         "hovertemplate": "Model=MLP<br>Descriptor=RDKit_PhysChem<br>Performance (Clean Data as % of Noisy Data)=%{x}<br>Test Performance (% of Train Performance)=%{y}<br>Metric=%{customdata[0]}<extra></extra>",
         "legendgroup": "MLP, RDKit_PhysChem",
         "marker": {
          "color": "#636efa",
          "line": {
           "color": "DarkSlateGrey",
           "width": 2
          },
          "size": 12,
          "symbol": "diamond"
         },
         "mode": "markers",
         "name": "MLP, RDKit_PhysChem",
         "orientation": "v",
         "showlegend": true,
         "type": "scatter",
         "x": [
          96.13766294732194
         ],
         "xaxis": "x",
         "y": [
          410.3683192083786
         ],
         "yaxis": "y"
        },
        {
         "customdata": [
          [
           "RMSE"
          ]
         ],
         "hovertemplate": "Model=RF<br>Descriptor=Counts<br>Performance (Clean Data as % of Noisy Data)=%{x}<br>Test Performance (% of Train Performance)=%{y}<br>Metric=%{customdata[0]}<extra></extra>",
         "legendgroup": "RF, Counts",
         "marker": {
          "color": "#EF553B",
          "line": {
           "color": "DarkSlateGrey",
           "width": 2
          },
          "size": 12,
          "symbol": "circle"
         },
         "mode": "markers",
         "name": "RF, Counts",
         "orientation": "v",
         "showlegend": true,
         "type": "scatter",
         "x": [
          85.05009509369792
         ],
         "xaxis": "x",
         "y": [
          242.1119671679483
         ],
         "yaxis": "y"
        },
        {
         "customdata": [
          [
           "RMSE"
          ]
         ],
         "hovertemplate": "Model=RF<br>Descriptor=RDKit_PhysChem<br>Performance (Clean Data as % of Noisy Data)=%{x}<br>Test Performance (% of Train Performance)=%{y}<br>Metric=%{customdata[0]}<extra></extra>",
         "legendgroup": "RF, RDKit_PhysChem",
         "marker": {
          "color": "#EF553B",
          "line": {
           "color": "DarkSlateGrey",
           "width": 2
          },
          "size": 12,
          "symbol": "diamond"
         },
         "mode": "markers",
         "name": "RF, RDKit_PhysChem",
         "orientation": "v",
         "showlegend": true,
         "type": "scatter",
         "x": [
          85.64444002625089
         ],
         "xaxis": "x",
         "y": [
          261.93832637352557
         ],
         "yaxis": "y"
        },
        {
         "customdata": [
          [
           "RMSE"
          ]
         ],
         "hovertemplate": "Model=RF_SHORT<br>Descriptor=Counts<br>Performance (Clean Data as % of Noisy Data)=%{x}<br>Test Performance (% of Train Performance)=%{y}<br>Metric=%{customdata[0]}<extra></extra>",
         "legendgroup": "RF_SHORT, Counts",
         "marker": {
          "color": "#00cc96",
          "line": {
           "color": "DarkSlateGrey",
           "width": 2
          },
          "size": 12,
          "symbol": "circle"
         },
         "mode": "markers",
         "name": "RF_SHORT, Counts",
         "orientation": "v",
         "showlegend": true,
         "type": "scatter",
         "x": [
          59.719932460355054
         ],
         "xaxis": "x",
         "y": [
          104.7589545264647
         ],
         "yaxis": "y"
        },
        {
         "customdata": [
          [
           "RMSE"
          ]
         ],
         "hovertemplate": "Model=RF_SHORT<br>Descriptor=RDKit_PhysChem<br>Performance (Clean Data as % of Noisy Data)=%{x}<br>Test Performance (% of Train Performance)=%{y}<br>Metric=%{customdata[0]}<extra></extra>",
         "legendgroup": "RF_SHORT, RDKit_PhysChem",
         "marker": {
          "color": "#00cc96",
          "line": {
           "color": "DarkSlateGrey",
           "width": 2
          },
          "size": 12,
          "symbol": "diamond"
         },
         "mode": "markers",
         "name": "RF_SHORT, RDKit_PhysChem",
         "orientation": "v",
         "showlegend": true,
         "type": "scatter",
         "x": [
          72.14523566467844
         ],
         "xaxis": "x",
         "y": [
          117.1078042070085
         ],
         "yaxis": "y"
        },
        {
         "customdata": [
          [
           "RMSE"
          ]
         ],
         "hovertemplate": "Model=RIDGE<br>Descriptor=Counts<br>Performance (Clean Data as % of Noisy Data)=%{x}<br>Test Performance (% of Train Performance)=%{y}<br>Metric=%{customdata[0]}<extra></extra>",
         "legendgroup": "RIDGE, Counts",
         "marker": {
          "color": "#ab63fa",
          "line": {
           "color": "DarkSlateGrey",
           "width": 2
          },
          "size": 12,
          "symbol": "circle"
         },
         "mode": "markers",
         "name": "RIDGE, Counts",
         "orientation": "v",
         "showlegend": true,
         "type": "scatter",
         "x": [
          82.291079865688
         ],
         "xaxis": "x",
         "y": [
          102.02717502718595
         ],
         "yaxis": "y"
        },
        {
         "customdata": [
          [
           "RMSE"
          ]
         ],
         "hovertemplate": "Model=RIDGE<br>Descriptor=RDKit_PhysChem<br>Performance (Clean Data as % of Noisy Data)=%{x}<br>Test Performance (% of Train Performance)=%{y}<br>Metric=%{customdata[0]}<extra></extra>",
         "legendgroup": "RIDGE, RDKit_PhysChem",
         "marker": {
          "color": "#ab63fa",
          "line": {
           "color": "DarkSlateGrey",
           "width": 2
          },
          "size": 12,
          "symbol": "diamond"
         },
         "mode": "markers",
         "name": "RIDGE, RDKit_PhysChem",
         "orientation": "v",
         "showlegend": true,
         "type": "scatter",
         "x": [
          68.448820988078
         ],
         "xaxis": "x",
         "y": [
          114.55896661804996
         ],
         "yaxis": "y"
        },
        {
         "customdata": [
          [
           "RMSE"
          ]
         ],
         "hovertemplate": "Model=XGB<br>Descriptor=Counts<br>Performance (Clean Data as % of Noisy Data)=%{x}<br>Test Performance (% of Train Performance)=%{y}<br>Metric=%{customdata[0]}<extra></extra>",
         "legendgroup": "XGB, Counts",
         "marker": {
          "color": "#FFA15A",
          "line": {
           "color": "DarkSlateGrey",
           "width": 2
          },
          "size": 12,
          "symbol": "circle"
         },
         "mode": "markers",
         "name": "XGB, Counts",
         "orientation": "v",
         "showlegend": true,
         "type": "scatter",
         "x": [
          83.51744066372672
         ],
         "xaxis": "x",
         "y": [
          276.49156367090694
         ],
         "yaxis": "y"
        }
       ],
       "layout": {
        "font": {
         "size": 14
        },
        "height": 800,
        "legend": {
         "orientation": "h",
         "title": {
          "text": "Legend"
         },
         "tracegroupgap": 0,
         "x": 0.5,
         "xanchor": "center",
         "y": -0.3,
         "yanchor": "bottom"
        },
        "margin": {
         "b": 100,
         "l": 50,
         "r": 50,
         "t": 60
        },
        "template": {
         "data": {
          "bar": [
           {
            "error_x": {
             "color": "#2a3f5f"
            },
            "error_y": {
             "color": "#2a3f5f"
            },
            "marker": {
             "line": {
              "color": "#E5ECF6",
              "width": 0.5
             },
             "pattern": {
              "fillmode": "overlay",
              "size": 10,
              "solidity": 0.2
             }
            },
            "type": "bar"
           }
          ],
          "barpolar": [
           {
            "marker": {
             "line": {
              "color": "#E5ECF6",
              "width": 0.5
             },
             "pattern": {
              "fillmode": "overlay",
              "size": 10,
              "solidity": 0.2
             }
            },
            "type": "barpolar"
           }
          ],
          "carpet": [
           {
            "aaxis": {
             "endlinecolor": "#2a3f5f",
             "gridcolor": "white",
             "linecolor": "white",
             "minorgridcolor": "white",
             "startlinecolor": "#2a3f5f"
            },
            "baxis": {
             "endlinecolor": "#2a3f5f",
             "gridcolor": "white",
             "linecolor": "white",
             "minorgridcolor": "white",
             "startlinecolor": "#2a3f5f"
            },
            "type": "carpet"
           }
          ],
          "choropleth": [
           {
            "colorbar": {
             "outlinewidth": 0,
             "ticks": ""
            },
            "type": "choropleth"
           }
          ],
          "contour": [
           {
            "colorbar": {
             "outlinewidth": 0,
             "ticks": ""
            },
            "colorscale": [
             [
              0,
              "#0d0887"
             ],
             [
              0.1111111111111111,
              "#46039f"
             ],
             [
              0.2222222222222222,
              "#7201a8"
             ],
             [
              0.3333333333333333,
              "#9c179e"
             ],
             [
              0.4444444444444444,
              "#bd3786"
             ],
             [
              0.5555555555555556,
              "#d8576b"
             ],
             [
              0.6666666666666666,
              "#ed7953"
             ],
             [
              0.7777777777777778,
              "#fb9f3a"
             ],
             [
              0.8888888888888888,
              "#fdca26"
             ],
             [
              1,
              "#f0f921"
             ]
            ],
            "type": "contour"
           }
          ],
          "contourcarpet": [
           {
            "colorbar": {
             "outlinewidth": 0,
             "ticks": ""
            },
            "type": "contourcarpet"
           }
          ],
          "heatmap": [
           {
            "colorbar": {
             "outlinewidth": 0,
             "ticks": ""
            },
            "colorscale": [
             [
              0,
              "#0d0887"
             ],
             [
              0.1111111111111111,
              "#46039f"
             ],
             [
              0.2222222222222222,
              "#7201a8"
             ],
             [
              0.3333333333333333,
              "#9c179e"
             ],
             [
              0.4444444444444444,
              "#bd3786"
             ],
             [
              0.5555555555555556,
              "#d8576b"
             ],
             [
              0.6666666666666666,
              "#ed7953"
             ],
             [
              0.7777777777777778,
              "#fb9f3a"
             ],
             [
              0.8888888888888888,
              "#fdca26"
             ],
             [
              1,
              "#f0f921"
             ]
            ],
            "type": "heatmap"
           }
          ],
          "heatmapgl": [
           {
            "colorbar": {
             "outlinewidth": 0,
             "ticks": ""
            },
            "colorscale": [
             [
              0,
              "#0d0887"
             ],
             [
              0.1111111111111111,
              "#46039f"
             ],
             [
              0.2222222222222222,
              "#7201a8"
             ],
             [
              0.3333333333333333,
              "#9c179e"
             ],
             [
              0.4444444444444444,
              "#bd3786"
             ],
             [
              0.5555555555555556,
              "#d8576b"
             ],
             [
              0.6666666666666666,
              "#ed7953"
             ],
             [
              0.7777777777777778,
              "#fb9f3a"
             ],
             [
              0.8888888888888888,
              "#fdca26"
             ],
             [
              1,
              "#f0f921"
             ]
            ],
            "type": "heatmapgl"
           }
          ],
          "histogram": [
           {
            "marker": {
             "pattern": {
              "fillmode": "overlay",
              "size": 10,
              "solidity": 0.2
             }
            },
            "type": "histogram"
           }
          ],
          "histogram2d": [
           {
            "colorbar": {
             "outlinewidth": 0,
             "ticks": ""
            },
            "colorscale": [
             [
              0,
              "#0d0887"
             ],
             [
              0.1111111111111111,
              "#46039f"
             ],
             [
              0.2222222222222222,
              "#7201a8"
             ],
             [
              0.3333333333333333,
              "#9c179e"
             ],
             [
              0.4444444444444444,
              "#bd3786"
             ],
             [
              0.5555555555555556,
              "#d8576b"
             ],
             [
              0.6666666666666666,
              "#ed7953"
             ],
             [
              0.7777777777777778,
              "#fb9f3a"
             ],
             [
              0.8888888888888888,
              "#fdca26"
             ],
             [
              1,
              "#f0f921"
             ]
            ],
            "type": "histogram2d"
           }
          ],
          "histogram2dcontour": [
           {
            "colorbar": {
             "outlinewidth": 0,
             "ticks": ""
            },
            "colorscale": [
             [
              0,
              "#0d0887"
             ],
             [
              0.1111111111111111,
              "#46039f"
             ],
             [
              0.2222222222222222,
              "#7201a8"
             ],
             [
              0.3333333333333333,
              "#9c179e"
             ],
             [
              0.4444444444444444,
              "#bd3786"
             ],
             [
              0.5555555555555556,
              "#d8576b"
             ],
             [
              0.6666666666666666,
              "#ed7953"
             ],
             [
              0.7777777777777778,
              "#fb9f3a"
             ],
             [
              0.8888888888888888,
              "#fdca26"
             ],
             [
              1,
              "#f0f921"
             ]
            ],
            "type": "histogram2dcontour"
           }
          ],
          "mesh3d": [
           {
            "colorbar": {
             "outlinewidth": 0,
             "ticks": ""
            },
            "type": "mesh3d"
           }
          ],
          "parcoords": [
           {
            "line": {
             "colorbar": {
              "outlinewidth": 0,
              "ticks": ""
             }
            },
            "type": "parcoords"
           }
          ],
          "pie": [
           {
            "automargin": true,
            "type": "pie"
           }
          ],
          "scatter": [
           {
            "fillpattern": {
             "fillmode": "overlay",
             "size": 10,
             "solidity": 0.2
            },
            "type": "scatter"
           }
          ],
          "scatter3d": [
           {
            "line": {
             "colorbar": {
              "outlinewidth": 0,
              "ticks": ""
             }
            },
            "marker": {
             "colorbar": {
              "outlinewidth": 0,
              "ticks": ""
             }
            },
            "type": "scatter3d"
           }
          ],
          "scattercarpet": [
           {
            "marker": {
             "colorbar": {
              "outlinewidth": 0,
              "ticks": ""
             }
            },
            "type": "scattercarpet"
           }
          ],
          "scattergeo": [
           {
            "marker": {
             "colorbar": {
              "outlinewidth": 0,
              "ticks": ""
             }
            },
            "type": "scattergeo"
           }
          ],
          "scattergl": [
           {
            "marker": {
             "colorbar": {
              "outlinewidth": 0,
              "ticks": ""
             }
            },
            "type": "scattergl"
           }
          ],
          "scattermapbox": [
           {
            "marker": {
             "colorbar": {
              "outlinewidth": 0,
              "ticks": ""
             }
            },
            "type": "scattermapbox"
           }
          ],
          "scatterpolar": [
           {
            "marker": {
             "colorbar": {
              "outlinewidth": 0,
              "ticks": ""
             }
            },
            "type": "scatterpolar"
           }
          ],
          "scatterpolargl": [
           {
            "marker": {
             "colorbar": {
              "outlinewidth": 0,
              "ticks": ""
             }
            },
            "type": "scatterpolargl"
           }
          ],
          "scatterternary": [
           {
            "marker": {
             "colorbar": {
              "outlinewidth": 0,
              "ticks": ""
             }
            },
            "type": "scatterternary"
           }
          ],
          "surface": [
           {
            "colorbar": {
             "outlinewidth": 0,
             "ticks": ""
            },
            "colorscale": [
             [
              0,
              "#0d0887"
             ],
             [
              0.1111111111111111,
              "#46039f"
             ],
             [
              0.2222222222222222,
              "#7201a8"
             ],
             [
              0.3333333333333333,
              "#9c179e"
             ],
             [
              0.4444444444444444,
              "#bd3786"
             ],
             [
              0.5555555555555556,
              "#d8576b"
             ],
             [
              0.6666666666666666,
              "#ed7953"
             ],
             [
              0.7777777777777778,
              "#fb9f3a"
             ],
             [
              0.8888888888888888,
              "#fdca26"
             ],
             [
              1,
              "#f0f921"
             ]
            ],
            "type": "surface"
           }
          ],
          "table": [
           {
            "cells": {
             "fill": {
              "color": "#EBF0F8"
             },
             "line": {
              "color": "white"
             }
            },
            "header": {
             "fill": {
              "color": "#C8D4E3"
             },
             "line": {
              "color": "white"
             }
            },
            "type": "table"
           }
          ]
         },
         "layout": {
          "annotationdefaults": {
           "arrowcolor": "#2a3f5f",
           "arrowhead": 0,
           "arrowwidth": 1
          },
          "autotypenumbers": "strict",
          "coloraxis": {
           "colorbar": {
            "outlinewidth": 0,
            "ticks": ""
           }
          },
          "colorscale": {
           "diverging": [
            [
             0,
             "#8e0152"
            ],
            [
             0.1,
             "#c51b7d"
            ],
            [
             0.2,
             "#de77ae"
            ],
            [
             0.3,
             "#f1b6da"
            ],
            [
             0.4,
             "#fde0ef"
            ],
            [
             0.5,
             "#f7f7f7"
            ],
            [
             0.6,
             "#e6f5d0"
            ],
            [
             0.7,
             "#b8e186"
            ],
            [
             0.8,
             "#7fbc41"
            ],
            [
             0.9,
             "#4d9221"
            ],
            [
             1,
             "#276419"
            ]
           ],
           "sequential": [
            [
             0,
             "#0d0887"
            ],
            [
             0.1111111111111111,
             "#46039f"
            ],
            [
             0.2222222222222222,
             "#7201a8"
            ],
            [
             0.3333333333333333,
             "#9c179e"
            ],
            [
             0.4444444444444444,
             "#bd3786"
            ],
            [
             0.5555555555555556,
             "#d8576b"
            ],
            [
             0.6666666666666666,
             "#ed7953"
            ],
            [
             0.7777777777777778,
             "#fb9f3a"
            ],
            [
             0.8888888888888888,
             "#fdca26"
            ],
            [
             1,
             "#f0f921"
            ]
           ],
           "sequentialminus": [
            [
             0,
             "#0d0887"
            ],
            [
             0.1111111111111111,
             "#46039f"
            ],
            [
             0.2222222222222222,
             "#7201a8"
            ],
            [
             0.3333333333333333,
             "#9c179e"
            ],
            [
             0.4444444444444444,
             "#bd3786"
            ],
            [
             0.5555555555555556,
             "#d8576b"
            ],
            [
             0.6666666666666666,
             "#ed7953"
            ],
            [
             0.7777777777777778,
             "#fb9f3a"
            ],
            [
             0.8888888888888888,
             "#fdca26"
            ],
            [
             1,
             "#f0f921"
            ]
           ]
          },
          "colorway": [
           "#636efa",
           "#EF553B",
           "#00cc96",
           "#ab63fa",
           "#FFA15A",
           "#19d3f3",
           "#FF6692",
           "#B6E880",
           "#FF97FF",
           "#FECB52"
          ],
          "font": {
           "color": "#2a3f5f"
          },
          "geo": {
           "bgcolor": "white",
           "lakecolor": "white",
           "landcolor": "#E5ECF6",
           "showlakes": true,
           "showland": true,
           "subunitcolor": "white"
          },
          "hoverlabel": {
           "align": "left"
          },
          "hovermode": "closest",
          "mapbox": {
           "style": "light"
          },
          "paper_bgcolor": "white",
          "plot_bgcolor": "#E5ECF6",
          "polar": {
           "angularaxis": {
            "gridcolor": "white",
            "linecolor": "white",
            "ticks": ""
           },
           "bgcolor": "#E5ECF6",
           "radialaxis": {
            "gridcolor": "white",
            "linecolor": "white",
            "ticks": ""
           }
          },
          "scene": {
           "xaxis": {
            "backgroundcolor": "#E5ECF6",
            "gridcolor": "white",
            "gridwidth": 2,
            "linecolor": "white",
            "showbackground": true,
            "ticks": "",
            "zerolinecolor": "white"
           },
           "yaxis": {
            "backgroundcolor": "#E5ECF6",
            "gridcolor": "white",
            "gridwidth": 2,
            "linecolor": "white",
            "showbackground": true,
            "ticks": "",
            "zerolinecolor": "white"
           },
           "zaxis": {
            "backgroundcolor": "#E5ECF6",
            "gridcolor": "white",
            "gridwidth": 2,
            "linecolor": "white",
            "showbackground": true,
            "ticks": "",
            "zerolinecolor": "white"
           }
          },
          "shapedefaults": {
           "line": {
            "color": "#2a3f5f"
           }
          },
          "ternary": {
           "aaxis": {
            "gridcolor": "white",
            "linecolor": "white",
            "ticks": ""
           },
           "baxis": {
            "gridcolor": "white",
            "linecolor": "white",
            "ticks": ""
           },
           "bgcolor": "#E5ECF6",
           "caxis": {
            "gridcolor": "white",
            "linecolor": "white",
            "ticks": ""
           }
          },
          "title": {
           "x": 0.05
          },
          "xaxis": {
           "automargin": true,
           "gridcolor": "white",
           "linecolor": "white",
           "ticks": "",
           "title": {
            "standoff": 15
           },
           "zerolinecolor": "white",
           "zerolinewidth": 2
          },
          "yaxis": {
           "automargin": true,
           "gridcolor": "white",
           "linecolor": "white",
           "ticks": "",
           "title": {
            "standoff": 15
           },
           "zerolinecolor": "white",
           "zerolinewidth": 2
          }
         }
        },
        "title": {
         "font": {
          "size": 18
         },
         "text": "Model Behavior: Training on Clean vs Noisy Data",
         "x": 0.5
        },
        "width": 1200,
        "xaxis": {
         "anchor": "y",
         "domain": [
          0,
          1
         ],
         "gridcolor": "LightGrey",
         "gridwidth": 1,
         "showgrid": true,
         "title": {
          "text": "Training Performance (Clean Data as % of Noisy Data)"
         },
         "zeroline": true,
         "zerolinecolor": "Black",
         "zerolinewidth": 1
        },
        "yaxis": {
         "anchor": "x",
         "domain": [
          0,
          1
         ],
         "gridcolor": "LightGrey",
         "gridwidth": 1,
         "showgrid": true,
         "title": {
          "text": "Test Performance (% of Train Performance)"
         },
         "zeroline": true,
         "zerolinecolor": "Black",
         "zerolinewidth": 1
        }
       }
      }
     },
     "metadata": {},
     "output_type": "display_data"
    }
   ],
   "source": [
    "import plotly.express as px\n",
    "\n",
    "# Create the scatter plot\n",
    "fig = px.scatter(\n",
    "    df_overfitting_rmse_no_xgb_physchem,\n",
    "    x='Train_Mid_as_percentage_of_Train_Full',\n",
    "    y='Test_Mid_as_percentage_of_Train_Mid',\n",
    "    color='Model',\n",
    "    symbol='Descriptor',\n",
    "    hover_data=['Metric'],\n",
    "    labels={\n",
    "        'Train_Mid_as_percentage_of_Train_Full': 'Performance (Clean Data as % of Noisy Data)',\n",
    "        'Test_Mid_as_percentage_of_Train_Mid': 'Test Performance (% of Train Performance)'\n",
    "    },\n",
    "    title=\"Model Behavior: Training on Clean vs Noisy Data\"\n",
    ")\n",
    "\n",
    "# Update layout for clarity\n",
    "fig.update_layout(\n",
    "    width=1200,\n",
    "    height=800,\n",
    "    legend=dict(\n",
    "        title=\"Legend\",\n",
    "        orientation=\"h\",\n",
    "        yanchor=\"bottom\",\n",
    "        y=-0.3,\n",
    "        xanchor=\"center\",\n",
    "        x=0.5\n",
    "    ),\n",
    "    margin=dict(l=50, r=50, t=60, b=100),\n",
    "    font=dict(size=14),\n",
    "    title_font=dict(size=18),\n",
    "    title_x=0.5,  # Center title\n",
    ")\n",
    "\n",
    "# Update marker styles for better distinction\n",
    "fig.update_traces(marker=dict(size=12, line=dict(width=2, color='DarkSlateGrey')))\n",
    "\n",
    "# Add gridlines and improve axis visibility\n",
    "fig.update_xaxes(\n",
    "    title=\"Training Performance (Clean Data as % of Noisy Data)\",\n",
    "    showgrid=True,\n",
    "    gridwidth=1,\n",
    "    gridcolor='LightGrey',\n",
    "    zeroline=True,\n",
    "    zerolinewidth=1,\n",
    "    zerolinecolor='Black'\n",
    ")\n",
    "fig.update_yaxes(\n",
    "    title=\"Test Performance (% of Train Performance)\",\n",
    "    showgrid=True,\n",
    "    gridwidth=1,\n",
    "    gridcolor='LightGrey',\n",
    "    zeroline=True,\n",
    "    zerolinewidth=1,\n",
    "    zerolinecolor='Black'\n",
    ")\n",
    "\n",
    "fig.show()\n"
   ]
  },
  {
   "cell_type": "code",
   "execution_count": 46,
   "metadata": {},
   "outputs": [
    {
     "data": {
      "application/vnd.plotly.v1+json": {
       "config": {
        "plotlyServerURL": "https://plot.ly"
       },
       "data": [
        {
         "customdata": [
          [
           "RMSE"
          ]
         ],
         "hovertemplate": "Model=MLP<br>Descriptor=RDKit_PhysChem<br>Performance (Clean Data as % of Noisy Data)=%{x}<br>Test Performance (% of Train Performance)=%{y}<br>Metric=%{customdata[0]}<extra></extra>",
         "legendgroup": "MLP, RDKit_PhysChem",
         "marker": {
          "color": "#636efa",
          "line": {
           "color": "DarkSlateGrey",
           "width": 2
          },
          "size": 12,
          "symbol": "circle"
         },
         "mode": "markers",
         "name": "MLP, RDKit_PhysChem",
         "orientation": "v",
         "showlegend": true,
         "type": "scatter",
         "x": [
          96.13766294732194
         ],
         "xaxis": "x",
         "y": [
          410.3683192083786
         ],
         "yaxis": "y"
        },
        {
         "customdata": [
          [
           "RMSE"
          ]
         ],
         "hovertemplate": "Model=RF<br>Descriptor=RDKit_PhysChem<br>Performance (Clean Data as % of Noisy Data)=%{x}<br>Test Performance (% of Train Performance)=%{y}<br>Metric=%{customdata[0]}<extra></extra>",
         "legendgroup": "RF, RDKit_PhysChem",
         "marker": {
          "color": "#EF553B",
          "line": {
           "color": "DarkSlateGrey",
           "width": 2
          },
          "size": 12,
          "symbol": "circle"
         },
         "mode": "markers",
         "name": "RF, RDKit_PhysChem",
         "orientation": "v",
         "showlegend": true,
         "type": "scatter",
         "x": [
          85.64444002625089
         ],
         "xaxis": "x",
         "y": [
          261.93832637352557
         ],
         "yaxis": "y"
        },
        {
         "customdata": [
          [
           "RMSE"
          ]
         ],
         "hovertemplate": "Model=RF_SHORT<br>Descriptor=RDKit_PhysChem<br>Performance (Clean Data as % of Noisy Data)=%{x}<br>Test Performance (% of Train Performance)=%{y}<br>Metric=%{customdata[0]}<extra></extra>",
         "legendgroup": "RF_SHORT, RDKit_PhysChem",
         "marker": {
          "color": "#00cc96",
          "line": {
           "color": "DarkSlateGrey",
           "width": 2
          },
          "size": 12,
          "symbol": "circle"
         },
         "mode": "markers",
         "name": "RF_SHORT, RDKit_PhysChem",
         "orientation": "v",
         "showlegend": true,
         "type": "scatter",
         "x": [
          72.14523566467844
         ],
         "xaxis": "x",
         "y": [
          117.1078042070085
         ],
         "yaxis": "y"
        },
        {
         "customdata": [
          [
           "RMSE"
          ]
         ],
         "hovertemplate": "Model=RIDGE<br>Descriptor=RDKit_PhysChem<br>Performance (Clean Data as % of Noisy Data)=%{x}<br>Test Performance (% of Train Performance)=%{y}<br>Metric=%{customdata[0]}<extra></extra>",
         "legendgroup": "RIDGE, RDKit_PhysChem",
         "marker": {
          "color": "#ab63fa",
          "line": {
           "color": "DarkSlateGrey",
           "width": 2
          },
          "size": 12,
          "symbol": "circle"
         },
         "mode": "markers",
         "name": "RIDGE, RDKit_PhysChem",
         "orientation": "v",
         "showlegend": true,
         "type": "scatter",
         "x": [
          68.448820988078
         ],
         "xaxis": "x",
         "y": [
          114.55896661804996
         ],
         "yaxis": "y"
        }
       ],
       "layout": {
        "font": {
         "size": 14
        },
        "height": 800,
        "legend": {
         "orientation": "h",
         "title": {
          "text": "Legend"
         },
         "tracegroupgap": 0,
         "x": 0.5,
         "xanchor": "center",
         "y": -0.3,
         "yanchor": "bottom"
        },
        "margin": {
         "b": 100,
         "l": 50,
         "r": 50,
         "t": 60
        },
        "template": {
         "data": {
          "bar": [
           {
            "error_x": {
             "color": "#2a3f5f"
            },
            "error_y": {
             "color": "#2a3f5f"
            },
            "marker": {
             "line": {
              "color": "#E5ECF6",
              "width": 0.5
             },
             "pattern": {
              "fillmode": "overlay",
              "size": 10,
              "solidity": 0.2
             }
            },
            "type": "bar"
           }
          ],
          "barpolar": [
           {
            "marker": {
             "line": {
              "color": "#E5ECF6",
              "width": 0.5
             },
             "pattern": {
              "fillmode": "overlay",
              "size": 10,
              "solidity": 0.2
             }
            },
            "type": "barpolar"
           }
          ],
          "carpet": [
           {
            "aaxis": {
             "endlinecolor": "#2a3f5f",
             "gridcolor": "white",
             "linecolor": "white",
             "minorgridcolor": "white",
             "startlinecolor": "#2a3f5f"
            },
            "baxis": {
             "endlinecolor": "#2a3f5f",
             "gridcolor": "white",
             "linecolor": "white",
             "minorgridcolor": "white",
             "startlinecolor": "#2a3f5f"
            },
            "type": "carpet"
           }
          ],
          "choropleth": [
           {
            "colorbar": {
             "outlinewidth": 0,
             "ticks": ""
            },
            "type": "choropleth"
           }
          ],
          "contour": [
           {
            "colorbar": {
             "outlinewidth": 0,
             "ticks": ""
            },
            "colorscale": [
             [
              0,
              "#0d0887"
             ],
             [
              0.1111111111111111,
              "#46039f"
             ],
             [
              0.2222222222222222,
              "#7201a8"
             ],
             [
              0.3333333333333333,
              "#9c179e"
             ],
             [
              0.4444444444444444,
              "#bd3786"
             ],
             [
              0.5555555555555556,
              "#d8576b"
             ],
             [
              0.6666666666666666,
              "#ed7953"
             ],
             [
              0.7777777777777778,
              "#fb9f3a"
             ],
             [
              0.8888888888888888,
              "#fdca26"
             ],
             [
              1,
              "#f0f921"
             ]
            ],
            "type": "contour"
           }
          ],
          "contourcarpet": [
           {
            "colorbar": {
             "outlinewidth": 0,
             "ticks": ""
            },
            "type": "contourcarpet"
           }
          ],
          "heatmap": [
           {
            "colorbar": {
             "outlinewidth": 0,
             "ticks": ""
            },
            "colorscale": [
             [
              0,
              "#0d0887"
             ],
             [
              0.1111111111111111,
              "#46039f"
             ],
             [
              0.2222222222222222,
              "#7201a8"
             ],
             [
              0.3333333333333333,
              "#9c179e"
             ],
             [
              0.4444444444444444,
              "#bd3786"
             ],
             [
              0.5555555555555556,
              "#d8576b"
             ],
             [
              0.6666666666666666,
              "#ed7953"
             ],
             [
              0.7777777777777778,
              "#fb9f3a"
             ],
             [
              0.8888888888888888,
              "#fdca26"
             ],
             [
              1,
              "#f0f921"
             ]
            ],
            "type": "heatmap"
           }
          ],
          "heatmapgl": [
           {
            "colorbar": {
             "outlinewidth": 0,
             "ticks": ""
            },
            "colorscale": [
             [
              0,
              "#0d0887"
             ],
             [
              0.1111111111111111,
              "#46039f"
             ],
             [
              0.2222222222222222,
              "#7201a8"
             ],
             [
              0.3333333333333333,
              "#9c179e"
             ],
             [
              0.4444444444444444,
              "#bd3786"
             ],
             [
              0.5555555555555556,
              "#d8576b"
             ],
             [
              0.6666666666666666,
              "#ed7953"
             ],
             [
              0.7777777777777778,
              "#fb9f3a"
             ],
             [
              0.8888888888888888,
              "#fdca26"
             ],
             [
              1,
              "#f0f921"
             ]
            ],
            "type": "heatmapgl"
           }
          ],
          "histogram": [
           {
            "marker": {
             "pattern": {
              "fillmode": "overlay",
              "size": 10,
              "solidity": 0.2
             }
            },
            "type": "histogram"
           }
          ],
          "histogram2d": [
           {
            "colorbar": {
             "outlinewidth": 0,
             "ticks": ""
            },
            "colorscale": [
             [
              0,
              "#0d0887"
             ],
             [
              0.1111111111111111,
              "#46039f"
             ],
             [
              0.2222222222222222,
              "#7201a8"
             ],
             [
              0.3333333333333333,
              "#9c179e"
             ],
             [
              0.4444444444444444,
              "#bd3786"
             ],
             [
              0.5555555555555556,
              "#d8576b"
             ],
             [
              0.6666666666666666,
              "#ed7953"
             ],
             [
              0.7777777777777778,
              "#fb9f3a"
             ],
             [
              0.8888888888888888,
              "#fdca26"
             ],
             [
              1,
              "#f0f921"
             ]
            ],
            "type": "histogram2d"
           }
          ],
          "histogram2dcontour": [
           {
            "colorbar": {
             "outlinewidth": 0,
             "ticks": ""
            },
            "colorscale": [
             [
              0,
              "#0d0887"
             ],
             [
              0.1111111111111111,
              "#46039f"
             ],
             [
              0.2222222222222222,
              "#7201a8"
             ],
             [
              0.3333333333333333,
              "#9c179e"
             ],
             [
              0.4444444444444444,
              "#bd3786"
             ],
             [
              0.5555555555555556,
              "#d8576b"
             ],
             [
              0.6666666666666666,
              "#ed7953"
             ],
             [
              0.7777777777777778,
              "#fb9f3a"
             ],
             [
              0.8888888888888888,
              "#fdca26"
             ],
             [
              1,
              "#f0f921"
             ]
            ],
            "type": "histogram2dcontour"
           }
          ],
          "mesh3d": [
           {
            "colorbar": {
             "outlinewidth": 0,
             "ticks": ""
            },
            "type": "mesh3d"
           }
          ],
          "parcoords": [
           {
            "line": {
             "colorbar": {
              "outlinewidth": 0,
              "ticks": ""
             }
            },
            "type": "parcoords"
           }
          ],
          "pie": [
           {
            "automargin": true,
            "type": "pie"
           }
          ],
          "scatter": [
           {
            "fillpattern": {
             "fillmode": "overlay",
             "size": 10,
             "solidity": 0.2
            },
            "type": "scatter"
           }
          ],
          "scatter3d": [
           {
            "line": {
             "colorbar": {
              "outlinewidth": 0,
              "ticks": ""
             }
            },
            "marker": {
             "colorbar": {
              "outlinewidth": 0,
              "ticks": ""
             }
            },
            "type": "scatter3d"
           }
          ],
          "scattercarpet": [
           {
            "marker": {
             "colorbar": {
              "outlinewidth": 0,
              "ticks": ""
             }
            },
            "type": "scattercarpet"
           }
          ],
          "scattergeo": [
           {
            "marker": {
             "colorbar": {
              "outlinewidth": 0,
              "ticks": ""
             }
            },
            "type": "scattergeo"
           }
          ],
          "scattergl": [
           {
            "marker": {
             "colorbar": {
              "outlinewidth": 0,
              "ticks": ""
             }
            },
            "type": "scattergl"
           }
          ],
          "scattermapbox": [
           {
            "marker": {
             "colorbar": {
              "outlinewidth": 0,
              "ticks": ""
             }
            },
            "type": "scattermapbox"
           }
          ],
          "scatterpolar": [
           {
            "marker": {
             "colorbar": {
              "outlinewidth": 0,
              "ticks": ""
             }
            },
            "type": "scatterpolar"
           }
          ],
          "scatterpolargl": [
           {
            "marker": {
             "colorbar": {
              "outlinewidth": 0,
              "ticks": ""
             }
            },
            "type": "scatterpolargl"
           }
          ],
          "scatterternary": [
           {
            "marker": {
             "colorbar": {
              "outlinewidth": 0,
              "ticks": ""
             }
            },
            "type": "scatterternary"
           }
          ],
          "surface": [
           {
            "colorbar": {
             "outlinewidth": 0,
             "ticks": ""
            },
            "colorscale": [
             [
              0,
              "#0d0887"
             ],
             [
              0.1111111111111111,
              "#46039f"
             ],
             [
              0.2222222222222222,
              "#7201a8"
             ],
             [
              0.3333333333333333,
              "#9c179e"
             ],
             [
              0.4444444444444444,
              "#bd3786"
             ],
             [
              0.5555555555555556,
              "#d8576b"
             ],
             [
              0.6666666666666666,
              "#ed7953"
             ],
             [
              0.7777777777777778,
              "#fb9f3a"
             ],
             [
              0.8888888888888888,
              "#fdca26"
             ],
             [
              1,
              "#f0f921"
             ]
            ],
            "type": "surface"
           }
          ],
          "table": [
           {
            "cells": {
             "fill": {
              "color": "#EBF0F8"
             },
             "line": {
              "color": "white"
             }
            },
            "header": {
             "fill": {
              "color": "#C8D4E3"
             },
             "line": {
              "color": "white"
             }
            },
            "type": "table"
           }
          ]
         },
         "layout": {
          "annotationdefaults": {
           "arrowcolor": "#2a3f5f",
           "arrowhead": 0,
           "arrowwidth": 1
          },
          "autotypenumbers": "strict",
          "coloraxis": {
           "colorbar": {
            "outlinewidth": 0,
            "ticks": ""
           }
          },
          "colorscale": {
           "diverging": [
            [
             0,
             "#8e0152"
            ],
            [
             0.1,
             "#c51b7d"
            ],
            [
             0.2,
             "#de77ae"
            ],
            [
             0.3,
             "#f1b6da"
            ],
            [
             0.4,
             "#fde0ef"
            ],
            [
             0.5,
             "#f7f7f7"
            ],
            [
             0.6,
             "#e6f5d0"
            ],
            [
             0.7,
             "#b8e186"
            ],
            [
             0.8,
             "#7fbc41"
            ],
            [
             0.9,
             "#4d9221"
            ],
            [
             1,
             "#276419"
            ]
           ],
           "sequential": [
            [
             0,
             "#0d0887"
            ],
            [
             0.1111111111111111,
             "#46039f"
            ],
            [
             0.2222222222222222,
             "#7201a8"
            ],
            [
             0.3333333333333333,
             "#9c179e"
            ],
            [
             0.4444444444444444,
             "#bd3786"
            ],
            [
             0.5555555555555556,
             "#d8576b"
            ],
            [
             0.6666666666666666,
             "#ed7953"
            ],
            [
             0.7777777777777778,
             "#fb9f3a"
            ],
            [
             0.8888888888888888,
             "#fdca26"
            ],
            [
             1,
             "#f0f921"
            ]
           ],
           "sequentialminus": [
            [
             0,
             "#0d0887"
            ],
            [
             0.1111111111111111,
             "#46039f"
            ],
            [
             0.2222222222222222,
             "#7201a8"
            ],
            [
             0.3333333333333333,
             "#9c179e"
            ],
            [
             0.4444444444444444,
             "#bd3786"
            ],
            [
             0.5555555555555556,
             "#d8576b"
            ],
            [
             0.6666666666666666,
             "#ed7953"
            ],
            [
             0.7777777777777778,
             "#fb9f3a"
            ],
            [
             0.8888888888888888,
             "#fdca26"
            ],
            [
             1,
             "#f0f921"
            ]
           ]
          },
          "colorway": [
           "#636efa",
           "#EF553B",
           "#00cc96",
           "#ab63fa",
           "#FFA15A",
           "#19d3f3",
           "#FF6692",
           "#B6E880",
           "#FF97FF",
           "#FECB52"
          ],
          "font": {
           "color": "#2a3f5f"
          },
          "geo": {
           "bgcolor": "white",
           "lakecolor": "white",
           "landcolor": "#E5ECF6",
           "showlakes": true,
           "showland": true,
           "subunitcolor": "white"
          },
          "hoverlabel": {
           "align": "left"
          },
          "hovermode": "closest",
          "mapbox": {
           "style": "light"
          },
          "paper_bgcolor": "white",
          "plot_bgcolor": "#E5ECF6",
          "polar": {
           "angularaxis": {
            "gridcolor": "white",
            "linecolor": "white",
            "ticks": ""
           },
           "bgcolor": "#E5ECF6",
           "radialaxis": {
            "gridcolor": "white",
            "linecolor": "white",
            "ticks": ""
           }
          },
          "scene": {
           "xaxis": {
            "backgroundcolor": "#E5ECF6",
            "gridcolor": "white",
            "gridwidth": 2,
            "linecolor": "white",
            "showbackground": true,
            "ticks": "",
            "zerolinecolor": "white"
           },
           "yaxis": {
            "backgroundcolor": "#E5ECF6",
            "gridcolor": "white",
            "gridwidth": 2,
            "linecolor": "white",
            "showbackground": true,
            "ticks": "",
            "zerolinecolor": "white"
           },
           "zaxis": {
            "backgroundcolor": "#E5ECF6",
            "gridcolor": "white",
            "gridwidth": 2,
            "linecolor": "white",
            "showbackground": true,
            "ticks": "",
            "zerolinecolor": "white"
           }
          },
          "shapedefaults": {
           "line": {
            "color": "#2a3f5f"
           }
          },
          "ternary": {
           "aaxis": {
            "gridcolor": "white",
            "linecolor": "white",
            "ticks": ""
           },
           "baxis": {
            "gridcolor": "white",
            "linecolor": "white",
            "ticks": ""
           },
           "bgcolor": "#E5ECF6",
           "caxis": {
            "gridcolor": "white",
            "linecolor": "white",
            "ticks": ""
           }
          },
          "title": {
           "x": 0.05
          },
          "xaxis": {
           "automargin": true,
           "gridcolor": "white",
           "linecolor": "white",
           "ticks": "",
           "title": {
            "standoff": 15
           },
           "zerolinecolor": "white",
           "zerolinewidth": 2
          },
          "yaxis": {
           "automargin": true,
           "gridcolor": "white",
           "linecolor": "white",
           "ticks": "",
           "title": {
            "standoff": 15
           },
           "zerolinecolor": "white",
           "zerolinewidth": 2
          }
         }
        },
        "title": {
         "font": {
          "size": 18
         },
         "text": "Model Behavior: Training on Clean vs Noisy Data",
         "x": 0.5
        },
        "width": 1200,
        "xaxis": {
         "anchor": "y",
         "domain": [
          0,
          1
         ],
         "gridcolor": "LightGrey",
         "gridwidth": 1,
         "showgrid": true,
         "title": {
          "text": "Training Performance (Clean Data as % of Noisy Data)"
         },
         "zeroline": true,
         "zerolinecolor": "Black",
         "zerolinewidth": 1
        },
        "yaxis": {
         "anchor": "x",
         "domain": [
          0,
          1
         ],
         "gridcolor": "LightGrey",
         "gridwidth": 1,
         "showgrid": true,
         "title": {
          "text": "Test Performance (% of Train Performance)"
         },
         "zeroline": true,
         "zerolinecolor": "Black",
         "zerolinewidth": 1
        }
       }
      }
     },
     "metadata": {},
     "output_type": "display_data"
    }
   ],
   "source": [
    "df_overfitting_physchem_only = df_overfitting_rmse[df_overfitting_rmse['Descriptor']=='RDKit_PhysChem']\n",
    "df_overfitting_physchem_only_no_xgb = df_overfitting_physchem_only[df_overfitting_physchem_only['Model']!='XGB']\n",
    "fig = px.scatter(\n",
    "    df_overfitting_physchem_only_no_xgb,\n",
    "    x='Train_Mid_as_percentage_of_Train_Full',\n",
    "    y='Test_Mid_as_percentage_of_Train_Mid',\n",
    "    color='Model',\n",
    "    symbol='Descriptor',\n",
    "    hover_data=['Metric'],\n",
    "    labels={\n",
    "        'Train_Mid_as_percentage_of_Train_Full': 'Performance (Clean Data as % of Noisy Data)',\n",
    "        'Test_Mid_as_percentage_of_Train_Mid': 'Test Performance (% of Train Performance)'\n",
    "    },\n",
    "    title=\"Model Behavior: Training on Clean vs Noisy Data\"\n",
    ")\n",
    "\n",
    "# Update layout for clarity\n",
    "fig.update_layout(\n",
    "    width=1200,\n",
    "    height=800,\n",
    "    legend=dict(\n",
    "        title=\"Legend\",\n",
    "        orientation=\"h\",\n",
    "        yanchor=\"bottom\",\n",
    "        y=-0.3,\n",
    "        xanchor=\"center\",\n",
    "        x=0.5\n",
    "    ),\n",
    "    margin=dict(l=50, r=50, t=60, b=100),\n",
    "    font=dict(size=14),\n",
    "    title_font=dict(size=18),\n",
    "    title_x=0.5,  # Center title\n",
    ")\n",
    "\n",
    "# Update marker styles for better distinction\n",
    "fig.update_traces(marker=dict(size=12, line=dict(width=2, color='DarkSlateGrey')))\n",
    "\n",
    "# Add gridlines and improve axis visibility\n",
    "fig.update_xaxes(\n",
    "    title=\"Training Performance (Clean Data as % of Noisy Data)\",\n",
    "    showgrid=True,\n",
    "    gridwidth=1,\n",
    "    gridcolor='LightGrey',\n",
    "    zeroline=True,\n",
    "    zerolinewidth=1,\n",
    "    zerolinecolor='Black'\n",
    ")\n",
    "fig.update_yaxes(\n",
    "    title=\"Test Performance (% of Train Performance)\",\n",
    "    showgrid=True,\n",
    "    gridwidth=1,\n",
    "    gridcolor='LightGrey',\n",
    "    zeroline=True,\n",
    "    zerolinewidth=1,\n",
    "    zerolinecolor='Black'\n",
    ")\n",
    "\n",
    "fig.show()"
   ]
  },
  {
   "cell_type": "code",
   "execution_count": 47,
   "metadata": {},
   "outputs": [
    {
     "data": {
      "application/vnd.plotly.v1+json": {
       "config": {
        "plotlyServerURL": "https://plot.ly"
       },
       "data": [
        {
         "customdata": [
          [
           "RMSE"
          ]
         ],
         "hovertemplate": "Model=MLP<br>Descriptor=Counts<br>Performance (Clean Data as % of Noisy Data)=%{x}<br>Test Performance (% of Train Performance)=%{y}<br>Metric=%{customdata[0]}<extra></extra>",
         "legendgroup": "MLP, Counts",
         "marker": {
          "color": "#636efa",
          "line": {
           "color": "DarkSlateGrey",
           "width": 2
          },
          "size": 12,
          "symbol": "circle"
         },
         "mode": "markers",
         "name": "MLP, Counts",
         "orientation": "v",
         "showlegend": true,
         "type": "scatter",
         "x": [
          85.90421410316345
         ],
         "xaxis": "x",
         "y": [
          103.13923672290821
         ],
         "yaxis": "y"
        },
        {
         "customdata": [
          [
           "RMSE"
          ]
         ],
         "hovertemplate": "Model=MLP<br>Descriptor=RDKit_PhysChem<br>Performance (Clean Data as % of Noisy Data)=%{x}<br>Test Performance (% of Train Performance)=%{y}<br>Metric=%{customdata[0]}<extra></extra>",
         "legendgroup": "MLP, RDKit_PhysChem",
         "marker": {
          "color": "#636efa",
          "line": {
           "color": "DarkSlateGrey",
           "width": 2
          },
          "size": 12,
          "symbol": "diamond"
         },
         "mode": "markers",
         "name": "MLP, RDKit_PhysChem",
         "orientation": "v",
         "showlegend": true,
         "type": "scatter",
         "x": [
          96.13766294732194
         ],
         "xaxis": "x",
         "y": [
          410.3683192083786
         ],
         "yaxis": "y"
        },
        {
         "customdata": [
          [
           "RMSE"
          ]
         ],
         "hovertemplate": "Model=RF<br>Descriptor=Counts<br>Performance (Clean Data as % of Noisy Data)=%{x}<br>Test Performance (% of Train Performance)=%{y}<br>Metric=%{customdata[0]}<extra></extra>",
         "legendgroup": "RF, Counts",
         "marker": {
          "color": "#EF553B",
          "line": {
           "color": "DarkSlateGrey",
           "width": 2
          },
          "size": 12,
          "symbol": "circle"
         },
         "mode": "markers",
         "name": "RF, Counts",
         "orientation": "v",
         "showlegend": true,
         "type": "scatter",
         "x": [
          85.05009509369792
         ],
         "xaxis": "x",
         "y": [
          242.1119671679483
         ],
         "yaxis": "y"
        },
        {
         "customdata": [
          [
           "RMSE"
          ]
         ],
         "hovertemplate": "Model=RF<br>Descriptor=RDKit_PhysChem<br>Performance (Clean Data as % of Noisy Data)=%{x}<br>Test Performance (% of Train Performance)=%{y}<br>Metric=%{customdata[0]}<extra></extra>",
         "legendgroup": "RF, RDKit_PhysChem",
         "marker": {
          "color": "#EF553B",
          "line": {
           "color": "DarkSlateGrey",
           "width": 2
          },
          "size": 12,
          "symbol": "diamond"
         },
         "mode": "markers",
         "name": "RF, RDKit_PhysChem",
         "orientation": "v",
         "showlegend": true,
         "type": "scatter",
         "x": [
          85.64444002625089
         ],
         "xaxis": "x",
         "y": [
          261.93832637352557
         ],
         "yaxis": "y"
        },
        {
         "customdata": [
          [
           "RMSE"
          ]
         ],
         "hovertemplate": "Model=RF_SHORT<br>Descriptor=Counts<br>Performance (Clean Data as % of Noisy Data)=%{x}<br>Test Performance (% of Train Performance)=%{y}<br>Metric=%{customdata[0]}<extra></extra>",
         "legendgroup": "RF_SHORT, Counts",
         "marker": {
          "color": "#00cc96",
          "line": {
           "color": "DarkSlateGrey",
           "width": 2
          },
          "size": 12,
          "symbol": "circle"
         },
         "mode": "markers",
         "name": "RF_SHORT, Counts",
         "orientation": "v",
         "showlegend": true,
         "type": "scatter",
         "x": [
          59.719932460355054
         ],
         "xaxis": "x",
         "y": [
          104.7589545264647
         ],
         "yaxis": "y"
        },
        {
         "customdata": [
          [
           "RMSE"
          ]
         ],
         "hovertemplate": "Model=RF_SHORT<br>Descriptor=RDKit_PhysChem<br>Performance (Clean Data as % of Noisy Data)=%{x}<br>Test Performance (% of Train Performance)=%{y}<br>Metric=%{customdata[0]}<extra></extra>",
         "legendgroup": "RF_SHORT, RDKit_PhysChem",
         "marker": {
          "color": "#00cc96",
          "line": {
           "color": "DarkSlateGrey",
           "width": 2
          },
          "size": 12,
          "symbol": "diamond"
         },
         "mode": "markers",
         "name": "RF_SHORT, RDKit_PhysChem",
         "orientation": "v",
         "showlegend": true,
         "type": "scatter",
         "x": [
          72.14523566467844
         ],
         "xaxis": "x",
         "y": [
          117.1078042070085
         ],
         "yaxis": "y"
        },
        {
         "customdata": [
          [
           "RMSE"
          ]
         ],
         "hovertemplate": "Model=RIDGE<br>Descriptor=Counts<br>Performance (Clean Data as % of Noisy Data)=%{x}<br>Test Performance (% of Train Performance)=%{y}<br>Metric=%{customdata[0]}<extra></extra>",
         "legendgroup": "RIDGE, Counts",
         "marker": {
          "color": "#ab63fa",
          "line": {
           "color": "DarkSlateGrey",
           "width": 2
          },
          "size": 12,
          "symbol": "circle"
         },
         "mode": "markers",
         "name": "RIDGE, Counts",
         "orientation": "v",
         "showlegend": true,
         "type": "scatter",
         "x": [
          82.291079865688
         ],
         "xaxis": "x",
         "y": [
          102.02717502718595
         ],
         "yaxis": "y"
        },
        {
         "customdata": [
          [
           "RMSE"
          ]
         ],
         "hovertemplate": "Model=RIDGE<br>Descriptor=RDKit_PhysChem<br>Performance (Clean Data as % of Noisy Data)=%{x}<br>Test Performance (% of Train Performance)=%{y}<br>Metric=%{customdata[0]}<extra></extra>",
         "legendgroup": "RIDGE, RDKit_PhysChem",
         "marker": {
          "color": "#ab63fa",
          "line": {
           "color": "DarkSlateGrey",
           "width": 2
          },
          "size": 12,
          "symbol": "diamond"
         },
         "mode": "markers",
         "name": "RIDGE, RDKit_PhysChem",
         "orientation": "v",
         "showlegend": true,
         "type": "scatter",
         "x": [
          68.448820988078
         ],
         "xaxis": "x",
         "y": [
          114.55896661804996
         ],
         "yaxis": "y"
        },
        {
         "customdata": [
          [
           "RMSE"
          ]
         ],
         "hovertemplate": "Model=XGB<br>Descriptor=Counts<br>Performance (Clean Data as % of Noisy Data)=%{x}<br>Test Performance (% of Train Performance)=%{y}<br>Metric=%{customdata[0]}<extra></extra>",
         "legendgroup": "XGB, Counts",
         "marker": {
          "color": "#FFA15A",
          "line": {
           "color": "DarkSlateGrey",
           "width": 2
          },
          "size": 12,
          "symbol": "circle"
         },
         "mode": "markers",
         "name": "XGB, Counts",
         "orientation": "v",
         "showlegend": true,
         "type": "scatter",
         "x": [
          83.51744066372672
         ],
         "xaxis": "x",
         "y": [
          276.49156367090694
         ],
         "yaxis": "y"
        },
        {
         "customdata": [
          [
           "RMSE"
          ]
         ],
         "hovertemplate": "Model=XGB<br>Descriptor=RDKit_PhysChem<br>Performance (Clean Data as % of Noisy Data)=%{x}<br>Test Performance (% of Train Performance)=%{y}<br>Metric=%{customdata[0]}<extra></extra>",
         "legendgroup": "XGB, RDKit_PhysChem",
         "marker": {
          "color": "#FFA15A",
          "line": {
           "color": "DarkSlateGrey",
           "width": 2
          },
          "size": 12,
          "symbol": "diamond"
         },
         "mode": "markers",
         "name": "XGB, RDKit_PhysChem",
         "orientation": "v",
         "showlegend": true,
         "type": "scatter",
         "x": [
          77.30624562562659
         ],
         "xaxis": "x",
         "y": [
          1669.1170484957215
         ],
         "yaxis": "y"
        }
       ],
       "layout": {
        "font": {
         "size": 14
        },
        "height": 800,
        "legend": {
         "orientation": "h",
         "title": {
          "text": "Legend"
         },
         "tracegroupgap": 0,
         "x": 0.5,
         "xanchor": "center",
         "y": -0.3,
         "yanchor": "bottom"
        },
        "margin": {
         "b": 100,
         "l": 50,
         "r": 50,
         "t": 60
        },
        "template": {
         "data": {
          "bar": [
           {
            "error_x": {
             "color": "#2a3f5f"
            },
            "error_y": {
             "color": "#2a3f5f"
            },
            "marker": {
             "line": {
              "color": "#E5ECF6",
              "width": 0.5
             },
             "pattern": {
              "fillmode": "overlay",
              "size": 10,
              "solidity": 0.2
             }
            },
            "type": "bar"
           }
          ],
          "barpolar": [
           {
            "marker": {
             "line": {
              "color": "#E5ECF6",
              "width": 0.5
             },
             "pattern": {
              "fillmode": "overlay",
              "size": 10,
              "solidity": 0.2
             }
            },
            "type": "barpolar"
           }
          ],
          "carpet": [
           {
            "aaxis": {
             "endlinecolor": "#2a3f5f",
             "gridcolor": "white",
             "linecolor": "white",
             "minorgridcolor": "white",
             "startlinecolor": "#2a3f5f"
            },
            "baxis": {
             "endlinecolor": "#2a3f5f",
             "gridcolor": "white",
             "linecolor": "white",
             "minorgridcolor": "white",
             "startlinecolor": "#2a3f5f"
            },
            "type": "carpet"
           }
          ],
          "choropleth": [
           {
            "colorbar": {
             "outlinewidth": 0,
             "ticks": ""
            },
            "type": "choropleth"
           }
          ],
          "contour": [
           {
            "colorbar": {
             "outlinewidth": 0,
             "ticks": ""
            },
            "colorscale": [
             [
              0,
              "#0d0887"
             ],
             [
              0.1111111111111111,
              "#46039f"
             ],
             [
              0.2222222222222222,
              "#7201a8"
             ],
             [
              0.3333333333333333,
              "#9c179e"
             ],
             [
              0.4444444444444444,
              "#bd3786"
             ],
             [
              0.5555555555555556,
              "#d8576b"
             ],
             [
              0.6666666666666666,
              "#ed7953"
             ],
             [
              0.7777777777777778,
              "#fb9f3a"
             ],
             [
              0.8888888888888888,
              "#fdca26"
             ],
             [
              1,
              "#f0f921"
             ]
            ],
            "type": "contour"
           }
          ],
          "contourcarpet": [
           {
            "colorbar": {
             "outlinewidth": 0,
             "ticks": ""
            },
            "type": "contourcarpet"
           }
          ],
          "heatmap": [
           {
            "colorbar": {
             "outlinewidth": 0,
             "ticks": ""
            },
            "colorscale": [
             [
              0,
              "#0d0887"
             ],
             [
              0.1111111111111111,
              "#46039f"
             ],
             [
              0.2222222222222222,
              "#7201a8"
             ],
             [
              0.3333333333333333,
              "#9c179e"
             ],
             [
              0.4444444444444444,
              "#bd3786"
             ],
             [
              0.5555555555555556,
              "#d8576b"
             ],
             [
              0.6666666666666666,
              "#ed7953"
             ],
             [
              0.7777777777777778,
              "#fb9f3a"
             ],
             [
              0.8888888888888888,
              "#fdca26"
             ],
             [
              1,
              "#f0f921"
             ]
            ],
            "type": "heatmap"
           }
          ],
          "heatmapgl": [
           {
            "colorbar": {
             "outlinewidth": 0,
             "ticks": ""
            },
            "colorscale": [
             [
              0,
              "#0d0887"
             ],
             [
              0.1111111111111111,
              "#46039f"
             ],
             [
              0.2222222222222222,
              "#7201a8"
             ],
             [
              0.3333333333333333,
              "#9c179e"
             ],
             [
              0.4444444444444444,
              "#bd3786"
             ],
             [
              0.5555555555555556,
              "#d8576b"
             ],
             [
              0.6666666666666666,
              "#ed7953"
             ],
             [
              0.7777777777777778,
              "#fb9f3a"
             ],
             [
              0.8888888888888888,
              "#fdca26"
             ],
             [
              1,
              "#f0f921"
             ]
            ],
            "type": "heatmapgl"
           }
          ],
          "histogram": [
           {
            "marker": {
             "pattern": {
              "fillmode": "overlay",
              "size": 10,
              "solidity": 0.2
             }
            },
            "type": "histogram"
           }
          ],
          "histogram2d": [
           {
            "colorbar": {
             "outlinewidth": 0,
             "ticks": ""
            },
            "colorscale": [
             [
              0,
              "#0d0887"
             ],
             [
              0.1111111111111111,
              "#46039f"
             ],
             [
              0.2222222222222222,
              "#7201a8"
             ],
             [
              0.3333333333333333,
              "#9c179e"
             ],
             [
              0.4444444444444444,
              "#bd3786"
             ],
             [
              0.5555555555555556,
              "#d8576b"
             ],
             [
              0.6666666666666666,
              "#ed7953"
             ],
             [
              0.7777777777777778,
              "#fb9f3a"
             ],
             [
              0.8888888888888888,
              "#fdca26"
             ],
             [
              1,
              "#f0f921"
             ]
            ],
            "type": "histogram2d"
           }
          ],
          "histogram2dcontour": [
           {
            "colorbar": {
             "outlinewidth": 0,
             "ticks": ""
            },
            "colorscale": [
             [
              0,
              "#0d0887"
             ],
             [
              0.1111111111111111,
              "#46039f"
             ],
             [
              0.2222222222222222,
              "#7201a8"
             ],
             [
              0.3333333333333333,
              "#9c179e"
             ],
             [
              0.4444444444444444,
              "#bd3786"
             ],
             [
              0.5555555555555556,
              "#d8576b"
             ],
             [
              0.6666666666666666,
              "#ed7953"
             ],
             [
              0.7777777777777778,
              "#fb9f3a"
             ],
             [
              0.8888888888888888,
              "#fdca26"
             ],
             [
              1,
              "#f0f921"
             ]
            ],
            "type": "histogram2dcontour"
           }
          ],
          "mesh3d": [
           {
            "colorbar": {
             "outlinewidth": 0,
             "ticks": ""
            },
            "type": "mesh3d"
           }
          ],
          "parcoords": [
           {
            "line": {
             "colorbar": {
              "outlinewidth": 0,
              "ticks": ""
             }
            },
            "type": "parcoords"
           }
          ],
          "pie": [
           {
            "automargin": true,
            "type": "pie"
           }
          ],
          "scatter": [
           {
            "fillpattern": {
             "fillmode": "overlay",
             "size": 10,
             "solidity": 0.2
            },
            "type": "scatter"
           }
          ],
          "scatter3d": [
           {
            "line": {
             "colorbar": {
              "outlinewidth": 0,
              "ticks": ""
             }
            },
            "marker": {
             "colorbar": {
              "outlinewidth": 0,
              "ticks": ""
             }
            },
            "type": "scatter3d"
           }
          ],
          "scattercarpet": [
           {
            "marker": {
             "colorbar": {
              "outlinewidth": 0,
              "ticks": ""
             }
            },
            "type": "scattercarpet"
           }
          ],
          "scattergeo": [
           {
            "marker": {
             "colorbar": {
              "outlinewidth": 0,
              "ticks": ""
             }
            },
            "type": "scattergeo"
           }
          ],
          "scattergl": [
           {
            "marker": {
             "colorbar": {
              "outlinewidth": 0,
              "ticks": ""
             }
            },
            "type": "scattergl"
           }
          ],
          "scattermapbox": [
           {
            "marker": {
             "colorbar": {
              "outlinewidth": 0,
              "ticks": ""
             }
            },
            "type": "scattermapbox"
           }
          ],
          "scatterpolar": [
           {
            "marker": {
             "colorbar": {
              "outlinewidth": 0,
              "ticks": ""
             }
            },
            "type": "scatterpolar"
           }
          ],
          "scatterpolargl": [
           {
            "marker": {
             "colorbar": {
              "outlinewidth": 0,
              "ticks": ""
             }
            },
            "type": "scatterpolargl"
           }
          ],
          "scatterternary": [
           {
            "marker": {
             "colorbar": {
              "outlinewidth": 0,
              "ticks": ""
             }
            },
            "type": "scatterternary"
           }
          ],
          "surface": [
           {
            "colorbar": {
             "outlinewidth": 0,
             "ticks": ""
            },
            "colorscale": [
             [
              0,
              "#0d0887"
             ],
             [
              0.1111111111111111,
              "#46039f"
             ],
             [
              0.2222222222222222,
              "#7201a8"
             ],
             [
              0.3333333333333333,
              "#9c179e"
             ],
             [
              0.4444444444444444,
              "#bd3786"
             ],
             [
              0.5555555555555556,
              "#d8576b"
             ],
             [
              0.6666666666666666,
              "#ed7953"
             ],
             [
              0.7777777777777778,
              "#fb9f3a"
             ],
             [
              0.8888888888888888,
              "#fdca26"
             ],
             [
              1,
              "#f0f921"
             ]
            ],
            "type": "surface"
           }
          ],
          "table": [
           {
            "cells": {
             "fill": {
              "color": "#EBF0F8"
             },
             "line": {
              "color": "white"
             }
            },
            "header": {
             "fill": {
              "color": "#C8D4E3"
             },
             "line": {
              "color": "white"
             }
            },
            "type": "table"
           }
          ]
         },
         "layout": {
          "annotationdefaults": {
           "arrowcolor": "#2a3f5f",
           "arrowhead": 0,
           "arrowwidth": 1
          },
          "autotypenumbers": "strict",
          "coloraxis": {
           "colorbar": {
            "outlinewidth": 0,
            "ticks": ""
           }
          },
          "colorscale": {
           "diverging": [
            [
             0,
             "#8e0152"
            ],
            [
             0.1,
             "#c51b7d"
            ],
            [
             0.2,
             "#de77ae"
            ],
            [
             0.3,
             "#f1b6da"
            ],
            [
             0.4,
             "#fde0ef"
            ],
            [
             0.5,
             "#f7f7f7"
            ],
            [
             0.6,
             "#e6f5d0"
            ],
            [
             0.7,
             "#b8e186"
            ],
            [
             0.8,
             "#7fbc41"
            ],
            [
             0.9,
             "#4d9221"
            ],
            [
             1,
             "#276419"
            ]
           ],
           "sequential": [
            [
             0,
             "#0d0887"
            ],
            [
             0.1111111111111111,
             "#46039f"
            ],
            [
             0.2222222222222222,
             "#7201a8"
            ],
            [
             0.3333333333333333,
             "#9c179e"
            ],
            [
             0.4444444444444444,
             "#bd3786"
            ],
            [
             0.5555555555555556,
             "#d8576b"
            ],
            [
             0.6666666666666666,
             "#ed7953"
            ],
            [
             0.7777777777777778,
             "#fb9f3a"
            ],
            [
             0.8888888888888888,
             "#fdca26"
            ],
            [
             1,
             "#f0f921"
            ]
           ],
           "sequentialminus": [
            [
             0,
             "#0d0887"
            ],
            [
             0.1111111111111111,
             "#46039f"
            ],
            [
             0.2222222222222222,
             "#7201a8"
            ],
            [
             0.3333333333333333,
             "#9c179e"
            ],
            [
             0.4444444444444444,
             "#bd3786"
            ],
            [
             0.5555555555555556,
             "#d8576b"
            ],
            [
             0.6666666666666666,
             "#ed7953"
            ],
            [
             0.7777777777777778,
             "#fb9f3a"
            ],
            [
             0.8888888888888888,
             "#fdca26"
            ],
            [
             1,
             "#f0f921"
            ]
           ]
          },
          "colorway": [
           "#636efa",
           "#EF553B",
           "#00cc96",
           "#ab63fa",
           "#FFA15A",
           "#19d3f3",
           "#FF6692",
           "#B6E880",
           "#FF97FF",
           "#FECB52"
          ],
          "font": {
           "color": "#2a3f5f"
          },
          "geo": {
           "bgcolor": "white",
           "lakecolor": "white",
           "landcolor": "#E5ECF6",
           "showlakes": true,
           "showland": true,
           "subunitcolor": "white"
          },
          "hoverlabel": {
           "align": "left"
          },
          "hovermode": "closest",
          "mapbox": {
           "style": "light"
          },
          "paper_bgcolor": "white",
          "plot_bgcolor": "#E5ECF6",
          "polar": {
           "angularaxis": {
            "gridcolor": "white",
            "linecolor": "white",
            "ticks": ""
           },
           "bgcolor": "#E5ECF6",
           "radialaxis": {
            "gridcolor": "white",
            "linecolor": "white",
            "ticks": ""
           }
          },
          "scene": {
           "xaxis": {
            "backgroundcolor": "#E5ECF6",
            "gridcolor": "white",
            "gridwidth": 2,
            "linecolor": "white",
            "showbackground": true,
            "ticks": "",
            "zerolinecolor": "white"
           },
           "yaxis": {
            "backgroundcolor": "#E5ECF6",
            "gridcolor": "white",
            "gridwidth": 2,
            "linecolor": "white",
            "showbackground": true,
            "ticks": "",
            "zerolinecolor": "white"
           },
           "zaxis": {
            "backgroundcolor": "#E5ECF6",
            "gridcolor": "white",
            "gridwidth": 2,
            "linecolor": "white",
            "showbackground": true,
            "ticks": "",
            "zerolinecolor": "white"
           }
          },
          "shapedefaults": {
           "line": {
            "color": "#2a3f5f"
           }
          },
          "ternary": {
           "aaxis": {
            "gridcolor": "white",
            "linecolor": "white",
            "ticks": ""
           },
           "baxis": {
            "gridcolor": "white",
            "linecolor": "white",
            "ticks": ""
           },
           "bgcolor": "#E5ECF6",
           "caxis": {
            "gridcolor": "white",
            "linecolor": "white",
            "ticks": ""
           }
          },
          "title": {
           "x": 0.05
          },
          "xaxis": {
           "automargin": true,
           "gridcolor": "white",
           "linecolor": "white",
           "ticks": "",
           "title": {
            "standoff": 15
           },
           "zerolinecolor": "white",
           "zerolinewidth": 2
          },
          "yaxis": {
           "automargin": true,
           "gridcolor": "white",
           "linecolor": "white",
           "ticks": "",
           "title": {
            "standoff": 15
           },
           "zerolinecolor": "white",
           "zerolinewidth": 2
          }
         }
        },
        "title": {
         "font": {
          "size": 18
         },
         "text": "Model Behavior: Training on Clean vs Noisy Data",
         "x": 0.5
        },
        "width": 1200,
        "xaxis": {
         "anchor": "y",
         "domain": [
          0,
          1
         ],
         "gridcolor": "LightGrey",
         "gridwidth": 1,
         "showgrid": true,
         "title": {
          "text": "Training Performance (Clean Data as % of Noisy Data)"
         },
         "zeroline": true,
         "zerolinecolor": "Black",
         "zerolinewidth": 1
        },
        "yaxis": {
         "anchor": "x",
         "domain": [
          0,
          1
         ],
         "gridcolor": "LightGrey",
         "gridwidth": 1,
         "showgrid": true,
         "title": {
          "text": "Test Performance (% of Train Performance)"
         },
         "zeroline": true,
         "zerolinecolor": "Black",
         "zerolinewidth": 1
        }
       }
      }
     },
     "metadata": {},
     "output_type": "display_data"
    }
   ],
   "source": [
    "fig = px.scatter(\n",
    "    df_overfitting_rmse,\n",
    "    x='Train_Mid_as_percentage_of_Train_Full',\n",
    "    y='Test_Mid_as_percentage_of_Train_Mid',\n",
    "    color='Model',\n",
    "    symbol='Descriptor',\n",
    "    hover_data=['Metric'],\n",
    "    labels={\n",
    "        'Train_Mid_as_percentage_of_Train_Full': 'Performance (Clean Data as % of Noisy Data)',\n",
    "        'Test_Mid_as_percentage_of_Train_Mid': 'Test Performance (% of Train Performance)'\n",
    "    },\n",
    "    title=\"Model Behavior: Training on Clean vs Noisy Data\"\n",
    ")\n",
    "\n",
    "# Update layout for clarity\n",
    "fig.update_layout(\n",
    "    width=1200,\n",
    "    height=800,\n",
    "    legend=dict(\n",
    "        title=\"Legend\",\n",
    "        orientation=\"h\",\n",
    "        yanchor=\"bottom\",\n",
    "        y=-0.3,\n",
    "        xanchor=\"center\",\n",
    "        x=0.5\n",
    "    ),\n",
    "    margin=dict(l=50, r=50, t=60, b=100),\n",
    "    font=dict(size=14),\n",
    "    title_font=dict(size=18),\n",
    "    title_x=0.5,  # Center title\n",
    ")\n",
    "\n",
    "# Update marker styles for better distinction\n",
    "fig.update_traces(marker=dict(size=12, line=dict(width=2, color='DarkSlateGrey')))\n",
    "\n",
    "# Add gridlines and improve axis visibility\n",
    "fig.update_xaxes(\n",
    "    title=\"Training Performance (Clean Data as % of Noisy Data)\",\n",
    "    showgrid=True,\n",
    "    gridwidth=1,\n",
    "    gridcolor='LightGrey',\n",
    "    zeroline=True,\n",
    "    zerolinewidth=1,\n",
    "    zerolinecolor='Black'\n",
    ")\n",
    "fig.update_yaxes(\n",
    "    title=\"Test Performance (% of Train Performance)\",\n",
    "    showgrid=True,\n",
    "    gridwidth=1,\n",
    "    gridcolor='LightGrey',\n",
    "    zeroline=True,\n",
    "    zerolinewidth=1,\n",
    "    zerolinecolor='Black'\n",
    ")\n",
    "\n",
    "fig.show()"
   ]
  },
  {
   "cell_type": "code",
   "execution_count": null,
   "metadata": {},
   "outputs": [],
   "source": [
    "#now plot ratio of test to train performance for model trained on full, versus the test peforamnce as before\n"
   ]
  }
 ],
 "metadata": {
  "kernelspec": {
   "display_name": "base",
   "language": "python",
   "name": "python3"
  },
  "language_info": {
   "codemirror_mode": {
    "name": "ipython",
    "version": 3
   },
   "file_extension": ".py",
   "mimetype": "text/x-python",
   "name": "python",
   "nbconvert_exporter": "python",
   "pygments_lexer": "ipython3",
   "version": "3.9.18"
  }
 },
 "nbformat": 4,
 "nbformat_minor": 2
}
