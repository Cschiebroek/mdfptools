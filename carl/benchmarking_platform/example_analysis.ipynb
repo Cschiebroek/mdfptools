{
 "cells": [
  {
   "cell_type": "code",
   "execution_count": null,
   "metadata": {},
   "outputs": [],
   "source": [
    "# Example Analysis of Model Performance\n",
    "\n",
    "import pandas as pd\n",
    "import matplotlib.pyplot as plt\n",
    "import seaborn as sns\n",
    "\n",
    "# Load data\n",
    "data = pd.read_pickle('results/all_models_descriptors.pkl')\n",
    "\n",
    "# Create plots\n",
    "reals_list = data['reals_list']\n",
    "predictions_list = data['predictions_list']\n",
    "molregnos_list = data['molregnos_list']\n",
    "titles = data['combined_titles']\n",
    "\n",
    "# Example plot\n",
    "plt.figure(figsize=(10, 8))\n",
    "sns.scatterplot(x=reals_list[0], y=predictions_list[0])\n",
    "plt.title(titles[0])\n",
    "plt.xlabel('Actual Values')\n",
    "plt.ylabel('Predicted Values')\n",
    "plt.show()\n"
   ]
  }
 ],
 "metadata": {
  "language_info": {
   "name": "python"
  }
 },
 "nbformat": 4,
 "nbformat_minor": 2
}
