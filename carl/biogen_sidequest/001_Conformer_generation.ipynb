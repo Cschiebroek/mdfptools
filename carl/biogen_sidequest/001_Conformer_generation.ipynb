{
 "cells": [
  {
   "cell_type": "code",
   "execution_count": 1,
   "metadata": {},
   "outputs": [],
   "source": [
    "import pandas as pd"
   ]
  },
  {
   "cell_type": "code",
   "execution_count": 12,
   "metadata": {},
   "outputs": [
    {
     "data": {
      "text/plain": [
       "Index(['Internal ID', 'Vendor ID', 'SMILES', 'CollectionName',\n",
       "       'LOG HLM_CLint (mL/min/kg)', 'LOG MDR1-MDCK ER (B-A/A-B)',\n",
       "       'LOG SOLUBILITY PH 6.8 (ug/mL)',\n",
       "       'LOG PLASMA PROTEIN BINDING (HUMAN) (% unbound)',\n",
       "       'LOG PLASMA PROTEIN BINDING (RAT) (% unbound)',\n",
       "       'LOG RLM_CLint (mL/min/kg)'],\n",
       "      dtype='object')"
      ]
     },
     "execution_count": 12,
     "metadata": {},
     "output_type": "execute_result"
    }
   ],
   "source": [
    "ADME_public_set = pd.read_csv('ADME_public_set_3521.csv')\n",
    "smiles = ADME_public_set['SMILES']\n",
    "ADME_public_set.columns"
   ]
  },
  {
   "cell_type": "code",
   "execution_count": 20,
   "metadata": {},
   "outputs": [],
   "source": [
    "#get subset where solubility is not NaN\n",
    "Solubility_set = ADME_public_set.dropna(subset=['LOG SOLUBILITY PH 6.8 (ug/mL)'])\n",
    "len(Solubility_set)\n",
    "smiles = Solubility_set['SMILES']\n",
    "Solubility_set\n",
    "internal_ids = Solubility_set['Internal ID']\n",
    "vendors_ids = Solubility_set['Vendor ID']"
   ]
  },
  {
   "cell_type": "code",
   "execution_count": 23,
   "metadata": {},
   "outputs": [
    {
     "name": "stderr",
     "output_type": "stream",
     "text": [
      "2173it [00:54, 39.59it/s]\n"
     ]
    }
   ],
   "source": [
    "from rdkit.Chem import rdDistGeom\n",
    "from rdkit import Chem\n",
    "from rdkit.Chem import AllChem\n",
    "from rdkit.Chem import rdmolops\n",
    "from tqdm import tqdm\n",
    "mols_3d = []\n",
    "\n",
    "for smi,iid,vid in tqdm(zip(smiles, internal_ids, vendors_ids)):\n",
    "    mol = Chem.AddHs(Chem.MolFromSmiles(smi))\n",
    "    AllChem.EmbedMolecule(mol, enforceChirality=True, randomSeed=0xf00d)\n",
    "    rdmolops.AssignStereochemistryFrom3D(mol)\n",
    "    used_smiles = Chem.MolToSmiles(mol, isomericSmiles=True)\n",
    "    mol.SetProp(\"_Name\", smi)\n",
    "    mol.UpdatePropertyCache(strict=False)\n",
    "    mols_3d.append(mol)\n",
    "    molblock = Chem.MolToMolBlock(mol)\n",
    "    print(molblock,file=open(f'/localhome/cschiebroek/MDFPs/mdfptools/carl/biogen_sidequest/mols_3d_biogen/{iid}.mol','w+'))\n"
   ]
  }
 ],
 "metadata": {
  "kernelspec": {
   "display_name": "mdfp_carl",
   "language": "python",
   "name": "python3"
  },
  "language_info": {
   "codemirror_mode": {
    "name": "ipython",
    "version": 3
   },
   "file_extension": ".py",
   "mimetype": "text/x-python",
   "name": "python",
   "nbconvert_exporter": "python",
   "pygments_lexer": "ipython3",
   "version": "3.11.5"
  }
 },
 "nbformat": 4,
 "nbformat_minor": 2
}
