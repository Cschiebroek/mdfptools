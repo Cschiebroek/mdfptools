{
 "cells": [
  {
   "cell_type": "code",
   "execution_count": null,
   "metadata": {},
   "outputs": [],
   "source": []
  },
  {
   "cell_type": "code",
   "execution_count": 1,
   "metadata": {},
   "outputs": [],
   "source": [
    "from openff.evaluator.properties import Density"
   ]
  },
  {
   "cell_type": "code",
   "execution_count": 2,
   "metadata": {},
   "outputs": [],
   "source": [
    "schema = Density.default_simulation_schema()"
   ]
  },
  {
   "cell_type": "code",
   "execution_count": 3,
   "metadata": {},
   "outputs": [
    {
     "name": "stdout",
     "output_type": "stream",
     "text": [
      "build_coordinates \n",
      " BuildCoordinatesPackmol \n",
      " {'.allow_merging': True, '.max_molecules': 1000, '.count_exact_amount': True, '.mass_density': <Quantity(0.95, 'gram / milliliter')>, '.box_aspect_ratio': [1.0, 1.0, 1.0], '.substance': <ProtocolPath full_path=global.substance>, '.tolerance': <Quantity(2.0, 'angstrom')>, '.verbose_packmol': False, '.retain_packmol_files': False} \n",
      "\n",
      "assign_parameters \n",
      " BaseBuildSystem \n",
      " {'.allow_merging': True, '.force_field_path': <ProtocolPath full_path=global.force_field_path>, '.coordinate_file_path': <ProtocolPath full_path=build_coordinates.coordinate_file_path>, '.substance': <ProtocolPath full_path=build_coordinates.output_substance>} \n",
      "\n",
      "energy_minimisation \n",
      " OpenMMEnergyMinimisation \n",
      " {'.allow_merging': True, '.input_coordinate_file': <ProtocolPath full_path=build_coordinates.coordinate_file_path>, '.parameterized_system': <ProtocolPath full_path=assign_parameters.parameterized_system>, '.tolerance': <Quantity(10.0, 'kilojoule / mole')>, '.max_iterations': 0, '.enable_pbc': True} \n",
      "\n",
      "equilibration_simulation \n",
      " OpenMMSimulation \n",
      " {'.allow_merging': True, '.steps_per_iteration': 100000, '.total_number_of_iterations': 1, '.output_frequency': 5000, '.checkpoint_frequency': 10, '.timestep': <Quantity(2.0, 'femtosecond')>, '.thermodynamic_state': <ProtocolPath full_path=global.thermodynamic_state>, '.ensemble': <Ensemble.NPT: 'NPT'>, '.thermostat_friction': <Quantity(1.0, '1 / picosecond')>, '.input_coordinate_file': <ProtocolPath full_path=energy_minimisation.output_coordinate_file>, '.parameterized_system': <ProtocolPath full_path=assign_parameters.parameterized_system>, '.enable_pbc': True, '.allow_gpu_platforms': True, '.high_precision': False, '.gradient_parameters': []} \n",
      "\n",
      "conditional_group \n",
      " ConditionalGroup \n",
      " {'.allow_merging': True, '.conditions': [], '.max_iterations': 100} \n",
      "\n",
      "decorrelate_trajectory \n",
      " DecorrelateTrajectory \n",
      " {'.allow_merging': True, '.time_series_statistics': <ProtocolPath full_path=conditional_group/average_density.time_series_statistics>, '.input_coordinate_file': <ProtocolPath full_path=conditional_group/production_simulation.output_coordinate_file>, '.input_trajectory_path': <ProtocolPath full_path=conditional_group/production_simulation.trajectory_file_path>} \n",
      "\n",
      "decorrelate_observables \n",
      " DecorrelateObservables \n",
      " {'.allow_merging': True, '.time_series_statistics': <ProtocolPath full_path=conditional_group/average_density.time_series_statistics>, '.input_observables': <ProtocolPath full_path=conditional_group/production_simulation.observables>} \n",
      "\n"
     ]
    }
   ],
   "source": [
    "for s in schema.workflow_schema.protocol_schemas:\n",
    "    print(s.id,\"\\n\",s.type,\"\\n\",s.inputs,\"\\n\")"
   ]
  },
  {
   "cell_type": "code",
   "execution_count": 4,
   "metadata": {},
   "outputs": [],
   "source": [
    "density_schema = Density.default_simulation_schema(n_molecules=256)"
   ]
  },
  {
   "cell_type": "code",
   "execution_count": 5,
   "metadata": {},
   "outputs": [],
   "source": [
    "\n",
    "from openff.evaluator.client import RequestOptions\n",
    "\n",
    "# Create an options object which defines how the data set should be estimated.\n",
    "estimation_options = RequestOptions()\n",
    "# Specify that we only wish to use molecular simulation to estimate the data set.\n",
    "estimation_options.calculation_layers = [\"SimulationLayer\"]\n",
    "\n",
    "# Add our custom schemas, specifying that the should be used by the 'SimulationLayer'\n",
    "estimation_options.add_schema(\"SimulationLayer\", \"Density\", density_schema)\n",
    "\n"
   ]
  },
  {
   "cell_type": "code",
   "execution_count": 6,
   "metadata": {},
   "outputs": [],
   "source": [
    "import os\n",
    "\n",
    "from openff.evaluator.backends import ComputeResources\n",
    "from openff.evaluator.backends.dask import DaskLocalCluster\n",
    "\n",
    "os.environ[\"CUDA_VISIBLE_DEVICES\"] = \"0\"\n",
    "\n",
    "calculation_backend = DaskLocalCluster(\n",
    "    number_of_workers=1,\n",
    "    resources_per_worker=ComputeResources(\n",
    "        number_of_threads=1,\n",
    "        number_of_gpus=1,\n",
    "        preferred_gpu_toolkit=ComputeResources.GPUToolkit.CUDA,\n",
    "    ),\n",
    ")\n",
    "calculation_backend.start()\n"
   ]
  },
  {
   "cell_type": "code",
   "execution_count": 7,
   "metadata": {},
   "outputs": [],
   "source": [
    "from openff.evaluator.datasets import PhysicalPropertyDataSet\n",
    "data_set = PhysicalPropertyDataSet()\n"
   ]
  },
  {
   "cell_type": "code",
   "execution_count": 8,
   "metadata": {},
   "outputs": [],
   "source": [
    "from openff.units import unit\n",
    "\n",
    "from openff.evaluator.thermodynamics import ThermodynamicState\n",
    "\n",
    "thermodynamic_state = ThermodynamicState(\n",
    "    temperature=298.15 * unit.kelvin, pressure=1.0 * unit.atmosphere\n",
    ")"
   ]
  },
  {
   "cell_type": "code",
   "execution_count": 9,
   "metadata": {},
   "outputs": [],
   "source": [
    "from openff.evaluator.substances import Substance\n",
    "\n",
    "ethanol = Substance.from_components(\"CCO\")"
   ]
  },
  {
   "cell_type": "code",
   "execution_count": 10,
   "metadata": {},
   "outputs": [],
   "source": [
    "from openff.evaluator.datasets import PropertyPhase\n",
    "from openff.evaluator.properties import Density\n",
    "ethanol_density = Density(\n",
    "    thermodynamic_state=thermodynamic_state,\n",
    "    phase=PropertyPhase.Liquid,\n",
    "    substance=ethanol,\n",
    "    value=1.0 * unit.gram / unit.milliliter,\n",
    ")"
   ]
  },
  {
   "cell_type": "code",
   "execution_count": 11,
   "metadata": {},
   "outputs": [],
   "source": [
    "data_set.add_properties(ethanol_density)"
   ]
  },
  {
   "cell_type": "code",
   "execution_count": 12,
   "metadata": {},
   "outputs": [
    {
     "data": {
      "text/html": [
       "<div>\n",
       "<style scoped>\n",
       "    .dataframe tbody tr th:only-of-type {\n",
       "        vertical-align: middle;\n",
       "    }\n",
       "\n",
       "    .dataframe tbody tr th {\n",
       "        vertical-align: top;\n",
       "    }\n",
       "\n",
       "    .dataframe thead th {\n",
       "        text-align: right;\n",
       "    }\n",
       "</style>\n",
       "<table border=\"1\" class=\"dataframe\">\n",
       "  <thead>\n",
       "    <tr style=\"text-align: right;\">\n",
       "      <th></th>\n",
       "      <th>Id</th>\n",
       "      <th>Temperature (K)</th>\n",
       "      <th>Pressure (kPa)</th>\n",
       "      <th>Phase</th>\n",
       "      <th>N Components</th>\n",
       "      <th>Component 1</th>\n",
       "      <th>Role 1</th>\n",
       "      <th>Mole Fraction 1</th>\n",
       "      <th>Exact Amount 1</th>\n",
       "      <th>Density Value (g / ml)</th>\n",
       "      <th>Density Uncertainty (g / ml)</th>\n",
       "      <th>Source</th>\n",
       "    </tr>\n",
       "  </thead>\n",
       "  <tbody>\n",
       "    <tr>\n",
       "      <th>0</th>\n",
       "      <td>69872be6517f4e22bdab4903c2c292ef</td>\n",
       "      <td>298.15</td>\n",
       "      <td>101.325</td>\n",
       "      <td>Liquid</td>\n",
       "      <td>1</td>\n",
       "      <td>CCO</td>\n",
       "      <td>Solvent</td>\n",
       "      <td>1.0</td>\n",
       "      <td>None</td>\n",
       "      <td>1.0</td>\n",
       "      <td>None</td>\n",
       "      <td>None</td>\n",
       "    </tr>\n",
       "  </tbody>\n",
       "</table>\n",
       "</div>"
      ],
      "text/plain": [
       "                                 Id  Temperature (K)  Pressure (kPa)   Phase  \\\n",
       "0  69872be6517f4e22bdab4903c2c292ef           298.15         101.325  Liquid   \n",
       "\n",
       "   N Components Component 1   Role 1  Mole Fraction 1 Exact Amount 1  \\\n",
       "0             1         CCO  Solvent              1.0           None   \n",
       "\n",
       "   Density Value (g / ml) Density Uncertainty (g / ml) Source  \n",
       "0                     1.0                         None   None  "
      ]
     },
     "execution_count": 12,
     "metadata": {},
     "output_type": "execute_result"
    }
   ],
   "source": [
    "data_set.to_pandas().head()"
   ]
  },
  {
   "cell_type": "code",
   "execution_count": 13,
   "metadata": {},
   "outputs": [],
   "source": [
    "from openff.evaluator.server import EvaluatorServer\n",
    "\n",
    "evaluator_server = EvaluatorServer(calculation_backend=calculation_backend)\n",
    "evaluator_server.start(asynchronous=True)"
   ]
  },
  {
   "cell_type": "code",
   "execution_count": 14,
   "metadata": {},
   "outputs": [
    {
     "name": "stderr",
     "output_type": "stream",
     "text": [
      "Warning: Unable to load toolkit 'OpenEye Toolkit'. The Open Force Field Toolkit does not require the OpenEye Toolkits, and can use RDKit/AmberTools instead. However, if you have a valid license for the OpenEye Toolkits, consider installing them for faster performance and additional file format support: https://docs.eyesopen.com/toolkits/python/quickstart-python/linuxosx.html OpenEye offers free Toolkit licenses for academics: https://www.eyesopen.com/academic-licensing\n"
     ]
    }
   ],
   "source": [
    "from openff.evaluator.forcefield import SmirnoffForceFieldSource\n",
    "\n",
    "force_field_path = \"openff-1.0.0.offxml\"\n",
    "force_field_source = SmirnoffForceFieldSource.from_path(force_field_path)"
   ]
  },
  {
   "cell_type": "code",
   "execution_count": 15,
   "metadata": {},
   "outputs": [],
   "source": [
    "from openff.evaluator.client import EvaluatorClient\n",
    "\n",
    "evaluator_client = EvaluatorClient()\n",
    "\n",
    "request, exception = evaluator_client.request_estimate(\n",
    "    property_set=data_set,\n",
    "    force_field_source=force_field_source,\n",
    "    options=estimation_options,\n",
    ")\n",
    "\n",
    "assert exception is None"
   ]
  },
  {
   "cell_type": "code",
   "execution_count": 16,
   "metadata": {},
   "outputs": [],
   "source": [
    "# Wait for the results.\n",
    "results, exception = request.results(synchronous=True, polling_interval=30)\n",
    "assert exception is None\n"
   ]
  },
  {
   "cell_type": "code",
   "execution_count": 17,
   "metadata": {},
   "outputs": [
    {
     "name": "stdout",
     "output_type": "stream",
     "text": [
      "0\n",
      "0\n",
      "1\n",
      "1\n"
     ]
    }
   ],
   "source": [
    "\n",
    "\n",
    "print(len(results.queued_properties))\n",
    "\n",
    "print(len(results.estimated_properties))\n",
    "\n",
    "print(len(results.unsuccessful_properties))\n",
    "print(len(results.exceptions))\n",
    "\n"
   ]
  },
  {
   "cell_type": "code",
   "execution_count": 18,
   "metadata": {},
   "outputs": [
    {
     "ename": "TypeError",
     "evalue": "unhashable type: 'UndefinedAttribute'",
     "output_type": "error",
     "traceback": [
      "\u001b[0;31m---------------------------------------------------------------------------\u001b[0m",
      "\u001b[0;31mTypeError\u001b[0m                                 Traceback (most recent call last)",
      "File \u001b[0;32m/localhome/cschiebroek/.conda/envs/openff-evaluator/lib/python3.11/site-packages/IPython/core/formatters.py:711\u001b[0m, in \u001b[0;36mPlainTextFormatter.__call__\u001b[0;34m(self, obj)\u001b[0m\n\u001b[1;32m    704\u001b[0m stream \u001b[38;5;241m=\u001b[39m StringIO()\n\u001b[1;32m    705\u001b[0m printer \u001b[38;5;241m=\u001b[39m pretty\u001b[38;5;241m.\u001b[39mRepresentationPrinter(stream, \u001b[38;5;28mself\u001b[39m\u001b[38;5;241m.\u001b[39mverbose,\n\u001b[1;32m    706\u001b[0m     \u001b[38;5;28mself\u001b[39m\u001b[38;5;241m.\u001b[39mmax_width, \u001b[38;5;28mself\u001b[39m\u001b[38;5;241m.\u001b[39mnewline,\n\u001b[1;32m    707\u001b[0m     max_seq_length\u001b[38;5;241m=\u001b[39m\u001b[38;5;28mself\u001b[39m\u001b[38;5;241m.\u001b[39mmax_seq_length,\n\u001b[1;32m    708\u001b[0m     singleton_pprinters\u001b[38;5;241m=\u001b[39m\u001b[38;5;28mself\u001b[39m\u001b[38;5;241m.\u001b[39msingleton_printers,\n\u001b[1;32m    709\u001b[0m     type_pprinters\u001b[38;5;241m=\u001b[39m\u001b[38;5;28mself\u001b[39m\u001b[38;5;241m.\u001b[39mtype_printers,\n\u001b[1;32m    710\u001b[0m     deferred_pprinters\u001b[38;5;241m=\u001b[39m\u001b[38;5;28mself\u001b[39m\u001b[38;5;241m.\u001b[39mdeferred_printers)\n\u001b[0;32m--> 711\u001b[0m \u001b[43mprinter\u001b[49m\u001b[38;5;241;43m.\u001b[39;49m\u001b[43mpretty\u001b[49m\u001b[43m(\u001b[49m\u001b[43mobj\u001b[49m\u001b[43m)\u001b[49m\n\u001b[1;32m    712\u001b[0m printer\u001b[38;5;241m.\u001b[39mflush()\n\u001b[1;32m    713\u001b[0m \u001b[38;5;28;01mreturn\u001b[39;00m stream\u001b[38;5;241m.\u001b[39mgetvalue()\n",
      "File \u001b[0;32m/localhome/cschiebroek/.conda/envs/openff-evaluator/lib/python3.11/site-packages/IPython/lib/pretty.py:411\u001b[0m, in \u001b[0;36mRepresentationPrinter.pretty\u001b[0;34m(self, obj)\u001b[0m\n\u001b[1;32m    408\u001b[0m                         \u001b[38;5;28;01mreturn\u001b[39;00m meth(obj, \u001b[38;5;28mself\u001b[39m, cycle)\n\u001b[1;32m    409\u001b[0m                 \u001b[38;5;28;01mif\u001b[39;00m \u001b[38;5;28mcls\u001b[39m \u001b[38;5;129;01mis\u001b[39;00m \u001b[38;5;129;01mnot\u001b[39;00m \u001b[38;5;28mobject\u001b[39m \\\n\u001b[1;32m    410\u001b[0m                         \u001b[38;5;129;01mand\u001b[39;00m \u001b[38;5;28mcallable\u001b[39m(\u001b[38;5;28mcls\u001b[39m\u001b[38;5;241m.\u001b[39m\u001b[38;5;18m__dict__\u001b[39m\u001b[38;5;241m.\u001b[39mget(\u001b[38;5;124m'\u001b[39m\u001b[38;5;124m__repr__\u001b[39m\u001b[38;5;124m'\u001b[39m)):\n\u001b[0;32m--> 411\u001b[0m                     \u001b[38;5;28;01mreturn\u001b[39;00m \u001b[43m_repr_pprint\u001b[49m\u001b[43m(\u001b[49m\u001b[43mobj\u001b[49m\u001b[43m,\u001b[49m\u001b[43m \u001b[49m\u001b[38;5;28;43mself\u001b[39;49m\u001b[43m,\u001b[49m\u001b[43m \u001b[49m\u001b[43mcycle\u001b[49m\u001b[43m)\u001b[49m\n\u001b[1;32m    413\u001b[0m     \u001b[38;5;28;01mreturn\u001b[39;00m _default_pprint(obj, \u001b[38;5;28mself\u001b[39m, cycle)\n\u001b[1;32m    414\u001b[0m \u001b[38;5;28;01mfinally\u001b[39;00m:\n",
      "File \u001b[0;32m/localhome/cschiebroek/.conda/envs/openff-evaluator/lib/python3.11/site-packages/IPython/lib/pretty.py:779\u001b[0m, in \u001b[0;36m_repr_pprint\u001b[0;34m(obj, p, cycle)\u001b[0m\n\u001b[1;32m    777\u001b[0m \u001b[38;5;250m\u001b[39m\u001b[38;5;124;03m\"\"\"A pprint that just redirects to the normal repr function.\"\"\"\u001b[39;00m\n\u001b[1;32m    778\u001b[0m \u001b[38;5;66;03m# Find newlines and replace them with p.break_()\u001b[39;00m\n\u001b[0;32m--> 779\u001b[0m output \u001b[38;5;241m=\u001b[39m \u001b[38;5;28mrepr\u001b[39m(obj)\n\u001b[1;32m    780\u001b[0m lines \u001b[38;5;241m=\u001b[39m output\u001b[38;5;241m.\u001b[39msplitlines()\n\u001b[1;32m    781\u001b[0m \u001b[38;5;28;01mwith\u001b[39;00m p\u001b[38;5;241m.\u001b[39mgroup():\n",
      "File \u001b[0;32m/localhome/cschiebroek/.conda/envs/openff-evaluator/lib/python3.11/site-packages/openff/evaluator/datasets/datasets.py:686\u001b[0m, in \u001b[0;36mPhysicalPropertyDataSet.__repr__\u001b[0;34m(self)\u001b[0m\n\u001b[1;32m    685\u001b[0m \u001b[38;5;28;01mdef\u001b[39;00m \u001b[38;5;21m__repr__\u001b[39m(\u001b[38;5;28mself\u001b[39m):\n\u001b[0;32m--> 686\u001b[0m     \u001b[38;5;28;01mreturn\u001b[39;00m \u001b[38;5;124mf\u001b[39m\u001b[38;5;124m\"\u001b[39m\u001b[38;5;124m<PhysicalPropertyDataSet \u001b[39m\u001b[38;5;132;01m{\u001b[39;00m\u001b[38;5;28;43mstr\u001b[39;49m\u001b[43m(\u001b[49m\u001b[38;5;28;43mself\u001b[39;49m\u001b[43m)\u001b[49m\u001b[38;5;132;01m}\u001b[39;00m\u001b[38;5;124m>\u001b[39m\u001b[38;5;124m\"\u001b[39m\n",
      "File \u001b[0;32m/localhome/cschiebroek/.conda/envs/openff-evaluator/lib/python3.11/site-packages/openff/evaluator/datasets/datasets.py:682\u001b[0m, in \u001b[0;36mPhysicalPropertyDataSet.__str__\u001b[0;34m(self)\u001b[0m\n\u001b[1;32m    679\u001b[0m \u001b[38;5;28;01mdef\u001b[39;00m \u001b[38;5;21m__str__\u001b[39m(\u001b[38;5;28mself\u001b[39m):\n\u001b[1;32m    680\u001b[0m     \u001b[38;5;28;01mreturn\u001b[39;00m (\n\u001b[1;32m    681\u001b[0m         \u001b[38;5;124mf\u001b[39m\u001b[38;5;124m\"\u001b[39m\u001b[38;5;124mn_properties=\u001b[39m\u001b[38;5;132;01m{\u001b[39;00m\u001b[38;5;28mlen\u001b[39m(\u001b[38;5;28mself\u001b[39m)\u001b[38;5;132;01m}\u001b[39;00m\u001b[38;5;124m n_substances=\u001b[39m\u001b[38;5;132;01m{\u001b[39;00m\u001b[38;5;28mlen\u001b[39m(\u001b[38;5;28mself\u001b[39m\u001b[38;5;241m.\u001b[39msubstances)\u001b[38;5;132;01m}\u001b[39;00m\u001b[38;5;124m \u001b[39m\u001b[38;5;124m\"\u001b[39m\n\u001b[0;32m--> 682\u001b[0m         \u001b[38;5;124mf\u001b[39m\u001b[38;5;124m\"\u001b[39m\u001b[38;5;124mn_sources=\u001b[39m\u001b[38;5;132;01m{\u001b[39;00m\u001b[38;5;28mlen\u001b[39m(\u001b[38;5;28;43mself\u001b[39;49m\u001b[38;5;241;43m.\u001b[39;49m\u001b[43msources\u001b[49m)\u001b[38;5;132;01m}\u001b[39;00m\u001b[38;5;124m\"\u001b[39m\n\u001b[1;32m    683\u001b[0m     )\n",
      "File \u001b[0;32m/localhome/cschiebroek/.conda/envs/openff-evaluator/lib/python3.11/site-packages/openff/evaluator/datasets/datasets.py:250\u001b[0m, in \u001b[0;36mPhysicalPropertyDataSet.sources\u001b[0;34m(self)\u001b[0m\n\u001b[1;32m    246\u001b[0m \u001b[38;5;129m@property\u001b[39m\n\u001b[1;32m    247\u001b[0m \u001b[38;5;28;01mdef\u001b[39;00m \u001b[38;5;21msources\u001b[39m(\u001b[38;5;28mself\u001b[39m):\n\u001b[1;32m    248\u001b[0m \u001b[38;5;250m    \u001b[39m\u001b[38;5;124;03m\"\"\"set of Source: The sources from which the properties in this data set were\u001b[39;00m\n\u001b[1;32m    249\u001b[0m \u001b[38;5;124;03m    gathered.\"\"\"\u001b[39;00m\n\u001b[0;32m--> 250\u001b[0m     \u001b[38;5;28;01mreturn\u001b[39;00m \u001b[38;5;28;43mset\u001b[39;49m\u001b[43m(\u001b[49m\u001b[43m[\u001b[49m\u001b[43mx\u001b[49m\u001b[38;5;241;43m.\u001b[39;49m\u001b[43msource\u001b[49m\u001b[43m \u001b[49m\u001b[38;5;28;43;01mfor\u001b[39;49;00m\u001b[43m \u001b[49m\u001b[43mx\u001b[49m\u001b[43m \u001b[49m\u001b[38;5;129;43;01min\u001b[39;49;00m\u001b[43m \u001b[49m\u001b[38;5;28;43mself\u001b[39;49m\u001b[38;5;241;43m.\u001b[39;49m\u001b[43m_properties\u001b[49m\u001b[43m]\u001b[49m\u001b[43m)\u001b[49m\n",
      "\u001b[0;31mTypeError\u001b[0m: unhashable type: 'UndefinedAttribute'"
     ]
    }
   ],
   "source": [
    "results.unsuccessful_properties"
   ]
  },
  {
   "cell_type": "code",
   "execution_count": 19,
   "metadata": {},
   "outputs": [],
   "source": [
    "\n",
    "from openff.evaluator.workflow.schemas import WorkflowSchema\n",
    "# Create the schema object.\n",
    "schema = WorkflowSchema()\n",
    "# Add the individual protocol's schema representations to the workflow schema.\n",
    "schema.protocol_schemas = [density_schema]"
   ]
  },
  {
   "cell_type": "code",
   "execution_count": 20,
   "metadata": {},
   "outputs": [
    {
     "data": {
      "text/plain": [
       "['protocol_schemas',\n",
       " 'protocol_replicators',\n",
       " 'final_value_source',\n",
       " 'outputs_to_store']"
      ]
     },
     "execution_count": 20,
     "metadata": {},
     "output_type": "execute_result"
    }
   ],
   "source": [
    "schema.get_attributes()"
   ]
  },
  {
   "cell_type": "code",
   "execution_count": 21,
   "metadata": {},
   "outputs": [
    {
     "ename": "AttributeError",
     "evalue": "'SimulationSchema' object has no attribute 'final_value_source'",
     "output_type": "error",
     "traceback": [
      "\u001b[0;31m---------------------------------------------------------------------------\u001b[0m",
      "\u001b[0;31mAttributeError\u001b[0m                            Traceback (most recent call last)",
      "Cell \u001b[0;32mIn[21], line 10\u001b[0m\n\u001b[1;32m      8\u001b[0m metadata \u001b[38;5;241m=\u001b[39m {\u001b[38;5;124m\"\u001b[39m\u001b[38;5;124msubstance\u001b[39m\u001b[38;5;124m\"\u001b[39m: substance}\n\u001b[1;32m      9\u001b[0m density_schema \u001b[38;5;241m=\u001b[39m Density\u001b[38;5;241m.\u001b[39mdefault_simulation_schema()\n\u001b[0;32m---> 10\u001b[0m density_workflow \u001b[38;5;241m=\u001b[39m \u001b[43mWorkflow\u001b[49m\u001b[38;5;241;43m.\u001b[39;49m\u001b[43mfrom_schema\u001b[49m\u001b[43m(\u001b[49m\u001b[43mdensity_schema\u001b[49m\u001b[43m,\u001b[49m\u001b[43m \u001b[49m\u001b[43mmetadata\u001b[49m\u001b[43m)\u001b[49m\n",
      "File \u001b[0;32m/localhome/cschiebroek/.conda/envs/openff-evaluator/lib/python3.11/site-packages/openff/evaluator/workflow/workflow.py:781\u001b[0m, in \u001b[0;36mWorkflow.from_schema\u001b[0;34m(cls, schema, metadata, unique_id)\u001b[0m\n\u001b[1;32m    762\u001b[0m \u001b[38;5;250m\u001b[39m\u001b[38;5;124;03m\"\"\"Creates a workflow from its schema blueprint, and the associated metadata.\u001b[39;00m\n\u001b[1;32m    763\u001b[0m \n\u001b[1;32m    764\u001b[0m \u001b[38;5;124;03mParameters\u001b[39;00m\n\u001b[0;32m   (...)\u001b[0m\n\u001b[1;32m    778\u001b[0m \u001b[38;5;124;03m    The created workflow.\u001b[39;00m\n\u001b[1;32m    779\u001b[0m \u001b[38;5;124;03m\"\"\"\u001b[39;00m\n\u001b[1;32m    780\u001b[0m workflow \u001b[38;5;241m=\u001b[39m \u001b[38;5;28mcls\u001b[39m(metadata, unique_id)\n\u001b[0;32m--> 781\u001b[0m \u001b[43mworkflow\u001b[49m\u001b[38;5;241;43m.\u001b[39;49m\u001b[43mschema\u001b[49m \u001b[38;5;241m=\u001b[39m schema\n\u001b[1;32m    783\u001b[0m \u001b[38;5;28;01mreturn\u001b[39;00m workflow\n",
      "File \u001b[0;32m/localhome/cschiebroek/.conda/envs/openff-evaluator/lib/python3.11/site-packages/openff/evaluator/workflow/workflow.py:67\u001b[0m, in \u001b[0;36mWorkflow.schema\u001b[0;34m(self, value)\u001b[0m\n\u001b[1;32m     65\u001b[0m \u001b[38;5;129m@schema\u001b[39m\u001b[38;5;241m.\u001b[39msetter\n\u001b[1;32m     66\u001b[0m \u001b[38;5;28;01mdef\u001b[39;00m \u001b[38;5;21mschema\u001b[39m(\u001b[38;5;28mself\u001b[39m, value):\n\u001b[0;32m---> 67\u001b[0m     \u001b[38;5;28;43mself\u001b[39;49m\u001b[38;5;241;43m.\u001b[39;49m\u001b[43m_set_schema\u001b[49m\u001b[43m(\u001b[49m\u001b[43mvalue\u001b[49m\u001b[43m)\u001b[49m\n",
      "File \u001b[0;32m/localhome/cschiebroek/.conda/envs/openff-evaluator/lib/python3.11/site-packages/openff/evaluator/workflow/workflow.py:126\u001b[0m, in \u001b[0;36mWorkflow._set_schema\u001b[0;34m(self, schema)\u001b[0m\n\u001b[1;32m    123\u001b[0m \u001b[38;5;66;03m# Copy the schema.\u001b[39;00m\n\u001b[1;32m    124\u001b[0m schema \u001b[38;5;241m=\u001b[39m WorkflowSchema\u001b[38;5;241m.\u001b[39mparse_json(schema\u001b[38;5;241m.\u001b[39mjson())\n\u001b[0;32m--> 126\u001b[0m \u001b[38;5;28;01mif\u001b[39;00m \u001b[43mschema\u001b[49m\u001b[38;5;241;43m.\u001b[39;49m\u001b[43mfinal_value_source\u001b[49m \u001b[38;5;241m!=\u001b[39m UNDEFINED:\n\u001b[1;32m    128\u001b[0m     \u001b[38;5;28mself\u001b[39m\u001b[38;5;241m.\u001b[39m_final_value_source \u001b[38;5;241m=\u001b[39m schema\u001b[38;5;241m.\u001b[39mfinal_value_source\n\u001b[1;32m    129\u001b[0m     \u001b[38;5;28mself\u001b[39m\u001b[38;5;241m.\u001b[39m_final_value_source\u001b[38;5;241m.\u001b[39mappend_uuid(\u001b[38;5;28mself\u001b[39m\u001b[38;5;241m.\u001b[39muuid)\n",
      "\u001b[0;31mAttributeError\u001b[0m: 'SimulationSchema' object has no attribute 'final_value_source'"
     ]
    }
   ],
   "source": [
    "from openff.evaluator.workflow import Workflow\n",
    "from openff.evaluator.substances import Substance\n",
    "from openff.evaluator.substances import Component\n",
    "from openff.evaluator.substances import MoleFraction\n",
    "smiles = \"CCO\"\n",
    "substance = Substance()\n",
    "substance.add_component(Component(smiles=smiles), MoleFraction(1.0))\n",
    "metadata = {\"substance\": substance}\n",
    "density_schema = Density.default_simulation_schema()\n",
    "density_workflow = Workflow.from_schema(density_schema, metadata)"
   ]
  },
  {
   "cell_type": "code",
   "execution_count": null,
   "metadata": {},
   "outputs": [
    {
     "ename": "AttributeError",
     "evalue": "'SimulationSchema' object has no attribute 'final_value_source'",
     "output_type": "error",
     "traceback": [
      "\u001b[0;31m---------------------------------------------------------------------------\u001b[0m",
      "\u001b[0;31mAttributeError\u001b[0m                            Traceback (most recent call last)",
      "Cell \u001b[0;32mIn[42], line 2\u001b[0m\n\u001b[1;32m      1\u001b[0m \u001b[38;5;66;03m# Step 9: Create the workflow from schema\u001b[39;00m\n\u001b[0;32m----> 2\u001b[0m workflow \u001b[38;5;241m=\u001b[39m \u001b[43mWorkflow\u001b[49m\u001b[38;5;241;43m.\u001b[39;49m\u001b[43mfrom_schema\u001b[49m\u001b[43m(\u001b[49m\u001b[43mdensity_schema\u001b[49m\u001b[43m,\u001b[49m\u001b[43m \u001b[49m\u001b[43mmetadata\u001b[49m\u001b[38;5;241;43m=\u001b[39;49m\u001b[43mmetadata\u001b[49m\u001b[43m)\u001b[49m\n\u001b[1;32m      4\u001b[0m \u001b[38;5;66;03m# Step 10: Execute the workflow\u001b[39;00m\n\u001b[1;32m      5\u001b[0m workflow\u001b[38;5;241m.\u001b[39mexecute()\n",
      "File \u001b[0;32m/localhome/cschiebroek/MDFP_VP/mdfptools/carl/openff-evaluator/openff/evaluator/workflow/workflow.py:751\u001b[0m, in \u001b[0;36mWorkflow.from_schema\u001b[0;34m(cls, schema, metadata, unique_id)\u001b[0m\n\u001b[1;32m    732\u001b[0m \u001b[38;5;250m\u001b[39m\u001b[38;5;124;03m\"\"\"Creates a workflow from its schema blueprint, and the associated metadata.\u001b[39;00m\n\u001b[1;32m    733\u001b[0m \n\u001b[1;32m    734\u001b[0m \u001b[38;5;124;03mParameters\u001b[39;00m\n\u001b[0;32m   (...)\u001b[0m\n\u001b[1;32m    748\u001b[0m \u001b[38;5;124;03m    The created workflow.\u001b[39;00m\n\u001b[1;32m    749\u001b[0m \u001b[38;5;124;03m\"\"\"\u001b[39;00m\n\u001b[1;32m    750\u001b[0m workflow \u001b[38;5;241m=\u001b[39m \u001b[38;5;28mcls\u001b[39m(metadata, unique_id)\n\u001b[0;32m--> 751\u001b[0m \u001b[43mworkflow\u001b[49m\u001b[38;5;241;43m.\u001b[39;49m\u001b[43mschema\u001b[49m \u001b[38;5;241m=\u001b[39m schema\n\u001b[1;32m    753\u001b[0m \u001b[38;5;28;01mreturn\u001b[39;00m workflow\n",
      "File \u001b[0;32m/localhome/cschiebroek/MDFP_VP/mdfptools/carl/openff-evaluator/openff/evaluator/workflow/workflow.py:68\u001b[0m, in \u001b[0;36mWorkflow.schema\u001b[0;34m(self, value)\u001b[0m\n\u001b[1;32m     66\u001b[0m \u001b[38;5;129m@schema\u001b[39m\u001b[38;5;241m.\u001b[39msetter\n\u001b[1;32m     67\u001b[0m \u001b[38;5;28;01mdef\u001b[39;00m \u001b[38;5;21mschema\u001b[39m(\u001b[38;5;28mself\u001b[39m, value):\n\u001b[0;32m---> 68\u001b[0m     \u001b[38;5;28;43mself\u001b[39;49m\u001b[38;5;241;43m.\u001b[39;49m\u001b[43m_set_schema\u001b[49m\u001b[43m(\u001b[49m\u001b[43mvalue\u001b[49m\u001b[43m)\u001b[49m\n",
      "File \u001b[0;32m/localhome/cschiebroek/MDFP_VP/mdfptools/carl/openff-evaluator/openff/evaluator/workflow/workflow.py:127\u001b[0m, in \u001b[0;36mWorkflow._set_schema\u001b[0;34m(self, schema)\u001b[0m\n\u001b[1;32m    124\u001b[0m \u001b[38;5;66;03m# Copy the schema.\u001b[39;00m\n\u001b[1;32m    125\u001b[0m schema \u001b[38;5;241m=\u001b[39m WorkflowSchema\u001b[38;5;241m.\u001b[39mparse_json(schema\u001b[38;5;241m.\u001b[39mjson())\n\u001b[0;32m--> 127\u001b[0m \u001b[38;5;28;01mif\u001b[39;00m \u001b[43mschema\u001b[49m\u001b[38;5;241;43m.\u001b[39;49m\u001b[43mfinal_value_source\u001b[49m \u001b[38;5;241m!=\u001b[39m UNDEFINED:\n\u001b[1;32m    128\u001b[0m     \u001b[38;5;28mself\u001b[39m\u001b[38;5;241m.\u001b[39m_final_value_source \u001b[38;5;241m=\u001b[39m schema\u001b[38;5;241m.\u001b[39mfinal_value_source\n\u001b[1;32m    129\u001b[0m     \u001b[38;5;28mself\u001b[39m\u001b[38;5;241m.\u001b[39m_final_value_source\u001b[38;5;241m.\u001b[39mappend_uuid(\u001b[38;5;28mself\u001b[39m\u001b[38;5;241m.\u001b[39muuid)\n",
      "\u001b[0;31mAttributeError\u001b[0m: 'SimulationSchema' object has no attribute 'final_value_source'"
     ]
    }
   ],
   "source": [
    "# Step 9: Create the workflow from schema\n",
    "workflow = Workflow.from_schema(density_schema, metadata=metadata)\n",
    "\n",
    "# Step 10: Execute the workflow\n",
    "workflow.execute()\n"
   ]
  },
  {
   "cell_type": "code",
   "execution_count": null,
   "metadata": {},
   "outputs": [
    {
     "name": "stderr",
     "output_type": "stream",
     "text": [
      "/localhome/cschiebroek/.conda/envs/openff-evaluator/lib/python3.11/site-packages/distributed/node.py:182: UserWarning: Port 8787 is already in use.\n",
      "Perhaps you already have a cluster running?\n",
      "Hosting the HTTP server on port 45849 instead\n",
      "  warnings.warn(\n"
     ]
    },
    {
     "ename": "OSError",
     "evalue": "[Errno 98] Address already in use",
     "output_type": "error",
     "traceback": [
      "\u001b[0;31m---------------------------------------------------------------------------\u001b[0m",
      "\u001b[0;31mOSError\u001b[0m                                   Traceback (most recent call last)",
      "Cell \u001b[0;32mIn[40], line 39\u001b[0m\n\u001b[1;32m     36\u001b[0m \u001b[38;5;28;01mfrom\u001b[39;00m \u001b[38;5;21;01mopenff\u001b[39;00m\u001b[38;5;21;01m.\u001b[39;00m\u001b[38;5;21;01mevaluator\u001b[39;00m\u001b[38;5;21;01m.\u001b[39;00m\u001b[38;5;21;01mserver\u001b[39;00m \u001b[38;5;28;01mimport\u001b[39;00m EvaluatorServer\n\u001b[1;32m     38\u001b[0m evaluator_server \u001b[38;5;241m=\u001b[39m EvaluatorServer(calculation_backend\u001b[38;5;241m=\u001b[39mcalculation_backend)\n\u001b[0;32m---> 39\u001b[0m \u001b[43mevaluator_server\u001b[49m\u001b[38;5;241;43m.\u001b[39;49m\u001b[43mstart\u001b[49m\u001b[43m(\u001b[49m\u001b[43masynchronous\u001b[49m\u001b[38;5;241;43m=\u001b[39;49m\u001b[38;5;28;43;01mTrue\u001b[39;49;00m\u001b[43m)\u001b[49m\n",
      "File \u001b[0;32m/localhome/cschiebroek/MDFP_VP/mdfptools/carl/openff-evaluator/openff/evaluator/server/server.py:687\u001b[0m, in \u001b[0;36mEvaluatorServer.start\u001b[0;34m(self, asynchronous)\u001b[0m\n\u001b[1;32m    685\u001b[0m \u001b[38;5;28mself\u001b[39m\u001b[38;5;241m.\u001b[39m_socket \u001b[38;5;241m=\u001b[39m socket\u001b[38;5;241m.\u001b[39msocket(socket\u001b[38;5;241m.\u001b[39mAF_INET, socket\u001b[38;5;241m.\u001b[39mSOCK_STREAM)\n\u001b[1;32m    686\u001b[0m \u001b[38;5;28mself\u001b[39m\u001b[38;5;241m.\u001b[39m_socket\u001b[38;5;241m.\u001b[39msetsockopt(socket\u001b[38;5;241m.\u001b[39mSOL_SOCKET, socket\u001b[38;5;241m.\u001b[39mSO_REUSEADDR, \u001b[38;5;241m1\u001b[39m)\n\u001b[0;32m--> 687\u001b[0m \u001b[38;5;28;43mself\u001b[39;49m\u001b[38;5;241;43m.\u001b[39;49m\u001b[43m_socket\u001b[49m\u001b[38;5;241;43m.\u001b[39;49m\u001b[43mbind\u001b[49m\u001b[43m(\u001b[49m\u001b[43m(\u001b[49m\u001b[38;5;124;43m\"\u001b[39;49m\u001b[38;5;124;43mlocalhost\u001b[39;49m\u001b[38;5;124;43m\"\u001b[39;49m\u001b[43m,\u001b[49m\u001b[43m \u001b[49m\u001b[38;5;28;43mself\u001b[39;49m\u001b[38;5;241;43m.\u001b[39;49m\u001b[43m_port\u001b[49m\u001b[43m)\u001b[49m\u001b[43m)\u001b[49m\n\u001b[1;32m    688\u001b[0m \u001b[38;5;28mself\u001b[39m\u001b[38;5;241m.\u001b[39m_socket\u001b[38;5;241m.\u001b[39mlisten(\u001b[38;5;241m128\u001b[39m)\n\u001b[1;32m    690\u001b[0m \u001b[38;5;28;01mtry\u001b[39;00m:\n",
      "\u001b[0;31mOSError\u001b[0m: [Errno 98] Address already in use"
     ]
    }
   ],
   "source": [
    "from openff.evaluator.client import RequestOptions\n",
    "\n",
    "# Create the options which evaluator should use.\n",
    "evaluator_options = RequestOptions()\n",
    "# Choose which calculation layers to make available.\n",
    "evaluator_options.calculation_layers = [\"SimulationLayer\"]\n",
    "\n",
    "# Reduce the default number of molecules\n",
    "from openff.evaluator.properties import Density, EnthalpyOfVaporization\n",
    "\n",
    "density_schema = Density.default_simulation_schema(n_molecules=256)\n",
    "h_vap_schema = EnthalpyOfVaporization.default_simulation_schema(n_molecules=256)\n",
    "\n",
    "evaluator_options.add_schema(\"SimulationLayer\", \"Density\", density_schema)\n",
    "\n",
    "import os\n",
    "\n",
    "# Launch the calculation backend which will distribute any calculations.\n",
    "from openff.evaluator.backends import ComputeResources\n",
    "from openff.evaluator.backends.dask import DaskLocalCluster\n",
    "\n",
    "os.environ[\"CUDA_VISIBLE_DEVICES\"] = \"0\"\n",
    "\n",
    "calculation_backend = DaskLocalCluster(\n",
    "    number_of_workers=1,\n",
    "    resources_per_worker=ComputeResources(\n",
    "        number_of_threads=1,\n",
    "        number_of_gpus=1,\n",
    "        preferred_gpu_toolkit=ComputeResources.GPUToolkit.CUDA,\n",
    "    ),\n",
    ")\n",
    "calculation_backend.start()\n",
    "\n",
    "# Launch the server object which will listen for estimation requests and schedule any\n",
    "# required calculations.\n",
    "from openff.evaluator.server import EvaluatorServer\n",
    "\n",
    "evaluator_server = EvaluatorServer(calculation_backend=calculation_backend)\n",
    "evaluator_server.start(asynchronous=True)"
   ]
  },
  {
   "cell_type": "code",
   "execution_count": null,
   "metadata": {},
   "outputs": [
    {
     "ename": "ValueError",
     "evalue": "The required value attribute has not been set.",
     "output_type": "error",
     "traceback": [
      "\u001b[0;31m---------------------------------------------------------------------------\u001b[0m",
      "\u001b[0;31mValueError\u001b[0m                                Traceback (most recent call last)",
      "Cell \u001b[0;32mIn[52], line 26\u001b[0m\n\u001b[1;32m     24\u001b[0m \u001b[38;5;66;03m# Define the dataset\u001b[39;00m\n\u001b[1;32m     25\u001b[0m dataset \u001b[38;5;241m=\u001b[39m PhysicalPropertyDataSet()\n\u001b[0;32m---> 26\u001b[0m \u001b[43mdataset\u001b[49m\u001b[38;5;241;43m.\u001b[39;49m\u001b[43madd_properties\u001b[49m\u001b[43m(\u001b[49m\n\u001b[1;32m     27\u001b[0m \u001b[43m    \u001b[49m\u001b[43mDensity\u001b[49m\u001b[43m(\u001b[49m\n\u001b[1;32m     28\u001b[0m \u001b[43m        \u001b[49m\u001b[43mthermodynamic_state\u001b[49m\u001b[38;5;241;43m=\u001b[39;49m\u001b[43mthermodynamic_state\u001b[49m\u001b[43m,\u001b[49m\n\u001b[1;32m     29\u001b[0m \u001b[43m        \u001b[49m\u001b[43msubstance\u001b[49m\u001b[38;5;241;43m=\u001b[39;49m\u001b[43msubstance\u001b[49m\n\u001b[1;32m     30\u001b[0m \u001b[43m    \u001b[49m\u001b[43m)\u001b[49m\n\u001b[1;32m     31\u001b[0m \u001b[43m)\u001b[49m\n\u001b[1;32m     33\u001b[0m \u001b[38;5;66;03m# Set up the evaluator server and client\u001b[39;00m\n\u001b[1;32m     34\u001b[0m server \u001b[38;5;241m=\u001b[39m PropertyEstimatorServer()\n",
      "File \u001b[0;32m/localhome/cschiebroek/MDFP_VP/mdfptools/carl/openff-evaluator/openff/evaluator/datasets/datasets.py:284\u001b[0m, in \u001b[0;36mPhysicalPropertyDataSet.add_properties\u001b[0;34m(self, validate, *physical_properties)\u001b[0m\n\u001b[1;32m    282\u001b[0m \u001b[38;5;28;01mfor\u001b[39;00m physical_property \u001b[38;5;129;01min\u001b[39;00m physical_properties:\n\u001b[1;32m    283\u001b[0m     \u001b[38;5;28;01mif\u001b[39;00m validate:\n\u001b[0;32m--> 284\u001b[0m         \u001b[43mphysical_property\u001b[49m\u001b[38;5;241;43m.\u001b[39;49m\u001b[43mvalidate\u001b[49m\u001b[43m(\u001b[49m\u001b[43m)\u001b[49m\n\u001b[1;32m    286\u001b[0m     \u001b[38;5;28;01mif\u001b[39;00m physical_property\u001b[38;5;241m.\u001b[39mid \u001b[38;5;129;01min\u001b[39;00m all_ids:\n\u001b[1;32m    287\u001b[0m         \u001b[38;5;28;01mraise\u001b[39;00m \u001b[38;5;167;01mKeyError\u001b[39;00m(\n\u001b[1;32m    288\u001b[0m             \u001b[38;5;124mf\u001b[39m\u001b[38;5;124m\"\u001b[39m\u001b[38;5;124mA property with the unique id \u001b[39m\u001b[38;5;132;01m{\u001b[39;00mphysical_property\u001b[38;5;241m.\u001b[39mid\u001b[38;5;132;01m}\u001b[39;00m\u001b[38;5;124m already \u001b[39m\u001b[38;5;124m\"\u001b[39m\n\u001b[1;32m    289\u001b[0m             \u001b[38;5;124mf\u001b[39m\u001b[38;5;124m\"\u001b[39m\u001b[38;5;124mexists.\u001b[39m\u001b[38;5;124m\"\u001b[39m\n\u001b[1;32m    290\u001b[0m         )\n",
      "File \u001b[0;32m/localhome/cschiebroek/MDFP_VP/mdfptools/carl/openff-evaluator/openff/evaluator/datasets/datasets.py:202\u001b[0m, in \u001b[0;36mPhysicalProperty.validate\u001b[0;34m(self, attribute_type)\u001b[0m\n\u001b[1;32m    201\u001b[0m \u001b[38;5;28;01mdef\u001b[39;00m \u001b[38;5;21mvalidate\u001b[39m(\u001b[38;5;28mself\u001b[39m, attribute_type\u001b[38;5;241m=\u001b[39m\u001b[38;5;28;01mNone\u001b[39;00m):\n\u001b[0;32m--> 202\u001b[0m     \u001b[38;5;28;43msuper\u001b[39;49m\u001b[43m(\u001b[49m\u001b[43mPhysicalProperty\u001b[49m\u001b[43m,\u001b[49m\u001b[43m \u001b[49m\u001b[38;5;28;43mself\u001b[39;49m\u001b[43m)\u001b[49m\u001b[38;5;241;43m.\u001b[39;49m\u001b[43mvalidate\u001b[49m\u001b[43m(\u001b[49m\u001b[43mattribute_type\u001b[49m\u001b[43m)\u001b[49m\n\u001b[1;32m    204\u001b[0m     \u001b[38;5;28;01massert\u001b[39;00m \u001b[38;5;28mself\u001b[39m\u001b[38;5;241m.\u001b[39mvalue\u001b[38;5;241m.\u001b[39munits\u001b[38;5;241m.\u001b[39mdimensionality \u001b[38;5;241m==\u001b[39m \u001b[38;5;28mself\u001b[39m\u001b[38;5;241m.\u001b[39mdefault_unit()\u001b[38;5;241m.\u001b[39mdimensionality\n\u001b[1;32m    206\u001b[0m     \u001b[38;5;28;01mif\u001b[39;00m \u001b[38;5;28mself\u001b[39m\u001b[38;5;241m.\u001b[39muncertainty \u001b[38;5;241m!=\u001b[39m UNDEFINED:\n",
      "File \u001b[0;32m/localhome/cschiebroek/MDFP_VP/mdfptools/carl/openff-evaluator/openff/evaluator/attributes/attributes.py:80\u001b[0m, in \u001b[0;36mAttributeClass.validate\u001b[0;34m(self, attribute_type)\u001b[0m\n\u001b[1;32m     77\u001b[0m     \u001b[38;5;28;01mcontinue\u001b[39;00m\n\u001b[1;32m     79\u001b[0m \u001b[38;5;28;01mif\u001b[39;00m \u001b[38;5;129;01mnot\u001b[39;00m attribute\u001b[38;5;241m.\u001b[39moptional \u001b[38;5;129;01mand\u001b[39;00m attribute_value \u001b[38;5;241m==\u001b[39m UNDEFINED:\n\u001b[0;32m---> 80\u001b[0m     \u001b[38;5;28;01mraise\u001b[39;00m \u001b[38;5;167;01mValueError\u001b[39;00m(\u001b[38;5;124mf\u001b[39m\u001b[38;5;124m\"\u001b[39m\u001b[38;5;124mThe required \u001b[39m\u001b[38;5;132;01m{\u001b[39;00mname\u001b[38;5;132;01m}\u001b[39;00m\u001b[38;5;124m attribute has not been set.\u001b[39m\u001b[38;5;124m\"\u001b[39m)\n\u001b[1;32m     82\u001b[0m iterable_values \u001b[38;5;241m=\u001b[39m []\n\u001b[1;32m     84\u001b[0m \u001b[38;5;28;01mif\u001b[39;00m \u001b[38;5;28misinstance\u001b[39m(attribute_value, AttributeClass):\n",
      "\u001b[0;31mValueError\u001b[0m: The required value attribute has not been set."
     ]
    }
   ],
   "source": [
    "from openff.evaluator import unit\n",
    "from openff.evaluator.backends.dask import DaskLocalCluster\n",
    "from openff.evaluator.client import RequestOptions, EvaluatorClient\n",
    "from openff.evaluator.datasets import PhysicalPropertyDataSet\n",
    "from openff.evaluator.datasets import PhysicalProperty\n",
    "from openff.evaluator.forcefield import ParameterGradient\n",
    "from openff.evaluator.layers.simulation import SimulationLayer, SimulationSchema\n",
    "\n",
    "from openff.evaluator.protocols.groups import ProtocolGroup\n",
    "from openff.evaluator.substances import Substance\n",
    "from openff.evaluator.thermodynamics import ThermodynamicState\n",
    "\n",
    "# Define the substance (e.g., ethanol)\n",
    "smiles = \"CCO\"\n",
    "substance = Substance()\n",
    "substance.add_component(Component(smiles=smiles), MoleFraction(1.0))\n",
    "\n",
    "# Define the thermodynamic state (e.g., 298.15 K and 1 atm)\n",
    "thermodynamic_state = ThermodynamicState(\n",
    "    temperature=298.15 * unit.kelvin,\n",
    "    pressure=1.0 * unit.atmosphere\n",
    ")\n",
    "\n",
    "# Define the dataset\n",
    "dataset = PhysicalPropertyDataSet()\n",
    "dataset.add_properties(\n",
    "    DataSetProperty(\n",
    "        thermodynamic_state=thermodynamic_state,\n",
    "        substance=substance,\n",
    "        property_type=\"Density\"\n",
    "    )\n",
    ")\n",
    "\n",
    "# Set up the evaluator server and client\n",
    "server = PropertyEstimatorServer()\n",
    "cluster = DaskLocalCluster()\n",
    "client = EvaluatorClient(server)\n",
    "\n",
    "# Define the request options\n",
    "options = RequestOptions()\n",
    "options.calculation_layers = [\n",
    "    SimulationLayer,  # Run MD simulations\n",
    "]\n",
    "\n",
    "# Request the estimation of the density\n",
    "request = client.request_estimate(\n",
    "    property_set=dataset,\n",
    "    options=options\n",
    ")\n",
    "\n",
    "# Wait until the estimate has completed\n",
    "results = request.results()\n",
    "\n",
    "# Check for any errors\n",
    "if results.errors:\n",
    "    raise RuntimeError(\"The estimation failed.\")\n",
    "\n",
    "# Extract the estimated density\n",
    "estimated_density = results.estimated_properties[0].value.to(unit.gram / unit.milliliter)\n",
    "\n",
    "print(f\"Estimated density: {estimated_density}\")\n",
    "\n",
    "# Now perform a 5 ns production simulation\n",
    "production_protocol = ProtocolGroup()\n",
    "production_protocol.add_protocol(\n",
    "    SimulationLayer(\n",
    "        production_time=5.0 * unit.nanoseconds,\n",
    "        thermodynamic_state=thermodynamic_state,\n",
    "        substance=substance\n",
    "    ),\n",
    "    protocol_id=\"production_simulation\"\n",
    ")\n",
    "\n",
    "# Execute the production simulation\n",
    "production_request = client.request_estimate(\n",
    "    property_set=dataset,\n",
    "    options=RequestOptions(calculation_layers=[production_protocol])\n",
    ")\n",
    "\n",
    "# Wait until the production simulation has completed\n",
    "production_results = production_request.results()\n",
    "\n",
    "# Check for any errors\n",
    "if production_results.errors:\n",
    "    raise RuntimeError(\"The production simulation failed.\")\n",
    "\n",
    "print(\"Production simulation completed successfully.\")\n"
   ]
  },
  {
   "cell_type": "code",
   "execution_count": null,
   "metadata": {},
   "outputs": [
    {
     "data": {
      "text/plain": [
       "<PhysicalPropertyDataSet n_properties=4 n_substances=2 n_sources=4>"
      ]
     },
     "execution_count": 53,
     "metadata": {},
     "output_type": "execute_result"
    }
   ],
   "source": [
    "import pathlib\n",
    "\n",
    "from openff.evaluator.datasets import PhysicalPropertyDataSet\n",
    "\n",
    "data_set_path = \"filtered_data_set.json\"\n",
    "\n",
    "\n",
    "# If you have not yet completed that tutorial or do not have the data set file\n",
    "# available, this tutorial will use a copies provided by the framework\n",
    "\n",
    "if not pathlib.Path(data_set_path).exists():\n",
    "    from openff.evaluator.utils import get_data_filename\n",
    "\n",
    "    data_set_path = get_data_filename(\"tutorials/tutorial01/filtered_data_set.json\")\n",
    "\n",
    "data_set = PhysicalPropertyDataSet.from_json(data_set_path)\n",
    "data_set"
   ]
  },
  {
   "cell_type": "code",
   "execution_count": null,
   "metadata": {},
   "outputs": [
    {
     "data": {
      "text/html": [
       "<div>\n",
       "<style scoped>\n",
       "    .dataframe tbody tr th:only-of-type {\n",
       "        vertical-align: middle;\n",
       "    }\n",
       "\n",
       "    .dataframe tbody tr th {\n",
       "        vertical-align: top;\n",
       "    }\n",
       "\n",
       "    .dataframe thead th {\n",
       "        text-align: right;\n",
       "    }\n",
       "</style>\n",
       "<table border=\"1\" class=\"dataframe\">\n",
       "  <thead>\n",
       "    <tr style=\"text-align: right;\">\n",
       "      <th></th>\n",
       "      <th>Id</th>\n",
       "      <th>Temperature (K)</th>\n",
       "      <th>Pressure (kPa)</th>\n",
       "      <th>Phase</th>\n",
       "      <th>N Components</th>\n",
       "      <th>Component 1</th>\n",
       "      <th>Role 1</th>\n",
       "      <th>Mole Fraction 1</th>\n",
       "      <th>Exact Amount 1</th>\n",
       "      <th>Density Value (g / ml)</th>\n",
       "      <th>Density Uncertainty (g / ml)</th>\n",
       "      <th>Source</th>\n",
       "    </tr>\n",
       "  </thead>\n",
       "  <tbody>\n",
       "    <tr>\n",
       "      <th>0</th>\n",
       "      <td>ae520b7a60084133bba8f8ee6eb8d8b5</td>\n",
       "      <td>298.15</td>\n",
       "      <td>101.325</td>\n",
       "      <td>Liquid</td>\n",
       "      <td>1</td>\n",
       "      <td>CC(C)O</td>\n",
       "      <td>Solvent</td>\n",
       "      <td>1.0</td>\n",
       "      <td>None</td>\n",
       "      <td>NaN</td>\n",
       "      <td>NaN</td>\n",
       "      <td>NaN</td>\n",
       "    </tr>\n",
       "  </tbody>\n",
       "</table>\n",
       "</div>"
      ],
      "text/plain": [
       "                                 Id  Temperature (K)  Pressure (kPa)   Phase  \\\n",
       "0  ae520b7a60084133bba8f8ee6eb8d8b5           298.15         101.325  Liquid   \n",
       "\n",
       "   N Components Component 1   Role 1  Mole Fraction 1 Exact Amount 1  \\\n",
       "0             1      CC(C)O  Solvent              1.0           None   \n",
       "\n",
       "   Density Value (g / ml)  Density Uncertainty (g / ml)  Source  \n",
       "0                     NaN                           NaN     NaN  "
      ]
     },
     "execution_count": 63,
     "metadata": {},
     "output_type": "execute_result"
    }
   ],
   "source": [
    "import numpy as np\n",
    "data_set.to_pandas().head()\n",
    "#keep only the first entry\n",
    "data_set_pd = data_set.to_pandas().head(1)\n",
    "data_set_pd\n",
    "#remove columns EnthalpyOfVaporization and ExcessMolarVolume\n",
    "data_set_pd = data_set_pd.drop(columns=['EnthalpyOfVaporization Value (kJ / mol)','EnthalpyOfVaporization Uncertainty (kJ / mol)'])\n",
    "#set Density Value and uncertainty to None\n",
    "data_set_pd['Density Value (g / ml)'] = np.nan\n",
    "data_set_pd['Density Uncertainty (g / ml)'] = np.nan\n",
    "data_set_pd['Source'] = np.nan\n",
    "data_set_pd\n"
   ]
  },
  {
   "cell_type": "code",
   "execution_count": null,
   "metadata": {},
   "outputs": [
    {
     "data": {
      "text/plain": [
       "<PhysicalPropertyDataSet n_properties=0 n_substances=0 n_sources=0>"
      ]
     },
     "execution_count": 80,
     "metadata": {},
     "output_type": "execute_result"
    }
   ],
   "source": [
    "data_set = PhysicalPropertyDataSet.from_pandas(data_set_pd)\n",
    "data_set"
   ]
  },
  {
   "cell_type": "code",
   "execution_count": null,
   "metadata": {},
   "outputs": [],
   "source": [
    "from openff.evaluator.properties import Density, EnthalpyOfVaporization\n",
    "\n",
    "density_schema = Density.default_simulation_schema(n_molecules=256)"
   ]
  },
  {
   "cell_type": "code",
   "execution_count": null,
   "metadata": {},
   "outputs": [],
   "source": [
    "from openff.evaluator.client import RequestOptions\n",
    "\n",
    "# Create an options object which defines how the data set should be estimated.\n",
    "estimation_options = RequestOptions()\n",
    "estimation_options.calculation_layers = [\"SimulationLayer\"]\n",
    "estimation_options.add_schema(\"SimulationLayer\", \"Density\", density_schema)\n"
   ]
  },
  {
   "cell_type": "code",
   "execution_count": null,
   "metadata": {},
   "outputs": [
    {
     "name": "stderr",
     "output_type": "stream",
     "text": [
      "/localhome/cschiebroek/.conda/envs/openff-evaluator/lib/python3.11/site-packages/distributed/node.py:182: UserWarning: Port 8787 is already in use.\n",
      "Perhaps you already have a cluster running?\n",
      "Hosting the HTTP server on port 33593 instead\n",
      "  warnings.warn(\n"
     ]
    }
   ],
   "source": [
    "import os\n",
    "\n",
    "from openff.evaluator.backends import ComputeResources\n",
    "from openff.evaluator.backends.dask import DaskLocalCluster\n",
    "\n",
    "os.environ[\"CUDA_VISIBLE_DEVICES\"] = \"0\"\n",
    "\n",
    "calculation_backend = DaskLocalCluster(\n",
    "    number_of_workers=1,\n",
    "    resources_per_worker=ComputeResources(\n",
    "        number_of_threads=1,\n",
    "        number_of_gpus=1,\n",
    "        preferred_gpu_toolkit=ComputeResources.GPUToolkit.CUDA,\n",
    "    ),\n",
    ")\n",
    "calculation_backend.start()"
   ]
  },
  {
   "cell_type": "code",
   "execution_count": null,
   "metadata": {},
   "outputs": [
    {
     "ename": "OSError",
     "evalue": "[Errno 98] Address already in use",
     "output_type": "error",
     "traceback": [
      "\u001b[0;31m---------------------------------------------------------------------------\u001b[0m",
      "\u001b[0;31mOSError\u001b[0m                                   Traceback (most recent call last)",
      "Cell \u001b[0;32mIn[70], line 5\u001b[0m\n\u001b[1;32m      3\u001b[0m evaluator_server \u001b[38;5;241m=\u001b[39m EvaluatorServer(calculation_backend\u001b[38;5;241m=\u001b[39mcalculation_backend)\n\u001b[1;32m      4\u001b[0m \u001b[38;5;66;03m#stop the server\u001b[39;00m\n\u001b[0;32m----> 5\u001b[0m \u001b[43mevaluator_server\u001b[49m\u001b[38;5;241;43m.\u001b[39;49m\u001b[43mstart\u001b[49m\u001b[43m(\u001b[49m\u001b[43masynchronous\u001b[49m\u001b[38;5;241;43m=\u001b[39;49m\u001b[38;5;28;43;01mTrue\u001b[39;49;00m\u001b[43m)\u001b[49m\n\u001b[1;32m      6\u001b[0m evaluator_server\u001b[38;5;241m.\u001b[39mstop()\n",
      "File \u001b[0;32m/localhome/cschiebroek/MDFP_VP/mdfptools/carl/openff-evaluator/openff/evaluator/server/server.py:687\u001b[0m, in \u001b[0;36mEvaluatorServer.start\u001b[0;34m(self, asynchronous)\u001b[0m\n\u001b[1;32m    685\u001b[0m \u001b[38;5;28mself\u001b[39m\u001b[38;5;241m.\u001b[39m_socket \u001b[38;5;241m=\u001b[39m socket\u001b[38;5;241m.\u001b[39msocket(socket\u001b[38;5;241m.\u001b[39mAF_INET, socket\u001b[38;5;241m.\u001b[39mSOCK_STREAM)\n\u001b[1;32m    686\u001b[0m \u001b[38;5;28mself\u001b[39m\u001b[38;5;241m.\u001b[39m_socket\u001b[38;5;241m.\u001b[39msetsockopt(socket\u001b[38;5;241m.\u001b[39mSOL_SOCKET, socket\u001b[38;5;241m.\u001b[39mSO_REUSEADDR, \u001b[38;5;241m1\u001b[39m)\n\u001b[0;32m--> 687\u001b[0m \u001b[38;5;28;43mself\u001b[39;49m\u001b[38;5;241;43m.\u001b[39;49m\u001b[43m_socket\u001b[49m\u001b[38;5;241;43m.\u001b[39;49m\u001b[43mbind\u001b[49m\u001b[43m(\u001b[49m\u001b[43m(\u001b[49m\u001b[38;5;124;43m\"\u001b[39;49m\u001b[38;5;124;43mlocalhost\u001b[39;49m\u001b[38;5;124;43m\"\u001b[39;49m\u001b[43m,\u001b[49m\u001b[43m \u001b[49m\u001b[38;5;28;43mself\u001b[39;49m\u001b[38;5;241;43m.\u001b[39;49m\u001b[43m_port\u001b[49m\u001b[43m)\u001b[49m\u001b[43m)\u001b[49m\n\u001b[1;32m    688\u001b[0m \u001b[38;5;28mself\u001b[39m\u001b[38;5;241m.\u001b[39m_socket\u001b[38;5;241m.\u001b[39mlisten(\u001b[38;5;241m128\u001b[39m)\n\u001b[1;32m    690\u001b[0m \u001b[38;5;28;01mtry\u001b[39;00m:\n",
      "\u001b[0;31mOSError\u001b[0m: [Errno 98] Address already in use"
     ]
    }
   ],
   "source": [
    "from openff.evaluator.server import EvaluatorServer\n",
    "\n",
    "evaluator_server = EvaluatorServer(calculation_backend=calculation_backend)\n",
    "#stop the server\n",
    "evaluator_server.start(asynchronous=True)\n",
    "evaluator_server.stop()"
   ]
  },
  {
   "cell_type": "code",
   "execution_count": null,
   "metadata": {},
   "outputs": [],
   "source": [
    "from openff.evaluator.client import EvaluatorClient\n",
    "\n",
    "evaluator_client = EvaluatorClient()\n",
    "\n",
    "request, exception = evaluator_client.request_estimate(\n",
    "    property_set=data_set,\n",
    "    force_field_source=force_field_source,\n",
    "    options=estimation_options,\n",
    ")\n",
    "\n",
    "assert exception is None"
   ]
  },
  {
   "cell_type": "code",
   "execution_count": null,
   "metadata": {},
   "outputs": [
    {
     "data": {
      "text/html": [
       "<div>\n",
       "<style scoped>\n",
       "    .dataframe tbody tr th:only-of-type {\n",
       "        vertical-align: middle;\n",
       "    }\n",
       "\n",
       "    .dataframe tbody tr th {\n",
       "        vertical-align: top;\n",
       "    }\n",
       "\n",
       "    .dataframe thead th {\n",
       "        text-align: right;\n",
       "    }\n",
       "</style>\n",
       "<table border=\"1\" class=\"dataframe\">\n",
       "  <thead>\n",
       "    <tr style=\"text-align: right;\">\n",
       "      <th></th>\n",
       "    </tr>\n",
       "  </thead>\n",
       "  <tbody>\n",
       "  </tbody>\n",
       "</table>\n",
       "</div>"
      ],
      "text/plain": [
       "Empty DataFrame\n",
       "Columns: []\n",
       "Index: []"
      ]
     },
     "execution_count": 78,
     "metadata": {},
     "output_type": "execute_result"
    }
   ],
   "source": [
    "data_set.to_pandas().head()"
   ]
  },
  {
   "cell_type": "code",
   "execution_count": null,
   "metadata": {},
   "outputs": [],
   "source": [
    "# Wait for the results.\n",
    "results, exception = request.results(synchronous=True, polling_interval=30)\n",
    "assert exception is None"
   ]
  },
  {
   "cell_type": "code",
   "execution_count": null,
   "metadata": {},
   "outputs": [
    {
     "name": "stdout",
     "output_type": "stream",
     "text": [
      "0\n",
      "0\n",
      "4\n",
      "4\n"
     ]
    }
   ],
   "source": [
    "print(len(results.queued_properties))\n",
    "\n",
    "print(len(results.estimated_properties))\n",
    "\n",
    "print(len(results.unsuccessful_properties))\n",
    "print(len(results.exceptions))"
   ]
  }
 ],
 "metadata": {
  "kernelspec": {
   "display_name": "openff-evaluator",
   "language": "python",
   "name": "python3"
  },
  "language_info": {
   "codemirror_mode": {
    "name": "ipython",
    "version": 3
   },
   "file_extension": ".py",
   "mimetype": "text/x-python",
   "name": "python",
   "nbconvert_exporter": "python",
   "pygments_lexer": "ipython3",
   "version": "3.1.-1"
  }
 },
 "nbformat": 4,
 "nbformat_minor": 2
}
